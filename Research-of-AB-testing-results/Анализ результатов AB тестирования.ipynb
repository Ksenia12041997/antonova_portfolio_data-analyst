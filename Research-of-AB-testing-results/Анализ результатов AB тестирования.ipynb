{
 "cells": [
  {
   "cell_type": "markdown",
   "metadata": {},
   "source": [
    "# Анализ результатов AB тестирования"
   ]
  },
  {
   "cell_type": "markdown",
   "metadata": {},
   "source": [
    "Цель - оценить корректность проведения теста и проанализировать его результаты.\n",
    "\n",
    "**Техническое задание**\n",
    "\n",
    "- Название теста: `recommender_system_test`;\n",
    "- группы: А — контрольная, B — новая платёжная воронка;\n",
    "- дата запуска: 2020-12-07;\n",
    "- дата остановки набора новых пользователей: 2020-12-21;\n",
    "- дата остановки: 2021-01-04;\n",
    "- аудитория: в тест должно быть отобрано 15% новых пользователей из региона EU;\n",
    "- назначение теста: тестирование изменений, связанных с внедрением улучшенной рекомендательной системы;\n",
    "- ожидаемое количество участников теста: 6000.\n",
    "- ожидаемый эффект: за 14 дней с момента регистрации пользователи покажут улучшение каждой метрики не менее, чем на 10%:\n",
    "                   - конверсии в просмотр карточек товаров — событие `product_page`,\n",
    "                   - просмотры корзины — `product_cart`,\n",
    "                   - покупки — `purchase`"
   ]
  },
  {
   "cell_type": "code",
   "execution_count": 1,
   "metadata": {},
   "outputs": [
    {
     "name": "stdout",
     "output_type": "stream",
     "text": [
      "Requirement already satisfied: kaleido in /opt/conda/lib/python3.9/site-packages (0.2.1)\r\n"
     ]
    }
   ],
   "source": [
    "# Импортириуем все необходимые библиотеки\n",
    "\n",
    "import pandas as pd\n",
    "import numpy as np\n",
    "import matplotlib.pyplot as plt\n",
    "import seaborn as sns\n",
    "from datetime import datetime, timedelta\n",
    "import math\n",
    "from scipy import stats as st\n",
    "import plotly.express as px\n",
    "from plotly import graph_objects as go\n",
    "from plotly.subplots import make_subplots\n",
    "import math as mth\n",
    "\n",
    "!pip install kaleido\n",
    "import plotly.io as pio\n",
    "pio.renderers.default = \"svg\"\n",
    "svg_renderer = pio.renderers[\"svg\"]\n",
    "svg_renderer.scale = 1.2"
   ]
  },
  {
   "cell_type": "markdown",
   "metadata": {},
   "source": [
    "## Загрузка данных и обзор"
   ]
  },
  {
   "cell_type": "code",
   "execution_count": 2,
   "metadata": {},
   "outputs": [],
   "source": [
    "#загрузка данных\n",
    "\n",
    "import pandas as pd\n",
    "\n",
    "\n",
    "marketing_events = pd.read_csv('ab_project_marketing_events.csv')\n",
    "events = pd.read_csv('final_ab_events.csv')\n",
    "new_users = pd.read_csv('final_ab_new_users.csv')\n",
    "participants = pd.read_csv('final_ab_participants.csv')"
   ]
  },
  {
   "cell_type": "code",
   "execution_count": 3,
   "metadata": {},
   "outputs": [
    {
     "data": {
      "text/html": [
       "<div>\n",
       "<style scoped>\n",
       "    .dataframe tbody tr th:only-of-type {\n",
       "        vertical-align: middle;\n",
       "    }\n",
       "\n",
       "    .dataframe tbody tr th {\n",
       "        vertical-align: top;\n",
       "    }\n",
       "\n",
       "    .dataframe thead th {\n",
       "        text-align: right;\n",
       "    }\n",
       "</style>\n",
       "<table border=\"1\" class=\"dataframe\">\n",
       "  <thead>\n",
       "    <tr style=\"text-align: right;\">\n",
       "      <th></th>\n",
       "      <th>name</th>\n",
       "      <th>regions</th>\n",
       "      <th>start_dt</th>\n",
       "      <th>finish_dt</th>\n",
       "    </tr>\n",
       "  </thead>\n",
       "  <tbody>\n",
       "    <tr>\n",
       "      <th>0</th>\n",
       "      <td>Christmas&amp;New Year Promo</td>\n",
       "      <td>EU, N.America</td>\n",
       "      <td>2020-12-25</td>\n",
       "      <td>2021-01-03</td>\n",
       "    </tr>\n",
       "    <tr>\n",
       "      <th>1</th>\n",
       "      <td>St. Valentine's Day Giveaway</td>\n",
       "      <td>EU, CIS, APAC, N.America</td>\n",
       "      <td>2020-02-14</td>\n",
       "      <td>2020-02-16</td>\n",
       "    </tr>\n",
       "    <tr>\n",
       "      <th>2</th>\n",
       "      <td>St. Patric's Day Promo</td>\n",
       "      <td>EU, N.America</td>\n",
       "      <td>2020-03-17</td>\n",
       "      <td>2020-03-19</td>\n",
       "    </tr>\n",
       "    <tr>\n",
       "      <th>3</th>\n",
       "      <td>Easter Promo</td>\n",
       "      <td>EU, CIS, APAC, N.America</td>\n",
       "      <td>2020-04-12</td>\n",
       "      <td>2020-04-19</td>\n",
       "    </tr>\n",
       "    <tr>\n",
       "      <th>4</th>\n",
       "      <td>4th of July Promo</td>\n",
       "      <td>N.America</td>\n",
       "      <td>2020-07-04</td>\n",
       "      <td>2020-07-11</td>\n",
       "    </tr>\n",
       "  </tbody>\n",
       "</table>\n",
       "</div>"
      ],
      "text/plain": [
       "                           name                   regions    start_dt  \\\n",
       "0      Christmas&New Year Promo             EU, N.America  2020-12-25   \n",
       "1  St. Valentine's Day Giveaway  EU, CIS, APAC, N.America  2020-02-14   \n",
       "2        St. Patric's Day Promo             EU, N.America  2020-03-17   \n",
       "3                  Easter Promo  EU, CIS, APAC, N.America  2020-04-12   \n",
       "4             4th of July Promo                 N.America  2020-07-04   \n",
       "\n",
       "    finish_dt  \n",
       "0  2021-01-03  \n",
       "1  2020-02-16  \n",
       "2  2020-03-19  \n",
       "3  2020-04-19  \n",
       "4  2020-07-11  "
      ]
     },
     "execution_count": 3,
     "metadata": {},
     "output_type": "execute_result"
    }
   ],
   "source": [
    "marketing_events.head()"
   ]
  },
  {
   "cell_type": "code",
   "execution_count": 4,
   "metadata": {},
   "outputs": [
    {
     "name": "stdout",
     "output_type": "stream",
     "text": [
      "<class 'pandas.core.frame.DataFrame'>\n",
      "RangeIndex: 14 entries, 0 to 13\n",
      "Data columns (total 4 columns):\n",
      " #   Column     Non-Null Count  Dtype \n",
      "---  ------     --------------  ----- \n",
      " 0   name       14 non-null     object\n",
      " 1   regions    14 non-null     object\n",
      " 2   start_dt   14 non-null     object\n",
      " 3   finish_dt  14 non-null     object\n",
      "dtypes: object(4)\n",
      "memory usage: 576.0+ bytes\n"
     ]
    }
   ],
   "source": [
    "#выведем основную информацию\n",
    "\n",
    "marketing_events.info()"
   ]
  },
  {
   "cell_type": "markdown",
   "metadata": {},
   "source": [
    "- Пропусков в данных нет;\n",
    "- Наименования столбцов приведены к нижнему регистру, не требуют корректировки;\n",
    "- Привести столбцы `start_dt`, `finish_dt` к верному типу - datetime."
   ]
  },
  {
   "cell_type": "code",
   "execution_count": 5,
   "metadata": {},
   "outputs": [
    {
     "data": {
      "text/html": [
       "<div>\n",
       "<style scoped>\n",
       "    .dataframe tbody tr th:only-of-type {\n",
       "        vertical-align: middle;\n",
       "    }\n",
       "\n",
       "    .dataframe tbody tr th {\n",
       "        vertical-align: top;\n",
       "    }\n",
       "\n",
       "    .dataframe thead th {\n",
       "        text-align: right;\n",
       "    }\n",
       "</style>\n",
       "<table border=\"1\" class=\"dataframe\">\n",
       "  <thead>\n",
       "    <tr style=\"text-align: right;\">\n",
       "      <th></th>\n",
       "      <th>user_id</th>\n",
       "      <th>event_dt</th>\n",
       "      <th>event_name</th>\n",
       "      <th>details</th>\n",
       "    </tr>\n",
       "  </thead>\n",
       "  <tbody>\n",
       "    <tr>\n",
       "      <th>0</th>\n",
       "      <td>E1BDDCE0DAFA2679</td>\n",
       "      <td>2020-12-07 20:22:03</td>\n",
       "      <td>purchase</td>\n",
       "      <td>99.99</td>\n",
       "    </tr>\n",
       "    <tr>\n",
       "      <th>1</th>\n",
       "      <td>7B6452F081F49504</td>\n",
       "      <td>2020-12-07 09:22:53</td>\n",
       "      <td>purchase</td>\n",
       "      <td>9.99</td>\n",
       "    </tr>\n",
       "    <tr>\n",
       "      <th>2</th>\n",
       "      <td>9CD9F34546DF254C</td>\n",
       "      <td>2020-12-07 12:59:29</td>\n",
       "      <td>purchase</td>\n",
       "      <td>4.99</td>\n",
       "    </tr>\n",
       "    <tr>\n",
       "      <th>3</th>\n",
       "      <td>96F27A054B191457</td>\n",
       "      <td>2020-12-07 04:02:40</td>\n",
       "      <td>purchase</td>\n",
       "      <td>4.99</td>\n",
       "    </tr>\n",
       "    <tr>\n",
       "      <th>4</th>\n",
       "      <td>1FD7660FDF94CA1F</td>\n",
       "      <td>2020-12-07 10:15:09</td>\n",
       "      <td>purchase</td>\n",
       "      <td>4.99</td>\n",
       "    </tr>\n",
       "  </tbody>\n",
       "</table>\n",
       "</div>"
      ],
      "text/plain": [
       "            user_id             event_dt event_name  details\n",
       "0  E1BDDCE0DAFA2679  2020-12-07 20:22:03   purchase    99.99\n",
       "1  7B6452F081F49504  2020-12-07 09:22:53   purchase     9.99\n",
       "2  9CD9F34546DF254C  2020-12-07 12:59:29   purchase     4.99\n",
       "3  96F27A054B191457  2020-12-07 04:02:40   purchase     4.99\n",
       "4  1FD7660FDF94CA1F  2020-12-07 10:15:09   purchase     4.99"
      ]
     },
     "execution_count": 5,
     "metadata": {},
     "output_type": "execute_result"
    }
   ],
   "source": [
    "events.head()"
   ]
  },
  {
   "cell_type": "code",
   "execution_count": 6,
   "metadata": {},
   "outputs": [
    {
     "name": "stdout",
     "output_type": "stream",
     "text": [
      "<class 'pandas.core.frame.DataFrame'>\n",
      "RangeIndex: 440317 entries, 0 to 440316\n",
      "Data columns (total 4 columns):\n",
      " #   Column      Non-Null Count   Dtype  \n",
      "---  ------      --------------   -----  \n",
      " 0   user_id     440317 non-null  object \n",
      " 1   event_dt    440317 non-null  object \n",
      " 2   event_name  440317 non-null  object \n",
      " 3   details     62740 non-null   float64\n",
      "dtypes: float64(1), object(3)\n",
      "memory usage: 13.4+ MB\n"
     ]
    }
   ],
   "source": [
    "#выведем основную информацию\n",
    "\n",
    "events.info()"
   ]
  },
  {
   "cell_type": "markdown",
   "metadata": {},
   "source": [
    "- Наблюдаются пропуски в столбце `details`;\n",
    "- Столбец `event_dt` нужно привести к типу данных datetime;\n",
    "- Все столбцы приведены к нижнему регистру, не требуют корректировки."
   ]
  },
  {
   "cell_type": "code",
   "execution_count": 7,
   "metadata": {},
   "outputs": [
    {
     "data": {
      "text/html": [
       "<div>\n",
       "<style scoped>\n",
       "    .dataframe tbody tr th:only-of-type {\n",
       "        vertical-align: middle;\n",
       "    }\n",
       "\n",
       "    .dataframe tbody tr th {\n",
       "        vertical-align: top;\n",
       "    }\n",
       "\n",
       "    .dataframe thead th {\n",
       "        text-align: right;\n",
       "    }\n",
       "</style>\n",
       "<table border=\"1\" class=\"dataframe\">\n",
       "  <thead>\n",
       "    <tr style=\"text-align: right;\">\n",
       "      <th></th>\n",
       "      <th>user_id</th>\n",
       "      <th>first_date</th>\n",
       "      <th>region</th>\n",
       "      <th>device</th>\n",
       "    </tr>\n",
       "  </thead>\n",
       "  <tbody>\n",
       "    <tr>\n",
       "      <th>0</th>\n",
       "      <td>D72A72121175D8BE</td>\n",
       "      <td>2020-12-07</td>\n",
       "      <td>EU</td>\n",
       "      <td>PC</td>\n",
       "    </tr>\n",
       "    <tr>\n",
       "      <th>1</th>\n",
       "      <td>F1C668619DFE6E65</td>\n",
       "      <td>2020-12-07</td>\n",
       "      <td>N.America</td>\n",
       "      <td>Android</td>\n",
       "    </tr>\n",
       "    <tr>\n",
       "      <th>2</th>\n",
       "      <td>2E1BF1D4C37EA01F</td>\n",
       "      <td>2020-12-07</td>\n",
       "      <td>EU</td>\n",
       "      <td>PC</td>\n",
       "    </tr>\n",
       "    <tr>\n",
       "      <th>3</th>\n",
       "      <td>50734A22C0C63768</td>\n",
       "      <td>2020-12-07</td>\n",
       "      <td>EU</td>\n",
       "      <td>iPhone</td>\n",
       "    </tr>\n",
       "    <tr>\n",
       "      <th>4</th>\n",
       "      <td>E1BDDCE0DAFA2679</td>\n",
       "      <td>2020-12-07</td>\n",
       "      <td>N.America</td>\n",
       "      <td>iPhone</td>\n",
       "    </tr>\n",
       "  </tbody>\n",
       "</table>\n",
       "</div>"
      ],
      "text/plain": [
       "            user_id  first_date     region   device\n",
       "0  D72A72121175D8BE  2020-12-07         EU       PC\n",
       "1  F1C668619DFE6E65  2020-12-07  N.America  Android\n",
       "2  2E1BF1D4C37EA01F  2020-12-07         EU       PC\n",
       "3  50734A22C0C63768  2020-12-07         EU   iPhone\n",
       "4  E1BDDCE0DAFA2679  2020-12-07  N.America   iPhone"
      ]
     },
     "execution_count": 7,
     "metadata": {},
     "output_type": "execute_result"
    }
   ],
   "source": [
    "new_users.head()"
   ]
  },
  {
   "cell_type": "code",
   "execution_count": 8,
   "metadata": {},
   "outputs": [
    {
     "name": "stdout",
     "output_type": "stream",
     "text": [
      "<class 'pandas.core.frame.DataFrame'>\n",
      "RangeIndex: 61733 entries, 0 to 61732\n",
      "Data columns (total 4 columns):\n",
      " #   Column      Non-Null Count  Dtype \n",
      "---  ------      --------------  ----- \n",
      " 0   user_id     61733 non-null  object\n",
      " 1   first_date  61733 non-null  object\n",
      " 2   region      61733 non-null  object\n",
      " 3   device      61733 non-null  object\n",
      "dtypes: object(4)\n",
      "memory usage: 1.9+ MB\n"
     ]
    }
   ],
   "source": [
    "new_users.info()"
   ]
  },
  {
   "cell_type": "markdown",
   "metadata": {},
   "source": [
    "- Пропусков в данных нет;\n",
    "- Все наименования приведены к нижнему регистру;\n",
    "- Столбец `first_date` нужно привести к типу данных - date."
   ]
  },
  {
   "cell_type": "code",
   "execution_count": 9,
   "metadata": {},
   "outputs": [
    {
     "data": {
      "text/html": [
       "<div>\n",
       "<style scoped>\n",
       "    .dataframe tbody tr th:only-of-type {\n",
       "        vertical-align: middle;\n",
       "    }\n",
       "\n",
       "    .dataframe tbody tr th {\n",
       "        vertical-align: top;\n",
       "    }\n",
       "\n",
       "    .dataframe thead th {\n",
       "        text-align: right;\n",
       "    }\n",
       "</style>\n",
       "<table border=\"1\" class=\"dataframe\">\n",
       "  <thead>\n",
       "    <tr style=\"text-align: right;\">\n",
       "      <th></th>\n",
       "      <th>user_id</th>\n",
       "      <th>group</th>\n",
       "      <th>ab_test</th>\n",
       "    </tr>\n",
       "  </thead>\n",
       "  <tbody>\n",
       "    <tr>\n",
       "      <th>0</th>\n",
       "      <td>D1ABA3E2887B6A73</td>\n",
       "      <td>A</td>\n",
       "      <td>recommender_system_test</td>\n",
       "    </tr>\n",
       "    <tr>\n",
       "      <th>1</th>\n",
       "      <td>A7A3664BD6242119</td>\n",
       "      <td>A</td>\n",
       "      <td>recommender_system_test</td>\n",
       "    </tr>\n",
       "    <tr>\n",
       "      <th>2</th>\n",
       "      <td>DABC14FDDFADD29E</td>\n",
       "      <td>A</td>\n",
       "      <td>recommender_system_test</td>\n",
       "    </tr>\n",
       "    <tr>\n",
       "      <th>3</th>\n",
       "      <td>04988C5DF189632E</td>\n",
       "      <td>A</td>\n",
       "      <td>recommender_system_test</td>\n",
       "    </tr>\n",
       "    <tr>\n",
       "      <th>4</th>\n",
       "      <td>482F14783456D21B</td>\n",
       "      <td>B</td>\n",
       "      <td>recommender_system_test</td>\n",
       "    </tr>\n",
       "  </tbody>\n",
       "</table>\n",
       "</div>"
      ],
      "text/plain": [
       "            user_id group                  ab_test\n",
       "0  D1ABA3E2887B6A73     A  recommender_system_test\n",
       "1  A7A3664BD6242119     A  recommender_system_test\n",
       "2  DABC14FDDFADD29E     A  recommender_system_test\n",
       "3  04988C5DF189632E     A  recommender_system_test\n",
       "4  482F14783456D21B     B  recommender_system_test"
      ]
     },
     "execution_count": 9,
     "metadata": {},
     "output_type": "execute_result"
    }
   ],
   "source": [
    "participants.head()"
   ]
  },
  {
   "cell_type": "code",
   "execution_count": 10,
   "metadata": {},
   "outputs": [
    {
     "name": "stdout",
     "output_type": "stream",
     "text": [
      "<class 'pandas.core.frame.DataFrame'>\n",
      "RangeIndex: 18268 entries, 0 to 18267\n",
      "Data columns (total 3 columns):\n",
      " #   Column   Non-Null Count  Dtype \n",
      "---  ------   --------------  ----- \n",
      " 0   user_id  18268 non-null  object\n",
      " 1   group    18268 non-null  object\n",
      " 2   ab_test  18268 non-null  object\n",
      "dtypes: object(3)\n",
      "memory usage: 428.3+ KB\n"
     ]
    }
   ],
   "source": [
    "participants.info()"
   ]
  },
  {
   "cell_type": "markdown",
   "metadata": {},
   "source": [
    "- Пропусков в данных нет;\n",
    "- Типы данных указаны верно;\n",
    "- Наименования приведены к нижнему регистру, не требуют корректировки."
   ]
  },
  {
   "cell_type": "markdown",
   "metadata": {},
   "source": [
    "**Вывод**\n",
    "\n",
    "- Cтолбцы, содержащие дату, необходимо привести к нужному типу.\n",
    "- Cтолбец `details` в данных о событиях содержит в себе пропуски.\n",
    "- Наименования столбцов приведены к нижнему регистру, переименований не требуют."
   ]
  },
  {
   "cell_type": "markdown",
   "metadata": {},
   "source": [
    "## Предобработка данных"
   ]
  },
  {
   "cell_type": "markdown",
   "metadata": {},
   "source": [
    "### Приведение к нужным типам данных"
   ]
  },
  {
   "cell_type": "code",
   "execution_count": 11,
   "metadata": {},
   "outputs": [],
   "source": [
    "# преобразование типов данных\n",
    "\n",
    "marketing_events['start_dt'] = pd.to_datetime(marketing_events['start_dt'])\n",
    "marketing_events['finish_dt'] = pd.to_datetime(marketing_events['finish_dt'])\n",
    "\n",
    "new_users['first_date'] = pd.to_datetime(new_users['first_date'])\n",
    "\n",
    "events['event_dt'] = pd.to_datetime(events['event_dt'], format='%Y-%m-%d %H:%M:%S')"
   ]
  },
  {
   "cell_type": "markdown",
   "metadata": {},
   "source": [
    "### Работа с дубликатами и пропусками"
   ]
  },
  {
   "cell_type": "markdown",
   "metadata": {},
   "source": [
    "Проверим данные на явные дубликаты."
   ]
  },
  {
   "cell_type": "code",
   "execution_count": 12,
   "metadata": {},
   "outputs": [
    {
     "data": {
      "text/plain": [
       "0"
      ]
     },
     "execution_count": 12,
     "metadata": {},
     "output_type": "execute_result"
    }
   ],
   "source": [
    "marketing_events.duplicated().sum()"
   ]
  },
  {
   "cell_type": "code",
   "execution_count": 13,
   "metadata": {},
   "outputs": [
    {
     "data": {
      "text/plain": [
       "0"
      ]
     },
     "execution_count": 13,
     "metadata": {},
     "output_type": "execute_result"
    }
   ],
   "source": [
    "events.duplicated().sum()"
   ]
  },
  {
   "cell_type": "code",
   "execution_count": 14,
   "metadata": {},
   "outputs": [
    {
     "data": {
      "text/plain": [
       "0"
      ]
     },
     "execution_count": 14,
     "metadata": {},
     "output_type": "execute_result"
    }
   ],
   "source": [
    "new_users.duplicated().sum()"
   ]
  },
  {
   "cell_type": "code",
   "execution_count": 15,
   "metadata": {},
   "outputs": [
    {
     "data": {
      "text/plain": [
       "0"
      ]
     },
     "execution_count": 15,
     "metadata": {},
     "output_type": "execute_result"
    }
   ],
   "source": [
    "participants.duplicated().sum()"
   ]
  },
  {
   "cell_type": "markdown",
   "metadata": {},
   "source": [
    "Явных дубликатов в данных не обнаружено. Проверим на неявные дубли."
   ]
  },
  {
   "cell_type": "code",
   "execution_count": 16,
   "metadata": {},
   "outputs": [
    {
     "data": {
      "text/plain": [
       "array([ 99.99,   9.99,   4.99, 499.99,    nan])"
      ]
     },
     "execution_count": 16,
     "metadata": {},
     "output_type": "execute_result"
    }
   ],
   "source": [
    "events['details'].unique()"
   ]
  },
  {
   "cell_type": "markdown",
   "metadata": {},
   "source": [
    "Данный столбец в основном содержит информацию о стоимости совершенных покупок, а в остальных случаях - пропуски."
   ]
  },
  {
   "cell_type": "code",
   "execution_count": 17,
   "metadata": {},
   "outputs": [
    {
     "data": {
      "text/plain": [
       "array(['recommender_system_test', 'interface_eu_test'], dtype=object)"
      ]
     },
     "execution_count": 17,
     "metadata": {},
     "output_type": "execute_result"
    }
   ],
   "source": [
    "participants['ab_test'].unique()"
   ]
  },
  {
   "cell_type": "markdown",
   "metadata": {},
   "source": [
    "Заметим, что в данных присутствует еще один тест - interface_eu_test."
   ]
  },
  {
   "cell_type": "code",
   "execution_count": 18,
   "metadata": {},
   "outputs": [
    {
     "data": {
      "text/plain": [
       "array(['A', 'B'], dtype=object)"
      ]
     },
     "execution_count": 18,
     "metadata": {},
     "output_type": "execute_result"
    }
   ],
   "source": [
    "participants['group'].unique()"
   ]
  },
  {
   "cell_type": "code",
   "execution_count": 19,
   "metadata": {},
   "outputs": [
    {
     "data": {
      "text/plain": [
       "array(['EU', 'N.America', 'APAC', 'CIS'], dtype=object)"
      ]
     },
     "execution_count": 19,
     "metadata": {},
     "output_type": "execute_result"
    }
   ],
   "source": [
    "new_users['region'].unique()"
   ]
  },
  {
   "cell_type": "markdown",
   "metadata": {},
   "source": [
    "Имеем данные по 4 регионам: 'EU', 'N.America', 'APAC', 'CIS'."
   ]
  },
  {
   "cell_type": "code",
   "execution_count": 20,
   "metadata": {},
   "outputs": [
    {
     "data": {
      "text/plain": [
       "array(['PC', 'Android', 'iPhone', 'Mac'], dtype=object)"
      ]
     },
     "execution_count": 20,
     "metadata": {},
     "output_type": "execute_result"
    }
   ],
   "source": [
    "new_users['device'].unique()"
   ]
  },
  {
   "cell_type": "markdown",
   "metadata": {},
   "source": [
    "Регистрации происходили с 4 устройств: 'PC', 'Android', 'iPhone', 'Mac'."
   ]
  },
  {
   "cell_type": "markdown",
   "metadata": {},
   "source": [
    "Неявных дублей не обнаружено. Проанализируем пропуски в столбце `details`, которые составляют 86% от всего количества данных."
   ]
  },
  {
   "cell_type": "code",
   "execution_count": 21,
   "metadata": {},
   "outputs": [
    {
     "data": {
      "text/plain": [
       "event_name\n",
       "login               0\n",
       "product_cart        0\n",
       "product_page        0\n",
       "purchase        62740\n",
       "Name: details, dtype: int64"
      ]
     },
     "execution_count": 21,
     "metadata": {},
     "output_type": "execute_result"
    }
   ],
   "source": [
    "events.groupby('event_name')['details'].count()"
   ]
  },
  {
   "cell_type": "markdown",
   "metadata": {},
   "source": [
    "Данный столбец содержит в себе дополнительные данные о событиях. Как уже было замечено выше, заполнены поля только для события `purchase`(содержат в себе данные о стоимости покупки), тогда пропуски здесь вполне могут присутствовать. Заполнять их некорректно, поэтому оставим, как есть."
   ]
  },
  {
   "cell_type": "markdown",
   "metadata": {},
   "source": [
    "**Вывод**\n",
    "\n",
    "- Явных и неявных дубликатов в данных не обнаружено;\n",
    "- Проведено преобразование типов данных к datetime в столбцах с датой и временем;\n",
    "- Были обнаружены пропуски в столбце `details` в данных о событиях. Было принято решение, что пропуски оставим, как есть, поскольку данные заполнены только для одного события (нет покупки, значит нет и стоимости).\n",
    "- Количество тестов в данных - 2 (`recommender_system_test`, `interface_eu_test`).\n",
    "- Имеем данные по 4 регионам: EU, N.America, APAC, CIS.\n",
    "- Регистрации происходили с 4 устройств: PC, Android, iPhone, Mac."
   ]
  },
  {
   "cell_type": "markdown",
   "metadata": {},
   "source": [
    "## Оценка корректности проведения теста"
   ]
  },
  {
   "cell_type": "markdown",
   "metadata": {},
   "source": [
    "### Соответствие пунктам ТЗ"
   ]
  },
  {
   "cell_type": "markdown",
   "metadata": {},
   "source": [
    "Проверим корректность всех пунктов технического задания."
   ]
  },
  {
   "cell_type": "code",
   "execution_count": 22,
   "metadata": {},
   "outputs": [
    {
     "data": {
      "text/plain": [
       "interface_eu_test          11567\n",
       "recommender_system_test     6701\n",
       "Name: ab_test, dtype: int64"
      ]
     },
     "execution_count": 22,
     "metadata": {},
     "output_type": "execute_result"
    }
   ],
   "source": [
    "#считаем количество данных по каждому тесту\n",
    "\n",
    "participants['ab_test'].value_counts()"
   ]
  },
  {
   "cell_type": "code",
   "execution_count": 23,
   "metadata": {},
   "outputs": [
    {
     "data": {
      "text/plain": [
       "A    3824\n",
       "B    2877\n",
       "Name: group, dtype: int64"
      ]
     },
     "execution_count": 23,
     "metadata": {},
     "output_type": "execute_result"
    }
   ],
   "source": [
    "#посмотрим количество записей для групп A и В для нашего теста\n",
    "\n",
    "participants.query('ab_test == \"recommender_system_test\"')['group'].value_counts()"
   ]
  },
  {
   "cell_type": "markdown",
   "metadata": {},
   "source": [
    "Название теста `recommender_system_test` совпадает с указанным в ТЗ. Группы A и B присутствуют в нашем тесте в достаточном количестве. Для нашего теста есть 6701 запись."
   ]
  },
  {
   "cell_type": "markdown",
   "metadata": {},
   "source": [
    "Проверим на соответствие дат запуска и остановки теста по ТЗ."
   ]
  },
  {
   "cell_type": "code",
   "execution_count": 24,
   "metadata": {},
   "outputs": [
    {
     "data": {
      "text/plain": [
       "Timestamp('2020-12-07 00:00:00')"
      ]
     },
     "execution_count": 24,
     "metadata": {},
     "output_type": "execute_result"
    }
   ],
   "source": [
    "new_users['first_date'].min()"
   ]
  },
  {
   "cell_type": "code",
   "execution_count": 25,
   "metadata": {},
   "outputs": [
    {
     "data": {
      "text/plain": [
       "Timestamp('2020-12-23 00:00:00')"
      ]
     },
     "execution_count": 25,
     "metadata": {},
     "output_type": "execute_result"
    }
   ],
   "source": [
    "new_users['first_date'].max()"
   ]
  },
  {
   "cell_type": "markdown",
   "metadata": {},
   "source": [
    "Дата начала регистрации новых пользователей соответствует дате запуска, указанной в ТЗ.\n",
    "\n",
    "Однако дата остановки набора новых пользователей отличается от даты, указанной в ТЗ (2020-12-21) на 2 дня. Это означает, что у некоторых пользователей лайфтайм выйдет более 14 дней, что может повлиять на результаты исследования."
   ]
  },
  {
   "cell_type": "code",
   "execution_count": 26,
   "metadata": {},
   "outputs": [
    {
     "data": {
      "text/html": [
       "<div>\n",
       "<style scoped>\n",
       "    .dataframe tbody tr th:only-of-type {\n",
       "        vertical-align: middle;\n",
       "    }\n",
       "\n",
       "    .dataframe tbody tr th {\n",
       "        vertical-align: top;\n",
       "    }\n",
       "\n",
       "    .dataframe thead th {\n",
       "        text-align: right;\n",
       "    }\n",
       "</style>\n",
       "<table border=\"1\" class=\"dataframe\">\n",
       "  <thead>\n",
       "    <tr style=\"text-align: right;\">\n",
       "      <th></th>\n",
       "      <th>user_id</th>\n",
       "      <th>first_date</th>\n",
       "      <th>region</th>\n",
       "      <th>device</th>\n",
       "    </tr>\n",
       "  </thead>\n",
       "  <tbody>\n",
       "    <tr>\n",
       "      <th>23821</th>\n",
       "      <td>5815F7ECE74D949F</td>\n",
       "      <td>2020-12-22</td>\n",
       "      <td>CIS</td>\n",
       "      <td>PC</td>\n",
       "    </tr>\n",
       "    <tr>\n",
       "      <th>23822</th>\n",
       "      <td>32EAEA5E903E3BC1</td>\n",
       "      <td>2020-12-22</td>\n",
       "      <td>N.America</td>\n",
       "      <td>Android</td>\n",
       "    </tr>\n",
       "    <tr>\n",
       "      <th>23823</th>\n",
       "      <td>9DF7A3C46487EF0B</td>\n",
       "      <td>2020-12-22</td>\n",
       "      <td>EU</td>\n",
       "      <td>Android</td>\n",
       "    </tr>\n",
       "    <tr>\n",
       "      <th>23824</th>\n",
       "      <td>ADE98C6440423287</td>\n",
       "      <td>2020-12-22</td>\n",
       "      <td>EU</td>\n",
       "      <td>iPhone</td>\n",
       "    </tr>\n",
       "    <tr>\n",
       "      <th>23825</th>\n",
       "      <td>5A5833D3AEA75255</td>\n",
       "      <td>2020-12-22</td>\n",
       "      <td>N.America</td>\n",
       "      <td>PC</td>\n",
       "    </tr>\n",
       "    <tr>\n",
       "      <th>...</th>\n",
       "      <td>...</td>\n",
       "      <td>...</td>\n",
       "      <td>...</td>\n",
       "      <td>...</td>\n",
       "    </tr>\n",
       "    <tr>\n",
       "      <th>33290</th>\n",
       "      <td>165AFCBF42C043F8</td>\n",
       "      <td>2020-12-23</td>\n",
       "      <td>EU</td>\n",
       "      <td>PC</td>\n",
       "    </tr>\n",
       "    <tr>\n",
       "      <th>33291</th>\n",
       "      <td>54E7F36C0E976E24</td>\n",
       "      <td>2020-12-23</td>\n",
       "      <td>EU</td>\n",
       "      <td>Android</td>\n",
       "    </tr>\n",
       "    <tr>\n",
       "      <th>33292</th>\n",
       "      <td>7E43EB2E03A33E78</td>\n",
       "      <td>2020-12-23</td>\n",
       "      <td>EU</td>\n",
       "      <td>PC</td>\n",
       "    </tr>\n",
       "    <tr>\n",
       "      <th>33293</th>\n",
       "      <td>B8B679DEE9F2CA06</td>\n",
       "      <td>2020-12-23</td>\n",
       "      <td>EU</td>\n",
       "      <td>PC</td>\n",
       "    </tr>\n",
       "    <tr>\n",
       "      <th>33294</th>\n",
       "      <td>BE595EE3E9D59FB9</td>\n",
       "      <td>2020-12-23</td>\n",
       "      <td>EU</td>\n",
       "      <td>PC</td>\n",
       "    </tr>\n",
       "  </tbody>\n",
       "</table>\n",
       "<p>5263 rows × 4 columns</p>\n",
       "</div>"
      ],
      "text/plain": [
       "                user_id first_date     region   device\n",
       "23821  5815F7ECE74D949F 2020-12-22        CIS       PC\n",
       "23822  32EAEA5E903E3BC1 2020-12-22  N.America  Android\n",
       "23823  9DF7A3C46487EF0B 2020-12-22         EU  Android\n",
       "23824  ADE98C6440423287 2020-12-22         EU   iPhone\n",
       "23825  5A5833D3AEA75255 2020-12-22  N.America       PC\n",
       "...                 ...        ...        ...      ...\n",
       "33290  165AFCBF42C043F8 2020-12-23         EU       PC\n",
       "33291  54E7F36C0E976E24 2020-12-23         EU  Android\n",
       "33292  7E43EB2E03A33E78 2020-12-23         EU       PC\n",
       "33293  B8B679DEE9F2CA06 2020-12-23         EU       PC\n",
       "33294  BE595EE3E9D59FB9 2020-12-23         EU       PC\n",
       "\n",
       "[5263 rows x 4 columns]"
      ]
     },
     "execution_count": 26,
     "metadata": {},
     "output_type": "execute_result"
    }
   ],
   "source": [
    "new_users[new_users['first_date'] > \"2020-12-21 00:00:00\"]"
   ]
  },
  {
   "cell_type": "markdown",
   "metadata": {},
   "source": [
    "Пользователей с датой регистрации от 22 декабря 2020 г. - 5263, что составляет 8% от всех пользователей. Отфильтруем эти данные."
   ]
  },
  {
   "cell_type": "code",
   "execution_count": 27,
   "metadata": {},
   "outputs": [],
   "source": [
    "#отфильтруем до 21 декабря включительно\n",
    "\n",
    "new_users = new_users[new_users['first_date'] <= \"2020-12-21 00:00:00\"]"
   ]
  },
  {
   "cell_type": "code",
   "execution_count": 28,
   "metadata": {},
   "outputs": [
    {
     "data": {
      "text/plain": [
       "Timestamp('2020-12-21 00:00:00')"
      ]
     },
     "execution_count": 28,
     "metadata": {},
     "output_type": "execute_result"
    }
   ],
   "source": [
    "new_users['first_date'].max()"
   ]
  },
  {
   "cell_type": "code",
   "execution_count": 29,
   "metadata": {},
   "outputs": [
    {
     "data": {
      "text/plain": [
       "Timestamp('2020-12-21 00:00:00')"
      ]
     },
     "execution_count": 29,
     "metadata": {},
     "output_type": "execute_result"
    }
   ],
   "source": [
    "new_users[new_users['user_id'].isin(participants.query('ab_test == \"recommender_system_test\"')['user_id'])]['first_date'].max()"
   ]
  },
  {
   "cell_type": "markdown",
   "metadata": {},
   "source": [
    "Теперь даты запуска теста и дата окончания набора новых пользователей верны.\n",
    "\n",
    "Проверим даты событий на соответствие дате окончания эксперимента"
   ]
  },
  {
   "cell_type": "code",
   "execution_count": 30,
   "metadata": {},
   "outputs": [
    {
     "data": {
      "text/plain": [
       "Timestamp('2020-12-07 00:00:33')"
      ]
     },
     "execution_count": 30,
     "metadata": {},
     "output_type": "execute_result"
    }
   ],
   "source": [
    "events['event_dt'].min()"
   ]
  },
  {
   "cell_type": "code",
   "execution_count": 31,
   "metadata": {},
   "outputs": [
    {
     "data": {
      "text/plain": [
       "Timestamp('2020-12-30 23:36:33')"
      ]
     },
     "execution_count": 31,
     "metadata": {},
     "output_type": "execute_result"
    }
   ],
   "source": [
    "events['event_dt'].max()"
   ]
  },
  {
   "cell_type": "markdown",
   "metadata": {},
   "source": [
    "Дата последнего события - 30 декабря 2020, но по ТЗ тест должен длится до 4 января 2021. Таким образом, некоторые пользователи совершили недостаточное количество действий с момента регистрации, поскольку у них прошло менее 14 дней после. Недостаточное количество данных может повлиять на результаты AB теста."
   ]
  },
  {
   "cell_type": "markdown",
   "metadata": {},
   "source": [
    "Проверим данные на соответствие условию о 15% новых пользователей из региона EU."
   ]
  },
  {
   "cell_type": "code",
   "execution_count": 32,
   "metadata": {},
   "outputs": [
    {
     "data": {
      "text/plain": [
       "42340"
      ]
     },
     "execution_count": 32,
     "metadata": {},
     "output_type": "execute_result"
    }
   ],
   "source": [
    "#все зарегистрированные пользователи из нужного региона\n",
    "\n",
    "len(new_users.query(\"region == 'EU'\"))"
   ]
  },
  {
   "cell_type": "code",
   "execution_count": 33,
   "metadata": {},
   "outputs": [],
   "source": [
    "# фильтр по нужному нам тесту\n",
    "\n",
    "test_users = new_users[new_users['user_id'].isin(participants.query('ab_test == \"recommender_system_test\"')['user_id'])]"
   ]
  },
  {
   "cell_type": "code",
   "execution_count": 34,
   "metadata": {},
   "outputs": [
    {
     "data": {
      "text/plain": [
       "EU           6351\n",
       "N.America     223\n",
       "APAC           72\n",
       "CIS            55\n",
       "Name: region, dtype: int64"
      ]
     },
     "execution_count": 34,
     "metadata": {},
     "output_type": "execute_result"
    }
   ],
   "source": [
    "test_users['region'].value_counts()"
   ]
  },
  {
   "cell_type": "code",
   "execution_count": 35,
   "metadata": {},
   "outputs": [
    {
     "data": {
      "text/plain": [
       "15.0"
      ]
     },
     "execution_count": 35,
     "metadata": {},
     "output_type": "execute_result"
    }
   ],
   "source": [
    "#посчитаем долю от всех пользователей из EU\n",
    "\n",
    "round((test_users.query('region == \"EU\"')['region'].count()/len(new_users.query(\"region == 'EU'\")))*100,2)"
   ]
  },
  {
   "cell_type": "markdown",
   "metadata": {},
   "source": [
    "Аудитория из Европы составляет 6351 человек из всех 42340 новых клиентов с этого региона, что соответствует условиям ТЗ о 15%.\n",
    "\n",
    "Количество участников теста по ТЗ также соответствует условию в 6000 (у нас - 6351)."
   ]
  },
  {
   "cell_type": "markdown",
   "metadata": {},
   "source": [
    "**Вывод**\n",
    "\n",
    "- Название теста верное - recommender_system_test.\n",
    "- В данных присутствуют обе группы (контрольная и экспериментальная).\n",
    "- Даты запуска теста и дата окончания набора новых пользователей верны - 7 и 21 декабря 2020.\n",
    "- В тест отобраны 15% новых пользователей из EU, что соответствует требованиям ТЗ.\n",
    "\n",
    "Тем не менее, есть моменты, на которые нужно обратить внимание из-за несоответствия условиям ТЗ.\n",
    "- Дата последнего события - 30 декабря 2020, а по ТЗ тест должен длиться до 4 января 2021, то есть недостает данных, и у некоторых пользователей совершено меньше действий, поскольку лайфтайм оказался короче. Это может исказить результаты тестирования. Вполне возможно, что это произошло из-за технического сбоя в выгрузке данных, и часть записей не подгрузилась.\n",
    "- В таблице есть данные по конкурирующему тесту `interface_eu_test`, если в данных будут пользователи, которые попали в оба теста, то возможно, что они повлияют на результаты нашего тестирования."
   ]
  },
  {
   "cell_type": "markdown",
   "metadata": {},
   "source": [
    "### Проверка времени проведения теста"
   ]
  },
  {
   "cell_type": "markdown",
   "metadata": {},
   "source": [
    "Убедимся, что время проведения теста не совпадает с маркетинговыми и другими активностями."
   ]
  },
  {
   "cell_type": "code",
   "execution_count": 36,
   "metadata": {},
   "outputs": [
    {
     "data": {
      "text/html": [
       "<div>\n",
       "<style scoped>\n",
       "    .dataframe tbody tr th:only-of-type {\n",
       "        vertical-align: middle;\n",
       "    }\n",
       "\n",
       "    .dataframe tbody tr th {\n",
       "        vertical-align: top;\n",
       "    }\n",
       "\n",
       "    .dataframe thead th {\n",
       "        text-align: right;\n",
       "    }\n",
       "</style>\n",
       "<table border=\"1\" class=\"dataframe\">\n",
       "  <thead>\n",
       "    <tr style=\"text-align: right;\">\n",
       "      <th></th>\n",
       "      <th>name</th>\n",
       "      <th>regions</th>\n",
       "      <th>start_dt</th>\n",
       "      <th>finish_dt</th>\n",
       "    </tr>\n",
       "  </thead>\n",
       "  <tbody>\n",
       "    <tr>\n",
       "      <th>0</th>\n",
       "      <td>Christmas&amp;New Year Promo</td>\n",
       "      <td>EU, N.America</td>\n",
       "      <td>2020-12-25</td>\n",
       "      <td>2021-01-03</td>\n",
       "    </tr>\n",
       "    <tr>\n",
       "      <th>10</th>\n",
       "      <td>CIS New Year Gift Lottery</td>\n",
       "      <td>CIS</td>\n",
       "      <td>2020-12-30</td>\n",
       "      <td>2021-01-07</td>\n",
       "    </tr>\n",
       "  </tbody>\n",
       "</table>\n",
       "</div>"
      ],
      "text/plain": [
       "                         name        regions   start_dt  finish_dt\n",
       "0    Christmas&New Year Promo  EU, N.America 2020-12-25 2021-01-03\n",
       "10  CIS New Year Gift Lottery            CIS 2020-12-30 2021-01-07"
      ]
     },
     "execution_count": 36,
     "metadata": {},
     "output_type": "execute_result"
    }
   ],
   "source": [
    "# сравним периоды маркетинговых активностей с общим периодом проведения теста\n",
    "\n",
    "marketing_events.query(\"start_dt > datetime(2020,12,7) & start_dt < datetime(2021,1,4)\")"
   ]
  },
  {
   "cell_type": "markdown",
   "metadata": {},
   "source": [
    "В наш временной период попадают 2 акции. \n",
    "- Акция CIS New Year Gift Lottery, скорее всего, не оказала сильного влияния на результаты теста, поскольку проводилась в другом регионе и конечная дата не совпадает.\n",
    "- Акция Christmas&New Year Promo может оказать большее влияние, т.к. даты её проведения попадают в исследуемый период, а также акция проводится в регионе EU.\n",
    "\n",
    "Не будем избавляться от данных, но оставим их на заметке."
   ]
  },
  {
   "cell_type": "markdown",
   "metadata": {},
   "source": [
    "### Проверка аудитории теста"
   ]
  },
  {
   "cell_type": "markdown",
   "metadata": {},
   "source": [
    "Проверим, есть ли у нас пользователи, поучаствовавшие в обоих тестах одновременно."
   ]
  },
  {
   "cell_type": "code",
   "execution_count": 37,
   "metadata": {},
   "outputs": [],
   "source": [
    "group_1 = participants.query(\"ab_test == 'recommender_system_test'\") \n",
    "group_2 = participants.query(\"ab_test == 'interface_eu_test'\")  \n",
    "  \n",
    "# получаем список id пользователей, попавших в обе группы \n",
    "group_ab=list(np.intersect1d(group_1['user_id'], group_2['user_id']))"
   ]
  },
  {
   "cell_type": "code",
   "execution_count": 38,
   "metadata": {},
   "outputs": [
    {
     "data": {
      "text/plain": [
       "1602"
      ]
     },
     "execution_count": 38,
     "metadata": {},
     "output_type": "execute_result"
    }
   ],
   "source": [
    "#посчитаем общее количество таких пользователей\n",
    "\n",
    "len(group_ab)"
   ]
  },
  {
   "cell_type": "markdown",
   "metadata": {},
   "source": [
    "1602 пользователя участвуют в двух тестах сразу.\n",
    "\n",
    "Если A - это контрольная группа, без изменений, то необходимо посмотреть, равномерно ли распределены пользователи группы B конкурирующего теста в наших группах тестирования."
   ]
  },
  {
   "cell_type": "code",
   "execution_count": 39,
   "metadata": {},
   "outputs": [
    {
     "data": {
      "text/html": [
       "<div>\n",
       "<style scoped>\n",
       "    .dataframe tbody tr th:only-of-type {\n",
       "        vertical-align: middle;\n",
       "    }\n",
       "\n",
       "    .dataframe tbody tr th {\n",
       "        vertical-align: top;\n",
       "    }\n",
       "\n",
       "    .dataframe thead th {\n",
       "        text-align: right;\n",
       "    }\n",
       "</style>\n",
       "<table border=\"1\" class=\"dataframe\">\n",
       "  <thead>\n",
       "    <tr style=\"text-align: right;\">\n",
       "      <th></th>\n",
       "      <th>user_id</th>\n",
       "      <th>group</th>\n",
       "      <th>ab_test</th>\n",
       "    </tr>\n",
       "  </thead>\n",
       "  <tbody>\n",
       "    <tr>\n",
       "      <th>6705</th>\n",
       "      <td>2BA8FA8754D1FE50</td>\n",
       "      <td>B</td>\n",
       "      <td>interface_eu_test</td>\n",
       "    </tr>\n",
       "    <tr>\n",
       "      <th>6706</th>\n",
       "      <td>FB6F6BC119E1DBD5</td>\n",
       "      <td>B</td>\n",
       "      <td>interface_eu_test</td>\n",
       "    </tr>\n",
       "    <tr>\n",
       "      <th>6707</th>\n",
       "      <td>2D2E7AA539CF348F</td>\n",
       "      <td>B</td>\n",
       "      <td>interface_eu_test</td>\n",
       "    </tr>\n",
       "    <tr>\n",
       "      <th>6709</th>\n",
       "      <td>76B6CDF2A8B1DBFC</td>\n",
       "      <td>B</td>\n",
       "      <td>interface_eu_test</td>\n",
       "    </tr>\n",
       "    <tr>\n",
       "      <th>6712</th>\n",
       "      <td>10DAD07E71B44F26</td>\n",
       "      <td>B</td>\n",
       "      <td>interface_eu_test</td>\n",
       "    </tr>\n",
       "  </tbody>\n",
       "</table>\n",
       "</div>"
      ],
      "text/plain": [
       "               user_id group            ab_test\n",
       "6705  2BA8FA8754D1FE50     B  interface_eu_test\n",
       "6706  FB6F6BC119E1DBD5     B  interface_eu_test\n",
       "6707  2D2E7AA539CF348F     B  interface_eu_test\n",
       "6709  76B6CDF2A8B1DBFC     B  interface_eu_test\n",
       "6712  10DAD07E71B44F26     B  interface_eu_test"
      ]
     },
     "execution_count": 39,
     "metadata": {},
     "output_type": "execute_result"
    }
   ],
   "source": [
    "altern_b = participants.query(\"ab_test == 'interface_eu_test' and group == 'B'\")\n",
    "altern_b.head()"
   ]
  },
  {
   "cell_type": "code",
   "execution_count": 40,
   "metadata": {},
   "outputs": [
    {
     "data": {
      "text/plain": [
       "A    439\n",
       "B    344\n",
       "Name: group, dtype: int64"
      ]
     },
     "execution_count": 40,
     "metadata": {},
     "output_type": "execute_result"
    }
   ],
   "source": [
    "(participants[participants['user_id'].isin(altern_b['user_id'])]\\\n",
    "                                     .query('ab_test == \"recommender_system_test\"')['group']\\\n",
    "                                     .value_counts())"
   ]
  },
  {
   "cell_type": "markdown",
   "metadata": {},
   "source": [
    "Пользователи из группы B теста `interface_eu_test` практически равномерно распределены в тесте `recommender_system_test`. Можно сказать, что тест `interface_eu_test` одинаково влиял на группы А и В нашего теста. \n",
    "\n",
    "Следовательно, это влияние не должно отразиться на итоговом результате, поэтому удалять пользователей не будем."
   ]
  },
  {
   "cell_type": "markdown",
   "metadata": {},
   "source": [
    "Проверим, нет ли пользователей, участвующих в группах А и В нашего теста одновременно."
   ]
  },
  {
   "cell_type": "code",
   "execution_count": 41,
   "metadata": {},
   "outputs": [
    {
     "data": {
      "text/plain": [
       "776"
      ]
     },
     "execution_count": 41,
     "metadata": {},
     "output_type": "execute_result"
    }
   ],
   "source": [
    "# отбираем группы  \n",
    "group_a=participants.query('group == \"A\"') \n",
    "group_b=participants.query('group == \"B\"') \n",
    "  \n",
    "# получаем id пользователей, попавших в обе группы \n",
    "group_inter=list(np.intersect1d(group_a['user_id'], group_b['user_id']))\n",
    "len(group_inter)"
   ]
  },
  {
   "cell_type": "markdown",
   "metadata": {},
   "source": [
    "Такого быть не должно, необходимо удалить таких пользователей."
   ]
  },
  {
   "cell_type": "code",
   "execution_count": 42,
   "metadata": {},
   "outputs": [],
   "source": [
    "# перезаписываем participants\n",
    "\n",
    "participants = participants[np.logical_not(participants['user_id'].isin(group_inter))]"
   ]
  },
  {
   "cell_type": "code",
   "execution_count": 43,
   "metadata": {},
   "outputs": [
    {
     "data": {
      "text/plain": [
       "0"
      ]
     },
     "execution_count": 43,
     "metadata": {},
     "output_type": "execute_result"
    }
   ],
   "source": [
    "# делаем перепроверку\n",
    "group_a=participants.query('group == \"A\"') \n",
    "group_b=participants.query('group == \"B\"') \n",
    "\n",
    "group_inter = list(np.intersect1d(group_a['user_id'], group_b['user_id']))\n",
    "len(group_inter)"
   ]
  },
  {
   "cell_type": "code",
   "execution_count": 44,
   "metadata": {},
   "outputs": [
    {
     "data": {
      "text/plain": [
       "A    3385\n",
       "B    2540\n",
       "Name: group, dtype: int64"
      ]
     },
     "execution_count": 44,
     "metadata": {},
     "output_type": "execute_result"
    }
   ],
   "source": [
    "# проверим равномерность распределения пользователей по тестовым группам \n",
    "\n",
    "participants.query('ab_test == \"recommender_system_test\"')['group'].value_counts()"
   ]
  },
  {
   "cell_type": "markdown",
   "metadata": {},
   "source": [
    "В группе А - 3385 человек, а в группе В - 2540 человек, всего 5925 человек. Заметим, что группы делятся не равномерно - 57% (А) и 43% (В).\n",
    "\n",
    "Посмотрим, сколько пользователей все - таки участвовали в тесте, то есть совершали какие-либо действия."
   ]
  },
  {
   "cell_type": "code",
   "execution_count": 45,
   "metadata": {},
   "outputs": [
    {
     "data": {
      "text/plain": [
       "5925"
      ]
     },
     "execution_count": 45,
     "metadata": {},
     "output_type": "execute_result"
    }
   ],
   "source": [
    "# объединяем таблицы \n",
    "\n",
    "test_users_ab = test_users.merge(participants.query('ab_test == \"recommender_system_test\"'), on='user_id')\n",
    "test_users_ab.user_id.nunique()"
   ]
  },
  {
   "cell_type": "code",
   "execution_count": 46,
   "metadata": {},
   "outputs": [
    {
     "data": {
      "text/html": [
       "<div>\n",
       "<style scoped>\n",
       "    .dataframe tbody tr th:only-of-type {\n",
       "        vertical-align: middle;\n",
       "    }\n",
       "\n",
       "    .dataframe tbody tr th {\n",
       "        vertical-align: top;\n",
       "    }\n",
       "\n",
       "    .dataframe thead th {\n",
       "        text-align: right;\n",
       "    }\n",
       "</style>\n",
       "<table border=\"1\" class=\"dataframe\">\n",
       "  <thead>\n",
       "    <tr style=\"text-align: right;\">\n",
       "      <th></th>\n",
       "      <th>user_id</th>\n",
       "      <th>first_date</th>\n",
       "      <th>region</th>\n",
       "      <th>device</th>\n",
       "      <th>group</th>\n",
       "      <th>ab_test</th>\n",
       "    </tr>\n",
       "  </thead>\n",
       "  <tbody>\n",
       "    <tr>\n",
       "      <th>0</th>\n",
       "      <td>D72A72121175D8BE</td>\n",
       "      <td>2020-12-07</td>\n",
       "      <td>EU</td>\n",
       "      <td>PC</td>\n",
       "      <td>A</td>\n",
       "      <td>recommender_system_test</td>\n",
       "    </tr>\n",
       "    <tr>\n",
       "      <th>1</th>\n",
       "      <td>E6DE857AFBDC6102</td>\n",
       "      <td>2020-12-07</td>\n",
       "      <td>EU</td>\n",
       "      <td>PC</td>\n",
       "      <td>B</td>\n",
       "      <td>recommender_system_test</td>\n",
       "    </tr>\n",
       "    <tr>\n",
       "      <th>2</th>\n",
       "      <td>831887FE7F2D6CBA</td>\n",
       "      <td>2020-12-07</td>\n",
       "      <td>EU</td>\n",
       "      <td>Android</td>\n",
       "      <td>A</td>\n",
       "      <td>recommender_system_test</td>\n",
       "    </tr>\n",
       "    <tr>\n",
       "      <th>3</th>\n",
       "      <td>4CB179C7F847320B</td>\n",
       "      <td>2020-12-07</td>\n",
       "      <td>EU</td>\n",
       "      <td>iPhone</td>\n",
       "      <td>B</td>\n",
       "      <td>recommender_system_test</td>\n",
       "    </tr>\n",
       "    <tr>\n",
       "      <th>4</th>\n",
       "      <td>29C92313A98B1176</td>\n",
       "      <td>2020-12-07</td>\n",
       "      <td>APAC</td>\n",
       "      <td>Android</td>\n",
       "      <td>B</td>\n",
       "      <td>recommender_system_test</td>\n",
       "    </tr>\n",
       "  </tbody>\n",
       "</table>\n",
       "</div>"
      ],
      "text/plain": [
       "            user_id first_date region   device group                  ab_test\n",
       "0  D72A72121175D8BE 2020-12-07     EU       PC     A  recommender_system_test\n",
       "1  E6DE857AFBDC6102 2020-12-07     EU       PC     B  recommender_system_test\n",
       "2  831887FE7F2D6CBA 2020-12-07     EU  Android     A  recommender_system_test\n",
       "3  4CB179C7F847320B 2020-12-07     EU   iPhone     B  recommender_system_test\n",
       "4  29C92313A98B1176 2020-12-07   APAC  Android     B  recommender_system_test"
      ]
     },
     "execution_count": 46,
     "metadata": {},
     "output_type": "execute_result"
    }
   ],
   "source": [
    "test_users_ab.head()"
   ]
  },
  {
   "cell_type": "code",
   "execution_count": 47,
   "metadata": {},
   "outputs": [
    {
     "data": {
      "text/plain": [
       "3234"
      ]
     },
     "execution_count": 47,
     "metadata": {},
     "output_type": "execute_result"
    }
   ],
   "source": [
    "# объединяем таблицы с участниками теста и событиями\n",
    "\n",
    "test1 = events.merge(test_users_ab, how='left', on='user_id').dropna(axis='index', how='any',subset=['group'])\n",
    "test1.user_id.nunique()"
   ]
  },
  {
   "cell_type": "code",
   "execution_count": 48,
   "metadata": {},
   "outputs": [
    {
     "data": {
      "text/html": [
       "<div>\n",
       "<style scoped>\n",
       "    .dataframe tbody tr th:only-of-type {\n",
       "        vertical-align: middle;\n",
       "    }\n",
       "\n",
       "    .dataframe tbody tr th {\n",
       "        vertical-align: top;\n",
       "    }\n",
       "\n",
       "    .dataframe thead th {\n",
       "        text-align: right;\n",
       "    }\n",
       "</style>\n",
       "<table border=\"1\" class=\"dataframe\">\n",
       "  <thead>\n",
       "    <tr style=\"text-align: right;\">\n",
       "      <th></th>\n",
       "      <th>user_id</th>\n",
       "      <th>event_dt</th>\n",
       "      <th>event_name</th>\n",
       "      <th>details</th>\n",
       "      <th>first_date</th>\n",
       "      <th>region</th>\n",
       "      <th>device</th>\n",
       "      <th>group</th>\n",
       "      <th>ab_test</th>\n",
       "    </tr>\n",
       "  </thead>\n",
       "  <tbody>\n",
       "    <tr>\n",
       "      <th>5</th>\n",
       "      <td>831887FE7F2D6CBA</td>\n",
       "      <td>2020-12-07 06:50:29</td>\n",
       "      <td>purchase</td>\n",
       "      <td>4.99</td>\n",
       "      <td>2020-12-07</td>\n",
       "      <td>EU</td>\n",
       "      <td>Android</td>\n",
       "      <td>A</td>\n",
       "      <td>recommender_system_test</td>\n",
       "    </tr>\n",
       "    <tr>\n",
       "      <th>17</th>\n",
       "      <td>3C5DD0288AC4FE23</td>\n",
       "      <td>2020-12-07 19:42:40</td>\n",
       "      <td>purchase</td>\n",
       "      <td>4.99</td>\n",
       "      <td>2020-12-07</td>\n",
       "      <td>EU</td>\n",
       "      <td>PC</td>\n",
       "      <td>A</td>\n",
       "      <td>recommender_system_test</td>\n",
       "    </tr>\n",
       "    <tr>\n",
       "      <th>58</th>\n",
       "      <td>49EA242586C87836</td>\n",
       "      <td>2020-12-07 06:31:24</td>\n",
       "      <td>purchase</td>\n",
       "      <td>99.99</td>\n",
       "      <td>2020-12-07</td>\n",
       "      <td>EU</td>\n",
       "      <td>iPhone</td>\n",
       "      <td>B</td>\n",
       "      <td>recommender_system_test</td>\n",
       "    </tr>\n",
       "    <tr>\n",
       "      <th>71</th>\n",
       "      <td>2B06EB547B7AAD08</td>\n",
       "      <td>2020-12-07 21:36:38</td>\n",
       "      <td>purchase</td>\n",
       "      <td>4.99</td>\n",
       "      <td>2020-12-07</td>\n",
       "      <td>EU</td>\n",
       "      <td>PC</td>\n",
       "      <td>A</td>\n",
       "      <td>recommender_system_test</td>\n",
       "    </tr>\n",
       "    <tr>\n",
       "      <th>74</th>\n",
       "      <td>A640F31CAC7823A6</td>\n",
       "      <td>2020-12-07 18:48:26</td>\n",
       "      <td>purchase</td>\n",
       "      <td>4.99</td>\n",
       "      <td>2020-12-07</td>\n",
       "      <td>EU</td>\n",
       "      <td>PC</td>\n",
       "      <td>B</td>\n",
       "      <td>recommender_system_test</td>\n",
       "    </tr>\n",
       "  </tbody>\n",
       "</table>\n",
       "</div>"
      ],
      "text/plain": [
       "             user_id            event_dt event_name  details first_date  \\\n",
       "5   831887FE7F2D6CBA 2020-12-07 06:50:29   purchase     4.99 2020-12-07   \n",
       "17  3C5DD0288AC4FE23 2020-12-07 19:42:40   purchase     4.99 2020-12-07   \n",
       "58  49EA242586C87836 2020-12-07 06:31:24   purchase    99.99 2020-12-07   \n",
       "71  2B06EB547B7AAD08 2020-12-07 21:36:38   purchase     4.99 2020-12-07   \n",
       "74  A640F31CAC7823A6 2020-12-07 18:48:26   purchase     4.99 2020-12-07   \n",
       "\n",
       "   region   device group                  ab_test  \n",
       "5      EU  Android     A  recommender_system_test  \n",
       "17     EU       PC     A  recommender_system_test  \n",
       "58     EU   iPhone     B  recommender_system_test  \n",
       "71     EU       PC     A  recommender_system_test  \n",
       "74     EU       PC     B  recommender_system_test  "
      ]
     },
     "execution_count": 48,
     "metadata": {},
     "output_type": "execute_result"
    }
   ],
   "source": [
    "test1.head()"
   ]
  },
  {
   "cell_type": "code",
   "execution_count": 49,
   "metadata": {
    "scrolled": true
   },
   "outputs": [
    {
     "data": {
      "text/html": [
       "<div>\n",
       "<style scoped>\n",
       "    .dataframe tbody tr th:only-of-type {\n",
       "        vertical-align: middle;\n",
       "    }\n",
       "\n",
       "    .dataframe tbody tr th {\n",
       "        vertical-align: top;\n",
       "    }\n",
       "\n",
       "    .dataframe thead th {\n",
       "        text-align: right;\n",
       "    }\n",
       "</style>\n",
       "<table border=\"1\" class=\"dataframe\">\n",
       "  <thead>\n",
       "    <tr style=\"text-align: right;\">\n",
       "      <th></th>\n",
       "      <th>group</th>\n",
       "      <th>user_id</th>\n",
       "    </tr>\n",
       "  </thead>\n",
       "  <tbody>\n",
       "    <tr>\n",
       "      <th>0</th>\n",
       "      <td>A</td>\n",
       "      <td>2422</td>\n",
       "    </tr>\n",
       "    <tr>\n",
       "      <th>1</th>\n",
       "      <td>B</td>\n",
       "      <td>812</td>\n",
       "    </tr>\n",
       "  </tbody>\n",
       "</table>\n",
       "</div>"
      ],
      "text/plain": [
       "  group  user_id\n",
       "0     A     2422\n",
       "1     B      812"
      ]
     },
     "execution_count": 49,
     "metadata": {},
     "output_type": "execute_result"
    }
   ],
   "source": [
    "test1_group = test1.groupby('group', as_index=False).agg({'user_id':'nunique'}).rename(columns={'id': 'count'})\n",
    "test1_group"
   ]
  },
  {
   "cell_type": "markdown",
   "metadata": {},
   "source": [
    "Если посмотреть на пользователей групп A и B, которые совершали какие-либо действия, то неравномерность распределения участников между группами в сторону группы A становится довольно большой, что может также исказить результаты исследования."
   ]
  },
  {
   "cell_type": "markdown",
   "metadata": {},
   "source": [
    "**Вывод**\n",
    "\n",
    "- Название теста верное - recommender_system_test.\n",
    "- В данных присутствуют обе группы (контрольная и экспериментальная).\n",
    "- Даты запуска теста и дата окончания набора новых пользователей верны - 7 и 21 декабря 2020.\n",
    "- В тест отобраны 15% новых пользователей из EU, что соответствует требованиям ТЗ.\n",
    "- Было обнаружено, что 1602 пользователя участвуют в двух конкурирующих тестах сразу. Тем не менее, при рассмотрении распределения пользователей группы B конкурирующего теста в нашем тесте, мы убедились, что пользователи распределены равномерно, а значит тест не оказал влияния на результаты нашего исследования. Было принято решение не удалять данных пользователей. \n",
    "- Было обнаружено 776 пользователей, которые были в обеих группах нашего теста. Было принято решение удалить таких пользователей. \n",
    "\n",
    "Тем не менее, есть моменты, на которые нужно обратить внимание из-за несоответствия условиям ТЗ.\n",
    "- Дата последнего события - 30 декабря 2020, а по ТЗ тест должен длиться до 4 января 2021, то есть недостает данных, и у некоторых пользователей совершено меньше действий, поскольку лайфтайм оказался короче. Это может исказить результаты тестирования. Вполне возможно, что это произошло из-за технического сбоя в выгрузке данных, и часть записей не подгрузилась.\n",
    "- С нашим временным периодом проведения теста совпадают 2 акции. Акция Christmas&New Year Promo может оказать существенное влияние, т.к. даты её проведения попадают в исследуемый период (12 декабря - 4 января), а также эта акция проводится в регионе EU.\n",
    "\n",
    "Таким образом, некоторые пункты ТЗ в данном тесте не выполнены или ставятся под сомнение. Поэтому к результатам A/B-тестирования могут быть вопросы."
   ]
  },
  {
   "cell_type": "markdown",
   "metadata": {},
   "source": [
    "## Исследовательский анализ данных"
   ]
  },
  {
   "cell_type": "markdown",
   "metadata": {},
   "source": [
    "### Распределение количества событий на пользователя"
   ]
  },
  {
   "cell_type": "markdown",
   "metadata": {},
   "source": [
    "Посмотрим распределение среднего количества событий у пользователей по группам тестирования."
   ]
  },
  {
   "cell_type": "code",
   "execution_count": 50,
   "metadata": {},
   "outputs": [],
   "source": [
    "a_events = test1.query('group == \"A\"')\\\n",
    "                .groupby('user_id').agg({'event_name':'count'}).reset_index().rename(columns={'event_name': 'event_count'})"
   ]
  },
  {
   "cell_type": "code",
   "execution_count": 51,
   "metadata": {},
   "outputs": [],
   "source": [
    "b_events = test1.query('group == \"B\"')\\\n",
    "        .groupby('user_id').agg({'event_name':'count'}).reset_index().rename(columns={'event_name': 'event_count'})"
   ]
  },
  {
   "cell_type": "code",
   "execution_count": 52,
   "metadata": {},
   "outputs": [
    {
     "data": {
      "text/html": [
       "<div>\n",
       "<style scoped>\n",
       "    .dataframe tbody tr th:only-of-type {\n",
       "        vertical-align: middle;\n",
       "    }\n",
       "\n",
       "    .dataframe tbody tr th {\n",
       "        vertical-align: top;\n",
       "    }\n",
       "\n",
       "    .dataframe thead th {\n",
       "        text-align: right;\n",
       "    }\n",
       "</style>\n",
       "<table border=\"1\" class=\"dataframe\">\n",
       "  <thead>\n",
       "    <tr style=\"text-align: right;\">\n",
       "      <th></th>\n",
       "      <th>event_count</th>\n",
       "    </tr>\n",
       "  </thead>\n",
       "  <tbody>\n",
       "    <tr>\n",
       "      <th>count</th>\n",
       "      <td>2422.000000</td>\n",
       "    </tr>\n",
       "    <tr>\n",
       "      <th>mean</th>\n",
       "      <td>7.080512</td>\n",
       "    </tr>\n",
       "    <tr>\n",
       "      <th>std</th>\n",
       "      <td>3.877583</td>\n",
       "    </tr>\n",
       "    <tr>\n",
       "      <th>min</th>\n",
       "      <td>1.000000</td>\n",
       "    </tr>\n",
       "    <tr>\n",
       "      <th>25%</th>\n",
       "      <td>4.000000</td>\n",
       "    </tr>\n",
       "    <tr>\n",
       "      <th>50%</th>\n",
       "      <td>6.000000</td>\n",
       "    </tr>\n",
       "    <tr>\n",
       "      <th>75%</th>\n",
       "      <td>9.000000</td>\n",
       "    </tr>\n",
       "    <tr>\n",
       "      <th>max</th>\n",
       "      <td>24.000000</td>\n",
       "    </tr>\n",
       "  </tbody>\n",
       "</table>\n",
       "</div>"
      ],
      "text/plain": [
       "       event_count\n",
       "count  2422.000000\n",
       "mean      7.080512\n",
       "std       3.877583\n",
       "min       1.000000\n",
       "25%       4.000000\n",
       "50%       6.000000\n",
       "75%       9.000000\n",
       "max      24.000000"
      ]
     },
     "execution_count": 52,
     "metadata": {},
     "output_type": "execute_result"
    }
   ],
   "source": [
    "a_events.describe()"
   ]
  },
  {
   "cell_type": "code",
   "execution_count": 53,
   "metadata": {},
   "outputs": [
    {
     "data": {
      "text/html": [
       "<div>\n",
       "<style scoped>\n",
       "    .dataframe tbody tr th:only-of-type {\n",
       "        vertical-align: middle;\n",
       "    }\n",
       "\n",
       "    .dataframe tbody tr th {\n",
       "        vertical-align: top;\n",
       "    }\n",
       "\n",
       "    .dataframe thead th {\n",
       "        text-align: right;\n",
       "    }\n",
       "</style>\n",
       "<table border=\"1\" class=\"dataframe\">\n",
       "  <thead>\n",
       "    <tr style=\"text-align: right;\">\n",
       "      <th></th>\n",
       "      <th>event_count</th>\n",
       "    </tr>\n",
       "  </thead>\n",
       "  <tbody>\n",
       "    <tr>\n",
       "      <th>count</th>\n",
       "      <td>812.000000</td>\n",
       "    </tr>\n",
       "    <tr>\n",
       "      <th>mean</th>\n",
       "      <td>5.871921</td>\n",
       "    </tr>\n",
       "    <tr>\n",
       "      <th>std</th>\n",
       "      <td>3.540270</td>\n",
       "    </tr>\n",
       "    <tr>\n",
       "      <th>min</th>\n",
       "      <td>1.000000</td>\n",
       "    </tr>\n",
       "    <tr>\n",
       "      <th>25%</th>\n",
       "      <td>3.000000</td>\n",
       "    </tr>\n",
       "    <tr>\n",
       "      <th>50%</th>\n",
       "      <td>6.000000</td>\n",
       "    </tr>\n",
       "    <tr>\n",
       "      <th>75%</th>\n",
       "      <td>8.000000</td>\n",
       "    </tr>\n",
       "    <tr>\n",
       "      <th>max</th>\n",
       "      <td>28.000000</td>\n",
       "    </tr>\n",
       "  </tbody>\n",
       "</table>\n",
       "</div>"
      ],
      "text/plain": [
       "       event_count\n",
       "count   812.000000\n",
       "mean      5.871921\n",
       "std       3.540270\n",
       "min       1.000000\n",
       "25%       3.000000\n",
       "50%       6.000000\n",
       "75%       8.000000\n",
       "max      28.000000"
      ]
     },
     "execution_count": 53,
     "metadata": {},
     "output_type": "execute_result"
    }
   ],
   "source": [
    "b_events.describe()"
   ]
  },
  {
   "cell_type": "markdown",
   "metadata": {},
   "source": [
    "Среднее количество событий на пользователя в группе A - 7, а в группе B - 6. \n",
    "\n",
    "События распределены неравномерно, поскольку в группе А гораздо больше пользователей (2422 чел.), чем в группе B (812 чел.)\n",
    "\n",
    "Посмотрим распределение среднего количества событий по каждому типу у двух групп."
   ]
  },
  {
   "cell_type": "code",
   "execution_count": 54,
   "metadata": {
    "scrolled": true
   },
   "outputs": [
    {
     "data": {
      "text/html": [
       "<div>\n",
       "<style scoped>\n",
       "    .dataframe tbody tr th:only-of-type {\n",
       "        vertical-align: middle;\n",
       "    }\n",
       "\n",
       "    .dataframe tbody tr th {\n",
       "        vertical-align: top;\n",
       "    }\n",
       "\n",
       "    .dataframe thead th {\n",
       "        text-align: right;\n",
       "    }\n",
       "</style>\n",
       "<table border=\"1\" class=\"dataframe\">\n",
       "  <thead>\n",
       "    <tr style=\"text-align: right;\">\n",
       "      <th></th>\n",
       "      <th></th>\n",
       "      <th>user_id</th>\n",
       "    </tr>\n",
       "    <tr>\n",
       "      <th>event_name</th>\n",
       "      <th>group</th>\n",
       "      <th></th>\n",
       "    </tr>\n",
       "  </thead>\n",
       "  <tbody>\n",
       "    <tr>\n",
       "      <th rowspan=\"2\" valign=\"top\">login</th>\n",
       "      <th>A</th>\n",
       "      <td>7602</td>\n",
       "    </tr>\n",
       "    <tr>\n",
       "      <th>B</th>\n",
       "      <td>2301</td>\n",
       "    </tr>\n",
       "    <tr>\n",
       "      <th rowspan=\"2\" valign=\"top\">product_cart</th>\n",
       "      <th>A</th>\n",
       "      <td>2284</td>\n",
       "    </tr>\n",
       "    <tr>\n",
       "      <th>B</th>\n",
       "      <td>620</td>\n",
       "    </tr>\n",
       "    <tr>\n",
       "      <th rowspan=\"2\" valign=\"top\">product_page</th>\n",
       "      <th>A</th>\n",
       "      <td>4904</td>\n",
       "    </tr>\n",
       "    <tr>\n",
       "      <th>B</th>\n",
       "      <td>1241</td>\n",
       "    </tr>\n",
       "    <tr>\n",
       "      <th rowspan=\"2\" valign=\"top\">purchase</th>\n",
       "      <th>A</th>\n",
       "      <td>2359</td>\n",
       "    </tr>\n",
       "    <tr>\n",
       "      <th>B</th>\n",
       "      <td>606</td>\n",
       "    </tr>\n",
       "  </tbody>\n",
       "</table>\n",
       "</div>"
      ],
      "text/plain": [
       "                    user_id\n",
       "event_name   group         \n",
       "login        A         7602\n",
       "             B         2301\n",
       "product_cart A         2284\n",
       "             B          620\n",
       "product_page A         4904\n",
       "             B         1241\n",
       "purchase     A         2359\n",
       "             B          606"
      ]
     },
     "execution_count": 54,
     "metadata": {},
     "output_type": "execute_result"
    }
   ],
   "source": [
    "groupsab = test1.pivot_table(index = ['event_name', 'group'], values = 'user_id', aggfunc = 'count')\n",
    "groupsab"
   ]
  },
  {
   "cell_type": "code",
   "execution_count": 55,
   "metadata": {
    "scrolled": true
   },
   "outputs": [
    {
     "data": {
      "text/html": [
       "<div>\n",
       "<style scoped>\n",
       "    .dataframe tbody tr th:only-of-type {\n",
       "        vertical-align: middle;\n",
       "    }\n",
       "\n",
       "    .dataframe tbody tr th {\n",
       "        vertical-align: top;\n",
       "    }\n",
       "\n",
       "    .dataframe thead th {\n",
       "        text-align: right;\n",
       "    }\n",
       "</style>\n",
       "<table border=\"1\" class=\"dataframe\">\n",
       "  <thead>\n",
       "    <tr style=\"text-align: right;\">\n",
       "      <th></th>\n",
       "      <th>event_name</th>\n",
       "      <th>group</th>\n",
       "      <th>user_id</th>\n",
       "      <th>mean</th>\n",
       "    </tr>\n",
       "  </thead>\n",
       "  <tbody>\n",
       "    <tr>\n",
       "      <th>0</th>\n",
       "      <td>login</td>\n",
       "      <td>A</td>\n",
       "      <td>7602</td>\n",
       "      <td>3.14</td>\n",
       "    </tr>\n",
       "    <tr>\n",
       "      <th>1</th>\n",
       "      <td>login</td>\n",
       "      <td>B</td>\n",
       "      <td>2301</td>\n",
       "      <td>2.83</td>\n",
       "    </tr>\n",
       "    <tr>\n",
       "      <th>4</th>\n",
       "      <td>product_page</td>\n",
       "      <td>A</td>\n",
       "      <td>4904</td>\n",
       "      <td>2.02</td>\n",
       "    </tr>\n",
       "    <tr>\n",
       "      <th>5</th>\n",
       "      <td>product_page</td>\n",
       "      <td>B</td>\n",
       "      <td>1241</td>\n",
       "      <td>1.53</td>\n",
       "    </tr>\n",
       "    <tr>\n",
       "      <th>6</th>\n",
       "      <td>purchase</td>\n",
       "      <td>A</td>\n",
       "      <td>2359</td>\n",
       "      <td>0.97</td>\n",
       "    </tr>\n",
       "    <tr>\n",
       "      <th>2</th>\n",
       "      <td>product_cart</td>\n",
       "      <td>A</td>\n",
       "      <td>2284</td>\n",
       "      <td>0.94</td>\n",
       "    </tr>\n",
       "    <tr>\n",
       "      <th>3</th>\n",
       "      <td>product_cart</td>\n",
       "      <td>B</td>\n",
       "      <td>620</td>\n",
       "      <td>0.76</td>\n",
       "    </tr>\n",
       "    <tr>\n",
       "      <th>7</th>\n",
       "      <td>purchase</td>\n",
       "      <td>B</td>\n",
       "      <td>606</td>\n",
       "      <td>0.75</td>\n",
       "    </tr>\n",
       "  </tbody>\n",
       "</table>\n",
       "</div>"
      ],
      "text/plain": [
       "     event_name group  user_id  mean\n",
       "0         login     A     7602  3.14\n",
       "1         login     B     2301  2.83\n",
       "4  product_page     A     4904  2.02\n",
       "5  product_page     B     1241  1.53\n",
       "6      purchase     A     2359  0.97\n",
       "2  product_cart     A     2284  0.94\n",
       "3  product_cart     B      620  0.76\n",
       "7      purchase     B      606  0.75"
      ]
     },
     "execution_count": 55,
     "metadata": {},
     "output_type": "execute_result"
    }
   ],
   "source": [
    "groupsab['mean'] = round(groupsab['user_id']/test1.groupby('group')['user_id'].nunique(), 2)\n",
    "groupsab.reset_index(inplace=True)\n",
    "groupsab.sort_values(by='mean', ascending=False, inplace=True)\n",
    "groupsab"
   ]
  },
  {
   "cell_type": "code",
   "execution_count": 56,
   "metadata": {},
   "outputs": [
    {
     "data": {
      "image/png": "[encoded data removed]",
      "text/plain": [
       "<Figure size 432x288 with 1 Axes>"
      ]
     },
     "metadata": {
      "needs_background": "light"
     },
     "output_type": "display_data"
    }
   ],
   "source": [
    "ax = sns.barplot(x='event_name', y='mean', data=groupsab, hue='group')\n",
    "ax.set_title('Среднее количество событий на пользователя в выборках')\n",
    "ax.set_xlabel('Событие') \n",
    "ax.set_ylabel('Количество событий')\n",
    "plt.show()"
   ]
  },
  {
   "cell_type": "markdown",
   "metadata": {},
   "source": [
    "**Вывод**\n",
    "- Среднее количество событий на пользователя в группе A - 7, а в группе B - 6. \n",
    "- Исходя из графика, в группе А больше событий на пользователя по всем типам событий. Получается, что конверсия группы А выше, чем у группы В, и ожидаемый прирост в 10% ни в одном из событий (на первый взгляд) не наблюдается. "
   ]
  },
  {
   "cell_type": "markdown",
   "metadata": {},
   "source": [
    "### Распределение количества событий по дням"
   ]
  },
  {
   "cell_type": "markdown",
   "metadata": {},
   "source": [
    "Посмотрим на распределение количества событий по дням для каждой из групп."
   ]
  },
  {
   "cell_type": "code",
   "execution_count": 57,
   "metadata": {},
   "outputs": [],
   "source": [
    "events_by_day = test1.groupby(['event_dt', 'group', 'event_name'])['user_id'].count().reset_index()"
   ]
  },
  {
   "cell_type": "code",
   "execution_count": 58,
   "metadata": {},
   "outputs": [
    {
     "data": {
      "text/html": [
       "<div>\n",
       "<style scoped>\n",
       "    .dataframe tbody tr th:only-of-type {\n",
       "        vertical-align: middle;\n",
       "    }\n",
       "\n",
       "    .dataframe tbody tr th {\n",
       "        vertical-align: top;\n",
       "    }\n",
       "\n",
       "    .dataframe thead th {\n",
       "        text-align: right;\n",
       "    }\n",
       "</style>\n",
       "<table border=\"1\" class=\"dataframe\">\n",
       "  <thead>\n",
       "    <tr style=\"text-align: right;\">\n",
       "      <th></th>\n",
       "      <th>event_dt</th>\n",
       "      <th>group</th>\n",
       "      <th>event_name</th>\n",
       "      <th>user_id</th>\n",
       "    </tr>\n",
       "  </thead>\n",
       "  <tbody>\n",
       "    <tr>\n",
       "      <th>0</th>\n",
       "      <td>2020-12-07 00:16:00</td>\n",
       "      <td>A</td>\n",
       "      <td>login</td>\n",
       "      <td>1</td>\n",
       "    </tr>\n",
       "    <tr>\n",
       "      <th>1</th>\n",
       "      <td>2020-12-07 00:16:00</td>\n",
       "      <td>A</td>\n",
       "      <td>product_page</td>\n",
       "      <td>1</td>\n",
       "    </tr>\n",
       "    <tr>\n",
       "      <th>2</th>\n",
       "      <td>2020-12-07 00:16:00</td>\n",
       "      <td>A</td>\n",
       "      <td>purchase</td>\n",
       "      <td>1</td>\n",
       "    </tr>\n",
       "    <tr>\n",
       "      <th>3</th>\n",
       "      <td>2020-12-07 00:25:02</td>\n",
       "      <td>B</td>\n",
       "      <td>login</td>\n",
       "      <td>1</td>\n",
       "    </tr>\n",
       "    <tr>\n",
       "      <th>4</th>\n",
       "      <td>2020-12-07 00:25:02</td>\n",
       "      <td>B</td>\n",
       "      <td>product_page</td>\n",
       "      <td>1</td>\n",
       "    </tr>\n",
       "  </tbody>\n",
       "</table>\n",
       "</div>"
      ],
      "text/plain": [
       "             event_dt group    event_name  user_id\n",
       "0 2020-12-07 00:16:00     A         login        1\n",
       "1 2020-12-07 00:16:00     A  product_page        1\n",
       "2 2020-12-07 00:16:00     A      purchase        1\n",
       "3 2020-12-07 00:25:02     B         login        1\n",
       "4 2020-12-07 00:25:02     B  product_page        1"
      ]
     },
     "execution_count": 58,
     "metadata": {},
     "output_type": "execute_result"
    }
   ],
   "source": [
    "events_by_day.head()"
   ]
  },
  {
   "cell_type": "code",
   "execution_count": 59,
   "metadata": {
    "scrolled": false
   },
   "outputs": [
    {
     "data": {
      "image/png": "[encoded data removed]",
      "text/plain": [
       "<Figure size 432x288 with 1 Axes>"
      ]
     },
     "metadata": {
      "needs_background": "light"
     },
     "output_type": "display_data"
    }
   ],
   "source": [
    "sns.histplot(data=events_by_day, x=\"event_dt\", kde=True, bins=50, hue=\"group\", multiple=\"stack\")\n",
    "plt.xlabel(\"Дата событий совершенных пользователями\")\n",
    "plt.ylabel(\"Количество событий\")\n",
    "plt.title (\"Распределение событий пользователей по группам по дням \")\n",
    "plt.xticks(rotation=70);"
   ]
  },
  {
   "cell_type": "markdown",
   "metadata": {},
   "source": [
    "- количество событий в группе A заметно больше, чем в группе B.\n",
    "- наблюдается резкий рост числа событий в группе А в период с 13 по 21 декабря."
   ]
  },
  {
   "cell_type": "markdown",
   "metadata": {},
   "source": [
    "Посмотрим распределение количества событий по дням регистрации. "
   ]
  },
  {
   "cell_type": "code",
   "execution_count": 60,
   "metadata": {
    "scrolled": true
   },
   "outputs": [
    {
     "data": {
      "text/html": [
       "<div>\n",
       "<style scoped>\n",
       "    .dataframe tbody tr th:only-of-type {\n",
       "        vertical-align: middle;\n",
       "    }\n",
       "\n",
       "    .dataframe tbody tr th {\n",
       "        vertical-align: top;\n",
       "    }\n",
       "\n",
       "    .dataframe thead th {\n",
       "        text-align: right;\n",
       "    }\n",
       "</style>\n",
       "<table border=\"1\" class=\"dataframe\">\n",
       "  <thead>\n",
       "    <tr style=\"text-align: right;\">\n",
       "      <th></th>\n",
       "      <th>first_date</th>\n",
       "      <th>group</th>\n",
       "      <th>event_name</th>\n",
       "      <th>user_id</th>\n",
       "    </tr>\n",
       "  </thead>\n",
       "  <tbody>\n",
       "    <tr>\n",
       "      <th>0</th>\n",
       "      <td>2020-12-07</td>\n",
       "      <td>A</td>\n",
       "      <td>login</td>\n",
       "      <td>439</td>\n",
       "    </tr>\n",
       "    <tr>\n",
       "      <th>1</th>\n",
       "      <td>2020-12-07</td>\n",
       "      <td>A</td>\n",
       "      <td>product_cart</td>\n",
       "      <td>108</td>\n",
       "    </tr>\n",
       "    <tr>\n",
       "      <th>2</th>\n",
       "      <td>2020-12-07</td>\n",
       "      <td>A</td>\n",
       "      <td>product_page</td>\n",
       "      <td>277</td>\n",
       "    </tr>\n",
       "    <tr>\n",
       "      <th>3</th>\n",
       "      <td>2020-12-07</td>\n",
       "      <td>A</td>\n",
       "      <td>purchase</td>\n",
       "      <td>125</td>\n",
       "    </tr>\n",
       "    <tr>\n",
       "      <th>4</th>\n",
       "      <td>2020-12-07</td>\n",
       "      <td>B</td>\n",
       "      <td>login</td>\n",
       "      <td>535</td>\n",
       "    </tr>\n",
       "  </tbody>\n",
       "</table>\n",
       "</div>"
      ],
      "text/plain": [
       "  first_date group    event_name  user_id\n",
       "0 2020-12-07     A         login      439\n",
       "1 2020-12-07     A  product_cart      108\n",
       "2 2020-12-07     A  product_page      277\n",
       "3 2020-12-07     A      purchase      125\n",
       "4 2020-12-07     B         login      535"
      ]
     },
     "execution_count": 60,
     "metadata": {},
     "output_type": "execute_result"
    }
   ],
   "source": [
    "events_by_1day = test1.groupby(['first_date', 'group', 'event_name'])['user_id'].count().reset_index()\n",
    "events_by_1day.head()"
   ]
  },
  {
   "cell_type": "code",
   "execution_count": 61,
   "metadata": {
    "scrolled": true
   },
   "outputs": [
    {
     "data": {
      "image/png": "[encoded data removed]",
      "text/plain": [
       "<Figure size 1080x288 with 1 Axes>"
      ]
     },
     "metadata": {
      "needs_background": "light"
     },
     "output_type": "display_data"
    }
   ],
   "source": [
    "# строим график\n",
    "\n",
    "plt.figure(figsize=(15, 4))\n",
    "sns.set_style(\"whitegrid\")\n",
    "ax = sns.lineplot(data=events_by_1day, x='first_date', y='user_id', hue='group')\n",
    "ax.set_xticks(events_by_1day['first_date'])\n",
    "ax.set_title('Распределение количества событий в группах по дням регистрации')\n",
    "plt.xlabel('Даты регистраций')\n",
    "plt.ylabel('Количество событий')\n",
    "plt.xticks(rotation=45);"
   ]
  },
  {
   "cell_type": "markdown",
   "metadata": {},
   "source": [
    "Тут аналогичная ситуация, всплески событий произошли в дни регистрации с 13 по 21 декабря. Скорее всего, в эти даты большое количество участников зарегистрировалось, и отсюда всплекс по событиям.\n",
    "\n",
    "Посмотрим, сколько пользователей зарегистрировалось в эти дни в группе А."
   ]
  },
  {
   "cell_type": "code",
   "execution_count": 62,
   "metadata": {},
   "outputs": [
    {
     "data": {
      "text/plain": [
       "1881"
      ]
     },
     "execution_count": 62,
     "metadata": {},
     "output_type": "execute_result"
    }
   ],
   "source": [
    "test1.query(\"first_date > datetime(2020, 12, 13) & first_date <= datetime(2020, 12, 21) & group == 'A'\")['user_id'].nunique()"
   ]
  },
  {
   "cell_type": "markdown",
   "metadata": {},
   "source": [
    "1881 пользователь из 2422 пользователей в группе А зарегистрировались в этот промежуток времени, около 70%. Резкий всплеск событий на графиках связан с увеличением количества регистраций в эти дни."
   ]
  },
  {
   "cell_type": "markdown",
   "metadata": {},
   "source": [
    "**Вывод**\n",
    "- Количество событий в группе A заметно больше, чем в группе B.\n",
    "- С 13 по 21 декабря наблюдается резкое увеличение количества регистраций в обеих группах, но более всего в группе А."
   ]
  },
  {
   "cell_type": "markdown",
   "metadata": {},
   "source": [
    "### Изменение конверсии в воронке на разных этапах"
   ]
  },
  {
   "cell_type": "markdown",
   "metadata": {},
   "source": [
    "Отфильтруем события, которые происходили только в течение 14 дней с момента регистрации. "
   ]
  },
  {
   "cell_type": "code",
   "execution_count": 63,
   "metadata": {
    "scrolled": true
   },
   "outputs": [
    {
     "data": {
      "text/plain": [
       "3234"
      ]
     },
     "execution_count": 63,
     "metadata": {},
     "output_type": "execute_result"
    }
   ],
   "source": [
    "#проверим сколько уникальных пользователей сейчас в данных\n",
    "\n",
    "test1.user_id.nunique()"
   ]
  },
  {
   "cell_type": "markdown",
   "metadata": {},
   "source": [
    "Установим горизонт событий - 14 дней, а последняя дата - 4 января 2021 г. Исключим пользователей, не «доживших» до горизонта анализа (`last_date`)."
   ]
  },
  {
   "cell_type": "code",
   "execution_count": 64,
   "metadata": {},
   "outputs": [],
   "source": [
    "horizon_days = 14\n",
    "observation_date = datetime(2021, 1, 4).date()\n",
    "last_date = observation_date - timedelta(days = horizon_days - 1)"
   ]
  },
  {
   "cell_type": "code",
   "execution_count": 65,
   "metadata": {},
   "outputs": [],
   "source": [
    "#отфильтруем по дате последнего набора пользователей \n",
    "\n",
    "test1 = test1.query('event_dt <= @last_date')"
   ]
  },
  {
   "cell_type": "code",
   "execution_count": 66,
   "metadata": {},
   "outputs": [],
   "source": [
    "#добавим столбец, отображающий лайфтайм пользователя\n",
    "\n",
    "test1['lifetime'] = (test1['event_dt'] - test1['first_date']).dt.days"
   ]
  },
  {
   "cell_type": "code",
   "execution_count": 67,
   "metadata": {},
   "outputs": [
    {
     "data": {
      "text/html": [
       "<div>\n",
       "<style scoped>\n",
       "    .dataframe tbody tr th:only-of-type {\n",
       "        vertical-align: middle;\n",
       "    }\n",
       "\n",
       "    .dataframe tbody tr th {\n",
       "        vertical-align: top;\n",
       "    }\n",
       "\n",
       "    .dataframe thead th {\n",
       "        text-align: right;\n",
       "    }\n",
       "</style>\n",
       "<table border=\"1\" class=\"dataframe\">\n",
       "  <thead>\n",
       "    <tr style=\"text-align: right;\">\n",
       "      <th></th>\n",
       "      <th>user_id</th>\n",
       "      <th>event_dt</th>\n",
       "      <th>event_name</th>\n",
       "      <th>details</th>\n",
       "      <th>first_date</th>\n",
       "      <th>region</th>\n",
       "      <th>device</th>\n",
       "      <th>group</th>\n",
       "      <th>ab_test</th>\n",
       "      <th>lifetime</th>\n",
       "    </tr>\n",
       "  </thead>\n",
       "  <tbody>\n",
       "  </tbody>\n",
       "</table>\n",
       "</div>"
      ],
      "text/plain": [
       "Empty DataFrame\n",
       "Columns: [user_id, event_dt, event_name, details, first_date, region, device, group, ab_test, lifetime]\n",
       "Index: []"
      ]
     },
     "execution_count": 67,
     "metadata": {},
     "output_type": "execute_result"
    }
   ],
   "source": [
    "#проверим, есть ли пользователи с лайфтаймом более 14 дней\n",
    "\n",
    "test1.query('lifetime > 14')"
   ]
  },
  {
   "cell_type": "code",
   "execution_count": 68,
   "metadata": {},
   "outputs": [],
   "source": [
    "#отфильтруем с лайфтаймом менее 14 дней и пересохраним данные\n",
    "\n",
    "test1 = test1.query('lifetime < 14')"
   ]
  },
  {
   "cell_type": "code",
   "execution_count": 69,
   "metadata": {},
   "outputs": [
    {
     "data": {
      "text/plain": [
       "3234"
      ]
     },
     "execution_count": 69,
     "metadata": {},
     "output_type": "execute_result"
    }
   ],
   "source": [
    "#проверим количество уникальных пользователей\n",
    "\n",
    "test1.user_id.nunique()"
   ]
  },
  {
   "cell_type": "code",
   "execution_count": 70,
   "metadata": {},
   "outputs": [
    {
     "data": {
      "text/plain": [
       "14"
      ]
     },
     "execution_count": 70,
     "metadata": {},
     "output_type": "execute_result"
    }
   ],
   "source": [
    "#проверим лайфтайм\n",
    "\n",
    "test1.lifetime.nunique()"
   ]
  },
  {
   "cell_type": "markdown",
   "metadata": {},
   "source": [
    "Количество пользователей не изменилось, попробовала отфильтровать двумя способами. Возможно, что на этапе присоединения таблиц отсеяла слишком много пользователей, но не нашла ошибку в присоединении таблиц."
   ]
  },
  {
   "cell_type": "markdown",
   "metadata": {},
   "source": [
    "Построим сводную таблицу для воронки и посчитаем количество событий для каждой группы."
   ]
  },
  {
   "cell_type": "code",
   "execution_count": 71,
   "metadata": {},
   "outputs": [
    {
     "data": {
      "text/html": [
       "<div>\n",
       "<style scoped>\n",
       "    .dataframe tbody tr th:only-of-type {\n",
       "        vertical-align: middle;\n",
       "    }\n",
       "\n",
       "    .dataframe tbody tr th {\n",
       "        vertical-align: top;\n",
       "    }\n",
       "\n",
       "    .dataframe thead th {\n",
       "        text-align: right;\n",
       "    }\n",
       "</style>\n",
       "<table border=\"1\" class=\"dataframe\">\n",
       "  <thead>\n",
       "    <tr style=\"text-align: right;\">\n",
       "      <th>group</th>\n",
       "      <th>event_name</th>\n",
       "      <th>A</th>\n",
       "      <th>B</th>\n",
       "    </tr>\n",
       "  </thead>\n",
       "  <tbody>\n",
       "    <tr>\n",
       "      <th>0</th>\n",
       "      <td>login</td>\n",
       "      <td>2422</td>\n",
       "      <td>811</td>\n",
       "    </tr>\n",
       "    <tr>\n",
       "      <th>1</th>\n",
       "      <td>product_cart</td>\n",
       "      <td>728</td>\n",
       "      <td>225</td>\n",
       "    </tr>\n",
       "    <tr>\n",
       "      <th>2</th>\n",
       "      <td>product_page</td>\n",
       "      <td>1571</td>\n",
       "      <td>461</td>\n",
       "    </tr>\n",
       "    <tr>\n",
       "      <th>3</th>\n",
       "      <td>purchase</td>\n",
       "      <td>773</td>\n",
       "      <td>228</td>\n",
       "    </tr>\n",
       "  </tbody>\n",
       "</table>\n",
       "</div>"
      ],
      "text/plain": [
       "group    event_name     A    B\n",
       "0             login  2422  811\n",
       "1      product_cart   728  225\n",
       "2      product_page  1571  461\n",
       "3          purchase   773  228"
      ]
     },
     "execution_count": 71,
     "metadata": {},
     "output_type": "execute_result"
    }
   ],
   "source": [
    "funnel = test1.pivot_table(index='event_name', values='user_id', columns='group', aggfunc='nunique')\\\n",
    "                            .reset_index()\n",
    "funnel"
   ]
  },
  {
   "cell_type": "code",
   "execution_count": 72,
   "metadata": {},
   "outputs": [],
   "source": [
    "# Отсортируем по последовательности шагов\n",
    "\n",
    "funnel['step'] = [1, 3, 2, 4]\n",
    "funnel = funnel.sort_values(by='step')"
   ]
  },
  {
   "cell_type": "code",
   "execution_count": 73,
   "metadata": {},
   "outputs": [
    {
     "data": {
      "image/svg+xml": [
       "<svg class=\"main-svg\" xmlns=\"http://www.w3.org/2000/svg\" xmlns:xlink=\"http://www.w3.org/1999/xlink\" width=\"840\" height=\"600\" style=\"\" viewBox=\"0 0 700 500\"><rect x=\"0\" y=\"0\" width=\"700\" height=\"500\" style=\"fill: rgb(255, 255, 255); fill-opacity: 1;\"/><defs id=\"defs-66b119\"><g class=\"clips\"><clipPath id=\"clip66b119xyplot\" class=\"plotclip\"><rect width=\"497\" height=\"320\"/></clipPath><clipPath class=\"axesclip\" id=\"clip66b119x\"><rect x=\"86\" y=\"0\" width=\"497\" height=\"500\"/></clipPath><clipPath class=\"axesclip\" id=\"clip66b119y\"><rect x=\"0\" y=\"100\" width=\"700\" height=\"320\"/></clipPath><clipPath class=\"axesclip\" id=\"clip66b119xy\"><rect x=\"86\" y=\"100\" width=\"497\" height=\"320\"/></clipPath></g><g class=\"gradients\"/><g class=\"patterns\"/></defs><g class=\"bglayer\"><rect class=\"bg\" x=\"86\" y=\"100\" width=\"497\" height=\"320\" style=\"fill: rgb(229, 236, 246); fill-opacity: 1; stroke-width: 0;\"/></g><g class=\"layer-below\"><g class=\"imagelayer\"/><g class=\"shapelayer\"/></g><g class=\"cartesianlayer\"><g class=\"subplot xy\"><g class=\"layer-subplot\"><g class=\"shapelayer\"/><g class=\"imagelayer\"/></g><g class=\"gridlayer\"><g class=\"x\"/><g class=\"y\"/></g><g class=\"zerolinelayer\"/><path class=\"xlines-below\"/><path class=\"ylines-below\"/><g class=\"overlines-below\"/><g class=\"xaxislayer-below\"/><g class=\"yaxislayer-below\"/><g class=\"overaxes-below\"/><g class=\"plot\" transform=\"translate(86,100)\" clip-path=\"url(#clip66b119xyplot)\"><g class=\"funnellayer mlayer\"><g class=\"trace bars\" style=\"opacity: 1;\"><g class=\"regions\"><g class=\"region\"><path d=\"M24.85,72L107.93,88H325.29L359.94,72Z\" style=\"stroke-width: 0; fill: rgb(99, 110, 250); fill-opacity: 0.5;\"/></g><g class=\"region\"><path d=\"M107.93,152L182.57,168H283.3L325.29,152Z\" style=\"stroke-width: 0; fill: rgb(99, 110, 250); fill-opacity: 0.5;\"/></g><g class=\"region\"><path d=\"M182.57,232L179.25,248H286.2L283.3,232Z\" style=\"stroke-width: 0; fill: rgb(99, 110, 250); fill-opacity: 0.5;\"/></g><g class=\"region\"><path d=\"M0,0Z\" style=\"stroke-width: 0; fill: rgb(99, 110, 250); fill-opacity: 0.5;\"/></g></g><g class=\"points\"><g class=\"point\"><path d=\"M24.85,8V72H359.94V8Z\" style=\"vector-effect: non-scaling-stroke; fill: rgb(99, 110, 250); fill-opacity: 1; stroke: rgb(68, 68, 68); stroke-opacity: 1; stroke-width: 0px; opacity: 1;\"/><text class=\"bartext bartext-inside\" text-anchor=\"middle\" data-notex=\"1\" x=\"0\" y=\"0\" style=\"font-family: 'Open Sans', verdana, arial, sans-serif; font-size: 12px; fill: rgb(255, 255, 255); fill-opacity: 1; white-space: pre;\" transform=\"translate(192.2309375,36.1953125)\"><tspan class=\"line\" dy=\"0em\" x=\"0\" y=\"0\">2422</tspan><tspan class=\"line\" dy=\"1.3em\" x=\"0\" y=\"0\">100%</tspan></text></g><g class=\"point\"><path d=\"M107.93,88V152H325.29V88Z\" style=\"vector-effect: non-scaling-stroke; fill: rgb(99, 110, 250); fill-opacity: 1; stroke: rgb(68, 68, 68); stroke-opacity: 1; stroke-width: 0px; opacity: 1;\"/><text class=\"bartext bartext-inside\" text-anchor=\"middle\" data-notex=\"1\" x=\"0\" y=\"0\" style=\"font-family: 'Open Sans', verdana, arial, sans-serif; font-size: 12px; fill: rgb(255, 255, 255); fill-opacity: 1; white-space: pre;\" transform=\"translate(216.4459375,116.1953125)\"><tspan class=\"line\" dy=\"0em\" x=\"0\" y=\"0\">1571</tspan><tspan class=\"line\" dy=\"1.3em\" x=\"0\" y=\"0\">65%</tspan></text></g><g class=\"point\"><path d=\"M182.57,168V232H283.3V168Z\" style=\"vector-effect: non-scaling-stroke; fill: rgb(99, 110, 250); fill-opacity: 1; stroke: rgb(68, 68, 68); stroke-opacity: 1; stroke-width: 0px; opacity: 1;\"/><text class=\"bartext bartext-inside\" text-anchor=\"middle\" data-notex=\"1\" x=\"0\" y=\"0\" style=\"font-family: 'Open Sans', verdana, arial, sans-serif; font-size: 12px; fill: rgb(255, 255, 255); fill-opacity: 1; white-space: pre;\" transform=\"translate(232.7709375,196.1953125)\"><tspan class=\"line\" dy=\"0em\" x=\"0\" y=\"0\">728</tspan><tspan class=\"line\" dy=\"1.3em\" x=\"0\" y=\"0\">30%</tspan></text></g><g class=\"point\"><path d=\"M179.25,248V312H286.2V248Z\" style=\"vector-effect: non-scaling-stroke; fill: rgb(99, 110, 250); fill-opacity: 1; stroke: rgb(68, 68, 68); stroke-opacity: 1; stroke-width: 0px; opacity: 1;\"/><text class=\"bartext bartext-inside\" text-anchor=\"middle\" data-notex=\"1\" x=\"0\" y=\"0\" style=\"font-family: 'Open Sans', verdana, arial, sans-serif; font-size: 12px; fill: rgb(255, 255, 255); fill-opacity: 1; white-space: pre;\" transform=\"translate(232.5609375,276.1953125)\"><tspan class=\"line\" dy=\"0em\" x=\"0\" y=\"0\">773</tspan><tspan class=\"line\" dy=\"1.3em\" x=\"0\" y=\"0\">32%</tspan></text></g></g></g><g class=\"trace bars\" style=\"opacity: 1;\"><g class=\"regions\"><g class=\"region\"><path d=\"M359.94,72L325.29,88H389.07L472.15,72Z\" style=\"stroke-width: 0; fill: rgb(239, 85, 59); fill-opacity: 0.5;\"/></g><g class=\"region\"><path d=\"M325.29,152L283.3,168H314.43L389.07,152Z\" style=\"stroke-width: 0; fill: rgb(239, 85, 59); fill-opacity: 0.5;\"/></g><g class=\"region\"><path d=\"M283.3,232L286.2,248H317.75L314.43,232Z\" style=\"stroke-width: 0; fill: rgb(239, 85, 59); fill-opacity: 0.5;\"/></g><g class=\"region\"><path d=\"M0,0Z\" style=\"stroke-width: 0; fill: rgb(239, 85, 59); fill-opacity: 0.5;\"/></g></g><g class=\"points\"><g class=\"point\"><path d=\"M359.94,8V72H472.15V8Z\" style=\"vector-effect: non-scaling-stroke; fill: rgb(239, 85, 59); fill-opacity: 1; stroke: rgb(68, 68, 68); stroke-opacity: 1; stroke-width: 0px; opacity: 1;\"/><text class=\"bartext bartext-inside\" text-anchor=\"middle\" data-notex=\"1\" x=\"0\" y=\"0\" style=\"font-family: 'Open Sans', verdana, arial, sans-serif; font-size: 12px; fill: rgb(68, 68, 68); fill-opacity: 1; white-space: pre;\" transform=\"translate(415.88093749999996,36.1953125)\"><tspan class=\"line\" dy=\"0em\" x=\"0\" y=\"0\">811</tspan><tspan class=\"line\" dy=\"1.3em\" x=\"0\" y=\"0\">100%</tspan></text></g><g class=\"point\"><path d=\"M325.29,88V152H389.07V88Z\" style=\"vector-effect: non-scaling-stroke; fill: rgb(239, 85, 59); fill-opacity: 1; stroke: rgb(68, 68, 68); stroke-opacity: 1; stroke-width: 0px; opacity: 1;\"/><text class=\"bartext bartext-inside\" text-anchor=\"middle\" data-notex=\"1\" x=\"0\" y=\"0\" style=\"font-family: 'Open Sans', verdana, arial, sans-serif; font-size: 12px; fill: rgb(68, 68, 68); fill-opacity: 1; white-space: pre;\" transform=\"translate(357.0159375,116.1953125)\"><tspan class=\"line\" dy=\"0em\" x=\"0\" y=\"0\">461</tspan><tspan class=\"line\" dy=\"1.3em\" x=\"0\" y=\"0\">57%</tspan></text></g><g class=\"point\"><path d=\"M283.3,168V232H314.43V168Z\" style=\"vector-effect: non-scaling-stroke; fill: rgb(239, 85, 59); fill-opacity: 1; stroke: rgb(68, 68, 68); stroke-opacity: 1; stroke-width: 0px; opacity: 1;\"/><text class=\"bartext bartext-inside\" text-anchor=\"middle\" data-notex=\"1\" x=\"0\" y=\"0\" style=\"font-family: 'Open Sans', verdana, arial, sans-serif; font-size: 12px; fill: rgb(68, 68, 68); fill-opacity: 1; white-space: pre;\" transform=\"translate(298.7009375,196.1953125)\"><tspan class=\"line\" dy=\"0em\" x=\"0\" y=\"0\">225</tspan><tspan class=\"line\" dy=\"1.3em\" x=\"0\" y=\"0\">28%</tspan></text></g><g class=\"point\"><path d=\"M286.2,248V312H317.75V248Z\" style=\"vector-effect: non-scaling-stroke; fill: rgb(239, 85, 59); fill-opacity: 1; stroke: rgb(68, 68, 68); stroke-opacity: 1; stroke-width: 0px; opacity: 1;\"/><text class=\"bartext bartext-inside\" text-anchor=\"middle\" data-notex=\"1\" x=\"0\" y=\"0\" style=\"font-family: 'Open Sans', verdana, arial, sans-serif; font-size: 12px; fill: rgb(68, 68, 68); fill-opacity: 1; white-space: pre;\" transform=\"translate(301.8109375,276.1953125)\"><tspan class=\"line\" dy=\"0em\" x=\"0\" y=\"0\">228</tspan><tspan class=\"line\" dy=\"1.3em\" x=\"0\" y=\"0\">28%</tspan></text></g></g></g></g></g><g class=\"overplot\"/><path class=\"xlines-above crisp\" d=\"M0,0\" style=\"fill: none;\"/><path class=\"ylines-above crisp\" d=\"M0,0\" style=\"fill: none;\"/><g class=\"overlines-above\"/><g class=\"xaxislayer-above\"/><g class=\"yaxislayer-above\"><g class=\"ytick\"><text text-anchor=\"end\" x=\"85\" y=\"4.199999999999999\" transform=\"translate(0,380)\" style=\"font-family: 'Open Sans', verdana, arial, sans-serif; font-size: 12px; fill: rgb(42, 63, 95); fill-opacity: 1; white-space: pre; opacity: 1;\">purchase</text></g><g class=\"ytick\"><text text-anchor=\"end\" x=\"85\" y=\"4.199999999999999\" transform=\"translate(0,300)\" style=\"font-family: 'Open Sans', verdana, arial, sans-serif; font-size: 12px; fill: rgb(42, 63, 95); fill-opacity: 1; white-space: pre; opacity: 1;\">product_cart</text></g><g class=\"ytick\"><text text-anchor=\"end\" x=\"85\" y=\"4.199999999999999\" transform=\"translate(0,220)\" style=\"font-family: 'Open Sans', verdana, arial, sans-serif; font-size: 12px; fill: rgb(42, 63, 95); fill-opacity: 1; white-space: pre; opacity: 1;\">product_page</text></g><g class=\"ytick\"><text text-anchor=\"end\" x=\"85\" y=\"4.199999999999999\" transform=\"translate(0,140)\" style=\"font-family: 'Open Sans', verdana, arial, sans-serif; font-size: 12px; fill: rgb(42, 63, 95); fill-opacity: 1; white-space: pre; opacity: 1;\">login</text></g></g><g class=\"overaxes-above\"/></g></g><g class=\"polarlayer\"/><g class=\"smithlayer\"/><g class=\"ternarylayer\"/><g class=\"geolayer\"/><g class=\"funnelarealayer\"/><g class=\"pielayer\"/><g class=\"iciclelayer\"/><g class=\"treemaplayer\"/><g class=\"sunburstlayer\"/><g class=\"glimages\"/><defs id=\"topdefs-66b119\"><g class=\"clips\"/><clipPath id=\"legend66b119\"><rect width=\"95\" height=\"48\" x=\"0\" y=\"0\"/></clipPath></defs><g class=\"layer-above\"><g class=\"imagelayer\"/><g class=\"shapelayer\"/></g><g class=\"infolayer\"><g class=\"legend\" pointer-events=\"all\" transform=\"translate(592.94,100)\"><rect class=\"bg\" shape-rendering=\"crispEdges\" style=\"stroke: rgb(68, 68, 68); stroke-opacity: 1; fill: rgb(255, 255, 255); fill-opacity: 1; stroke-width: 0px;\" width=\"95\" height=\"48\" x=\"0\" y=\"0\"/><g class=\"scrollbox\" transform=\"\" clip-path=\"url(#legend66b119)\"><g class=\"groups\"><g class=\"traces\" transform=\"translate(0,14.5)\" style=\"opacity: 1;\"><text class=\"legendtext\" text-anchor=\"start\" x=\"40\" y=\"4.680000000000001\" style=\"font-family: 'Open Sans', verdana, arial, sans-serif; font-size: 12px; fill: rgb(42, 63, 95); fill-opacity: 1; white-space: pre;\">Группа А</text><g class=\"layers\" style=\"opacity: 1;\"><g class=\"legendfill\"/><g class=\"legendlines\"/><g class=\"legendsymbols\"><g class=\"legendpoints\"><path class=\"legendfunnel\" d=\"M6,6H-6V-6H6Z\" transform=\"translate(20,0)\" style=\"stroke-width: 0px; fill: rgb(99, 110, 250); fill-opacity: 1;\"/></g></g></g><rect class=\"legendtoggle\" x=\"0\" y=\"-9.5\" width=\"89.375\" height=\"19\" style=\"fill: rgb(0, 0, 0); fill-opacity: 0;\"/></g><g class=\"traces\" transform=\"translate(0,33.5)\" style=\"opacity: 1;\"><text class=\"legendtext\" text-anchor=\"start\" x=\"40\" y=\"4.680000000000001\" style=\"font-family: 'Open Sans', verdana, arial, sans-serif; font-size: 12px; fill: rgb(42, 63, 95); fill-opacity: 1; white-space: pre;\">Группа В</text><g class=\"layers\" style=\"opacity: 1;\"><g class=\"legendfill\"/><g class=\"legendlines\"/><g class=\"legendsymbols\"><g class=\"legendpoints\"><path class=\"legendfunnel\" d=\"M6,6H-6V-6H6Z\" transform=\"translate(20,0)\" style=\"stroke-width: 0px; fill: rgb(239, 85, 59); fill-opacity: 1;\"/></g></g></g><rect class=\"legendtoggle\" x=\"0\" y=\"-9.5\" width=\"89.375\" height=\"19\" style=\"fill: rgb(0, 0, 0); fill-opacity: 0;\"/></g></g></g><rect class=\"scrollbar\" rx=\"20\" ry=\"3\" width=\"0\" height=\"0\" style=\"fill: rgb(128, 139, 164); fill-opacity: 1;\" x=\"0\" y=\"0\"/></g><g class=\"g-gtitle\"><text class=\"gtitle\" x=\"35\" y=\"50\" text-anchor=\"start\" dy=\"0em\" style=\"font-family: 'Open Sans', verdana, arial, sans-serif; font-size: 17px; fill: rgb(42, 63, 95); opacity: 1; font-weight: normal; white-space: pre;\">Воронка событий</text></g><g class=\"g-ytitle\"/></g></svg>"
      ]
     },
     "metadata": {},
     "output_type": "display_data"
    }
   ],
   "source": [
    "fig = go.Figure()\n",
    "\n",
    "fig.add_trace(go.Funnel(\n",
    "    name = 'Группа А',\n",
    "    y = funnel['event_name'],\n",
    "    x = funnel['A'],\n",
    "    textinfo = 'value+percent initial'))\n",
    "\n",
    "fig.add_trace(go.Funnel(\n",
    "    name = 'Группа В',\n",
    "    y = funnel['event_name'],\n",
    "    x = funnel['B'],\n",
    "    textinfo = \"value+percent initial\"))\n",
    "\n",
    "fig.update_layout(title_text='Воронка событий')\n",
    "fig.show()"
   ]
  },
  {
   "cell_type": "markdown",
   "metadata": {},
   "source": [
    "**Вывод**\n",
    "\n",
    "- До покупки доходят только 32% пользователей группы А и 28% - группы В. \n",
    "- Больше всего падает коверсия между просмотром карточек товаров и просмотром корзины. Только около половины пользователей конвертируются на следующий шаг.\n",
    "- Пользователей, совершивших покупку, больше, чем пользователей, просмотревших корзину, то есть шаги поменялись местами. Это значит, что совершать покупку на сайте можно не только со страницы просмотра корзины, но и через товарную карточку, например. \n",
    "- Доли перехода по всем этапам в процентном соотношении стали ниже у группы B. "
   ]
  },
  {
   "cell_type": "markdown",
   "metadata": {},
   "source": [
    "### Особенности перед A/B-тестированием"
   ]
  },
  {
   "cell_type": "markdown",
   "metadata": {},
   "source": [
    "Нужно учесть следующие обнаруженные особенности перед оценкой результатов:\n",
    "- Группы A и B распределены неравномерно, что уже может исказить результаты тестирования. Группа A имеет сильный перевес по количеству пользователей.\n",
    "- Пользователи группы А во всех типах событий совершают больше действий, чем пользователи группы B. \n",
    "- Был всплеск регистраций с 13 по 21 декабря. В целом, можно сказать, что период тестирования был подобран неудачно, поскольку имеет влияние сезонность, то есть покупательская активность в декабре перед Новым годом резко увеличивается, и вполне возможно, что введенные в этот промежуток времени новшества могут не повлиять на пользователей в обычный период покупательской активности.\n",
    "- Отсутствуют данные с 30-го декабря и по 4 января 2021 г., что сказывается на том, что у некоторых пользователей лайфтайм короче 14 дней, часть данных отсутствует.\n",
    "- Доли перехода по всем этапам в процентном соотношении стали ниже у группы B.\n",
    "\n",
    "С учетом всех этих моментов эксперимент можно признать неудачным, но все равно проверим, насколько разница в конверсии статистически значима."
   ]
  },
  {
   "cell_type": "markdown",
   "metadata": {},
   "source": [
    "## Оценка результатов A/B-тестирования"
   ]
  },
  {
   "cell_type": "markdown",
   "metadata": {},
   "source": [
    "### Проверка статистической разницы долей z-критерием"
   ]
  },
  {
   "cell_type": "markdown",
   "metadata": {},
   "source": [
    "Проверим, насколько разница в конверсии статистически значима. Для оценки равенства долей применим z-критерий.\n",
    "\n",
    "Уровень статистической значимости изначально установим alpha = 0,05. Однако из-за того, что мы будем проводить множественные тесты на одинаковом наборе данных, применим поправку Бонферрони для того, чтобы снизить вероятность ошибки первого рода. Поскольку мы собираемся провести 3 попарных сравнения, то уровень alpha зададим 0.05/3 = 0.016"
   ]
  },
  {
   "cell_type": "code",
   "execution_count": 74,
   "metadata": {},
   "outputs": [
    {
     "data": {
      "text/html": [
       "<div>\n",
       "<style scoped>\n",
       "    .dataframe tbody tr th:only-of-type {\n",
       "        vertical-align: middle;\n",
       "    }\n",
       "\n",
       "    .dataframe tbody tr th {\n",
       "        vertical-align: top;\n",
       "    }\n",
       "\n",
       "    .dataframe thead th {\n",
       "        text-align: right;\n",
       "    }\n",
       "</style>\n",
       "<table border=\"1\" class=\"dataframe\">\n",
       "  <thead>\n",
       "    <tr style=\"text-align: right;\">\n",
       "      <th></th>\n",
       "      <th>group</th>\n",
       "      <th>event_name</th>\n",
       "      <th>nunique_user_id</th>\n",
       "    </tr>\n",
       "  </thead>\n",
       "  <tbody>\n",
       "    <tr>\n",
       "      <th>1</th>\n",
       "      <td>A</td>\n",
       "      <td>product_page</td>\n",
       "      <td>1571</td>\n",
       "    </tr>\n",
       "    <tr>\n",
       "      <th>2</th>\n",
       "      <td>A</td>\n",
       "      <td>purchase</td>\n",
       "      <td>773</td>\n",
       "    </tr>\n",
       "    <tr>\n",
       "      <th>0</th>\n",
       "      <td>A</td>\n",
       "      <td>product_cart</td>\n",
       "      <td>728</td>\n",
       "    </tr>\n",
       "    <tr>\n",
       "      <th>4</th>\n",
       "      <td>B</td>\n",
       "      <td>product_page</td>\n",
       "      <td>461</td>\n",
       "    </tr>\n",
       "    <tr>\n",
       "      <th>5</th>\n",
       "      <td>B</td>\n",
       "      <td>purchase</td>\n",
       "      <td>228</td>\n",
       "    </tr>\n",
       "    <tr>\n",
       "      <th>3</th>\n",
       "      <td>B</td>\n",
       "      <td>product_cart</td>\n",
       "      <td>225</td>\n",
       "    </tr>\n",
       "  </tbody>\n",
       "</table>\n",
       "</div>"
      ],
      "text/plain": [
       "  group    event_name  nunique_user_id\n",
       "1     A  product_page             1571\n",
       "2     A      purchase              773\n",
       "0     A  product_cart              728\n",
       "4     B  product_page              461\n",
       "5     B      purchase              228\n",
       "3     B  product_cart              225"
      ]
     },
     "execution_count": 74,
     "metadata": {},
     "output_type": "execute_result"
    }
   ],
   "source": [
    "funnel1 = test1.query('event_name != \"login\"').groupby(['group', 'event_name'])\\\n",
    "                                   .agg({'user_id':'nunique'}).reset_index()\n",
    "funnel1.columns = ['group', 'event_name', 'nunique_user_id']\n",
    "funnel1.sort_values(by=['group', 'nunique_user_id'], ascending=[True, False])"
   ]
  },
  {
   "cell_type": "markdown",
   "metadata": {},
   "source": [
    "Поскольку проверяем разницу в конверсии от начального этапа воронки, а это количество всех зарегистрировавшихся пользователей (то есть общее количество пользователей в группе), то добавим эти данные в отдельный столбец."
   ]
  },
  {
   "cell_type": "code",
   "execution_count": 75,
   "metadata": {},
   "outputs": [],
   "source": [
    "#добавляем количество зарегистрировавшихся пользователей\n",
    "\n",
    "users_quant = test1.groupby('group')['user_id'].nunique()\n",
    "funnel1['users_count'] = funnel1['group'].apply(lambda x: users_quant.loc[x])"
   ]
  },
  {
   "cell_type": "code",
   "execution_count": 76,
   "metadata": {
    "scrolled": true
   },
   "outputs": [
    {
     "data": {
      "text/html": [
       "<div>\n",
       "<style scoped>\n",
       "    .dataframe tbody tr th:only-of-type {\n",
       "        vertical-align: middle;\n",
       "    }\n",
       "\n",
       "    .dataframe tbody tr th {\n",
       "        vertical-align: top;\n",
       "    }\n",
       "\n",
       "    .dataframe thead th {\n",
       "        text-align: right;\n",
       "    }\n",
       "</style>\n",
       "<table border=\"1\" class=\"dataframe\">\n",
       "  <thead>\n",
       "    <tr style=\"text-align: right;\">\n",
       "      <th></th>\n",
       "      <th>index</th>\n",
       "      <th>group</th>\n",
       "      <th>event_name</th>\n",
       "      <th>nunique_user_id</th>\n",
       "      <th>users_count</th>\n",
       "    </tr>\n",
       "  </thead>\n",
       "  <tbody>\n",
       "    <tr>\n",
       "      <th>0</th>\n",
       "      <td>0</td>\n",
       "      <td>A</td>\n",
       "      <td>product_cart</td>\n",
       "      <td>728</td>\n",
       "      <td>2422</td>\n",
       "    </tr>\n",
       "    <tr>\n",
       "      <th>1</th>\n",
       "      <td>1</td>\n",
       "      <td>A</td>\n",
       "      <td>product_page</td>\n",
       "      <td>1571</td>\n",
       "      <td>2422</td>\n",
       "    </tr>\n",
       "    <tr>\n",
       "      <th>2</th>\n",
       "      <td>2</td>\n",
       "      <td>A</td>\n",
       "      <td>purchase</td>\n",
       "      <td>773</td>\n",
       "      <td>2422</td>\n",
       "    </tr>\n",
       "  </tbody>\n",
       "</table>\n",
       "</div>"
      ],
      "text/plain": [
       "   index group    event_name  nunique_user_id  users_count\n",
       "0      0     A  product_cart              728         2422\n",
       "1      1     A  product_page             1571         2422\n",
       "2      2     A      purchase              773         2422"
      ]
     },
     "metadata": {},
     "output_type": "display_data"
    },
    {
     "data": {
      "text/html": [
       "<div>\n",
       "<style scoped>\n",
       "    .dataframe tbody tr th:only-of-type {\n",
       "        vertical-align: middle;\n",
       "    }\n",
       "\n",
       "    .dataframe tbody tr th {\n",
       "        vertical-align: top;\n",
       "    }\n",
       "\n",
       "    .dataframe thead th {\n",
       "        text-align: right;\n",
       "    }\n",
       "</style>\n",
       "<table border=\"1\" class=\"dataframe\">\n",
       "  <thead>\n",
       "    <tr style=\"text-align: right;\">\n",
       "      <th></th>\n",
       "      <th>index</th>\n",
       "      <th>group</th>\n",
       "      <th>event_name</th>\n",
       "      <th>nunique_user_id</th>\n",
       "      <th>users_count</th>\n",
       "    </tr>\n",
       "  </thead>\n",
       "  <tbody>\n",
       "    <tr>\n",
       "      <th>0</th>\n",
       "      <td>3</td>\n",
       "      <td>B</td>\n",
       "      <td>product_cart</td>\n",
       "      <td>225</td>\n",
       "      <td>812</td>\n",
       "    </tr>\n",
       "    <tr>\n",
       "      <th>1</th>\n",
       "      <td>4</td>\n",
       "      <td>B</td>\n",
       "      <td>product_page</td>\n",
       "      <td>461</td>\n",
       "      <td>812</td>\n",
       "    </tr>\n",
       "    <tr>\n",
       "      <th>2</th>\n",
       "      <td>5</td>\n",
       "      <td>B</td>\n",
       "      <td>purchase</td>\n",
       "      <td>228</td>\n",
       "      <td>812</td>\n",
       "    </tr>\n",
       "  </tbody>\n",
       "</table>\n",
       "</div>"
      ],
      "text/plain": [
       "   index group    event_name  nunique_user_id  users_count\n",
       "0      3     B  product_cart              225          812\n",
       "1      4     B  product_page              461          812\n",
       "2      5     B      purchase              228          812"
      ]
     },
     "metadata": {},
     "output_type": "display_data"
    }
   ],
   "source": [
    "test_a = pd.DataFrame(funnel1[funnel1['group'] == 'A']).reset_index()\n",
    "display(test_a)\n",
    "test_b = pd.DataFrame(funnel1[funnel1['group'] == 'B']).reset_index()\n",
    "display(test_b)"
   ]
  },
  {
   "cell_type": "code",
   "execution_count": 77,
   "metadata": {},
   "outputs": [],
   "source": [
    "#создадим функцию\n",
    "\n",
    "def z_test(group_a, group_b, row, alpha):\n",
    "    successes = [group_a.loc[row, 'nunique_user_id'], group_b.loc[row, 'nunique_user_id']]\n",
    "    trials = [group_a.loc[row, 'users_count'], group_b.loc[row, 'users_count']]\n",
    "\n",
    "    #пропорция успехов в первой группе:\n",
    "    p1 = successes[0]/trials[0]\n",
    "\n",
    "    #пропорция успехов во второй группе:\n",
    "    p2 = successes[1]/trials[1]\n",
    "\n",
    "    # пропорция успехов в комбинированном датасете:\n",
    "    p_combined = (successes[0] + successes[1]) / (trials[0] + trials[1])\n",
    "\n",
    "    # разница пропорций:\n",
    "    difference = p1 - p2\n",
    "\n",
    "    # считаем статистику в ст.отклонениях стандартного нормального распределения\n",
    "    z_value = difference / mth.sqrt(p_combined * (1 - p_combined) * (1/trials[0] + 1/trials[1]))\n",
    "\n",
    "    # задаем стандартное нормальное распределение (среднее 0, ст.отклонение 1)\n",
    "    distr = st.norm(0, 1)\n",
    "\n",
    "    p_value = (1 - distr.cdf(abs(z_value))) * 2\n",
    "\n",
    "    print('H0: Доли пользователей, совершивших событие {} в группах A и B, равны'.format(group_a.loc[row, 'event_name']))\n",
    "    print('H1: Доли пользователей в группах не равны')\n",
    "    print('p-значение', p_value)\n",
    "    \n",
    "    if p_value < alpha:\n",
    "        print('Отвергаем нулевую гипотезу: между долями есть значимая разница')\n",
    "        print()\n",
    "    else:\n",
    "        print('Не получилось отвергнуть нулевую гипотезу, нет оснований считать доли разными')\n",
    "        print()"
   ]
  },
  {
   "cell_type": "code",
   "execution_count": 78,
   "metadata": {},
   "outputs": [
    {
     "name": "stdout",
     "output_type": "stream",
     "text": [
      "H0: Доли пользователей, совершивших событие product_cart в группах A и B, равны\n",
      "H1: Доли пользователей в группах не равны\n",
      "p-значение 0.20397790908072166\n",
      "Не получилось отвергнуть нулевую гипотезу, нет оснований считать доли разными\n",
      "\n",
      "H0: Доли пользователей, совершивших событие product_page в группах A и B, равны\n",
      "H1: Доли пользователей в группах не равны\n",
      "p-значение 3.651974405083358e-05\n",
      "Отвергаем нулевую гипотезу: между долями есть значимая разница\n",
      "\n",
      "H0: Доли пользователей, совершивших событие purchase в группах A и B, равны\n",
      "H1: Доли пользователей в группах не равны\n",
      "p-значение 0.04068470890052289\n",
      "Не получилось отвергнуть нулевую гипотезу, нет оснований считать доли разными\n",
      "\n"
     ]
    }
   ],
   "source": [
    "for i in range (0, 3):\n",
    "    z_test(test_a, test_b, i, 0.016)"
   ]
  },
  {
   "cell_type": "markdown",
   "metadata": {},
   "source": [
    "**Вывод**\n",
    "\n",
    "Наблюдается значимая разница долей групп А и B для события `product_page`(просмотра товарной карточки). \n",
    "\n",
    "Для двух других метрик p-value < альфы, а значит между долями нет значимой разницы."
   ]
  },
  {
   "cell_type": "markdown",
   "metadata": {},
   "source": [
    "## Общий вывод"
   ]
  },
  {
   "cell_type": "markdown",
   "metadata": {},
   "source": [
    "Цель - оценить корректность проведения теста и проанализировать его результаты.\n",
    "\n",
    "Выполненные задачи:\n",
    "- загрузка и предобработка данных;\n",
    "- проверка данных на соответствие требованиям ТЗ и основным требованиям к AB-тестированию;\n",
    "- проведение исследовательского анализа данных;\n",
    "- оценка результатов AB-тестирования.\n",
    "\n",
    "В целом, воронка продаж показывает неудачные результаты теста, поскольку целевые значения в группе B не только не увеличились на 10% относительно контрольной группы, а наоборот снизились. Кроме того, период тестирования был выбран неудачно, поскольку в период новогоднего ажиотажа покупательская активность увеличивается изначально, поэтому в это время не факт, что люди стали покупать больше только из-за новых введений (рекомендуют проводить в периоды, когда нет предпраздничных активностей). \n",
    "\n",
    "Тем не менее, результаты пока нельзя назвать однозначно неудачными, поскольку если исправить неточности и несоответствия ТЗ, то при новой перепроверке результатов, возможно, что результаты изменятся.\n",
    "\n",
    "**Обнаруженные несоответствия к требованиям ТЗ и проведения теста**\n",
    "- Дата последнего события - 30 декабря 2020, а по ТЗ тест должен длиться до 4 января 2021, то есть недостает данных.\n",
    "- С нашим временным периодом проведения теста совпадает Акция Christmas&New Year Promo, т.к. даты её проведения попадают в исследуемый период (12 декабря - 4 января), а также эта акция проводится в регионе EU.\n",
    "- Изначальное деление на группы было неравномерным. В группе А - 3385 человек (57%), а в группе В - 2540 человек (43%), всего 5925 человек. \n",
    "- Есть сильный всплекс в регистрациях в группе A, из-за чего данная группа могла вырваться вперед по остальным действиям.\n",
    "\n",
    "**Результаты z-теста**\n",
    "- Подтвердилась значимая разница долей групп А и B для события `product_page`(просмотра товарной карточки), для двух других метрик между долями нет значимой разницы.\n",
    "\n",
    "**Рекомендации по тесту**\n",
    "\n",
    "- Проверить, не было ли технического сбоя при выгрузке данных и не потерялись ли данные с 30 декабря по 4 января. Если потерялись, то добавить их к нашим данным и заново пересмотреть.\n",
    "- Проверить и скорректировать технические алгоритмы по разделению на группы, возможно стоит пересмотреть периоды и переформировать группы;\n",
    "\n",
    "**Рекомендации по воронке продаж**\n",
    "- По результатам анализа видно, что мы теряем много пользователей с перехода от регистрации к просмотру товарных карточек. Возможно, на сайте по-другому можно посмотреть товары (например, через превью, в листинге общем, а не переходя на страницу товара). \n",
    "- Также мы теряем много пользователей при переходе на страницу корзины от товарных карточек. Возможно, что переход к просмотру корзины не является обязательным действием, а значит нужно пересмотреть последовательность действий в конверсии, чтобы у покупателя был четкий отслеживаемый путь. Например, отслеживать вместо корзины - форму заполнения заказа."
   ]
  }
 ],
 "metadata": {
  "ExecuteTimeLog": [
   {
    "duration": 2795,
    "start_time": "2023-07-20T15:48:13.649Z"
   },
   {
    "duration": 1132,
    "start_time": "2023-07-20T15:51:18.328Z"
   },
   {
    "duration": 17,
    "start_time": "2023-07-20T15:51:21.505Z"
   },
   {
    "duration": 9,
    "start_time": "2023-07-20T15:53:57.748Z"
   },
   {
    "duration": 1433,
    "start_time": "2023-07-20T16:04:13.326Z"
   },
   {
    "duration": 1445,
    "start_time": "2023-07-20T16:04:14.763Z"
   },
   {
    "duration": 26,
    "start_time": "2023-07-20T16:04:16.210Z"
   },
   {
    "duration": 16,
    "start_time": "2023-07-20T16:04:16.238Z"
   },
   {
    "duration": 24,
    "start_time": "2023-07-20T16:04:16.257Z"
   },
   {
    "duration": 82,
    "start_time": "2023-07-20T16:04:16.282Z"
   },
   {
    "duration": 11,
    "start_time": "2023-07-20T16:04:16.366Z"
   },
   {
    "duration": 41,
    "start_time": "2023-07-20T16:04:16.379Z"
   },
   {
    "duration": 22,
    "start_time": "2023-07-20T16:04:16.422Z"
   },
   {
    "duration": 27,
    "start_time": "2023-07-20T16:04:16.446Z"
   },
   {
    "duration": 138,
    "start_time": "2023-07-20T16:04:16.476Z"
   },
   {
    "duration": 7,
    "start_time": "2023-07-20T16:04:16.624Z"
   },
   {
    "duration": 225,
    "start_time": "2023-07-20T16:04:16.634Z"
   },
   {
    "duration": 35,
    "start_time": "2023-07-20T16:04:16.863Z"
   },
   {
    "duration": 14,
    "start_time": "2023-07-20T16:04:16.913Z"
   },
   {
    "duration": 26,
    "start_time": "2023-07-20T16:04:16.929Z"
   },
   {
    "duration": 17,
    "start_time": "2023-07-20T16:04:16.958Z"
   },
   {
    "duration": 20,
    "start_time": "2023-07-20T16:04:16.977Z"
   },
   {
    "duration": 64,
    "start_time": "2023-07-20T16:04:16.999Z"
   },
   {
    "duration": 7,
    "start_time": "2023-07-20T16:04:17.065Z"
   },
   {
    "duration": 32,
    "start_time": "2023-07-20T16:04:17.074Z"
   },
   {
    "duration": 27,
    "start_time": "2023-07-20T16:04:17.108Z"
   },
   {
    "duration": 20,
    "start_time": "2023-07-20T16:04:17.137Z"
   },
   {
    "duration": 38,
    "start_time": "2023-07-20T16:04:17.159Z"
   },
   {
    "duration": 8,
    "start_time": "2023-07-20T16:04:17.200Z"
   },
   {
    "duration": 16,
    "start_time": "2023-07-20T16:04:17.210Z"
   },
   {
    "duration": 37,
    "start_time": "2023-07-20T16:04:17.230Z"
   },
   {
    "duration": 9,
    "start_time": "2023-07-20T16:04:17.269Z"
   },
   {
    "duration": 14,
    "start_time": "2023-07-20T16:04:17.279Z"
   },
   {
    "duration": 39,
    "start_time": "2023-07-20T16:04:17.294Z"
   },
   {
    "duration": 15,
    "start_time": "2023-07-20T16:04:17.335Z"
   },
   {
    "duration": 17,
    "start_time": "2023-07-20T16:04:17.352Z"
   },
   {
    "duration": 23,
    "start_time": "2023-07-20T16:04:17.371Z"
   },
   {
    "duration": 35,
    "start_time": "2023-07-20T16:04:17.396Z"
   },
   {
    "duration": 56,
    "start_time": "2023-07-20T16:04:17.433Z"
   },
   {
    "duration": 4,
    "start_time": "2023-07-20T16:04:17.491Z"
   },
   {
    "duration": 33,
    "start_time": "2023-07-20T16:04:17.497Z"
   },
   {
    "duration": 26,
    "start_time": "2023-07-20T16:04:17.531Z"
   },
   {
    "duration": 65,
    "start_time": "2023-07-20T16:04:17.559Z"
   },
   {
    "duration": 14,
    "start_time": "2023-07-20T16:04:17.625Z"
   },
   {
    "duration": 49,
    "start_time": "2023-07-20T16:04:17.643Z"
   },
   {
    "duration": 12,
    "start_time": "2023-07-20T16:04:17.694Z"
   },
   {
    "duration": 39,
    "start_time": "2023-07-20T16:04:17.707Z"
   },
   {
    "duration": 14,
    "start_time": "2023-07-20T16:04:17.748Z"
   },
   {
    "duration": 346,
    "start_time": "2023-07-20T16:04:17.763Z"
   },
   {
    "duration": 24,
    "start_time": "2023-07-20T16:04:18.111Z"
   },
   {
    "duration": 64,
    "start_time": "2023-07-20T16:04:18.137Z"
   },
   {
    "duration": 19,
    "start_time": "2023-07-20T16:04:18.202Z"
   },
   {
    "duration": 23,
    "start_time": "2023-07-20T16:04:18.231Z"
   },
   {
    "duration": 1400,
    "start_time": "2023-07-20T16:13:08.902Z"
   },
   {
    "duration": 1356,
    "start_time": "2023-07-20T16:13:10.304Z"
   },
   {
    "duration": 15,
    "start_time": "2023-07-20T16:13:11.663Z"
   },
   {
    "duration": 34,
    "start_time": "2023-07-20T16:13:11.681Z"
   },
   {
    "duration": 21,
    "start_time": "2023-07-20T16:13:11.720Z"
   },
   {
    "duration": 95,
    "start_time": "2023-07-20T16:13:11.743Z"
   },
   {
    "duration": 12,
    "start_time": "2023-07-20T16:13:11.841Z"
   },
   {
    "duration": 28,
    "start_time": "2023-07-20T16:13:11.855Z"
   },
   {
    "duration": 47,
    "start_time": "2023-07-20T16:13:11.885Z"
   },
   {
    "duration": 76,
    "start_time": "2023-07-20T16:13:11.935Z"
   },
   {
    "duration": 146,
    "start_time": "2023-07-20T16:13:12.013Z"
   },
   {
    "duration": 7,
    "start_time": "2023-07-20T16:13:12.161Z"
   },
   {
    "duration": 207,
    "start_time": "2023-07-20T16:13:12.171Z"
   },
   {
    "duration": 47,
    "start_time": "2023-07-20T16:13:12.381Z"
   },
   {
    "duration": 11,
    "start_time": "2023-07-20T16:13:12.432Z"
   },
   {
    "duration": 51,
    "start_time": "2023-07-20T16:13:12.444Z"
   },
   {
    "duration": 42,
    "start_time": "2023-07-20T16:13:12.496Z"
   },
   {
    "duration": 14,
    "start_time": "2023-07-20T16:13:12.540Z"
   },
   {
    "duration": 45,
    "start_time": "2023-07-20T16:13:12.555Z"
   },
   {
    "duration": 6,
    "start_time": "2023-07-20T16:13:12.602Z"
   },
   {
    "duration": 23,
    "start_time": "2023-07-20T16:13:12.610Z"
   },
   {
    "duration": 4,
    "start_time": "2023-07-20T16:13:12.635Z"
   },
   {
    "duration": 14,
    "start_time": "2023-07-20T16:13:12.641Z"
   },
   {
    "duration": 26,
    "start_time": "2023-07-20T16:13:12.656Z"
   },
   {
    "duration": 7,
    "start_time": "2023-07-20T16:13:12.683Z"
   },
   {
    "duration": 14,
    "start_time": "2023-07-20T16:13:12.692Z"
   },
   {
    "duration": 45,
    "start_time": "2023-07-20T16:13:12.708Z"
   },
   {
    "duration": 7,
    "start_time": "2023-07-20T16:13:12.756Z"
   },
   {
    "duration": 7,
    "start_time": "2023-07-20T16:13:12.765Z"
   },
   {
    "duration": 11,
    "start_time": "2023-07-20T16:13:12.774Z"
   },
   {
    "duration": 37,
    "start_time": "2023-07-20T16:13:12.787Z"
   },
   {
    "duration": 10,
    "start_time": "2023-07-20T16:13:12.826Z"
   },
   {
    "duration": 28,
    "start_time": "2023-07-20T16:13:12.838Z"
   },
   {
    "duration": 16,
    "start_time": "2023-07-20T16:13:12.868Z"
   },
   {
    "duration": 55,
    "start_time": "2023-07-20T16:13:12.885Z"
   },
   {
    "duration": 4,
    "start_time": "2023-07-20T16:13:12.942Z"
   },
   {
    "duration": 20,
    "start_time": "2023-07-20T16:13:12.947Z"
   },
   {
    "duration": 18,
    "start_time": "2023-07-20T16:13:12.968Z"
   },
   {
    "duration": 61,
    "start_time": "2023-07-20T16:13:12.987Z"
   },
   {
    "duration": 7,
    "start_time": "2023-07-20T16:13:13.049Z"
   },
   {
    "duration": 73,
    "start_time": "2023-07-20T16:13:13.058Z"
   },
   {
    "duration": 10,
    "start_time": "2023-07-20T16:13:13.135Z"
   },
   {
    "duration": 16,
    "start_time": "2023-07-20T16:13:13.147Z"
   },
   {
    "duration": 10,
    "start_time": "2023-07-20T16:13:13.165Z"
   },
   {
    "duration": 353,
    "start_time": "2023-07-20T16:13:13.177Z"
   },
   {
    "duration": 14,
    "start_time": "2023-07-20T16:13:13.533Z"
   },
   {
    "duration": 21,
    "start_time": "2023-07-20T16:13:13.549Z"
   },
   {
    "duration": 19,
    "start_time": "2023-07-20T16:13:13.572Z"
   },
   {
    "duration": 42,
    "start_time": "2023-07-20T16:13:13.593Z"
   },
   {
    "duration": 846,
    "start_time": "2023-07-20T16:15:19.510Z"
   },
   {
    "duration": 880,
    "start_time": "2023-07-20T16:18:12.889Z"
   },
   {
    "duration": 250,
    "start_time": "2023-07-20T16:19:52.690Z"
   },
   {
    "duration": 207,
    "start_time": "2023-07-20T16:20:18.797Z"
   },
   {
    "duration": 217,
    "start_time": "2023-07-20T16:20:51.809Z"
   },
   {
    "duration": 1265,
    "start_time": "2023-07-20T16:21:45.030Z"
   },
   {
    "duration": 12,
    "start_time": "2023-07-20T17:35:41.687Z"
   },
   {
    "duration": 23,
    "start_time": "2023-07-20T17:37:44.374Z"
   },
   {
    "duration": 24,
    "start_time": "2023-07-20T17:37:51.411Z"
   },
   {
    "duration": 14,
    "start_time": "2023-07-20T17:39:43.600Z"
   },
   {
    "duration": 15,
    "start_time": "2023-07-20T18:08:06.792Z"
   },
   {
    "duration": 14,
    "start_time": "2023-07-20T18:09:38.134Z"
   },
   {
    "duration": 13,
    "start_time": "2023-07-20T18:09:47.851Z"
   },
   {
    "duration": 30,
    "start_time": "2023-07-20T19:03:32.138Z"
   },
   {
    "duration": 32,
    "start_time": "2023-07-20T19:39:12.676Z"
   },
   {
    "duration": 27,
    "start_time": "2023-07-20T19:53:05.044Z"
   },
   {
    "duration": 177,
    "start_time": "2023-07-20T20:02:32.243Z"
   },
   {
    "duration": 25,
    "start_time": "2023-07-20T20:07:26.311Z"
   },
   {
    "duration": 7,
    "start_time": "2023-07-20T20:08:21.013Z"
   },
   {
    "duration": 17,
    "start_time": "2023-07-20T20:08:35.149Z"
   },
   {
    "duration": 1625,
    "start_time": "2023-07-21T07:20:06.468Z"
   },
   {
    "duration": 919,
    "start_time": "2023-07-21T07:20:08.095Z"
   },
   {
    "duration": 12,
    "start_time": "2023-07-21T07:20:09.015Z"
   },
   {
    "duration": 89,
    "start_time": "2023-07-21T07:20:09.028Z"
   },
   {
    "duration": 43,
    "start_time": "2023-07-21T07:20:09.119Z"
   },
   {
    "duration": 64,
    "start_time": "2023-07-21T07:20:09.163Z"
   },
   {
    "duration": 6,
    "start_time": "2023-07-21T07:20:09.229Z"
   },
   {
    "duration": 29,
    "start_time": "2023-07-21T07:20:09.237Z"
   },
   {
    "duration": 11,
    "start_time": "2023-07-21T07:20:09.268Z"
   },
   {
    "duration": 36,
    "start_time": "2023-07-21T07:20:09.281Z"
   },
   {
    "duration": 106,
    "start_time": "2023-07-21T07:20:09.318Z"
   },
   {
    "duration": 5,
    "start_time": "2023-07-21T07:20:09.425Z"
   },
   {
    "duration": 163,
    "start_time": "2023-07-21T07:20:09.431Z"
   },
   {
    "duration": 29,
    "start_time": "2023-07-21T07:20:09.595Z"
   },
   {
    "duration": 8,
    "start_time": "2023-07-21T07:20:09.626Z"
   },
   {
    "duration": 8,
    "start_time": "2023-07-21T07:20:09.636Z"
   },
   {
    "duration": 16,
    "start_time": "2023-07-21T07:20:09.645Z"
   },
   {
    "duration": 11,
    "start_time": "2023-07-21T07:20:09.662Z"
   },
   {
    "duration": 40,
    "start_time": "2023-07-21T07:20:09.674Z"
   },
   {
    "duration": 6,
    "start_time": "2023-07-21T07:20:09.716Z"
   },
   {
    "duration": 14,
    "start_time": "2023-07-21T07:20:09.723Z"
   },
   {
    "duration": 4,
    "start_time": "2023-07-21T07:20:09.738Z"
   },
   {
    "duration": 16,
    "start_time": "2023-07-21T07:20:09.743Z"
   },
   {
    "duration": 14,
    "start_time": "2023-07-21T07:20:09.760Z"
   },
   {
    "duration": 23,
    "start_time": "2023-07-21T07:20:09.776Z"
   },
   {
    "duration": 5,
    "start_time": "2023-07-21T07:20:09.801Z"
   },
   {
    "duration": 29,
    "start_time": "2023-07-21T07:20:09.807Z"
   },
   {
    "duration": 5,
    "start_time": "2023-07-21T07:20:09.839Z"
   },
   {
    "duration": 15,
    "start_time": "2023-07-21T07:20:09.845Z"
   },
   {
    "duration": 17,
    "start_time": "2023-07-21T07:20:09.861Z"
   },
   {
    "duration": 9,
    "start_time": "2023-07-21T07:20:09.879Z"
   },
   {
    "duration": 10,
    "start_time": "2023-07-21T07:20:09.890Z"
   },
   {
    "duration": 14,
    "start_time": "2023-07-21T07:20:09.901Z"
   },
   {
    "duration": 14,
    "start_time": "2023-07-21T07:20:09.916Z"
   },
   {
    "duration": 38,
    "start_time": "2023-07-21T07:20:09.931Z"
   },
   {
    "duration": 4,
    "start_time": "2023-07-21T07:20:09.971Z"
   },
   {
    "duration": 27,
    "start_time": "2023-07-21T07:20:09.976Z"
   },
   {
    "duration": 10,
    "start_time": "2023-07-21T07:20:10.005Z"
   },
   {
    "duration": 29,
    "start_time": "2023-07-21T07:20:10.017Z"
   },
   {
    "duration": 6,
    "start_time": "2023-07-21T07:20:10.047Z"
   },
   {
    "duration": 54,
    "start_time": "2023-07-21T07:20:10.054Z"
   },
   {
    "duration": 8,
    "start_time": "2023-07-21T07:20:10.109Z"
   },
   {
    "duration": 16,
    "start_time": "2023-07-21T07:20:10.118Z"
   },
   {
    "duration": 8,
    "start_time": "2023-07-21T07:20:10.135Z"
   },
   {
    "duration": 260,
    "start_time": "2023-07-21T07:20:10.145Z"
   },
   {
    "duration": 12,
    "start_time": "2023-07-21T07:20:10.406Z"
   },
   {
    "duration": 19,
    "start_time": "2023-07-21T07:20:10.420Z"
   },
   {
    "duration": 14,
    "start_time": "2023-07-21T07:20:10.440Z"
   },
   {
    "duration": 9,
    "start_time": "2023-07-21T07:20:10.455Z"
   },
   {
    "duration": 13,
    "start_time": "2023-07-21T07:20:10.465Z"
   },
   {
    "duration": 10,
    "start_time": "2023-07-21T07:20:10.500Z"
   },
   {
    "duration": 19,
    "start_time": "2023-07-21T07:20:10.511Z"
   },
   {
    "duration": 7,
    "start_time": "2023-07-21T07:20:10.532Z"
   },
   {
    "duration": 762,
    "start_time": "2023-07-21T07:20:10.540Z"
   },
   {
    "duration": 23,
    "start_time": "2023-07-21T07:20:11.303Z"
   },
   {
    "duration": 5,
    "start_time": "2023-07-21T07:20:11.327Z"
   },
   {
    "duration": 178,
    "start_time": "2023-07-21T07:20:11.333Z"
   },
   {
    "duration": 20,
    "start_time": "2023-07-21T07:42:05.406Z"
   },
   {
    "duration": 6,
    "start_time": "2023-07-21T07:48:44.227Z"
   },
   {
    "duration": 14,
    "start_time": "2023-07-21T07:51:23.467Z"
   },
   {
    "duration": 5,
    "start_time": "2023-07-21T08:34:20.010Z"
   },
   {
    "duration": 109,
    "start_time": "2023-07-21T08:36:16.263Z"
   },
   {
    "duration": 6481,
    "start_time": "2023-07-21T08:36:31.462Z"
   },
   {
    "duration": 12,
    "start_time": "2023-07-21T08:39:22.775Z"
   },
   {
    "duration": 19,
    "start_time": "2023-07-21T08:39:25.346Z"
   },
   {
    "duration": 6,
    "start_time": "2023-07-21T08:39:31.068Z"
   },
   {
    "duration": 25,
    "start_time": "2023-07-21T08:39:33.295Z"
   },
   {
    "duration": 3,
    "start_time": "2023-07-21T08:40:05.243Z"
   },
   {
    "duration": 8,
    "start_time": "2023-07-21T08:40:11.476Z"
   },
   {
    "duration": 6,
    "start_time": "2023-07-21T08:58:55.847Z"
   },
   {
    "duration": 13,
    "start_time": "2023-07-21T08:58:58.122Z"
   },
   {
    "duration": 6,
    "start_time": "2023-07-21T09:01:14.743Z"
   },
   {
    "duration": 9,
    "start_time": "2023-07-21T09:01:16.731Z"
   },
   {
    "duration": 6,
    "start_time": "2023-07-21T09:02:20.658Z"
   },
   {
    "duration": 9,
    "start_time": "2023-07-21T09:02:22.778Z"
   },
   {
    "duration": 14,
    "start_time": "2023-07-21T10:23:50.728Z"
   },
   {
    "duration": 30,
    "start_time": "2023-07-21T10:24:47.289Z"
   },
   {
    "duration": 22,
    "start_time": "2023-07-21T10:26:15.234Z"
   },
   {
    "duration": 9,
    "start_time": "2023-07-21T10:26:20.359Z"
   },
   {
    "duration": 27,
    "start_time": "2023-07-21T10:27:08.594Z"
   },
   {
    "duration": 21,
    "start_time": "2023-07-21T10:27:58.825Z"
   },
   {
    "duration": 274,
    "start_time": "2023-07-21T10:29:54.588Z"
   },
   {
    "duration": 13,
    "start_time": "2023-07-21T10:53:57.435Z"
   },
   {
    "duration": 16,
    "start_time": "2023-07-21T11:05:01.960Z"
   },
   {
    "duration": 10,
    "start_time": "2023-07-21T11:05:03.916Z"
   },
   {
    "duration": 673,
    "start_time": "2023-07-21T11:05:10.706Z"
   },
   {
    "duration": 232,
    "start_time": "2023-07-21T11:08:00.429Z"
   },
   {
    "duration": 257,
    "start_time": "2023-07-21T11:08:41.394Z"
   },
   {
    "duration": 629,
    "start_time": "2023-07-21T11:10:35.321Z"
   },
   {
    "duration": 1248,
    "start_time": "2023-07-21T11:11:08.474Z"
   },
   {
    "duration": 30,
    "start_time": "2023-07-21T11:12:00.315Z"
   },
   {
    "duration": 489220,
    "start_time": "2023-07-21T11:12:51.317Z"
   },
   {
    "duration": 16,
    "start_time": "2023-07-21T11:22:48.250Z"
   },
   {
    "duration": 14,
    "start_time": "2023-07-21T11:23:15.836Z"
   },
   {
    "duration": 16,
    "start_time": "2023-07-21T11:27:43.442Z"
   },
   {
    "duration": 19,
    "start_time": "2023-07-21T11:27:51.763Z"
   },
   {
    "duration": 698,
    "start_time": "2023-07-21T11:29:03.779Z"
   },
   {
    "duration": 683,
    "start_time": "2023-07-21T11:29:54.015Z"
   },
   {
    "duration": 473,
    "start_time": "2023-07-21T11:29:59.522Z"
   },
   {
    "duration": 493,
    "start_time": "2023-07-21T11:30:03.621Z"
   },
   {
    "duration": 402,
    "start_time": "2023-07-21T11:30:32.957Z"
   },
   {
    "duration": 377,
    "start_time": "2023-07-21T11:30:40.186Z"
   },
   {
    "duration": 216,
    "start_time": "2023-07-21T11:30:46.712Z"
   },
   {
    "duration": 360,
    "start_time": "2023-07-21T11:30:51.361Z"
   },
   {
    "duration": 384,
    "start_time": "2023-07-21T11:30:57.548Z"
   },
   {
    "duration": 383,
    "start_time": "2023-07-21T11:31:13.562Z"
   },
   {
    "duration": 1434,
    "start_time": "2023-07-21T11:32:33.536Z"
   },
   {
    "duration": 1451,
    "start_time": "2023-07-21T11:33:02.967Z"
   },
   {
    "duration": 1700,
    "start_time": "2023-07-21T11:33:26.026Z"
   },
   {
    "duration": 1436,
    "start_time": "2023-07-21T11:35:57.294Z"
   },
   {
    "duration": 1480,
    "start_time": "2023-07-21T11:36:14.610Z"
   },
   {
    "duration": 6,
    "start_time": "2023-07-21T12:20:36.689Z"
   },
   {
    "duration": 13,
    "start_time": "2023-07-21T12:23:45.616Z"
   },
   {
    "duration": 7,
    "start_time": "2023-07-21T12:28:00.681Z"
   },
   {
    "duration": 11,
    "start_time": "2023-07-21T12:28:14.202Z"
   },
   {
    "duration": 11,
    "start_time": "2023-07-21T12:28:16.415Z"
   },
   {
    "duration": 6,
    "start_time": "2023-07-21T12:39:14.351Z"
   },
   {
    "duration": 173,
    "start_time": "2023-07-21T12:39:26.470Z"
   },
   {
    "duration": 4,
    "start_time": "2023-07-21T12:39:31.237Z"
   },
   {
    "duration": 6,
    "start_time": "2023-07-21T12:39:38.850Z"
   },
   {
    "duration": 6,
    "start_time": "2023-07-21T12:39:44.510Z"
   },
   {
    "duration": 7,
    "start_time": "2023-07-21T12:39:49.099Z"
   },
   {
    "duration": 1193,
    "start_time": "2023-07-21T14:25:39.080Z"
   },
   {
    "duration": 1009,
    "start_time": "2023-07-21T14:25:40.274Z"
   },
   {
    "duration": 11,
    "start_time": "2023-07-21T14:25:41.285Z"
   },
   {
    "duration": 10,
    "start_time": "2023-07-21T14:25:41.298Z"
   },
   {
    "duration": 14,
    "start_time": "2023-07-21T14:25:41.310Z"
   },
   {
    "duration": 49,
    "start_time": "2023-07-21T14:25:41.325Z"
   },
   {
    "duration": 7,
    "start_time": "2023-07-21T14:25:41.376Z"
   },
   {
    "duration": 30,
    "start_time": "2023-07-21T14:25:41.385Z"
   },
   {
    "duration": 7,
    "start_time": "2023-07-21T14:25:41.417Z"
   },
   {
    "duration": 16,
    "start_time": "2023-07-21T14:25:41.426Z"
   },
   {
    "duration": 107,
    "start_time": "2023-07-21T14:25:41.443Z"
   },
   {
    "duration": 5,
    "start_time": "2023-07-21T14:25:41.551Z"
   },
   {
    "duration": 154,
    "start_time": "2023-07-21T14:25:41.558Z"
   },
   {
    "duration": 28,
    "start_time": "2023-07-21T14:25:41.715Z"
   },
   {
    "duration": 9,
    "start_time": "2023-07-21T14:25:41.744Z"
   },
   {
    "duration": 10,
    "start_time": "2023-07-21T14:25:41.754Z"
   },
   {
    "duration": 12,
    "start_time": "2023-07-21T14:25:41.765Z"
   },
   {
    "duration": 24,
    "start_time": "2023-07-21T14:25:41.779Z"
   },
   {
    "duration": 27,
    "start_time": "2023-07-21T14:25:41.804Z"
   },
   {
    "duration": 22,
    "start_time": "2023-07-21T14:25:41.832Z"
   },
   {
    "duration": 40,
    "start_time": "2023-07-21T14:25:41.856Z"
   },
   {
    "duration": 6,
    "start_time": "2023-07-21T14:25:41.897Z"
   },
   {
    "duration": 27,
    "start_time": "2023-07-21T14:25:41.904Z"
   },
   {
    "duration": 27,
    "start_time": "2023-07-21T14:25:41.932Z"
   },
   {
    "duration": 23,
    "start_time": "2023-07-21T14:25:41.960Z"
   },
   {
    "duration": 20,
    "start_time": "2023-07-21T14:25:41.984Z"
   },
   {
    "duration": 6,
    "start_time": "2023-07-21T14:25:42.005Z"
   },
   {
    "duration": 23,
    "start_time": "2023-07-21T14:25:42.012Z"
   },
   {
    "duration": 22,
    "start_time": "2023-07-21T14:25:42.036Z"
   },
   {
    "duration": 17,
    "start_time": "2023-07-21T14:25:42.059Z"
   },
   {
    "duration": 14,
    "start_time": "2023-07-21T14:25:42.077Z"
   },
   {
    "duration": 18,
    "start_time": "2023-07-21T14:25:42.092Z"
   },
   {
    "duration": 13,
    "start_time": "2023-07-21T14:25:42.112Z"
   },
   {
    "duration": 5,
    "start_time": "2023-07-21T14:25:42.126Z"
   },
   {
    "duration": 22,
    "start_time": "2023-07-21T14:25:42.132Z"
   },
   {
    "duration": 19,
    "start_time": "2023-07-21T14:25:42.155Z"
   },
   {
    "duration": 37,
    "start_time": "2023-07-21T14:25:42.175Z"
   },
   {
    "duration": 3,
    "start_time": "2023-07-21T14:25:42.214Z"
   },
   {
    "duration": 16,
    "start_time": "2023-07-21T14:25:42.218Z"
   },
   {
    "duration": 9,
    "start_time": "2023-07-21T14:25:42.235Z"
   },
   {
    "duration": 28,
    "start_time": "2023-07-21T14:25:42.247Z"
   },
   {
    "duration": 25,
    "start_time": "2023-07-21T14:25:42.276Z"
   },
   {
    "duration": 32,
    "start_time": "2023-07-21T14:25:42.302Z"
   },
   {
    "duration": 8,
    "start_time": "2023-07-21T14:25:42.335Z"
   },
   {
    "duration": 25,
    "start_time": "2023-07-21T14:25:42.344Z"
   },
   {
    "duration": 9,
    "start_time": "2023-07-21T14:25:42.371Z"
   },
   {
    "duration": 263,
    "start_time": "2023-07-21T14:25:42.381Z"
   },
   {
    "duration": 13,
    "start_time": "2023-07-21T14:25:42.646Z"
   },
   {
    "duration": 34,
    "start_time": "2023-07-21T14:25:42.660Z"
   },
   {
    "duration": 28,
    "start_time": "2023-07-21T14:25:42.696Z"
   },
   {
    "duration": 22,
    "start_time": "2023-07-21T14:25:42.726Z"
   },
   {
    "duration": 29,
    "start_time": "2023-07-21T14:25:42.750Z"
   },
   {
    "duration": 14,
    "start_time": "2023-07-21T14:25:42.780Z"
   },
   {
    "duration": 37,
    "start_time": "2023-07-21T14:25:42.795Z"
   },
   {
    "duration": 28,
    "start_time": "2023-07-21T14:25:42.833Z"
   },
   {
    "duration": 145,
    "start_time": "2023-07-21T14:25:42.863Z"
   },
   {
    "duration": 17,
    "start_time": "2023-07-21T14:25:43.009Z"
   },
   {
    "duration": 17,
    "start_time": "2023-07-21T14:25:43.028Z"
   },
   {
    "duration": 658,
    "start_time": "2023-07-21T14:25:43.047Z"
   },
   {
    "duration": 16,
    "start_time": "2023-07-21T14:25:43.708Z"
   },
   {
    "duration": 1340,
    "start_time": "2023-07-21T14:25:43.726Z"
   },
   {
    "duration": 14,
    "start_time": "2023-07-21T14:25:45.068Z"
   },
   {
    "duration": 34,
    "start_time": "2023-07-21T14:25:45.084Z"
   },
   {
    "duration": 4,
    "start_time": "2023-07-21T14:25:45.121Z"
   },
   {
    "duration": 131,
    "start_time": "2023-07-21T14:25:45.127Z"
   },
   {
    "duration": 41,
    "start_time": "2023-07-21T14:25:45.259Z"
   },
   {
    "duration": 10,
    "start_time": "2023-07-21T14:25:45.301Z"
   },
   {
    "duration": 26,
    "start_time": "2023-07-21T14:25:45.312Z"
   },
   {
    "duration": 60,
    "start_time": "2023-07-21T14:25:45.340Z"
   },
   {
    "duration": 38,
    "start_time": "2023-07-21T14:25:45.402Z"
   },
   {
    "duration": 137,
    "start_time": "2023-07-21T14:29:25.056Z"
   },
   {
    "duration": 20,
    "start_time": "2023-07-21T14:29:31.808Z"
   },
   {
    "duration": 10,
    "start_time": "2023-07-21T14:29:38.476Z"
   },
   {
    "duration": 16,
    "start_time": "2023-07-21T14:29:40.399Z"
   },
   {
    "duration": 7,
    "start_time": "2023-07-21T14:29:52.121Z"
   },
   {
    "duration": 1097,
    "start_time": "2023-07-22T09:50:44.167Z"
   },
   {
    "duration": 990,
    "start_time": "2023-07-22T09:50:45.266Z"
   },
   {
    "duration": 10,
    "start_time": "2023-07-22T09:50:46.258Z"
   },
   {
    "duration": 13,
    "start_time": "2023-07-22T09:50:46.270Z"
   },
   {
    "duration": 13,
    "start_time": "2023-07-22T09:50:46.284Z"
   },
   {
    "duration": 50,
    "start_time": "2023-07-22T09:50:46.299Z"
   },
   {
    "duration": 7,
    "start_time": "2023-07-22T09:50:46.351Z"
   },
   {
    "duration": 58,
    "start_time": "2023-07-22T09:50:46.359Z"
   },
   {
    "duration": 10,
    "start_time": "2023-07-22T09:50:46.419Z"
   },
   {
    "duration": 26,
    "start_time": "2023-07-22T09:50:46.432Z"
   },
   {
    "duration": 95,
    "start_time": "2023-07-22T09:50:46.460Z"
   },
   {
    "duration": 5,
    "start_time": "2023-07-22T09:50:46.556Z"
   },
   {
    "duration": 141,
    "start_time": "2023-07-22T09:50:46.563Z"
   },
   {
    "duration": 31,
    "start_time": "2023-07-22T09:50:46.706Z"
   },
   {
    "duration": 8,
    "start_time": "2023-07-22T09:50:46.738Z"
   },
   {
    "duration": 26,
    "start_time": "2023-07-22T09:50:46.747Z"
   },
   {
    "duration": 4,
    "start_time": "2023-07-22T09:50:46.775Z"
   },
   {
    "duration": 5,
    "start_time": "2023-07-22T09:50:46.781Z"
   },
   {
    "duration": 8,
    "start_time": "2023-07-22T09:50:46.787Z"
   },
   {
    "duration": 19,
    "start_time": "2023-07-22T09:50:46.797Z"
   },
   {
    "duration": 29,
    "start_time": "2023-07-22T09:50:46.817Z"
   },
   {
    "duration": 6,
    "start_time": "2023-07-22T09:50:46.848Z"
   },
   {
    "duration": 14,
    "start_time": "2023-07-22T09:50:46.855Z"
   },
   {
    "duration": 3,
    "start_time": "2023-07-22T09:50:46.871Z"
   },
   {
    "duration": 4,
    "start_time": "2023-07-22T09:50:46.876Z"
   },
   {
    "duration": 14,
    "start_time": "2023-07-22T09:50:46.882Z"
   },
   {
    "duration": 26,
    "start_time": "2023-07-22T09:50:46.897Z"
   },
   {
    "duration": 4,
    "start_time": "2023-07-22T09:50:46.928Z"
   },
   {
    "duration": 12,
    "start_time": "2023-07-22T09:50:46.933Z"
   },
   {
    "duration": 12,
    "start_time": "2023-07-22T09:50:46.946Z"
   },
   {
    "duration": 13,
    "start_time": "2023-07-22T09:50:46.959Z"
   },
   {
    "duration": 9,
    "start_time": "2023-07-22T09:50:46.973Z"
   },
   {
    "duration": 8,
    "start_time": "2023-07-22T09:50:46.983Z"
   },
   {
    "duration": 5,
    "start_time": "2023-07-22T09:50:46.992Z"
   },
   {
    "duration": 13,
    "start_time": "2023-07-22T09:50:47.020Z"
   },
   {
    "duration": 9,
    "start_time": "2023-07-22T09:50:47.034Z"
   },
   {
    "duration": 37,
    "start_time": "2023-07-22T09:50:47.044Z"
   },
   {
    "duration": 3,
    "start_time": "2023-07-22T09:50:47.082Z"
   },
   {
    "duration": 34,
    "start_time": "2023-07-22T09:50:47.086Z"
   },
   {
    "duration": 8,
    "start_time": "2023-07-22T09:50:47.122Z"
   },
   {
    "duration": 37,
    "start_time": "2023-07-22T09:50:47.132Z"
   },
   {
    "duration": 5,
    "start_time": "2023-07-22T09:50:47.171Z"
   },
   {
    "duration": 33,
    "start_time": "2023-07-22T09:50:47.177Z"
   },
   {
    "duration": 6,
    "start_time": "2023-07-22T09:50:47.220Z"
   },
   {
    "duration": 15,
    "start_time": "2023-07-22T09:50:47.227Z"
   },
   {
    "duration": 7,
    "start_time": "2023-07-22T09:50:47.243Z"
   },
   {
    "duration": 242,
    "start_time": "2023-07-22T09:50:47.252Z"
   },
   {
    "duration": 11,
    "start_time": "2023-07-22T09:50:47.495Z"
   },
   {
    "duration": 20,
    "start_time": "2023-07-22T09:50:47.507Z"
   },
   {
    "duration": 15,
    "start_time": "2023-07-22T09:50:47.529Z"
   },
   {
    "duration": 11,
    "start_time": "2023-07-22T09:50:47.545Z"
   },
   {
    "duration": 18,
    "start_time": "2023-07-22T09:50:47.558Z"
   },
   {
    "duration": 21,
    "start_time": "2023-07-22T09:50:47.578Z"
   },
   {
    "duration": 34,
    "start_time": "2023-07-22T09:50:47.601Z"
   },
   {
    "duration": 16,
    "start_time": "2023-07-22T09:50:47.636Z"
   },
   {
    "duration": 181,
    "start_time": "2023-07-22T09:50:47.654Z"
   },
   {
    "duration": 16,
    "start_time": "2023-07-22T09:50:47.837Z"
   },
   {
    "duration": 8,
    "start_time": "2023-07-22T09:50:47.855Z"
   },
   {
    "duration": 659,
    "start_time": "2023-07-22T09:50:47.864Z"
   },
   {
    "duration": 16,
    "start_time": "2023-07-22T09:50:48.524Z"
   },
   {
    "duration": 1322,
    "start_time": "2023-07-22T09:50:48.542Z"
   },
   {
    "duration": 11,
    "start_time": "2023-07-22T09:50:49.865Z"
   },
   {
    "duration": 24,
    "start_time": "2023-07-22T09:50:49.877Z"
   },
   {
    "duration": 19,
    "start_time": "2023-07-22T09:50:49.903Z"
   },
   {
    "duration": 227,
    "start_time": "2023-07-22T09:50:49.923Z"
   },
   {
    "duration": 18,
    "start_time": "2023-07-22T09:50:50.152Z"
   },
   {
    "duration": 48,
    "start_time": "2023-07-22T09:50:50.172Z"
   },
   {
    "duration": 15,
    "start_time": "2023-07-22T09:50:50.221Z"
   },
   {
    "duration": 24,
    "start_time": "2023-07-22T09:50:50.238Z"
   },
   {
    "duration": 19,
    "start_time": "2023-07-22T09:50:50.264Z"
   },
   {
    "duration": 1360,
    "start_time": "2023-07-22T10:32:35.637Z"
   },
   {
    "duration": 1066,
    "start_time": "2023-07-22T10:32:36.999Z"
   },
   {
    "duration": 11,
    "start_time": "2023-07-22T10:32:38.067Z"
   },
   {
    "duration": 25,
    "start_time": "2023-07-22T10:32:38.080Z"
   },
   {
    "duration": 19,
    "start_time": "2023-07-22T10:32:38.106Z"
   },
   {
    "duration": 60,
    "start_time": "2023-07-22T10:32:38.126Z"
   },
   {
    "duration": 8,
    "start_time": "2023-07-22T10:32:38.187Z"
   },
   {
    "duration": 20,
    "start_time": "2023-07-22T10:32:38.197Z"
   },
   {
    "duration": 18,
    "start_time": "2023-07-22T10:32:38.219Z"
   },
   {
    "duration": 21,
    "start_time": "2023-07-22T10:32:38.239Z"
   },
   {
    "duration": 94,
    "start_time": "2023-07-22T10:32:38.261Z"
   },
   {
    "duration": 5,
    "start_time": "2023-07-22T10:32:38.356Z"
   },
   {
    "duration": 173,
    "start_time": "2023-07-22T10:32:38.363Z"
   },
   {
    "duration": 27,
    "start_time": "2023-07-22T10:32:38.537Z"
   },
   {
    "duration": 9,
    "start_time": "2023-07-22T10:32:38.565Z"
   },
   {
    "duration": 9,
    "start_time": "2023-07-22T10:32:38.575Z"
   },
   {
    "duration": 8,
    "start_time": "2023-07-22T10:32:38.585Z"
   },
   {
    "duration": 14,
    "start_time": "2023-07-22T10:32:38.594Z"
   },
   {
    "duration": 31,
    "start_time": "2023-07-22T10:32:38.609Z"
   },
   {
    "duration": 11,
    "start_time": "2023-07-22T10:32:38.641Z"
   },
   {
    "duration": 34,
    "start_time": "2023-07-22T10:32:38.653Z"
   },
   {
    "duration": 7,
    "start_time": "2023-07-22T10:32:38.689Z"
   },
   {
    "duration": 13,
    "start_time": "2023-07-22T10:32:38.698Z"
   },
   {
    "duration": 6,
    "start_time": "2023-07-22T10:32:38.713Z"
   },
   {
    "duration": 16,
    "start_time": "2023-07-22T10:32:38.720Z"
   },
   {
    "duration": 16,
    "start_time": "2023-07-22T10:32:38.737Z"
   },
   {
    "duration": 8,
    "start_time": "2023-07-22T10:32:38.754Z"
   },
   {
    "duration": 17,
    "start_time": "2023-07-22T10:32:38.765Z"
   },
   {
    "duration": 16,
    "start_time": "2023-07-22T10:32:38.783Z"
   },
   {
    "duration": 5,
    "start_time": "2023-07-22T10:32:38.800Z"
   },
   {
    "duration": 8,
    "start_time": "2023-07-22T10:32:38.806Z"
   },
   {
    "duration": 18,
    "start_time": "2023-07-22T10:32:38.815Z"
   },
   {
    "duration": 9,
    "start_time": "2023-07-22T10:32:38.835Z"
   },
   {
    "duration": 6,
    "start_time": "2023-07-22T10:32:38.845Z"
   },
   {
    "duration": 20,
    "start_time": "2023-07-22T10:32:38.852Z"
   },
   {
    "duration": 23,
    "start_time": "2023-07-22T10:32:38.873Z"
   },
   {
    "duration": 47,
    "start_time": "2023-07-22T10:32:38.898Z"
   },
   {
    "duration": 3,
    "start_time": "2023-07-22T10:32:38.947Z"
   },
   {
    "duration": 19,
    "start_time": "2023-07-22T10:32:38.951Z"
   },
   {
    "duration": 9,
    "start_time": "2023-07-22T10:32:38.971Z"
   },
   {
    "duration": 28,
    "start_time": "2023-07-22T10:32:38.982Z"
   },
   {
    "duration": 6,
    "start_time": "2023-07-22T10:32:39.032Z"
   },
   {
    "duration": 34,
    "start_time": "2023-07-22T10:32:39.040Z"
   },
   {
    "duration": 7,
    "start_time": "2023-07-22T10:32:39.076Z"
   },
   {
    "duration": 15,
    "start_time": "2023-07-22T10:32:39.085Z"
   },
   {
    "duration": 11,
    "start_time": "2023-07-22T10:32:39.101Z"
   },
   {
    "duration": 270,
    "start_time": "2023-07-22T10:32:39.132Z"
   },
   {
    "duration": 11,
    "start_time": "2023-07-22T10:32:39.403Z"
   },
   {
    "duration": 25,
    "start_time": "2023-07-22T10:32:39.415Z"
   },
   {
    "duration": 13,
    "start_time": "2023-07-22T10:32:39.441Z"
   },
   {
    "duration": 16,
    "start_time": "2023-07-22T10:32:39.455Z"
   },
   {
    "duration": 11,
    "start_time": "2023-07-22T10:32:39.472Z"
   },
   {
    "duration": 22,
    "start_time": "2023-07-22T10:32:39.484Z"
   },
   {
    "duration": 27,
    "start_time": "2023-07-22T10:32:39.507Z"
   },
   {
    "duration": 17,
    "start_time": "2023-07-22T10:32:39.535Z"
   },
   {
    "duration": 176,
    "start_time": "2023-07-22T10:32:39.553Z"
   },
   {
    "duration": 16,
    "start_time": "2023-07-22T10:32:39.730Z"
   },
   {
    "duration": 9,
    "start_time": "2023-07-22T10:32:39.748Z"
   },
   {
    "duration": 777,
    "start_time": "2023-07-22T10:32:39.758Z"
   },
   {
    "duration": 16,
    "start_time": "2023-07-22T10:32:40.537Z"
   },
   {
    "duration": 1401,
    "start_time": "2023-07-22T10:32:40.555Z"
   },
   {
    "duration": 11,
    "start_time": "2023-07-22T10:32:41.958Z"
   },
   {
    "duration": 28,
    "start_time": "2023-07-22T10:32:41.971Z"
   },
   {
    "duration": 4,
    "start_time": "2023-07-22T10:32:42.000Z"
   },
   {
    "duration": 135,
    "start_time": "2023-07-22T10:32:42.006Z"
   },
   {
    "duration": 21,
    "start_time": "2023-07-22T10:32:42.142Z"
   },
   {
    "duration": 9,
    "start_time": "2023-07-22T10:32:42.165Z"
   },
   {
    "duration": 68,
    "start_time": "2023-07-22T10:32:42.175Z"
   },
   {
    "duration": 5,
    "start_time": "2023-07-22T10:32:42.244Z"
   },
   {
    "duration": 22,
    "start_time": "2023-07-22T10:32:42.251Z"
   },
   {
    "duration": 11,
    "start_time": "2023-07-22T10:35:56.045Z"
   },
   {
    "duration": 12,
    "start_time": "2023-07-22T11:05:42.085Z"
   },
   {
    "duration": 2,
    "start_time": "2023-07-22T11:14:55.916Z"
   },
   {
    "duration": 10,
    "start_time": "2023-07-22T11:20:21.342Z"
   },
   {
    "duration": 21,
    "start_time": "2023-07-22T11:24:01.819Z"
   },
   {
    "duration": 12,
    "start_time": "2023-07-22T11:24:19.587Z"
   },
   {
    "duration": 103,
    "start_time": "2023-07-22T11:27:40.233Z"
   },
   {
    "duration": 5,
    "start_time": "2023-07-22T11:27:48.540Z"
   },
   {
    "duration": 4,
    "start_time": "2023-07-22T11:31:02.506Z"
   },
   {
    "duration": 15,
    "start_time": "2023-07-22T11:31:12.561Z"
   },
   {
    "duration": 3,
    "start_time": "2023-07-22T11:37:05.768Z"
   },
   {
    "duration": 1615,
    "start_time": "2023-07-22T11:37:05.775Z"
   },
   {
    "duration": 8,
    "start_time": "2023-07-22T11:37:07.392Z"
   },
   {
    "duration": 340,
    "start_time": "2023-07-22T11:37:07.401Z"
   },
   {
    "duration": 33,
    "start_time": "2023-07-22T11:37:07.743Z"
   },
   {
    "duration": 90,
    "start_time": "2023-07-22T11:37:07.778Z"
   },
   {
    "duration": 7,
    "start_time": "2023-07-22T11:37:07.870Z"
   },
   {
    "duration": 29,
    "start_time": "2023-07-22T11:37:07.879Z"
   },
   {
    "duration": 15,
    "start_time": "2023-07-22T11:37:07.910Z"
   },
   {
    "duration": 29,
    "start_time": "2023-07-22T11:37:07.926Z"
   },
   {
    "duration": 117,
    "start_time": "2023-07-22T11:37:07.958Z"
   },
   {
    "duration": 6,
    "start_time": "2023-07-22T11:37:08.077Z"
   },
   {
    "duration": 201,
    "start_time": "2023-07-22T11:37:08.084Z"
   },
   {
    "duration": 26,
    "start_time": "2023-07-22T11:37:08.287Z"
   },
   {
    "duration": 17,
    "start_time": "2023-07-22T11:37:08.315Z"
   },
   {
    "duration": 23,
    "start_time": "2023-07-22T11:37:08.334Z"
   },
   {
    "duration": 22,
    "start_time": "2023-07-22T11:37:08.358Z"
   },
   {
    "duration": 33,
    "start_time": "2023-07-22T11:37:08.382Z"
   },
   {
    "duration": 57,
    "start_time": "2023-07-22T11:37:08.417Z"
   },
   {
    "duration": 28,
    "start_time": "2023-07-22T11:37:08.476Z"
   },
   {
    "duration": 41,
    "start_time": "2023-07-22T11:37:08.506Z"
   },
   {
    "duration": 15,
    "start_time": "2023-07-22T11:37:08.549Z"
   },
   {
    "duration": 462,
    "start_time": "2023-07-22T11:37:08.565Z"
   },
   {
    "duration": 115,
    "start_time": "2023-07-22T11:37:09.029Z"
   },
   {
    "duration": 27,
    "start_time": "2023-07-22T11:37:09.145Z"
   },
   {
    "duration": 38,
    "start_time": "2023-07-22T11:37:09.174Z"
   },
   {
    "duration": 6,
    "start_time": "2023-07-22T11:37:09.214Z"
   },
   {
    "duration": 8,
    "start_time": "2023-07-22T11:37:09.221Z"
   },
   {
    "duration": 27,
    "start_time": "2023-07-22T11:37:09.232Z"
   },
   {
    "duration": 5,
    "start_time": "2023-07-22T11:37:09.261Z"
   },
   {
    "duration": 26,
    "start_time": "2023-07-22T11:37:09.268Z"
   },
   {
    "duration": 33,
    "start_time": "2023-07-22T11:37:09.296Z"
   },
   {
    "duration": 12,
    "start_time": "2023-07-22T11:37:09.331Z"
   },
   {
    "duration": 6,
    "start_time": "2023-07-22T11:37:09.345Z"
   },
   {
    "duration": 16,
    "start_time": "2023-07-22T11:37:09.352Z"
   },
   {
    "duration": 10,
    "start_time": "2023-07-22T11:37:09.370Z"
   },
   {
    "duration": 50,
    "start_time": "2023-07-22T11:37:09.382Z"
   },
   {
    "duration": 4,
    "start_time": "2023-07-22T11:37:09.434Z"
   },
   {
    "duration": 15,
    "start_time": "2023-07-22T11:37:09.440Z"
   },
   {
    "duration": 10,
    "start_time": "2023-07-22T11:37:09.457Z"
   },
   {
    "duration": 30,
    "start_time": "2023-07-22T11:37:09.469Z"
   },
   {
    "duration": 31,
    "start_time": "2023-07-22T11:37:09.501Z"
   },
   {
    "duration": 38,
    "start_time": "2023-07-22T11:37:09.533Z"
   },
   {
    "duration": 7,
    "start_time": "2023-07-22T11:37:09.572Z"
   },
   {
    "duration": 43,
    "start_time": "2023-07-22T11:37:09.580Z"
   },
   {
    "duration": 20,
    "start_time": "2023-07-22T11:37:09.624Z"
   },
   {
    "duration": 270,
    "start_time": "2023-07-22T11:37:09.645Z"
   },
   {
    "duration": 17,
    "start_time": "2023-07-22T11:37:09.917Z"
   },
   {
    "duration": 33,
    "start_time": "2023-07-22T11:37:09.936Z"
   },
   {
    "duration": 25,
    "start_time": "2023-07-22T11:37:09.971Z"
   },
   {
    "duration": 46,
    "start_time": "2023-07-22T11:37:09.998Z"
   },
   {
    "duration": 31,
    "start_time": "2023-07-22T11:37:10.045Z"
   },
   {
    "duration": 30,
    "start_time": "2023-07-22T11:37:10.077Z"
   },
   {
    "duration": 38,
    "start_time": "2023-07-22T11:37:10.109Z"
   },
   {
    "duration": 25,
    "start_time": "2023-07-22T11:37:10.149Z"
   },
   {
    "duration": 165,
    "start_time": "2023-07-22T11:37:10.176Z"
   },
   {
    "duration": 16,
    "start_time": "2023-07-22T11:37:10.343Z"
   },
   {
    "duration": 8,
    "start_time": "2023-07-22T11:37:10.361Z"
   },
   {
    "duration": 764,
    "start_time": "2023-07-22T11:37:10.370Z"
   },
   {
    "duration": 16,
    "start_time": "2023-07-22T11:37:11.136Z"
   },
   {
    "duration": 1414,
    "start_time": "2023-07-22T11:37:11.153Z"
   },
   {
    "duration": 12,
    "start_time": "2023-07-22T11:37:12.569Z"
   },
   {
    "duration": 7,
    "start_time": "2023-07-22T11:38:35.354Z"
   },
   {
    "duration": 13,
    "start_time": "2023-07-22T11:38:38.052Z"
   },
   {
    "duration": 8,
    "start_time": "2023-07-22T11:39:10.379Z"
   },
   {
    "duration": 3,
    "start_time": "2023-07-22T11:46:26.717Z"
   },
   {
    "duration": 1198,
    "start_time": "2023-07-22T11:46:26.725Z"
   },
   {
    "duration": 8,
    "start_time": "2023-07-22T11:46:27.925Z"
   },
   {
    "duration": 11,
    "start_time": "2023-07-22T11:46:27.934Z"
   },
   {
    "duration": 19,
    "start_time": "2023-07-22T11:46:27.948Z"
   },
   {
    "duration": 57,
    "start_time": "2023-07-22T11:46:27.968Z"
   },
   {
    "duration": 11,
    "start_time": "2023-07-22T11:46:28.026Z"
   },
   {
    "duration": 33,
    "start_time": "2023-07-22T11:46:28.039Z"
   },
   {
    "duration": 6,
    "start_time": "2023-07-22T11:46:28.074Z"
   },
   {
    "duration": 86,
    "start_time": "2023-07-22T11:46:28.081Z"
   },
   {
    "duration": 87,
    "start_time": "2023-07-22T11:46:28.170Z"
   },
   {
    "duration": 6,
    "start_time": "2023-07-22T11:46:28.258Z"
   },
   {
    "duration": 151,
    "start_time": "2023-07-22T11:46:28.265Z"
   },
   {
    "duration": 35,
    "start_time": "2023-07-22T11:46:28.418Z"
   },
   {
    "duration": 10,
    "start_time": "2023-07-22T11:46:28.455Z"
   },
   {
    "duration": 21,
    "start_time": "2023-07-22T11:46:28.466Z"
   },
   {
    "duration": 7,
    "start_time": "2023-07-22T11:46:28.489Z"
   },
   {
    "duration": 14,
    "start_time": "2023-07-22T11:46:28.498Z"
   },
   {
    "duration": 13,
    "start_time": "2023-07-22T11:46:28.514Z"
   },
   {
    "duration": 31,
    "start_time": "2023-07-22T11:46:28.529Z"
   },
   {
    "duration": 28,
    "start_time": "2023-07-22T11:46:28.562Z"
   },
   {
    "duration": 6,
    "start_time": "2023-07-22T11:46:28.591Z"
   },
   {
    "duration": 10,
    "start_time": "2023-07-22T11:46:28.599Z"
   },
   {
    "duration": 13,
    "start_time": "2023-07-22T11:46:28.610Z"
   },
   {
    "duration": 6,
    "start_time": "2023-07-22T11:46:28.624Z"
   },
   {
    "duration": 125,
    "start_time": "2023-07-22T11:46:28.641Z"
   },
   {
    "duration": 86,
    "start_time": "2023-07-22T11:46:28.768Z"
   },
   {
    "duration": 6,
    "start_time": "2023-07-22T11:46:28.857Z"
   },
   {
    "duration": 21,
    "start_time": "2023-07-22T11:46:28.869Z"
   },
   {
    "duration": 5,
    "start_time": "2023-07-22T11:46:28.891Z"
   },
   {
    "duration": 5,
    "start_time": "2023-07-22T11:46:28.897Z"
   },
   {
    "duration": 8,
    "start_time": "2023-07-22T11:46:28.904Z"
   },
   {
    "duration": 31,
    "start_time": "2023-07-22T11:46:28.914Z"
   },
   {
    "duration": 7,
    "start_time": "2023-07-22T11:46:28.947Z"
   },
   {
    "duration": 18,
    "start_time": "2023-07-22T11:46:28.955Z"
   },
   {
    "duration": 10,
    "start_time": "2023-07-22T11:46:28.975Z"
   },
   {
    "duration": 55,
    "start_time": "2023-07-22T11:46:28.986Z"
   },
   {
    "duration": 5,
    "start_time": "2023-07-22T11:46:29.043Z"
   },
   {
    "duration": 21,
    "start_time": "2023-07-22T11:46:29.050Z"
   },
   {
    "duration": 11,
    "start_time": "2023-07-22T11:46:29.073Z"
   },
   {
    "duration": 29,
    "start_time": "2023-07-22T11:46:29.086Z"
   },
   {
    "duration": 10,
    "start_time": "2023-07-22T11:46:29.132Z"
   },
   {
    "duration": 32,
    "start_time": "2023-07-22T11:46:29.144Z"
   },
   {
    "duration": 10,
    "start_time": "2023-07-22T11:46:29.177Z"
   },
   {
    "duration": 38,
    "start_time": "2023-07-22T11:46:29.188Z"
   },
   {
    "duration": 9,
    "start_time": "2023-07-22T11:46:29.228Z"
   },
   {
    "duration": 263,
    "start_time": "2023-07-22T11:47:46.138Z"
   },
   {
    "duration": 15,
    "start_time": "2023-07-22T11:47:52.319Z"
   },
   {
    "duration": 3,
    "start_time": "2023-07-22T11:54:04.153Z"
   },
   {
    "duration": 10,
    "start_time": "2023-07-22T11:54:05.885Z"
   },
   {
    "duration": 21,
    "start_time": "2023-07-22T11:54:35.215Z"
   },
   {
    "duration": 4,
    "start_time": "2023-07-22T11:55:41.349Z"
   },
   {
    "duration": 1345,
    "start_time": "2023-07-22T11:55:41.357Z"
   },
   {
    "duration": 8,
    "start_time": "2023-07-22T11:55:42.704Z"
   },
   {
    "duration": 32,
    "start_time": "2023-07-22T11:55:42.714Z"
   },
   {
    "duration": 25,
    "start_time": "2023-07-22T11:55:42.748Z"
   },
   {
    "duration": 67,
    "start_time": "2023-07-22T11:55:42.775Z"
   },
   {
    "duration": 8,
    "start_time": "2023-07-22T11:55:42.843Z"
   },
   {
    "duration": 43,
    "start_time": "2023-07-22T11:55:42.853Z"
   },
   {
    "duration": 7,
    "start_time": "2023-07-22T11:55:42.898Z"
   },
   {
    "duration": 17,
    "start_time": "2023-07-22T11:55:42.906Z"
   },
   {
    "duration": 93,
    "start_time": "2023-07-22T11:55:42.925Z"
   },
   {
    "duration": 14,
    "start_time": "2023-07-22T11:55:43.019Z"
   },
   {
    "duration": 147,
    "start_time": "2023-07-22T11:55:43.035Z"
   },
   {
    "duration": 28,
    "start_time": "2023-07-22T11:55:43.184Z"
   },
   {
    "duration": 26,
    "start_time": "2023-07-22T11:55:43.213Z"
   },
   {
    "duration": 10,
    "start_time": "2023-07-22T11:55:43.241Z"
   },
   {
    "duration": 8,
    "start_time": "2023-07-22T11:55:43.252Z"
   },
   {
    "duration": 14,
    "start_time": "2023-07-22T11:55:43.261Z"
   },
   {
    "duration": 13,
    "start_time": "2023-07-22T11:55:43.277Z"
   },
   {
    "duration": 8,
    "start_time": "2023-07-22T11:55:43.291Z"
   },
   {
    "duration": 51,
    "start_time": "2023-07-22T11:55:43.300Z"
   },
   {
    "duration": 10,
    "start_time": "2023-07-22T11:55:43.353Z"
   },
   {
    "duration": 19,
    "start_time": "2023-07-22T11:55:43.365Z"
   },
   {
    "duration": 12,
    "start_time": "2023-07-22T11:55:43.385Z"
   },
   {
    "duration": 14,
    "start_time": "2023-07-22T11:55:43.398Z"
   },
   {
    "duration": 24,
    "start_time": "2023-07-22T11:55:43.415Z"
   },
   {
    "duration": 20,
    "start_time": "2023-07-22T11:55:43.441Z"
   },
   {
    "duration": 7,
    "start_time": "2023-07-22T11:55:43.463Z"
   },
   {
    "duration": 14,
    "start_time": "2023-07-22T11:55:43.473Z"
   },
   {
    "duration": 4,
    "start_time": "2023-07-22T11:55:43.489Z"
   },
   {
    "duration": 6,
    "start_time": "2023-07-22T11:55:43.495Z"
   },
   {
    "duration": 14,
    "start_time": "2023-07-22T11:55:43.502Z"
   },
   {
    "duration": 10,
    "start_time": "2023-07-22T11:55:43.532Z"
   },
   {
    "duration": 10,
    "start_time": "2023-07-22T11:55:43.543Z"
   },
   {
    "duration": 14,
    "start_time": "2023-07-22T11:55:43.554Z"
   },
   {
    "duration": 10,
    "start_time": "2023-07-22T11:55:43.570Z"
   },
   {
    "duration": 63,
    "start_time": "2023-07-22T11:55:43.581Z"
   },
   {
    "duration": 4,
    "start_time": "2023-07-22T11:55:43.646Z"
   },
   {
    "duration": 13,
    "start_time": "2023-07-22T11:55:43.651Z"
   },
   {
    "duration": 12,
    "start_time": "2023-07-22T11:55:43.666Z"
   },
   {
    "duration": 54,
    "start_time": "2023-07-22T11:55:43.679Z"
   },
   {
    "duration": 6,
    "start_time": "2023-07-22T11:55:43.735Z"
   },
   {
    "duration": 30,
    "start_time": "2023-07-22T11:55:43.742Z"
   },
   {
    "duration": 9,
    "start_time": "2023-07-22T11:55:43.774Z"
   },
   {
    "duration": 16,
    "start_time": "2023-07-22T11:55:43.784Z"
   },
   {
    "duration": 9,
    "start_time": "2023-07-22T11:55:43.832Z"
   },
   {
    "duration": 281,
    "start_time": "2023-07-22T11:55:43.842Z"
   },
   {
    "duration": 17,
    "start_time": "2023-07-22T11:55:44.125Z"
   },
   {
    "duration": 20,
    "start_time": "2023-07-22T11:55:44.143Z"
   },
   {
    "duration": 16,
    "start_time": "2023-07-22T11:55:44.164Z"
   },
   {
    "duration": 11,
    "start_time": "2023-07-22T11:55:44.182Z"
   },
   {
    "duration": 41,
    "start_time": "2023-07-22T11:55:44.194Z"
   },
   {
    "duration": 15,
    "start_time": "2023-07-22T11:55:44.237Z"
   },
   {
    "duration": 26,
    "start_time": "2023-07-22T11:55:44.254Z"
   },
   {
    "duration": 19,
    "start_time": "2023-07-22T11:55:44.282Z"
   },
   {
    "duration": 222,
    "start_time": "2023-07-22T11:55:44.303Z"
   },
   {
    "duration": 18,
    "start_time": "2023-07-22T11:55:44.531Z"
   },
   {
    "duration": 8,
    "start_time": "2023-07-22T11:55:44.551Z"
   },
   {
    "duration": 948,
    "start_time": "2023-07-22T11:55:44.560Z"
   },
   {
    "duration": 27,
    "start_time": "2023-07-22T11:55:45.510Z"
   },
   {
    "duration": 1518,
    "start_time": "2023-07-22T11:55:45.539Z"
   },
   {
    "duration": 13,
    "start_time": "2023-07-22T11:55:47.059Z"
   },
   {
    "duration": 12,
    "start_time": "2023-07-22T11:56:13.505Z"
   },
   {
    "duration": 2,
    "start_time": "2023-07-22T11:56:18.214Z"
   },
   {
    "duration": 13,
    "start_time": "2023-07-22T11:56:32.038Z"
   },
   {
    "duration": 27,
    "start_time": "2023-07-22T11:56:44.844Z"
   },
   {
    "duration": 10,
    "start_time": "2023-07-22T11:56:49.938Z"
   },
   {
    "duration": 8,
    "start_time": "2023-07-22T12:00:05.142Z"
   },
   {
    "duration": 9,
    "start_time": "2023-07-22T12:00:11.494Z"
   },
   {
    "duration": 4,
    "start_time": "2023-07-22T12:10:12.877Z"
   },
   {
    "duration": 4,
    "start_time": "2023-07-22T12:15:09.504Z"
   },
   {
    "duration": 7,
    "start_time": "2023-07-22T12:15:14.876Z"
   },
   {
    "duration": 4,
    "start_time": "2023-07-22T12:18:43.729Z"
   },
   {
    "duration": 1193,
    "start_time": "2023-07-22T12:18:43.738Z"
   },
   {
    "duration": 9,
    "start_time": "2023-07-22T12:18:44.932Z"
   },
   {
    "duration": 16,
    "start_time": "2023-07-22T12:18:44.942Z"
   },
   {
    "duration": 37,
    "start_time": "2023-07-22T12:18:44.960Z"
   },
   {
    "duration": 116,
    "start_time": "2023-07-22T12:18:44.999Z"
   },
   {
    "duration": 8,
    "start_time": "2023-07-22T12:18:45.117Z"
   },
   {
    "duration": 28,
    "start_time": "2023-07-22T12:18:45.127Z"
   },
   {
    "duration": 8,
    "start_time": "2023-07-22T12:18:45.157Z"
   },
   {
    "duration": 15,
    "start_time": "2023-07-22T12:18:45.166Z"
   },
   {
    "duration": 97,
    "start_time": "2023-07-22T12:18:45.183Z"
   },
   {
    "duration": 5,
    "start_time": "2023-07-22T12:18:45.282Z"
   },
   {
    "duration": 169,
    "start_time": "2023-07-22T12:18:45.288Z"
   },
   {
    "duration": 28,
    "start_time": "2023-07-22T12:18:45.458Z"
   },
   {
    "duration": 10,
    "start_time": "2023-07-22T12:18:45.487Z"
   },
   {
    "duration": 34,
    "start_time": "2023-07-22T12:18:45.498Z"
   },
   {
    "duration": 15,
    "start_time": "2023-07-22T12:18:45.533Z"
   },
   {
    "duration": 15,
    "start_time": "2023-07-22T12:18:45.550Z"
   },
   {
    "duration": 8,
    "start_time": "2023-07-22T12:18:45.566Z"
   },
   {
    "duration": 7,
    "start_time": "2023-07-22T12:18:45.575Z"
   },
   {
    "duration": 33,
    "start_time": "2023-07-22T12:18:45.583Z"
   },
   {
    "duration": 6,
    "start_time": "2023-07-22T12:18:45.632Z"
   },
   {
    "duration": 26,
    "start_time": "2023-07-22T12:18:45.639Z"
   },
   {
    "duration": 10,
    "start_time": "2023-07-22T12:18:45.667Z"
   },
   {
    "duration": 34,
    "start_time": "2023-07-22T12:18:45.678Z"
   },
   {
    "duration": 20,
    "start_time": "2023-07-22T12:18:45.713Z"
   },
   {
    "duration": 6,
    "start_time": "2023-07-22T12:18:45.734Z"
   },
   {
    "duration": 6,
    "start_time": "2023-07-22T12:18:45.742Z"
   },
   {
    "duration": 16,
    "start_time": "2023-07-22T12:18:45.751Z"
   },
   {
    "duration": 6,
    "start_time": "2023-07-22T12:18:45.769Z"
   },
   {
    "duration": 10,
    "start_time": "2023-07-22T12:18:45.777Z"
   },
   {
    "duration": 13,
    "start_time": "2023-07-22T12:18:45.789Z"
   },
   {
    "duration": 13,
    "start_time": "2023-07-22T12:18:45.833Z"
   },
   {
    "duration": 9,
    "start_time": "2023-07-22T12:18:45.848Z"
   },
   {
    "duration": 30,
    "start_time": "2023-07-22T12:18:45.858Z"
   },
   {
    "duration": 15,
    "start_time": "2023-07-22T12:18:45.891Z"
   },
   {
    "duration": 57,
    "start_time": "2023-07-22T12:18:45.908Z"
   },
   {
    "duration": 4,
    "start_time": "2023-07-22T12:18:45.967Z"
   },
   {
    "duration": 21,
    "start_time": "2023-07-22T12:18:45.973Z"
   },
   {
    "duration": 10,
    "start_time": "2023-07-22T12:18:45.996Z"
   },
   {
    "duration": 48,
    "start_time": "2023-07-22T12:18:46.008Z"
   },
   {
    "duration": 7,
    "start_time": "2023-07-22T12:18:46.058Z"
   },
   {
    "duration": 34,
    "start_time": "2023-07-22T12:18:46.067Z"
   },
   {
    "duration": 8,
    "start_time": "2023-07-22T12:18:46.103Z"
   },
   {
    "duration": 17,
    "start_time": "2023-07-22T12:18:46.132Z"
   },
   {
    "duration": 100,
    "start_time": "2023-07-22T12:18:59.336Z"
   },
   {
    "duration": 17,
    "start_time": "2023-07-22T12:20:05.341Z"
   },
   {
    "duration": 13,
    "start_time": "2023-07-22T12:20:07.996Z"
   },
   {
    "duration": 11,
    "start_time": "2023-07-22T12:20:09.509Z"
   },
   {
    "duration": 14,
    "start_time": "2023-07-22T12:20:13.339Z"
   },
   {
    "duration": 19,
    "start_time": "2023-07-22T12:20:21.499Z"
   },
   {
    "duration": 9,
    "start_time": "2023-07-22T12:20:30.149Z"
   },
   {
    "duration": 3,
    "start_time": "2023-07-22T12:20:33.439Z"
   },
   {
    "duration": 7,
    "start_time": "2023-07-22T12:20:35.749Z"
   },
   {
    "duration": 6,
    "start_time": "2023-07-22T12:20:41.116Z"
   },
   {
    "duration": 10,
    "start_time": "2023-07-22T12:20:44.249Z"
   },
   {
    "duration": 7,
    "start_time": "2023-07-22T12:20:47.117Z"
   },
   {
    "duration": 7,
    "start_time": "2023-07-22T12:20:49.477Z"
   },
   {
    "duration": 4,
    "start_time": "2023-07-22T12:20:51.814Z"
   },
   {
    "duration": 4,
    "start_time": "2023-07-22T12:23:04.499Z"
   },
   {
    "duration": 1355,
    "start_time": "2023-07-22T12:23:04.508Z"
   },
   {
    "duration": 9,
    "start_time": "2023-07-22T12:23:05.865Z"
   },
   {
    "duration": 19,
    "start_time": "2023-07-22T12:23:05.875Z"
   },
   {
    "duration": 31,
    "start_time": "2023-07-22T12:23:05.896Z"
   },
   {
    "duration": 95,
    "start_time": "2023-07-22T12:23:05.929Z"
   },
   {
    "duration": 8,
    "start_time": "2023-07-22T12:23:06.026Z"
   },
   {
    "duration": 69,
    "start_time": "2023-07-22T12:23:06.036Z"
   },
   {
    "duration": 25,
    "start_time": "2023-07-22T12:23:06.107Z"
   },
   {
    "duration": 32,
    "start_time": "2023-07-22T12:23:06.134Z"
   },
   {
    "duration": 109,
    "start_time": "2023-07-22T12:23:06.169Z"
   },
   {
    "duration": 6,
    "start_time": "2023-07-22T12:23:06.280Z"
   },
   {
    "duration": 167,
    "start_time": "2023-07-22T12:23:06.287Z"
   },
   {
    "duration": 30,
    "start_time": "2023-07-22T12:23:06.455Z"
   },
   {
    "duration": 9,
    "start_time": "2023-07-22T12:23:06.487Z"
   },
   {
    "duration": 41,
    "start_time": "2023-07-22T12:23:06.498Z"
   },
   {
    "duration": 8,
    "start_time": "2023-07-22T12:23:06.541Z"
   },
   {
    "duration": 13,
    "start_time": "2023-07-22T12:23:06.551Z"
   },
   {
    "duration": 14,
    "start_time": "2023-07-22T12:23:06.566Z"
   },
   {
    "duration": 9,
    "start_time": "2023-07-22T12:23:06.582Z"
   },
   {
    "duration": 47,
    "start_time": "2023-07-22T12:23:06.593Z"
   },
   {
    "duration": 7,
    "start_time": "2023-07-22T12:23:06.642Z"
   },
   {
    "duration": 23,
    "start_time": "2023-07-22T12:23:06.650Z"
   },
   {
    "duration": 4,
    "start_time": "2023-07-22T12:23:06.675Z"
   },
   {
    "duration": 12,
    "start_time": "2023-07-22T12:23:06.680Z"
   },
   {
    "duration": 26,
    "start_time": "2023-07-22T12:23:06.693Z"
   },
   {
    "duration": 19,
    "start_time": "2023-07-22T12:23:06.721Z"
   },
   {
    "duration": 28,
    "start_time": "2023-07-22T12:23:06.741Z"
   },
   {
    "duration": 30,
    "start_time": "2023-07-22T12:23:06.772Z"
   },
   {
    "duration": 10,
    "start_time": "2023-07-22T12:23:06.803Z"
   },
   {
    "duration": 7,
    "start_time": "2023-07-22T12:23:06.815Z"
   },
   {
    "duration": 13,
    "start_time": "2023-07-22T12:23:06.824Z"
   },
   {
    "duration": 18,
    "start_time": "2023-07-22T12:23:06.838Z"
   },
   {
    "duration": 8,
    "start_time": "2023-07-22T12:23:06.857Z"
   },
   {
    "duration": 21,
    "start_time": "2023-07-22T12:23:06.867Z"
   },
   {
    "duration": 10,
    "start_time": "2023-07-22T12:23:06.890Z"
   },
   {
    "duration": 52,
    "start_time": "2023-07-22T12:23:06.902Z"
   },
   {
    "duration": 4,
    "start_time": "2023-07-22T12:23:06.956Z"
   },
   {
    "duration": 19,
    "start_time": "2023-07-22T12:23:06.961Z"
   },
   {
    "duration": 25,
    "start_time": "2023-07-22T12:23:06.982Z"
   },
   {
    "duration": 45,
    "start_time": "2023-07-22T12:23:07.008Z"
   },
   {
    "duration": 5,
    "start_time": "2023-07-22T12:23:07.055Z"
   },
   {
    "duration": 32,
    "start_time": "2023-07-22T12:23:07.062Z"
   },
   {
    "duration": 8,
    "start_time": "2023-07-22T12:23:07.096Z"
   },
   {
    "duration": 37,
    "start_time": "2023-07-22T12:23:07.106Z"
   },
   {
    "duration": 10,
    "start_time": "2023-07-22T12:23:07.145Z"
   },
   {
    "duration": 295,
    "start_time": "2023-07-22T12:23:07.156Z"
   },
   {
    "duration": 13,
    "start_time": "2023-07-22T12:23:07.452Z"
   },
   {
    "duration": 17,
    "start_time": "2023-07-22T12:23:07.466Z"
   },
   {
    "duration": 15,
    "start_time": "2023-07-22T12:23:07.484Z"
   },
   {
    "duration": 36,
    "start_time": "2023-07-22T12:23:07.501Z"
   },
   {
    "duration": 18,
    "start_time": "2023-07-22T12:23:07.539Z"
   },
   {
    "duration": 11,
    "start_time": "2023-07-22T12:23:07.558Z"
   },
   {
    "duration": 24,
    "start_time": "2023-07-22T12:23:07.570Z"
   },
   {
    "duration": 46,
    "start_time": "2023-07-22T12:23:07.595Z"
   },
   {
    "duration": 213,
    "start_time": "2023-07-22T12:23:07.643Z"
   },
   {
    "duration": 17,
    "start_time": "2023-07-22T12:23:07.857Z"
   },
   {
    "duration": 36,
    "start_time": "2023-07-22T12:23:07.876Z"
   },
   {
    "duration": 936,
    "start_time": "2023-07-22T12:23:07.913Z"
   },
   {
    "duration": 16,
    "start_time": "2023-07-22T12:23:08.851Z"
   },
   {
    "duration": 1487,
    "start_time": "2023-07-22T12:23:08.868Z"
   },
   {
    "duration": 12,
    "start_time": "2023-07-22T12:23:10.357Z"
   },
   {
    "duration": 12,
    "start_time": "2023-07-22T12:24:32.914Z"
   },
   {
    "duration": 3,
    "start_time": "2023-07-22T12:25:22.276Z"
   },
   {
    "duration": 6,
    "start_time": "2023-07-22T12:25:56.153Z"
   },
   {
    "duration": 6,
    "start_time": "2023-07-22T12:25:59.646Z"
   },
   {
    "duration": 13,
    "start_time": "2023-07-22T12:26:02.447Z"
   },
   {
    "duration": 9,
    "start_time": "2023-07-22T12:26:04.198Z"
   },
   {
    "duration": 9,
    "start_time": "2023-07-22T12:26:05.913Z"
   },
   {
    "duration": 6,
    "start_time": "2023-07-22T12:26:09.114Z"
   },
   {
    "duration": 4,
    "start_time": "2023-07-22T12:43:27.737Z"
   },
   {
    "duration": 1265,
    "start_time": "2023-07-22T12:46:20.122Z"
   },
   {
    "duration": 1068,
    "start_time": "2023-07-22T12:46:21.389Z"
   },
   {
    "duration": 10,
    "start_time": "2023-07-22T12:46:22.458Z"
   },
   {
    "duration": 15,
    "start_time": "2023-07-22T12:46:22.469Z"
   },
   {
    "duration": 25,
    "start_time": "2023-07-22T12:46:22.486Z"
   },
   {
    "duration": 81,
    "start_time": "2023-07-22T12:46:22.513Z"
   },
   {
    "duration": 8,
    "start_time": "2023-07-22T12:46:22.596Z"
   },
   {
    "duration": 34,
    "start_time": "2023-07-22T12:46:22.606Z"
   },
   {
    "duration": 8,
    "start_time": "2023-07-22T12:46:22.642Z"
   },
   {
    "duration": 30,
    "start_time": "2023-07-22T12:46:22.653Z"
   },
   {
    "duration": 98,
    "start_time": "2023-07-22T12:46:22.684Z"
   },
   {
    "duration": 5,
    "start_time": "2023-07-22T12:46:22.784Z"
   },
   {
    "duration": 169,
    "start_time": "2023-07-22T12:46:22.790Z"
   },
   {
    "duration": 27,
    "start_time": "2023-07-22T12:46:22.960Z"
   },
   {
    "duration": 10,
    "start_time": "2023-07-22T12:46:22.988Z"
   },
   {
    "duration": 18,
    "start_time": "2023-07-22T12:46:22.999Z"
   },
   {
    "duration": 4,
    "start_time": "2023-07-22T12:46:23.032Z"
   },
   {
    "duration": 11,
    "start_time": "2023-07-22T12:46:23.038Z"
   },
   {
    "duration": 7,
    "start_time": "2023-07-22T12:46:23.051Z"
   },
   {
    "duration": 24,
    "start_time": "2023-07-22T12:46:23.060Z"
   },
   {
    "duration": 27,
    "start_time": "2023-07-22T12:46:23.086Z"
   },
   {
    "duration": 6,
    "start_time": "2023-07-22T12:46:23.114Z"
   },
   {
    "duration": 14,
    "start_time": "2023-07-22T12:46:23.132Z"
   },
   {
    "duration": 12,
    "start_time": "2023-07-22T12:46:23.147Z"
   },
   {
    "duration": 9,
    "start_time": "2023-07-22T12:46:23.160Z"
   },
   {
    "duration": 18,
    "start_time": "2023-07-22T12:46:23.170Z"
   },
   {
    "duration": 5,
    "start_time": "2023-07-22T12:46:23.190Z"
   },
   {
    "duration": 15,
    "start_time": "2023-07-22T12:46:23.198Z"
   },
   {
    "duration": 21,
    "start_time": "2023-07-22T12:46:23.215Z"
   },
   {
    "duration": 4,
    "start_time": "2023-07-22T12:46:23.238Z"
   },
   {
    "duration": 17,
    "start_time": "2023-07-22T12:46:23.244Z"
   },
   {
    "duration": 14,
    "start_time": "2023-07-22T12:46:23.262Z"
   },
   {
    "duration": 24,
    "start_time": "2023-07-22T12:46:23.278Z"
   },
   {
    "duration": 29,
    "start_time": "2023-07-22T12:46:23.304Z"
   },
   {
    "duration": 34,
    "start_time": "2023-07-22T12:46:23.334Z"
   },
   {
    "duration": 18,
    "start_time": "2023-07-22T12:46:23.370Z"
   },
   {
    "duration": 46,
    "start_time": "2023-07-22T12:46:23.389Z"
   },
   {
    "duration": 4,
    "start_time": "2023-07-22T12:46:23.437Z"
   },
   {
    "duration": 32,
    "start_time": "2023-07-22T12:46:23.442Z"
   },
   {
    "duration": 23,
    "start_time": "2023-07-22T12:46:23.475Z"
   },
   {
    "duration": 34,
    "start_time": "2023-07-22T12:46:23.500Z"
   },
   {
    "duration": 5,
    "start_time": "2023-07-22T12:46:23.536Z"
   },
   {
    "duration": 31,
    "start_time": "2023-07-22T12:46:23.543Z"
   },
   {
    "duration": 7,
    "start_time": "2023-07-22T12:46:23.576Z"
   },
   {
    "duration": 22,
    "start_time": "2023-07-22T12:46:23.584Z"
   },
   {
    "duration": 9,
    "start_time": "2023-07-22T12:46:23.607Z"
   },
   {
    "duration": 274,
    "start_time": "2023-07-22T12:46:23.632Z"
   },
   {
    "duration": 11,
    "start_time": "2023-07-22T12:46:23.907Z"
   },
   {
    "duration": 14,
    "start_time": "2023-07-22T12:46:23.931Z"
   },
   {
    "duration": 14,
    "start_time": "2023-07-22T12:46:23.947Z"
   },
   {
    "duration": 9,
    "start_time": "2023-07-22T12:46:23.962Z"
   },
   {
    "duration": 18,
    "start_time": "2023-07-22T12:46:23.972Z"
   },
   {
    "duration": 10,
    "start_time": "2023-07-22T12:46:23.992Z"
   },
   {
    "duration": 37,
    "start_time": "2023-07-22T12:46:24.004Z"
   },
   {
    "duration": 16,
    "start_time": "2023-07-22T12:46:24.042Z"
   },
   {
    "duration": 175,
    "start_time": "2023-07-22T12:46:24.059Z"
   },
   {
    "duration": 17,
    "start_time": "2023-07-22T12:46:24.235Z"
   },
   {
    "duration": 7,
    "start_time": "2023-07-22T12:46:24.253Z"
   },
   {
    "duration": 840,
    "start_time": "2023-07-22T12:46:24.261Z"
   },
   {
    "duration": 17,
    "start_time": "2023-07-22T12:46:25.103Z"
   },
   {
    "duration": 1383,
    "start_time": "2023-07-22T12:46:25.121Z"
   },
   {
    "duration": 13,
    "start_time": "2023-07-22T12:46:26.506Z"
   },
   {
    "duration": 43,
    "start_time": "2023-07-22T12:46:26.521Z"
   },
   {
    "duration": 21,
    "start_time": "2023-07-22T12:46:26.566Z"
   },
   {
    "duration": 26,
    "start_time": "2023-07-22T12:46:26.588Z"
   },
   {
    "duration": 16,
    "start_time": "2023-07-22T12:46:26.615Z"
   },
   {
    "duration": 19,
    "start_time": "2023-07-22T12:46:26.632Z"
   },
   {
    "duration": 26,
    "start_time": "2023-07-22T12:46:26.652Z"
   },
   {
    "duration": 23,
    "start_time": "2023-07-22T12:46:26.679Z"
   },
   {
    "duration": 30,
    "start_time": "2023-07-22T12:46:26.704Z"
   },
   {
    "duration": 54,
    "start_time": "2023-07-22T12:46:26.735Z"
   },
   {
    "duration": 4,
    "start_time": "2023-07-22T12:46:26.790Z"
   },
   {
    "duration": 224,
    "start_time": "2023-07-22T12:46:26.795Z"
   },
   {
    "duration": 19,
    "start_time": "2023-07-22T12:46:27.020Z"
   },
   {
    "duration": 7,
    "start_time": "2023-07-22T12:46:27.041Z"
   },
   {
    "duration": 17,
    "start_time": "2023-07-22T12:46:27.050Z"
   },
   {
    "duration": 5,
    "start_time": "2023-07-22T12:46:27.068Z"
   },
   {
    "duration": 62,
    "start_time": "2023-07-22T12:46:27.075Z"
   },
   {
    "duration": 1268,
    "start_time": "2023-07-22T12:49:23.317Z"
   },
   {
    "duration": 1331,
    "start_time": "2023-07-22T12:49:24.587Z"
   },
   {
    "duration": 12,
    "start_time": "2023-07-22T12:49:25.919Z"
   },
   {
    "duration": 16,
    "start_time": "2023-07-22T12:49:25.933Z"
   },
   {
    "duration": 13,
    "start_time": "2023-07-22T12:49:25.950Z"
   },
   {
    "duration": 75,
    "start_time": "2023-07-22T12:49:25.964Z"
   },
   {
    "duration": 8,
    "start_time": "2023-07-22T12:49:26.041Z"
   },
   {
    "duration": 41,
    "start_time": "2023-07-22T12:49:26.050Z"
   },
   {
    "duration": 34,
    "start_time": "2023-07-22T12:49:26.092Z"
   },
   {
    "duration": 31,
    "start_time": "2023-07-22T12:49:26.128Z"
   },
   {
    "duration": 99,
    "start_time": "2023-07-22T12:49:26.160Z"
   },
   {
    "duration": 6,
    "start_time": "2023-07-22T12:49:26.260Z"
   },
   {
    "duration": 171,
    "start_time": "2023-07-22T12:49:26.267Z"
   },
   {
    "duration": 27,
    "start_time": "2023-07-22T12:49:26.441Z"
   },
   {
    "duration": 13,
    "start_time": "2023-07-22T12:49:26.470Z"
   },
   {
    "duration": 19,
    "start_time": "2023-07-22T12:49:26.485Z"
   },
   {
    "duration": 27,
    "start_time": "2023-07-22T12:49:26.505Z"
   },
   {
    "duration": 37,
    "start_time": "2023-07-22T12:49:26.534Z"
   },
   {
    "duration": 23,
    "start_time": "2023-07-22T12:49:26.573Z"
   },
   {
    "duration": 35,
    "start_time": "2023-07-22T12:49:26.598Z"
   },
   {
    "duration": 67,
    "start_time": "2023-07-22T12:49:26.635Z"
   },
   {
    "duration": 6,
    "start_time": "2023-07-22T12:49:26.704Z"
   },
   {
    "duration": 57,
    "start_time": "2023-07-22T12:49:26.711Z"
   },
   {
    "duration": 25,
    "start_time": "2023-07-22T12:49:26.770Z"
   },
   {
    "duration": 19,
    "start_time": "2023-07-22T12:49:26.796Z"
   },
   {
    "duration": 35,
    "start_time": "2023-07-22T12:49:26.816Z"
   },
   {
    "duration": 40,
    "start_time": "2023-07-22T12:49:26.852Z"
   },
   {
    "duration": 24,
    "start_time": "2023-07-22T12:49:26.896Z"
   },
   {
    "duration": 28,
    "start_time": "2023-07-22T12:49:26.921Z"
   },
   {
    "duration": 39,
    "start_time": "2023-07-22T12:49:26.951Z"
   },
   {
    "duration": 32,
    "start_time": "2023-07-22T12:49:26.992Z"
   },
   {
    "duration": 36,
    "start_time": "2023-07-22T12:49:27.026Z"
   },
   {
    "duration": 28,
    "start_time": "2023-07-22T12:49:27.064Z"
   },
   {
    "duration": 17,
    "start_time": "2023-07-22T12:49:27.093Z"
   },
   {
    "duration": 50,
    "start_time": "2023-07-22T12:49:27.111Z"
   },
   {
    "duration": 11,
    "start_time": "2023-07-22T12:49:27.163Z"
   },
   {
    "duration": 63,
    "start_time": "2023-07-22T12:49:27.175Z"
   },
   {
    "duration": 4,
    "start_time": "2023-07-22T12:49:27.240Z"
   },
   {
    "duration": 34,
    "start_time": "2023-07-22T12:49:27.245Z"
   },
   {
    "duration": 30,
    "start_time": "2023-07-22T12:49:27.281Z"
   },
   {
    "duration": 41,
    "start_time": "2023-07-22T12:49:27.312Z"
   },
   {
    "duration": 6,
    "start_time": "2023-07-22T12:49:27.354Z"
   },
   {
    "duration": 39,
    "start_time": "2023-07-22T12:49:27.361Z"
   },
   {
    "duration": 8,
    "start_time": "2023-07-22T12:49:27.401Z"
   },
   {
    "duration": 28,
    "start_time": "2023-07-22T12:49:27.410Z"
   },
   {
    "duration": 49,
    "start_time": "2023-07-22T12:49:27.440Z"
   },
   {
    "duration": 293,
    "start_time": "2023-07-22T12:49:27.491Z"
   },
   {
    "duration": 12,
    "start_time": "2023-07-22T12:49:27.786Z"
   },
   {
    "duration": 32,
    "start_time": "2023-07-22T12:49:27.800Z"
   },
   {
    "duration": 16,
    "start_time": "2023-07-22T12:49:27.834Z"
   },
   {
    "duration": 14,
    "start_time": "2023-07-22T12:49:27.852Z"
   },
   {
    "duration": 12,
    "start_time": "2023-07-22T12:49:27.868Z"
   },
   {
    "duration": 10,
    "start_time": "2023-07-22T12:49:27.882Z"
   },
   {
    "duration": 40,
    "start_time": "2023-07-22T12:49:27.893Z"
   },
   {
    "duration": 18,
    "start_time": "2023-07-22T12:49:27.934Z"
   },
   {
    "duration": 179,
    "start_time": "2023-07-22T12:49:27.954Z"
   },
   {
    "duration": 16,
    "start_time": "2023-07-22T12:49:28.135Z"
   },
   {
    "duration": 8,
    "start_time": "2023-07-22T12:49:28.152Z"
   },
   {
    "duration": 695,
    "start_time": "2023-07-22T12:49:28.161Z"
   },
   {
    "duration": 16,
    "start_time": "2023-07-22T12:49:28.858Z"
   },
   {
    "duration": 1426,
    "start_time": "2023-07-22T12:49:28.875Z"
   },
   {
    "duration": 12,
    "start_time": "2023-07-22T12:49:30.302Z"
   },
   {
    "duration": 22,
    "start_time": "2023-07-22T12:49:30.316Z"
   },
   {
    "duration": 39,
    "start_time": "2023-07-22T12:49:30.340Z"
   },
   {
    "duration": 45,
    "start_time": "2023-07-22T12:49:30.381Z"
   },
   {
    "duration": 30,
    "start_time": "2023-07-22T12:49:30.428Z"
   },
   {
    "duration": 37,
    "start_time": "2023-07-22T12:49:30.460Z"
   },
   {
    "duration": 37,
    "start_time": "2023-07-22T12:49:30.499Z"
   },
   {
    "duration": 46,
    "start_time": "2023-07-22T12:49:30.538Z"
   },
   {
    "duration": 18,
    "start_time": "2023-07-22T12:49:30.585Z"
   },
   {
    "duration": 58,
    "start_time": "2023-07-22T12:49:30.604Z"
   },
   {
    "duration": 34,
    "start_time": "2023-07-22T12:49:30.664Z"
   },
   {
    "duration": 160,
    "start_time": "2023-07-22T12:49:30.700Z"
   },
   {
    "duration": 21,
    "start_time": "2023-07-22T12:49:30.862Z"
   },
   {
    "duration": 54,
    "start_time": "2023-07-22T12:49:30.885Z"
   },
   {
    "duration": 53,
    "start_time": "2023-07-22T12:49:30.941Z"
   },
   {
    "duration": 47,
    "start_time": "2023-07-22T12:49:30.996Z"
   },
   {
    "duration": 114,
    "start_time": "2023-07-22T12:49:31.044Z"
   },
   {
    "duration": 22,
    "start_time": "2023-07-22T12:51:40.345Z"
   },
   {
    "duration": 1234,
    "start_time": "2023-07-23T09:59:25.829Z"
   },
   {
    "duration": 1118,
    "start_time": "2023-07-23T09:59:27.066Z"
   },
   {
    "duration": 10,
    "start_time": "2023-07-23T09:59:28.186Z"
   },
   {
    "duration": 38,
    "start_time": "2023-07-23T09:59:28.198Z"
   },
   {
    "duration": 9,
    "start_time": "2023-07-23T09:59:28.239Z"
   },
   {
    "duration": 68,
    "start_time": "2023-07-23T09:59:28.250Z"
   },
   {
    "duration": 9,
    "start_time": "2023-07-23T09:59:28.324Z"
   },
   {
    "duration": 15,
    "start_time": "2023-07-23T09:59:28.335Z"
   },
   {
    "duration": 23,
    "start_time": "2023-07-23T09:59:28.351Z"
   },
   {
    "duration": 15,
    "start_time": "2023-07-23T09:59:28.376Z"
   },
   {
    "duration": 105,
    "start_time": "2023-07-23T09:59:28.392Z"
   },
   {
    "duration": 5,
    "start_time": "2023-07-23T09:59:28.498Z"
   },
   {
    "duration": 164,
    "start_time": "2023-07-23T09:59:28.515Z"
   },
   {
    "duration": 39,
    "start_time": "2023-07-23T09:59:28.681Z"
   },
   {
    "duration": 16,
    "start_time": "2023-07-23T09:59:28.724Z"
   },
   {
    "duration": 15,
    "start_time": "2023-07-23T09:59:28.742Z"
   },
   {
    "duration": 28,
    "start_time": "2023-07-23T09:59:28.758Z"
   },
   {
    "duration": 40,
    "start_time": "2023-07-23T09:59:28.787Z"
   },
   {
    "duration": 20,
    "start_time": "2023-07-23T09:59:28.828Z"
   },
   {
    "duration": 22,
    "start_time": "2023-07-23T09:59:28.849Z"
   },
   {
    "duration": 52,
    "start_time": "2023-07-23T09:59:28.873Z"
   },
   {
    "duration": 8,
    "start_time": "2023-07-23T09:59:28.926Z"
   },
   {
    "duration": 35,
    "start_time": "2023-07-23T09:59:28.935Z"
   },
   {
    "duration": 23,
    "start_time": "2023-07-23T09:59:28.972Z"
   },
   {
    "duration": 39,
    "start_time": "2023-07-23T09:59:28.996Z"
   },
   {
    "duration": 21,
    "start_time": "2023-07-23T09:59:29.037Z"
   },
   {
    "duration": 33,
    "start_time": "2023-07-23T09:59:29.059Z"
   },
   {
    "duration": 29,
    "start_time": "2023-07-23T09:59:29.097Z"
   },
   {
    "duration": 38,
    "start_time": "2023-07-23T09:59:29.132Z"
   },
   {
    "duration": 10,
    "start_time": "2023-07-23T09:59:29.172Z"
   },
   {
    "duration": 6,
    "start_time": "2023-07-23T09:59:29.184Z"
   },
   {
    "duration": 35,
    "start_time": "2023-07-23T09:59:29.191Z"
   },
   {
    "duration": 12,
    "start_time": "2023-07-23T09:59:29.227Z"
   },
   {
    "duration": 19,
    "start_time": "2023-07-23T09:59:29.241Z"
   },
   {
    "duration": 26,
    "start_time": "2023-07-23T09:59:29.262Z"
   },
   {
    "duration": 43,
    "start_time": "2023-07-23T09:59:29.290Z"
   },
   {
    "duration": 37,
    "start_time": "2023-07-23T09:59:29.340Z"
   },
   {
    "duration": 4,
    "start_time": "2023-07-23T09:59:29.378Z"
   },
   {
    "duration": 49,
    "start_time": "2023-07-23T09:59:29.383Z"
   },
   {
    "duration": 23,
    "start_time": "2023-07-23T09:59:29.435Z"
   },
   {
    "duration": 55,
    "start_time": "2023-07-23T09:59:29.459Z"
   },
   {
    "duration": 9,
    "start_time": "2023-07-23T09:59:29.522Z"
   },
   {
    "duration": 46,
    "start_time": "2023-07-23T09:59:29.535Z"
   },
   {
    "duration": 9,
    "start_time": "2023-07-23T09:59:29.582Z"
   },
   {
    "duration": 39,
    "start_time": "2023-07-23T09:59:29.592Z"
   },
   {
    "duration": 10,
    "start_time": "2023-07-23T09:59:29.633Z"
   },
   {
    "duration": 248,
    "start_time": "2023-07-23T09:59:29.644Z"
   },
   {
    "duration": 21,
    "start_time": "2023-07-23T09:59:29.893Z"
   },
   {
    "duration": 38,
    "start_time": "2023-07-23T09:59:29.915Z"
   },
   {
    "duration": 14,
    "start_time": "2023-07-23T09:59:29.954Z"
   },
   {
    "duration": 9,
    "start_time": "2023-07-23T09:59:29.969Z"
   },
   {
    "duration": 16,
    "start_time": "2023-07-23T09:59:29.980Z"
   },
   {
    "duration": 51,
    "start_time": "2023-07-23T09:59:29.997Z"
   },
   {
    "duration": 42,
    "start_time": "2023-07-23T09:59:30.049Z"
   },
   {
    "duration": 44,
    "start_time": "2023-07-23T09:59:30.092Z"
   },
   {
    "duration": 170,
    "start_time": "2023-07-23T09:59:30.137Z"
   },
   {
    "duration": 23,
    "start_time": "2023-07-23T09:59:30.316Z"
   },
   {
    "duration": 15,
    "start_time": "2023-07-23T09:59:30.341Z"
   },
   {
    "duration": 743,
    "start_time": "2023-07-23T09:59:30.357Z"
   },
   {
    "duration": 21,
    "start_time": "2023-07-23T09:59:31.102Z"
   },
   {
    "duration": 1492,
    "start_time": "2023-07-23T09:59:31.127Z"
   },
   {
    "duration": 14,
    "start_time": "2023-07-23T09:59:32.621Z"
   },
   {
    "duration": 28,
    "start_time": "2023-07-23T09:59:32.637Z"
   },
   {
    "duration": 17,
    "start_time": "2023-07-23T09:59:32.666Z"
   },
   {
    "duration": 26,
    "start_time": "2023-07-23T09:59:32.684Z"
   },
   {
    "duration": 22,
    "start_time": "2023-07-23T09:59:32.713Z"
   },
   {
    "duration": 18,
    "start_time": "2023-07-23T09:59:32.738Z"
   },
   {
    "duration": 11,
    "start_time": "2023-07-23T09:59:32.758Z"
   },
   {
    "duration": 30,
    "start_time": "2023-07-23T09:59:32.771Z"
   },
   {
    "duration": 32,
    "start_time": "2023-07-23T09:59:32.803Z"
   },
   {
    "duration": 32,
    "start_time": "2023-07-23T09:59:32.836Z"
   },
   {
    "duration": 4,
    "start_time": "2023-07-23T09:59:32.870Z"
   },
   {
    "duration": 283,
    "start_time": "2023-07-23T09:59:32.875Z"
   },
   {
    "duration": 55,
    "start_time": "2023-07-23T09:59:33.160Z"
   },
   {
    "duration": 12,
    "start_time": "2023-07-23T09:59:33.217Z"
   },
   {
    "duration": 18,
    "start_time": "2023-07-23T09:59:33.231Z"
   },
   {
    "duration": 5,
    "start_time": "2023-07-23T09:59:33.250Z"
   },
   {
    "duration": 57,
    "start_time": "2023-07-23T09:59:33.257Z"
   },
   {
    "duration": 8107,
    "start_time": "2023-11-26T20:36:48.541Z"
   },
   {
    "duration": 1112,
    "start_time": "2023-11-26T20:36:56.650Z"
   },
   {
    "duration": 13,
    "start_time": "2023-11-26T20:36:57.764Z"
   },
   {
    "duration": 11,
    "start_time": "2023-11-26T20:36:57.779Z"
   },
   {
    "duration": 9,
    "start_time": "2023-11-26T20:36:57.791Z"
   },
   {
    "duration": 64,
    "start_time": "2023-11-26T20:36:57.801Z"
   },
   {
    "duration": 8,
    "start_time": "2023-11-26T20:36:57.866Z"
   },
   {
    "duration": 19,
    "start_time": "2023-11-26T20:36:57.875Z"
   },
   {
    "duration": 8,
    "start_time": "2023-11-26T20:36:57.910Z"
   },
   {
    "duration": 10,
    "start_time": "2023-11-26T20:36:57.922Z"
   },
   {
    "duration": 114,
    "start_time": "2023-11-26T20:36:57.934Z"
   },
   {
    "duration": 6,
    "start_time": "2023-11-26T20:36:58.049Z"
   },
   {
    "duration": 180,
    "start_time": "2023-11-26T20:36:58.057Z"
   },
   {
    "duration": 31,
    "start_time": "2023-11-26T20:36:58.239Z"
   },
   {
    "duration": 9,
    "start_time": "2023-11-26T20:36:58.272Z"
   },
   {
    "duration": 29,
    "start_time": "2023-11-26T20:36:58.283Z"
   },
   {
    "duration": 5,
    "start_time": "2023-11-26T20:36:58.314Z"
   },
   {
    "duration": 7,
    "start_time": "2023-11-26T20:36:58.320Z"
   },
   {
    "duration": 7,
    "start_time": "2023-11-26T20:36:58.328Z"
   },
   {
    "duration": 7,
    "start_time": "2023-11-26T20:36:58.336Z"
   },
   {
    "duration": 27,
    "start_time": "2023-11-26T20:36:58.345Z"
   },
   {
    "duration": 6,
    "start_time": "2023-11-26T20:36:58.374Z"
   },
   {
    "duration": 9,
    "start_time": "2023-11-26T20:36:58.411Z"
   },
   {
    "duration": 4,
    "start_time": "2023-11-26T20:36:58.421Z"
   },
   {
    "duration": 4,
    "start_time": "2023-11-26T20:36:58.426Z"
   },
   {
    "duration": 15,
    "start_time": "2023-11-26T20:36:58.431Z"
   },
   {
    "duration": 5,
    "start_time": "2023-11-26T20:36:58.448Z"
   },
   {
    "duration": 5,
    "start_time": "2023-11-26T20:36:58.456Z"
   },
   {
    "duration": 23,
    "start_time": "2023-11-26T20:36:58.462Z"
   },
   {
    "duration": 6,
    "start_time": "2023-11-26T20:36:58.511Z"
   },
   {
    "duration": 5,
    "start_time": "2023-11-26T20:36:58.519Z"
   },
   {
    "duration": 10,
    "start_time": "2023-11-26T20:36:58.525Z"
   },
   {
    "duration": 10,
    "start_time": "2023-11-26T20:36:58.536Z"
   },
   {
    "duration": 6,
    "start_time": "2023-11-26T20:36:58.548Z"
   },
   {
    "duration": 19,
    "start_time": "2023-11-26T20:36:58.556Z"
   },
   {
    "duration": 44,
    "start_time": "2023-11-26T20:36:58.576Z"
   },
   {
    "duration": 135,
    "start_time": "2023-11-26T20:36:58.621Z"
   },
   {
    "duration": 0,
    "start_time": "2023-11-26T20:36:58.758Z"
   },
   {
    "duration": 0,
    "start_time": "2023-11-26T20:36:58.759Z"
   },
   {
    "duration": 0,
    "start_time": "2023-11-26T20:36:58.760Z"
   },
   {
    "duration": 0,
    "start_time": "2023-11-26T20:36:58.761Z"
   },
   {
    "duration": 0,
    "start_time": "2023-11-26T20:36:58.762Z"
   },
   {
    "duration": 0,
    "start_time": "2023-11-26T20:36:58.763Z"
   },
   {
    "duration": 0,
    "start_time": "2023-11-26T20:36:58.764Z"
   },
   {
    "duration": 0,
    "start_time": "2023-11-26T20:36:58.765Z"
   },
   {
    "duration": 0,
    "start_time": "2023-11-26T20:36:58.766Z"
   },
   {
    "duration": 0,
    "start_time": "2023-11-26T20:36:58.767Z"
   },
   {
    "duration": 0,
    "start_time": "2023-11-26T20:36:58.768Z"
   },
   {
    "duration": 0,
    "start_time": "2023-11-26T20:36:58.769Z"
   },
   {
    "duration": 0,
    "start_time": "2023-11-26T20:36:58.770Z"
   },
   {
    "duration": 0,
    "start_time": "2023-11-26T20:36:58.771Z"
   },
   {
    "duration": 0,
    "start_time": "2023-11-26T20:36:58.772Z"
   },
   {
    "duration": 0,
    "start_time": "2023-11-26T20:36:58.773Z"
   },
   {
    "duration": 0,
    "start_time": "2023-11-26T20:36:58.774Z"
   },
   {
    "duration": 0,
    "start_time": "2023-11-26T20:36:58.775Z"
   },
   {
    "duration": 0,
    "start_time": "2023-11-26T20:36:58.776Z"
   },
   {
    "duration": 0,
    "start_time": "2023-11-26T20:36:58.777Z"
   },
   {
    "duration": 0,
    "start_time": "2023-11-26T20:36:58.778Z"
   },
   {
    "duration": 0,
    "start_time": "2023-11-26T20:36:58.811Z"
   },
   {
    "duration": 0,
    "start_time": "2023-11-26T20:36:58.812Z"
   },
   {
    "duration": 0,
    "start_time": "2023-11-26T20:36:58.813Z"
   },
   {
    "duration": 1,
    "start_time": "2023-11-26T20:36:58.814Z"
   },
   {
    "duration": 0,
    "start_time": "2023-11-26T20:36:58.815Z"
   },
   {
    "duration": 0,
    "start_time": "2023-11-26T20:36:58.816Z"
   },
   {
    "duration": 0,
    "start_time": "2023-11-26T20:36:58.817Z"
   },
   {
    "duration": 0,
    "start_time": "2023-11-26T20:36:58.818Z"
   },
   {
    "duration": 0,
    "start_time": "2023-11-26T20:36:58.819Z"
   },
   {
    "duration": 0,
    "start_time": "2023-11-26T20:36:58.819Z"
   },
   {
    "duration": 0,
    "start_time": "2023-11-26T20:36:58.821Z"
   },
   {
    "duration": 1,
    "start_time": "2023-11-26T20:36:58.821Z"
   },
   {
    "duration": 0,
    "start_time": "2023-11-26T20:36:58.823Z"
   },
   {
    "duration": 0,
    "start_time": "2023-11-26T20:36:58.824Z"
   },
   {
    "duration": 0,
    "start_time": "2023-11-26T20:36:58.825Z"
   },
   {
    "duration": 0,
    "start_time": "2023-11-26T20:36:58.826Z"
   },
   {
    "duration": 0,
    "start_time": "2023-11-26T20:36:58.827Z"
   },
   {
    "duration": 0,
    "start_time": "2023-11-26T20:36:58.828Z"
   },
   {
    "duration": 0,
    "start_time": "2023-11-26T20:36:58.829Z"
   },
   {
    "duration": 0,
    "start_time": "2023-11-26T20:36:58.829Z"
   },
   {
    "duration": 3577,
    "start_time": "2023-11-26T20:38:14.594Z"
   },
   {
    "duration": 1203,
    "start_time": "2023-11-26T20:38:18.173Z"
   },
   {
    "duration": 11,
    "start_time": "2023-11-26T20:38:19.378Z"
   },
   {
    "duration": 10,
    "start_time": "2023-11-26T20:38:19.391Z"
   },
   {
    "duration": 9,
    "start_time": "2023-11-26T20:38:19.402Z"
   },
   {
    "duration": 66,
    "start_time": "2023-11-26T20:38:19.412Z"
   },
   {
    "duration": 7,
    "start_time": "2023-11-26T20:38:19.480Z"
   },
   {
    "duration": 31,
    "start_time": "2023-11-26T20:38:19.488Z"
   },
   {
    "duration": 7,
    "start_time": "2023-11-26T20:38:19.520Z"
   },
   {
    "duration": 10,
    "start_time": "2023-11-26T20:38:19.529Z"
   },
   {
    "duration": 110,
    "start_time": "2023-11-26T20:38:19.540Z"
   },
   {
    "duration": 5,
    "start_time": "2023-11-26T20:38:19.652Z"
   },
   {
    "duration": 173,
    "start_time": "2023-11-26T20:38:19.659Z"
   },
   {
    "duration": 26,
    "start_time": "2023-11-26T20:38:19.833Z"
   },
   {
    "duration": 9,
    "start_time": "2023-11-26T20:38:19.860Z"
   },
   {
    "duration": 6,
    "start_time": "2023-11-26T20:38:19.870Z"
   },
   {
    "duration": 5,
    "start_time": "2023-11-26T20:38:19.877Z"
   },
   {
    "duration": 28,
    "start_time": "2023-11-26T20:38:19.884Z"
   },
   {
    "duration": 6,
    "start_time": "2023-11-26T20:38:19.913Z"
   },
   {
    "duration": 7,
    "start_time": "2023-11-26T20:38:19.920Z"
   },
   {
    "duration": 29,
    "start_time": "2023-11-26T20:38:19.928Z"
   },
   {
    "duration": 6,
    "start_time": "2023-11-26T20:38:19.958Z"
   },
   {
    "duration": 13,
    "start_time": "2023-11-26T20:38:19.965Z"
   },
   {
    "duration": 33,
    "start_time": "2023-11-26T20:38:19.980Z"
   },
   {
    "duration": 13,
    "start_time": "2023-11-26T20:38:20.015Z"
   },
   {
    "duration": 12,
    "start_time": "2023-11-26T20:38:20.029Z"
   },
   {
    "duration": 5,
    "start_time": "2023-11-26T20:38:20.043Z"
   },
   {
    "duration": 9,
    "start_time": "2023-11-26T20:38:20.052Z"
   },
   {
    "duration": 13,
    "start_time": "2023-11-26T20:38:20.062Z"
   },
   {
    "duration": 4,
    "start_time": "2023-11-26T20:38:20.076Z"
   },
   {
    "duration": 31,
    "start_time": "2023-11-26T20:38:20.081Z"
   },
   {
    "duration": 9,
    "start_time": "2023-11-26T20:38:20.113Z"
   },
   {
    "duration": 9,
    "start_time": "2023-11-26T20:38:20.124Z"
   },
   {
    "duration": 6,
    "start_time": "2023-11-26T20:38:20.134Z"
   },
   {
    "duration": 18,
    "start_time": "2023-11-26T20:38:20.142Z"
   },
   {
    "duration": 10,
    "start_time": "2023-11-26T20:38:20.161Z"
   },
   {
    "duration": 57,
    "start_time": "2023-11-26T20:38:20.172Z"
   },
   {
    "duration": 3,
    "start_time": "2023-11-26T20:38:20.231Z"
   },
   {
    "duration": 10,
    "start_time": "2023-11-26T20:38:20.235Z"
   },
   {
    "duration": 8,
    "start_time": "2023-11-26T20:38:20.247Z"
   },
   {
    "duration": 59,
    "start_time": "2023-11-26T20:38:20.257Z"
   },
   {
    "duration": 6,
    "start_time": "2023-11-26T20:38:20.317Z"
   },
   {
    "duration": 32,
    "start_time": "2023-11-26T20:38:20.324Z"
   },
   {
    "duration": 7,
    "start_time": "2023-11-26T20:38:20.357Z"
   },
   {
    "duration": 13,
    "start_time": "2023-11-26T20:38:20.365Z"
   },
   {
    "duration": 32,
    "start_time": "2023-11-26T20:38:20.379Z"
   },
   {
    "duration": 265,
    "start_time": "2023-11-26T20:38:20.412Z"
   },
   {
    "duration": 12,
    "start_time": "2023-11-26T20:38:20.678Z"
   },
   {
    "duration": 28,
    "start_time": "2023-11-26T20:38:20.691Z"
   },
   {
    "duration": 13,
    "start_time": "2023-11-26T20:38:20.720Z"
   },
   {
    "duration": 9,
    "start_time": "2023-11-26T20:38:20.735Z"
   },
   {
    "duration": 10,
    "start_time": "2023-11-26T20:38:20.745Z"
   },
   {
    "duration": 10,
    "start_time": "2023-11-26T20:38:20.756Z"
   },
   {
    "duration": 45,
    "start_time": "2023-11-26T20:38:20.768Z"
   },
   {
    "duration": 17,
    "start_time": "2023-11-26T20:38:20.815Z"
   },
   {
    "duration": 182,
    "start_time": "2023-11-26T20:38:20.833Z"
   },
   {
    "duration": 17,
    "start_time": "2023-11-26T20:38:21.016Z"
   },
   {
    "duration": 7,
    "start_time": "2023-11-26T20:38:21.034Z"
   },
   {
    "duration": 853,
    "start_time": "2023-11-26T20:38:21.043Z"
   },
   {
    "duration": 22,
    "start_time": "2023-11-26T20:38:21.898Z"
   },
   {
    "duration": 1375,
    "start_time": "2023-11-26T20:38:21.921Z"
   },
   {
    "duration": 11,
    "start_time": "2023-11-26T20:38:23.297Z"
   },
   {
    "duration": 9,
    "start_time": "2023-11-26T20:38:23.310Z"
   },
   {
    "duration": 2,
    "start_time": "2023-11-26T20:38:23.320Z"
   },
   {
    "duration": 5,
    "start_time": "2023-11-26T20:38:23.324Z"
   },
   {
    "duration": 4,
    "start_time": "2023-11-26T20:38:23.331Z"
   },
   {
    "duration": 8,
    "start_time": "2023-11-26T20:38:23.336Z"
   },
   {
    "duration": 5,
    "start_time": "2023-11-26T20:38:23.345Z"
   },
   {
    "duration": 5,
    "start_time": "2023-11-26T20:38:23.352Z"
   },
   {
    "duration": 4,
    "start_time": "2023-11-26T20:38:23.359Z"
   },
   {
    "duration": 55,
    "start_time": "2023-11-26T20:38:23.364Z"
   },
   {
    "duration": 4,
    "start_time": "2023-11-26T20:38:23.420Z"
   },
   {
    "duration": 838,
    "start_time": "2023-11-26T20:38:23.425Z"
   },
   {
    "duration": 26,
    "start_time": "2023-11-26T20:38:24.265Z"
   },
   {
    "duration": 26,
    "start_time": "2023-11-26T20:38:24.292Z"
   },
   {
    "duration": 14,
    "start_time": "2023-11-26T20:38:24.319Z"
   },
   {
    "duration": 5,
    "start_time": "2023-11-26T20:38:24.335Z"
   },
   {
    "duration": 18,
    "start_time": "2023-11-26T20:38:24.342Z"
   }
  ],
  "kernelspec": {
   "display_name": "Python 3 (ipykernel)",
   "language": "python",
   "name": "python3"
  },
  "language_info": {
   "codemirror_mode": {
    "name": "ipython",
    "version": 3
   },
   "file_extension": ".py",
   "mimetype": "text/x-python",
   "name": "python",
   "nbconvert_exporter": "python",
   "pygments_lexer": "ipython3",
   "version": "3.9.13"
  },
  "toc": {
   "base_numbering": 1,
   "nav_menu": {},
   "number_sections": true,
   "sideBar": true,
   "skip_h1_title": true,
   "title_cell": "Table of Contents",
   "title_sidebar": "Contents",
   "toc_cell": false,
   "toc_position": {},
   "toc_section_display": true,
   "toc_window_display": true
  }
 },
 "nbformat": 4,
 "nbformat_minor": 2
}
