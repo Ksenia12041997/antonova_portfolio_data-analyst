{
 "cells": [
  {
   "cell_type": "markdown",
   "metadata": {},
   "source": [
    "# Исследование объявлений о продаже квартир\n",
    "\n",
    "Данные: архив объявлений о продаже квартир в Санкт-Петербурге и соседних населённых пунктов за несколько лет. \n",
    "\n",
    "Цель: установить параметры, которые влияют на рыночную стоимость объектов недвижимости. Это позволит построить автоматизированную систему: она отследит аномалии и мошенническую деятельность. "
   ]
  },
  {
   "cell_type": "markdown",
   "metadata": {},
   "source": [
    "### Открытие файла с данными и изучение общей информации. "
   ]
  },
  {
   "cell_type": "code",
   "execution_count": 2,
   "metadata": {},
   "outputs": [
    {
     "name": "stdout",
     "output_type": "stream",
     "text": [
      "Requirement already satisfied: kaleido in c:\\users\\kseniya\\anaconda3\\lib\\site-packages (0.2.1)\n"
     ]
    }
   ],
   "source": [
    "!pip install kaleido\n",
    "import plotly.io as pio\n",
    "pio.renderers.default = \"svg\"\n",
    "svg_renderer = pio.renderers[\"svg\"]\n",
    "svg_renderer.scale = 1.2"
   ]
  },
  {
   "cell_type": "code",
   "execution_count": 1,
   "metadata": {},
   "outputs": [],
   "source": [
    "import pandas as pd\n",
    "import matplotlib.pyplot as plt \n",
    "data = pd.read_csv('/datasets/real_estate_data.csv', sep='\\t', decimal='.')"
   ]
  },
  {
   "cell_type": "code",
   "execution_count": 2,
   "metadata": {},
   "outputs": [
    {
     "data": {
      "text/html": [
       "<div>\n",
       "<style scoped>\n",
       "    .dataframe tbody tr th:only-of-type {\n",
       "        vertical-align: middle;\n",
       "    }\n",
       "\n",
       "    .dataframe tbody tr th {\n",
       "        vertical-align: top;\n",
       "    }\n",
       "\n",
       "    .dataframe thead th {\n",
       "        text-align: right;\n",
       "    }\n",
       "</style>\n",
       "<table border=\"1\" class=\"dataframe\">\n",
       "  <thead>\n",
       "    <tr style=\"text-align: right;\">\n",
       "      <th></th>\n",
       "      <th>total_images</th>\n",
       "      <th>last_price</th>\n",
       "      <th>total_area</th>\n",
       "      <th>first_day_exposition</th>\n",
       "      <th>rooms</th>\n",
       "      <th>ceiling_height</th>\n",
       "      <th>floors_total</th>\n",
       "      <th>living_area</th>\n",
       "      <th>floor</th>\n",
       "      <th>is_apartment</th>\n",
       "      <th>...</th>\n",
       "      <th>kitchen_area</th>\n",
       "      <th>balcony</th>\n",
       "      <th>locality_name</th>\n",
       "      <th>airports_nearest</th>\n",
       "      <th>cityCenters_nearest</th>\n",
       "      <th>parks_around3000</th>\n",
       "      <th>parks_nearest</th>\n",
       "      <th>ponds_around3000</th>\n",
       "      <th>ponds_nearest</th>\n",
       "      <th>days_exposition</th>\n",
       "    </tr>\n",
       "  </thead>\n",
       "  <tbody>\n",
       "    <tr>\n",
       "      <th>0</th>\n",
       "      <td>20</td>\n",
       "      <td>13000000.0</td>\n",
       "      <td>108.00</td>\n",
       "      <td>2019-03-07T00:00:00</td>\n",
       "      <td>3</td>\n",
       "      <td>2.70</td>\n",
       "      <td>16.0</td>\n",
       "      <td>51.00</td>\n",
       "      <td>8</td>\n",
       "      <td>NaN</td>\n",
       "      <td>...</td>\n",
       "      <td>25.00</td>\n",
       "      <td>NaN</td>\n",
       "      <td>Санкт-Петербург</td>\n",
       "      <td>18863.0</td>\n",
       "      <td>16028.0</td>\n",
       "      <td>1.0</td>\n",
       "      <td>482.0</td>\n",
       "      <td>2.0</td>\n",
       "      <td>755.0</td>\n",
       "      <td>NaN</td>\n",
       "    </tr>\n",
       "    <tr>\n",
       "      <th>1</th>\n",
       "      <td>7</td>\n",
       "      <td>3350000.0</td>\n",
       "      <td>40.40</td>\n",
       "      <td>2018-12-04T00:00:00</td>\n",
       "      <td>1</td>\n",
       "      <td>NaN</td>\n",
       "      <td>11.0</td>\n",
       "      <td>18.60</td>\n",
       "      <td>1</td>\n",
       "      <td>NaN</td>\n",
       "      <td>...</td>\n",
       "      <td>11.00</td>\n",
       "      <td>2.0</td>\n",
       "      <td>посёлок Шушары</td>\n",
       "      <td>12817.0</td>\n",
       "      <td>18603.0</td>\n",
       "      <td>0.0</td>\n",
       "      <td>NaN</td>\n",
       "      <td>0.0</td>\n",
       "      <td>NaN</td>\n",
       "      <td>81.0</td>\n",
       "    </tr>\n",
       "    <tr>\n",
       "      <th>2</th>\n",
       "      <td>10</td>\n",
       "      <td>5196000.0</td>\n",
       "      <td>56.00</td>\n",
       "      <td>2015-08-20T00:00:00</td>\n",
       "      <td>2</td>\n",
       "      <td>NaN</td>\n",
       "      <td>5.0</td>\n",
       "      <td>34.30</td>\n",
       "      <td>4</td>\n",
       "      <td>NaN</td>\n",
       "      <td>...</td>\n",
       "      <td>8.30</td>\n",
       "      <td>0.0</td>\n",
       "      <td>Санкт-Петербург</td>\n",
       "      <td>21741.0</td>\n",
       "      <td>13933.0</td>\n",
       "      <td>1.0</td>\n",
       "      <td>90.0</td>\n",
       "      <td>2.0</td>\n",
       "      <td>574.0</td>\n",
       "      <td>558.0</td>\n",
       "    </tr>\n",
       "    <tr>\n",
       "      <th>3</th>\n",
       "      <td>0</td>\n",
       "      <td>64900000.0</td>\n",
       "      <td>159.00</td>\n",
       "      <td>2015-07-24T00:00:00</td>\n",
       "      <td>3</td>\n",
       "      <td>NaN</td>\n",
       "      <td>14.0</td>\n",
       "      <td>NaN</td>\n",
       "      <td>9</td>\n",
       "      <td>NaN</td>\n",
       "      <td>...</td>\n",
       "      <td>NaN</td>\n",
       "      <td>0.0</td>\n",
       "      <td>Санкт-Петербург</td>\n",
       "      <td>28098.0</td>\n",
       "      <td>6800.0</td>\n",
       "      <td>2.0</td>\n",
       "      <td>84.0</td>\n",
       "      <td>3.0</td>\n",
       "      <td>234.0</td>\n",
       "      <td>424.0</td>\n",
       "    </tr>\n",
       "    <tr>\n",
       "      <th>4</th>\n",
       "      <td>2</td>\n",
       "      <td>10000000.0</td>\n",
       "      <td>100.00</td>\n",
       "      <td>2018-06-19T00:00:00</td>\n",
       "      <td>2</td>\n",
       "      <td>3.03</td>\n",
       "      <td>14.0</td>\n",
       "      <td>32.00</td>\n",
       "      <td>13</td>\n",
       "      <td>NaN</td>\n",
       "      <td>...</td>\n",
       "      <td>41.00</td>\n",
       "      <td>NaN</td>\n",
       "      <td>Санкт-Петербург</td>\n",
       "      <td>31856.0</td>\n",
       "      <td>8098.0</td>\n",
       "      <td>2.0</td>\n",
       "      <td>112.0</td>\n",
       "      <td>1.0</td>\n",
       "      <td>48.0</td>\n",
       "      <td>121.0</td>\n",
       "    </tr>\n",
       "    <tr>\n",
       "      <th>5</th>\n",
       "      <td>10</td>\n",
       "      <td>2890000.0</td>\n",
       "      <td>30.40</td>\n",
       "      <td>2018-09-10T00:00:00</td>\n",
       "      <td>1</td>\n",
       "      <td>NaN</td>\n",
       "      <td>12.0</td>\n",
       "      <td>14.40</td>\n",
       "      <td>5</td>\n",
       "      <td>NaN</td>\n",
       "      <td>...</td>\n",
       "      <td>9.10</td>\n",
       "      <td>NaN</td>\n",
       "      <td>городской посёлок Янино-1</td>\n",
       "      <td>NaN</td>\n",
       "      <td>NaN</td>\n",
       "      <td>NaN</td>\n",
       "      <td>NaN</td>\n",
       "      <td>NaN</td>\n",
       "      <td>NaN</td>\n",
       "      <td>55.0</td>\n",
       "    </tr>\n",
       "    <tr>\n",
       "      <th>6</th>\n",
       "      <td>6</td>\n",
       "      <td>3700000.0</td>\n",
       "      <td>37.30</td>\n",
       "      <td>2017-11-02T00:00:00</td>\n",
       "      <td>1</td>\n",
       "      <td>NaN</td>\n",
       "      <td>26.0</td>\n",
       "      <td>10.60</td>\n",
       "      <td>6</td>\n",
       "      <td>NaN</td>\n",
       "      <td>...</td>\n",
       "      <td>14.40</td>\n",
       "      <td>1.0</td>\n",
       "      <td>посёлок Парголово</td>\n",
       "      <td>52996.0</td>\n",
       "      <td>19143.0</td>\n",
       "      <td>0.0</td>\n",
       "      <td>NaN</td>\n",
       "      <td>0.0</td>\n",
       "      <td>NaN</td>\n",
       "      <td>155.0</td>\n",
       "    </tr>\n",
       "    <tr>\n",
       "      <th>7</th>\n",
       "      <td>5</td>\n",
       "      <td>7915000.0</td>\n",
       "      <td>71.60</td>\n",
       "      <td>2019-04-18T00:00:00</td>\n",
       "      <td>2</td>\n",
       "      <td>NaN</td>\n",
       "      <td>24.0</td>\n",
       "      <td>NaN</td>\n",
       "      <td>22</td>\n",
       "      <td>NaN</td>\n",
       "      <td>...</td>\n",
       "      <td>18.90</td>\n",
       "      <td>2.0</td>\n",
       "      <td>Санкт-Петербург</td>\n",
       "      <td>23982.0</td>\n",
       "      <td>11634.0</td>\n",
       "      <td>0.0</td>\n",
       "      <td>NaN</td>\n",
       "      <td>0.0</td>\n",
       "      <td>NaN</td>\n",
       "      <td>NaN</td>\n",
       "    </tr>\n",
       "    <tr>\n",
       "      <th>8</th>\n",
       "      <td>20</td>\n",
       "      <td>2900000.0</td>\n",
       "      <td>33.16</td>\n",
       "      <td>2018-05-23T00:00:00</td>\n",
       "      <td>1</td>\n",
       "      <td>NaN</td>\n",
       "      <td>27.0</td>\n",
       "      <td>15.43</td>\n",
       "      <td>26</td>\n",
       "      <td>NaN</td>\n",
       "      <td>...</td>\n",
       "      <td>8.81</td>\n",
       "      <td>NaN</td>\n",
       "      <td>посёлок Мурино</td>\n",
       "      <td>NaN</td>\n",
       "      <td>NaN</td>\n",
       "      <td>NaN</td>\n",
       "      <td>NaN</td>\n",
       "      <td>NaN</td>\n",
       "      <td>NaN</td>\n",
       "      <td>189.0</td>\n",
       "    </tr>\n",
       "    <tr>\n",
       "      <th>9</th>\n",
       "      <td>18</td>\n",
       "      <td>5400000.0</td>\n",
       "      <td>61.00</td>\n",
       "      <td>2017-02-26T00:00:00</td>\n",
       "      <td>3</td>\n",
       "      <td>2.50</td>\n",
       "      <td>9.0</td>\n",
       "      <td>43.60</td>\n",
       "      <td>7</td>\n",
       "      <td>NaN</td>\n",
       "      <td>...</td>\n",
       "      <td>6.50</td>\n",
       "      <td>2.0</td>\n",
       "      <td>Санкт-Петербург</td>\n",
       "      <td>50898.0</td>\n",
       "      <td>15008.0</td>\n",
       "      <td>0.0</td>\n",
       "      <td>NaN</td>\n",
       "      <td>0.0</td>\n",
       "      <td>NaN</td>\n",
       "      <td>289.0</td>\n",
       "    </tr>\n",
       "  </tbody>\n",
       "</table>\n",
       "<p>10 rows × 22 columns</p>\n",
       "</div>"
      ],
      "text/plain": [
       "   total_images  last_price  total_area first_day_exposition  rooms  \\\n",
       "0            20  13000000.0      108.00  2019-03-07T00:00:00      3   \n",
       "1             7   3350000.0       40.40  2018-12-04T00:00:00      1   \n",
       "2            10   5196000.0       56.00  2015-08-20T00:00:00      2   \n",
       "3             0  64900000.0      159.00  2015-07-24T00:00:00      3   \n",
       "4             2  10000000.0      100.00  2018-06-19T00:00:00      2   \n",
       "5            10   2890000.0       30.40  2018-09-10T00:00:00      1   \n",
       "6             6   3700000.0       37.30  2017-11-02T00:00:00      1   \n",
       "7             5   7915000.0       71.60  2019-04-18T00:00:00      2   \n",
       "8            20   2900000.0       33.16  2018-05-23T00:00:00      1   \n",
       "9            18   5400000.0       61.00  2017-02-26T00:00:00      3   \n",
       "\n",
       "   ceiling_height  floors_total  living_area  floor is_apartment  ...  \\\n",
       "0            2.70          16.0        51.00      8          NaN  ...   \n",
       "1             NaN          11.0        18.60      1          NaN  ...   \n",
       "2             NaN           5.0        34.30      4          NaN  ...   \n",
       "3             NaN          14.0          NaN      9          NaN  ...   \n",
       "4            3.03          14.0        32.00     13          NaN  ...   \n",
       "5             NaN          12.0        14.40      5          NaN  ...   \n",
       "6             NaN          26.0        10.60      6          NaN  ...   \n",
       "7             NaN          24.0          NaN     22          NaN  ...   \n",
       "8             NaN          27.0        15.43     26          NaN  ...   \n",
       "9            2.50           9.0        43.60      7          NaN  ...   \n",
       "\n",
       "   kitchen_area  balcony              locality_name  airports_nearest  \\\n",
       "0         25.00      NaN            Санкт-Петербург           18863.0   \n",
       "1         11.00      2.0             посёлок Шушары           12817.0   \n",
       "2          8.30      0.0            Санкт-Петербург           21741.0   \n",
       "3           NaN      0.0            Санкт-Петербург           28098.0   \n",
       "4         41.00      NaN            Санкт-Петербург           31856.0   \n",
       "5          9.10      NaN  городской посёлок Янино-1               NaN   \n",
       "6         14.40      1.0          посёлок Парголово           52996.0   \n",
       "7         18.90      2.0            Санкт-Петербург           23982.0   \n",
       "8          8.81      NaN             посёлок Мурино               NaN   \n",
       "9          6.50      2.0            Санкт-Петербург           50898.0   \n",
       "\n",
       "  cityCenters_nearest  parks_around3000  parks_nearest  ponds_around3000  \\\n",
       "0             16028.0               1.0          482.0               2.0   \n",
       "1             18603.0               0.0            NaN               0.0   \n",
       "2             13933.0               1.0           90.0               2.0   \n",
       "3              6800.0               2.0           84.0               3.0   \n",
       "4              8098.0               2.0          112.0               1.0   \n",
       "5                 NaN               NaN            NaN               NaN   \n",
       "6             19143.0               0.0            NaN               0.0   \n",
       "7             11634.0               0.0            NaN               0.0   \n",
       "8                 NaN               NaN            NaN               NaN   \n",
       "9             15008.0               0.0            NaN               0.0   \n",
       "\n",
       "   ponds_nearest  days_exposition  \n",
       "0          755.0              NaN  \n",
       "1            NaN             81.0  \n",
       "2          574.0            558.0  \n",
       "3          234.0            424.0  \n",
       "4           48.0            121.0  \n",
       "5            NaN             55.0  \n",
       "6            NaN            155.0  \n",
       "7            NaN              NaN  \n",
       "8            NaN            189.0  \n",
       "9            NaN            289.0  \n",
       "\n",
       "[10 rows x 22 columns]"
      ]
     },
     "execution_count": 2,
     "metadata": {},
     "output_type": "execute_result"
    }
   ],
   "source": [
    "#выведем первые 10 строк датафрейма на экран для проверки корректности отображения\n",
    "\n",
    "data.head(10)"
   ]
  },
  {
   "cell_type": "markdown",
   "metadata": {},
   "source": [
    "На первый взгляд очень много NaN в таблице."
   ]
  },
  {
   "cell_type": "code",
   "execution_count": 3,
   "metadata": {},
   "outputs": [
    {
     "data": {
      "text/plain": [
       "(23699, 22)"
      ]
     },
     "execution_count": 3,
     "metadata": {},
     "output_type": "execute_result"
    }
   ],
   "source": [
    "#посмотрим размер таблицы\n",
    "\n",
    "data.shape"
   ]
  },
  {
   "cell_type": "markdown",
   "metadata": {},
   "source": [
    "В датафрейме 23699 строк и 22 колонки."
   ]
  },
  {
   "cell_type": "code",
   "execution_count": 4,
   "metadata": {},
   "outputs": [
    {
     "data": {
      "text/html": [
       "<div>\n",
       "<style scoped>\n",
       "    .dataframe tbody tr th:only-of-type {\n",
       "        vertical-align: middle;\n",
       "    }\n",
       "\n",
       "    .dataframe tbody tr th {\n",
       "        vertical-align: top;\n",
       "    }\n",
       "\n",
       "    .dataframe thead th {\n",
       "        text-align: right;\n",
       "    }\n",
       "</style>\n",
       "<table border=\"1\" class=\"dataframe\">\n",
       "  <thead>\n",
       "    <tr style=\"text-align: right;\">\n",
       "      <th></th>\n",
       "      <th>total_images</th>\n",
       "      <th>last_price</th>\n",
       "      <th>total_area</th>\n",
       "      <th>rooms</th>\n",
       "      <th>ceiling_height</th>\n",
       "      <th>floors_total</th>\n",
       "      <th>living_area</th>\n",
       "      <th>floor</th>\n",
       "      <th>kitchen_area</th>\n",
       "      <th>balcony</th>\n",
       "      <th>airports_nearest</th>\n",
       "      <th>cityCenters_nearest</th>\n",
       "      <th>parks_around3000</th>\n",
       "      <th>parks_nearest</th>\n",
       "      <th>ponds_around3000</th>\n",
       "      <th>ponds_nearest</th>\n",
       "      <th>days_exposition</th>\n",
       "    </tr>\n",
       "  </thead>\n",
       "  <tbody>\n",
       "    <tr>\n",
       "      <th>count</th>\n",
       "      <td>23699.000000</td>\n",
       "      <td>2.369900e+04</td>\n",
       "      <td>23699.000000</td>\n",
       "      <td>23699.000000</td>\n",
       "      <td>14504.000000</td>\n",
       "      <td>23613.000000</td>\n",
       "      <td>21796.000000</td>\n",
       "      <td>23699.000000</td>\n",
       "      <td>21421.000000</td>\n",
       "      <td>12180.000000</td>\n",
       "      <td>18157.000000</td>\n",
       "      <td>18180.000000</td>\n",
       "      <td>18181.000000</td>\n",
       "      <td>8079.000000</td>\n",
       "      <td>18181.000000</td>\n",
       "      <td>9110.000000</td>\n",
       "      <td>20518.000000</td>\n",
       "    </tr>\n",
       "    <tr>\n",
       "      <th>mean</th>\n",
       "      <td>9.858475</td>\n",
       "      <td>6.541549e+06</td>\n",
       "      <td>60.348651</td>\n",
       "      <td>2.070636</td>\n",
       "      <td>2.771499</td>\n",
       "      <td>10.673824</td>\n",
       "      <td>34.457852</td>\n",
       "      <td>5.892358</td>\n",
       "      <td>10.569807</td>\n",
       "      <td>1.150082</td>\n",
       "      <td>28793.672193</td>\n",
       "      <td>14191.277833</td>\n",
       "      <td>0.611408</td>\n",
       "      <td>490.804555</td>\n",
       "      <td>0.770255</td>\n",
       "      <td>517.980900</td>\n",
       "      <td>180.888634</td>\n",
       "    </tr>\n",
       "    <tr>\n",
       "      <th>std</th>\n",
       "      <td>5.682529</td>\n",
       "      <td>1.088701e+07</td>\n",
       "      <td>35.654083</td>\n",
       "      <td>1.078405</td>\n",
       "      <td>1.261056</td>\n",
       "      <td>6.597173</td>\n",
       "      <td>22.030445</td>\n",
       "      <td>4.885249</td>\n",
       "      <td>5.905438</td>\n",
       "      <td>1.071300</td>\n",
       "      <td>12630.880622</td>\n",
       "      <td>8608.386210</td>\n",
       "      <td>0.802074</td>\n",
       "      <td>342.317995</td>\n",
       "      <td>0.938346</td>\n",
       "      <td>277.720643</td>\n",
       "      <td>219.727988</td>\n",
       "    </tr>\n",
       "    <tr>\n",
       "      <th>min</th>\n",
       "      <td>0.000000</td>\n",
       "      <td>1.219000e+04</td>\n",
       "      <td>12.000000</td>\n",
       "      <td>0.000000</td>\n",
       "      <td>1.000000</td>\n",
       "      <td>1.000000</td>\n",
       "      <td>2.000000</td>\n",
       "      <td>1.000000</td>\n",
       "      <td>1.300000</td>\n",
       "      <td>0.000000</td>\n",
       "      <td>0.000000</td>\n",
       "      <td>181.000000</td>\n",
       "      <td>0.000000</td>\n",
       "      <td>1.000000</td>\n",
       "      <td>0.000000</td>\n",
       "      <td>13.000000</td>\n",
       "      <td>1.000000</td>\n",
       "    </tr>\n",
       "    <tr>\n",
       "      <th>25%</th>\n",
       "      <td>6.000000</td>\n",
       "      <td>3.400000e+06</td>\n",
       "      <td>40.000000</td>\n",
       "      <td>1.000000</td>\n",
       "      <td>2.520000</td>\n",
       "      <td>5.000000</td>\n",
       "      <td>18.600000</td>\n",
       "      <td>2.000000</td>\n",
       "      <td>7.000000</td>\n",
       "      <td>0.000000</td>\n",
       "      <td>18585.000000</td>\n",
       "      <td>9238.000000</td>\n",
       "      <td>0.000000</td>\n",
       "      <td>288.000000</td>\n",
       "      <td>0.000000</td>\n",
       "      <td>294.000000</td>\n",
       "      <td>45.000000</td>\n",
       "    </tr>\n",
       "    <tr>\n",
       "      <th>50%</th>\n",
       "      <td>9.000000</td>\n",
       "      <td>4.650000e+06</td>\n",
       "      <td>52.000000</td>\n",
       "      <td>2.000000</td>\n",
       "      <td>2.650000</td>\n",
       "      <td>9.000000</td>\n",
       "      <td>30.000000</td>\n",
       "      <td>4.000000</td>\n",
       "      <td>9.100000</td>\n",
       "      <td>1.000000</td>\n",
       "      <td>26726.000000</td>\n",
       "      <td>13098.500000</td>\n",
       "      <td>0.000000</td>\n",
       "      <td>455.000000</td>\n",
       "      <td>1.000000</td>\n",
       "      <td>502.000000</td>\n",
       "      <td>95.000000</td>\n",
       "    </tr>\n",
       "    <tr>\n",
       "      <th>75%</th>\n",
       "      <td>14.000000</td>\n",
       "      <td>6.800000e+06</td>\n",
       "      <td>69.900000</td>\n",
       "      <td>3.000000</td>\n",
       "      <td>2.800000</td>\n",
       "      <td>16.000000</td>\n",
       "      <td>42.300000</td>\n",
       "      <td>8.000000</td>\n",
       "      <td>12.000000</td>\n",
       "      <td>2.000000</td>\n",
       "      <td>37273.000000</td>\n",
       "      <td>16293.000000</td>\n",
       "      <td>1.000000</td>\n",
       "      <td>612.000000</td>\n",
       "      <td>1.000000</td>\n",
       "      <td>729.000000</td>\n",
       "      <td>232.000000</td>\n",
       "    </tr>\n",
       "    <tr>\n",
       "      <th>max</th>\n",
       "      <td>50.000000</td>\n",
       "      <td>7.630000e+08</td>\n",
       "      <td>900.000000</td>\n",
       "      <td>19.000000</td>\n",
       "      <td>100.000000</td>\n",
       "      <td>60.000000</td>\n",
       "      <td>409.700000</td>\n",
       "      <td>33.000000</td>\n",
       "      <td>112.000000</td>\n",
       "      <td>5.000000</td>\n",
       "      <td>84869.000000</td>\n",
       "      <td>65968.000000</td>\n",
       "      <td>3.000000</td>\n",
       "      <td>3190.000000</td>\n",
       "      <td>3.000000</td>\n",
       "      <td>1344.000000</td>\n",
       "      <td>1580.000000</td>\n",
       "    </tr>\n",
       "  </tbody>\n",
       "</table>\n",
       "</div>"
      ],
      "text/plain": [
       "       total_images    last_price    total_area         rooms  ceiling_height  \\\n",
       "count  23699.000000  2.369900e+04  23699.000000  23699.000000    14504.000000   \n",
       "mean       9.858475  6.541549e+06     60.348651      2.070636        2.771499   \n",
       "std        5.682529  1.088701e+07     35.654083      1.078405        1.261056   \n",
       "min        0.000000  1.219000e+04     12.000000      0.000000        1.000000   \n",
       "25%        6.000000  3.400000e+06     40.000000      1.000000        2.520000   \n",
       "50%        9.000000  4.650000e+06     52.000000      2.000000        2.650000   \n",
       "75%       14.000000  6.800000e+06     69.900000      3.000000        2.800000   \n",
       "max       50.000000  7.630000e+08    900.000000     19.000000      100.000000   \n",
       "\n",
       "       floors_total   living_area         floor  kitchen_area       balcony  \\\n",
       "count  23613.000000  21796.000000  23699.000000  21421.000000  12180.000000   \n",
       "mean      10.673824     34.457852      5.892358     10.569807      1.150082   \n",
       "std        6.597173     22.030445      4.885249      5.905438      1.071300   \n",
       "min        1.000000      2.000000      1.000000      1.300000      0.000000   \n",
       "25%        5.000000     18.600000      2.000000      7.000000      0.000000   \n",
       "50%        9.000000     30.000000      4.000000      9.100000      1.000000   \n",
       "75%       16.000000     42.300000      8.000000     12.000000      2.000000   \n",
       "max       60.000000    409.700000     33.000000    112.000000      5.000000   \n",
       "\n",
       "       airports_nearest  cityCenters_nearest  parks_around3000  parks_nearest  \\\n",
       "count      18157.000000         18180.000000      18181.000000    8079.000000   \n",
       "mean       28793.672193         14191.277833          0.611408     490.804555   \n",
       "std        12630.880622          8608.386210          0.802074     342.317995   \n",
       "min            0.000000           181.000000          0.000000       1.000000   \n",
       "25%        18585.000000          9238.000000          0.000000     288.000000   \n",
       "50%        26726.000000         13098.500000          0.000000     455.000000   \n",
       "75%        37273.000000         16293.000000          1.000000     612.000000   \n",
       "max        84869.000000         65968.000000          3.000000    3190.000000   \n",
       "\n",
       "       ponds_around3000  ponds_nearest  days_exposition  \n",
       "count      18181.000000    9110.000000     20518.000000  \n",
       "mean           0.770255     517.980900       180.888634  \n",
       "std            0.938346     277.720643       219.727988  \n",
       "min            0.000000      13.000000         1.000000  \n",
       "25%            0.000000     294.000000        45.000000  \n",
       "50%            1.000000     502.000000        95.000000  \n",
       "75%            1.000000     729.000000       232.000000  \n",
       "max            3.000000    1344.000000      1580.000000  "
      ]
     },
     "execution_count": 4,
     "metadata": {},
     "output_type": "execute_result"
    }
   ],
   "source": [
    "#посмотрим общую информацию о датафрейме\n",
    "\n",
    "data.describe()"
   ]
  },
  {
   "cell_type": "markdown",
   "metadata": {},
   "source": [
    "В данных есть аномальные значения, например, 19-комнатные квартиры."
   ]
  },
  {
   "cell_type": "code",
   "execution_count": 5,
   "metadata": {},
   "outputs": [
    {
     "name": "stdout",
     "output_type": "stream",
     "text": [
      "<class 'pandas.core.frame.DataFrame'>\n",
      "RangeIndex: 23699 entries, 0 to 23698\n",
      "Data columns (total 22 columns):\n",
      " #   Column                Non-Null Count  Dtype  \n",
      "---  ------                --------------  -----  \n",
      " 0   total_images          23699 non-null  int64  \n",
      " 1   last_price            23699 non-null  float64\n",
      " 2   total_area            23699 non-null  float64\n",
      " 3   first_day_exposition  23699 non-null  object \n",
      " 4   rooms                 23699 non-null  int64  \n",
      " 5   ceiling_height        14504 non-null  float64\n",
      " 6   floors_total          23613 non-null  float64\n",
      " 7   living_area           21796 non-null  float64\n",
      " 8   floor                 23699 non-null  int64  \n",
      " 9   is_apartment          2775 non-null   object \n",
      " 10  studio                23699 non-null  bool   \n",
      " 11  open_plan             23699 non-null  bool   \n",
      " 12  kitchen_area          21421 non-null  float64\n",
      " 13  balcony               12180 non-null  float64\n",
      " 14  locality_name         23650 non-null  object \n",
      " 15  airports_nearest      18157 non-null  float64\n",
      " 16  cityCenters_nearest   18180 non-null  float64\n",
      " 17  parks_around3000      18181 non-null  float64\n",
      " 18  parks_nearest         8079 non-null   float64\n",
      " 19  ponds_around3000      18181 non-null  float64\n",
      " 20  ponds_nearest         9110 non-null   float64\n",
      " 21  days_exposition       20518 non-null  float64\n",
      "dtypes: bool(2), float64(14), int64(3), object(3)\n",
      "memory usage: 3.7+ MB\n"
     ]
    }
   ],
   "source": [
    "#выведем информацию по типам данных\n",
    "\n",
    "data.info()"
   ]
  },
  {
   "cell_type": "markdown",
   "metadata": {},
   "source": [
    "Есть столбцы, у которых необходимо поменять тип данных. Например, дата публикации должна выводиться в формате datetime."
   ]
  },
  {
   "cell_type": "code",
   "execution_count": 6,
   "metadata": {},
   "outputs": [
    {
     "data": {
      "text/plain": [
       "array([[<AxesSubplot:title={'center':'total_images'}>,\n",
       "        <AxesSubplot:title={'center':'last_price'}>,\n",
       "        <AxesSubplot:title={'center':'total_area'}>,\n",
       "        <AxesSubplot:title={'center':'rooms'}>],\n",
       "       [<AxesSubplot:title={'center':'ceiling_height'}>,\n",
       "        <AxesSubplot:title={'center':'floors_total'}>,\n",
       "        <AxesSubplot:title={'center':'living_area'}>,\n",
       "        <AxesSubplot:title={'center':'floor'}>],\n",
       "       [<AxesSubplot:title={'center':'kitchen_area'}>,\n",
       "        <AxesSubplot:title={'center':'balcony'}>,\n",
       "        <AxesSubplot:title={'center':'airports_nearest'}>,\n",
       "        <AxesSubplot:title={'center':'cityCenters_nearest'}>],\n",
       "       [<AxesSubplot:title={'center':'parks_around3000'}>,\n",
       "        <AxesSubplot:title={'center':'parks_nearest'}>,\n",
       "        <AxesSubplot:title={'center':'ponds_around3000'}>,\n",
       "        <AxesSubplot:title={'center':'ponds_nearest'}>],\n",
       "       [<AxesSubplot:title={'center':'days_exposition'}>, <AxesSubplot:>,\n",
       "        <AxesSubplot:>, <AxesSubplot:>]], dtype=object)"
      ]
     },
     "execution_count": 6,
     "metadata": {},
     "output_type": "execute_result"
    },
    {
     "data": {
      "image/png": "[encoded data removed]",
      "text/plain": [
       "<Figure size 1080x1440 with 20 Axes>"
      ]
     },
     "metadata": {
      "needs_background": "light"
     },
     "output_type": "display_data"
    }
   ],
   "source": [
    "#построим гистрограммы для всех столбцов таблицы\n",
    "\n",
    "data.hist(figsize=(15, 20))"
   ]
  },
  {
   "cell_type": "markdown",
   "metadata": {},
   "source": [
    "Выводы по гистограммам датафрейма:\n",
    "\n",
    "Не все графики достаточно информативны с указанной размерностью, поэтому в исследовании необходимо указать более детальную размерность, чтобы заметить особенности в данных. Тем не менее, можно заметить некоторые странные значения, например, жилая площадь `total_area` имеет значения свыше 200 кв.м., хотя в данных представлены только квартиры, а не загородные дома. "
   ]
  },
  {
   "cell_type": "markdown",
   "metadata": {},
   "source": [
    "### Предобработка данных"
   ]
  },
  {
   "cell_type": "markdown",
   "metadata": {},
   "source": [
    "####  Работа с пропущенными значениями"
   ]
  },
  {
   "cell_type": "code",
   "execution_count": 7,
   "metadata": {
    "scrolled": true
   },
   "outputs": [
    {
     "data": {
      "text/plain": [
       "total_images                0\n",
       "last_price                  0\n",
       "total_area                  0\n",
       "first_day_exposition        0\n",
       "rooms                       0\n",
       "ceiling_height           9195\n",
       "floors_total               86\n",
       "living_area              1903\n",
       "floor                       0\n",
       "is_apartment            20924\n",
       "studio                      0\n",
       "open_plan                   0\n",
       "kitchen_area             2278\n",
       "balcony                 11519\n",
       "locality_name              49\n",
       "airports_nearest         5542\n",
       "cityCenters_nearest      5519\n",
       "parks_around3000         5518\n",
       "parks_nearest           15620\n",
       "ponds_around3000         5518\n",
       "ponds_nearest           14589\n",
       "days_exposition          3181\n",
       "dtype: int64"
      ]
     },
     "execution_count": 7,
     "metadata": {},
     "output_type": "execute_result"
    }
   ],
   "source": [
    "#определим, в каких столбцах есть пропуски\n",
    "\n",
    "data.isna().sum()"
   ]
  },
  {
   "cell_type": "markdown",
   "metadata": {},
   "source": [
    "В 14 столбцах есть пропущенные значения:\n",
    "* `balcony` - вполне возможно, что пропуски связаны с тем, что продавец забыл указать балкон в виду его отсутствия в квартире.\n",
    "* `is_apartment` - возможно, что тип квартир \"аппартаменты\" появился несколько позже, а значит столбец не был добавлен с самого начала сбора датасета, отсюда очень много пропусков.\n",
    "* `ceiling_height` - столбец участвует в дальнейших расчетах, поэтому необходимо заполнить пропуски. Возможно, что продавцы забыли или не посчитали нужным указать данную информацию в объявлениях. \n",
    "* `cityCenters_nearest`/ `airports_nearest` - возможно, случился сбой с выгрузкой координатов по населенным пунктам, поэтому не подгрузилась информация по удаленности от центра города и аэропортов соответственно. Скорее всего, часть пропусков можно вычислить по названию населенного пункта `locality_name` и по вычислению его координатов, а затем расчета удаленности, но вручную это займет очень много времени.\n",
    "* `locality_name` - пропуски в этом столбце могут быть связаны с тем, что продавец не указал населенный пункт в виду невнимательности или очевидности того факта, что объявление выставлено в базе Санкт-Петербурга. \n",
    "* `days_exposition` - пропуски могли появиться из-за того, что продавец забыл закрыть объявление или случился сбой при выгрузке данных. Средним значением или медианой заполнять не совсем корректно.\n",
    "* `floors_total` - для пропусков в количестве этажей не представляется логической замены. Возможно, продавцы не посчитали нужным указывать количество этажей в доме, поэтому часть данных не заполнена. В данном случае мы не можем предположить, какая этажность была у домов с квартирами.\n",
    "* `living_area`/ `kitchen_area` - пропуски могли появиться из-за того, что данная информация была необязательной к заполнению в объявлении, поэтому продавцы не стали тратить время на ее заполнение. Можем предположить, что между общей площадью `total_area`, где нет пропусков, и площадью жилой и кухни существует корреляция, тогда пропуски можно будет заполнить медианным значением, предварительно поделив квартиры на категории по общей площади.\n",
    "* `parks_around3000`/`parks_nearest`, `ponds_around3000`/`ponds_nearest` - пропуски также могут быть связаны с тем, что эти данные не обязательны к заполнению в объявлении, т.к. это уже дополнительные подробности. Оставим их без заполнения, так как данная информация может и не понадобится в исследовании."
   ]
  },
  {
   "cell_type": "markdown",
   "metadata": {},
   "source": [
    "- **balcony**\n",
    "\n",
    "Заполним пропуски в столбце с числом балконов"
   ]
  },
  {
   "cell_type": "code",
   "execution_count": 8,
   "metadata": {},
   "outputs": [
    {
     "data": {
      "text/plain": [
       "array([nan,  2.,  0.,  1.,  5.,  4.,  3.])"
      ]
     },
     "execution_count": 8,
     "metadata": {},
     "output_type": "execute_result"
    }
   ],
   "source": [
    "#выведем перечень уникальных значений столбца balcony\n",
    "\n",
    "data['balcony'].unique()"
   ]
  },
  {
   "cell_type": "code",
   "execution_count": 9,
   "metadata": {},
   "outputs": [
    {
     "data": {
      "text/plain": [
       "11519"
      ]
     },
     "execution_count": 9,
     "metadata": {},
     "output_type": "execute_result"
    }
   ],
   "source": [
    "#вычислим количество пропущенных значений\n",
    "\n",
    "data['balcony'].isna().sum()"
   ]
  },
  {
   "cell_type": "markdown",
   "metadata": {},
   "source": [
    "Пропущено 50,7% значений. Заменим эти пропуски на 0."
   ]
  },
  {
   "cell_type": "code",
   "execution_count": 10,
   "metadata": {},
   "outputs": [
    {
     "data": {
      "text/plain": [
       "array([0., 2., 1., 5., 4., 3.])"
      ]
     },
     "execution_count": 10,
     "metadata": {},
     "output_type": "execute_result"
    }
   ],
   "source": [
    "data['balcony'] = data['balcony'].fillna(0)\n",
    "data['balcony'].unique()"
   ]
  },
  {
   "cell_type": "markdown",
   "metadata": {},
   "source": [
    "- **is_apartment**\n",
    "\n",
    "Посмотрим пропуски в столбце с типо квартир (апартаменты/нет). Если есть значения только с \"True\", то очевидно, что остальные значения продавцы забыли указать, как \"False\". "
   ]
  },
  {
   "cell_type": "code",
   "execution_count": 11,
   "metadata": {},
   "outputs": [
    {
     "data": {
      "text/plain": [
       "array([nan, False, True], dtype=object)"
      ]
     },
     "execution_count": 11,
     "metadata": {},
     "output_type": "execute_result"
    }
   ],
   "source": [
    "#выведем перечень уникальных значений столбца is_apartment\n",
    "\n",
    "data['is_apartment'].unique()"
   ]
  },
  {
   "cell_type": "markdown",
   "metadata": {},
   "source": [
    "В данных присутствуют оба значения."
   ]
  },
  {
   "cell_type": "code",
   "execution_count": 12,
   "metadata": {},
   "outputs": [
    {
     "data": {
      "text/plain": [
       "False    2725\n",
       "True       50\n",
       "Name: is_apartment, dtype: int64"
      ]
     },
     "execution_count": 12,
     "metadata": {},
     "output_type": "execute_result"
    }
   ],
   "source": [
    "data['is_apartment'].value_counts()"
   ]
  },
  {
   "cell_type": "code",
   "execution_count": 13,
   "metadata": {},
   "outputs": [
    {
     "data": {
      "text/plain": [
       "20924"
      ]
     },
     "execution_count": 13,
     "metadata": {},
     "output_type": "execute_result"
    }
   ],
   "source": [
    "data['is_apartment'].isna().sum()"
   ]
  },
  {
   "cell_type": "markdown",
   "metadata": {},
   "source": [
    "Пропущено 88% значений. Если заменить все пропуски на False, то получится, что во всём датафрейме у нас всего 50 апартаментов, что, скорее всего, не соответствует действительности, поэтому заполнять эти пропуски мы пока не будем, если они не будут участвовать в расчетах в дальнейшем исследовании."
   ]
  },
  {
   "cell_type": "markdown",
   "metadata": {},
   "source": [
    "- **ceiling_height**\n",
    "\n",
    "Посмотрим пропуски в столбце с высотой потолков."
   ]
  },
  {
   "cell_type": "code",
   "execution_count": 14,
   "metadata": {},
   "outputs": [
    {
     "data": {
      "text/plain": [
       "9195"
      ]
     },
     "execution_count": 14,
     "metadata": {},
     "output_type": "execute_result"
    }
   ],
   "source": [
    "data['ceiling_height'].isna().sum()"
   ]
  },
  {
   "cell_type": "markdown",
   "metadata": {},
   "source": [
    "В столбце `ceiling_height` пропущено 38,8% значений. Заменим пропуски на медианные значения, предварительно разделив квартиры на группы по удаленности от центра. \n",
    "\n",
    "Для этого создадим новый столбец с категориями:\n",
    "* Близко к центру (удаленность менее 10 км от центра)\n",
    "* В городе (от 10 км до 20 км включительно)\n",
    "* Окраина от 20 км до 40 км включительно)\n",
    "* За городом (более 40 км)"
   ]
  },
  {
   "cell_type": "code",
   "execution_count": 15,
   "metadata": {},
   "outputs": [],
   "source": [
    "#добавим столбец с категориями удаленности от центра города\n",
    "\n",
    "def categorize_cityCenters(row):\n",
    "    try:\n",
    "        if row <= 10000:\n",
    "            return 'близко к центру'\n",
    "        elif 10000 < row <= 20000:\n",
    "            return 'в городе'\n",
    "        elif  20000 < row <= 40000:\n",
    "            return 'окраина'\n",
    "        elif row > 40000:\n",
    "            return 'за городом'\n",
    "    except:\n",
    "        return 'нет категории'"
   ]
  },
  {
   "cell_type": "code",
   "execution_count": 16,
   "metadata": {},
   "outputs": [],
   "source": [
    "#применим результаты функции к новому столбцу в данных\n",
    "\n",
    "data['cityCenters_category'] = data['cityCenters_nearest'].apply(categorize_cityCenters)"
   ]
  },
  {
   "cell_type": "code",
   "execution_count": 17,
   "metadata": {},
   "outputs": [
    {
     "data": {
      "text/html": [
       "<div>\n",
       "<style scoped>\n",
       "    .dataframe tbody tr th:only-of-type {\n",
       "        vertical-align: middle;\n",
       "    }\n",
       "\n",
       "    .dataframe tbody tr th {\n",
       "        vertical-align: top;\n",
       "    }\n",
       "\n",
       "    .dataframe thead tr th {\n",
       "        text-align: left;\n",
       "    }\n",
       "\n",
       "    .dataframe thead tr:last-of-type th {\n",
       "        text-align: right;\n",
       "    }\n",
       "</style>\n",
       "<table border=\"1\" class=\"dataframe\">\n",
       "  <thead>\n",
       "    <tr>\n",
       "      <th></th>\n",
       "      <th>median</th>\n",
       "      <th>count</th>\n",
       "    </tr>\n",
       "    <tr>\n",
       "      <th></th>\n",
       "      <th>ceiling_height</th>\n",
       "      <th>ceiling_height</th>\n",
       "    </tr>\n",
       "    <tr>\n",
       "      <th>cityCenters_category</th>\n",
       "      <th></th>\n",
       "      <th></th>\n",
       "    </tr>\n",
       "  </thead>\n",
       "  <tbody>\n",
       "    <tr>\n",
       "      <th>близко к центру</th>\n",
       "      <td>3.00</td>\n",
       "      <td>3333</td>\n",
       "    </tr>\n",
       "    <tr>\n",
       "      <th>в городе</th>\n",
       "      <td>2.60</td>\n",
       "      <td>6618</td>\n",
       "    </tr>\n",
       "    <tr>\n",
       "      <th>за городом</th>\n",
       "      <td>2.55</td>\n",
       "      <td>207</td>\n",
       "    </tr>\n",
       "    <tr>\n",
       "      <th>окраина</th>\n",
       "      <td>2.60</td>\n",
       "      <td>1402</td>\n",
       "    </tr>\n",
       "  </tbody>\n",
       "</table>\n",
       "</div>"
      ],
      "text/plain": [
       "                             median          count\n",
       "                     ceiling_height ceiling_height\n",
       "cityCenters_category                              \n",
       "близко к центру                3.00           3333\n",
       "в городе                       2.60           6618\n",
       "за городом                     2.55            207\n",
       "окраина                        2.60           1402"
      ]
     },
     "execution_count": 17,
     "metadata": {},
     "output_type": "execute_result"
    }
   ],
   "source": [
    "#заменим пропуски в столбце ceiling_height\n",
    "\n",
    "ceiling_median = data.pivot_table(index='cityCenters_category', values='ceiling_height', aggfunc=['median', 'count'])\n",
    "ceiling_median"
   ]
  },
  {
   "cell_type": "markdown",
   "metadata": {},
   "source": [
    "Заметим, что по мере удаления от центра потолки в квартире становятся ниже."
   ]
  },
  {
   "cell_type": "code",
   "execution_count": 18,
   "metadata": {},
   "outputs": [],
   "source": [
    "for t in data['cityCenters_category'].unique():\n",
    "    data.loc[(data['cityCenters_category'] == t) & (data['ceiling_height'].isna()), 'ceiling_height'] = \\\n",
    "    data.loc[(data['cityCenters_category'] == t), 'ceiling_height'].median()"
   ]
  },
  {
   "cell_type": "code",
   "execution_count": 19,
   "metadata": {},
   "outputs": [
    {
     "data": {
      "text/plain": [
       "2575"
      ]
     },
     "execution_count": 19,
     "metadata": {},
     "output_type": "execute_result"
    }
   ],
   "source": [
    "#проверим, сколько пропусков осталось после заполнения медианными значениями\n",
    "\n",
    "data['ceiling_height'].isna().sum()"
   ]
  },
  {
   "cell_type": "markdown",
   "metadata": {},
   "source": [
    "Оставшиеся пропуски в `ceiling_height` можно заменить медианой высоты потолков, значение которой равняется 2,6, что является нормальным значением потолков в современных квартирах."
   ]
  },
  {
   "cell_type": "code",
   "execution_count": 20,
   "metadata": {},
   "outputs": [
    {
     "data": {
      "text/plain": [
       "count    21124.000000\n",
       "mean         2.750936\n",
       "std          1.050074\n",
       "min          1.000000\n",
       "25%          2.600000\n",
       "50%          2.600000\n",
       "75%          2.800000\n",
       "max        100.000000\n",
       "Name: ceiling_height, dtype: float64"
      ]
     },
     "execution_count": 20,
     "metadata": {},
     "output_type": "execute_result"
    }
   ],
   "source": [
    "data['ceiling_height'].describe()"
   ]
  },
  {
   "cell_type": "code",
   "execution_count": 21,
   "metadata": {},
   "outputs": [],
   "source": [
    "data['ceiling_height'].fillna(data['ceiling_height'].median(), inplace=True)"
   ]
  },
  {
   "cell_type": "code",
   "execution_count": 22,
   "metadata": {},
   "outputs": [
    {
     "data": {
      "text/plain": [
       "0"
      ]
     },
     "execution_count": 22,
     "metadata": {},
     "output_type": "execute_result"
    }
   ],
   "source": [
    "data['ceiling_height'].isna().sum()"
   ]
  },
  {
   "cell_type": "markdown",
   "metadata": {},
   "source": [
    "- **locality_name**\n",
    "\n",
    "Пропуски составляют 0,2%. Можно заполнить недостающую информацию исходя из столбца с категоризацией удаленности от центра `cityCenters_category`. Например, если расстояние будет менее 10 км, то в пропуске точно можно будет поставить \"Санкт Петербург\". Кроме того, от 10 км до 20 км также может относиться к городу, поскольку протяженность города считается с севера на юг - 52 км, с востока на запад - 25 км."
   ]
  },
  {
   "cell_type": "code",
   "execution_count": 23,
   "metadata": {},
   "outputs": [
    {
     "data": {
      "text/plain": [
       "49"
      ]
     },
     "execution_count": 23,
     "metadata": {},
     "output_type": "execute_result"
    }
   ],
   "source": [
    "data['locality_name'].isna().sum()"
   ]
  },
  {
   "cell_type": "code",
   "execution_count": 24,
   "metadata": {},
   "outputs": [
    {
     "data": {
      "text/html": [
       "<div>\n",
       "<style scoped>\n",
       "    .dataframe tbody tr th:only-of-type {\n",
       "        vertical-align: middle;\n",
       "    }\n",
       "\n",
       "    .dataframe tbody tr th {\n",
       "        vertical-align: top;\n",
       "    }\n",
       "\n",
       "    .dataframe thead th {\n",
       "        text-align: right;\n",
       "    }\n",
       "</style>\n",
       "<table border=\"1\" class=\"dataframe\">\n",
       "  <thead>\n",
       "    <tr style=\"text-align: right;\">\n",
       "      <th></th>\n",
       "      <th>total_images</th>\n",
       "      <th>last_price</th>\n",
       "      <th>total_area</th>\n",
       "      <th>first_day_exposition</th>\n",
       "      <th>rooms</th>\n",
       "      <th>ceiling_height</th>\n",
       "      <th>floors_total</th>\n",
       "      <th>living_area</th>\n",
       "      <th>floor</th>\n",
       "      <th>is_apartment</th>\n",
       "      <th>...</th>\n",
       "      <th>balcony</th>\n",
       "      <th>locality_name</th>\n",
       "      <th>airports_nearest</th>\n",
       "      <th>cityCenters_nearest</th>\n",
       "      <th>parks_around3000</th>\n",
       "      <th>parks_nearest</th>\n",
       "      <th>ponds_around3000</th>\n",
       "      <th>ponds_nearest</th>\n",
       "      <th>days_exposition</th>\n",
       "      <th>cityCenters_category</th>\n",
       "    </tr>\n",
       "  </thead>\n",
       "  <tbody>\n",
       "    <tr>\n",
       "      <th>1097</th>\n",
       "      <td>3</td>\n",
       "      <td>8600000.0</td>\n",
       "      <td>81.70</td>\n",
       "      <td>2016-04-15T00:00:00</td>\n",
       "      <td>3</td>\n",
       "      <td>3.55</td>\n",
       "      <td>5.0</td>\n",
       "      <td>50.80</td>\n",
       "      <td>2</td>\n",
       "      <td>NaN</td>\n",
       "      <td>...</td>\n",
       "      <td>0.0</td>\n",
       "      <td>NaN</td>\n",
       "      <td>23478.0</td>\n",
       "      <td>4258.0</td>\n",
       "      <td>0.0</td>\n",
       "      <td>NaN</td>\n",
       "      <td>0.0</td>\n",
       "      <td>NaN</td>\n",
       "      <td>147.0</td>\n",
       "      <td>близко к центру</td>\n",
       "    </tr>\n",
       "    <tr>\n",
       "      <th>2603</th>\n",
       "      <td>20</td>\n",
       "      <td>3351765.0</td>\n",
       "      <td>42.70</td>\n",
       "      <td>2015-09-20T00:00:00</td>\n",
       "      <td>1</td>\n",
       "      <td>2.60</td>\n",
       "      <td>24.0</td>\n",
       "      <td>15.60</td>\n",
       "      <td>3</td>\n",
       "      <td>NaN</td>\n",
       "      <td>...</td>\n",
       "      <td>0.0</td>\n",
       "      <td>NaN</td>\n",
       "      <td>22041.0</td>\n",
       "      <td>17369.0</td>\n",
       "      <td>0.0</td>\n",
       "      <td>NaN</td>\n",
       "      <td>1.0</td>\n",
       "      <td>374.0</td>\n",
       "      <td>276.0</td>\n",
       "      <td>в городе</td>\n",
       "    </tr>\n",
       "    <tr>\n",
       "      <th>2632</th>\n",
       "      <td>2</td>\n",
       "      <td>5130593.0</td>\n",
       "      <td>62.40</td>\n",
       "      <td>2015-10-11T00:00:00</td>\n",
       "      <td>2</td>\n",
       "      <td>2.60</td>\n",
       "      <td>24.0</td>\n",
       "      <td>33.10</td>\n",
       "      <td>21</td>\n",
       "      <td>NaN</td>\n",
       "      <td>...</td>\n",
       "      <td>0.0</td>\n",
       "      <td>NaN</td>\n",
       "      <td>22041.0</td>\n",
       "      <td>17369.0</td>\n",
       "      <td>0.0</td>\n",
       "      <td>NaN</td>\n",
       "      <td>1.0</td>\n",
       "      <td>374.0</td>\n",
       "      <td>256.0</td>\n",
       "      <td>в городе</td>\n",
       "    </tr>\n",
       "    <tr>\n",
       "      <th>3574</th>\n",
       "      <td>10</td>\n",
       "      <td>4200000.0</td>\n",
       "      <td>46.50</td>\n",
       "      <td>2016-05-28T00:00:00</td>\n",
       "      <td>2</td>\n",
       "      <td>3.00</td>\n",
       "      <td>5.0</td>\n",
       "      <td>30.80</td>\n",
       "      <td>5</td>\n",
       "      <td>NaN</td>\n",
       "      <td>...</td>\n",
       "      <td>0.0</td>\n",
       "      <td>NaN</td>\n",
       "      <td>27419.0</td>\n",
       "      <td>8127.0</td>\n",
       "      <td>0.0</td>\n",
       "      <td>NaN</td>\n",
       "      <td>1.0</td>\n",
       "      <td>603.0</td>\n",
       "      <td>45.0</td>\n",
       "      <td>близко к центру</td>\n",
       "    </tr>\n",
       "    <tr>\n",
       "      <th>4151</th>\n",
       "      <td>17</td>\n",
       "      <td>17600000.0</td>\n",
       "      <td>89.50</td>\n",
       "      <td>2014-12-09T00:00:00</td>\n",
       "      <td>2</td>\n",
       "      <td>3.00</td>\n",
       "      <td>8.0</td>\n",
       "      <td>39.62</td>\n",
       "      <td>7</td>\n",
       "      <td>NaN</td>\n",
       "      <td>...</td>\n",
       "      <td>0.0</td>\n",
       "      <td>NaN</td>\n",
       "      <td>25054.0</td>\n",
       "      <td>3902.0</td>\n",
       "      <td>1.0</td>\n",
       "      <td>485.0</td>\n",
       "      <td>3.0</td>\n",
       "      <td>722.0</td>\n",
       "      <td>869.0</td>\n",
       "      <td>близко к центру</td>\n",
       "    </tr>\n",
       "    <tr>\n",
       "      <th>4189</th>\n",
       "      <td>7</td>\n",
       "      <td>9200000.0</td>\n",
       "      <td>80.00</td>\n",
       "      <td>2015-12-10T00:00:00</td>\n",
       "      <td>3</td>\n",
       "      <td>4.00</td>\n",
       "      <td>4.0</td>\n",
       "      <td>52.30</td>\n",
       "      <td>3</td>\n",
       "      <td>False</td>\n",
       "      <td>...</td>\n",
       "      <td>0.0</td>\n",
       "      <td>NaN</td>\n",
       "      <td>21774.0</td>\n",
       "      <td>3039.0</td>\n",
       "      <td>1.0</td>\n",
       "      <td>690.0</td>\n",
       "      <td>1.0</td>\n",
       "      <td>953.0</td>\n",
       "      <td>223.0</td>\n",
       "      <td>близко к центру</td>\n",
       "    </tr>\n",
       "    <tr>\n",
       "      <th>4670</th>\n",
       "      <td>1</td>\n",
       "      <td>5500000.0</td>\n",
       "      <td>83.00</td>\n",
       "      <td>2015-08-14T00:00:00</td>\n",
       "      <td>3</td>\n",
       "      <td>3.00</td>\n",
       "      <td>7.0</td>\n",
       "      <td>NaN</td>\n",
       "      <td>6</td>\n",
       "      <td>NaN</td>\n",
       "      <td>...</td>\n",
       "      <td>0.0</td>\n",
       "      <td>NaN</td>\n",
       "      <td>26534.0</td>\n",
       "      <td>5382.0</td>\n",
       "      <td>1.0</td>\n",
       "      <td>446.0</td>\n",
       "      <td>1.0</td>\n",
       "      <td>376.0</td>\n",
       "      <td>350.0</td>\n",
       "      <td>близко к центру</td>\n",
       "    </tr>\n",
       "    <tr>\n",
       "      <th>5343</th>\n",
       "      <td>19</td>\n",
       "      <td>13540000.0</td>\n",
       "      <td>85.50</td>\n",
       "      <td>2016-01-20T00:00:00</td>\n",
       "      <td>3</td>\n",
       "      <td>3.00</td>\n",
       "      <td>7.0</td>\n",
       "      <td>59.10</td>\n",
       "      <td>5</td>\n",
       "      <td>False</td>\n",
       "      <td>...</td>\n",
       "      <td>4.0</td>\n",
       "      <td>NaN</td>\n",
       "      <td>10556.0</td>\n",
       "      <td>9538.0</td>\n",
       "      <td>1.0</td>\n",
       "      <td>67.0</td>\n",
       "      <td>0.0</td>\n",
       "      <td>NaN</td>\n",
       "      <td>303.0</td>\n",
       "      <td>близко к центру</td>\n",
       "    </tr>\n",
       "    <tr>\n",
       "      <th>5707</th>\n",
       "      <td>7</td>\n",
       "      <td>3700000.0</td>\n",
       "      <td>30.00</td>\n",
       "      <td>2016-04-29T00:00:00</td>\n",
       "      <td>1</td>\n",
       "      <td>2.60</td>\n",
       "      <td>24.0</td>\n",
       "      <td>20.00</td>\n",
       "      <td>23</td>\n",
       "      <td>NaN</td>\n",
       "      <td>...</td>\n",
       "      <td>0.0</td>\n",
       "      <td>NaN</td>\n",
       "      <td>21460.0</td>\n",
       "      <td>16788.0</td>\n",
       "      <td>0.0</td>\n",
       "      <td>NaN</td>\n",
       "      <td>1.0</td>\n",
       "      <td>170.0</td>\n",
       "      <td>49.0</td>\n",
       "      <td>в городе</td>\n",
       "    </tr>\n",
       "    <tr>\n",
       "      <th>6765</th>\n",
       "      <td>20</td>\n",
       "      <td>4895892.0</td>\n",
       "      <td>60.70</td>\n",
       "      <td>2015-03-12T00:00:00</td>\n",
       "      <td>2</td>\n",
       "      <td>2.60</td>\n",
       "      <td>24.0</td>\n",
       "      <td>31.90</td>\n",
       "      <td>3</td>\n",
       "      <td>NaN</td>\n",
       "      <td>...</td>\n",
       "      <td>0.0</td>\n",
       "      <td>NaN</td>\n",
       "      <td>22041.0</td>\n",
       "      <td>17369.0</td>\n",
       "      <td>0.0</td>\n",
       "      <td>NaN</td>\n",
       "      <td>1.0</td>\n",
       "      <td>374.0</td>\n",
       "      <td>468.0</td>\n",
       "      <td>в городе</td>\n",
       "    </tr>\n",
       "    <tr>\n",
       "      <th>7114</th>\n",
       "      <td>5</td>\n",
       "      <td>4250000.0</td>\n",
       "      <td>56.00</td>\n",
       "      <td>2016-03-16T00:00:00</td>\n",
       "      <td>3</td>\n",
       "      <td>3.00</td>\n",
       "      <td>5.0</td>\n",
       "      <td>40.00</td>\n",
       "      <td>4</td>\n",
       "      <td>NaN</td>\n",
       "      <td>...</td>\n",
       "      <td>0.0</td>\n",
       "      <td>NaN</td>\n",
       "      <td>14031.0</td>\n",
       "      <td>8582.0</td>\n",
       "      <td>0.0</td>\n",
       "      <td>NaN</td>\n",
       "      <td>0.0</td>\n",
       "      <td>NaN</td>\n",
       "      <td>96.0</td>\n",
       "      <td>близко к центру</td>\n",
       "    </tr>\n",
       "    <tr>\n",
       "      <th>7330</th>\n",
       "      <td>8</td>\n",
       "      <td>5100000.0</td>\n",
       "      <td>63.00</td>\n",
       "      <td>2015-01-27T00:00:00</td>\n",
       "      <td>3</td>\n",
       "      <td>3.00</td>\n",
       "      <td>5.0</td>\n",
       "      <td>42.00</td>\n",
       "      <td>1</td>\n",
       "      <td>False</td>\n",
       "      <td>...</td>\n",
       "      <td>0.0</td>\n",
       "      <td>NaN</td>\n",
       "      <td>25925.0</td>\n",
       "      <td>4627.0</td>\n",
       "      <td>2.0</td>\n",
       "      <td>459.0</td>\n",
       "      <td>0.0</td>\n",
       "      <td>NaN</td>\n",
       "      <td>566.0</td>\n",
       "      <td>близко к центру</td>\n",
       "    </tr>\n",
       "    <tr>\n",
       "      <th>7600</th>\n",
       "      <td>8</td>\n",
       "      <td>6800000.0</td>\n",
       "      <td>70.00</td>\n",
       "      <td>2016-01-31T00:00:00</td>\n",
       "      <td>3</td>\n",
       "      <td>2.60</td>\n",
       "      <td>11.0</td>\n",
       "      <td>42.00</td>\n",
       "      <td>9</td>\n",
       "      <td>NaN</td>\n",
       "      <td>...</td>\n",
       "      <td>1.0</td>\n",
       "      <td>NaN</td>\n",
       "      <td>37123.0</td>\n",
       "      <td>12332.0</td>\n",
       "      <td>0.0</td>\n",
       "      <td>NaN</td>\n",
       "      <td>0.0</td>\n",
       "      <td>NaN</td>\n",
       "      <td>209.0</td>\n",
       "      <td>в городе</td>\n",
       "    </tr>\n",
       "    <tr>\n",
       "      <th>8568</th>\n",
       "      <td>10</td>\n",
       "      <td>16000000.0</td>\n",
       "      <td>155.00</td>\n",
       "      <td>2016-05-09T00:00:00</td>\n",
       "      <td>3</td>\n",
       "      <td>3.00</td>\n",
       "      <td>6.0</td>\n",
       "      <td>94.00</td>\n",
       "      <td>3</td>\n",
       "      <td>NaN</td>\n",
       "      <td>...</td>\n",
       "      <td>0.0</td>\n",
       "      <td>NaN</td>\n",
       "      <td>24233.0</td>\n",
       "      <td>4065.0</td>\n",
       "      <td>1.0</td>\n",
       "      <td>547.0</td>\n",
       "      <td>0.0</td>\n",
       "      <td>NaN</td>\n",
       "      <td>248.0</td>\n",
       "      <td>близко к центру</td>\n",
       "    </tr>\n",
       "    <tr>\n",
       "      <th>9821</th>\n",
       "      <td>13</td>\n",
       "      <td>8000000.0</td>\n",
       "      <td>94.50</td>\n",
       "      <td>2015-01-21T00:00:00</td>\n",
       "      <td>4</td>\n",
       "      <td>3.00</td>\n",
       "      <td>2.0</td>\n",
       "      <td>57.80</td>\n",
       "      <td>2</td>\n",
       "      <td>NaN</td>\n",
       "      <td>...</td>\n",
       "      <td>0.0</td>\n",
       "      <td>NaN</td>\n",
       "      <td>24953.0</td>\n",
       "      <td>3801.0</td>\n",
       "      <td>1.0</td>\n",
       "      <td>375.0</td>\n",
       "      <td>2.0</td>\n",
       "      <td>532.0</td>\n",
       "      <td>531.0</td>\n",
       "      <td>близко к центру</td>\n",
       "    </tr>\n",
       "    <tr>\n",
       "      <th>10122</th>\n",
       "      <td>5</td>\n",
       "      <td>8200000.0</td>\n",
       "      <td>83.00</td>\n",
       "      <td>2015-06-24T00:00:00</td>\n",
       "      <td>4</td>\n",
       "      <td>3.00</td>\n",
       "      <td>5.0</td>\n",
       "      <td>53.00</td>\n",
       "      <td>2</td>\n",
       "      <td>NaN</td>\n",
       "      <td>...</td>\n",
       "      <td>0.0</td>\n",
       "      <td>NaN</td>\n",
       "      <td>25771.0</td>\n",
       "      <td>4474.0</td>\n",
       "      <td>2.0</td>\n",
       "      <td>374.0</td>\n",
       "      <td>0.0</td>\n",
       "      <td>NaN</td>\n",
       "      <td>364.0</td>\n",
       "      <td>близко к центру</td>\n",
       "    </tr>\n",
       "    <tr>\n",
       "      <th>11248</th>\n",
       "      <td>12</td>\n",
       "      <td>6300000.0</td>\n",
       "      <td>63.10</td>\n",
       "      <td>2015-01-16T00:00:00</td>\n",
       "      <td>4</td>\n",
       "      <td>3.00</td>\n",
       "      <td>8.0</td>\n",
       "      <td>44.00</td>\n",
       "      <td>7</td>\n",
       "      <td>NaN</td>\n",
       "      <td>...</td>\n",
       "      <td>0.0</td>\n",
       "      <td>NaN</td>\n",
       "      <td>25221.0</td>\n",
       "      <td>4069.0</td>\n",
       "      <td>0.0</td>\n",
       "      <td>NaN</td>\n",
       "      <td>2.0</td>\n",
       "      <td>653.0</td>\n",
       "      <td>551.0</td>\n",
       "      <td>близко к центру</td>\n",
       "    </tr>\n",
       "    <tr>\n",
       "      <th>12879</th>\n",
       "      <td>12</td>\n",
       "      <td>4400000.0</td>\n",
       "      <td>39.20</td>\n",
       "      <td>2016-04-26T00:00:00</td>\n",
       "      <td>1</td>\n",
       "      <td>2.60</td>\n",
       "      <td>12.0</td>\n",
       "      <td>20.00</td>\n",
       "      <td>12</td>\n",
       "      <td>False</td>\n",
       "      <td>...</td>\n",
       "      <td>0.0</td>\n",
       "      <td>NaN</td>\n",
       "      <td>37123.0</td>\n",
       "      <td>12332.0</td>\n",
       "      <td>0.0</td>\n",
       "      <td>NaN</td>\n",
       "      <td>0.0</td>\n",
       "      <td>NaN</td>\n",
       "      <td>179.0</td>\n",
       "      <td>в городе</td>\n",
       "    </tr>\n",
       "    <tr>\n",
       "      <th>12936</th>\n",
       "      <td>6</td>\n",
       "      <td>6800000.0</td>\n",
       "      <td>73.00</td>\n",
       "      <td>2015-11-01T00:00:00</td>\n",
       "      <td>3</td>\n",
       "      <td>3.00</td>\n",
       "      <td>5.0</td>\n",
       "      <td>53.10</td>\n",
       "      <td>2</td>\n",
       "      <td>NaN</td>\n",
       "      <td>...</td>\n",
       "      <td>0.0</td>\n",
       "      <td>NaN</td>\n",
       "      <td>25680.0</td>\n",
       "      <td>4383.0</td>\n",
       "      <td>3.0</td>\n",
       "      <td>336.0</td>\n",
       "      <td>0.0</td>\n",
       "      <td>NaN</td>\n",
       "      <td>542.0</td>\n",
       "      <td>близко к центру</td>\n",
       "    </tr>\n",
       "    <tr>\n",
       "      <th>13223</th>\n",
       "      <td>1</td>\n",
       "      <td>2919911.0</td>\n",
       "      <td>29.40</td>\n",
       "      <td>2015-03-12T00:00:00</td>\n",
       "      <td>1</td>\n",
       "      <td>2.75</td>\n",
       "      <td>24.0</td>\n",
       "      <td>21.10</td>\n",
       "      <td>2</td>\n",
       "      <td>NaN</td>\n",
       "      <td>...</td>\n",
       "      <td>0.0</td>\n",
       "      <td>NaN</td>\n",
       "      <td>22041.0</td>\n",
       "      <td>17369.0</td>\n",
       "      <td>0.0</td>\n",
       "      <td>NaN</td>\n",
       "      <td>1.0</td>\n",
       "      <td>374.0</td>\n",
       "      <td>470.0</td>\n",
       "      <td>в городе</td>\n",
       "    </tr>\n",
       "    <tr>\n",
       "      <th>14273</th>\n",
       "      <td>2</td>\n",
       "      <td>4422000.0</td>\n",
       "      <td>60.00</td>\n",
       "      <td>2016-03-23T00:00:00</td>\n",
       "      <td>2</td>\n",
       "      <td>2.75</td>\n",
       "      <td>23.0</td>\n",
       "      <td>32.00</td>\n",
       "      <td>14</td>\n",
       "      <td>NaN</td>\n",
       "      <td>...</td>\n",
       "      <td>0.0</td>\n",
       "      <td>NaN</td>\n",
       "      <td>22041.0</td>\n",
       "      <td>17369.0</td>\n",
       "      <td>0.0</td>\n",
       "      <td>NaN</td>\n",
       "      <td>1.0</td>\n",
       "      <td>374.0</td>\n",
       "      <td>90.0</td>\n",
       "      <td>в городе</td>\n",
       "    </tr>\n",
       "    <tr>\n",
       "      <th>15686</th>\n",
       "      <td>13</td>\n",
       "      <td>4700000.0</td>\n",
       "      <td>44.00</td>\n",
       "      <td>2015-12-01T00:00:00</td>\n",
       "      <td>2</td>\n",
       "      <td>3.00</td>\n",
       "      <td>5.0</td>\n",
       "      <td>28.00</td>\n",
       "      <td>3</td>\n",
       "      <td>NaN</td>\n",
       "      <td>...</td>\n",
       "      <td>0.0</td>\n",
       "      <td>NaN</td>\n",
       "      <td>35920.0</td>\n",
       "      <td>9633.0</td>\n",
       "      <td>2.0</td>\n",
       "      <td>472.0</td>\n",
       "      <td>3.0</td>\n",
       "      <td>535.0</td>\n",
       "      <td>280.0</td>\n",
       "      <td>близко к центру</td>\n",
       "    </tr>\n",
       "    <tr>\n",
       "      <th>15866</th>\n",
       "      <td>10</td>\n",
       "      <td>3950000.0</td>\n",
       "      <td>44.00</td>\n",
       "      <td>2016-04-16T00:00:00</td>\n",
       "      <td>2</td>\n",
       "      <td>2.70</td>\n",
       "      <td>5.0</td>\n",
       "      <td>28.50</td>\n",
       "      <td>5</td>\n",
       "      <td>False</td>\n",
       "      <td>...</td>\n",
       "      <td>1.0</td>\n",
       "      <td>NaN</td>\n",
       "      <td>36380.0</td>\n",
       "      <td>9497.0</td>\n",
       "      <td>1.0</td>\n",
       "      <td>634.0</td>\n",
       "      <td>3.0</td>\n",
       "      <td>513.0</td>\n",
       "      <td>85.0</td>\n",
       "      <td>близко к центру</td>\n",
       "    </tr>\n",
       "    <tr>\n",
       "      <th>16499</th>\n",
       "      <td>2</td>\n",
       "      <td>4995573.0</td>\n",
       "      <td>56.90</td>\n",
       "      <td>2016-06-17T00:00:00</td>\n",
       "      <td>2</td>\n",
       "      <td>2.60</td>\n",
       "      <td>24.0</td>\n",
       "      <td>29.20</td>\n",
       "      <td>14</td>\n",
       "      <td>NaN</td>\n",
       "      <td>...</td>\n",
       "      <td>0.0</td>\n",
       "      <td>NaN</td>\n",
       "      <td>22041.0</td>\n",
       "      <td>17369.0</td>\n",
       "      <td>0.0</td>\n",
       "      <td>NaN</td>\n",
       "      <td>1.0</td>\n",
       "      <td>374.0</td>\n",
       "      <td>4.0</td>\n",
       "      <td>в городе</td>\n",
       "    </tr>\n",
       "    <tr>\n",
       "      <th>16561</th>\n",
       "      <td>3</td>\n",
       "      <td>2450000.0</td>\n",
       "      <td>30.00</td>\n",
       "      <td>2016-06-02T00:00:00</td>\n",
       "      <td>1</td>\n",
       "      <td>3.00</td>\n",
       "      <td>4.0</td>\n",
       "      <td>17.00</td>\n",
       "      <td>2</td>\n",
       "      <td>NaN</td>\n",
       "      <td>...</td>\n",
       "      <td>1.0</td>\n",
       "      <td>NaN</td>\n",
       "      <td>21731.0</td>\n",
       "      <td>8619.0</td>\n",
       "      <td>0.0</td>\n",
       "      <td>NaN</td>\n",
       "      <td>3.0</td>\n",
       "      <td>162.0</td>\n",
       "      <td>140.0</td>\n",
       "      <td>близко к центру</td>\n",
       "    </tr>\n",
       "    <tr>\n",
       "      <th>16610</th>\n",
       "      <td>11</td>\n",
       "      <td>11940000.0</td>\n",
       "      <td>112.00</td>\n",
       "      <td>2015-11-19T00:00:00</td>\n",
       "      <td>3</td>\n",
       "      <td>3.00</td>\n",
       "      <td>5.0</td>\n",
       "      <td>64.00</td>\n",
       "      <td>2</td>\n",
       "      <td>NaN</td>\n",
       "      <td>...</td>\n",
       "      <td>0.0</td>\n",
       "      <td>NaN</td>\n",
       "      <td>21219.0</td>\n",
       "      <td>1322.0</td>\n",
       "      <td>1.0</td>\n",
       "      <td>740.0</td>\n",
       "      <td>3.0</td>\n",
       "      <td>365.0</td>\n",
       "      <td>319.0</td>\n",
       "      <td>близко к центру</td>\n",
       "    </tr>\n",
       "    <tr>\n",
       "      <th>17764</th>\n",
       "      <td>9</td>\n",
       "      <td>8400000.0</td>\n",
       "      <td>94.00</td>\n",
       "      <td>2016-01-24T00:00:00</td>\n",
       "      <td>3</td>\n",
       "      <td>2.60</td>\n",
       "      <td>23.0</td>\n",
       "      <td>52.00</td>\n",
       "      <td>5</td>\n",
       "      <td>NaN</td>\n",
       "      <td>...</td>\n",
       "      <td>0.0</td>\n",
       "      <td>NaN</td>\n",
       "      <td>36865.0</td>\n",
       "      <td>10976.0</td>\n",
       "      <td>0.0</td>\n",
       "      <td>NaN</td>\n",
       "      <td>1.0</td>\n",
       "      <td>856.0</td>\n",
       "      <td>305.0</td>\n",
       "      <td>в городе</td>\n",
       "    </tr>\n",
       "    <tr>\n",
       "      <th>18526</th>\n",
       "      <td>3</td>\n",
       "      <td>10800000.0</td>\n",
       "      <td>86.00</td>\n",
       "      <td>2016-06-24T00:00:00</td>\n",
       "      <td>4</td>\n",
       "      <td>3.20</td>\n",
       "      <td>7.0</td>\n",
       "      <td>48.00</td>\n",
       "      <td>2</td>\n",
       "      <td>NaN</td>\n",
       "      <td>...</td>\n",
       "      <td>0.0</td>\n",
       "      <td>NaN</td>\n",
       "      <td>11206.0</td>\n",
       "      <td>8943.0</td>\n",
       "      <td>0.0</td>\n",
       "      <td>NaN</td>\n",
       "      <td>0.0</td>\n",
       "      <td>NaN</td>\n",
       "      <td>65.0</td>\n",
       "      <td>близко к центру</td>\n",
       "    </tr>\n",
       "    <tr>\n",
       "      <th>18917</th>\n",
       "      <td>3</td>\n",
       "      <td>2660000.0</td>\n",
       "      <td>37.99</td>\n",
       "      <td>2017-08-17T00:00:00</td>\n",
       "      <td>1</td>\n",
       "      <td>3.00</td>\n",
       "      <td>4.0</td>\n",
       "      <td>13.00</td>\n",
       "      <td>1</td>\n",
       "      <td>NaN</td>\n",
       "      <td>...</td>\n",
       "      <td>0.0</td>\n",
       "      <td>NaN</td>\n",
       "      <td>21540.0</td>\n",
       "      <td>8429.0</td>\n",
       "      <td>0.0</td>\n",
       "      <td>NaN</td>\n",
       "      <td>3.0</td>\n",
       "      <td>142.0</td>\n",
       "      <td>15.0</td>\n",
       "      <td>близко к центру</td>\n",
       "    </tr>\n",
       "    <tr>\n",
       "      <th>19045</th>\n",
       "      <td>6</td>\n",
       "      <td>4650000.0</td>\n",
       "      <td>48.00</td>\n",
       "      <td>2016-01-25T00:00:00</td>\n",
       "      <td>2</td>\n",
       "      <td>3.12</td>\n",
       "      <td>5.0</td>\n",
       "      <td>26.20</td>\n",
       "      <td>1</td>\n",
       "      <td>False</td>\n",
       "      <td>...</td>\n",
       "      <td>0.0</td>\n",
       "      <td>NaN</td>\n",
       "      <td>21654.0</td>\n",
       "      <td>3312.0</td>\n",
       "      <td>1.0</td>\n",
       "      <td>549.0</td>\n",
       "      <td>1.0</td>\n",
       "      <td>858.0</td>\n",
       "      <td>254.0</td>\n",
       "      <td>близко к центру</td>\n",
       "    </tr>\n",
       "    <tr>\n",
       "      <th>19972</th>\n",
       "      <td>20</td>\n",
       "      <td>4361004.0</td>\n",
       "      <td>62.40</td>\n",
       "      <td>2015-09-20T00:00:00</td>\n",
       "      <td>2</td>\n",
       "      <td>2.60</td>\n",
       "      <td>24.0</td>\n",
       "      <td>33.10</td>\n",
       "      <td>21</td>\n",
       "      <td>NaN</td>\n",
       "      <td>...</td>\n",
       "      <td>0.0</td>\n",
       "      <td>NaN</td>\n",
       "      <td>22041.0</td>\n",
       "      <td>17369.0</td>\n",
       "      <td>0.0</td>\n",
       "      <td>NaN</td>\n",
       "      <td>1.0</td>\n",
       "      <td>374.0</td>\n",
       "      <td>278.0</td>\n",
       "      <td>в городе</td>\n",
       "    </tr>\n",
       "    <tr>\n",
       "      <th>20057</th>\n",
       "      <td>13</td>\n",
       "      <td>11500000.0</td>\n",
       "      <td>102.00</td>\n",
       "      <td>2015-10-14T00:00:00</td>\n",
       "      <td>2</td>\n",
       "      <td>3.00</td>\n",
       "      <td>5.0</td>\n",
       "      <td>70.00</td>\n",
       "      <td>2</td>\n",
       "      <td>NaN</td>\n",
       "      <td>...</td>\n",
       "      <td>0.0</td>\n",
       "      <td>NaN</td>\n",
       "      <td>23478.0</td>\n",
       "      <td>4258.0</td>\n",
       "      <td>0.0</td>\n",
       "      <td>NaN</td>\n",
       "      <td>0.0</td>\n",
       "      <td>NaN</td>\n",
       "      <td>325.0</td>\n",
       "      <td>близко к центру</td>\n",
       "    </tr>\n",
       "    <tr>\n",
       "      <th>20654</th>\n",
       "      <td>7</td>\n",
       "      <td>6100000.0</td>\n",
       "      <td>43.00</td>\n",
       "      <td>2016-01-13T00:00:00</td>\n",
       "      <td>1</td>\n",
       "      <td>3.00</td>\n",
       "      <td>5.0</td>\n",
       "      <td>21.00</td>\n",
       "      <td>3</td>\n",
       "      <td>NaN</td>\n",
       "      <td>...</td>\n",
       "      <td>1.0</td>\n",
       "      <td>NaN</td>\n",
       "      <td>24385.0</td>\n",
       "      <td>4604.0</td>\n",
       "      <td>1.0</td>\n",
       "      <td>700.0</td>\n",
       "      <td>0.0</td>\n",
       "      <td>NaN</td>\n",
       "      <td>164.0</td>\n",
       "      <td>близко к центру</td>\n",
       "    </tr>\n",
       "    <tr>\n",
       "      <th>21333</th>\n",
       "      <td>10</td>\n",
       "      <td>5900000.0</td>\n",
       "      <td>58.00</td>\n",
       "      <td>2015-03-12T00:00:00</td>\n",
       "      <td>3</td>\n",
       "      <td>3.00</td>\n",
       "      <td>6.0</td>\n",
       "      <td>35.20</td>\n",
       "      <td>6</td>\n",
       "      <td>False</td>\n",
       "      <td>...</td>\n",
       "      <td>0.0</td>\n",
       "      <td>NaN</td>\n",
       "      <td>26090.0</td>\n",
       "      <td>4805.0</td>\n",
       "      <td>0.0</td>\n",
       "      <td>NaN</td>\n",
       "      <td>1.0</td>\n",
       "      <td>943.0</td>\n",
       "      <td>486.0</td>\n",
       "      <td>близко к центру</td>\n",
       "    </tr>\n",
       "    <tr>\n",
       "      <th>22474</th>\n",
       "      <td>7</td>\n",
       "      <td>24000000.0</td>\n",
       "      <td>128.00</td>\n",
       "      <td>2015-07-24T00:00:00</td>\n",
       "      <td>4</td>\n",
       "      <td>2.75</td>\n",
       "      <td>6.0</td>\n",
       "      <td>68.40</td>\n",
       "      <td>6</td>\n",
       "      <td>False</td>\n",
       "      <td>...</td>\n",
       "      <td>0.0</td>\n",
       "      <td>NaN</td>\n",
       "      <td>23297.0</td>\n",
       "      <td>1780.0</td>\n",
       "      <td>3.0</td>\n",
       "      <td>277.0</td>\n",
       "      <td>3.0</td>\n",
       "      <td>561.0</td>\n",
       "      <td>436.0</td>\n",
       "      <td>близко к центру</td>\n",
       "    </tr>\n",
       "    <tr>\n",
       "      <th>22933</th>\n",
       "      <td>20</td>\n",
       "      <td>3176015.0</td>\n",
       "      <td>33.30</td>\n",
       "      <td>2015-04-22T00:00:00</td>\n",
       "      <td>1</td>\n",
       "      <td>2.60</td>\n",
       "      <td>23.0</td>\n",
       "      <td>15.40</td>\n",
       "      <td>22</td>\n",
       "      <td>NaN</td>\n",
       "      <td>...</td>\n",
       "      <td>0.0</td>\n",
       "      <td>NaN</td>\n",
       "      <td>22041.0</td>\n",
       "      <td>17369.0</td>\n",
       "      <td>0.0</td>\n",
       "      <td>NaN</td>\n",
       "      <td>1.0</td>\n",
       "      <td>374.0</td>\n",
       "      <td>427.0</td>\n",
       "      <td>в городе</td>\n",
       "    </tr>\n",
       "    <tr>\n",
       "      <th>23214</th>\n",
       "      <td>3</td>\n",
       "      <td>7990000.0</td>\n",
       "      <td>56.00</td>\n",
       "      <td>2016-05-31T00:00:00</td>\n",
       "      <td>2</td>\n",
       "      <td>3.00</td>\n",
       "      <td>6.0</td>\n",
       "      <td>NaN</td>\n",
       "      <td>5</td>\n",
       "      <td>False</td>\n",
       "      <td>...</td>\n",
       "      <td>0.0</td>\n",
       "      <td>NaN</td>\n",
       "      <td>11206.0</td>\n",
       "      <td>8943.0</td>\n",
       "      <td>0.0</td>\n",
       "      <td>NaN</td>\n",
       "      <td>0.0</td>\n",
       "      <td>NaN</td>\n",
       "      <td>70.0</td>\n",
       "      <td>близко к центру</td>\n",
       "    </tr>\n",
       "  </tbody>\n",
       "</table>\n",
       "<p>37 rows × 23 columns</p>\n",
       "</div>"
      ],
      "text/plain": [
       "       total_images  last_price  total_area first_day_exposition  rooms  \\\n",
       "1097              3   8600000.0       81.70  2016-04-15T00:00:00      3   \n",
       "2603             20   3351765.0       42.70  2015-09-20T00:00:00      1   \n",
       "2632              2   5130593.0       62.40  2015-10-11T00:00:00      2   \n",
       "3574             10   4200000.0       46.50  2016-05-28T00:00:00      2   \n",
       "4151             17  17600000.0       89.50  2014-12-09T00:00:00      2   \n",
       "4189              7   9200000.0       80.00  2015-12-10T00:00:00      3   \n",
       "4670              1   5500000.0       83.00  2015-08-14T00:00:00      3   \n",
       "5343             19  13540000.0       85.50  2016-01-20T00:00:00      3   \n",
       "5707              7   3700000.0       30.00  2016-04-29T00:00:00      1   \n",
       "6765             20   4895892.0       60.70  2015-03-12T00:00:00      2   \n",
       "7114              5   4250000.0       56.00  2016-03-16T00:00:00      3   \n",
       "7330              8   5100000.0       63.00  2015-01-27T00:00:00      3   \n",
       "7600              8   6800000.0       70.00  2016-01-31T00:00:00      3   \n",
       "8568             10  16000000.0      155.00  2016-05-09T00:00:00      3   \n",
       "9821             13   8000000.0       94.50  2015-01-21T00:00:00      4   \n",
       "10122             5   8200000.0       83.00  2015-06-24T00:00:00      4   \n",
       "11248            12   6300000.0       63.10  2015-01-16T00:00:00      4   \n",
       "12879            12   4400000.0       39.20  2016-04-26T00:00:00      1   \n",
       "12936             6   6800000.0       73.00  2015-11-01T00:00:00      3   \n",
       "13223             1   2919911.0       29.40  2015-03-12T00:00:00      1   \n",
       "14273             2   4422000.0       60.00  2016-03-23T00:00:00      2   \n",
       "15686            13   4700000.0       44.00  2015-12-01T00:00:00      2   \n",
       "15866            10   3950000.0       44.00  2016-04-16T00:00:00      2   \n",
       "16499             2   4995573.0       56.90  2016-06-17T00:00:00      2   \n",
       "16561             3   2450000.0       30.00  2016-06-02T00:00:00      1   \n",
       "16610            11  11940000.0      112.00  2015-11-19T00:00:00      3   \n",
       "17764             9   8400000.0       94.00  2016-01-24T00:00:00      3   \n",
       "18526             3  10800000.0       86.00  2016-06-24T00:00:00      4   \n",
       "18917             3   2660000.0       37.99  2017-08-17T00:00:00      1   \n",
       "19045             6   4650000.0       48.00  2016-01-25T00:00:00      2   \n",
       "19972            20   4361004.0       62.40  2015-09-20T00:00:00      2   \n",
       "20057            13  11500000.0      102.00  2015-10-14T00:00:00      2   \n",
       "20654             7   6100000.0       43.00  2016-01-13T00:00:00      1   \n",
       "21333            10   5900000.0       58.00  2015-03-12T00:00:00      3   \n",
       "22474             7  24000000.0      128.00  2015-07-24T00:00:00      4   \n",
       "22933            20   3176015.0       33.30  2015-04-22T00:00:00      1   \n",
       "23214             3   7990000.0       56.00  2016-05-31T00:00:00      2   \n",
       "\n",
       "       ceiling_height  floors_total  living_area  floor is_apartment  ...  \\\n",
       "1097             3.55           5.0        50.80      2          NaN  ...   \n",
       "2603             2.60          24.0        15.60      3          NaN  ...   \n",
       "2632             2.60          24.0        33.10     21          NaN  ...   \n",
       "3574             3.00           5.0        30.80      5          NaN  ...   \n",
       "4151             3.00           8.0        39.62      7          NaN  ...   \n",
       "4189             4.00           4.0        52.30      3        False  ...   \n",
       "4670             3.00           7.0          NaN      6          NaN  ...   \n",
       "5343             3.00           7.0        59.10      5        False  ...   \n",
       "5707             2.60          24.0        20.00     23          NaN  ...   \n",
       "6765             2.60          24.0        31.90      3          NaN  ...   \n",
       "7114             3.00           5.0        40.00      4          NaN  ...   \n",
       "7330             3.00           5.0        42.00      1        False  ...   \n",
       "7600             2.60          11.0        42.00      9          NaN  ...   \n",
       "8568             3.00           6.0        94.00      3          NaN  ...   \n",
       "9821             3.00           2.0        57.80      2          NaN  ...   \n",
       "10122            3.00           5.0        53.00      2          NaN  ...   \n",
       "11248            3.00           8.0        44.00      7          NaN  ...   \n",
       "12879            2.60          12.0        20.00     12        False  ...   \n",
       "12936            3.00           5.0        53.10      2          NaN  ...   \n",
       "13223            2.75          24.0        21.10      2          NaN  ...   \n",
       "14273            2.75          23.0        32.00     14          NaN  ...   \n",
       "15686            3.00           5.0        28.00      3          NaN  ...   \n",
       "15866            2.70           5.0        28.50      5        False  ...   \n",
       "16499            2.60          24.0        29.20     14          NaN  ...   \n",
       "16561            3.00           4.0        17.00      2          NaN  ...   \n",
       "16610            3.00           5.0        64.00      2          NaN  ...   \n",
       "17764            2.60          23.0        52.00      5          NaN  ...   \n",
       "18526            3.20           7.0        48.00      2          NaN  ...   \n",
       "18917            3.00           4.0        13.00      1          NaN  ...   \n",
       "19045            3.12           5.0        26.20      1        False  ...   \n",
       "19972            2.60          24.0        33.10     21          NaN  ...   \n",
       "20057            3.00           5.0        70.00      2          NaN  ...   \n",
       "20654            3.00           5.0        21.00      3          NaN  ...   \n",
       "21333            3.00           6.0        35.20      6        False  ...   \n",
       "22474            2.75           6.0        68.40      6        False  ...   \n",
       "22933            2.60          23.0        15.40     22          NaN  ...   \n",
       "23214            3.00           6.0          NaN      5        False  ...   \n",
       "\n",
       "       balcony  locality_name  airports_nearest  cityCenters_nearest  \\\n",
       "1097       0.0            NaN           23478.0               4258.0   \n",
       "2603       0.0            NaN           22041.0              17369.0   \n",
       "2632       0.0            NaN           22041.0              17369.0   \n",
       "3574       0.0            NaN           27419.0               8127.0   \n",
       "4151       0.0            NaN           25054.0               3902.0   \n",
       "4189       0.0            NaN           21774.0               3039.0   \n",
       "4670       0.0            NaN           26534.0               5382.0   \n",
       "5343       4.0            NaN           10556.0               9538.0   \n",
       "5707       0.0            NaN           21460.0              16788.0   \n",
       "6765       0.0            NaN           22041.0              17369.0   \n",
       "7114       0.0            NaN           14031.0               8582.0   \n",
       "7330       0.0            NaN           25925.0               4627.0   \n",
       "7600       1.0            NaN           37123.0              12332.0   \n",
       "8568       0.0            NaN           24233.0               4065.0   \n",
       "9821       0.0            NaN           24953.0               3801.0   \n",
       "10122      0.0            NaN           25771.0               4474.0   \n",
       "11248      0.0            NaN           25221.0               4069.0   \n",
       "12879      0.0            NaN           37123.0              12332.0   \n",
       "12936      0.0            NaN           25680.0               4383.0   \n",
       "13223      0.0            NaN           22041.0              17369.0   \n",
       "14273      0.0            NaN           22041.0              17369.0   \n",
       "15686      0.0            NaN           35920.0               9633.0   \n",
       "15866      1.0            NaN           36380.0               9497.0   \n",
       "16499      0.0            NaN           22041.0              17369.0   \n",
       "16561      1.0            NaN           21731.0               8619.0   \n",
       "16610      0.0            NaN           21219.0               1322.0   \n",
       "17764      0.0            NaN           36865.0              10976.0   \n",
       "18526      0.0            NaN           11206.0               8943.0   \n",
       "18917      0.0            NaN           21540.0               8429.0   \n",
       "19045      0.0            NaN           21654.0               3312.0   \n",
       "19972      0.0            NaN           22041.0              17369.0   \n",
       "20057      0.0            NaN           23478.0               4258.0   \n",
       "20654      1.0            NaN           24385.0               4604.0   \n",
       "21333      0.0            NaN           26090.0               4805.0   \n",
       "22474      0.0            NaN           23297.0               1780.0   \n",
       "22933      0.0            NaN           22041.0              17369.0   \n",
       "23214      0.0            NaN           11206.0               8943.0   \n",
       "\n",
       "      parks_around3000  parks_nearest  ponds_around3000  ponds_nearest  \\\n",
       "1097               0.0            NaN               0.0            NaN   \n",
       "2603               0.0            NaN               1.0          374.0   \n",
       "2632               0.0            NaN               1.0          374.0   \n",
       "3574               0.0            NaN               1.0          603.0   \n",
       "4151               1.0          485.0               3.0          722.0   \n",
       "4189               1.0          690.0               1.0          953.0   \n",
       "4670               1.0          446.0               1.0          376.0   \n",
       "5343               1.0           67.0               0.0            NaN   \n",
       "5707               0.0            NaN               1.0          170.0   \n",
       "6765               0.0            NaN               1.0          374.0   \n",
       "7114               0.0            NaN               0.0            NaN   \n",
       "7330               2.0          459.0               0.0            NaN   \n",
       "7600               0.0            NaN               0.0            NaN   \n",
       "8568               1.0          547.0               0.0            NaN   \n",
       "9821               1.0          375.0               2.0          532.0   \n",
       "10122              2.0          374.0               0.0            NaN   \n",
       "11248              0.0            NaN               2.0          653.0   \n",
       "12879              0.0            NaN               0.0            NaN   \n",
       "12936              3.0          336.0               0.0            NaN   \n",
       "13223              0.0            NaN               1.0          374.0   \n",
       "14273              0.0            NaN               1.0          374.0   \n",
       "15686              2.0          472.0               3.0          535.0   \n",
       "15866              1.0          634.0               3.0          513.0   \n",
       "16499              0.0            NaN               1.0          374.0   \n",
       "16561              0.0            NaN               3.0          162.0   \n",
       "16610              1.0          740.0               3.0          365.0   \n",
       "17764              0.0            NaN               1.0          856.0   \n",
       "18526              0.0            NaN               0.0            NaN   \n",
       "18917              0.0            NaN               3.0          142.0   \n",
       "19045              1.0          549.0               1.0          858.0   \n",
       "19972              0.0            NaN               1.0          374.0   \n",
       "20057              0.0            NaN               0.0            NaN   \n",
       "20654              1.0          700.0               0.0            NaN   \n",
       "21333              0.0            NaN               1.0          943.0   \n",
       "22474              3.0          277.0               3.0          561.0   \n",
       "22933              0.0            NaN               1.0          374.0   \n",
       "23214              0.0            NaN               0.0            NaN   \n",
       "\n",
       "       days_exposition  cityCenters_category  \n",
       "1097             147.0       близко к центру  \n",
       "2603             276.0              в городе  \n",
       "2632             256.0              в городе  \n",
       "3574              45.0       близко к центру  \n",
       "4151             869.0       близко к центру  \n",
       "4189             223.0       близко к центру  \n",
       "4670             350.0       близко к центру  \n",
       "5343             303.0       близко к центру  \n",
       "5707              49.0              в городе  \n",
       "6765             468.0              в городе  \n",
       "7114              96.0       близко к центру  \n",
       "7330             566.0       близко к центру  \n",
       "7600             209.0              в городе  \n",
       "8568             248.0       близко к центру  \n",
       "9821             531.0       близко к центру  \n",
       "10122            364.0       близко к центру  \n",
       "11248            551.0       близко к центру  \n",
       "12879            179.0              в городе  \n",
       "12936            542.0       близко к центру  \n",
       "13223            470.0              в городе  \n",
       "14273             90.0              в городе  \n",
       "15686            280.0       близко к центру  \n",
       "15866             85.0       близко к центру  \n",
       "16499              4.0              в городе  \n",
       "16561            140.0       близко к центру  \n",
       "16610            319.0       близко к центру  \n",
       "17764            305.0              в городе  \n",
       "18526             65.0       близко к центру  \n",
       "18917             15.0       близко к центру  \n",
       "19045            254.0       близко к центру  \n",
       "19972            278.0              в городе  \n",
       "20057            325.0       близко к центру  \n",
       "20654            164.0       близко к центру  \n",
       "21333            486.0       близко к центру  \n",
       "22474            436.0       близко к центру  \n",
       "22933            427.0              в городе  \n",
       "23214             70.0       близко к центру  \n",
       "\n",
       "[37 rows x 23 columns]"
      ]
     },
     "execution_count": 24,
     "metadata": {},
     "output_type": "execute_result"
    }
   ],
   "source": [
    "data.loc[(data['cityCenters_nearest'] <= 20000) & (data['locality_name'].isna())]"
   ]
  },
  {
   "cell_type": "code",
   "execution_count": 25,
   "metadata": {},
   "outputs": [],
   "source": [
    "#производим замену на Санкт-Петербург\n",
    "\n",
    "rows = (data['cityCenters_nearest'] <= 20000) & (data['locality_name'].isna())\n",
    "data.loc[rows, \"locality_name\"] = \"Санкт-Петербург\"                                             "
   ]
  },
  {
   "cell_type": "code",
   "execution_count": 26,
   "metadata": {},
   "outputs": [
    {
     "data": {
      "text/plain": [
       "12"
      ]
     },
     "execution_count": 26,
     "metadata": {},
     "output_type": "execute_result"
    }
   ],
   "source": [
    "data['locality_name'].isna().sum()"
   ]
  },
  {
   "cell_type": "markdown",
   "metadata": {},
   "source": [
    "Удалось сократить пропуски в столбце с названием населенного пункта `locality_name` с 49 до 12."
   ]
  },
  {
   "cell_type": "markdown",
   "metadata": {},
   "source": [
    "- **living_area/kitchen_area**\n",
    "\n",
    "Столбцы с жилой площадью `living_area` и площадью кухни `kitchen_area` также содержат 8% и 9,6% пропущенных значений соответственно. Зная общую площадь квартир, мы можем заменить медианными значениями пропуски в жилой площади и площади кухни (поскольку, скорее всего, эти переменные находятся в линейной зависимости, то есть чем больше общая площадь, тем больше жилая площадь и кухня). "
   ]
  },
  {
   "cell_type": "code",
   "execution_count": 27,
   "metadata": {},
   "outputs": [
    {
     "data": {
      "text/plain": [
       "count    21796.000000\n",
       "mean        34.457852\n",
       "std         22.030445\n",
       "min          2.000000\n",
       "25%         18.600000\n",
       "50%         30.000000\n",
       "75%         42.300000\n",
       "max        409.700000\n",
       "Name: living_area, dtype: float64"
      ]
     },
     "execution_count": 27,
     "metadata": {},
     "output_type": "execute_result"
    }
   ],
   "source": [
    "data['living_area'].describe()"
   ]
  },
  {
   "cell_type": "markdown",
   "metadata": {},
   "source": [
    "Значение медианы и среднего арифметического отличается, но не слишком значительно. Проверим на графике наличие экстремальных значений, которые могли бы сместить результаты среднего арифметического."
   ]
  },
  {
   "cell_type": "code",
   "execution_count": 28,
   "metadata": {},
   "outputs": [
    {
     "data": {
      "image/png": "[encoded data removed]",
      "text/plain": [
       "<Figure size 432x288 with 1 Axes>"
      ]
     },
     "metadata": {
      "needs_background": "light"
     },
     "output_type": "display_data"
    }
   ],
   "source": [
    "data['living_area'].plot(kind='box')\n",
    "plt.show()"
   ]
  },
  {
   "cell_type": "markdown",
   "metadata": {},
   "source": [
    "На графике видны слишком большие значения жилой площади, которые могут значительно сместить усредненный результат, поэтому лучше заполнять пропуски медианой. Проверим нашу гипотезу с положительной корреляцией между общей площадью квартиры и жилой площадью."
   ]
  },
  {
   "cell_type": "code",
   "execution_count": 29,
   "metadata": {},
   "outputs": [
    {
     "data": {
      "text/plain": [
       "0.9395373338721493"
      ]
     },
     "execution_count": 29,
     "metadata": {},
     "output_type": "execute_result"
    }
   ],
   "source": [
    "data['living_area'].corr(data['total_area'])"
   ]
  },
  {
   "cell_type": "markdown",
   "metadata": {},
   "source": [
    "Значение показывает наличие тесной линейной взаимосвязи между нашими переменными."
   ]
  },
  {
   "cell_type": "code",
   "execution_count": 30,
   "metadata": {},
   "outputs": [],
   "source": [
    "#добавим столбец с категориями квартир по площади\n",
    "\n",
    "def categorize_totalarea(row):\n",
    "    try:\n",
    "        if row <= 50:\n",
    "            return 'средняя площадь'\n",
    "        elif 50 < row <= 150:\n",
    "            return 'большая площадь'\n",
    "        elif row > 150:\n",
    "            return 'очень большая площадь'\n",
    "    except:\n",
    "        return 'нет категории'"
   ]
  },
  {
   "cell_type": "code",
   "execution_count": 31,
   "metadata": {},
   "outputs": [],
   "source": [
    "data['category_totalarea'] = data['total_area'].apply(categorize_totalarea)"
   ]
  },
  {
   "cell_type": "code",
   "execution_count": 32,
   "metadata": {
    "scrolled": true
   },
   "outputs": [
    {
     "data": {
      "text/html": [
       "<div>\n",
       "<style scoped>\n",
       "    .dataframe tbody tr th:only-of-type {\n",
       "        vertical-align: middle;\n",
       "    }\n",
       "\n",
       "    .dataframe tbody tr th {\n",
       "        vertical-align: top;\n",
       "    }\n",
       "\n",
       "    .dataframe thead tr th {\n",
       "        text-align: left;\n",
       "    }\n",
       "\n",
       "    .dataframe thead tr:last-of-type th {\n",
       "        text-align: right;\n",
       "    }\n",
       "</style>\n",
       "<table border=\"1\" class=\"dataframe\">\n",
       "  <thead>\n",
       "    <tr>\n",
       "      <th></th>\n",
       "      <th>median</th>\n",
       "      <th>count</th>\n",
       "    </tr>\n",
       "    <tr>\n",
       "      <th></th>\n",
       "      <th>living_area</th>\n",
       "      <th>living_area</th>\n",
       "    </tr>\n",
       "    <tr>\n",
       "      <th>category_totalarea</th>\n",
       "      <th></th>\n",
       "      <th></th>\n",
       "    </tr>\n",
       "  </thead>\n",
       "  <tbody>\n",
       "    <tr>\n",
       "      <th>большая площадь</th>\n",
       "      <td>41.0</td>\n",
       "      <td>10963</td>\n",
       "    </tr>\n",
       "    <tr>\n",
       "      <th>очень большая площадь</th>\n",
       "      <td>112.0</td>\n",
       "      <td>496</td>\n",
       "    </tr>\n",
       "    <tr>\n",
       "      <th>средняя площадь</th>\n",
       "      <td>18.4</td>\n",
       "      <td>10337</td>\n",
       "    </tr>\n",
       "  </tbody>\n",
       "</table>\n",
       "</div>"
      ],
      "text/plain": [
       "                           median       count\n",
       "                      living_area living_area\n",
       "category_totalarea                           \n",
       "большая площадь              41.0       10963\n",
       "очень большая площадь       112.0         496\n",
       "средняя площадь              18.4       10337"
      ]
     },
     "execution_count": 32,
     "metadata": {},
     "output_type": "execute_result"
    }
   ],
   "source": [
    "total_area_median = data.pivot_table(index='category_totalarea', values='living_area', aggfunc=['median', 'count'])\n",
    "total_area_median"
   ]
  },
  {
   "cell_type": "code",
   "execution_count": 34,
   "metadata": {},
   "outputs": [],
   "source": [
    "for t in data['category_totalarea'].unique():\n",
    "    data.loc[(data['category_totalarea'] == t) & (data['living_area'].isna()), 'living_area'] = \\\n",
    "    data.loc[(data['category_totalarea'] == t), 'living_area'].median()"
   ]
  },
  {
   "cell_type": "code",
   "execution_count": 35,
   "metadata": {
    "scrolled": true
   },
   "outputs": [
    {
     "data": {
      "text/plain": [
       "0"
      ]
     },
     "execution_count": 35,
     "metadata": {},
     "output_type": "execute_result"
    }
   ],
   "source": [
    "data['living_area'].isna().sum()"
   ]
  },
  {
   "cell_type": "markdown",
   "metadata": {},
   "source": [
    "Таким же образом заменим пропущенные значения на медианы в площади кухни, поскольку площадь кухни скорее всего также находится в линейной зависимости от общей площади. Проверим корреляцию Пирсона."
   ]
  },
  {
   "cell_type": "code",
   "execution_count": 36,
   "metadata": {
    "scrolled": true
   },
   "outputs": [
    {
     "data": {
      "text/plain": [
       "0.6091211711198318"
      ]
     },
     "execution_count": 36,
     "metadata": {},
     "output_type": "execute_result"
    }
   ],
   "source": [
    "data['kitchen_area'].corr(data['total_area'])"
   ]
  },
  {
   "cell_type": "markdown",
   "metadata": {},
   "source": [
    "Значение 0,6 свидетельствует о наличии положительной корреляции между величинами."
   ]
  },
  {
   "cell_type": "code",
   "execution_count": 37,
   "metadata": {},
   "outputs": [
    {
     "data": {
      "text/html": [
       "<div>\n",
       "<style scoped>\n",
       "    .dataframe tbody tr th:only-of-type {\n",
       "        vertical-align: middle;\n",
       "    }\n",
       "\n",
       "    .dataframe tbody tr th {\n",
       "        vertical-align: top;\n",
       "    }\n",
       "\n",
       "    .dataframe thead tr th {\n",
       "        text-align: left;\n",
       "    }\n",
       "\n",
       "    .dataframe thead tr:last-of-type th {\n",
       "        text-align: right;\n",
       "    }\n",
       "</style>\n",
       "<table border=\"1\" class=\"dataframe\">\n",
       "  <thead>\n",
       "    <tr>\n",
       "      <th></th>\n",
       "      <th>median</th>\n",
       "      <th>count</th>\n",
       "    </tr>\n",
       "    <tr>\n",
       "      <th></th>\n",
       "      <th>kitchen_area</th>\n",
       "      <th>kitchen_area</th>\n",
       "    </tr>\n",
       "    <tr>\n",
       "      <th>category_totalarea</th>\n",
       "      <th></th>\n",
       "      <th></th>\n",
       "    </tr>\n",
       "  </thead>\n",
       "  <tbody>\n",
       "    <tr>\n",
       "      <th>большая площадь</th>\n",
       "      <td>10.20</td>\n",
       "      <td>10970</td>\n",
       "    </tr>\n",
       "    <tr>\n",
       "      <th>очень большая площадь</th>\n",
       "      <td>21.21</td>\n",
       "      <td>496</td>\n",
       "    </tr>\n",
       "    <tr>\n",
       "      <th>средняя площадь</th>\n",
       "      <td>8.00</td>\n",
       "      <td>9955</td>\n",
       "    </tr>\n",
       "  </tbody>\n",
       "</table>\n",
       "</div>"
      ],
      "text/plain": [
       "                            median        count\n",
       "                      kitchen_area kitchen_area\n",
       "category_totalarea                             \n",
       "большая площадь              10.20        10970\n",
       "очень большая площадь        21.21          496\n",
       "средняя площадь               8.00         9955"
      ]
     },
     "execution_count": 37,
     "metadata": {},
     "output_type": "execute_result"
    }
   ],
   "source": [
    "kitchen_area_median = data.pivot_table(index='category_totalarea', values='kitchen_area', aggfunc=['median', 'count'])\n",
    "kitchen_area_median"
   ]
  },
  {
   "cell_type": "code",
   "execution_count": 38,
   "metadata": {},
   "outputs": [],
   "source": [
    "for t in data['category_totalarea'].unique():\n",
    "    data.loc[(data['category_totalarea'] == t) & (data['kitchen_area'].isna()), 'kitchen_area'] = \\\n",
    "    data.loc[(data['category_totalarea'] == t), 'kitchen_area'].median()"
   ]
  },
  {
   "cell_type": "code",
   "execution_count": 39,
   "metadata": {},
   "outputs": [
    {
     "data": {
      "text/plain": [
       "0"
      ]
     },
     "execution_count": 39,
     "metadata": {},
     "output_type": "execute_result"
    }
   ],
   "source": [
    "data['kitchen_area'].isna().sum()"
   ]
  },
  {
   "cell_type": "markdown",
   "metadata": {},
   "source": [
    "- **floors_total**\n",
    "\n",
    "Пропуски составляют 0,4% от общей выборки, поэтому можем удалить эти строки, так как это не сильно повлияет на результаты исследования."
   ]
  },
  {
   "cell_type": "code",
   "execution_count": 40,
   "metadata": {},
   "outputs": [],
   "source": [
    "data.dropna(subset=['floors_total'],inplace=True)"
   ]
  },
  {
   "cell_type": "code",
   "execution_count": 42,
   "metadata": {},
   "outputs": [
    {
     "data": {
      "text/plain": [
       "0"
      ]
     },
     "execution_count": 42,
     "metadata": {},
     "output_type": "execute_result"
    }
   ],
   "source": [
    "data['floors_total'].isna().sum()"
   ]
  },
  {
   "cell_type": "code",
   "execution_count": 41,
   "metadata": {},
   "outputs": [
    {
     "data": {
      "text/html": [
       "<div>\n",
       "<style scoped>\n",
       "    .dataframe tbody tr th:only-of-type {\n",
       "        vertical-align: middle;\n",
       "    }\n",
       "\n",
       "    .dataframe tbody tr th {\n",
       "        vertical-align: top;\n",
       "    }\n",
       "\n",
       "    .dataframe thead th {\n",
       "        text-align: right;\n",
       "    }\n",
       "</style>\n",
       "<table border=\"1\" class=\"dataframe\">\n",
       "  <thead>\n",
       "    <tr style=\"text-align: right;\">\n",
       "      <th></th>\n",
       "      <th>total_images</th>\n",
       "      <th>last_price</th>\n",
       "      <th>total_area</th>\n",
       "      <th>first_day_exposition</th>\n",
       "      <th>rooms</th>\n",
       "      <th>ceiling_height</th>\n",
       "      <th>floors_total</th>\n",
       "      <th>living_area</th>\n",
       "      <th>floor</th>\n",
       "      <th>is_apartment</th>\n",
       "      <th>...</th>\n",
       "      <th>locality_name</th>\n",
       "      <th>airports_nearest</th>\n",
       "      <th>cityCenters_nearest</th>\n",
       "      <th>parks_around3000</th>\n",
       "      <th>parks_nearest</th>\n",
       "      <th>ponds_around3000</th>\n",
       "      <th>ponds_nearest</th>\n",
       "      <th>days_exposition</th>\n",
       "      <th>cityCenters_category</th>\n",
       "      <th>category_totalarea</th>\n",
       "    </tr>\n",
       "  </thead>\n",
       "  <tbody>\n",
       "    <tr>\n",
       "      <th>0</th>\n",
       "      <td>20</td>\n",
       "      <td>13000000.0</td>\n",
       "      <td>108.00</td>\n",
       "      <td>2019-03-07T00:00:00</td>\n",
       "      <td>3</td>\n",
       "      <td>2.70</td>\n",
       "      <td>16.0</td>\n",
       "      <td>51.0</td>\n",
       "      <td>8</td>\n",
       "      <td>NaN</td>\n",
       "      <td>...</td>\n",
       "      <td>Санкт-Петербург</td>\n",
       "      <td>18863.0</td>\n",
       "      <td>16028.0</td>\n",
       "      <td>1.0</td>\n",
       "      <td>482.0</td>\n",
       "      <td>2.0</td>\n",
       "      <td>755.0</td>\n",
       "      <td>NaN</td>\n",
       "      <td>в городе</td>\n",
       "      <td>большая площадь</td>\n",
       "    </tr>\n",
       "    <tr>\n",
       "      <th>1</th>\n",
       "      <td>7</td>\n",
       "      <td>3350000.0</td>\n",
       "      <td>40.40</td>\n",
       "      <td>2018-12-04T00:00:00</td>\n",
       "      <td>1</td>\n",
       "      <td>2.60</td>\n",
       "      <td>11.0</td>\n",
       "      <td>18.6</td>\n",
       "      <td>1</td>\n",
       "      <td>NaN</td>\n",
       "      <td>...</td>\n",
       "      <td>посёлок Шушары</td>\n",
       "      <td>12817.0</td>\n",
       "      <td>18603.0</td>\n",
       "      <td>0.0</td>\n",
       "      <td>NaN</td>\n",
       "      <td>0.0</td>\n",
       "      <td>NaN</td>\n",
       "      <td>81.0</td>\n",
       "      <td>в городе</td>\n",
       "      <td>средняя площадь</td>\n",
       "    </tr>\n",
       "    <tr>\n",
       "      <th>2</th>\n",
       "      <td>10</td>\n",
       "      <td>5196000.0</td>\n",
       "      <td>56.00</td>\n",
       "      <td>2015-08-20T00:00:00</td>\n",
       "      <td>2</td>\n",
       "      <td>2.60</td>\n",
       "      <td>5.0</td>\n",
       "      <td>34.3</td>\n",
       "      <td>4</td>\n",
       "      <td>NaN</td>\n",
       "      <td>...</td>\n",
       "      <td>Санкт-Петербург</td>\n",
       "      <td>21741.0</td>\n",
       "      <td>13933.0</td>\n",
       "      <td>1.0</td>\n",
       "      <td>90.0</td>\n",
       "      <td>2.0</td>\n",
       "      <td>574.0</td>\n",
       "      <td>558.0</td>\n",
       "      <td>в городе</td>\n",
       "      <td>большая площадь</td>\n",
       "    </tr>\n",
       "    <tr>\n",
       "      <th>3</th>\n",
       "      <td>0</td>\n",
       "      <td>64900000.0</td>\n",
       "      <td>159.00</td>\n",
       "      <td>2015-07-24T00:00:00</td>\n",
       "      <td>3</td>\n",
       "      <td>3.00</td>\n",
       "      <td>14.0</td>\n",
       "      <td>112.0</td>\n",
       "      <td>9</td>\n",
       "      <td>NaN</td>\n",
       "      <td>...</td>\n",
       "      <td>Санкт-Петербург</td>\n",
       "      <td>28098.0</td>\n",
       "      <td>6800.0</td>\n",
       "      <td>2.0</td>\n",
       "      <td>84.0</td>\n",
       "      <td>3.0</td>\n",
       "      <td>234.0</td>\n",
       "      <td>424.0</td>\n",
       "      <td>близко к центру</td>\n",
       "      <td>очень большая площадь</td>\n",
       "    </tr>\n",
       "    <tr>\n",
       "      <th>4</th>\n",
       "      <td>2</td>\n",
       "      <td>10000000.0</td>\n",
       "      <td>100.00</td>\n",
       "      <td>2018-06-19T00:00:00</td>\n",
       "      <td>2</td>\n",
       "      <td>3.03</td>\n",
       "      <td>14.0</td>\n",
       "      <td>32.0</td>\n",
       "      <td>13</td>\n",
       "      <td>NaN</td>\n",
       "      <td>...</td>\n",
       "      <td>Санкт-Петербург</td>\n",
       "      <td>31856.0</td>\n",
       "      <td>8098.0</td>\n",
       "      <td>2.0</td>\n",
       "      <td>112.0</td>\n",
       "      <td>1.0</td>\n",
       "      <td>48.0</td>\n",
       "      <td>121.0</td>\n",
       "      <td>близко к центру</td>\n",
       "      <td>большая площадь</td>\n",
       "    </tr>\n",
       "    <tr>\n",
       "      <th>...</th>\n",
       "      <td>...</td>\n",
       "      <td>...</td>\n",
       "      <td>...</td>\n",
       "      <td>...</td>\n",
       "      <td>...</td>\n",
       "      <td>...</td>\n",
       "      <td>...</td>\n",
       "      <td>...</td>\n",
       "      <td>...</td>\n",
       "      <td>...</td>\n",
       "      <td>...</td>\n",
       "      <td>...</td>\n",
       "      <td>...</td>\n",
       "      <td>...</td>\n",
       "      <td>...</td>\n",
       "      <td>...</td>\n",
       "      <td>...</td>\n",
       "      <td>...</td>\n",
       "      <td>...</td>\n",
       "      <td>...</td>\n",
       "      <td>...</td>\n",
       "    </tr>\n",
       "    <tr>\n",
       "      <th>23608</th>\n",
       "      <td>9</td>\n",
       "      <td>9700000.0</td>\n",
       "      <td>133.81</td>\n",
       "      <td>2017-03-21T00:00:00</td>\n",
       "      <td>3</td>\n",
       "      <td>3.70</td>\n",
       "      <td>5.0</td>\n",
       "      <td>73.3</td>\n",
       "      <td>3</td>\n",
       "      <td>NaN</td>\n",
       "      <td>...</td>\n",
       "      <td>Санкт-Петербург</td>\n",
       "      <td>24665.0</td>\n",
       "      <td>4232.0</td>\n",
       "      <td>1.0</td>\n",
       "      <td>796.0</td>\n",
       "      <td>3.0</td>\n",
       "      <td>381.0</td>\n",
       "      <td>NaN</td>\n",
       "      <td>близко к центру</td>\n",
       "      <td>большая площадь</td>\n",
       "    </tr>\n",
       "    <tr>\n",
       "      <th>23609</th>\n",
       "      <td>14</td>\n",
       "      <td>3100000.0</td>\n",
       "      <td>59.00</td>\n",
       "      <td>2018-01-15T00:00:00</td>\n",
       "      <td>3</td>\n",
       "      <td>2.60</td>\n",
       "      <td>5.0</td>\n",
       "      <td>38.0</td>\n",
       "      <td>4</td>\n",
       "      <td>NaN</td>\n",
       "      <td>...</td>\n",
       "      <td>Тосно</td>\n",
       "      <td>NaN</td>\n",
       "      <td>NaN</td>\n",
       "      <td>NaN</td>\n",
       "      <td>NaN</td>\n",
       "      <td>NaN</td>\n",
       "      <td>NaN</td>\n",
       "      <td>45.0</td>\n",
       "      <td>None</td>\n",
       "      <td>большая площадь</td>\n",
       "    </tr>\n",
       "    <tr>\n",
       "      <th>23610</th>\n",
       "      <td>18</td>\n",
       "      <td>2500000.0</td>\n",
       "      <td>56.70</td>\n",
       "      <td>2018-02-11T00:00:00</td>\n",
       "      <td>2</td>\n",
       "      <td>2.60</td>\n",
       "      <td>3.0</td>\n",
       "      <td>29.7</td>\n",
       "      <td>1</td>\n",
       "      <td>NaN</td>\n",
       "      <td>...</td>\n",
       "      <td>село Рождествено</td>\n",
       "      <td>NaN</td>\n",
       "      <td>NaN</td>\n",
       "      <td>NaN</td>\n",
       "      <td>NaN</td>\n",
       "      <td>NaN</td>\n",
       "      <td>NaN</td>\n",
       "      <td>NaN</td>\n",
       "      <td>None</td>\n",
       "      <td>большая площадь</td>\n",
       "    </tr>\n",
       "    <tr>\n",
       "      <th>23611</th>\n",
       "      <td>13</td>\n",
       "      <td>11475000.0</td>\n",
       "      <td>76.75</td>\n",
       "      <td>2017-03-28T00:00:00</td>\n",
       "      <td>2</td>\n",
       "      <td>3.00</td>\n",
       "      <td>17.0</td>\n",
       "      <td>41.0</td>\n",
       "      <td>12</td>\n",
       "      <td>NaN</td>\n",
       "      <td>...</td>\n",
       "      <td>Санкт-Петербург</td>\n",
       "      <td>39140.0</td>\n",
       "      <td>10364.0</td>\n",
       "      <td>2.0</td>\n",
       "      <td>173.0</td>\n",
       "      <td>3.0</td>\n",
       "      <td>196.0</td>\n",
       "      <td>602.0</td>\n",
       "      <td>в городе</td>\n",
       "      <td>большая площадь</td>\n",
       "    </tr>\n",
       "    <tr>\n",
       "      <th>23612</th>\n",
       "      <td>4</td>\n",
       "      <td>1350000.0</td>\n",
       "      <td>32.30</td>\n",
       "      <td>2017-07-21T00:00:00</td>\n",
       "      <td>1</td>\n",
       "      <td>2.50</td>\n",
       "      <td>5.0</td>\n",
       "      <td>12.3</td>\n",
       "      <td>1</td>\n",
       "      <td>NaN</td>\n",
       "      <td>...</td>\n",
       "      <td>поселок Новый Учхоз</td>\n",
       "      <td>NaN</td>\n",
       "      <td>NaN</td>\n",
       "      <td>NaN</td>\n",
       "      <td>NaN</td>\n",
       "      <td>NaN</td>\n",
       "      <td>NaN</td>\n",
       "      <td>NaN</td>\n",
       "      <td>None</td>\n",
       "      <td>средняя площадь</td>\n",
       "    </tr>\n",
       "  </tbody>\n",
       "</table>\n",
       "<p>23613 rows × 24 columns</p>\n",
       "</div>"
      ],
      "text/plain": [
       "       total_images  last_price  total_area first_day_exposition  rooms  \\\n",
       "0                20  13000000.0      108.00  2019-03-07T00:00:00      3   \n",
       "1                 7   3350000.0       40.40  2018-12-04T00:00:00      1   \n",
       "2                10   5196000.0       56.00  2015-08-20T00:00:00      2   \n",
       "3                 0  64900000.0      159.00  2015-07-24T00:00:00      3   \n",
       "4                 2  10000000.0      100.00  2018-06-19T00:00:00      2   \n",
       "...             ...         ...         ...                  ...    ...   \n",
       "23608             9   9700000.0      133.81  2017-03-21T00:00:00      3   \n",
       "23609            14   3100000.0       59.00  2018-01-15T00:00:00      3   \n",
       "23610            18   2500000.0       56.70  2018-02-11T00:00:00      2   \n",
       "23611            13  11475000.0       76.75  2017-03-28T00:00:00      2   \n",
       "23612             4   1350000.0       32.30  2017-07-21T00:00:00      1   \n",
       "\n",
       "       ceiling_height  floors_total  living_area  floor is_apartment  ...  \\\n",
       "0                2.70          16.0         51.0      8          NaN  ...   \n",
       "1                2.60          11.0         18.6      1          NaN  ...   \n",
       "2                2.60           5.0         34.3      4          NaN  ...   \n",
       "3                3.00          14.0        112.0      9          NaN  ...   \n",
       "4                3.03          14.0         32.0     13          NaN  ...   \n",
       "...               ...           ...          ...    ...          ...  ...   \n",
       "23608            3.70           5.0         73.3      3          NaN  ...   \n",
       "23609            2.60           5.0         38.0      4          NaN  ...   \n",
       "23610            2.60           3.0         29.7      1          NaN  ...   \n",
       "23611            3.00          17.0         41.0     12          NaN  ...   \n",
       "23612            2.50           5.0         12.3      1          NaN  ...   \n",
       "\n",
       "             locality_name  airports_nearest  cityCenters_nearest  \\\n",
       "0          Санкт-Петербург           18863.0              16028.0   \n",
       "1           посёлок Шушары           12817.0              18603.0   \n",
       "2          Санкт-Петербург           21741.0              13933.0   \n",
       "3          Санкт-Петербург           28098.0               6800.0   \n",
       "4          Санкт-Петербург           31856.0               8098.0   \n",
       "...                    ...               ...                  ...   \n",
       "23608      Санкт-Петербург           24665.0               4232.0   \n",
       "23609                Тосно               NaN                  NaN   \n",
       "23610     село Рождествено               NaN                  NaN   \n",
       "23611      Санкт-Петербург           39140.0              10364.0   \n",
       "23612  поселок Новый Учхоз               NaN                  NaN   \n",
       "\n",
       "       parks_around3000 parks_nearest  ponds_around3000  ponds_nearest  \\\n",
       "0                   1.0         482.0               2.0          755.0   \n",
       "1                   0.0           NaN               0.0            NaN   \n",
       "2                   1.0          90.0               2.0          574.0   \n",
       "3                   2.0          84.0               3.0          234.0   \n",
       "4                   2.0         112.0               1.0           48.0   \n",
       "...                 ...           ...               ...            ...   \n",
       "23608               1.0         796.0               3.0          381.0   \n",
       "23609               NaN           NaN               NaN            NaN   \n",
       "23610               NaN           NaN               NaN            NaN   \n",
       "23611               2.0         173.0               3.0          196.0   \n",
       "23612               NaN           NaN               NaN            NaN   \n",
       "\n",
       "       days_exposition  cityCenters_category     category_totalarea  \n",
       "0                  NaN              в городе        большая площадь  \n",
       "1                 81.0              в городе        средняя площадь  \n",
       "2                558.0              в городе        большая площадь  \n",
       "3                424.0       близко к центру  очень большая площадь  \n",
       "4                121.0       близко к центру        большая площадь  \n",
       "...                ...                   ...                    ...  \n",
       "23608              NaN       близко к центру        большая площадь  \n",
       "23609             45.0                  None        большая площадь  \n",
       "23610              NaN                  None        большая площадь  \n",
       "23611            602.0              в городе        большая площадь  \n",
       "23612              NaN                  None        средняя площадь  \n",
       "\n",
       "[23613 rows x 24 columns]"
      ]
     },
     "execution_count": 41,
     "metadata": {},
     "output_type": "execute_result"
    }
   ],
   "source": [
    "data.dropna(subset=['floors_total']).reset_index(drop=True)"
   ]
  },
  {
   "cell_type": "markdown",
   "metadata": {},
   "source": [
    "- **days_exposition**\n",
    "\n",
    "Пропущено 13,4% значений. Пропуски в этом столбце могут зависеть от множества факторов, поэтому средним и медианой их заполнять не совсем корректно. Заменим их на маркер \"0\", что будет означать пропуск, чтобы в дальнейшем пропуски не помешали перевести данные к целочисленному типу."
   ]
  },
  {
   "cell_type": "code",
   "execution_count": 43,
   "metadata": {},
   "outputs": [
    {
     "data": {
      "text/plain": [
       "3172"
      ]
     },
     "execution_count": 43,
     "metadata": {},
     "output_type": "execute_result"
    }
   ],
   "source": [
    "data['days_exposition'].isna().sum()"
   ]
  },
  {
   "cell_type": "code",
   "execution_count": 44,
   "metadata": {},
   "outputs": [
    {
     "data": {
      "text/plain": [
       "count    20441.000000\n",
       "mean       180.884839\n",
       "std        219.685543\n",
       "min          1.000000\n",
       "25%         45.000000\n",
       "50%         95.000000\n",
       "75%        232.000000\n",
       "max       1580.000000\n",
       "Name: days_exposition, dtype: float64"
      ]
     },
     "execution_count": 44,
     "metadata": {},
     "output_type": "execute_result"
    }
   ],
   "source": [
    "#минимальное значение размещения квартир 1 день, поэтому данное значение в качестве маркера для пропусков брать нельзя\n",
    "\n",
    "data['days_exposition'].describe()"
   ]
  },
  {
   "cell_type": "code",
   "execution_count": 45,
   "metadata": {},
   "outputs": [],
   "source": [
    "data['days_exposition'].fillna(0, inplace=True)"
   ]
  },
  {
   "cell_type": "markdown",
   "metadata": {},
   "source": [
    "-  **cityCenters_nearest/airports_nearest**\n",
    "\n",
    "Пропуски в этих столбцах составляют 23% и 23,3% соответственно. Пропуски могут быть заполнены через название населенного пункта, вычисление его координат по яндекс картам и затем вычисление удаленности до центра и аэропорта. Однако если делать это вручную, то потратим слишком много времени. "
   ]
  },
  {
   "cell_type": "markdown",
   "metadata": {},
   "source": [
    "- **parks_around3000 / ponds_around3000**\n",
    "\n",
    "Пропуски составляют 23% в обоих столбцах, оставим, как есть, поскольку логичной замены для недостающих значений у нас нет. Средняя и медиана тут не подойдет, высчитывать вручную ближайшие водоемы и парки будет трудозатратно."
   ]
  },
  {
   "cell_type": "markdown",
   "metadata": {},
   "source": [
    "- **parks_nearest / ponds_nearest**\n",
    "\n",
    "Пропуски составляют 65% и 61% соответственно. Очевидно, что это была не обязательная для заполнения информация, поэтому многие продавцы не посчитали нужным ее заполнять. Аналогично столбцам выше оставим пропуски, как они есть. В будущем, если эта информация будет нужна для исследования, то лучше в объявлениях указать эту графу для заполнения обзательной."
   ]
  },
  {
   "cell_type": "code",
   "execution_count": 46,
   "metadata": {},
   "outputs": [
    {
     "data": {
      "text/plain": [
       "total_images                0\n",
       "last_price                  0\n",
       "total_area                  0\n",
       "first_day_exposition        0\n",
       "rooms                       0\n",
       "ceiling_height              0\n",
       "floors_total                0\n",
       "living_area                 0\n",
       "floor                       0\n",
       "is_apartment            20838\n",
       "studio                      0\n",
       "open_plan                   0\n",
       "kitchen_area                0\n",
       "balcony                     0\n",
       "locality_name              11\n",
       "airports_nearest         5532\n",
       "cityCenters_nearest      5509\n",
       "parks_around3000         5508\n",
       "parks_nearest           15568\n",
       "ponds_around3000         5508\n",
       "ponds_nearest           14552\n",
       "days_exposition             0\n",
       "cityCenters_category     5509\n",
       "category_totalarea          0\n",
       "dtype: int64"
      ]
     },
     "execution_count": 46,
     "metadata": {},
     "output_type": "execute_result"
    }
   ],
   "source": [
    "data.isna().sum()"
   ]
  },
  {
   "cell_type": "markdown",
   "metadata": {},
   "source": [
    "Таким образом, мы сократили число пропусков:\n",
    "* заменив значения на нулевые в столбце `balcony`, `days_exposition`\n",
    "* заменив на медианные значения в столбцах `ceiling_height`, `living_area`, `kitchen_area`\n",
    "* заменив на Санкт-Петербург по километражу в столбце `locality_name`\n",
    "* удалив незначительное количество пропусков для датасета в столбце `floors_total`\n",
    "\n",
    "Причины появления пропусков в данных:\n",
    "1. Технологическая причина: сбой во время записи данных, сбой из-за смены формата, при котором часть данных потерялась. Например, столбец с дополнительной информацией по объявлению мог появиться позже изначального сбора данных, поэтому по ранее внесенным данным могли появиться пропуски. \n",
    "2. Человеческий фактор: продавцы не внесли данные в объявления, поскольку они были необязательными, продавцы не посчитали эти пункты нужной информацией или не стали вдаваться в подробности и узнавать эту информацию для добавления."
   ]
  },
  {
   "cell_type": "markdown",
   "metadata": {},
   "source": [
    "#### Преобразование типов данных"
   ]
  },
  {
   "cell_type": "markdown",
   "metadata": {},
   "source": [
    "По формату:\n",
    "* `first_day_exposition` - дата публикации, нужен тип datetime вместо object\n",
    "* `floors_total` - нужен тип int, так как количество этажей - это целое значение\n",
    "* `is_apartment` - нужен тип bool\n",
    "* `balcony` - нужен тип int, так как количество балконов - целое значение\n",
    "* `parks_around3000`  - нужен тип int, так как количество парков - целое значение\n",
    "* `days_exposition` - нужен тип int\n",
    "* `ponds_around3000` - нужен тип int, так как количество водоемов - целое значение"
   ]
  },
  {
   "cell_type": "markdown",
   "metadata": {},
   "source": [
    "Далее необходимо преобразовать столбцы в корректный тип данных для избежания дальнейших ошибок при проведении расчетов.\n",
    "\n",
    "Переводим столбец `balcony` в целочисленный тип, поскольку количество балконов - это целое значение (2,5 балконов быть не может). Также столбец `is_apartment` является булевым типом, т.к. отражает информацию о наличии или отсутствии данной характеристики. "
   ]
  },
  {
   "cell_type": "code",
   "execution_count": 47,
   "metadata": {},
   "outputs": [],
   "source": [
    "data['balcony'] = data['balcony'].astype('int')\n",
    "data['is_apartment'] = data['is_apartment'].astype('bool')"
   ]
  },
  {
   "cell_type": "code",
   "execution_count": 48,
   "metadata": {},
   "outputs": [],
   "source": [
    "import numpy as np"
   ]
  },
  {
   "cell_type": "markdown",
   "metadata": {},
   "source": [
    "Переводим столбцы `floors_total, parks_around3000, ponds_around3000, days_exposition` в целочисленный тип, поскольку столбцы содержат информацию с целочисленными значениями. Так, количество этажей, количество парков и водоемов, количество дней - это целые значения. "
   ]
  },
  {
   "cell_type": "code",
   "execution_count": 49,
   "metadata": {},
   "outputs": [],
   "source": [
    "data['floors_total'] = np.int64(data['floors_total'])\n",
    "data['parks_around3000'] = np.int64(data['parks_around3000'])\n",
    "data['ponds_around3000'] = np.int64(data['ponds_around3000'])\n",
    "data['days_exposition'] = np.int64(data['days_exposition'])"
   ]
  },
  {
   "cell_type": "markdown",
   "metadata": {},
   "source": [
    "Переводим столбец `first_day_exposition` в тип datetime, поскольку в столбце указана дата публикации. Точное время в столбце не указано, поэтому переводим в тип год-месяц-день."
   ]
  },
  {
   "cell_type": "code",
   "execution_count": 50,
   "metadata": {},
   "outputs": [],
   "source": [
    "data['first_day_exposition'] = pd.to_datetime(data['first_day_exposition'], format = '%Y-%m-%d')"
   ]
  },
  {
   "cell_type": "code",
   "execution_count": 51,
   "metadata": {},
   "outputs": [
    {
     "name": "stdout",
     "output_type": "stream",
     "text": [
      "<class 'pandas.core.frame.DataFrame'>\n",
      "Int64Index: 23613 entries, 0 to 23698\n",
      "Data columns (total 24 columns):\n",
      " #   Column                Non-Null Count  Dtype         \n",
      "---  ------                --------------  -----         \n",
      " 0   total_images          23613 non-null  int64         \n",
      " 1   last_price            23613 non-null  float64       \n",
      " 2   total_area            23613 non-null  float64       \n",
      " 3   first_day_exposition  23613 non-null  datetime64[ns]\n",
      " 4   rooms                 23613 non-null  int64         \n",
      " 5   ceiling_height        23613 non-null  float64       \n",
      " 6   floors_total          23613 non-null  int64         \n",
      " 7   living_area           23613 non-null  float64       \n",
      " 8   floor                 23613 non-null  int64         \n",
      " 9   is_apartment          23613 non-null  bool          \n",
      " 10  studio                23613 non-null  bool          \n",
      " 11  open_plan             23613 non-null  bool          \n",
      " 12  kitchen_area          23613 non-null  float64       \n",
      " 13  balcony               23613 non-null  int64         \n",
      " 14  locality_name         23602 non-null  object        \n",
      " 15  airports_nearest      18081 non-null  float64       \n",
      " 16  cityCenters_nearest   18104 non-null  float64       \n",
      " 17  parks_around3000      23613 non-null  int64         \n",
      " 18  parks_nearest         8045 non-null   float64       \n",
      " 19  ponds_around3000      23613 non-null  int64         \n",
      " 20  ponds_nearest         9061 non-null   float64       \n",
      " 21  days_exposition       23613 non-null  int64         \n",
      " 22  cityCenters_category  18104 non-null  object        \n",
      " 23  category_totalarea    23613 non-null  object        \n",
      "dtypes: bool(3), datetime64[ns](1), float64(9), int64(8), object(3)\n",
      "memory usage: 4.0+ MB\n"
     ]
    }
   ],
   "source": [
    "data.info()"
   ]
  },
  {
   "cell_type": "code",
   "execution_count": 52,
   "metadata": {},
   "outputs": [],
   "source": [
    "data['last_price'] = np.int64(data['last_price'])"
   ]
  },
  {
   "cell_type": "markdown",
   "metadata": {},
   "source": [
    "#### Работа с явными и неявными дубликатами"
   ]
  },
  {
   "cell_type": "markdown",
   "metadata": {},
   "source": [
    "Проверим датафрейм на наличие явных дублей, поскольку если есть полностью одинаковые объявления, то это будет говорить о сбое при выгрузке или наличии риелторов, которые выставили одинаковые объявления с владельцем квартиры."
   ]
  },
  {
   "cell_type": "code",
   "execution_count": 53,
   "metadata": {},
   "outputs": [
    {
     "data": {
      "text/plain": [
       "0"
      ]
     },
     "execution_count": 53,
     "metadata": {},
     "output_type": "execute_result"
    }
   ],
   "source": [
    "data.duplicated().sum()"
   ]
  },
  {
   "cell_type": "markdown",
   "metadata": {},
   "source": [
    "Одинаковых объявлений в данных нет."
   ]
  },
  {
   "cell_type": "markdown",
   "metadata": {},
   "source": [
    "Рассмотрим названия населенных пунктов в `locality_name` на неявные дубликаты."
   ]
  },
  {
   "cell_type": "code",
   "execution_count": 54,
   "metadata": {},
   "outputs": [
    {
     "data": {
      "text/plain": [
       "array(['Санкт-Петербург', 'посёлок Шушары', 'городской посёлок Янино-1',\n",
       "       'посёлок Парголово', 'посёлок Мурино', 'Ломоносов', 'Сертолово',\n",
       "       'Петергоф', 'Пушкин', 'деревня Кудрово', 'Коммунар', 'Колпино',\n",
       "       'поселок городского типа Красный Бор', 'Гатчина', 'поселок Мурино',\n",
       "       'деревня Фёдоровское', 'Выборг', 'Кронштадт', 'Кировск',\n",
       "       'деревня Новое Девяткино', 'посёлок Металлострой',\n",
       "       'посёлок городского типа Лебяжье',\n",
       "       'посёлок городского типа Сиверский', 'поселок Молодцово',\n",
       "       'поселок городского типа Кузьмоловский',\n",
       "       'садовое товарищество Новая Ропша', 'Павловск',\n",
       "       'деревня Пикколово', 'Всеволожск', 'Волхов', 'Кингисепп',\n",
       "       'Приозерск', 'Сестрорецк', 'деревня Куттузи', 'посёлок Аннино',\n",
       "       'поселок городского типа Ефимовский', 'посёлок Плодовое',\n",
       "       'деревня Заклинье', 'поселок Торковичи', 'поселок Первомайское',\n",
       "       'Красное Село', 'посёлок Понтонный', 'Сясьстрой', 'деревня Старая',\n",
       "       'деревня Лесколово', 'посёлок Новый Свет', 'Сланцы',\n",
       "       'село Путилово', 'Ивангород', 'Мурино', 'Шлиссельбург',\n",
       "       'Никольское', 'Зеленогорск', 'Сосновый Бор', 'поселок Новый Свет',\n",
       "       'деревня Оржицы', 'деревня Кальтино', 'Кудрово',\n",
       "       'поселок Романовка', 'посёлок Бугры', 'поселок Бугры',\n",
       "       'поселок городского типа Рощино', 'Кириши', 'Луга', 'Волосово',\n",
       "       'Отрадное', 'село Павлово', 'поселок Оредеж', 'село Копорье',\n",
       "       'посёлок городского типа Красный Бор', 'посёлок Молодёжное',\n",
       "       'Тихвин', 'посёлок Победа', 'деревня Нурма',\n",
       "       'поселок городского типа Синявино', 'Тосно',\n",
       "       'посёлок городского типа Кузьмоловский', 'посёлок Стрельна',\n",
       "       'Бокситогорск', 'посёлок Александровская', 'деревня Лопухинка',\n",
       "       'Пикалёво', 'поселок Терволово',\n",
       "       'поселок городского типа Советский', 'Подпорожье',\n",
       "       'посёлок Петровское', 'посёлок городского типа Токсово',\n",
       "       'поселок Сельцо', 'посёлок городского типа Вырица',\n",
       "       'деревня Кипень', 'деревня Келози', 'деревня Вартемяги',\n",
       "       'посёлок Тельмана', 'поселок Севастьяново',\n",
       "       'городской поселок Большая Ижора', 'городской посёлок Павлово',\n",
       "       'деревня Агалатово', 'посёлок Новогорелово',\n",
       "       'городской посёлок Лесогорский', 'деревня Лаголово',\n",
       "       'поселок Цвелодубово', 'поселок городского типа Рахья',\n",
       "       'поселок городского типа Вырица', 'деревня Белогорка',\n",
       "       'поселок Заводской', 'городской посёлок Новоселье',\n",
       "       'деревня Большие Колпаны', 'деревня Горбунки', 'деревня Батово',\n",
       "       'деревня Заневка', 'деревня Иссад', 'Приморск',\n",
       "       'городской посёлок Фёдоровское', 'деревня Мистолово',\n",
       "       'Новая Ладога', 'поселок Зимитицы', 'поселок Барышево',\n",
       "       'деревня Разметелево', 'поселок городского типа имени Свердлова',\n",
       "       'деревня Пеники', 'поселок Рябово', 'деревня Пудомяги',\n",
       "       'поселок станции Корнево', 'деревня Низино', 'деревня Бегуницы',\n",
       "       'посёлок Поляны', 'городской посёлок Мга', 'поселок Елизаветино',\n",
       "       'посёлок городского типа Кузнечное', 'деревня Колтуши',\n",
       "       'поселок Запорожское', 'посёлок городского типа Рощино',\n",
       "       'деревня Гостилицы', 'деревня Малое Карлино',\n",
       "       'посёлок Мичуринское', 'посёлок городского типа имени Морозова',\n",
       "       'посёлок Песочный', 'посёлок Сосново', 'деревня Аро',\n",
       "       'поселок Ильичёво', 'посёлок городского типа Тайцы',\n",
       "       'деревня Малое Верево', 'деревня Извара', 'поселок станции Вещево',\n",
       "       'село Паша', 'деревня Калитино', nan,\n",
       "       'посёлок городского типа Ульяновка', 'деревня Чудской Бор',\n",
       "       'поселок городского типа Дубровка', 'деревня Мины',\n",
       "       'поселок Войсковицы', 'посёлок городского типа имени Свердлова',\n",
       "       'деревня Коркино', 'посёлок Ропша',\n",
       "       'поселок городского типа Приладожский', 'посёлок Щеглово',\n",
       "       'посёлок Гаврилово', 'Лодейное Поле', 'деревня Рабитицы',\n",
       "       'поселок городского типа Никольский', 'деревня Кузьмолово',\n",
       "       'деревня Малые Колпаны', 'поселок Тельмана',\n",
       "       'посёлок Петро-Славянка', 'городской посёлок Назия',\n",
       "       'посёлок Репино', 'посёлок Ильичёво', 'поселок Углово',\n",
       "       'поселок Старая Малукса', 'садовое товарищество Рахья',\n",
       "       'поселок Аннино', 'поселок Победа', 'деревня Меньково',\n",
       "       'деревня Старые Бегуницы', 'посёлок Сапёрный', 'поселок Семрино',\n",
       "       'поселок Гаврилово', 'поселок Глажево', 'поселок Кобринское',\n",
       "       'деревня Гарболово', 'деревня Юкки',\n",
       "       'поселок станции Приветнинское', 'деревня Мануйлово',\n",
       "       'деревня Пчева', 'поселок Поляны', 'поселок Цвылёво',\n",
       "       'поселок Мельниково', 'посёлок Пудость', 'посёлок Усть-Луга',\n",
       "       'Светогорск', 'Любань', 'поселок Селезнёво',\n",
       "       'поселок городского типа Рябово', 'Каменногорск', 'деревня Кривко',\n",
       "       'поселок Глебычево', 'деревня Парицы', 'поселок Жилпосёлок',\n",
       "       'посёлок городского типа Мга', 'городской поселок Янино-1',\n",
       "       'посёлок Войскорово', 'село Никольское', 'посёлок Терволово',\n",
       "       'поселок Стеклянный', 'посёлок городского типа Важины',\n",
       "       'посёлок Мыза-Ивановка', 'село Русско-Высоцкое',\n",
       "       'поселок городского типа Лебяжье',\n",
       "       'поселок городского типа Форносово', 'село Старая Ладога',\n",
       "       'поселок Житково', 'городской посёлок Виллози', 'деревня Лампово',\n",
       "       'деревня Шпаньково', 'деревня Лаврики', 'посёлок Сумино',\n",
       "       'посёлок Возрождение', 'деревня Старосиверская',\n",
       "       'посёлок Кикерино', 'поселок Возрождение',\n",
       "       'деревня Старое Хинколово', 'посёлок Пригородный',\n",
       "       'посёлок Торфяное', 'городской посёлок Будогощь',\n",
       "       'поселок Суходолье', 'поселок Красная Долина', 'деревня Хапо-Ое',\n",
       "       'поселок городского типа Дружная Горка', 'поселок Лисий Нос',\n",
       "       'деревня Яльгелево', 'посёлок Стеклянный', 'село Рождествено',\n",
       "       'деревня Старополье', 'посёлок Левашово', 'деревня Сяськелево',\n",
       "       'деревня Камышовка',\n",
       "       'садоводческое некоммерческое товарищество Лесная Поляна',\n",
       "       'деревня Хязельки', 'поселок Жилгородок',\n",
       "       'посёлок городского типа Павлово', 'деревня Ялгино',\n",
       "       'поселок Новый Учхоз', 'городской посёлок Рощино',\n",
       "       'поселок Гончарово', 'поселок Почап', 'посёлок Сапёрное',\n",
       "       'посёлок Платформа 69-й километр', 'поселок Каложицы',\n",
       "       'деревня Фалилеево', 'деревня Пельгора',\n",
       "       'поселок городского типа Лесогорский', 'деревня Торошковичи',\n",
       "       'посёлок Белоостров', 'посёлок Алексеевка', 'поселок Серебрянский',\n",
       "       'поселок Лукаши', 'поселок Петровское', 'деревня Щеглово',\n",
       "       'поселок Мичуринское', 'деревня Тарасово', 'поселок Кингисеппский',\n",
       "       'посёлок при железнодорожной станции Вещево', 'поселок Ушаки',\n",
       "       'деревня Котлы', 'деревня Сижно', 'деревня Торосово',\n",
       "       'посёлок Форт Красная Горка', 'деревня Новолисино',\n",
       "       'посёлок станции Громово', 'деревня Глинка', 'посёлок Мельниково',\n",
       "       'поселок городского типа Назия', 'деревня Старая Пустошь',\n",
       "       'поселок Коммунары', 'поселок Починок',\n",
       "       'посёлок городского типа Вознесенье', 'деревня Разбегаево',\n",
       "       'посёлок городского типа Рябово', 'поселок Гладкое',\n",
       "       'посёлок при железнодорожной станции Приветнинское',\n",
       "       'поселок Тёсово-4', 'посёлок Жилгородок', 'деревня Бор',\n",
       "       'посёлок Коробицыно', 'деревня Большая Вруда', 'деревня Курковицы',\n",
       "       'посёлок Лисий Нос', 'городской посёлок Советский',\n",
       "       'посёлок Кобралово', 'деревня Суоранда', 'поселок Кобралово',\n",
       "       'поселок городского типа Кондратьево',\n",
       "       'коттеджный поселок Счастье', 'поселок Любань', 'деревня Реброво',\n",
       "       'деревня Зимитицы', 'деревня Тойворово', 'поселок Семиозерье',\n",
       "       'поселок Лесное', 'поселок Совхозный', 'поселок Усть-Луга',\n",
       "       'посёлок Ленинское', 'посёлок Суйда',\n",
       "       'посёлок городского типа Форносово', 'деревня Нижние Осельки',\n",
       "       'посёлок станции Свирь', 'поселок Перово', 'Высоцк',\n",
       "       'поселок Гарболово', 'село Шум', 'поселок Котельский',\n",
       "       'поселок станции Лужайка', 'деревня Большая Пустомержа',\n",
       "       'поселок Красносельское', 'деревня Вахнова Кара', 'деревня Пижма',\n",
       "       'коттеджный поселок Кивеннапа Север', 'поселок Коробицыно',\n",
       "       'поселок Ромашки', 'посёлок Перово', 'деревня Каськово',\n",
       "       'деревня Куровицы', 'посёлок Плоское', 'поселок Сумино',\n",
       "       'поселок городского типа Большая Ижора', 'поселок Кирпичное',\n",
       "       'деревня Ям-Тесово', 'деревня Раздолье', 'деревня Терпилицы',\n",
       "       'поселок городского типа Токсово', 'посёлок Шугозеро',\n",
       "       'деревня Ваганово', 'поселок Пушное', 'садовое товарищество Садко',\n",
       "       'посёлок Усть-Ижора', 'деревня Выскатка',\n",
       "       'городской посёлок Свирьстрой', 'поселок Громово',\n",
       "       'деревня Кисельня', 'посёлок Старая Малукса',\n",
       "       'деревня Трубников Бор', 'поселок Калитино',\n",
       "       'посёлок Высокоключевой', 'садовое товарищество Приладожский',\n",
       "       'посёлок Пансионат Зелёный Бор', 'деревня Ненимяки',\n",
       "       'поселок Пансионат Зелёный Бор', 'деревня Снегирёвка',\n",
       "       'деревня Рапполово', 'деревня Пустынка', 'поселок Рабитицы',\n",
       "       'деревня Большой Сабск', 'деревня Русско', 'деревня Лупполово',\n",
       "       'деревня Большое Рейзино', 'деревня Малая Романовка',\n",
       "       'поселок Дружноселье', 'поселок Пчевжа', 'поселок Володарское',\n",
       "       'деревня Нижняя', 'коттеджный посёлок Лесное', 'деревня Тихковицы',\n",
       "       'деревня Борисова Грива', 'посёлок Дзержинского'], dtype=object)"
      ]
     },
     "execution_count": 54,
     "metadata": {},
     "output_type": "execute_result"
    }
   ],
   "source": [
    "data['locality_name'].unique()"
   ]
  },
  {
   "cell_type": "markdown",
   "metadata": {},
   "source": [
    "В списке обнаружены дубликаты с разным написанием, например, городской поселок Янино-1 и городской посёлок Янино-1. Заменим ё на е, чтобы устранить дубликаты."
   ]
  },
  {
   "cell_type": "code",
   "execution_count": 55,
   "metadata": {},
   "outputs": [
    {
     "data": {
      "text/plain": [
       "array(['Санкт-Петербург', 'поселок Шушары', 'городской поселок Янино-1',\n",
       "       'поселок Парголово', 'поселок Мурино', 'Ломоносов', 'Сертолово',\n",
       "       'Петергоф', 'Пушкин', 'деревня Кудрово', 'Коммунар', 'Колпино',\n",
       "       'поселок городского типа Красный Бор', 'Гатчина',\n",
       "       'деревня Федоровское', 'Выборг', 'Кронштадт', 'Кировск',\n",
       "       'деревня Новое Девяткино', 'поселок Металлострой',\n",
       "       'поселок городского типа Лебяжье',\n",
       "       'поселок городского типа Сиверский', 'поселок Молодцово',\n",
       "       'поселок городского типа Кузьмоловский',\n",
       "       'садовое товарищество Новая Ропша', 'Павловск',\n",
       "       'деревня Пикколово', 'Всеволожск', 'Волхов', 'Кингисепп',\n",
       "       'Приозерск', 'Сестрорецк', 'деревня Куттузи', 'поселок Аннино',\n",
       "       'поселок городского типа Ефимовский', 'поселок Плодовое',\n",
       "       'деревня Заклинье', 'поселок Торковичи', 'поселок Первомайское',\n",
       "       'Красное Село', 'поселок Понтонный', 'Сясьстрой', 'деревня Старая',\n",
       "       'деревня Лесколово', 'поселок Новый Свет', 'Сланцы',\n",
       "       'село Путилово', 'Ивангород', 'Мурино', 'Шлиссельбург',\n",
       "       'Никольское', 'Зеленогорск', 'Сосновый Бор', 'деревня Оржицы',\n",
       "       'деревня Кальтино', 'Кудрово', 'поселок Романовка',\n",
       "       'поселок Бугры', 'поселок городского типа Рощино', 'Кириши',\n",
       "       'Луга', 'Волосово', 'Отрадное', 'село Павлово', 'поселок Оредеж',\n",
       "       'село Копорье', 'поселок Молодежное', 'Тихвин', 'поселок Победа',\n",
       "       'деревня Нурма', 'поселок городского типа Синявино', 'Тосно',\n",
       "       'поселок Стрельна', 'Бокситогорск', 'поселок Александровская',\n",
       "       'деревня Лопухинка', 'Пикалево', 'поселок Терволово',\n",
       "       'поселок городского типа Советский', 'Подпорожье',\n",
       "       'поселок Петровское', 'поселок городского типа Токсово',\n",
       "       'поселок Сельцо', 'поселок городского типа Вырица',\n",
       "       'деревня Кипень', 'деревня Келози', 'деревня Вартемяги',\n",
       "       'поселок Тельмана', 'поселок Севастьяново',\n",
       "       'городской поселок Большая Ижора', 'городской поселок Павлово',\n",
       "       'деревня Агалатово', 'поселок Новогорелово',\n",
       "       'городской поселок Лесогорский', 'деревня Лаголово',\n",
       "       'поселок Цвелодубово', 'поселок городского типа Рахья',\n",
       "       'деревня Белогорка', 'поселок Заводской',\n",
       "       'городской поселок Новоселье', 'деревня Большие Колпаны',\n",
       "       'деревня Горбунки', 'деревня Батово', 'деревня Заневка',\n",
       "       'деревня Иссад', 'Приморск', 'городской поселок Федоровское',\n",
       "       'деревня Мистолово', 'Новая Ладога', 'поселок Зимитицы',\n",
       "       'поселок Барышево', 'деревня Разметелево',\n",
       "       'поселок городского типа имени Свердлова', 'деревня Пеники',\n",
       "       'поселок Рябово', 'деревня Пудомяги', 'поселок станции Корнево',\n",
       "       'деревня Низино', 'деревня Бегуницы', 'поселок Поляны',\n",
       "       'городской поселок Мга', 'поселок Елизаветино',\n",
       "       'поселок городского типа Кузнечное', 'деревня Колтуши',\n",
       "       'поселок Запорожское', 'деревня Гостилицы',\n",
       "       'деревня Малое Карлино', 'поселок Мичуринское',\n",
       "       'поселок городского типа имени Морозова', 'поселок Песочный',\n",
       "       'поселок Сосново', 'деревня Аро', 'поселок Ильичево',\n",
       "       'поселок городского типа Тайцы', 'деревня Малое Верево',\n",
       "       'деревня Извара', 'поселок станции Вещево', 'село Паша',\n",
       "       'деревня Калитино', nan, 'поселок городского типа Ульяновка',\n",
       "       'деревня Чудской Бор', 'поселок городского типа Дубровка',\n",
       "       'деревня Мины', 'поселок Войсковицы', 'деревня Коркино',\n",
       "       'поселок Ропша', 'поселок городского типа Приладожский',\n",
       "       'поселок Щеглово', 'поселок Гаврилово', 'Лодейное Поле',\n",
       "       'деревня Рабитицы', 'поселок городского типа Никольский',\n",
       "       'деревня Кузьмолово', 'деревня Малые Колпаны',\n",
       "       'поселок Петро-Славянка', 'городской поселок Назия',\n",
       "       'поселок Репино', 'поселок Углово', 'поселок Старая Малукса',\n",
       "       'садовое товарищество Рахья', 'деревня Меньково',\n",
       "       'деревня Старые Бегуницы', 'поселок Саперный', 'поселок Семрино',\n",
       "       'поселок Глажево', 'поселок Кобринское', 'деревня Гарболово',\n",
       "       'деревня Юкки', 'поселок станции Приветнинское',\n",
       "       'деревня Мануйлово', 'деревня Пчева', 'поселок Цвылево',\n",
       "       'поселок Мельниково', 'поселок Пудость', 'поселок Усть-Луга',\n",
       "       'Светогорск', 'Любань', 'поселок Селезнево',\n",
       "       'поселок городского типа Рябово', 'Каменногорск', 'деревня Кривко',\n",
       "       'поселок Глебычево', 'деревня Парицы', 'поселок Жилпоселок',\n",
       "       'поселок городского типа Мга', 'поселок Войскорово',\n",
       "       'село Никольское', 'поселок Стеклянный',\n",
       "       'поселок городского типа Важины', 'поселок Мыза-Ивановка',\n",
       "       'село Русско-Высоцкое', 'поселок городского типа Форносово',\n",
       "       'село Старая Ладога', 'поселок Житково',\n",
       "       'городской поселок Виллози', 'деревня Лампово',\n",
       "       'деревня Шпаньково', 'деревня Лаврики', 'поселок Сумино',\n",
       "       'поселок Возрождение', 'деревня Старосиверская',\n",
       "       'поселок Кикерино', 'деревня Старое Хинколово',\n",
       "       'поселок Пригородный', 'поселок Торфяное',\n",
       "       'городской поселок Будогощь', 'поселок Суходолье',\n",
       "       'поселок Красная Долина', 'деревня Хапо-Ое',\n",
       "       'поселок городского типа Дружная Горка', 'поселок Лисий Нос',\n",
       "       'деревня Яльгелево', 'село Рождествено', 'деревня Старополье',\n",
       "       'поселок Левашово', 'деревня Сяськелево', 'деревня Камышовка',\n",
       "       'садоводческое некоммерческое товарищество Лесная Поляна',\n",
       "       'деревня Хязельки', 'поселок Жилгородок',\n",
       "       'поселок городского типа Павлово', 'деревня Ялгино',\n",
       "       'поселок Новый Учхоз', 'городской поселок Рощино',\n",
       "       'поселок Гончарово', 'поселок Почап', 'поселок Саперное',\n",
       "       'поселок Платформа 69-й километр', 'поселок Каложицы',\n",
       "       'деревня Фалилеево', 'деревня Пельгора',\n",
       "       'поселок городского типа Лесогорский', 'деревня Торошковичи',\n",
       "       'поселок Белоостров', 'поселок Алексеевка', 'поселок Серебрянский',\n",
       "       'поселок Лукаши', 'деревня Щеглово', 'деревня Тарасово',\n",
       "       'поселок Кингисеппский',\n",
       "       'поселок при железнодорожной станции Вещево', 'поселок Ушаки',\n",
       "       'деревня Котлы', 'деревня Сижно', 'деревня Торосово',\n",
       "       'поселок Форт Красная Горка', 'деревня Новолисино',\n",
       "       'поселок станции Громово', 'деревня Глинка',\n",
       "       'поселок городского типа Назия', 'деревня Старая Пустошь',\n",
       "       'поселок Коммунары', 'поселок Починок',\n",
       "       'поселок городского типа Вознесенье', 'деревня Разбегаево',\n",
       "       'поселок Гладкое',\n",
       "       'поселок при железнодорожной станции Приветнинское',\n",
       "       'поселок Тесово-4', 'деревня Бор', 'поселок Коробицыно',\n",
       "       'деревня Большая Вруда', 'деревня Курковицы',\n",
       "       'городской поселок Советский', 'поселок Кобралово',\n",
       "       'деревня Суоранда', 'поселок городского типа Кондратьево',\n",
       "       'коттеджный поселок Счастье', 'поселок Любань', 'деревня Реброво',\n",
       "       'деревня Зимитицы', 'деревня Тойворово', 'поселок Семиозерье',\n",
       "       'поселок Лесное', 'поселок Совхозный', 'поселок Ленинское',\n",
       "       'поселок Суйда', 'деревня Нижние Осельки', 'поселок станции Свирь',\n",
       "       'поселок Перово', 'Высоцк', 'поселок Гарболово', 'село Шум',\n",
       "       'поселок Котельский', 'поселок станции Лужайка',\n",
       "       'деревня Большая Пустомержа', 'поселок Красносельское',\n",
       "       'деревня Вахнова Кара', 'деревня Пижма',\n",
       "       'коттеджный поселок Кивеннапа Север', 'поселок Ромашки',\n",
       "       'деревня Каськово', 'деревня Куровицы', 'поселок Плоское',\n",
       "       'поселок городского типа Большая Ижора', 'поселок Кирпичное',\n",
       "       'деревня Ям-Тесово', 'деревня Раздолье', 'деревня Терпилицы',\n",
       "       'поселок Шугозеро', 'деревня Ваганово', 'поселок Пушное',\n",
       "       'садовое товарищество Садко', 'поселок Усть-Ижора',\n",
       "       'деревня Выскатка', 'городской поселок Свирьстрой',\n",
       "       'поселок Громово', 'деревня Кисельня', 'деревня Трубников Бор',\n",
       "       'поселок Калитино', 'поселок Высокоключевой',\n",
       "       'садовое товарищество Приладожский',\n",
       "       'поселок Пансионат Зеленый Бор', 'деревня Ненимяки',\n",
       "       'деревня Снегиревка', 'деревня Рапполово', 'деревня Пустынка',\n",
       "       'поселок Рабитицы', 'деревня Большой Сабск', 'деревня Русско',\n",
       "       'деревня Лупполово', 'деревня Большое Рейзино',\n",
       "       'деревня Малая Романовка', 'поселок Дружноселье', 'поселок Пчевжа',\n",
       "       'поселок Володарское', 'деревня Нижняя',\n",
       "       'коттеджный поселок Лесное', 'деревня Тихковицы',\n",
       "       'деревня Борисова Грива', 'поселок Дзержинского'], dtype=object)"
      ]
     },
     "execution_count": 55,
     "metadata": {},
     "output_type": "execute_result"
    }
   ],
   "source": [
    "data['locality_name'] = data['locality_name'].str.replace('ё', 'е')\n",
    "data['locality_name'].unique()"
   ]
  },
  {
   "cell_type": "markdown",
   "metadata": {},
   "source": [
    "Также обнаружены дубликаты с разными формулировками, такие как \"поселок городского типа Рябово\" и \"поселок Рябово\". Заменим формулировки поселка городского типа на поселок. Есть также поселок Рахья и снт Рахья, что также является дубликатами (как и садовое товарищество Приладожский и поселок с таким же названием).  Есть коттеджный поселок Лесное и поселок Лесное, что также дубликаты. \n",
    "\n",
    "Обнаружены также такие названия как поселок Зимитицы и деревня Зимитицы, но, возможно, эти места обозначают разные поселения, уточнить нет возможности, поэтому оставим как есть."
   ]
  },
  {
   "cell_type": "code",
   "execution_count": 56,
   "metadata": {},
   "outputs": [
    {
     "data": {
      "text/plain": [
       "array(['Санкт-Петербург', 'поселок Шушары', 'поселок Янино-1',\n",
       "       'поселок Парголово', 'поселок Мурино', 'Ломоносов', 'Сертолово',\n",
       "       'Петергоф', 'Пушкин', 'деревня Кудрово', 'Коммунар', 'Колпино',\n",
       "       'поселок Красный Бор', 'Гатчина', 'деревня Федоровское', 'Выборг',\n",
       "       'Кронштадт', 'Кировск', 'деревня Новое Девяткино',\n",
       "       'поселок Металлострой', 'поселок Лебяжье', 'поселок Сиверский',\n",
       "       'поселок Молодцово', 'поселок Кузьмоловский',\n",
       "       'поселок Новая Ропша', 'Павловск', 'деревня Пикколово',\n",
       "       'Всеволожск', 'Волхов', 'Кингисепп', 'Приозерск', 'Сестрорецк',\n",
       "       'деревня Куттузи', 'поселок Аннино', 'поселок Ефимовский',\n",
       "       'поселок Плодовое', 'деревня Заклинье', 'поселок Торковичи',\n",
       "       'поселок Первомайское', 'Красное Село', 'поселок Понтонный',\n",
       "       'Сясьстрой', 'деревня Старая', 'деревня Лесколово',\n",
       "       'поселок Новый Свет', 'Сланцы', 'село Путилово', 'Ивангород',\n",
       "       'Мурино', 'Шлиссельбург', 'Никольское', 'Зеленогорск',\n",
       "       'Сосновый Бор', 'деревня Оржицы', 'деревня Кальтино', 'Кудрово',\n",
       "       'поселок Романовка', 'поселок Бугры', 'поселок Рощино', 'Кириши',\n",
       "       'Луга', 'Волосово', 'Отрадное', 'село Павлово', 'поселок Оредеж',\n",
       "       'село Копорье', 'поселок Молодежное', 'Тихвин', 'поселок Победа',\n",
       "       'деревня Нурма', 'поселок Синявино', 'Тосно', 'поселок Стрельна',\n",
       "       'Бокситогорск', 'поселок Александровская', 'деревня Лопухинка',\n",
       "       'Пикалево', 'поселок Терволово', 'поселок Советский', 'Подпорожье',\n",
       "       'поселок Петровское', 'поселок Токсово', 'поселок Сельцо',\n",
       "       'поселок Вырица', 'деревня Кипень', 'деревня Келози',\n",
       "       'деревня Вартемяги', 'поселок Тельмана', 'поселок Севастьяново',\n",
       "       'поселок Большая Ижора', 'поселок Павлово', 'деревня Агалатово',\n",
       "       'поселок Новогорелово', 'поселок Лесогорский', 'деревня Лаголово',\n",
       "       'поселок Цвелодубово', 'поселок Рахья', 'деревня Белогорка',\n",
       "       'поселок Заводской', 'поселок Новоселье',\n",
       "       'деревня Большие Колпаны', 'деревня Горбунки', 'деревня Батово',\n",
       "       'деревня Заневка', 'деревня Иссад', 'Приморск',\n",
       "       'поселок Федоровское', 'деревня Мистолово', 'Новая Ладога',\n",
       "       'поселок Зимитицы', 'поселок Барышево', 'деревня Разметелево',\n",
       "       'поселок имени Свердлова', 'деревня Пеники', 'поселок Рябово',\n",
       "       'деревня Пудомяги', 'поселок станции Корнево', 'деревня Низино',\n",
       "       'деревня Бегуницы', 'поселок Поляны', 'поселок Мга',\n",
       "       'поселок Елизаветино', 'поселок Кузнечное', 'деревня Колтуши',\n",
       "       'поселок Запорожское', 'деревня Гостилицы',\n",
       "       'деревня Малое Карлино', 'поселок Мичуринское',\n",
       "       'поселок имени Морозова', 'поселок Песочный', 'поселок Сосново',\n",
       "       'деревня Аро', 'поселок Ильичево', 'поселок Тайцы',\n",
       "       'деревня Малое Верево', 'деревня Извара', 'поселок станции Вещево',\n",
       "       'село Паша', 'деревня Калитино', nan, 'поселок Ульяновка',\n",
       "       'деревня Чудской Бор', 'поселок Дубровка', 'деревня Мины',\n",
       "       'поселок Войсковицы', 'деревня Коркино', 'поселок Ропша',\n",
       "       'поселок Приладожский', 'поселок Щеглово', 'поселок Гаврилово',\n",
       "       'Лодейное Поле', 'деревня Рабитицы', 'поселок Никольский',\n",
       "       'деревня Кузьмолово', 'деревня Малые Колпаны',\n",
       "       'поселок Петро-Славянка', 'поселок Назия', 'поселок Репино',\n",
       "       'поселок Углово', 'поселок Старая Малукса', 'деревня Меньково',\n",
       "       'деревня Старые Бегуницы', 'поселок Саперный', 'поселок Семрино',\n",
       "       'поселок Глажево', 'поселок Кобринское', 'деревня Гарболово',\n",
       "       'деревня Юкки', 'поселок станции Приветнинское',\n",
       "       'деревня Мануйлово', 'деревня Пчева', 'поселок Цвылево',\n",
       "       'поселок Мельниково', 'поселок Пудость', 'поселок Усть-Луга',\n",
       "       'Светогорск', 'Любань', 'поселок Селезнево', 'Каменногорск',\n",
       "       'деревня Кривко', 'поселок Глебычево', 'деревня Парицы',\n",
       "       'поселок Жилпоселок', 'поселок Войскорово', 'село Никольское',\n",
       "       'поселок Стеклянный', 'поселок Важины', 'поселок Мыза-Ивановка',\n",
       "       'село Русско-Высоцкое', 'поселок Форносово', 'село Старая Ладога',\n",
       "       'поселок Житково', 'поселок Виллози', 'деревня Лампово',\n",
       "       'деревня Шпаньково', 'деревня Лаврики', 'поселок Сумино',\n",
       "       'поселок Возрождение', 'деревня Старосиверская',\n",
       "       'поселок Кикерино', 'деревня Старое Хинколово',\n",
       "       'поселок Пригородный', 'поселок Торфяное', 'поселок Будогощь',\n",
       "       'поселок Суходолье', 'поселок Красная Долина', 'деревня Хапо-Ое',\n",
       "       'поселок Дружная Горка', 'поселок Лисий Нос', 'деревня Яльгелево',\n",
       "       'село Рождествено', 'деревня Старополье', 'поселок Левашово',\n",
       "       'деревня Сяськелево', 'деревня Камышовка',\n",
       "       'садоводческое некоммерческое товарищество Лесная Поляна',\n",
       "       'деревня Хязельки', 'поселок Жилгородок', 'деревня Ялгино',\n",
       "       'поселок Новый Учхоз', 'поселок Гончарово', 'поселок Почап',\n",
       "       'поселок Саперное', 'поселок Платформа 69-й километр',\n",
       "       'поселок Каложицы', 'деревня Фалилеево', 'деревня Пельгора',\n",
       "       'деревня Торошковичи', 'поселок Белоостров', 'поселок Алексеевка',\n",
       "       'поселок Серебрянский', 'поселок Лукаши', 'деревня Щеглово',\n",
       "       'деревня Тарасово', 'поселок Кингисеппский', 'поселок Ушаки',\n",
       "       'деревня Котлы', 'деревня Сижно', 'деревня Торосово',\n",
       "       'поселок Форт Красная Горка', 'деревня Новолисино',\n",
       "       'поселок станции Громово', 'деревня Глинка',\n",
       "       'деревня Старая Пустошь', 'поселок Коммунары', 'поселок Починок',\n",
       "       'поселок Вознесенье', 'деревня Разбегаево', 'поселок Гладкое',\n",
       "       'поселок Тесово-4', 'деревня Бор', 'поселок Коробицыно',\n",
       "       'деревня Большая Вруда', 'деревня Курковицы', 'поселок Кобралово',\n",
       "       'деревня Суоранда', 'поселок Кондратьево', 'поселок Счастье',\n",
       "       'поселок Любань', 'деревня Реброво', 'деревня Зимитицы',\n",
       "       'деревня Тойворово', 'поселок Семиозерье', 'поселок Лесное',\n",
       "       'поселок Совхозный', 'поселок Ленинское', 'поселок Суйда',\n",
       "       'деревня Нижние Осельки', 'поселок станции Свирь',\n",
       "       'поселок Перово', 'Высоцк', 'поселок Гарболово', 'село Шум',\n",
       "       'поселок Котельский', 'поселок станции Лужайка',\n",
       "       'деревня Большая Пустомержа', 'поселок Красносельское',\n",
       "       'деревня Вахнова Кара', 'деревня Пижма', 'поселок Кивеннапа Север',\n",
       "       'поселок Ромашки', 'деревня Каськово', 'деревня Куровицы',\n",
       "       'поселок Плоское', 'поселок Кирпичное', 'деревня Ям-Тесово',\n",
       "       'деревня Раздолье', 'деревня Терпилицы', 'поселок Шугозеро',\n",
       "       'деревня Ваганово', 'поселок Пушное', 'поселок Садко',\n",
       "       'поселок Усть-Ижора', 'деревня Выскатка', 'поселок Свирьстрой',\n",
       "       'поселок Громово', 'деревня Кисельня', 'деревня Трубников Бор',\n",
       "       'поселок Калитино', 'поселок Высокоключевой',\n",
       "       'поселок Пансионат Зеленый Бор', 'деревня Ненимяки',\n",
       "       'деревня Снегиревка', 'деревня Рапполово', 'деревня Пустынка',\n",
       "       'поселок Рабитицы', 'деревня Большой Сабск', 'деревня Русско',\n",
       "       'деревня Лупполово', 'деревня Большое Рейзино',\n",
       "       'деревня Малая Романовка', 'поселок Дружноселье', 'поселок Пчевжа',\n",
       "       'поселок Володарское', 'деревня Нижняя', 'деревня Тихковицы',\n",
       "       'деревня Борисова Грива', 'поселок Дзержинского'], dtype=object)"
      ]
     },
     "execution_count": 56,
     "metadata": {},
     "output_type": "execute_result"
    }
   ],
   "source": [
    "data['locality_name'] = data['locality_name'].str.replace('поселок городского типа', 'поселок')\n",
    "data['locality_name'] = data['locality_name'].str.replace('городской поселок', 'поселок')\n",
    "data['locality_name'] = data['locality_name'].str.replace('коттеджный поселок', 'поселок')\n",
    "data['locality_name'] = data['locality_name'].str.replace('садовое товарищество', 'поселок')\n",
    "data['locality_name'] = data['locality_name'].str.replace('поселок при железнодорожной станции', 'поселок станции')\n",
    "data['locality_name'].unique()"
   ]
  },
  {
   "cell_type": "markdown",
   "metadata": {},
   "source": [
    "#### Работа с аномальными значениями"
   ]
  },
  {
   "cell_type": "markdown",
   "metadata": {},
   "source": [
    "Проверим данные на аномальные значения."
   ]
  },
  {
   "cell_type": "code",
   "execution_count": 57,
   "metadata": {},
   "outputs": [
    {
     "data": {
      "text/plain": [
       "(23613, 24)"
      ]
     },
     "execution_count": 57,
     "metadata": {},
     "output_type": "execute_result"
    }
   ],
   "source": [
    "#проверим, сколько пропусков удалено\n",
    "\n",
    "data.shape"
   ]
  },
  {
   "cell_type": "code",
   "execution_count": 58,
   "metadata": {
    "scrolled": true
   },
   "outputs": [
    {
     "data": {
      "text/html": [
       "<div>\n",
       "<style scoped>\n",
       "    .dataframe tbody tr th:only-of-type {\n",
       "        vertical-align: middle;\n",
       "    }\n",
       "\n",
       "    .dataframe tbody tr th {\n",
       "        vertical-align: top;\n",
       "    }\n",
       "\n",
       "    .dataframe thead th {\n",
       "        text-align: right;\n",
       "    }\n",
       "</style>\n",
       "<table border=\"1\" class=\"dataframe\">\n",
       "  <thead>\n",
       "    <tr style=\"text-align: right;\">\n",
       "      <th></th>\n",
       "      <th>total_images</th>\n",
       "      <th>last_price</th>\n",
       "      <th>total_area</th>\n",
       "      <th>rooms</th>\n",
       "      <th>ceiling_height</th>\n",
       "      <th>floors_total</th>\n",
       "      <th>living_area</th>\n",
       "      <th>floor</th>\n",
       "      <th>kitchen_area</th>\n",
       "      <th>balcony</th>\n",
       "      <th>airports_nearest</th>\n",
       "      <th>cityCenters_nearest</th>\n",
       "      <th>parks_around3000</th>\n",
       "      <th>parks_nearest</th>\n",
       "      <th>ponds_around3000</th>\n",
       "      <th>ponds_nearest</th>\n",
       "      <th>days_exposition</th>\n",
       "    </tr>\n",
       "  </thead>\n",
       "  <tbody>\n",
       "    <tr>\n",
       "      <th>count</th>\n",
       "      <td>23613.000000</td>\n",
       "      <td>2.361300e+04</td>\n",
       "      <td>23613.000000</td>\n",
       "      <td>23613.000000</td>\n",
       "      <td>23613.000000</td>\n",
       "      <td>23613.000000</td>\n",
       "      <td>23613.000000</td>\n",
       "      <td>23613.000000</td>\n",
       "      <td>23613.000000</td>\n",
       "      <td>23613.000000</td>\n",
       "      <td>18081.000000</td>\n",
       "      <td>18104.000000</td>\n",
       "      <td>2.361300e+04</td>\n",
       "      <td>8045.000000</td>\n",
       "      <td>2.361300e+04</td>\n",
       "      <td>9061.000000</td>\n",
       "      <td>23613.000000</td>\n",
       "    </tr>\n",
       "    <tr>\n",
       "      <th>mean</th>\n",
       "      <td>9.874518</td>\n",
       "      <td>6.540555e+06</td>\n",
       "      <td>60.340678</td>\n",
       "      <td>2.071147</td>\n",
       "      <td>2.734789</td>\n",
       "      <td>10.673824</td>\n",
       "      <td>34.361845</td>\n",
       "      <td>5.877313</td>\n",
       "      <td>10.446646</td>\n",
       "      <td>0.593063</td>\n",
       "      <td>28788.008185</td>\n",
       "      <td>14185.084015</td>\n",
       "      <td>-2.151456e+18</td>\n",
       "      <td>490.554630</td>\n",
       "      <td>-2.151456e+18</td>\n",
       "      <td>518.209469</td>\n",
       "      <td>156.586075</td>\n",
       "    </tr>\n",
       "    <tr>\n",
       "      <th>std</th>\n",
       "      <td>5.681541</td>\n",
       "      <td>1.090172e+07</td>\n",
       "      <td>35.648988</td>\n",
       "      <td>1.078380</td>\n",
       "      <td>0.994259</td>\n",
       "      <td>6.597173</td>\n",
       "      <td>21.808086</td>\n",
       "      <td>4.873539</td>\n",
       "      <td>5.676967</td>\n",
       "      <td>0.960307</td>\n",
       "      <td>12626.209956</td>\n",
       "      <td>8614.132292</td>\n",
       "      <td>3.900713e+18</td>\n",
       "      <td>341.336698</td>\n",
       "      <td>3.900713e+18</td>\n",
       "      <td>277.887489</td>\n",
       "      <td>213.502550</td>\n",
       "    </tr>\n",
       "    <tr>\n",
       "      <th>min</th>\n",
       "      <td>0.000000</td>\n",
       "      <td>1.219000e+04</td>\n",
       "      <td>12.000000</td>\n",
       "      <td>0.000000</td>\n",
       "      <td>1.000000</td>\n",
       "      <td>1.000000</td>\n",
       "      <td>2.000000</td>\n",
       "      <td>1.000000</td>\n",
       "      <td>1.300000</td>\n",
       "      <td>0.000000</td>\n",
       "      <td>0.000000</td>\n",
       "      <td>181.000000</td>\n",
       "      <td>-9.223372e+18</td>\n",
       "      <td>1.000000</td>\n",
       "      <td>-9.223372e+18</td>\n",
       "      <td>13.000000</td>\n",
       "      <td>0.000000</td>\n",
       "    </tr>\n",
       "    <tr>\n",
       "      <th>25%</th>\n",
       "      <td>6.000000</td>\n",
       "      <td>3.400000e+06</td>\n",
       "      <td>40.000000</td>\n",
       "      <td>1.000000</td>\n",
       "      <td>2.600000</td>\n",
       "      <td>5.000000</td>\n",
       "      <td>18.400000</td>\n",
       "      <td>2.000000</td>\n",
       "      <td>7.300000</td>\n",
       "      <td>0.000000</td>\n",
       "      <td>18575.000000</td>\n",
       "      <td>9233.750000</td>\n",
       "      <td>0.000000e+00</td>\n",
       "      <td>288.000000</td>\n",
       "      <td>0.000000e+00</td>\n",
       "      <td>294.000000</td>\n",
       "      <td>22.000000</td>\n",
       "    </tr>\n",
       "    <tr>\n",
       "      <th>50%</th>\n",
       "      <td>9.000000</td>\n",
       "      <td>4.650000e+06</td>\n",
       "      <td>52.000000</td>\n",
       "      <td>2.000000</td>\n",
       "      <td>2.600000</td>\n",
       "      <td>9.000000</td>\n",
       "      <td>30.000000</td>\n",
       "      <td>4.000000</td>\n",
       "      <td>9.000000</td>\n",
       "      <td>0.000000</td>\n",
       "      <td>26726.000000</td>\n",
       "      <td>13093.000000</td>\n",
       "      <td>0.000000e+00</td>\n",
       "      <td>455.000000</td>\n",
       "      <td>0.000000e+00</td>\n",
       "      <td>503.000000</td>\n",
       "      <td>73.000000</td>\n",
       "    </tr>\n",
       "    <tr>\n",
       "      <th>75%</th>\n",
       "      <td>14.000000</td>\n",
       "      <td>6.799000e+06</td>\n",
       "      <td>69.800000</td>\n",
       "      <td>3.000000</td>\n",
       "      <td>2.770000</td>\n",
       "      <td>16.000000</td>\n",
       "      <td>41.500000</td>\n",
       "      <td>8.000000</td>\n",
       "      <td>11.500000</td>\n",
       "      <td>1.000000</td>\n",
       "      <td>37242.000000</td>\n",
       "      <td>16287.000000</td>\n",
       "      <td>1.000000e+00</td>\n",
       "      <td>612.000000</td>\n",
       "      <td>1.000000e+00</td>\n",
       "      <td>730.000000</td>\n",
       "      <td>199.000000</td>\n",
       "    </tr>\n",
       "    <tr>\n",
       "      <th>max</th>\n",
       "      <td>50.000000</td>\n",
       "      <td>7.630000e+08</td>\n",
       "      <td>900.000000</td>\n",
       "      <td>19.000000</td>\n",
       "      <td>100.000000</td>\n",
       "      <td>60.000000</td>\n",
       "      <td>409.700000</td>\n",
       "      <td>33.000000</td>\n",
       "      <td>112.000000</td>\n",
       "      <td>5.000000</td>\n",
       "      <td>84869.000000</td>\n",
       "      <td>65968.000000</td>\n",
       "      <td>3.000000e+00</td>\n",
       "      <td>3190.000000</td>\n",
       "      <td>3.000000e+00</td>\n",
       "      <td>1344.000000</td>\n",
       "      <td>1580.000000</td>\n",
       "    </tr>\n",
       "  </tbody>\n",
       "</table>\n",
       "</div>"
      ],
      "text/plain": [
       "       total_images    last_price    total_area         rooms  ceiling_height  \\\n",
       "count  23613.000000  2.361300e+04  23613.000000  23613.000000    23613.000000   \n",
       "mean       9.874518  6.540555e+06     60.340678      2.071147        2.734789   \n",
       "std        5.681541  1.090172e+07     35.648988      1.078380        0.994259   \n",
       "min        0.000000  1.219000e+04     12.000000      0.000000        1.000000   \n",
       "25%        6.000000  3.400000e+06     40.000000      1.000000        2.600000   \n",
       "50%        9.000000  4.650000e+06     52.000000      2.000000        2.600000   \n",
       "75%       14.000000  6.799000e+06     69.800000      3.000000        2.770000   \n",
       "max       50.000000  7.630000e+08    900.000000     19.000000      100.000000   \n",
       "\n",
       "       floors_total   living_area         floor  kitchen_area       balcony  \\\n",
       "count  23613.000000  23613.000000  23613.000000  23613.000000  23613.000000   \n",
       "mean      10.673824     34.361845      5.877313     10.446646      0.593063   \n",
       "std        6.597173     21.808086      4.873539      5.676967      0.960307   \n",
       "min        1.000000      2.000000      1.000000      1.300000      0.000000   \n",
       "25%        5.000000     18.400000      2.000000      7.300000      0.000000   \n",
       "50%        9.000000     30.000000      4.000000      9.000000      0.000000   \n",
       "75%       16.000000     41.500000      8.000000     11.500000      1.000000   \n",
       "max       60.000000    409.700000     33.000000    112.000000      5.000000   \n",
       "\n",
       "       airports_nearest  cityCenters_nearest  parks_around3000  parks_nearest  \\\n",
       "count      18081.000000         18104.000000      2.361300e+04    8045.000000   \n",
       "mean       28788.008185         14185.084015     -2.151456e+18     490.554630   \n",
       "std        12626.209956          8614.132292      3.900713e+18     341.336698   \n",
       "min            0.000000           181.000000     -9.223372e+18       1.000000   \n",
       "25%        18575.000000          9233.750000      0.000000e+00     288.000000   \n",
       "50%        26726.000000         13093.000000      0.000000e+00     455.000000   \n",
       "75%        37242.000000         16287.000000      1.000000e+00     612.000000   \n",
       "max        84869.000000         65968.000000      3.000000e+00    3190.000000   \n",
       "\n",
       "       ponds_around3000  ponds_nearest  days_exposition  \n",
       "count      2.361300e+04    9061.000000     23613.000000  \n",
       "mean      -2.151456e+18     518.209469       156.586075  \n",
       "std        3.900713e+18     277.887489       213.502550  \n",
       "min       -9.223372e+18      13.000000         0.000000  \n",
       "25%        0.000000e+00     294.000000        22.000000  \n",
       "50%        0.000000e+00     503.000000        73.000000  \n",
       "75%        1.000000e+00     730.000000       199.000000  \n",
       "max        3.000000e+00    1344.000000      1580.000000  "
      ]
     },
     "execution_count": 58,
     "metadata": {},
     "output_type": "execute_result"
    }
   ],
   "source": [
    "data.describe()"
   ]
  },
  {
   "cell_type": "code",
   "execution_count": 59,
   "metadata": {
    "scrolled": true
   },
   "outputs": [
    {
     "data": {
      "text/plain": [
       "array([  2.7 ,   2.6 ,   3.  ,   3.03,   2.5 ,   2.67,   2.55,   2.56,\n",
       "         3.05,   2.75,   2.9 ,   2.8 ,   2.65,   3.2 ,   2.61,   3.25,\n",
       "         3.45,   2.77,   2.85,   2.64,   2.57,   4.15,   3.5 ,   3.3 ,\n",
       "         2.71,   4.  ,   2.47,   2.73,   2.84,   3.1 ,   2.34,   3.4 ,\n",
       "         3.06,   2.72,   2.54,   2.51,   2.78,   2.76,  25.  ,   2.58,\n",
       "         3.7 ,   2.52,   5.2 ,   2.87,   2.66,   2.59,   2.  ,   2.45,\n",
       "         3.6 ,   2.92,   3.11,   3.13,   3.8 ,   3.15,   3.55,   3.16,\n",
       "         3.62,   3.12,   2.53,   2.74,   2.96,   2.46,   5.3 ,   5.  ,\n",
       "         2.79,   2.95,   4.06,   2.94,   3.82,   3.54,   3.53,   2.83,\n",
       "         4.7 ,   2.4 ,   3.38,   3.01,   5.6 ,   3.65,   3.9 ,   3.18,\n",
       "         3.35,   2.3 ,   3.57,   2.48,   2.62,   2.82,   3.98,   2.63,\n",
       "         3.83,   3.52,   3.95,   3.75,   2.88,   3.67,   3.87,   3.66,\n",
       "         3.85,   3.86,   4.19,   3.24,   4.8 ,   4.5 ,   4.2 ,   3.36,\n",
       "        32.  ,   3.08,   3.68,   3.07,   3.37,   3.09,   8.  ,   3.26,\n",
       "         3.34,   2.81,   3.44,   2.97,   3.14,   4.37,   2.68,   3.22,\n",
       "         3.27,  27.  ,   4.1 ,   2.93,   3.46,  24.  ,   3.47,   3.33,\n",
       "         3.63,   3.32,  26.  ,   1.2 ,   8.3 ,   2.98,   2.86,   3.17,\n",
       "         4.4 ,   3.28,   3.04,   4.45,   5.5 ,   3.84,   3.23,   3.02,\n",
       "         3.21,   3.43,   3.78,   4.3 ,   3.39,   2.69,   3.31,   4.65,\n",
       "         3.56,   2.2 ,   3.51,   3.93,   3.42,   2.99,   3.49,  14.  ,\n",
       "         4.14,   2.91,   3.88,   1.75,   4.25,   3.29,  20.  ,   2.25,\n",
       "         3.76,   3.69,   6.  ,  22.6 ,   2.89,   3.58,   5.8 ,  27.5 ,\n",
       "         2.49,   4.9 ,   3.48,  10.3 ,   1.  , 100.  ,   3.59])"
      ]
     },
     "execution_count": 59,
     "metadata": {},
     "output_type": "execute_result"
    }
   ],
   "source": [
    "data['ceiling_height'].unique()"
   ]
  },
  {
   "cell_type": "markdown",
   "metadata": {},
   "source": [
    "Есть аномальные значение, такие как 100, 25, 32 и т.д. Логично предположить, что это значения 2.5, 3.2. "
   ]
  },
  {
   "cell_type": "code",
   "execution_count": 60,
   "metadata": {},
   "outputs": [],
   "source": [
    "def calculate_height(height):\n",
    "    if height >= 10:\n",
    "        height = height*0.1\n",
    "    return height"
   ]
  },
  {
   "cell_type": "code",
   "execution_count": 61,
   "metadata": {},
   "outputs": [],
   "source": [
    "data['ceiling_height'] = data['ceiling_height'].apply(calculate_height)"
   ]
  },
  {
   "cell_type": "code",
   "execution_count": 62,
   "metadata": {},
   "outputs": [
    {
     "data": {
      "text/plain": [
       "array([ 2.7 ,  2.6 ,  3.  ,  3.03,  2.5 ,  2.67,  2.55,  2.56,  3.05,\n",
       "        2.75,  2.9 ,  2.8 ,  2.65,  3.2 ,  2.61,  3.25,  3.45,  2.77,\n",
       "        2.85,  2.64,  2.57,  4.15,  3.5 ,  3.3 ,  2.71,  4.  ,  2.47,\n",
       "        2.73,  2.84,  3.1 ,  2.34,  3.4 ,  3.06,  2.72,  2.54,  2.51,\n",
       "        2.78,  2.76,  2.58,  3.7 ,  2.52,  5.2 ,  2.87,  2.66,  2.59,\n",
       "        2.  ,  2.45,  3.6 ,  2.92,  3.11,  3.13,  3.8 ,  3.15,  3.55,\n",
       "        3.16,  3.62,  3.12,  2.53,  2.74,  2.96,  2.46,  5.3 ,  5.  ,\n",
       "        2.79,  2.95,  4.06,  2.94,  3.82,  3.54,  3.53,  2.83,  4.7 ,\n",
       "        2.4 ,  3.38,  3.01,  5.6 ,  3.65,  3.9 ,  3.18,  3.35,  2.3 ,\n",
       "        3.57,  2.48,  2.62,  2.82,  3.98,  2.63,  3.83,  3.52,  3.95,\n",
       "        3.75,  2.88,  3.67,  3.87,  3.66,  3.85,  3.86,  4.19,  3.24,\n",
       "        4.8 ,  4.5 ,  4.2 ,  3.36,  3.08,  3.68,  3.07,  3.37,  3.09,\n",
       "        8.  ,  3.26,  3.34,  2.81,  3.44,  2.97,  3.14,  4.37,  2.68,\n",
       "        3.22,  3.27,  4.1 ,  2.93,  3.46,  2.4 ,  3.47,  3.33,  3.63,\n",
       "        3.32,  1.2 ,  8.3 ,  2.98,  2.86,  3.17,  4.4 ,  3.28,  3.04,\n",
       "        4.45,  5.5 ,  3.84,  3.23,  3.02,  3.21,  3.43,  3.78,  4.3 ,\n",
       "        3.39,  2.69,  3.31,  4.65,  3.56,  2.2 ,  3.51,  3.93,  3.42,\n",
       "        2.99,  3.49,  1.4 ,  4.14,  2.91,  3.88,  1.75,  4.25,  3.29,\n",
       "        2.25,  3.76,  3.69,  6.  ,  2.26,  2.89,  3.58,  5.8 ,  2.49,\n",
       "        4.9 ,  3.48,  1.03,  1.  , 10.  ,  3.59])"
      ]
     },
     "execution_count": 62,
     "metadata": {},
     "output_type": "execute_result"
    }
   ],
   "source": [
    "data['ceiling_height'].unique()"
   ]
  },
  {
   "cell_type": "markdown",
   "metadata": {},
   "source": [
    "Высота потолка в квартире по нормам в жилых помещениях должна составлять не менее 2,5 м., а в коридорах, прихожих и холлах - не менее 2,1 м. Поэтому ниже этого значения помещения считаются нежилыми. Посмотрим, сколько у нас в датасете строк с потолками ниже 2,1 м."
   ]
  },
  {
   "cell_type": "code",
   "execution_count": 63,
   "metadata": {},
   "outputs": [
    {
     "data": {
      "text/html": [
       "<div>\n",
       "<style scoped>\n",
       "    .dataframe tbody tr th:only-of-type {\n",
       "        vertical-align: middle;\n",
       "    }\n",
       "\n",
       "    .dataframe tbody tr th {\n",
       "        vertical-align: top;\n",
       "    }\n",
       "\n",
       "    .dataframe thead th {\n",
       "        text-align: right;\n",
       "    }\n",
       "</style>\n",
       "<table border=\"1\" class=\"dataframe\">\n",
       "  <thead>\n",
       "    <tr style=\"text-align: right;\">\n",
       "      <th></th>\n",
       "      <th>total_images</th>\n",
       "      <th>last_price</th>\n",
       "      <th>total_area</th>\n",
       "      <th>first_day_exposition</th>\n",
       "      <th>rooms</th>\n",
       "      <th>ceiling_height</th>\n",
       "      <th>floors_total</th>\n",
       "      <th>living_area</th>\n",
       "      <th>floor</th>\n",
       "      <th>is_apartment</th>\n",
       "      <th>...</th>\n",
       "      <th>locality_name</th>\n",
       "      <th>airports_nearest</th>\n",
       "      <th>cityCenters_nearest</th>\n",
       "      <th>parks_around3000</th>\n",
       "      <th>parks_nearest</th>\n",
       "      <th>ponds_around3000</th>\n",
       "      <th>ponds_nearest</th>\n",
       "      <th>days_exposition</th>\n",
       "      <th>cityCenters_category</th>\n",
       "      <th>category_totalarea</th>\n",
       "    </tr>\n",
       "  </thead>\n",
       "  <tbody>\n",
       "    <tr>\n",
       "      <th>552</th>\n",
       "      <td>11</td>\n",
       "      <td>2999000</td>\n",
       "      <td>33.50</td>\n",
       "      <td>2017-03-30</td>\n",
       "      <td>1</td>\n",
       "      <td>2.00</td>\n",
       "      <td>15</td>\n",
       "      <td>17.5</td>\n",
       "      <td>6</td>\n",
       "      <td>True</td>\n",
       "      <td>...</td>\n",
       "      <td>Санкт-Петербург</td>\n",
       "      <td>33972.0</td>\n",
       "      <td>11746.0</td>\n",
       "      <td>1</td>\n",
       "      <td>520.0</td>\n",
       "      <td>1</td>\n",
       "      <td>949.0</td>\n",
       "      <td>270</td>\n",
       "      <td>в городе</td>\n",
       "      <td>средняя площадь</td>\n",
       "    </tr>\n",
       "    <tr>\n",
       "      <th>2572</th>\n",
       "      <td>4</td>\n",
       "      <td>2400000</td>\n",
       "      <td>62.00</td>\n",
       "      <td>2018-12-27</td>\n",
       "      <td>3</td>\n",
       "      <td>2.00</td>\n",
       "      <td>5</td>\n",
       "      <td>40.0</td>\n",
       "      <td>4</td>\n",
       "      <td>True</td>\n",
       "      <td>...</td>\n",
       "      <td>Луга</td>\n",
       "      <td>NaN</td>\n",
       "      <td>NaN</td>\n",
       "      <td>-9223372036854775808</td>\n",
       "      <td>NaN</td>\n",
       "      <td>-9223372036854775808</td>\n",
       "      <td>NaN</td>\n",
       "      <td>0</td>\n",
       "      <td>None</td>\n",
       "      <td>большая площадь</td>\n",
       "    </tr>\n",
       "    <tr>\n",
       "      <th>4212</th>\n",
       "      <td>1</td>\n",
       "      <td>2120000</td>\n",
       "      <td>35.43</td>\n",
       "      <td>2017-12-18</td>\n",
       "      <td>1</td>\n",
       "      <td>2.00</td>\n",
       "      <td>18</td>\n",
       "      <td>16.6</td>\n",
       "      <td>9</td>\n",
       "      <td>True</td>\n",
       "      <td>...</td>\n",
       "      <td>Тосно</td>\n",
       "      <td>NaN</td>\n",
       "      <td>NaN</td>\n",
       "      <td>-9223372036854775808</td>\n",
       "      <td>NaN</td>\n",
       "      <td>-9223372036854775808</td>\n",
       "      <td>NaN</td>\n",
       "      <td>36</td>\n",
       "      <td>None</td>\n",
       "      <td>средняя площадь</td>\n",
       "    </tr>\n",
       "    <tr>\n",
       "      <th>5712</th>\n",
       "      <td>5</td>\n",
       "      <td>1500000</td>\n",
       "      <td>42.80</td>\n",
       "      <td>2017-08-14</td>\n",
       "      <td>2</td>\n",
       "      <td>1.20</td>\n",
       "      <td>2</td>\n",
       "      <td>27.5</td>\n",
       "      <td>1</td>\n",
       "      <td>True</td>\n",
       "      <td>...</td>\n",
       "      <td>поселок Мга</td>\n",
       "      <td>NaN</td>\n",
       "      <td>NaN</td>\n",
       "      <td>-9223372036854775808</td>\n",
       "      <td>NaN</td>\n",
       "      <td>-9223372036854775808</td>\n",
       "      <td>NaN</td>\n",
       "      <td>248</td>\n",
       "      <td>None</td>\n",
       "      <td>средняя площадь</td>\n",
       "    </tr>\n",
       "    <tr>\n",
       "      <th>5850</th>\n",
       "      <td>9</td>\n",
       "      <td>1650000</td>\n",
       "      <td>35.50</td>\n",
       "      <td>2018-05-29</td>\n",
       "      <td>1</td>\n",
       "      <td>2.00</td>\n",
       "      <td>5</td>\n",
       "      <td>18.4</td>\n",
       "      <td>5</td>\n",
       "      <td>True</td>\n",
       "      <td>...</td>\n",
       "      <td>Луга</td>\n",
       "      <td>NaN</td>\n",
       "      <td>NaN</td>\n",
       "      <td>-9223372036854775808</td>\n",
       "      <td>NaN</td>\n",
       "      <td>-9223372036854775808</td>\n",
       "      <td>NaN</td>\n",
       "      <td>100</td>\n",
       "      <td>None</td>\n",
       "      <td>средняя площадь</td>\n",
       "    </tr>\n",
       "    <tr>\n",
       "      <th>11352</th>\n",
       "      <td>4</td>\n",
       "      <td>3300000</td>\n",
       "      <td>36.00</td>\n",
       "      <td>2017-06-18</td>\n",
       "      <td>1</td>\n",
       "      <td>2.00</td>\n",
       "      <td>17</td>\n",
       "      <td>15.2</td>\n",
       "      <td>12</td>\n",
       "      <td>True</td>\n",
       "      <td>...</td>\n",
       "      <td>поселок Металлострой</td>\n",
       "      <td>25268.0</td>\n",
       "      <td>26980.0</td>\n",
       "      <td>0</td>\n",
       "      <td>NaN</td>\n",
       "      <td>0</td>\n",
       "      <td>NaN</td>\n",
       "      <td>53</td>\n",
       "      <td>окраина</td>\n",
       "      <td>средняя площадь</td>\n",
       "    </tr>\n",
       "    <tr>\n",
       "      <th>15061</th>\n",
       "      <td>19</td>\n",
       "      <td>5600000</td>\n",
       "      <td>56.40</td>\n",
       "      <td>2018-05-11</td>\n",
       "      <td>2</td>\n",
       "      <td>1.40</td>\n",
       "      <td>14</td>\n",
       "      <td>32.4</td>\n",
       "      <td>5</td>\n",
       "      <td>True</td>\n",
       "      <td>...</td>\n",
       "      <td>Санкт-Петербург</td>\n",
       "      <td>14814.0</td>\n",
       "      <td>13610.0</td>\n",
       "      <td>0</td>\n",
       "      <td>NaN</td>\n",
       "      <td>0</td>\n",
       "      <td>NaN</td>\n",
       "      <td>315</td>\n",
       "      <td>в городе</td>\n",
       "      <td>большая площадь</td>\n",
       "    </tr>\n",
       "    <tr>\n",
       "      <th>16446</th>\n",
       "      <td>6</td>\n",
       "      <td>12300000</td>\n",
       "      <td>88.30</td>\n",
       "      <td>2019-03-12</td>\n",
       "      <td>3</td>\n",
       "      <td>2.00</td>\n",
       "      <td>5</td>\n",
       "      <td>63.9</td>\n",
       "      <td>2</td>\n",
       "      <td>True</td>\n",
       "      <td>...</td>\n",
       "      <td>Санкт-Петербург</td>\n",
       "      <td>38415.0</td>\n",
       "      <td>7675.0</td>\n",
       "      <td>1</td>\n",
       "      <td>568.0</td>\n",
       "      <td>1</td>\n",
       "      <td>154.0</td>\n",
       "      <td>0</td>\n",
       "      <td>близко к центру</td>\n",
       "      <td>большая площадь</td>\n",
       "    </tr>\n",
       "    <tr>\n",
       "      <th>16884</th>\n",
       "      <td>0</td>\n",
       "      <td>1500000</td>\n",
       "      <td>33.00</td>\n",
       "      <td>2018-10-03</td>\n",
       "      <td>1</td>\n",
       "      <td>2.00</td>\n",
       "      <td>5</td>\n",
       "      <td>20.0</td>\n",
       "      <td>5</td>\n",
       "      <td>False</td>\n",
       "      <td>...</td>\n",
       "      <td>Выборг</td>\n",
       "      <td>NaN</td>\n",
       "      <td>NaN</td>\n",
       "      <td>-9223372036854775808</td>\n",
       "      <td>NaN</td>\n",
       "      <td>-9223372036854775808</td>\n",
       "      <td>NaN</td>\n",
       "      <td>6</td>\n",
       "      <td>None</td>\n",
       "      <td>средняя площадь</td>\n",
       "    </tr>\n",
       "    <tr>\n",
       "      <th>16934</th>\n",
       "      <td>5</td>\n",
       "      <td>4100000</td>\n",
       "      <td>40.00</td>\n",
       "      <td>2017-10-17</td>\n",
       "      <td>1</td>\n",
       "      <td>1.75</td>\n",
       "      <td>37</td>\n",
       "      <td>17.4</td>\n",
       "      <td>5</td>\n",
       "      <td>True</td>\n",
       "      <td>...</td>\n",
       "      <td>Санкт-Петербург</td>\n",
       "      <td>18732.0</td>\n",
       "      <td>20444.0</td>\n",
       "      <td>0</td>\n",
       "      <td>NaN</td>\n",
       "      <td>3</td>\n",
       "      <td>80.0</td>\n",
       "      <td>71</td>\n",
       "      <td>окраина</td>\n",
       "      <td>средняя площадь</td>\n",
       "    </tr>\n",
       "    <tr>\n",
       "      <th>17496</th>\n",
       "      <td>15</td>\n",
       "      <td>6700000</td>\n",
       "      <td>92.90</td>\n",
       "      <td>2019-02-19</td>\n",
       "      <td>3</td>\n",
       "      <td>2.00</td>\n",
       "      <td>17</td>\n",
       "      <td>53.2</td>\n",
       "      <td>14</td>\n",
       "      <td>True</td>\n",
       "      <td>...</td>\n",
       "      <td>Санкт-Петербург</td>\n",
       "      <td>16295.0</td>\n",
       "      <td>15092.0</td>\n",
       "      <td>1</td>\n",
       "      <td>967.0</td>\n",
       "      <td>0</td>\n",
       "      <td>NaN</td>\n",
       "      <td>0</td>\n",
       "      <td>в городе</td>\n",
       "      <td>большая площадь</td>\n",
       "    </tr>\n",
       "    <tr>\n",
       "      <th>19098</th>\n",
       "      <td>7</td>\n",
       "      <td>2700000</td>\n",
       "      <td>56.00</td>\n",
       "      <td>2018-02-04</td>\n",
       "      <td>3</td>\n",
       "      <td>2.00</td>\n",
       "      <td>5</td>\n",
       "      <td>46.0</td>\n",
       "      <td>1</td>\n",
       "      <td>True</td>\n",
       "      <td>...</td>\n",
       "      <td>Выборг</td>\n",
       "      <td>NaN</td>\n",
       "      <td>NaN</td>\n",
       "      <td>-9223372036854775808</td>\n",
       "      <td>NaN</td>\n",
       "      <td>-9223372036854775808</td>\n",
       "      <td>NaN</td>\n",
       "      <td>282</td>\n",
       "      <td>None</td>\n",
       "      <td>большая площадь</td>\n",
       "    </tr>\n",
       "    <tr>\n",
       "      <th>19329</th>\n",
       "      <td>5</td>\n",
       "      <td>1700000</td>\n",
       "      <td>40.00</td>\n",
       "      <td>2018-07-15</td>\n",
       "      <td>2</td>\n",
       "      <td>2.00</td>\n",
       "      <td>9</td>\n",
       "      <td>18.4</td>\n",
       "      <td>8</td>\n",
       "      <td>True</td>\n",
       "      <td>...</td>\n",
       "      <td>Сосновый Бор</td>\n",
       "      <td>NaN</td>\n",
       "      <td>NaN</td>\n",
       "      <td>-9223372036854775808</td>\n",
       "      <td>NaN</td>\n",
       "      <td>-9223372036854775808</td>\n",
       "      <td>NaN</td>\n",
       "      <td>45</td>\n",
       "      <td>None</td>\n",
       "      <td>средняя площадь</td>\n",
       "    </tr>\n",
       "    <tr>\n",
       "      <th>20520</th>\n",
       "      <td>9</td>\n",
       "      <td>3600000</td>\n",
       "      <td>38.00</td>\n",
       "      <td>2018-07-05</td>\n",
       "      <td>1</td>\n",
       "      <td>2.00</td>\n",
       "      <td>12</td>\n",
       "      <td>15.0</td>\n",
       "      <td>9</td>\n",
       "      <td>True</td>\n",
       "      <td>...</td>\n",
       "      <td>Кудрово</td>\n",
       "      <td>NaN</td>\n",
       "      <td>NaN</td>\n",
       "      <td>-9223372036854775808</td>\n",
       "      <td>NaN</td>\n",
       "      <td>-9223372036854775808</td>\n",
       "      <td>NaN</td>\n",
       "      <td>62</td>\n",
       "      <td>None</td>\n",
       "      <td>средняя площадь</td>\n",
       "    </tr>\n",
       "    <tr>\n",
       "      <th>22309</th>\n",
       "      <td>20</td>\n",
       "      <td>5300000</td>\n",
       "      <td>45.00</td>\n",
       "      <td>2017-09-30</td>\n",
       "      <td>1</td>\n",
       "      <td>1.03</td>\n",
       "      <td>16</td>\n",
       "      <td>15.5</td>\n",
       "      <td>15</td>\n",
       "      <td>True</td>\n",
       "      <td>...</td>\n",
       "      <td>Санкт-Петербург</td>\n",
       "      <td>36353.0</td>\n",
       "      <td>11936.0</td>\n",
       "      <td>2</td>\n",
       "      <td>440.0</td>\n",
       "      <td>2</td>\n",
       "      <td>450.0</td>\n",
       "      <td>136</td>\n",
       "      <td>в городе</td>\n",
       "      <td>средняя площадь</td>\n",
       "    </tr>\n",
       "    <tr>\n",
       "      <th>22590</th>\n",
       "      <td>16</td>\n",
       "      <td>6000000</td>\n",
       "      <td>55.00</td>\n",
       "      <td>2018-10-31</td>\n",
       "      <td>2</td>\n",
       "      <td>1.00</td>\n",
       "      <td>12</td>\n",
       "      <td>32.4</td>\n",
       "      <td>7</td>\n",
       "      <td>True</td>\n",
       "      <td>...</td>\n",
       "      <td>Санкт-Петербург</td>\n",
       "      <td>33053.0</td>\n",
       "      <td>14217.0</td>\n",
       "      <td>2</td>\n",
       "      <td>293.0</td>\n",
       "      <td>2</td>\n",
       "      <td>289.0</td>\n",
       "      <td>13</td>\n",
       "      <td>в городе</td>\n",
       "      <td>большая площадь</td>\n",
       "    </tr>\n",
       "    <tr>\n",
       "      <th>22960</th>\n",
       "      <td>17</td>\n",
       "      <td>2300000</td>\n",
       "      <td>53.60</td>\n",
       "      <td>2018-10-18</td>\n",
       "      <td>2</td>\n",
       "      <td>2.00</td>\n",
       "      <td>2</td>\n",
       "      <td>19.0</td>\n",
       "      <td>1</td>\n",
       "      <td>True</td>\n",
       "      <td>...</td>\n",
       "      <td>Всеволожск</td>\n",
       "      <td>NaN</td>\n",
       "      <td>NaN</td>\n",
       "      <td>-9223372036854775808</td>\n",
       "      <td>NaN</td>\n",
       "      <td>-9223372036854775808</td>\n",
       "      <td>NaN</td>\n",
       "      <td>0</td>\n",
       "      <td>None</td>\n",
       "      <td>большая площадь</td>\n",
       "    </tr>\n",
       "  </tbody>\n",
       "</table>\n",
       "<p>17 rows × 24 columns</p>\n",
       "</div>"
      ],
      "text/plain": [
       "       total_images  last_price  total_area first_day_exposition  rooms  \\\n",
       "552              11     2999000       33.50           2017-03-30      1   \n",
       "2572              4     2400000       62.00           2018-12-27      3   \n",
       "4212              1     2120000       35.43           2017-12-18      1   \n",
       "5712              5     1500000       42.80           2017-08-14      2   \n",
       "5850              9     1650000       35.50           2018-05-29      1   \n",
       "11352             4     3300000       36.00           2017-06-18      1   \n",
       "15061            19     5600000       56.40           2018-05-11      2   \n",
       "16446             6    12300000       88.30           2019-03-12      3   \n",
       "16884             0     1500000       33.00           2018-10-03      1   \n",
       "16934             5     4100000       40.00           2017-10-17      1   \n",
       "17496            15     6700000       92.90           2019-02-19      3   \n",
       "19098             7     2700000       56.00           2018-02-04      3   \n",
       "19329             5     1700000       40.00           2018-07-15      2   \n",
       "20520             9     3600000       38.00           2018-07-05      1   \n",
       "22309            20     5300000       45.00           2017-09-30      1   \n",
       "22590            16     6000000       55.00           2018-10-31      2   \n",
       "22960            17     2300000       53.60           2018-10-18      2   \n",
       "\n",
       "       ceiling_height  floors_total  living_area  floor  is_apartment  ...  \\\n",
       "552              2.00            15         17.5      6          True  ...   \n",
       "2572             2.00             5         40.0      4          True  ...   \n",
       "4212             2.00            18         16.6      9          True  ...   \n",
       "5712             1.20             2         27.5      1          True  ...   \n",
       "5850             2.00             5         18.4      5          True  ...   \n",
       "11352            2.00            17         15.2     12          True  ...   \n",
       "15061            1.40            14         32.4      5          True  ...   \n",
       "16446            2.00             5         63.9      2          True  ...   \n",
       "16884            2.00             5         20.0      5         False  ...   \n",
       "16934            1.75            37         17.4      5          True  ...   \n",
       "17496            2.00            17         53.2     14          True  ...   \n",
       "19098            2.00             5         46.0      1          True  ...   \n",
       "19329            2.00             9         18.4      8          True  ...   \n",
       "20520            2.00            12         15.0      9          True  ...   \n",
       "22309            1.03            16         15.5     15          True  ...   \n",
       "22590            1.00            12         32.4      7          True  ...   \n",
       "22960            2.00             2         19.0      1          True  ...   \n",
       "\n",
       "              locality_name  airports_nearest  cityCenters_nearest  \\\n",
       "552         Санкт-Петербург           33972.0              11746.0   \n",
       "2572                   Луга               NaN                  NaN   \n",
       "4212                  Тосно               NaN                  NaN   \n",
       "5712            поселок Мга               NaN                  NaN   \n",
       "5850                   Луга               NaN                  NaN   \n",
       "11352  поселок Металлострой           25268.0              26980.0   \n",
       "15061       Санкт-Петербург           14814.0              13610.0   \n",
       "16446       Санкт-Петербург           38415.0               7675.0   \n",
       "16884                Выборг               NaN                  NaN   \n",
       "16934       Санкт-Петербург           18732.0              20444.0   \n",
       "17496       Санкт-Петербург           16295.0              15092.0   \n",
       "19098                Выборг               NaN                  NaN   \n",
       "19329          Сосновый Бор               NaN                  NaN   \n",
       "20520               Кудрово               NaN                  NaN   \n",
       "22309       Санкт-Петербург           36353.0              11936.0   \n",
       "22590       Санкт-Петербург           33053.0              14217.0   \n",
       "22960            Всеволожск               NaN                  NaN   \n",
       "\n",
       "          parks_around3000 parks_nearest     ponds_around3000  ponds_nearest  \\\n",
       "552                      1         520.0                    1          949.0   \n",
       "2572  -9223372036854775808           NaN -9223372036854775808            NaN   \n",
       "4212  -9223372036854775808           NaN -9223372036854775808            NaN   \n",
       "5712  -9223372036854775808           NaN -9223372036854775808            NaN   \n",
       "5850  -9223372036854775808           NaN -9223372036854775808            NaN   \n",
       "11352                    0           NaN                    0            NaN   \n",
       "15061                    0           NaN                    0            NaN   \n",
       "16446                    1         568.0                    1          154.0   \n",
       "16884 -9223372036854775808           NaN -9223372036854775808            NaN   \n",
       "16934                    0           NaN                    3           80.0   \n",
       "17496                    1         967.0                    0            NaN   \n",
       "19098 -9223372036854775808           NaN -9223372036854775808            NaN   \n",
       "19329 -9223372036854775808           NaN -9223372036854775808            NaN   \n",
       "20520 -9223372036854775808           NaN -9223372036854775808            NaN   \n",
       "22309                    2         440.0                    2          450.0   \n",
       "22590                    2         293.0                    2          289.0   \n",
       "22960 -9223372036854775808           NaN -9223372036854775808            NaN   \n",
       "\n",
       "       days_exposition  cityCenters_category  category_totalarea  \n",
       "552                270              в городе     средняя площадь  \n",
       "2572                 0                  None     большая площадь  \n",
       "4212                36                  None     средняя площадь  \n",
       "5712               248                  None     средняя площадь  \n",
       "5850               100                  None     средняя площадь  \n",
       "11352               53               окраина     средняя площадь  \n",
       "15061              315              в городе     большая площадь  \n",
       "16446                0       близко к центру     большая площадь  \n",
       "16884                6                  None     средняя площадь  \n",
       "16934               71               окраина     средняя площадь  \n",
       "17496                0              в городе     большая площадь  \n",
       "19098              282                  None     большая площадь  \n",
       "19329               45                  None     средняя площадь  \n",
       "20520               62                  None     средняя площадь  \n",
       "22309              136              в городе     средняя площадь  \n",
       "22590               13              в городе     большая площадь  \n",
       "22960                0                  None     большая площадь  \n",
       "\n",
       "[17 rows x 24 columns]"
      ]
     },
     "execution_count": 63,
     "metadata": {},
     "output_type": "execute_result"
    }
   ],
   "source": [
    "data[data['ceiling_height'] < 2.1]"
   ]
  },
  {
   "cell_type": "markdown",
   "metadata": {},
   "source": [
    "Поскольку квартир с аномально низким потолком всего 15, а всего строк в датафрейме было 23699, то данные строки можно отфильтровать, т.к. они составляют незначительную долю от всех данных. При этом потолок не может быть выше 3,5 метров в квартире. Отфильтруем эти значения."
   ]
  },
  {
   "cell_type": "code",
   "execution_count": 64,
   "metadata": {},
   "outputs": [],
   "source": [
    "data = data.loc[(data['ceiling_height'] >= 2.1) & (data['ceiling_height'] < 3.5)]"
   ]
  },
  {
   "cell_type": "code",
   "execution_count": 65,
   "metadata": {},
   "outputs": [
    {
     "data": {
      "text/plain": [
       "array([2.7 , 2.6 , 3.  , 3.03, 2.5 , 2.67, 2.55, 2.56, 3.05, 2.75, 2.9 ,\n",
       "       2.8 , 2.65, 3.2 , 2.61, 3.25, 3.45, 2.77, 2.85, 2.64, 2.57, 3.3 ,\n",
       "       2.71, 2.47, 2.73, 2.84, 3.1 , 2.34, 3.4 , 3.06, 2.72, 2.54, 2.51,\n",
       "       2.78, 2.76, 2.58, 2.52, 2.87, 2.66, 2.59, 2.45, 2.92, 3.11, 3.13,\n",
       "       3.15, 3.16, 3.12, 2.53, 2.74, 2.96, 2.46, 2.79, 2.95, 2.94, 2.83,\n",
       "       2.4 , 3.38, 3.01, 3.18, 3.35, 2.3 , 2.48, 2.62, 2.82, 2.63, 2.88,\n",
       "       3.24, 3.36, 3.08, 3.07, 3.37, 3.09, 3.26, 3.34, 2.81, 3.44, 2.97,\n",
       "       3.14, 2.68, 3.22, 3.27, 2.93, 3.46, 2.4 , 3.47, 3.33, 3.32, 2.98,\n",
       "       2.86, 3.17, 3.28, 3.04, 3.23, 3.02, 3.21, 3.43, 3.39, 2.69, 3.31,\n",
       "       2.2 , 3.42, 2.99, 3.49, 2.91, 3.29, 2.25, 2.26, 2.89, 2.49, 3.48])"
      ]
     },
     "execution_count": 65,
     "metadata": {},
     "output_type": "execute_result"
    }
   ],
   "source": [
    "data['ceiling_height'].unique()"
   ]
  },
  {
   "cell_type": "code",
   "execution_count": 66,
   "metadata": {},
   "outputs": [
    {
     "data": {
      "text/plain": [
       "array([18863., 12817., 21741., ..., 28323., 11751., 20151.])"
      ]
     },
     "execution_count": 66,
     "metadata": {},
     "output_type": "execute_result"
    }
   ],
   "source": [
    "data['airports_nearest'].unique()  #аномальных значений нет"
   ]
  },
  {
   "cell_type": "markdown",
   "metadata": {},
   "source": [
    "Аномальных значений в расстоянии до ближайшего аэропорта нет."
   ]
  },
  {
   "cell_type": "code",
   "execution_count": 67,
   "metadata": {},
   "outputs": [
    {
     "data": {
      "text/plain": [
       "array([0, 2, 1, 5, 4, 3])"
      ]
     },
     "execution_count": 67,
     "metadata": {},
     "output_type": "execute_result"
    }
   ],
   "source": [
    "data['balcony'].unique()"
   ]
  },
  {
   "cell_type": "markdown",
   "metadata": {},
   "source": [
    "Количество балконов в пределах нормальных значений, т.к. раньше строили хрущевки с четырьмя и пятью балконами."
   ]
  },
  {
   "cell_type": "code",
   "execution_count": 68,
   "metadata": {},
   "outputs": [
    {
     "data": {
      "image/png": "[encoded data removed]",
      "text/plain": [
       "<Figure size 432x288 with 1 Axes>"
      ]
     },
     "metadata": {
      "needs_background": "light"
     },
     "output_type": "display_data"
    }
   ],
   "source": [
    "data['total_area'].plot(kind='box')\n",
    "plt.show()"
   ]
  },
  {
   "cell_type": "markdown",
   "metadata": {},
   "source": [
    "Квартиры с площадью более 200 м2, скорее всего, являются аномальными значениями, поскольку с такой площадью могут продаваться хостелы, гостиницы, бизнес-центры, а это уже мало похоже на продажу среднестатистических квартир и будет сильно искажать результаты исследования. Отфильтруем строки с площадью квартир свыше 200 м2, чтобы посмотреть сколько это строк удалится."
   ]
  },
  {
   "cell_type": "code",
   "execution_count": 69,
   "metadata": {},
   "outputs": [
    {
     "data": {
      "text/html": [
       "<div>\n",
       "<style scoped>\n",
       "    .dataframe tbody tr th:only-of-type {\n",
       "        vertical-align: middle;\n",
       "    }\n",
       "\n",
       "    .dataframe tbody tr th {\n",
       "        vertical-align: top;\n",
       "    }\n",
       "\n",
       "    .dataframe thead th {\n",
       "        text-align: right;\n",
       "    }\n",
       "</style>\n",
       "<table border=\"1\" class=\"dataframe\">\n",
       "  <thead>\n",
       "    <tr style=\"text-align: right;\">\n",
       "      <th></th>\n",
       "      <th>total_images</th>\n",
       "      <th>last_price</th>\n",
       "      <th>total_area</th>\n",
       "      <th>first_day_exposition</th>\n",
       "      <th>rooms</th>\n",
       "      <th>ceiling_height</th>\n",
       "      <th>floors_total</th>\n",
       "      <th>living_area</th>\n",
       "      <th>floor</th>\n",
       "      <th>is_apartment</th>\n",
       "      <th>...</th>\n",
       "      <th>locality_name</th>\n",
       "      <th>airports_nearest</th>\n",
       "      <th>cityCenters_nearest</th>\n",
       "      <th>parks_around3000</th>\n",
       "      <th>parks_nearest</th>\n",
       "      <th>ponds_around3000</th>\n",
       "      <th>ponds_nearest</th>\n",
       "      <th>days_exposition</th>\n",
       "      <th>cityCenters_category</th>\n",
       "      <th>category_totalarea</th>\n",
       "    </tr>\n",
       "  </thead>\n",
       "  <tbody>\n",
       "    <tr>\n",
       "      <th>492</th>\n",
       "      <td>18</td>\n",
       "      <td>95000000</td>\n",
       "      <td>216.0</td>\n",
       "      <td>2017-12-05</td>\n",
       "      <td>4</td>\n",
       "      <td>3.00</td>\n",
       "      <td>5</td>\n",
       "      <td>86.0</td>\n",
       "      <td>4</td>\n",
       "      <td>True</td>\n",
       "      <td>...</td>\n",
       "      <td>Санкт-Петербург</td>\n",
       "      <td>21740.0</td>\n",
       "      <td>436.0</td>\n",
       "      <td>2</td>\n",
       "      <td>138.0</td>\n",
       "      <td>3</td>\n",
       "      <td>620.0</td>\n",
       "      <td>14</td>\n",
       "      <td>близко к центру</td>\n",
       "      <td>очень большая площадь</td>\n",
       "    </tr>\n",
       "    <tr>\n",
       "      <th>509</th>\n",
       "      <td>5</td>\n",
       "      <td>90000000</td>\n",
       "      <td>225.0</td>\n",
       "      <td>2016-06-26</td>\n",
       "      <td>6</td>\n",
       "      <td>3.00</td>\n",
       "      <td>4</td>\n",
       "      <td>134.0</td>\n",
       "      <td>2</td>\n",
       "      <td>True</td>\n",
       "      <td>...</td>\n",
       "      <td>Санкт-Петербург</td>\n",
       "      <td>32864.0</td>\n",
       "      <td>5720.0</td>\n",
       "      <td>0</td>\n",
       "      <td>NaN</td>\n",
       "      <td>2</td>\n",
       "      <td>519.0</td>\n",
       "      <td>416</td>\n",
       "      <td>близко к центру</td>\n",
       "      <td>очень большая площадь</td>\n",
       "    </tr>\n",
       "    <tr>\n",
       "      <th>521</th>\n",
       "      <td>20</td>\n",
       "      <td>25717300</td>\n",
       "      <td>230.1</td>\n",
       "      <td>2015-01-21</td>\n",
       "      <td>3</td>\n",
       "      <td>2.60</td>\n",
       "      <td>3</td>\n",
       "      <td>130.0</td>\n",
       "      <td>1</td>\n",
       "      <td>True</td>\n",
       "      <td>...</td>\n",
       "      <td>Пушкин</td>\n",
       "      <td>16877.0</td>\n",
       "      <td>29030.0</td>\n",
       "      <td>2</td>\n",
       "      <td>676.0</td>\n",
       "      <td>3</td>\n",
       "      <td>278.0</td>\n",
       "      <td>1441</td>\n",
       "      <td>окраина</td>\n",
       "      <td>очень большая площадь</td>\n",
       "    </tr>\n",
       "    <tr>\n",
       "      <th>581</th>\n",
       "      <td>20</td>\n",
       "      <td>65000000</td>\n",
       "      <td>365.0</td>\n",
       "      <td>2019-03-18</td>\n",
       "      <td>7</td>\n",
       "      <td>2.90</td>\n",
       "      <td>7</td>\n",
       "      <td>112.0</td>\n",
       "      <td>7</td>\n",
       "      <td>True</td>\n",
       "      <td>...</td>\n",
       "      <td>Санкт-Петербург</td>\n",
       "      <td>19827.0</td>\n",
       "      <td>1690.0</td>\n",
       "      <td>3</td>\n",
       "      <td>378.0</td>\n",
       "      <td>3</td>\n",
       "      <td>58.0</td>\n",
       "      <td>0</td>\n",
       "      <td>близко к центру</td>\n",
       "      <td>очень большая площадь</td>\n",
       "    </tr>\n",
       "    <tr>\n",
       "      <th>660</th>\n",
       "      <td>3</td>\n",
       "      <td>49950000</td>\n",
       "      <td>483.9</td>\n",
       "      <td>2017-10-04</td>\n",
       "      <td>7</td>\n",
       "      <td>3.20</td>\n",
       "      <td>6</td>\n",
       "      <td>312.5</td>\n",
       "      <td>4</td>\n",
       "      <td>True</td>\n",
       "      <td>...</td>\n",
       "      <td>Санкт-Петербург</td>\n",
       "      <td>23079.0</td>\n",
       "      <td>945.0</td>\n",
       "      <td>3</td>\n",
       "      <td>461.0</td>\n",
       "      <td>3</td>\n",
       "      <td>22.0</td>\n",
       "      <td>391</td>\n",
       "      <td>близко к центру</td>\n",
       "      <td>очень большая площадь</td>\n",
       "    </tr>\n",
       "    <tr>\n",
       "      <th>...</th>\n",
       "      <td>...</td>\n",
       "      <td>...</td>\n",
       "      <td>...</td>\n",
       "      <td>...</td>\n",
       "      <td>...</td>\n",
       "      <td>...</td>\n",
       "      <td>...</td>\n",
       "      <td>...</td>\n",
       "      <td>...</td>\n",
       "      <td>...</td>\n",
       "      <td>...</td>\n",
       "      <td>...</td>\n",
       "      <td>...</td>\n",
       "      <td>...</td>\n",
       "      <td>...</td>\n",
       "      <td>...</td>\n",
       "      <td>...</td>\n",
       "      <td>...</td>\n",
       "      <td>...</td>\n",
       "      <td>...</td>\n",
       "      <td>...</td>\n",
       "    </tr>\n",
       "    <tr>\n",
       "      <th>23005</th>\n",
       "      <td>20</td>\n",
       "      <td>30750000</td>\n",
       "      <td>297.5</td>\n",
       "      <td>2018-09-09</td>\n",
       "      <td>6</td>\n",
       "      <td>3.14</td>\n",
       "      <td>4</td>\n",
       "      <td>181.8</td>\n",
       "      <td>2</td>\n",
       "      <td>True</td>\n",
       "      <td>...</td>\n",
       "      <td>Санкт-Петербург</td>\n",
       "      <td>20630.0</td>\n",
       "      <td>1229.0</td>\n",
       "      <td>3</td>\n",
       "      <td>189.0</td>\n",
       "      <td>3</td>\n",
       "      <td>40.0</td>\n",
       "      <td>42</td>\n",
       "      <td>близко к центру</td>\n",
       "      <td>очень большая площадь</td>\n",
       "    </tr>\n",
       "    <tr>\n",
       "      <th>23281</th>\n",
       "      <td>20</td>\n",
       "      <td>24800000</td>\n",
       "      <td>231.2</td>\n",
       "      <td>2015-01-21</td>\n",
       "      <td>6</td>\n",
       "      <td>3.10</td>\n",
       "      <td>5</td>\n",
       "      <td>99.8</td>\n",
       "      <td>4</td>\n",
       "      <td>True</td>\n",
       "      <td>...</td>\n",
       "      <td>Санкт-Петербург</td>\n",
       "      <td>21480.0</td>\n",
       "      <td>2453.0</td>\n",
       "      <td>3</td>\n",
       "      <td>75.0</td>\n",
       "      <td>1</td>\n",
       "      <td>795.0</td>\n",
       "      <td>0</td>\n",
       "      <td>близко к центру</td>\n",
       "      <td>очень большая площадь</td>\n",
       "    </tr>\n",
       "    <tr>\n",
       "      <th>23327</th>\n",
       "      <td>19</td>\n",
       "      <td>34400000</td>\n",
       "      <td>215.0</td>\n",
       "      <td>2019-03-15</td>\n",
       "      <td>5</td>\n",
       "      <td>2.75</td>\n",
       "      <td>4</td>\n",
       "      <td>82.4</td>\n",
       "      <td>4</td>\n",
       "      <td>True</td>\n",
       "      <td>...</td>\n",
       "      <td>Санкт-Петербург</td>\n",
       "      <td>37268.0</td>\n",
       "      <td>15419.0</td>\n",
       "      <td>0</td>\n",
       "      <td>NaN</td>\n",
       "      <td>0</td>\n",
       "      <td>NaN</td>\n",
       "      <td>0</td>\n",
       "      <td>в городе</td>\n",
       "      <td>очень большая площадь</td>\n",
       "    </tr>\n",
       "    <tr>\n",
       "      <th>23400</th>\n",
       "      <td>17</td>\n",
       "      <td>30000000</td>\n",
       "      <td>213.0</td>\n",
       "      <td>2017-09-28</td>\n",
       "      <td>7</td>\n",
       "      <td>3.40</td>\n",
       "      <td>5</td>\n",
       "      <td>151.4</td>\n",
       "      <td>5</td>\n",
       "      <td>True</td>\n",
       "      <td>...</td>\n",
       "      <td>Санкт-Петербург</td>\n",
       "      <td>21146.0</td>\n",
       "      <td>1225.0</td>\n",
       "      <td>2</td>\n",
       "      <td>342.0</td>\n",
       "      <td>3</td>\n",
       "      <td>30.0</td>\n",
       "      <td>299</td>\n",
       "      <td>близко к центру</td>\n",
       "      <td>очень большая площадь</td>\n",
       "    </tr>\n",
       "    <tr>\n",
       "      <th>23491</th>\n",
       "      <td>20</td>\n",
       "      <td>21800000</td>\n",
       "      <td>250.0</td>\n",
       "      <td>2017-09-16</td>\n",
       "      <td>3</td>\n",
       "      <td>2.60</td>\n",
       "      <td>12</td>\n",
       "      <td>104.0</td>\n",
       "      <td>7</td>\n",
       "      <td>True</td>\n",
       "      <td>...</td>\n",
       "      <td>Санкт-Петербург</td>\n",
       "      <td>43558.0</td>\n",
       "      <td>13138.0</td>\n",
       "      <td>0</td>\n",
       "      <td>NaN</td>\n",
       "      <td>0</td>\n",
       "      <td>NaN</td>\n",
       "      <td>49</td>\n",
       "      <td>в городе</td>\n",
       "      <td>очень большая площадь</td>\n",
       "    </tr>\n",
       "  </tbody>\n",
       "</table>\n",
       "<p>170 rows × 24 columns</p>\n",
       "</div>"
      ],
      "text/plain": [
       "       total_images  last_price  total_area first_day_exposition  rooms  \\\n",
       "492              18    95000000       216.0           2017-12-05      4   \n",
       "509               5    90000000       225.0           2016-06-26      6   \n",
       "521              20    25717300       230.1           2015-01-21      3   \n",
       "581              20    65000000       365.0           2019-03-18      7   \n",
       "660               3    49950000       483.9           2017-10-04      7   \n",
       "...             ...         ...         ...                  ...    ...   \n",
       "23005            20    30750000       297.5           2018-09-09      6   \n",
       "23281            20    24800000       231.2           2015-01-21      6   \n",
       "23327            19    34400000       215.0           2019-03-15      5   \n",
       "23400            17    30000000       213.0           2017-09-28      7   \n",
       "23491            20    21800000       250.0           2017-09-16      3   \n",
       "\n",
       "       ceiling_height  floors_total  living_area  floor  is_apartment  ...  \\\n",
       "492              3.00             5         86.0      4          True  ...   \n",
       "509              3.00             4        134.0      2          True  ...   \n",
       "521              2.60             3        130.0      1          True  ...   \n",
       "581              2.90             7        112.0      7          True  ...   \n",
       "660              3.20             6        312.5      4          True  ...   \n",
       "...               ...           ...          ...    ...           ...  ...   \n",
       "23005            3.14             4        181.8      2          True  ...   \n",
       "23281            3.10             5         99.8      4          True  ...   \n",
       "23327            2.75             4         82.4      4          True  ...   \n",
       "23400            3.40             5        151.4      5          True  ...   \n",
       "23491            2.60            12        104.0      7          True  ...   \n",
       "\n",
       "         locality_name  airports_nearest  cityCenters_nearest  \\\n",
       "492    Санкт-Петербург           21740.0                436.0   \n",
       "509    Санкт-Петербург           32864.0               5720.0   \n",
       "521             Пушкин           16877.0              29030.0   \n",
       "581    Санкт-Петербург           19827.0               1690.0   \n",
       "660    Санкт-Петербург           23079.0                945.0   \n",
       "...                ...               ...                  ...   \n",
       "23005  Санкт-Петербург           20630.0               1229.0   \n",
       "23281  Санкт-Петербург           21480.0               2453.0   \n",
       "23327  Санкт-Петербург           37268.0              15419.0   \n",
       "23400  Санкт-Петербург           21146.0               1225.0   \n",
       "23491  Санкт-Петербург           43558.0              13138.0   \n",
       "\n",
       "       parks_around3000 parks_nearest  ponds_around3000  ponds_nearest  \\\n",
       "492                   2         138.0                 3          620.0   \n",
       "509                   0           NaN                 2          519.0   \n",
       "521                   2         676.0                 3          278.0   \n",
       "581                   3         378.0                 3           58.0   \n",
       "660                   3         461.0                 3           22.0   \n",
       "...                 ...           ...               ...            ...   \n",
       "23005                 3         189.0                 3           40.0   \n",
       "23281                 3          75.0                 1          795.0   \n",
       "23327                 0           NaN                 0            NaN   \n",
       "23400                 2         342.0                 3           30.0   \n",
       "23491                 0           NaN                 0            NaN   \n",
       "\n",
       "       days_exposition  cityCenters_category     category_totalarea  \n",
       "492                 14       близко к центру  очень большая площадь  \n",
       "509                416       близко к центру  очень большая площадь  \n",
       "521               1441               окраина  очень большая площадь  \n",
       "581                  0       близко к центру  очень большая площадь  \n",
       "660                391       близко к центру  очень большая площадь  \n",
       "...                ...                   ...                    ...  \n",
       "23005               42       близко к центру  очень большая площадь  \n",
       "23281                0       близко к центру  очень большая площадь  \n",
       "23327                0              в городе  очень большая площадь  \n",
       "23400              299       близко к центру  очень большая площадь  \n",
       "23491               49              в городе  очень большая площадь  \n",
       "\n",
       "[170 rows x 24 columns]"
      ]
     },
     "execution_count": 69,
     "metadata": {},
     "output_type": "execute_result"
    }
   ],
   "source": [
    "data[data['total_area'] >= 200]"
   ]
  },
  {
   "cell_type": "code",
   "execution_count": 70,
   "metadata": {},
   "outputs": [],
   "source": [
    "#уберем квартиры с площадью выше 200 кв.м. из датасета\n",
    "\n",
    "data = data.loc[data['total_area'] < 200]"
   ]
  },
  {
   "cell_type": "code",
   "execution_count": 71,
   "metadata": {},
   "outputs": [
    {
     "data": {
      "text/plain": [
       "array([ 3,  1,  2,  4,  5,  6,  0, 11,  7,  8])"
      ]
     },
     "execution_count": 71,
     "metadata": {},
     "output_type": "execute_result"
    }
   ],
   "source": [
    "data['rooms'].unique()"
   ]
  },
  {
   "cell_type": "markdown",
   "metadata": {},
   "source": [
    "Тоже самое касается комнат. Конечно, есть квартиры с 10-ю и больше комнат, но это скорее квартиры на несколько этажей, что также сильно отличается от среднестатистических квартир и будет искажать результаты. Отфильтруем строки, убрав квартиры с 7 и больше комнатами."
   ]
  },
  {
   "cell_type": "code",
   "execution_count": 72,
   "metadata": {
    "scrolled": false
   },
   "outputs": [
    {
     "data": {
      "image/png": "[encoded data removed]",
      "text/plain": [
       "<Figure size 432x288 with 1 Axes>"
      ]
     },
     "metadata": {
      "needs_background": "light"
     },
     "output_type": "display_data"
    }
   ],
   "source": [
    " data['rooms'].plot(kind='box')\n",
    "plt.show()"
   ]
  },
  {
   "cell_type": "code",
   "execution_count": 73,
   "metadata": {},
   "outputs": [],
   "source": [
    "data = data.loc[data['rooms'] < 7]"
   ]
  },
  {
   "cell_type": "code",
   "execution_count": 74,
   "metadata": {},
   "outputs": [
    {
     "data": {
      "text/plain": [
       "289238400"
      ]
     },
     "execution_count": 74,
     "metadata": {},
     "output_type": "execute_result"
    }
   ],
   "source": [
    "data['last_price'].max()"
   ]
  },
  {
   "cell_type": "markdown",
   "metadata": {},
   "source": [
    "Цены также содержат аномальные значения, поскольку 330 млн. руб., возможно, продавали гостиницу, бизнес-центр и т.д."
   ]
  },
  {
   "cell_type": "markdown",
   "metadata": {},
   "source": [
    "По данным сайтов со статистикой объявлений квартир говорится, что в 2014 г. цена за кв.м. была около 50 000 руб., минимальная площадь для проживания одного человека составляет примерно 18 кв.м. Поэтому нормальная стоимость квартир начинается хотя бы от 900 000 руб."
   ]
  },
  {
   "cell_type": "code",
   "execution_count": 75,
   "metadata": {
    "scrolled": false
   },
   "outputs": [
    {
     "data": {
      "text/html": [
       "<div>\n",
       "<style scoped>\n",
       "    .dataframe tbody tr th:only-of-type {\n",
       "        vertical-align: middle;\n",
       "    }\n",
       "\n",
       "    .dataframe tbody tr th {\n",
       "        vertical-align: top;\n",
       "    }\n",
       "\n",
       "    .dataframe thead th {\n",
       "        text-align: right;\n",
       "    }\n",
       "</style>\n",
       "<table border=\"1\" class=\"dataframe\">\n",
       "  <thead>\n",
       "    <tr style=\"text-align: right;\">\n",
       "      <th></th>\n",
       "      <th>total_images</th>\n",
       "      <th>last_price</th>\n",
       "      <th>total_area</th>\n",
       "      <th>first_day_exposition</th>\n",
       "      <th>rooms</th>\n",
       "      <th>ceiling_height</th>\n",
       "      <th>floors_total</th>\n",
       "      <th>living_area</th>\n",
       "      <th>floor</th>\n",
       "      <th>is_apartment</th>\n",
       "      <th>...</th>\n",
       "      <th>locality_name</th>\n",
       "      <th>airports_nearest</th>\n",
       "      <th>cityCenters_nearest</th>\n",
       "      <th>parks_around3000</th>\n",
       "      <th>parks_nearest</th>\n",
       "      <th>ponds_around3000</th>\n",
       "      <th>ponds_nearest</th>\n",
       "      <th>days_exposition</th>\n",
       "      <th>cityCenters_category</th>\n",
       "      <th>category_totalarea</th>\n",
       "    </tr>\n",
       "  </thead>\n",
       "  <tbody>\n",
       "    <tr>\n",
       "      <th>247</th>\n",
       "      <td>7</td>\n",
       "      <td>650000</td>\n",
       "      <td>31.0</td>\n",
       "      <td>2017-01-20</td>\n",
       "      <td>1</td>\n",
       "      <td>2.6</td>\n",
       "      <td>3</td>\n",
       "      <td>18.4</td>\n",
       "      <td>1</td>\n",
       "      <td>True</td>\n",
       "      <td>...</td>\n",
       "      <td>Сланцы</td>\n",
       "      <td>NaN</td>\n",
       "      <td>NaN</td>\n",
       "      <td>-9223372036854775808</td>\n",
       "      <td>NaN</td>\n",
       "      <td>-9223372036854775808</td>\n",
       "      <td>NaN</td>\n",
       "      <td>378</td>\n",
       "      <td>None</td>\n",
       "      <td>средняя площадь</td>\n",
       "    </tr>\n",
       "    <tr>\n",
       "      <th>268</th>\n",
       "      <td>7</td>\n",
       "      <td>650000</td>\n",
       "      <td>46.0</td>\n",
       "      <td>2018-03-15</td>\n",
       "      <td>2</td>\n",
       "      <td>2.5</td>\n",
       "      <td>5</td>\n",
       "      <td>30.0</td>\n",
       "      <td>5</td>\n",
       "      <td>True</td>\n",
       "      <td>...</td>\n",
       "      <td>Сланцы</td>\n",
       "      <td>NaN</td>\n",
       "      <td>NaN</td>\n",
       "      <td>-9223372036854775808</td>\n",
       "      <td>NaN</td>\n",
       "      <td>-9223372036854775808</td>\n",
       "      <td>NaN</td>\n",
       "      <td>75</td>\n",
       "      <td>None</td>\n",
       "      <td>средняя площадь</td>\n",
       "    </tr>\n",
       "    <tr>\n",
       "      <th>606</th>\n",
       "      <td>5</td>\n",
       "      <td>790000</td>\n",
       "      <td>38.6</td>\n",
       "      <td>2018-04-03</td>\n",
       "      <td>2</td>\n",
       "      <td>3.0</td>\n",
       "      <td>2</td>\n",
       "      <td>24.0</td>\n",
       "      <td>1</td>\n",
       "      <td>True</td>\n",
       "      <td>...</td>\n",
       "      <td>поселок Синявино</td>\n",
       "      <td>NaN</td>\n",
       "      <td>NaN</td>\n",
       "      <td>-9223372036854775808</td>\n",
       "      <td>NaN</td>\n",
       "      <td>-9223372036854775808</td>\n",
       "      <td>NaN</td>\n",
       "      <td>374</td>\n",
       "      <td>None</td>\n",
       "      <td>средняя площадь</td>\n",
       "    </tr>\n",
       "    <tr>\n",
       "      <th>1312</th>\n",
       "      <td>5</td>\n",
       "      <td>750000</td>\n",
       "      <td>26.0</td>\n",
       "      <td>2018-02-03</td>\n",
       "      <td>1</td>\n",
       "      <td>2.5</td>\n",
       "      <td>2</td>\n",
       "      <td>18.0</td>\n",
       "      <td>1</td>\n",
       "      <td>True</td>\n",
       "      <td>...</td>\n",
       "      <td>поселок Вырица</td>\n",
       "      <td>NaN</td>\n",
       "      <td>NaN</td>\n",
       "      <td>-9223372036854775808</td>\n",
       "      <td>NaN</td>\n",
       "      <td>-9223372036854775808</td>\n",
       "      <td>NaN</td>\n",
       "      <td>167</td>\n",
       "      <td>None</td>\n",
       "      <td>средняя площадь</td>\n",
       "    </tr>\n",
       "    <tr>\n",
       "      <th>1358</th>\n",
       "      <td>10</td>\n",
       "      <td>550000</td>\n",
       "      <td>27.6</td>\n",
       "      <td>2019-03-06</td>\n",
       "      <td>1</td>\n",
       "      <td>2.5</td>\n",
       "      <td>5</td>\n",
       "      <td>17.0</td>\n",
       "      <td>2</td>\n",
       "      <td>True</td>\n",
       "      <td>...</td>\n",
       "      <td>Сланцы</td>\n",
       "      <td>NaN</td>\n",
       "      <td>NaN</td>\n",
       "      <td>-9223372036854775808</td>\n",
       "      <td>NaN</td>\n",
       "      <td>-9223372036854775808</td>\n",
       "      <td>NaN</td>\n",
       "      <td>22</td>\n",
       "      <td>None</td>\n",
       "      <td>средняя площадь</td>\n",
       "    </tr>\n",
       "    <tr>\n",
       "      <th>...</th>\n",
       "      <td>...</td>\n",
       "      <td>...</td>\n",
       "      <td>...</td>\n",
       "      <td>...</td>\n",
       "      <td>...</td>\n",
       "      <td>...</td>\n",
       "      <td>...</td>\n",
       "      <td>...</td>\n",
       "      <td>...</td>\n",
       "      <td>...</td>\n",
       "      <td>...</td>\n",
       "      <td>...</td>\n",
       "      <td>...</td>\n",
       "      <td>...</td>\n",
       "      <td>...</td>\n",
       "      <td>...</td>\n",
       "      <td>...</td>\n",
       "      <td>...</td>\n",
       "      <td>...</td>\n",
       "      <td>...</td>\n",
       "      <td>...</td>\n",
       "    </tr>\n",
       "    <tr>\n",
       "      <th>22997</th>\n",
       "      <td>9</td>\n",
       "      <td>560000</td>\n",
       "      <td>28.5</td>\n",
       "      <td>2018-08-11</td>\n",
       "      <td>1</td>\n",
       "      <td>2.6</td>\n",
       "      <td>4</td>\n",
       "      <td>17.2</td>\n",
       "      <td>4</td>\n",
       "      <td>True</td>\n",
       "      <td>...</td>\n",
       "      <td>Пикалево</td>\n",
       "      <td>NaN</td>\n",
       "      <td>NaN</td>\n",
       "      <td>-9223372036854775808</td>\n",
       "      <td>NaN</td>\n",
       "      <td>-9223372036854775808</td>\n",
       "      <td>NaN</td>\n",
       "      <td>198</td>\n",
       "      <td>None</td>\n",
       "      <td>средняя площадь</td>\n",
       "    </tr>\n",
       "    <tr>\n",
       "      <th>23067</th>\n",
       "      <td>8</td>\n",
       "      <td>600000</td>\n",
       "      <td>31.8</td>\n",
       "      <td>2019-04-24</td>\n",
       "      <td>1</td>\n",
       "      <td>2.6</td>\n",
       "      <td>2</td>\n",
       "      <td>20.0</td>\n",
       "      <td>1</td>\n",
       "      <td>True</td>\n",
       "      <td>...</td>\n",
       "      <td>деревня Коркино</td>\n",
       "      <td>NaN</td>\n",
       "      <td>NaN</td>\n",
       "      <td>-9223372036854775808</td>\n",
       "      <td>NaN</td>\n",
       "      <td>-9223372036854775808</td>\n",
       "      <td>NaN</td>\n",
       "      <td>0</td>\n",
       "      <td>None</td>\n",
       "      <td>средняя площадь</td>\n",
       "    </tr>\n",
       "    <tr>\n",
       "      <th>23153</th>\n",
       "      <td>9</td>\n",
       "      <td>650000</td>\n",
       "      <td>41.0</td>\n",
       "      <td>2017-10-13</td>\n",
       "      <td>2</td>\n",
       "      <td>2.6</td>\n",
       "      <td>3</td>\n",
       "      <td>28.0</td>\n",
       "      <td>1</td>\n",
       "      <td>True</td>\n",
       "      <td>...</td>\n",
       "      <td>Бокситогорск</td>\n",
       "      <td>NaN</td>\n",
       "      <td>NaN</td>\n",
       "      <td>-9223372036854775808</td>\n",
       "      <td>NaN</td>\n",
       "      <td>-9223372036854775808</td>\n",
       "      <td>NaN</td>\n",
       "      <td>14</td>\n",
       "      <td>None</td>\n",
       "      <td>средняя площадь</td>\n",
       "    </tr>\n",
       "    <tr>\n",
       "      <th>23484</th>\n",
       "      <td>11</td>\n",
       "      <td>470000</td>\n",
       "      <td>44.5</td>\n",
       "      <td>2018-07-02</td>\n",
       "      <td>2</td>\n",
       "      <td>2.6</td>\n",
       "      <td>2</td>\n",
       "      <td>28.0</td>\n",
       "      <td>2</td>\n",
       "      <td>True</td>\n",
       "      <td>...</td>\n",
       "      <td>Сланцы</td>\n",
       "      <td>NaN</td>\n",
       "      <td>NaN</td>\n",
       "      <td>-9223372036854775808</td>\n",
       "      <td>NaN</td>\n",
       "      <td>-9223372036854775808</td>\n",
       "      <td>NaN</td>\n",
       "      <td>298</td>\n",
       "      <td>None</td>\n",
       "      <td>средняя площадь</td>\n",
       "    </tr>\n",
       "    <tr>\n",
       "      <th>23643</th>\n",
       "      <td>1</td>\n",
       "      <td>660000</td>\n",
       "      <td>45.0</td>\n",
       "      <td>2019-02-19</td>\n",
       "      <td>2</td>\n",
       "      <td>2.6</td>\n",
       "      <td>5</td>\n",
       "      <td>31.0</td>\n",
       "      <td>4</td>\n",
       "      <td>False</td>\n",
       "      <td>...</td>\n",
       "      <td>Сланцы</td>\n",
       "      <td>NaN</td>\n",
       "      <td>NaN</td>\n",
       "      <td>-9223372036854775808</td>\n",
       "      <td>NaN</td>\n",
       "      <td>-9223372036854775808</td>\n",
       "      <td>NaN</td>\n",
       "      <td>0</td>\n",
       "      <td>None</td>\n",
       "      <td>средняя площадь</td>\n",
       "    </tr>\n",
       "  </tbody>\n",
       "</table>\n",
       "<p>114 rows × 24 columns</p>\n",
       "</div>"
      ],
      "text/plain": [
       "       total_images  last_price  total_area first_day_exposition  rooms  \\\n",
       "247               7      650000        31.0           2017-01-20      1   \n",
       "268               7      650000        46.0           2018-03-15      2   \n",
       "606               5      790000        38.6           2018-04-03      2   \n",
       "1312              5      750000        26.0           2018-02-03      1   \n",
       "1358             10      550000        27.6           2019-03-06      1   \n",
       "...             ...         ...         ...                  ...    ...   \n",
       "22997             9      560000        28.5           2018-08-11      1   \n",
       "23067             8      600000        31.8           2019-04-24      1   \n",
       "23153             9      650000        41.0           2017-10-13      2   \n",
       "23484            11      470000        44.5           2018-07-02      2   \n",
       "23643             1      660000        45.0           2019-02-19      2   \n",
       "\n",
       "       ceiling_height  floors_total  living_area  floor  is_apartment  ...  \\\n",
       "247               2.6             3         18.4      1          True  ...   \n",
       "268               2.5             5         30.0      5          True  ...   \n",
       "606               3.0             2         24.0      1          True  ...   \n",
       "1312              2.5             2         18.0      1          True  ...   \n",
       "1358              2.5             5         17.0      2          True  ...   \n",
       "...               ...           ...          ...    ...           ...  ...   \n",
       "22997             2.6             4         17.2      4          True  ...   \n",
       "23067             2.6             2         20.0      1          True  ...   \n",
       "23153             2.6             3         28.0      1          True  ...   \n",
       "23484             2.6             2         28.0      2          True  ...   \n",
       "23643             2.6             5         31.0      4         False  ...   \n",
       "\n",
       "          locality_name  airports_nearest  cityCenters_nearest  \\\n",
       "247              Сланцы               NaN                  NaN   \n",
       "268              Сланцы               NaN                  NaN   \n",
       "606    поселок Синявино               NaN                  NaN   \n",
       "1312     поселок Вырица               NaN                  NaN   \n",
       "1358             Сланцы               NaN                  NaN   \n",
       "...                 ...               ...                  ...   \n",
       "22997          Пикалево               NaN                  NaN   \n",
       "23067   деревня Коркино               NaN                  NaN   \n",
       "23153      Бокситогорск               NaN                  NaN   \n",
       "23484            Сланцы               NaN                  NaN   \n",
       "23643            Сланцы               NaN                  NaN   \n",
       "\n",
       "          parks_around3000 parks_nearest     ponds_around3000  ponds_nearest  \\\n",
       "247   -9223372036854775808           NaN -9223372036854775808            NaN   \n",
       "268   -9223372036854775808           NaN -9223372036854775808            NaN   \n",
       "606   -9223372036854775808           NaN -9223372036854775808            NaN   \n",
       "1312  -9223372036854775808           NaN -9223372036854775808            NaN   \n",
       "1358  -9223372036854775808           NaN -9223372036854775808            NaN   \n",
       "...                    ...           ...                  ...            ...   \n",
       "22997 -9223372036854775808           NaN -9223372036854775808            NaN   \n",
       "23067 -9223372036854775808           NaN -9223372036854775808            NaN   \n",
       "23153 -9223372036854775808           NaN -9223372036854775808            NaN   \n",
       "23484 -9223372036854775808           NaN -9223372036854775808            NaN   \n",
       "23643 -9223372036854775808           NaN -9223372036854775808            NaN   \n",
       "\n",
       "       days_exposition  cityCenters_category  category_totalarea  \n",
       "247                378                  None     средняя площадь  \n",
       "268                 75                  None     средняя площадь  \n",
       "606                374                  None     средняя площадь  \n",
       "1312               167                  None     средняя площадь  \n",
       "1358                22                  None     средняя площадь  \n",
       "...                ...                   ...                 ...  \n",
       "22997              198                  None     средняя площадь  \n",
       "23067                0                  None     средняя площадь  \n",
       "23153               14                  None     средняя площадь  \n",
       "23484              298                  None     средняя площадь  \n",
       "23643                0                  None     средняя площадь  \n",
       "\n",
       "[114 rows x 24 columns]"
      ]
     },
     "execution_count": 75,
     "metadata": {},
     "output_type": "execute_result"
    }
   ],
   "source": [
    "data[data['last_price'] < 800000]"
   ]
  },
  {
   "cell_type": "code",
   "execution_count": 76,
   "metadata": {},
   "outputs": [],
   "source": [
    "data = data.loc[(data['last_price'] < 100000000) & (data['last_price'] > 900000)]"
   ]
  },
  {
   "cell_type": "markdown",
   "metadata": {},
   "source": [
    "Проверим аномальные значения в количестве дней размещения объявлений. Заметим, что есть объявления, котоые висели на сайте более 2 лет и выше. Есть даже объявления, которые находились на сайте 4 года. Эти объявления, скорее всего, либо забыли убрать, либо не закрыли администраторы сайта, поскольку обычно за размещение объявлений взимается плата, и никто бы не стал так долго их размещать."
   ]
  },
  {
   "cell_type": "code",
   "execution_count": 77,
   "metadata": {},
   "outputs": [
    {
     "data": {
      "image/png": "[encoded data removed]",
      "text/plain": [
       "<Figure size 432x288 with 1 Axes>"
      ]
     },
     "metadata": {
      "needs_background": "light"
     },
     "output_type": "display_data"
    }
   ],
   "source": [
    "data['days_exposition'].plot(kind='box')\n",
    "plt.show()"
   ]
  },
  {
   "cell_type": "code",
   "execution_count": 78,
   "metadata": {},
   "outputs": [
    {
     "data": {
      "text/html": [
       "<div>\n",
       "<style scoped>\n",
       "    .dataframe tbody tr th:only-of-type {\n",
       "        vertical-align: middle;\n",
       "    }\n",
       "\n",
       "    .dataframe tbody tr th {\n",
       "        vertical-align: top;\n",
       "    }\n",
       "\n",
       "    .dataframe thead th {\n",
       "        text-align: right;\n",
       "    }\n",
       "</style>\n",
       "<table border=\"1\" class=\"dataframe\">\n",
       "  <thead>\n",
       "    <tr style=\"text-align: right;\">\n",
       "      <th></th>\n",
       "      <th>total_images</th>\n",
       "      <th>last_price</th>\n",
       "      <th>total_area</th>\n",
       "      <th>first_day_exposition</th>\n",
       "      <th>rooms</th>\n",
       "      <th>ceiling_height</th>\n",
       "      <th>floors_total</th>\n",
       "      <th>living_area</th>\n",
       "      <th>floor</th>\n",
       "      <th>is_apartment</th>\n",
       "      <th>...</th>\n",
       "      <th>locality_name</th>\n",
       "      <th>airports_nearest</th>\n",
       "      <th>cityCenters_nearest</th>\n",
       "      <th>parks_around3000</th>\n",
       "      <th>parks_nearest</th>\n",
       "      <th>ponds_around3000</th>\n",
       "      <th>ponds_nearest</th>\n",
       "      <th>days_exposition</th>\n",
       "      <th>cityCenters_category</th>\n",
       "      <th>category_totalarea</th>\n",
       "    </tr>\n",
       "  </thead>\n",
       "  <tbody>\n",
       "    <tr>\n",
       "      <th>109</th>\n",
       "      <td>2</td>\n",
       "      <td>7497600</td>\n",
       "      <td>62.5</td>\n",
       "      <td>2015-12-08</td>\n",
       "      <td>2</td>\n",
       "      <td>2.60</td>\n",
       "      <td>5</td>\n",
       "      <td>35.5</td>\n",
       "      <td>5</td>\n",
       "      <td>True</td>\n",
       "      <td>...</td>\n",
       "      <td>Пушкин</td>\n",
       "      <td>14517.0</td>\n",
       "      <td>26670.0</td>\n",
       "      <td>1</td>\n",
       "      <td>517.0</td>\n",
       "      <td>0</td>\n",
       "      <td>NaN</td>\n",
       "      <td>1048</td>\n",
       "      <td>окраина</td>\n",
       "      <td>большая площадь</td>\n",
       "    </tr>\n",
       "    <tr>\n",
       "      <th>353</th>\n",
       "      <td>4</td>\n",
       "      <td>5990000</td>\n",
       "      <td>43.5</td>\n",
       "      <td>2015-05-08</td>\n",
       "      <td>1</td>\n",
       "      <td>3.00</td>\n",
       "      <td>5</td>\n",
       "      <td>25.0</td>\n",
       "      <td>4</td>\n",
       "      <td>True</td>\n",
       "      <td>...</td>\n",
       "      <td>Санкт-Петербург</td>\n",
       "      <td>10527.0</td>\n",
       "      <td>10278.0</td>\n",
       "      <td>1</td>\n",
       "      <td>93.0</td>\n",
       "      <td>0</td>\n",
       "      <td>NaN</td>\n",
       "      <td>1292</td>\n",
       "      <td>в городе</td>\n",
       "      <td>средняя площадь</td>\n",
       "    </tr>\n",
       "    <tr>\n",
       "      <th>398</th>\n",
       "      <td>7</td>\n",
       "      <td>12789000</td>\n",
       "      <td>79.3</td>\n",
       "      <td>2014-12-09</td>\n",
       "      <td>2</td>\n",
       "      <td>3.00</td>\n",
       "      <td>8</td>\n",
       "      <td>43.1</td>\n",
       "      <td>5</td>\n",
       "      <td>False</td>\n",
       "      <td>...</td>\n",
       "      <td>Санкт-Петербург</td>\n",
       "      <td>39393.0</td>\n",
       "      <td>11096.0</td>\n",
       "      <td>1</td>\n",
       "      <td>537.0</td>\n",
       "      <td>0</td>\n",
       "      <td>NaN</td>\n",
       "      <td>1345</td>\n",
       "      <td>в городе</td>\n",
       "      <td>большая площадь</td>\n",
       "    </tr>\n",
       "    <tr>\n",
       "      <th>437</th>\n",
       "      <td>12</td>\n",
       "      <td>3350000</td>\n",
       "      <td>37.0</td>\n",
       "      <td>2015-02-24</td>\n",
       "      <td>1</td>\n",
       "      <td>2.55</td>\n",
       "      <td>6</td>\n",
       "      <td>17.8</td>\n",
       "      <td>6</td>\n",
       "      <td>True</td>\n",
       "      <td>...</td>\n",
       "      <td>Петергоф</td>\n",
       "      <td>46151.0</td>\n",
       "      <td>34044.0</td>\n",
       "      <td>1</td>\n",
       "      <td>185.0</td>\n",
       "      <td>1</td>\n",
       "      <td>755.0</td>\n",
       "      <td>1273</td>\n",
       "      <td>окраина</td>\n",
       "      <td>средняя площадь</td>\n",
       "    </tr>\n",
       "    <tr>\n",
       "      <th>459</th>\n",
       "      <td>13</td>\n",
       "      <td>5200000</td>\n",
       "      <td>51.0</td>\n",
       "      <td>2016-03-02</td>\n",
       "      <td>2</td>\n",
       "      <td>2.55</td>\n",
       "      <td>9</td>\n",
       "      <td>32.0</td>\n",
       "      <td>5</td>\n",
       "      <td>True</td>\n",
       "      <td>...</td>\n",
       "      <td>Санкт-Петербург</td>\n",
       "      <td>48522.0</td>\n",
       "      <td>16360.0</td>\n",
       "      <td>0</td>\n",
       "      <td>NaN</td>\n",
       "      <td>0</td>\n",
       "      <td>NaN</td>\n",
       "      <td>1153</td>\n",
       "      <td>в городе</td>\n",
       "      <td>большая площадь</td>\n",
       "    </tr>\n",
       "    <tr>\n",
       "      <th>...</th>\n",
       "      <td>...</td>\n",
       "      <td>...</td>\n",
       "      <td>...</td>\n",
       "      <td>...</td>\n",
       "      <td>...</td>\n",
       "      <td>...</td>\n",
       "      <td>...</td>\n",
       "      <td>...</td>\n",
       "      <td>...</td>\n",
       "      <td>...</td>\n",
       "      <td>...</td>\n",
       "      <td>...</td>\n",
       "      <td>...</td>\n",
       "      <td>...</td>\n",
       "      <td>...</td>\n",
       "      <td>...</td>\n",
       "      <td>...</td>\n",
       "      <td>...</td>\n",
       "      <td>...</td>\n",
       "      <td>...</td>\n",
       "      <td>...</td>\n",
       "    </tr>\n",
       "    <tr>\n",
       "      <th>23248</th>\n",
       "      <td>5</td>\n",
       "      <td>4900000</td>\n",
       "      <td>80.0</td>\n",
       "      <td>2014-12-25</td>\n",
       "      <td>3</td>\n",
       "      <td>2.60</td>\n",
       "      <td>15</td>\n",
       "      <td>47.0</td>\n",
       "      <td>14</td>\n",
       "      <td>True</td>\n",
       "      <td>...</td>\n",
       "      <td>поселок Мурино</td>\n",
       "      <td>NaN</td>\n",
       "      <td>NaN</td>\n",
       "      <td>-9223372036854775808</td>\n",
       "      <td>NaN</td>\n",
       "      <td>-9223372036854775808</td>\n",
       "      <td>NaN</td>\n",
       "      <td>1187</td>\n",
       "      <td>None</td>\n",
       "      <td>большая площадь</td>\n",
       "    </tr>\n",
       "    <tr>\n",
       "      <th>23318</th>\n",
       "      <td>6</td>\n",
       "      <td>5620020</td>\n",
       "      <td>82.3</td>\n",
       "      <td>2015-03-10</td>\n",
       "      <td>3</td>\n",
       "      <td>2.70</td>\n",
       "      <td>21</td>\n",
       "      <td>45.6</td>\n",
       "      <td>12</td>\n",
       "      <td>True</td>\n",
       "      <td>...</td>\n",
       "      <td>Санкт-Петербург</td>\n",
       "      <td>21793.0</td>\n",
       "      <td>17121.0</td>\n",
       "      <td>0</td>\n",
       "      <td>NaN</td>\n",
       "      <td>1</td>\n",
       "      <td>31.0</td>\n",
       "      <td>1200</td>\n",
       "      <td>в городе</td>\n",
       "      <td>большая площадь</td>\n",
       "    </tr>\n",
       "    <tr>\n",
       "      <th>23389</th>\n",
       "      <td>6</td>\n",
       "      <td>2850000</td>\n",
       "      <td>40.0</td>\n",
       "      <td>2015-01-26</td>\n",
       "      <td>1</td>\n",
       "      <td>2.60</td>\n",
       "      <td>10</td>\n",
       "      <td>19.0</td>\n",
       "      <td>8</td>\n",
       "      <td>False</td>\n",
       "      <td>...</td>\n",
       "      <td>поселок Бугры</td>\n",
       "      <td>NaN</td>\n",
       "      <td>NaN</td>\n",
       "      <td>-9223372036854775808</td>\n",
       "      <td>NaN</td>\n",
       "      <td>-9223372036854775808</td>\n",
       "      <td>NaN</td>\n",
       "      <td>1012</td>\n",
       "      <td>None</td>\n",
       "      <td>средняя площадь</td>\n",
       "    </tr>\n",
       "    <tr>\n",
       "      <th>23426</th>\n",
       "      <td>17</td>\n",
       "      <td>8778000</td>\n",
       "      <td>47.5</td>\n",
       "      <td>2014-12-29</td>\n",
       "      <td>1</td>\n",
       "      <td>3.00</td>\n",
       "      <td>7</td>\n",
       "      <td>18.4</td>\n",
       "      <td>4</td>\n",
       "      <td>True</td>\n",
       "      <td>...</td>\n",
       "      <td>Санкт-Петербург</td>\n",
       "      <td>39412.0</td>\n",
       "      <td>10186.0</td>\n",
       "      <td>1</td>\n",
       "      <td>1424.0</td>\n",
       "      <td>3</td>\n",
       "      <td>204.0</td>\n",
       "      <td>1360</td>\n",
       "      <td>в городе</td>\n",
       "      <td>средняя площадь</td>\n",
       "    </tr>\n",
       "    <tr>\n",
       "      <th>23540</th>\n",
       "      <td>10</td>\n",
       "      <td>1500000</td>\n",
       "      <td>43.7</td>\n",
       "      <td>2016-06-28</td>\n",
       "      <td>2</td>\n",
       "      <td>2.55</td>\n",
       "      <td>3</td>\n",
       "      <td>28.0</td>\n",
       "      <td>2</td>\n",
       "      <td>True</td>\n",
       "      <td>...</td>\n",
       "      <td>деревня Рабитицы</td>\n",
       "      <td>NaN</td>\n",
       "      <td>NaN</td>\n",
       "      <td>-9223372036854775808</td>\n",
       "      <td>NaN</td>\n",
       "      <td>-9223372036854775808</td>\n",
       "      <td>NaN</td>\n",
       "      <td>1007</td>\n",
       "      <td>None</td>\n",
       "      <td>средняя площадь</td>\n",
       "    </tr>\n",
       "  </tbody>\n",
       "</table>\n",
       "<p>257 rows × 24 columns</p>\n",
       "</div>"
      ],
      "text/plain": [
       "       total_images  last_price  total_area first_day_exposition  rooms  \\\n",
       "109               2     7497600        62.5           2015-12-08      2   \n",
       "353               4     5990000        43.5           2015-05-08      1   \n",
       "398               7    12789000        79.3           2014-12-09      2   \n",
       "437              12     3350000        37.0           2015-02-24      1   \n",
       "459              13     5200000        51.0           2016-03-02      2   \n",
       "...             ...         ...         ...                  ...    ...   \n",
       "23248             5     4900000        80.0           2014-12-25      3   \n",
       "23318             6     5620020        82.3           2015-03-10      3   \n",
       "23389             6     2850000        40.0           2015-01-26      1   \n",
       "23426            17     8778000        47.5           2014-12-29      1   \n",
       "23540            10     1500000        43.7           2016-06-28      2   \n",
       "\n",
       "       ceiling_height  floors_total  living_area  floor  is_apartment  ...  \\\n",
       "109              2.60             5         35.5      5          True  ...   \n",
       "353              3.00             5         25.0      4          True  ...   \n",
       "398              3.00             8         43.1      5         False  ...   \n",
       "437              2.55             6         17.8      6          True  ...   \n",
       "459              2.55             9         32.0      5          True  ...   \n",
       "...               ...           ...          ...    ...           ...  ...   \n",
       "23248            2.60            15         47.0     14          True  ...   \n",
       "23318            2.70            21         45.6     12          True  ...   \n",
       "23389            2.60            10         19.0      8         False  ...   \n",
       "23426            3.00             7         18.4      4          True  ...   \n",
       "23540            2.55             3         28.0      2          True  ...   \n",
       "\n",
       "          locality_name  airports_nearest  cityCenters_nearest  \\\n",
       "109              Пушкин           14517.0              26670.0   \n",
       "353     Санкт-Петербург           10527.0              10278.0   \n",
       "398     Санкт-Петербург           39393.0              11096.0   \n",
       "437            Петергоф           46151.0              34044.0   \n",
       "459     Санкт-Петербург           48522.0              16360.0   \n",
       "...                 ...               ...                  ...   \n",
       "23248    поселок Мурино               NaN                  NaN   \n",
       "23318   Санкт-Петербург           21793.0              17121.0   \n",
       "23389     поселок Бугры               NaN                  NaN   \n",
       "23426   Санкт-Петербург           39412.0              10186.0   \n",
       "23540  деревня Рабитицы               NaN                  NaN   \n",
       "\n",
       "          parks_around3000 parks_nearest     ponds_around3000  ponds_nearest  \\\n",
       "109                      1         517.0                    0            NaN   \n",
       "353                      1          93.0                    0            NaN   \n",
       "398                      1         537.0                    0            NaN   \n",
       "437                      1         185.0                    1          755.0   \n",
       "459                      0           NaN                    0            NaN   \n",
       "...                    ...           ...                  ...            ...   \n",
       "23248 -9223372036854775808           NaN -9223372036854775808            NaN   \n",
       "23318                    0           NaN                    1           31.0   \n",
       "23389 -9223372036854775808           NaN -9223372036854775808            NaN   \n",
       "23426                    1        1424.0                    3          204.0   \n",
       "23540 -9223372036854775808           NaN -9223372036854775808            NaN   \n",
       "\n",
       "       days_exposition  cityCenters_category  category_totalarea  \n",
       "109               1048               окраина     большая площадь  \n",
       "353               1292              в городе     средняя площадь  \n",
       "398               1345              в городе     большая площадь  \n",
       "437               1273               окраина     средняя площадь  \n",
       "459               1153              в городе     большая площадь  \n",
       "...                ...                   ...                 ...  \n",
       "23248             1187                  None     большая площадь  \n",
       "23318             1200              в городе     большая площадь  \n",
       "23389             1012                  None     средняя площадь  \n",
       "23426             1360              в городе     средняя площадь  \n",
       "23540             1007                  None     средняя площадь  \n",
       "\n",
       "[257 rows x 24 columns]"
      ]
     },
     "execution_count": 78,
     "metadata": {},
     "output_type": "execute_result"
    }
   ],
   "source": [
    "data[data['days_exposition'] > 1000]"
   ]
  },
  {
   "cell_type": "code",
   "execution_count": 79,
   "metadata": {},
   "outputs": [],
   "source": [
    "data = data.loc[data['days_exposition'] < 1000]"
   ]
  },
  {
   "cell_type": "markdown",
   "metadata": {},
   "source": [
    "Проверим отфильтрованные данные на аномальные значения."
   ]
  },
  {
   "cell_type": "code",
   "execution_count": 80,
   "metadata": {},
   "outputs": [
    {
     "data": {
      "text/html": [
       "<div>\n",
       "<style scoped>\n",
       "    .dataframe tbody tr th:only-of-type {\n",
       "        vertical-align: middle;\n",
       "    }\n",
       "\n",
       "    .dataframe tbody tr th {\n",
       "        vertical-align: top;\n",
       "    }\n",
       "\n",
       "    .dataframe thead th {\n",
       "        text-align: right;\n",
       "    }\n",
       "</style>\n",
       "<table border=\"1\" class=\"dataframe\">\n",
       "  <thead>\n",
       "    <tr style=\"text-align: right;\">\n",
       "      <th></th>\n",
       "      <th>total_images</th>\n",
       "      <th>last_price</th>\n",
       "      <th>total_area</th>\n",
       "      <th>rooms</th>\n",
       "      <th>ceiling_height</th>\n",
       "      <th>floors_total</th>\n",
       "      <th>living_area</th>\n",
       "      <th>floor</th>\n",
       "      <th>kitchen_area</th>\n",
       "      <th>balcony</th>\n",
       "      <th>airports_nearest</th>\n",
       "      <th>cityCenters_nearest</th>\n",
       "      <th>parks_around3000</th>\n",
       "      <th>parks_nearest</th>\n",
       "      <th>ponds_around3000</th>\n",
       "      <th>ponds_nearest</th>\n",
       "      <th>days_exposition</th>\n",
       "    </tr>\n",
       "  </thead>\n",
       "  <tbody>\n",
       "    <tr>\n",
       "      <th>count</th>\n",
       "      <td>22555.000000</td>\n",
       "      <td>2.255500e+04</td>\n",
       "      <td>22555.000000</td>\n",
       "      <td>22555.000000</td>\n",
       "      <td>22555.000000</td>\n",
       "      <td>22555.000000</td>\n",
       "      <td>22555.000000</td>\n",
       "      <td>22555.000000</td>\n",
       "      <td>22555.000000</td>\n",
       "      <td>22555.000000</td>\n",
       "      <td>17273.000000</td>\n",
       "      <td>17293.000000</td>\n",
       "      <td>2.255500e+04</td>\n",
       "      <td>7508.000000</td>\n",
       "      <td>2.255500e+04</td>\n",
       "      <td>8497.000000</td>\n",
       "      <td>22555.000000</td>\n",
       "    </tr>\n",
       "    <tr>\n",
       "      <th>mean</th>\n",
       "      <td>9.866371</td>\n",
       "      <td>5.875344e+06</td>\n",
       "      <td>57.451194</td>\n",
       "      <td>2.015207</td>\n",
       "      <td>2.686291</td>\n",
       "      <td>10.856528</td>\n",
       "      <td>32.696574</td>\n",
       "      <td>5.955442</td>\n",
       "      <td>10.181997</td>\n",
       "      <td>0.605808</td>\n",
       "      <td>28906.118682</td>\n",
       "      <td>14459.064303</td>\n",
       "      <td>-2.151370e+18</td>\n",
       "      <td>492.830714</td>\n",
       "      <td>-2.151370e+18</td>\n",
       "      <td>525.074144</td>\n",
       "      <td>143.902239</td>\n",
       "    </tr>\n",
       "    <tr>\n",
       "      <th>std</th>\n",
       "      <td>5.651276</td>\n",
       "      <td>5.117893e+06</td>\n",
       "      <td>25.479522</td>\n",
       "      <td>0.968553</td>\n",
       "      <td>0.188875</td>\n",
       "      <td>6.613735</td>\n",
       "      <td>16.562649</td>\n",
       "      <td>4.908447</td>\n",
       "      <td>4.955996</td>\n",
       "      <td>0.967372</td>\n",
       "      <td>12760.178760</td>\n",
       "      <td>8498.880702</td>\n",
       "      <td>3.900663e+18</td>\n",
       "      <td>341.208590</td>\n",
       "      <td>3.900663e+18</td>\n",
       "      <td>277.242362</td>\n",
       "      <td>182.434614</td>\n",
       "    </tr>\n",
       "    <tr>\n",
       "      <th>min</th>\n",
       "      <td>0.000000</td>\n",
       "      <td>9.100000e+05</td>\n",
       "      <td>12.000000</td>\n",
       "      <td>0.000000</td>\n",
       "      <td>2.200000</td>\n",
       "      <td>1.000000</td>\n",
       "      <td>2.000000</td>\n",
       "      <td>1.000000</td>\n",
       "      <td>1.300000</td>\n",
       "      <td>0.000000</td>\n",
       "      <td>0.000000</td>\n",
       "      <td>181.000000</td>\n",
       "      <td>-9.223372e+18</td>\n",
       "      <td>1.000000</td>\n",
       "      <td>-9.223372e+18</td>\n",
       "      <td>13.000000</td>\n",
       "      <td>0.000000</td>\n",
       "    </tr>\n",
       "    <tr>\n",
       "      <th>25%</th>\n",
       "      <td>6.000000</td>\n",
       "      <td>3.400000e+06</td>\n",
       "      <td>40.000000</td>\n",
       "      <td>1.000000</td>\n",
       "      <td>2.600000</td>\n",
       "      <td>5.000000</td>\n",
       "      <td>18.400000</td>\n",
       "      <td>2.000000</td>\n",
       "      <td>7.200000</td>\n",
       "      <td>0.000000</td>\n",
       "      <td>18410.000000</td>\n",
       "      <td>9781.000000</td>\n",
       "      <td>0.000000e+00</td>\n",
       "      <td>288.750000</td>\n",
       "      <td>0.000000e+00</td>\n",
       "      <td>303.000000</td>\n",
       "      <td>22.000000</td>\n",
       "    </tr>\n",
       "    <tr>\n",
       "      <th>50%</th>\n",
       "      <td>9.000000</td>\n",
       "      <td>4.600000e+06</td>\n",
       "      <td>51.100000</td>\n",
       "      <td>2.000000</td>\n",
       "      <td>2.600000</td>\n",
       "      <td>9.000000</td>\n",
       "      <td>30.000000</td>\n",
       "      <td>4.000000</td>\n",
       "      <td>9.000000</td>\n",
       "      <td>0.000000</td>\n",
       "      <td>27102.000000</td>\n",
       "      <td>13255.000000</td>\n",
       "      <td>0.000000e+00</td>\n",
       "      <td>456.000000</td>\n",
       "      <td>0.000000e+00</td>\n",
       "      <td>510.000000</td>\n",
       "      <td>71.000000</td>\n",
       "    </tr>\n",
       "    <tr>\n",
       "      <th>75%</th>\n",
       "      <td>14.000000</td>\n",
       "      <td>6.550000e+06</td>\n",
       "      <td>68.000000</td>\n",
       "      <td>3.000000</td>\n",
       "      <td>2.750000</td>\n",
       "      <td>16.000000</td>\n",
       "      <td>41.000000</td>\n",
       "      <td>8.000000</td>\n",
       "      <td>11.200000</td>\n",
       "      <td>1.000000</td>\n",
       "      <td>37434.000000</td>\n",
       "      <td>16408.000000</td>\n",
       "      <td>1.000000e+00</td>\n",
       "      <td>614.000000</td>\n",
       "      <td>1.000000e+00</td>\n",
       "      <td>735.000000</td>\n",
       "      <td>190.000000</td>\n",
       "    </tr>\n",
       "    <tr>\n",
       "      <th>max</th>\n",
       "      <td>50.000000</td>\n",
       "      <td>9.800000e+07</td>\n",
       "      <td>199.200000</td>\n",
       "      <td>6.000000</td>\n",
       "      <td>3.490000</td>\n",
       "      <td>60.000000</td>\n",
       "      <td>159.600000</td>\n",
       "      <td>33.000000</td>\n",
       "      <td>93.000000</td>\n",
       "      <td>5.000000</td>\n",
       "      <td>84853.000000</td>\n",
       "      <td>65952.000000</td>\n",
       "      <td>3.000000e+00</td>\n",
       "      <td>3190.000000</td>\n",
       "      <td>3.000000e+00</td>\n",
       "      <td>1344.000000</td>\n",
       "      <td>999.000000</td>\n",
       "    </tr>\n",
       "  </tbody>\n",
       "</table>\n",
       "</div>"
      ],
      "text/plain": [
       "       total_images    last_price    total_area         rooms  ceiling_height  \\\n",
       "count  22555.000000  2.255500e+04  22555.000000  22555.000000    22555.000000   \n",
       "mean       9.866371  5.875344e+06     57.451194      2.015207        2.686291   \n",
       "std        5.651276  5.117893e+06     25.479522      0.968553        0.188875   \n",
       "min        0.000000  9.100000e+05     12.000000      0.000000        2.200000   \n",
       "25%        6.000000  3.400000e+06     40.000000      1.000000        2.600000   \n",
       "50%        9.000000  4.600000e+06     51.100000      2.000000        2.600000   \n",
       "75%       14.000000  6.550000e+06     68.000000      3.000000        2.750000   \n",
       "max       50.000000  9.800000e+07    199.200000      6.000000        3.490000   \n",
       "\n",
       "       floors_total   living_area         floor  kitchen_area       balcony  \\\n",
       "count  22555.000000  22555.000000  22555.000000  22555.000000  22555.000000   \n",
       "mean      10.856528     32.696574      5.955442     10.181997      0.605808   \n",
       "std        6.613735     16.562649      4.908447      4.955996      0.967372   \n",
       "min        1.000000      2.000000      1.000000      1.300000      0.000000   \n",
       "25%        5.000000     18.400000      2.000000      7.200000      0.000000   \n",
       "50%        9.000000     30.000000      4.000000      9.000000      0.000000   \n",
       "75%       16.000000     41.000000      8.000000     11.200000      1.000000   \n",
       "max       60.000000    159.600000     33.000000     93.000000      5.000000   \n",
       "\n",
       "       airports_nearest  cityCenters_nearest  parks_around3000  parks_nearest  \\\n",
       "count      17273.000000         17293.000000      2.255500e+04    7508.000000   \n",
       "mean       28906.118682         14459.064303     -2.151370e+18     492.830714   \n",
       "std        12760.178760          8498.880702      3.900663e+18     341.208590   \n",
       "min            0.000000           181.000000     -9.223372e+18       1.000000   \n",
       "25%        18410.000000          9781.000000      0.000000e+00     288.750000   \n",
       "50%        27102.000000         13255.000000      0.000000e+00     456.000000   \n",
       "75%        37434.000000         16408.000000      1.000000e+00     614.000000   \n",
       "max        84853.000000         65952.000000      3.000000e+00    3190.000000   \n",
       "\n",
       "       ponds_around3000  ponds_nearest  days_exposition  \n",
       "count      2.255500e+04    8497.000000     22555.000000  \n",
       "mean      -2.151370e+18     525.074144       143.902239  \n",
       "std        3.900663e+18     277.242362       182.434614  \n",
       "min       -9.223372e+18      13.000000         0.000000  \n",
       "25%        0.000000e+00     303.000000        22.000000  \n",
       "50%        0.000000e+00     510.000000        71.000000  \n",
       "75%        1.000000e+00     735.000000       190.000000  \n",
       "max        3.000000e+00    1344.000000       999.000000  "
      ]
     },
     "execution_count": 80,
     "metadata": {},
     "output_type": "execute_result"
    }
   ],
   "source": [
    "data.describe()"
   ]
  },
  {
   "cell_type": "markdown",
   "metadata": {},
   "source": [
    "Проверим, сколько данных было удалено из-за пропусков и аномальных значений."
   ]
  },
  {
   "cell_type": "code",
   "execution_count": 81,
   "metadata": {},
   "outputs": [
    {
     "data": {
      "text/plain": [
       "(22555, 24)"
      ]
     },
     "execution_count": 81,
     "metadata": {},
     "output_type": "execute_result"
    }
   ],
   "source": [
    "data.shape"
   ]
  },
  {
   "cell_type": "code",
   "execution_count": 82,
   "metadata": {},
   "outputs": [
    {
     "data": {
      "text/html": [
       "<div>\n",
       "<style scoped>\n",
       "    .dataframe tbody tr th:only-of-type {\n",
       "        vertical-align: middle;\n",
       "    }\n",
       "\n",
       "    .dataframe tbody tr th {\n",
       "        vertical-align: top;\n",
       "    }\n",
       "\n",
       "    .dataframe thead th {\n",
       "        text-align: right;\n",
       "    }\n",
       "</style>\n",
       "<table border=\"1\" class=\"dataframe\">\n",
       "  <thead>\n",
       "    <tr style=\"text-align: right;\">\n",
       "      <th></th>\n",
       "      <th>Количество строк</th>\n",
       "      <th>%</th>\n",
       "    </tr>\n",
       "  </thead>\n",
       "  <tbody>\n",
       "    <tr>\n",
       "      <th>0</th>\n",
       "      <td>23699</td>\n",
       "      <td>100</td>\n",
       "    </tr>\n",
       "    <tr>\n",
       "      <th>1</th>\n",
       "      <td>22555</td>\n",
       "      <td>95</td>\n",
       "    </tr>\n",
       "  </tbody>\n",
       "</table>\n",
       "</div>"
      ],
      "text/plain": [
       "   Количество строк    %\n",
       "0             23699  100\n",
       "1             22555   95"
      ]
     },
     "execution_count": 82,
     "metadata": {},
     "output_type": "execute_result"
    }
   ],
   "source": [
    "before_after = pd.DataFrame({'Количество строк': [23699, 22555], '%': [100, 95]})\n",
    "before_after"
   ]
  },
  {
   "cell_type": "markdown",
   "metadata": {},
   "source": [
    "При обработке пропусков и аномальных значений было удалено 1144 строки, что составляет 5% данных. Если удалять можно не более 10%, то мы уложились в этот диапазон."
   ]
  },
  {
   "cell_type": "markdown",
   "metadata": {},
   "source": [
    "**Вывод**\n",
    "\n",
    "Были убраны из датасета аномальные значения:\n",
    "- квартиры с потолком ниже 2,1 м. и выше 3,5 м.\n",
    "- квартиры с 7-ю и более комнатами\n",
    "- квартиры с ценой ниже 900 тыс.руб. и свыше 100 млн. руб.\n",
    "- квартиры с длительностью размещения свыше 3 лет."
   ]
  },
  {
   "cell_type": "markdown",
   "metadata": {},
   "source": [
    "### Посчитайте и добавьте в таблицу новые столбцы"
   ]
  },
  {
   "cell_type": "code",
   "execution_count": 83,
   "metadata": {
    "scrolled": true
   },
   "outputs": [
    {
     "data": {
      "text/html": [
       "<div>\n",
       "<style scoped>\n",
       "    .dataframe tbody tr th:only-of-type {\n",
       "        vertical-align: middle;\n",
       "    }\n",
       "\n",
       "    .dataframe tbody tr th {\n",
       "        vertical-align: top;\n",
       "    }\n",
       "\n",
       "    .dataframe thead th {\n",
       "        text-align: right;\n",
       "    }\n",
       "</style>\n",
       "<table border=\"1\" class=\"dataframe\">\n",
       "  <thead>\n",
       "    <tr style=\"text-align: right;\">\n",
       "      <th></th>\n",
       "      <th>total_images</th>\n",
       "      <th>last_price</th>\n",
       "      <th>total_area</th>\n",
       "      <th>first_day_exposition</th>\n",
       "      <th>rooms</th>\n",
       "      <th>ceiling_height</th>\n",
       "      <th>floors_total</th>\n",
       "      <th>living_area</th>\n",
       "      <th>floor</th>\n",
       "      <th>is_apartment</th>\n",
       "      <th>...</th>\n",
       "      <th>airports_nearest</th>\n",
       "      <th>cityCenters_nearest</th>\n",
       "      <th>parks_around3000</th>\n",
       "      <th>parks_nearest</th>\n",
       "      <th>ponds_around3000</th>\n",
       "      <th>ponds_nearest</th>\n",
       "      <th>days_exposition</th>\n",
       "      <th>cityCenters_category</th>\n",
       "      <th>category_totalarea</th>\n",
       "      <th>price_square_meter</th>\n",
       "    </tr>\n",
       "  </thead>\n",
       "  <tbody>\n",
       "    <tr>\n",
       "      <th>0</th>\n",
       "      <td>20</td>\n",
       "      <td>13000000</td>\n",
       "      <td>108.00</td>\n",
       "      <td>2019-03-07</td>\n",
       "      <td>3</td>\n",
       "      <td>2.70</td>\n",
       "      <td>16</td>\n",
       "      <td>51.0</td>\n",
       "      <td>8</td>\n",
       "      <td>True</td>\n",
       "      <td>...</td>\n",
       "      <td>18863.0</td>\n",
       "      <td>16028.0</td>\n",
       "      <td>1</td>\n",
       "      <td>482.0</td>\n",
       "      <td>2</td>\n",
       "      <td>755.0</td>\n",
       "      <td>0</td>\n",
       "      <td>в городе</td>\n",
       "      <td>большая площадь</td>\n",
       "      <td>120370.370370</td>\n",
       "    </tr>\n",
       "    <tr>\n",
       "      <th>1</th>\n",
       "      <td>7</td>\n",
       "      <td>3350000</td>\n",
       "      <td>40.40</td>\n",
       "      <td>2018-12-04</td>\n",
       "      <td>1</td>\n",
       "      <td>2.60</td>\n",
       "      <td>11</td>\n",
       "      <td>18.6</td>\n",
       "      <td>1</td>\n",
       "      <td>True</td>\n",
       "      <td>...</td>\n",
       "      <td>12817.0</td>\n",
       "      <td>18603.0</td>\n",
       "      <td>0</td>\n",
       "      <td>NaN</td>\n",
       "      <td>0</td>\n",
       "      <td>NaN</td>\n",
       "      <td>81</td>\n",
       "      <td>в городе</td>\n",
       "      <td>средняя площадь</td>\n",
       "      <td>82920.792079</td>\n",
       "    </tr>\n",
       "    <tr>\n",
       "      <th>2</th>\n",
       "      <td>10</td>\n",
       "      <td>5196000</td>\n",
       "      <td>56.00</td>\n",
       "      <td>2015-08-20</td>\n",
       "      <td>2</td>\n",
       "      <td>2.60</td>\n",
       "      <td>5</td>\n",
       "      <td>34.3</td>\n",
       "      <td>4</td>\n",
       "      <td>True</td>\n",
       "      <td>...</td>\n",
       "      <td>21741.0</td>\n",
       "      <td>13933.0</td>\n",
       "      <td>1</td>\n",
       "      <td>90.0</td>\n",
       "      <td>2</td>\n",
       "      <td>574.0</td>\n",
       "      <td>558</td>\n",
       "      <td>в городе</td>\n",
       "      <td>большая площадь</td>\n",
       "      <td>92785.714286</td>\n",
       "    </tr>\n",
       "    <tr>\n",
       "      <th>3</th>\n",
       "      <td>0</td>\n",
       "      <td>64900000</td>\n",
       "      <td>159.00</td>\n",
       "      <td>2015-07-24</td>\n",
       "      <td>3</td>\n",
       "      <td>3.00</td>\n",
       "      <td>14</td>\n",
       "      <td>112.0</td>\n",
       "      <td>9</td>\n",
       "      <td>True</td>\n",
       "      <td>...</td>\n",
       "      <td>28098.0</td>\n",
       "      <td>6800.0</td>\n",
       "      <td>2</td>\n",
       "      <td>84.0</td>\n",
       "      <td>3</td>\n",
       "      <td>234.0</td>\n",
       "      <td>424</td>\n",
       "      <td>близко к центру</td>\n",
       "      <td>очень большая площадь</td>\n",
       "      <td>408176.100629</td>\n",
       "    </tr>\n",
       "    <tr>\n",
       "      <th>4</th>\n",
       "      <td>2</td>\n",
       "      <td>10000000</td>\n",
       "      <td>100.00</td>\n",
       "      <td>2018-06-19</td>\n",
       "      <td>2</td>\n",
       "      <td>3.03</td>\n",
       "      <td>14</td>\n",
       "      <td>32.0</td>\n",
       "      <td>13</td>\n",
       "      <td>True</td>\n",
       "      <td>...</td>\n",
       "      <td>31856.0</td>\n",
       "      <td>8098.0</td>\n",
       "      <td>2</td>\n",
       "      <td>112.0</td>\n",
       "      <td>1</td>\n",
       "      <td>48.0</td>\n",
       "      <td>121</td>\n",
       "      <td>близко к центру</td>\n",
       "      <td>большая площадь</td>\n",
       "      <td>100000.000000</td>\n",
       "    </tr>\n",
       "    <tr>\n",
       "      <th>...</th>\n",
       "      <td>...</td>\n",
       "      <td>...</td>\n",
       "      <td>...</td>\n",
       "      <td>...</td>\n",
       "      <td>...</td>\n",
       "      <td>...</td>\n",
       "      <td>...</td>\n",
       "      <td>...</td>\n",
       "      <td>...</td>\n",
       "      <td>...</td>\n",
       "      <td>...</td>\n",
       "      <td>...</td>\n",
       "      <td>...</td>\n",
       "      <td>...</td>\n",
       "      <td>...</td>\n",
       "      <td>...</td>\n",
       "      <td>...</td>\n",
       "      <td>...</td>\n",
       "      <td>...</td>\n",
       "      <td>...</td>\n",
       "      <td>...</td>\n",
       "    </tr>\n",
       "    <tr>\n",
       "      <th>23693</th>\n",
       "      <td>9</td>\n",
       "      <td>4600000</td>\n",
       "      <td>62.40</td>\n",
       "      <td>2016-08-05</td>\n",
       "      <td>3</td>\n",
       "      <td>2.60</td>\n",
       "      <td>9</td>\n",
       "      <td>40.0</td>\n",
       "      <td>8</td>\n",
       "      <td>True</td>\n",
       "      <td>...</td>\n",
       "      <td>45602.0</td>\n",
       "      <td>34104.0</td>\n",
       "      <td>1</td>\n",
       "      <td>352.0</td>\n",
       "      <td>1</td>\n",
       "      <td>675.0</td>\n",
       "      <td>239</td>\n",
       "      <td>окраина</td>\n",
       "      <td>большая площадь</td>\n",
       "      <td>73717.948718</td>\n",
       "    </tr>\n",
       "    <tr>\n",
       "      <th>23695</th>\n",
       "      <td>14</td>\n",
       "      <td>3100000</td>\n",
       "      <td>59.00</td>\n",
       "      <td>2018-01-15</td>\n",
       "      <td>3</td>\n",
       "      <td>2.60</td>\n",
       "      <td>5</td>\n",
       "      <td>38.0</td>\n",
       "      <td>4</td>\n",
       "      <td>True</td>\n",
       "      <td>...</td>\n",
       "      <td>NaN</td>\n",
       "      <td>NaN</td>\n",
       "      <td>-9223372036854775808</td>\n",
       "      <td>NaN</td>\n",
       "      <td>-9223372036854775808</td>\n",
       "      <td>NaN</td>\n",
       "      <td>45</td>\n",
       "      <td>None</td>\n",
       "      <td>большая площадь</td>\n",
       "      <td>52542.372881</td>\n",
       "    </tr>\n",
       "    <tr>\n",
       "      <th>23696</th>\n",
       "      <td>18</td>\n",
       "      <td>2500000</td>\n",
       "      <td>56.70</td>\n",
       "      <td>2018-02-11</td>\n",
       "      <td>2</td>\n",
       "      <td>2.60</td>\n",
       "      <td>3</td>\n",
       "      <td>29.7</td>\n",
       "      <td>1</td>\n",
       "      <td>True</td>\n",
       "      <td>...</td>\n",
       "      <td>NaN</td>\n",
       "      <td>NaN</td>\n",
       "      <td>-9223372036854775808</td>\n",
       "      <td>NaN</td>\n",
       "      <td>-9223372036854775808</td>\n",
       "      <td>NaN</td>\n",
       "      <td>0</td>\n",
       "      <td>None</td>\n",
       "      <td>большая площадь</td>\n",
       "      <td>44091.710758</td>\n",
       "    </tr>\n",
       "    <tr>\n",
       "      <th>23697</th>\n",
       "      <td>13</td>\n",
       "      <td>11475000</td>\n",
       "      <td>76.75</td>\n",
       "      <td>2017-03-28</td>\n",
       "      <td>2</td>\n",
       "      <td>3.00</td>\n",
       "      <td>17</td>\n",
       "      <td>41.0</td>\n",
       "      <td>12</td>\n",
       "      <td>True</td>\n",
       "      <td>...</td>\n",
       "      <td>39140.0</td>\n",
       "      <td>10364.0</td>\n",
       "      <td>2</td>\n",
       "      <td>173.0</td>\n",
       "      <td>3</td>\n",
       "      <td>196.0</td>\n",
       "      <td>602</td>\n",
       "      <td>в городе</td>\n",
       "      <td>большая площадь</td>\n",
       "      <td>149511.400651</td>\n",
       "    </tr>\n",
       "    <tr>\n",
       "      <th>23698</th>\n",
       "      <td>4</td>\n",
       "      <td>1350000</td>\n",
       "      <td>32.30</td>\n",
       "      <td>2017-07-21</td>\n",
       "      <td>1</td>\n",
       "      <td>2.50</td>\n",
       "      <td>5</td>\n",
       "      <td>12.3</td>\n",
       "      <td>1</td>\n",
       "      <td>True</td>\n",
       "      <td>...</td>\n",
       "      <td>NaN</td>\n",
       "      <td>NaN</td>\n",
       "      <td>-9223372036854775808</td>\n",
       "      <td>NaN</td>\n",
       "      <td>-9223372036854775808</td>\n",
       "      <td>NaN</td>\n",
       "      <td>0</td>\n",
       "      <td>None</td>\n",
       "      <td>средняя площадь</td>\n",
       "      <td>41795.665635</td>\n",
       "    </tr>\n",
       "  </tbody>\n",
       "</table>\n",
       "<p>22555 rows × 25 columns</p>\n",
       "</div>"
      ],
      "text/plain": [
       "       total_images  last_price  total_area first_day_exposition  rooms  \\\n",
       "0                20    13000000      108.00           2019-03-07      3   \n",
       "1                 7     3350000       40.40           2018-12-04      1   \n",
       "2                10     5196000       56.00           2015-08-20      2   \n",
       "3                 0    64900000      159.00           2015-07-24      3   \n",
       "4                 2    10000000      100.00           2018-06-19      2   \n",
       "...             ...         ...         ...                  ...    ...   \n",
       "23693             9     4600000       62.40           2016-08-05      3   \n",
       "23695            14     3100000       59.00           2018-01-15      3   \n",
       "23696            18     2500000       56.70           2018-02-11      2   \n",
       "23697            13    11475000       76.75           2017-03-28      2   \n",
       "23698             4     1350000       32.30           2017-07-21      1   \n",
       "\n",
       "       ceiling_height  floors_total  living_area  floor  is_apartment  ...  \\\n",
       "0                2.70            16         51.0      8          True  ...   \n",
       "1                2.60            11         18.6      1          True  ...   \n",
       "2                2.60             5         34.3      4          True  ...   \n",
       "3                3.00            14        112.0      9          True  ...   \n",
       "4                3.03            14         32.0     13          True  ...   \n",
       "...               ...           ...          ...    ...           ...  ...   \n",
       "23693            2.60             9         40.0      8          True  ...   \n",
       "23695            2.60             5         38.0      4          True  ...   \n",
       "23696            2.60             3         29.7      1          True  ...   \n",
       "23697            3.00            17         41.0     12          True  ...   \n",
       "23698            2.50             5         12.3      1          True  ...   \n",
       "\n",
       "       airports_nearest  cityCenters_nearest     parks_around3000  \\\n",
       "0               18863.0              16028.0                    1   \n",
       "1               12817.0              18603.0                    0   \n",
       "2               21741.0              13933.0                    1   \n",
       "3               28098.0               6800.0                    2   \n",
       "4               31856.0               8098.0                    2   \n",
       "...                 ...                  ...                  ...   \n",
       "23693           45602.0              34104.0                    1   \n",
       "23695               NaN                  NaN -9223372036854775808   \n",
       "23696               NaN                  NaN -9223372036854775808   \n",
       "23697           39140.0              10364.0                    2   \n",
       "23698               NaN                  NaN -9223372036854775808   \n",
       "\n",
       "       parks_nearest     ponds_around3000  ponds_nearest  days_exposition  \\\n",
       "0              482.0                    2          755.0                0   \n",
       "1                NaN                    0            NaN               81   \n",
       "2               90.0                    2          574.0              558   \n",
       "3               84.0                    3          234.0              424   \n",
       "4              112.0                    1           48.0              121   \n",
       "...              ...                  ...            ...              ...   \n",
       "23693          352.0                    1          675.0              239   \n",
       "23695            NaN -9223372036854775808            NaN               45   \n",
       "23696            NaN -9223372036854775808            NaN                0   \n",
       "23697          173.0                    3          196.0              602   \n",
       "23698            NaN -9223372036854775808            NaN                0   \n",
       "\n",
       "       cityCenters_category     category_totalarea  price_square_meter  \n",
       "0                  в городе        большая площадь       120370.370370  \n",
       "1                  в городе        средняя площадь        82920.792079  \n",
       "2                  в городе        большая площадь        92785.714286  \n",
       "3           близко к центру  очень большая площадь       408176.100629  \n",
       "4           близко к центру        большая площадь       100000.000000  \n",
       "...                     ...                    ...                 ...  \n",
       "23693               окраина        большая площадь        73717.948718  \n",
       "23695                  None        большая площадь        52542.372881  \n",
       "23696                  None        большая площадь        44091.710758  \n",
       "23697              в городе        большая площадь       149511.400651  \n",
       "23698                  None        средняя площадь        41795.665635  \n",
       "\n",
       "[22555 rows x 25 columns]"
      ]
     },
     "execution_count": 83,
     "metadata": {},
     "output_type": "execute_result"
    }
   ],
   "source": [
    "#посчитаем цену квадратного метра\n",
    "\n",
    "data['price_square_meter'] = data['last_price'] / data['total_area']\n",
    "data"
   ]
  },
  {
   "cell_type": "code",
   "execution_count": 84,
   "metadata": {},
   "outputs": [
    {
     "data": {
      "text/html": [
       "<div>\n",
       "<style scoped>\n",
       "    .dataframe tbody tr th:only-of-type {\n",
       "        vertical-align: middle;\n",
       "    }\n",
       "\n",
       "    .dataframe tbody tr th {\n",
       "        vertical-align: top;\n",
       "    }\n",
       "\n",
       "    .dataframe thead th {\n",
       "        text-align: right;\n",
       "    }\n",
       "</style>\n",
       "<table border=\"1\" class=\"dataframe\">\n",
       "  <thead>\n",
       "    <tr style=\"text-align: right;\">\n",
       "      <th></th>\n",
       "      <th>total_images</th>\n",
       "      <th>last_price</th>\n",
       "      <th>total_area</th>\n",
       "      <th>first_day_exposition</th>\n",
       "      <th>rooms</th>\n",
       "      <th>ceiling_height</th>\n",
       "      <th>floors_total</th>\n",
       "      <th>living_area</th>\n",
       "      <th>floor</th>\n",
       "      <th>is_apartment</th>\n",
       "      <th>...</th>\n",
       "      <th>cityCenters_nearest</th>\n",
       "      <th>parks_around3000</th>\n",
       "      <th>parks_nearest</th>\n",
       "      <th>ponds_around3000</th>\n",
       "      <th>ponds_nearest</th>\n",
       "      <th>days_exposition</th>\n",
       "      <th>cityCenters_category</th>\n",
       "      <th>category_totalarea</th>\n",
       "      <th>price_square_meter</th>\n",
       "      <th>weekday_exposition</th>\n",
       "    </tr>\n",
       "  </thead>\n",
       "  <tbody>\n",
       "    <tr>\n",
       "      <th>0</th>\n",
       "      <td>20</td>\n",
       "      <td>13000000</td>\n",
       "      <td>108.00</td>\n",
       "      <td>2019-03-07</td>\n",
       "      <td>3</td>\n",
       "      <td>2.70</td>\n",
       "      <td>16</td>\n",
       "      <td>51.0</td>\n",
       "      <td>8</td>\n",
       "      <td>True</td>\n",
       "      <td>...</td>\n",
       "      <td>16028.0</td>\n",
       "      <td>1</td>\n",
       "      <td>482.0</td>\n",
       "      <td>2</td>\n",
       "      <td>755.0</td>\n",
       "      <td>0</td>\n",
       "      <td>в городе</td>\n",
       "      <td>большая площадь</td>\n",
       "      <td>120370.370370</td>\n",
       "      <td>3</td>\n",
       "    </tr>\n",
       "    <tr>\n",
       "      <th>1</th>\n",
       "      <td>7</td>\n",
       "      <td>3350000</td>\n",
       "      <td>40.40</td>\n",
       "      <td>2018-12-04</td>\n",
       "      <td>1</td>\n",
       "      <td>2.60</td>\n",
       "      <td>11</td>\n",
       "      <td>18.6</td>\n",
       "      <td>1</td>\n",
       "      <td>True</td>\n",
       "      <td>...</td>\n",
       "      <td>18603.0</td>\n",
       "      <td>0</td>\n",
       "      <td>NaN</td>\n",
       "      <td>0</td>\n",
       "      <td>NaN</td>\n",
       "      <td>81</td>\n",
       "      <td>в городе</td>\n",
       "      <td>средняя площадь</td>\n",
       "      <td>82920.792079</td>\n",
       "      <td>1</td>\n",
       "    </tr>\n",
       "    <tr>\n",
       "      <th>2</th>\n",
       "      <td>10</td>\n",
       "      <td>5196000</td>\n",
       "      <td>56.00</td>\n",
       "      <td>2015-08-20</td>\n",
       "      <td>2</td>\n",
       "      <td>2.60</td>\n",
       "      <td>5</td>\n",
       "      <td>34.3</td>\n",
       "      <td>4</td>\n",
       "      <td>True</td>\n",
       "      <td>...</td>\n",
       "      <td>13933.0</td>\n",
       "      <td>1</td>\n",
       "      <td>90.0</td>\n",
       "      <td>2</td>\n",
       "      <td>574.0</td>\n",
       "      <td>558</td>\n",
       "      <td>в городе</td>\n",
       "      <td>большая площадь</td>\n",
       "      <td>92785.714286</td>\n",
       "      <td>3</td>\n",
       "    </tr>\n",
       "    <tr>\n",
       "      <th>3</th>\n",
       "      <td>0</td>\n",
       "      <td>64900000</td>\n",
       "      <td>159.00</td>\n",
       "      <td>2015-07-24</td>\n",
       "      <td>3</td>\n",
       "      <td>3.00</td>\n",
       "      <td>14</td>\n",
       "      <td>112.0</td>\n",
       "      <td>9</td>\n",
       "      <td>True</td>\n",
       "      <td>...</td>\n",
       "      <td>6800.0</td>\n",
       "      <td>2</td>\n",
       "      <td>84.0</td>\n",
       "      <td>3</td>\n",
       "      <td>234.0</td>\n",
       "      <td>424</td>\n",
       "      <td>близко к центру</td>\n",
       "      <td>очень большая площадь</td>\n",
       "      <td>408176.100629</td>\n",
       "      <td>4</td>\n",
       "    </tr>\n",
       "    <tr>\n",
       "      <th>4</th>\n",
       "      <td>2</td>\n",
       "      <td>10000000</td>\n",
       "      <td>100.00</td>\n",
       "      <td>2018-06-19</td>\n",
       "      <td>2</td>\n",
       "      <td>3.03</td>\n",
       "      <td>14</td>\n",
       "      <td>32.0</td>\n",
       "      <td>13</td>\n",
       "      <td>True</td>\n",
       "      <td>...</td>\n",
       "      <td>8098.0</td>\n",
       "      <td>2</td>\n",
       "      <td>112.0</td>\n",
       "      <td>1</td>\n",
       "      <td>48.0</td>\n",
       "      <td>121</td>\n",
       "      <td>близко к центру</td>\n",
       "      <td>большая площадь</td>\n",
       "      <td>100000.000000</td>\n",
       "      <td>1</td>\n",
       "    </tr>\n",
       "    <tr>\n",
       "      <th>...</th>\n",
       "      <td>...</td>\n",
       "      <td>...</td>\n",
       "      <td>...</td>\n",
       "      <td>...</td>\n",
       "      <td>...</td>\n",
       "      <td>...</td>\n",
       "      <td>...</td>\n",
       "      <td>...</td>\n",
       "      <td>...</td>\n",
       "      <td>...</td>\n",
       "      <td>...</td>\n",
       "      <td>...</td>\n",
       "      <td>...</td>\n",
       "      <td>...</td>\n",
       "      <td>...</td>\n",
       "      <td>...</td>\n",
       "      <td>...</td>\n",
       "      <td>...</td>\n",
       "      <td>...</td>\n",
       "      <td>...</td>\n",
       "      <td>...</td>\n",
       "    </tr>\n",
       "    <tr>\n",
       "      <th>23693</th>\n",
       "      <td>9</td>\n",
       "      <td>4600000</td>\n",
       "      <td>62.40</td>\n",
       "      <td>2016-08-05</td>\n",
       "      <td>3</td>\n",
       "      <td>2.60</td>\n",
       "      <td>9</td>\n",
       "      <td>40.0</td>\n",
       "      <td>8</td>\n",
       "      <td>True</td>\n",
       "      <td>...</td>\n",
       "      <td>34104.0</td>\n",
       "      <td>1</td>\n",
       "      <td>352.0</td>\n",
       "      <td>1</td>\n",
       "      <td>675.0</td>\n",
       "      <td>239</td>\n",
       "      <td>окраина</td>\n",
       "      <td>большая площадь</td>\n",
       "      <td>73717.948718</td>\n",
       "      <td>4</td>\n",
       "    </tr>\n",
       "    <tr>\n",
       "      <th>23695</th>\n",
       "      <td>14</td>\n",
       "      <td>3100000</td>\n",
       "      <td>59.00</td>\n",
       "      <td>2018-01-15</td>\n",
       "      <td>3</td>\n",
       "      <td>2.60</td>\n",
       "      <td>5</td>\n",
       "      <td>38.0</td>\n",
       "      <td>4</td>\n",
       "      <td>True</td>\n",
       "      <td>...</td>\n",
       "      <td>NaN</td>\n",
       "      <td>-9223372036854775808</td>\n",
       "      <td>NaN</td>\n",
       "      <td>-9223372036854775808</td>\n",
       "      <td>NaN</td>\n",
       "      <td>45</td>\n",
       "      <td>None</td>\n",
       "      <td>большая площадь</td>\n",
       "      <td>52542.372881</td>\n",
       "      <td>0</td>\n",
       "    </tr>\n",
       "    <tr>\n",
       "      <th>23696</th>\n",
       "      <td>18</td>\n",
       "      <td>2500000</td>\n",
       "      <td>56.70</td>\n",
       "      <td>2018-02-11</td>\n",
       "      <td>2</td>\n",
       "      <td>2.60</td>\n",
       "      <td>3</td>\n",
       "      <td>29.7</td>\n",
       "      <td>1</td>\n",
       "      <td>True</td>\n",
       "      <td>...</td>\n",
       "      <td>NaN</td>\n",
       "      <td>-9223372036854775808</td>\n",
       "      <td>NaN</td>\n",
       "      <td>-9223372036854775808</td>\n",
       "      <td>NaN</td>\n",
       "      <td>0</td>\n",
       "      <td>None</td>\n",
       "      <td>большая площадь</td>\n",
       "      <td>44091.710758</td>\n",
       "      <td>6</td>\n",
       "    </tr>\n",
       "    <tr>\n",
       "      <th>23697</th>\n",
       "      <td>13</td>\n",
       "      <td>11475000</td>\n",
       "      <td>76.75</td>\n",
       "      <td>2017-03-28</td>\n",
       "      <td>2</td>\n",
       "      <td>3.00</td>\n",
       "      <td>17</td>\n",
       "      <td>41.0</td>\n",
       "      <td>12</td>\n",
       "      <td>True</td>\n",
       "      <td>...</td>\n",
       "      <td>10364.0</td>\n",
       "      <td>2</td>\n",
       "      <td>173.0</td>\n",
       "      <td>3</td>\n",
       "      <td>196.0</td>\n",
       "      <td>602</td>\n",
       "      <td>в городе</td>\n",
       "      <td>большая площадь</td>\n",
       "      <td>149511.400651</td>\n",
       "      <td>1</td>\n",
       "    </tr>\n",
       "    <tr>\n",
       "      <th>23698</th>\n",
       "      <td>4</td>\n",
       "      <td>1350000</td>\n",
       "      <td>32.30</td>\n",
       "      <td>2017-07-21</td>\n",
       "      <td>1</td>\n",
       "      <td>2.50</td>\n",
       "      <td>5</td>\n",
       "      <td>12.3</td>\n",
       "      <td>1</td>\n",
       "      <td>True</td>\n",
       "      <td>...</td>\n",
       "      <td>NaN</td>\n",
       "      <td>-9223372036854775808</td>\n",
       "      <td>NaN</td>\n",
       "      <td>-9223372036854775808</td>\n",
       "      <td>NaN</td>\n",
       "      <td>0</td>\n",
       "      <td>None</td>\n",
       "      <td>средняя площадь</td>\n",
       "      <td>41795.665635</td>\n",
       "      <td>4</td>\n",
       "    </tr>\n",
       "  </tbody>\n",
       "</table>\n",
       "<p>22555 rows × 26 columns</p>\n",
       "</div>"
      ],
      "text/plain": [
       "       total_images  last_price  total_area first_day_exposition  rooms  \\\n",
       "0                20    13000000      108.00           2019-03-07      3   \n",
       "1                 7     3350000       40.40           2018-12-04      1   \n",
       "2                10     5196000       56.00           2015-08-20      2   \n",
       "3                 0    64900000      159.00           2015-07-24      3   \n",
       "4                 2    10000000      100.00           2018-06-19      2   \n",
       "...             ...         ...         ...                  ...    ...   \n",
       "23693             9     4600000       62.40           2016-08-05      3   \n",
       "23695            14     3100000       59.00           2018-01-15      3   \n",
       "23696            18     2500000       56.70           2018-02-11      2   \n",
       "23697            13    11475000       76.75           2017-03-28      2   \n",
       "23698             4     1350000       32.30           2017-07-21      1   \n",
       "\n",
       "       ceiling_height  floors_total  living_area  floor  is_apartment  ...  \\\n",
       "0                2.70            16         51.0      8          True  ...   \n",
       "1                2.60            11         18.6      1          True  ...   \n",
       "2                2.60             5         34.3      4          True  ...   \n",
       "3                3.00            14        112.0      9          True  ...   \n",
       "4                3.03            14         32.0     13          True  ...   \n",
       "...               ...           ...          ...    ...           ...  ...   \n",
       "23693            2.60             9         40.0      8          True  ...   \n",
       "23695            2.60             5         38.0      4          True  ...   \n",
       "23696            2.60             3         29.7      1          True  ...   \n",
       "23697            3.00            17         41.0     12          True  ...   \n",
       "23698            2.50             5         12.3      1          True  ...   \n",
       "\n",
       "       cityCenters_nearest     parks_around3000  parks_nearest  \\\n",
       "0                  16028.0                    1          482.0   \n",
       "1                  18603.0                    0            NaN   \n",
       "2                  13933.0                    1           90.0   \n",
       "3                   6800.0                    2           84.0   \n",
       "4                   8098.0                    2          112.0   \n",
       "...                    ...                  ...            ...   \n",
       "23693              34104.0                    1          352.0   \n",
       "23695                  NaN -9223372036854775808            NaN   \n",
       "23696                  NaN -9223372036854775808            NaN   \n",
       "23697              10364.0                    2          173.0   \n",
       "23698                  NaN -9223372036854775808            NaN   \n",
       "\n",
       "          ponds_around3000 ponds_nearest  days_exposition  \\\n",
       "0                        2         755.0                0   \n",
       "1                        0           NaN               81   \n",
       "2                        2         574.0              558   \n",
       "3                        3         234.0              424   \n",
       "4                        1          48.0              121   \n",
       "...                    ...           ...              ...   \n",
       "23693                    1         675.0              239   \n",
       "23695 -9223372036854775808           NaN               45   \n",
       "23696 -9223372036854775808           NaN                0   \n",
       "23697                    3         196.0              602   \n",
       "23698 -9223372036854775808           NaN                0   \n",
       "\n",
       "       cityCenters_category     category_totalarea  price_square_meter  \\\n",
       "0                  в городе        большая площадь       120370.370370   \n",
       "1                  в городе        средняя площадь        82920.792079   \n",
       "2                  в городе        большая площадь        92785.714286   \n",
       "3           близко к центру  очень большая площадь       408176.100629   \n",
       "4           близко к центру        большая площадь       100000.000000   \n",
       "...                     ...                    ...                 ...   \n",
       "23693               окраина        большая площадь        73717.948718   \n",
       "23695                  None        большая площадь        52542.372881   \n",
       "23696                  None        большая площадь        44091.710758   \n",
       "23697              в городе        большая площадь       149511.400651   \n",
       "23698                  None        средняя площадь        41795.665635   \n",
       "\n",
       "       weekday_exposition  \n",
       "0                       3  \n",
       "1                       1  \n",
       "2                       3  \n",
       "3                       4  \n",
       "4                       1  \n",
       "...                   ...  \n",
       "23693                   4  \n",
       "23695                   0  \n",
       "23696                   6  \n",
       "23697                   1  \n",
       "23698                   4  \n",
       "\n",
       "[22555 rows x 26 columns]"
      ]
     },
     "execution_count": 84,
     "metadata": {},
     "output_type": "execute_result"
    }
   ],
   "source": [
    "#создаем столбец с днями недели\n",
    "\n",
    "data['weekday_exposition'] = data['first_day_exposition'].dt.weekday\n",
    "data"
   ]
  },
  {
   "cell_type": "code",
   "execution_count": 85,
   "metadata": {},
   "outputs": [
    {
     "data": {
      "text/html": [
       "<div>\n",
       "<style scoped>\n",
       "    .dataframe tbody tr th:only-of-type {\n",
       "        vertical-align: middle;\n",
       "    }\n",
       "\n",
       "    .dataframe tbody tr th {\n",
       "        vertical-align: top;\n",
       "    }\n",
       "\n",
       "    .dataframe thead th {\n",
       "        text-align: right;\n",
       "    }\n",
       "</style>\n",
       "<table border=\"1\" class=\"dataframe\">\n",
       "  <thead>\n",
       "    <tr style=\"text-align: right;\">\n",
       "      <th></th>\n",
       "      <th>total_images</th>\n",
       "      <th>last_price</th>\n",
       "      <th>total_area</th>\n",
       "      <th>first_day_exposition</th>\n",
       "      <th>rooms</th>\n",
       "      <th>ceiling_height</th>\n",
       "      <th>floors_total</th>\n",
       "      <th>living_area</th>\n",
       "      <th>floor</th>\n",
       "      <th>is_apartment</th>\n",
       "      <th>...</th>\n",
       "      <th>parks_around3000</th>\n",
       "      <th>parks_nearest</th>\n",
       "      <th>ponds_around3000</th>\n",
       "      <th>ponds_nearest</th>\n",
       "      <th>days_exposition</th>\n",
       "      <th>cityCenters_category</th>\n",
       "      <th>category_totalarea</th>\n",
       "      <th>price_square_meter</th>\n",
       "      <th>weekday_exposition</th>\n",
       "      <th>month_exposition</th>\n",
       "    </tr>\n",
       "  </thead>\n",
       "  <tbody>\n",
       "    <tr>\n",
       "      <th>0</th>\n",
       "      <td>20</td>\n",
       "      <td>13000000</td>\n",
       "      <td>108.00</td>\n",
       "      <td>2019-03-07</td>\n",
       "      <td>3</td>\n",
       "      <td>2.70</td>\n",
       "      <td>16</td>\n",
       "      <td>51.0</td>\n",
       "      <td>8</td>\n",
       "      <td>True</td>\n",
       "      <td>...</td>\n",
       "      <td>1</td>\n",
       "      <td>482.0</td>\n",
       "      <td>2</td>\n",
       "      <td>755.0</td>\n",
       "      <td>0</td>\n",
       "      <td>в городе</td>\n",
       "      <td>большая площадь</td>\n",
       "      <td>120370.370370</td>\n",
       "      <td>3</td>\n",
       "      <td>3</td>\n",
       "    </tr>\n",
       "    <tr>\n",
       "      <th>1</th>\n",
       "      <td>7</td>\n",
       "      <td>3350000</td>\n",
       "      <td>40.40</td>\n",
       "      <td>2018-12-04</td>\n",
       "      <td>1</td>\n",
       "      <td>2.60</td>\n",
       "      <td>11</td>\n",
       "      <td>18.6</td>\n",
       "      <td>1</td>\n",
       "      <td>True</td>\n",
       "      <td>...</td>\n",
       "      <td>0</td>\n",
       "      <td>NaN</td>\n",
       "      <td>0</td>\n",
       "      <td>NaN</td>\n",
       "      <td>81</td>\n",
       "      <td>в городе</td>\n",
       "      <td>средняя площадь</td>\n",
       "      <td>82920.792079</td>\n",
       "      <td>1</td>\n",
       "      <td>12</td>\n",
       "    </tr>\n",
       "    <tr>\n",
       "      <th>2</th>\n",
       "      <td>10</td>\n",
       "      <td>5196000</td>\n",
       "      <td>56.00</td>\n",
       "      <td>2015-08-20</td>\n",
       "      <td>2</td>\n",
       "      <td>2.60</td>\n",
       "      <td>5</td>\n",
       "      <td>34.3</td>\n",
       "      <td>4</td>\n",
       "      <td>True</td>\n",
       "      <td>...</td>\n",
       "      <td>1</td>\n",
       "      <td>90.0</td>\n",
       "      <td>2</td>\n",
       "      <td>574.0</td>\n",
       "      <td>558</td>\n",
       "      <td>в городе</td>\n",
       "      <td>большая площадь</td>\n",
       "      <td>92785.714286</td>\n",
       "      <td>3</td>\n",
       "      <td>8</td>\n",
       "    </tr>\n",
       "    <tr>\n",
       "      <th>3</th>\n",
       "      <td>0</td>\n",
       "      <td>64900000</td>\n",
       "      <td>159.00</td>\n",
       "      <td>2015-07-24</td>\n",
       "      <td>3</td>\n",
       "      <td>3.00</td>\n",
       "      <td>14</td>\n",
       "      <td>112.0</td>\n",
       "      <td>9</td>\n",
       "      <td>True</td>\n",
       "      <td>...</td>\n",
       "      <td>2</td>\n",
       "      <td>84.0</td>\n",
       "      <td>3</td>\n",
       "      <td>234.0</td>\n",
       "      <td>424</td>\n",
       "      <td>близко к центру</td>\n",
       "      <td>очень большая площадь</td>\n",
       "      <td>408176.100629</td>\n",
       "      <td>4</td>\n",
       "      <td>7</td>\n",
       "    </tr>\n",
       "    <tr>\n",
       "      <th>4</th>\n",
       "      <td>2</td>\n",
       "      <td>10000000</td>\n",
       "      <td>100.00</td>\n",
       "      <td>2018-06-19</td>\n",
       "      <td>2</td>\n",
       "      <td>3.03</td>\n",
       "      <td>14</td>\n",
       "      <td>32.0</td>\n",
       "      <td>13</td>\n",
       "      <td>True</td>\n",
       "      <td>...</td>\n",
       "      <td>2</td>\n",
       "      <td>112.0</td>\n",
       "      <td>1</td>\n",
       "      <td>48.0</td>\n",
       "      <td>121</td>\n",
       "      <td>близко к центру</td>\n",
       "      <td>большая площадь</td>\n",
       "      <td>100000.000000</td>\n",
       "      <td>1</td>\n",
       "      <td>6</td>\n",
       "    </tr>\n",
       "    <tr>\n",
       "      <th>...</th>\n",
       "      <td>...</td>\n",
       "      <td>...</td>\n",
       "      <td>...</td>\n",
       "      <td>...</td>\n",
       "      <td>...</td>\n",
       "      <td>...</td>\n",
       "      <td>...</td>\n",
       "      <td>...</td>\n",
       "      <td>...</td>\n",
       "      <td>...</td>\n",
       "      <td>...</td>\n",
       "      <td>...</td>\n",
       "      <td>...</td>\n",
       "      <td>...</td>\n",
       "      <td>...</td>\n",
       "      <td>...</td>\n",
       "      <td>...</td>\n",
       "      <td>...</td>\n",
       "      <td>...</td>\n",
       "      <td>...</td>\n",
       "      <td>...</td>\n",
       "    </tr>\n",
       "    <tr>\n",
       "      <th>23693</th>\n",
       "      <td>9</td>\n",
       "      <td>4600000</td>\n",
       "      <td>62.40</td>\n",
       "      <td>2016-08-05</td>\n",
       "      <td>3</td>\n",
       "      <td>2.60</td>\n",
       "      <td>9</td>\n",
       "      <td>40.0</td>\n",
       "      <td>8</td>\n",
       "      <td>True</td>\n",
       "      <td>...</td>\n",
       "      <td>1</td>\n",
       "      <td>352.0</td>\n",
       "      <td>1</td>\n",
       "      <td>675.0</td>\n",
       "      <td>239</td>\n",
       "      <td>окраина</td>\n",
       "      <td>большая площадь</td>\n",
       "      <td>73717.948718</td>\n",
       "      <td>4</td>\n",
       "      <td>8</td>\n",
       "    </tr>\n",
       "    <tr>\n",
       "      <th>23695</th>\n",
       "      <td>14</td>\n",
       "      <td>3100000</td>\n",
       "      <td>59.00</td>\n",
       "      <td>2018-01-15</td>\n",
       "      <td>3</td>\n",
       "      <td>2.60</td>\n",
       "      <td>5</td>\n",
       "      <td>38.0</td>\n",
       "      <td>4</td>\n",
       "      <td>True</td>\n",
       "      <td>...</td>\n",
       "      <td>-9223372036854775808</td>\n",
       "      <td>NaN</td>\n",
       "      <td>-9223372036854775808</td>\n",
       "      <td>NaN</td>\n",
       "      <td>45</td>\n",
       "      <td>None</td>\n",
       "      <td>большая площадь</td>\n",
       "      <td>52542.372881</td>\n",
       "      <td>0</td>\n",
       "      <td>1</td>\n",
       "    </tr>\n",
       "    <tr>\n",
       "      <th>23696</th>\n",
       "      <td>18</td>\n",
       "      <td>2500000</td>\n",
       "      <td>56.70</td>\n",
       "      <td>2018-02-11</td>\n",
       "      <td>2</td>\n",
       "      <td>2.60</td>\n",
       "      <td>3</td>\n",
       "      <td>29.7</td>\n",
       "      <td>1</td>\n",
       "      <td>True</td>\n",
       "      <td>...</td>\n",
       "      <td>-9223372036854775808</td>\n",
       "      <td>NaN</td>\n",
       "      <td>-9223372036854775808</td>\n",
       "      <td>NaN</td>\n",
       "      <td>0</td>\n",
       "      <td>None</td>\n",
       "      <td>большая площадь</td>\n",
       "      <td>44091.710758</td>\n",
       "      <td>6</td>\n",
       "      <td>2</td>\n",
       "    </tr>\n",
       "    <tr>\n",
       "      <th>23697</th>\n",
       "      <td>13</td>\n",
       "      <td>11475000</td>\n",
       "      <td>76.75</td>\n",
       "      <td>2017-03-28</td>\n",
       "      <td>2</td>\n",
       "      <td>3.00</td>\n",
       "      <td>17</td>\n",
       "      <td>41.0</td>\n",
       "      <td>12</td>\n",
       "      <td>True</td>\n",
       "      <td>...</td>\n",
       "      <td>2</td>\n",
       "      <td>173.0</td>\n",
       "      <td>3</td>\n",
       "      <td>196.0</td>\n",
       "      <td>602</td>\n",
       "      <td>в городе</td>\n",
       "      <td>большая площадь</td>\n",
       "      <td>149511.400651</td>\n",
       "      <td>1</td>\n",
       "      <td>3</td>\n",
       "    </tr>\n",
       "    <tr>\n",
       "      <th>23698</th>\n",
       "      <td>4</td>\n",
       "      <td>1350000</td>\n",
       "      <td>32.30</td>\n",
       "      <td>2017-07-21</td>\n",
       "      <td>1</td>\n",
       "      <td>2.50</td>\n",
       "      <td>5</td>\n",
       "      <td>12.3</td>\n",
       "      <td>1</td>\n",
       "      <td>True</td>\n",
       "      <td>...</td>\n",
       "      <td>-9223372036854775808</td>\n",
       "      <td>NaN</td>\n",
       "      <td>-9223372036854775808</td>\n",
       "      <td>NaN</td>\n",
       "      <td>0</td>\n",
       "      <td>None</td>\n",
       "      <td>средняя площадь</td>\n",
       "      <td>41795.665635</td>\n",
       "      <td>4</td>\n",
       "      <td>7</td>\n",
       "    </tr>\n",
       "  </tbody>\n",
       "</table>\n",
       "<p>22555 rows × 27 columns</p>\n",
       "</div>"
      ],
      "text/plain": [
       "       total_images  last_price  total_area first_day_exposition  rooms  \\\n",
       "0                20    13000000      108.00           2019-03-07      3   \n",
       "1                 7     3350000       40.40           2018-12-04      1   \n",
       "2                10     5196000       56.00           2015-08-20      2   \n",
       "3                 0    64900000      159.00           2015-07-24      3   \n",
       "4                 2    10000000      100.00           2018-06-19      2   \n",
       "...             ...         ...         ...                  ...    ...   \n",
       "23693             9     4600000       62.40           2016-08-05      3   \n",
       "23695            14     3100000       59.00           2018-01-15      3   \n",
       "23696            18     2500000       56.70           2018-02-11      2   \n",
       "23697            13    11475000       76.75           2017-03-28      2   \n",
       "23698             4     1350000       32.30           2017-07-21      1   \n",
       "\n",
       "       ceiling_height  floors_total  living_area  floor  is_apartment  ...  \\\n",
       "0                2.70            16         51.0      8          True  ...   \n",
       "1                2.60            11         18.6      1          True  ...   \n",
       "2                2.60             5         34.3      4          True  ...   \n",
       "3                3.00            14        112.0      9          True  ...   \n",
       "4                3.03            14         32.0     13          True  ...   \n",
       "...               ...           ...          ...    ...           ...  ...   \n",
       "23693            2.60             9         40.0      8          True  ...   \n",
       "23695            2.60             5         38.0      4          True  ...   \n",
       "23696            2.60             3         29.7      1          True  ...   \n",
       "23697            3.00            17         41.0     12          True  ...   \n",
       "23698            2.50             5         12.3      1          True  ...   \n",
       "\n",
       "          parks_around3000  parks_nearest     ponds_around3000  ponds_nearest  \\\n",
       "0                        1          482.0                    2          755.0   \n",
       "1                        0            NaN                    0            NaN   \n",
       "2                        1           90.0                    2          574.0   \n",
       "3                        2           84.0                    3          234.0   \n",
       "4                        2          112.0                    1           48.0   \n",
       "...                    ...            ...                  ...            ...   \n",
       "23693                    1          352.0                    1          675.0   \n",
       "23695 -9223372036854775808            NaN -9223372036854775808            NaN   \n",
       "23696 -9223372036854775808            NaN -9223372036854775808            NaN   \n",
       "23697                    2          173.0                    3          196.0   \n",
       "23698 -9223372036854775808            NaN -9223372036854775808            NaN   \n",
       "\n",
       "      days_exposition  cityCenters_category     category_totalarea  \\\n",
       "0                   0              в городе        большая площадь   \n",
       "1                  81              в городе        средняя площадь   \n",
       "2                 558              в городе        большая площадь   \n",
       "3                 424       близко к центру  очень большая площадь   \n",
       "4                 121       близко к центру        большая площадь   \n",
       "...               ...                   ...                    ...   \n",
       "23693             239               окраина        большая площадь   \n",
       "23695              45                  None        большая площадь   \n",
       "23696               0                  None        большая площадь   \n",
       "23697             602              в городе        большая площадь   \n",
       "23698               0                  None        средняя площадь   \n",
       "\n",
       "       price_square_meter  weekday_exposition  month_exposition  \n",
       "0           120370.370370                   3                 3  \n",
       "1            82920.792079                   1                12  \n",
       "2            92785.714286                   3                 8  \n",
       "3           408176.100629                   4                 7  \n",
       "4           100000.000000                   1                 6  \n",
       "...                   ...                 ...               ...  \n",
       "23693        73717.948718                   4                 8  \n",
       "23695        52542.372881                   0                 1  \n",
       "23696        44091.710758                   6                 2  \n",
       "23697       149511.400651                   1                 3  \n",
       "23698        41795.665635                   4                 7  \n",
       "\n",
       "[22555 rows x 27 columns]"
      ]
     },
     "execution_count": 85,
     "metadata": {},
     "output_type": "execute_result"
    }
   ],
   "source": [
    "#создаем столбец с месяцами, в которые были опубликованы объявления\n",
    "\n",
    "data['month_exposition'] = data['first_day_exposition'].dt.month\n",
    "data"
   ]
  },
  {
   "cell_type": "code",
   "execution_count": 86,
   "metadata": {
    "scrolled": true
   },
   "outputs": [
    {
     "data": {
      "text/html": [
       "<div>\n",
       "<style scoped>\n",
       "    .dataframe tbody tr th:only-of-type {\n",
       "        vertical-align: middle;\n",
       "    }\n",
       "\n",
       "    .dataframe tbody tr th {\n",
       "        vertical-align: top;\n",
       "    }\n",
       "\n",
       "    .dataframe thead th {\n",
       "        text-align: right;\n",
       "    }\n",
       "</style>\n",
       "<table border=\"1\" class=\"dataframe\">\n",
       "  <thead>\n",
       "    <tr style=\"text-align: right;\">\n",
       "      <th></th>\n",
       "      <th>total_images</th>\n",
       "      <th>last_price</th>\n",
       "      <th>total_area</th>\n",
       "      <th>first_day_exposition</th>\n",
       "      <th>rooms</th>\n",
       "      <th>ceiling_height</th>\n",
       "      <th>floors_total</th>\n",
       "      <th>living_area</th>\n",
       "      <th>floor</th>\n",
       "      <th>is_apartment</th>\n",
       "      <th>...</th>\n",
       "      <th>parks_nearest</th>\n",
       "      <th>ponds_around3000</th>\n",
       "      <th>ponds_nearest</th>\n",
       "      <th>days_exposition</th>\n",
       "      <th>cityCenters_category</th>\n",
       "      <th>category_totalarea</th>\n",
       "      <th>price_square_meter</th>\n",
       "      <th>weekday_exposition</th>\n",
       "      <th>month_exposition</th>\n",
       "      <th>year_exposition</th>\n",
       "    </tr>\n",
       "  </thead>\n",
       "  <tbody>\n",
       "    <tr>\n",
       "      <th>0</th>\n",
       "      <td>20</td>\n",
       "      <td>13000000</td>\n",
       "      <td>108.00</td>\n",
       "      <td>2019-03-07</td>\n",
       "      <td>3</td>\n",
       "      <td>2.70</td>\n",
       "      <td>16</td>\n",
       "      <td>51.0</td>\n",
       "      <td>8</td>\n",
       "      <td>True</td>\n",
       "      <td>...</td>\n",
       "      <td>482.0</td>\n",
       "      <td>2</td>\n",
       "      <td>755.0</td>\n",
       "      <td>0</td>\n",
       "      <td>в городе</td>\n",
       "      <td>большая площадь</td>\n",
       "      <td>120370.370370</td>\n",
       "      <td>3</td>\n",
       "      <td>3</td>\n",
       "      <td>2019</td>\n",
       "    </tr>\n",
       "    <tr>\n",
       "      <th>1</th>\n",
       "      <td>7</td>\n",
       "      <td>3350000</td>\n",
       "      <td>40.40</td>\n",
       "      <td>2018-12-04</td>\n",
       "      <td>1</td>\n",
       "      <td>2.60</td>\n",
       "      <td>11</td>\n",
       "      <td>18.6</td>\n",
       "      <td>1</td>\n",
       "      <td>True</td>\n",
       "      <td>...</td>\n",
       "      <td>NaN</td>\n",
       "      <td>0</td>\n",
       "      <td>NaN</td>\n",
       "      <td>81</td>\n",
       "      <td>в городе</td>\n",
       "      <td>средняя площадь</td>\n",
       "      <td>82920.792079</td>\n",
       "      <td>1</td>\n",
       "      <td>12</td>\n",
       "      <td>2018</td>\n",
       "    </tr>\n",
       "    <tr>\n",
       "      <th>2</th>\n",
       "      <td>10</td>\n",
       "      <td>5196000</td>\n",
       "      <td>56.00</td>\n",
       "      <td>2015-08-20</td>\n",
       "      <td>2</td>\n",
       "      <td>2.60</td>\n",
       "      <td>5</td>\n",
       "      <td>34.3</td>\n",
       "      <td>4</td>\n",
       "      <td>True</td>\n",
       "      <td>...</td>\n",
       "      <td>90.0</td>\n",
       "      <td>2</td>\n",
       "      <td>574.0</td>\n",
       "      <td>558</td>\n",
       "      <td>в городе</td>\n",
       "      <td>большая площадь</td>\n",
       "      <td>92785.714286</td>\n",
       "      <td>3</td>\n",
       "      <td>8</td>\n",
       "      <td>2015</td>\n",
       "    </tr>\n",
       "    <tr>\n",
       "      <th>3</th>\n",
       "      <td>0</td>\n",
       "      <td>64900000</td>\n",
       "      <td>159.00</td>\n",
       "      <td>2015-07-24</td>\n",
       "      <td>3</td>\n",
       "      <td>3.00</td>\n",
       "      <td>14</td>\n",
       "      <td>112.0</td>\n",
       "      <td>9</td>\n",
       "      <td>True</td>\n",
       "      <td>...</td>\n",
       "      <td>84.0</td>\n",
       "      <td>3</td>\n",
       "      <td>234.0</td>\n",
       "      <td>424</td>\n",
       "      <td>близко к центру</td>\n",
       "      <td>очень большая площадь</td>\n",
       "      <td>408176.100629</td>\n",
       "      <td>4</td>\n",
       "      <td>7</td>\n",
       "      <td>2015</td>\n",
       "    </tr>\n",
       "    <tr>\n",
       "      <th>4</th>\n",
       "      <td>2</td>\n",
       "      <td>10000000</td>\n",
       "      <td>100.00</td>\n",
       "      <td>2018-06-19</td>\n",
       "      <td>2</td>\n",
       "      <td>3.03</td>\n",
       "      <td>14</td>\n",
       "      <td>32.0</td>\n",
       "      <td>13</td>\n",
       "      <td>True</td>\n",
       "      <td>...</td>\n",
       "      <td>112.0</td>\n",
       "      <td>1</td>\n",
       "      <td>48.0</td>\n",
       "      <td>121</td>\n",
       "      <td>близко к центру</td>\n",
       "      <td>большая площадь</td>\n",
       "      <td>100000.000000</td>\n",
       "      <td>1</td>\n",
       "      <td>6</td>\n",
       "      <td>2018</td>\n",
       "    </tr>\n",
       "    <tr>\n",
       "      <th>...</th>\n",
       "      <td>...</td>\n",
       "      <td>...</td>\n",
       "      <td>...</td>\n",
       "      <td>...</td>\n",
       "      <td>...</td>\n",
       "      <td>...</td>\n",
       "      <td>...</td>\n",
       "      <td>...</td>\n",
       "      <td>...</td>\n",
       "      <td>...</td>\n",
       "      <td>...</td>\n",
       "      <td>...</td>\n",
       "      <td>...</td>\n",
       "      <td>...</td>\n",
       "      <td>...</td>\n",
       "      <td>...</td>\n",
       "      <td>...</td>\n",
       "      <td>...</td>\n",
       "      <td>...</td>\n",
       "      <td>...</td>\n",
       "      <td>...</td>\n",
       "    </tr>\n",
       "    <tr>\n",
       "      <th>23693</th>\n",
       "      <td>9</td>\n",
       "      <td>4600000</td>\n",
       "      <td>62.40</td>\n",
       "      <td>2016-08-05</td>\n",
       "      <td>3</td>\n",
       "      <td>2.60</td>\n",
       "      <td>9</td>\n",
       "      <td>40.0</td>\n",
       "      <td>8</td>\n",
       "      <td>True</td>\n",
       "      <td>...</td>\n",
       "      <td>352.0</td>\n",
       "      <td>1</td>\n",
       "      <td>675.0</td>\n",
       "      <td>239</td>\n",
       "      <td>окраина</td>\n",
       "      <td>большая площадь</td>\n",
       "      <td>73717.948718</td>\n",
       "      <td>4</td>\n",
       "      <td>8</td>\n",
       "      <td>2016</td>\n",
       "    </tr>\n",
       "    <tr>\n",
       "      <th>23695</th>\n",
       "      <td>14</td>\n",
       "      <td>3100000</td>\n",
       "      <td>59.00</td>\n",
       "      <td>2018-01-15</td>\n",
       "      <td>3</td>\n",
       "      <td>2.60</td>\n",
       "      <td>5</td>\n",
       "      <td>38.0</td>\n",
       "      <td>4</td>\n",
       "      <td>True</td>\n",
       "      <td>...</td>\n",
       "      <td>NaN</td>\n",
       "      <td>-9223372036854775808</td>\n",
       "      <td>NaN</td>\n",
       "      <td>45</td>\n",
       "      <td>None</td>\n",
       "      <td>большая площадь</td>\n",
       "      <td>52542.372881</td>\n",
       "      <td>0</td>\n",
       "      <td>1</td>\n",
       "      <td>2018</td>\n",
       "    </tr>\n",
       "    <tr>\n",
       "      <th>23696</th>\n",
       "      <td>18</td>\n",
       "      <td>2500000</td>\n",
       "      <td>56.70</td>\n",
       "      <td>2018-02-11</td>\n",
       "      <td>2</td>\n",
       "      <td>2.60</td>\n",
       "      <td>3</td>\n",
       "      <td>29.7</td>\n",
       "      <td>1</td>\n",
       "      <td>True</td>\n",
       "      <td>...</td>\n",
       "      <td>NaN</td>\n",
       "      <td>-9223372036854775808</td>\n",
       "      <td>NaN</td>\n",
       "      <td>0</td>\n",
       "      <td>None</td>\n",
       "      <td>большая площадь</td>\n",
       "      <td>44091.710758</td>\n",
       "      <td>6</td>\n",
       "      <td>2</td>\n",
       "      <td>2018</td>\n",
       "    </tr>\n",
       "    <tr>\n",
       "      <th>23697</th>\n",
       "      <td>13</td>\n",
       "      <td>11475000</td>\n",
       "      <td>76.75</td>\n",
       "      <td>2017-03-28</td>\n",
       "      <td>2</td>\n",
       "      <td>3.00</td>\n",
       "      <td>17</td>\n",
       "      <td>41.0</td>\n",
       "      <td>12</td>\n",
       "      <td>True</td>\n",
       "      <td>...</td>\n",
       "      <td>173.0</td>\n",
       "      <td>3</td>\n",
       "      <td>196.0</td>\n",
       "      <td>602</td>\n",
       "      <td>в городе</td>\n",
       "      <td>большая площадь</td>\n",
       "      <td>149511.400651</td>\n",
       "      <td>1</td>\n",
       "      <td>3</td>\n",
       "      <td>2017</td>\n",
       "    </tr>\n",
       "    <tr>\n",
       "      <th>23698</th>\n",
       "      <td>4</td>\n",
       "      <td>1350000</td>\n",
       "      <td>32.30</td>\n",
       "      <td>2017-07-21</td>\n",
       "      <td>1</td>\n",
       "      <td>2.50</td>\n",
       "      <td>5</td>\n",
       "      <td>12.3</td>\n",
       "      <td>1</td>\n",
       "      <td>True</td>\n",
       "      <td>...</td>\n",
       "      <td>NaN</td>\n",
       "      <td>-9223372036854775808</td>\n",
       "      <td>NaN</td>\n",
       "      <td>0</td>\n",
       "      <td>None</td>\n",
       "      <td>средняя площадь</td>\n",
       "      <td>41795.665635</td>\n",
       "      <td>4</td>\n",
       "      <td>7</td>\n",
       "      <td>2017</td>\n",
       "    </tr>\n",
       "  </tbody>\n",
       "</table>\n",
       "<p>22555 rows × 28 columns</p>\n",
       "</div>"
      ],
      "text/plain": [
       "       total_images  last_price  total_area first_day_exposition  rooms  \\\n",
       "0                20    13000000      108.00           2019-03-07      3   \n",
       "1                 7     3350000       40.40           2018-12-04      1   \n",
       "2                10     5196000       56.00           2015-08-20      2   \n",
       "3                 0    64900000      159.00           2015-07-24      3   \n",
       "4                 2    10000000      100.00           2018-06-19      2   \n",
       "...             ...         ...         ...                  ...    ...   \n",
       "23693             9     4600000       62.40           2016-08-05      3   \n",
       "23695            14     3100000       59.00           2018-01-15      3   \n",
       "23696            18     2500000       56.70           2018-02-11      2   \n",
       "23697            13    11475000       76.75           2017-03-28      2   \n",
       "23698             4     1350000       32.30           2017-07-21      1   \n",
       "\n",
       "       ceiling_height  floors_total  living_area  floor  is_apartment  ...  \\\n",
       "0                2.70            16         51.0      8          True  ...   \n",
       "1                2.60            11         18.6      1          True  ...   \n",
       "2                2.60             5         34.3      4          True  ...   \n",
       "3                3.00            14        112.0      9          True  ...   \n",
       "4                3.03            14         32.0     13          True  ...   \n",
       "...               ...           ...          ...    ...           ...  ...   \n",
       "23693            2.60             9         40.0      8          True  ...   \n",
       "23695            2.60             5         38.0      4          True  ...   \n",
       "23696            2.60             3         29.7      1          True  ...   \n",
       "23697            3.00            17         41.0     12          True  ...   \n",
       "23698            2.50             5         12.3      1          True  ...   \n",
       "\n",
       "       parks_nearest     ponds_around3000  ponds_nearest  days_exposition  \\\n",
       "0              482.0                    2          755.0                0   \n",
       "1                NaN                    0            NaN               81   \n",
       "2               90.0                    2          574.0              558   \n",
       "3               84.0                    3          234.0              424   \n",
       "4              112.0                    1           48.0              121   \n",
       "...              ...                  ...            ...              ...   \n",
       "23693          352.0                    1          675.0              239   \n",
       "23695            NaN -9223372036854775808            NaN               45   \n",
       "23696            NaN -9223372036854775808            NaN                0   \n",
       "23697          173.0                    3          196.0              602   \n",
       "23698            NaN -9223372036854775808            NaN                0   \n",
       "\n",
       "      cityCenters_category     category_totalarea  price_square_meter  \\\n",
       "0                 в городе        большая площадь       120370.370370   \n",
       "1                 в городе        средняя площадь        82920.792079   \n",
       "2                 в городе        большая площадь        92785.714286   \n",
       "3          близко к центру  очень большая площадь       408176.100629   \n",
       "4          близко к центру        большая площадь       100000.000000   \n",
       "...                    ...                    ...                 ...   \n",
       "23693              окраина        большая площадь        73717.948718   \n",
       "23695                 None        большая площадь        52542.372881   \n",
       "23696                 None        большая площадь        44091.710758   \n",
       "23697             в городе        большая площадь       149511.400651   \n",
       "23698                 None        средняя площадь        41795.665635   \n",
       "\n",
       "       weekday_exposition  month_exposition  year_exposition  \n",
       "0                       3                 3             2019  \n",
       "1                       1                12             2018  \n",
       "2                       3                 8             2015  \n",
       "3                       4                 7             2015  \n",
       "4                       1                 6             2018  \n",
       "...                   ...               ...              ...  \n",
       "23693                   4                 8             2016  \n",
       "23695                   0                 1             2018  \n",
       "23696                   6                 2             2018  \n",
       "23697                   1                 3             2017  \n",
       "23698                   4                 7             2017  \n",
       "\n",
       "[22555 rows x 28 columns]"
      ]
     },
     "execution_count": 86,
     "metadata": {},
     "output_type": "execute_result"
    }
   ],
   "source": [
    "#создаем столбец  с годами размещения публикации\n",
    "\n",
    "data['year_exposition'] = data['first_day_exposition'].dt.year\n",
    "data"
   ]
  },
  {
   "cell_type": "code",
   "execution_count": 87,
   "metadata": {},
   "outputs": [
    {
     "data": {
      "text/html": [
       "<div>\n",
       "<style scoped>\n",
       "    .dataframe tbody tr th:only-of-type {\n",
       "        vertical-align: middle;\n",
       "    }\n",
       "\n",
       "    .dataframe tbody tr th {\n",
       "        vertical-align: top;\n",
       "    }\n",
       "\n",
       "    .dataframe thead th {\n",
       "        text-align: right;\n",
       "    }\n",
       "</style>\n",
       "<table border=\"1\" class=\"dataframe\">\n",
       "  <thead>\n",
       "    <tr style=\"text-align: right;\">\n",
       "      <th></th>\n",
       "      <th>total_images</th>\n",
       "      <th>last_price</th>\n",
       "      <th>total_area</th>\n",
       "      <th>first_day_exposition</th>\n",
       "      <th>rooms</th>\n",
       "      <th>ceiling_height</th>\n",
       "      <th>floors_total</th>\n",
       "      <th>living_area</th>\n",
       "      <th>floor</th>\n",
       "      <th>is_apartment</th>\n",
       "      <th>...</th>\n",
       "      <th>ponds_around3000</th>\n",
       "      <th>ponds_nearest</th>\n",
       "      <th>days_exposition</th>\n",
       "      <th>cityCenters_category</th>\n",
       "      <th>category_totalarea</th>\n",
       "      <th>price_square_meter</th>\n",
       "      <th>weekday_exposition</th>\n",
       "      <th>month_exposition</th>\n",
       "      <th>year_exposition</th>\n",
       "      <th>cityCenters_nearest_km</th>\n",
       "    </tr>\n",
       "  </thead>\n",
       "  <tbody>\n",
       "    <tr>\n",
       "      <th>0</th>\n",
       "      <td>20</td>\n",
       "      <td>13000000</td>\n",
       "      <td>108.00</td>\n",
       "      <td>2019-03-07</td>\n",
       "      <td>3</td>\n",
       "      <td>2.70</td>\n",
       "      <td>16</td>\n",
       "      <td>51.0</td>\n",
       "      <td>8</td>\n",
       "      <td>True</td>\n",
       "      <td>...</td>\n",
       "      <td>2</td>\n",
       "      <td>755.0</td>\n",
       "      <td>0</td>\n",
       "      <td>в городе</td>\n",
       "      <td>большая площадь</td>\n",
       "      <td>120370.370370</td>\n",
       "      <td>3</td>\n",
       "      <td>3</td>\n",
       "      <td>2019</td>\n",
       "      <td>16</td>\n",
       "    </tr>\n",
       "    <tr>\n",
       "      <th>1</th>\n",
       "      <td>7</td>\n",
       "      <td>3350000</td>\n",
       "      <td>40.40</td>\n",
       "      <td>2018-12-04</td>\n",
       "      <td>1</td>\n",
       "      <td>2.60</td>\n",
       "      <td>11</td>\n",
       "      <td>18.6</td>\n",
       "      <td>1</td>\n",
       "      <td>True</td>\n",
       "      <td>...</td>\n",
       "      <td>0</td>\n",
       "      <td>NaN</td>\n",
       "      <td>81</td>\n",
       "      <td>в городе</td>\n",
       "      <td>средняя площадь</td>\n",
       "      <td>82920.792079</td>\n",
       "      <td>1</td>\n",
       "      <td>12</td>\n",
       "      <td>2018</td>\n",
       "      <td>18</td>\n",
       "    </tr>\n",
       "    <tr>\n",
       "      <th>2</th>\n",
       "      <td>10</td>\n",
       "      <td>5196000</td>\n",
       "      <td>56.00</td>\n",
       "      <td>2015-08-20</td>\n",
       "      <td>2</td>\n",
       "      <td>2.60</td>\n",
       "      <td>5</td>\n",
       "      <td>34.3</td>\n",
       "      <td>4</td>\n",
       "      <td>True</td>\n",
       "      <td>...</td>\n",
       "      <td>2</td>\n",
       "      <td>574.0</td>\n",
       "      <td>558</td>\n",
       "      <td>в городе</td>\n",
       "      <td>большая площадь</td>\n",
       "      <td>92785.714286</td>\n",
       "      <td>3</td>\n",
       "      <td>8</td>\n",
       "      <td>2015</td>\n",
       "      <td>13</td>\n",
       "    </tr>\n",
       "    <tr>\n",
       "      <th>3</th>\n",
       "      <td>0</td>\n",
       "      <td>64900000</td>\n",
       "      <td>159.00</td>\n",
       "      <td>2015-07-24</td>\n",
       "      <td>3</td>\n",
       "      <td>3.00</td>\n",
       "      <td>14</td>\n",
       "      <td>112.0</td>\n",
       "      <td>9</td>\n",
       "      <td>True</td>\n",
       "      <td>...</td>\n",
       "      <td>3</td>\n",
       "      <td>234.0</td>\n",
       "      <td>424</td>\n",
       "      <td>близко к центру</td>\n",
       "      <td>очень большая площадь</td>\n",
       "      <td>408176.100629</td>\n",
       "      <td>4</td>\n",
       "      <td>7</td>\n",
       "      <td>2015</td>\n",
       "      <td>6</td>\n",
       "    </tr>\n",
       "    <tr>\n",
       "      <th>4</th>\n",
       "      <td>2</td>\n",
       "      <td>10000000</td>\n",
       "      <td>100.00</td>\n",
       "      <td>2018-06-19</td>\n",
       "      <td>2</td>\n",
       "      <td>3.03</td>\n",
       "      <td>14</td>\n",
       "      <td>32.0</td>\n",
       "      <td>13</td>\n",
       "      <td>True</td>\n",
       "      <td>...</td>\n",
       "      <td>1</td>\n",
       "      <td>48.0</td>\n",
       "      <td>121</td>\n",
       "      <td>близко к центру</td>\n",
       "      <td>большая площадь</td>\n",
       "      <td>100000.000000</td>\n",
       "      <td>1</td>\n",
       "      <td>6</td>\n",
       "      <td>2018</td>\n",
       "      <td>8</td>\n",
       "    </tr>\n",
       "    <tr>\n",
       "      <th>...</th>\n",
       "      <td>...</td>\n",
       "      <td>...</td>\n",
       "      <td>...</td>\n",
       "      <td>...</td>\n",
       "      <td>...</td>\n",
       "      <td>...</td>\n",
       "      <td>...</td>\n",
       "      <td>...</td>\n",
       "      <td>...</td>\n",
       "      <td>...</td>\n",
       "      <td>...</td>\n",
       "      <td>...</td>\n",
       "      <td>...</td>\n",
       "      <td>...</td>\n",
       "      <td>...</td>\n",
       "      <td>...</td>\n",
       "      <td>...</td>\n",
       "      <td>...</td>\n",
       "      <td>...</td>\n",
       "      <td>...</td>\n",
       "      <td>...</td>\n",
       "    </tr>\n",
       "    <tr>\n",
       "      <th>23693</th>\n",
       "      <td>9</td>\n",
       "      <td>4600000</td>\n",
       "      <td>62.40</td>\n",
       "      <td>2016-08-05</td>\n",
       "      <td>3</td>\n",
       "      <td>2.60</td>\n",
       "      <td>9</td>\n",
       "      <td>40.0</td>\n",
       "      <td>8</td>\n",
       "      <td>True</td>\n",
       "      <td>...</td>\n",
       "      <td>1</td>\n",
       "      <td>675.0</td>\n",
       "      <td>239</td>\n",
       "      <td>окраина</td>\n",
       "      <td>большая площадь</td>\n",
       "      <td>73717.948718</td>\n",
       "      <td>4</td>\n",
       "      <td>8</td>\n",
       "      <td>2016</td>\n",
       "      <td>34</td>\n",
       "    </tr>\n",
       "    <tr>\n",
       "      <th>23695</th>\n",
       "      <td>14</td>\n",
       "      <td>3100000</td>\n",
       "      <td>59.00</td>\n",
       "      <td>2018-01-15</td>\n",
       "      <td>3</td>\n",
       "      <td>2.60</td>\n",
       "      <td>5</td>\n",
       "      <td>38.0</td>\n",
       "      <td>4</td>\n",
       "      <td>True</td>\n",
       "      <td>...</td>\n",
       "      <td>-9223372036854775808</td>\n",
       "      <td>NaN</td>\n",
       "      <td>45</td>\n",
       "      <td>None</td>\n",
       "      <td>большая площадь</td>\n",
       "      <td>52542.372881</td>\n",
       "      <td>0</td>\n",
       "      <td>1</td>\n",
       "      <td>2018</td>\n",
       "      <td>0</td>\n",
       "    </tr>\n",
       "    <tr>\n",
       "      <th>23696</th>\n",
       "      <td>18</td>\n",
       "      <td>2500000</td>\n",
       "      <td>56.70</td>\n",
       "      <td>2018-02-11</td>\n",
       "      <td>2</td>\n",
       "      <td>2.60</td>\n",
       "      <td>3</td>\n",
       "      <td>29.7</td>\n",
       "      <td>1</td>\n",
       "      <td>True</td>\n",
       "      <td>...</td>\n",
       "      <td>-9223372036854775808</td>\n",
       "      <td>NaN</td>\n",
       "      <td>0</td>\n",
       "      <td>None</td>\n",
       "      <td>большая площадь</td>\n",
       "      <td>44091.710758</td>\n",
       "      <td>6</td>\n",
       "      <td>2</td>\n",
       "      <td>2018</td>\n",
       "      <td>0</td>\n",
       "    </tr>\n",
       "    <tr>\n",
       "      <th>23697</th>\n",
       "      <td>13</td>\n",
       "      <td>11475000</td>\n",
       "      <td>76.75</td>\n",
       "      <td>2017-03-28</td>\n",
       "      <td>2</td>\n",
       "      <td>3.00</td>\n",
       "      <td>17</td>\n",
       "      <td>41.0</td>\n",
       "      <td>12</td>\n",
       "      <td>True</td>\n",
       "      <td>...</td>\n",
       "      <td>3</td>\n",
       "      <td>196.0</td>\n",
       "      <td>602</td>\n",
       "      <td>в городе</td>\n",
       "      <td>большая площадь</td>\n",
       "      <td>149511.400651</td>\n",
       "      <td>1</td>\n",
       "      <td>3</td>\n",
       "      <td>2017</td>\n",
       "      <td>10</td>\n",
       "    </tr>\n",
       "    <tr>\n",
       "      <th>23698</th>\n",
       "      <td>4</td>\n",
       "      <td>1350000</td>\n",
       "      <td>32.30</td>\n",
       "      <td>2017-07-21</td>\n",
       "      <td>1</td>\n",
       "      <td>2.50</td>\n",
       "      <td>5</td>\n",
       "      <td>12.3</td>\n",
       "      <td>1</td>\n",
       "      <td>True</td>\n",
       "      <td>...</td>\n",
       "      <td>-9223372036854775808</td>\n",
       "      <td>NaN</td>\n",
       "      <td>0</td>\n",
       "      <td>None</td>\n",
       "      <td>средняя площадь</td>\n",
       "      <td>41795.665635</td>\n",
       "      <td>4</td>\n",
       "      <td>7</td>\n",
       "      <td>2017</td>\n",
       "      <td>0</td>\n",
       "    </tr>\n",
       "  </tbody>\n",
       "</table>\n",
       "<p>22555 rows × 29 columns</p>\n",
       "</div>"
      ],
      "text/plain": [
       "       total_images  last_price  total_area first_day_exposition  rooms  \\\n",
       "0                20    13000000      108.00           2019-03-07      3   \n",
       "1                 7     3350000       40.40           2018-12-04      1   \n",
       "2                10     5196000       56.00           2015-08-20      2   \n",
       "3                 0    64900000      159.00           2015-07-24      3   \n",
       "4                 2    10000000      100.00           2018-06-19      2   \n",
       "...             ...         ...         ...                  ...    ...   \n",
       "23693             9     4600000       62.40           2016-08-05      3   \n",
       "23695            14     3100000       59.00           2018-01-15      3   \n",
       "23696            18     2500000       56.70           2018-02-11      2   \n",
       "23697            13    11475000       76.75           2017-03-28      2   \n",
       "23698             4     1350000       32.30           2017-07-21      1   \n",
       "\n",
       "       ceiling_height  floors_total  living_area  floor  is_apartment  ...  \\\n",
       "0                2.70            16         51.0      8          True  ...   \n",
       "1                2.60            11         18.6      1          True  ...   \n",
       "2                2.60             5         34.3      4          True  ...   \n",
       "3                3.00            14        112.0      9          True  ...   \n",
       "4                3.03            14         32.0     13          True  ...   \n",
       "...               ...           ...          ...    ...           ...  ...   \n",
       "23693            2.60             9         40.0      8          True  ...   \n",
       "23695            2.60             5         38.0      4          True  ...   \n",
       "23696            2.60             3         29.7      1          True  ...   \n",
       "23697            3.00            17         41.0     12          True  ...   \n",
       "23698            2.50             5         12.3      1          True  ...   \n",
       "\n",
       "          ponds_around3000  ponds_nearest  days_exposition  \\\n",
       "0                        2          755.0                0   \n",
       "1                        0            NaN               81   \n",
       "2                        2          574.0              558   \n",
       "3                        3          234.0              424   \n",
       "4                        1           48.0              121   \n",
       "...                    ...            ...              ...   \n",
       "23693                    1          675.0              239   \n",
       "23695 -9223372036854775808            NaN               45   \n",
       "23696 -9223372036854775808            NaN                0   \n",
       "23697                    3          196.0              602   \n",
       "23698 -9223372036854775808            NaN                0   \n",
       "\n",
       "       cityCenters_category     category_totalarea  price_square_meter  \\\n",
       "0                  в городе        большая площадь       120370.370370   \n",
       "1                  в городе        средняя площадь        82920.792079   \n",
       "2                  в городе        большая площадь        92785.714286   \n",
       "3           близко к центру  очень большая площадь       408176.100629   \n",
       "4           близко к центру        большая площадь       100000.000000   \n",
       "...                     ...                    ...                 ...   \n",
       "23693               окраина        большая площадь        73717.948718   \n",
       "23695                  None        большая площадь        52542.372881   \n",
       "23696                  None        большая площадь        44091.710758   \n",
       "23697              в городе        большая площадь       149511.400651   \n",
       "23698                  None        средняя площадь        41795.665635   \n",
       "\n",
       "       weekday_exposition  month_exposition  year_exposition  \\\n",
       "0                       3                 3             2019   \n",
       "1                       1                12             2018   \n",
       "2                       3                 8             2015   \n",
       "3                       4                 7             2015   \n",
       "4                       1                 6             2018   \n",
       "...                   ...               ...              ...   \n",
       "23693                   4                 8             2016   \n",
       "23695                   0                 1             2018   \n",
       "23696                   6                 2             2018   \n",
       "23697                   1                 3             2017   \n",
       "23698                   4                 7             2017   \n",
       "\n",
       "       cityCenters_nearest_km  \n",
       "0                          16  \n",
       "1                          18  \n",
       "2                          13  \n",
       "3                           6  \n",
       "4                           8  \n",
       "...                       ...  \n",
       "23693                      34  \n",
       "23695                       0  \n",
       "23696                       0  \n",
       "23697                      10  \n",
       "23698                       0  \n",
       "\n",
       "[22555 rows x 29 columns]"
      ]
     },
     "execution_count": 87,
     "metadata": {},
     "output_type": "execute_result"
    }
   ],
   "source": [
    "#рассчитаем расстояние до центра города в км\n",
    "\n",
    "data['cityCenters_nearest_km'] = data['cityCenters_nearest'] / 1000\n",
    "\n",
    "#меняем формат на целочисленные значения, для этого пропуски заменим на 0\n",
    "\n",
    "data['cityCenters_nearest_km'] = data['cityCenters_nearest_km'].fillna(0)\n",
    "data['cityCenters_nearest_km'] = np.int64(data['cityCenters_nearest_km'])\n",
    "data"
   ]
  },
  {
   "cell_type": "code",
   "execution_count": 88,
   "metadata": {},
   "outputs": [],
   "source": [
    "#создаем функцию для определения категорий этажа\n",
    "\n",
    "def floor_category(row):\n",
    "    if row['floor'] == 1:\n",
    "        return 'первый'\n",
    "    elif row['floor'] == row['floors_total']:\n",
    "        return 'последний'\n",
    "    else:\n",
    "        return 'другой'"
   ]
  },
  {
   "cell_type": "code",
   "execution_count": 89,
   "metadata": {},
   "outputs": [
    {
     "data": {
      "text/html": [
       "<div>\n",
       "<style scoped>\n",
       "    .dataframe tbody tr th:only-of-type {\n",
       "        vertical-align: middle;\n",
       "    }\n",
       "\n",
       "    .dataframe tbody tr th {\n",
       "        vertical-align: top;\n",
       "    }\n",
       "\n",
       "    .dataframe thead th {\n",
       "        text-align: right;\n",
       "    }\n",
       "</style>\n",
       "<table border=\"1\" class=\"dataframe\">\n",
       "  <thead>\n",
       "    <tr style=\"text-align: right;\">\n",
       "      <th></th>\n",
       "      <th>total_images</th>\n",
       "      <th>last_price</th>\n",
       "      <th>total_area</th>\n",
       "      <th>first_day_exposition</th>\n",
       "      <th>rooms</th>\n",
       "      <th>ceiling_height</th>\n",
       "      <th>floors_total</th>\n",
       "      <th>living_area</th>\n",
       "      <th>floor</th>\n",
       "      <th>is_apartment</th>\n",
       "      <th>...</th>\n",
       "      <th>ponds_nearest</th>\n",
       "      <th>days_exposition</th>\n",
       "      <th>cityCenters_category</th>\n",
       "      <th>category_totalarea</th>\n",
       "      <th>price_square_meter</th>\n",
       "      <th>weekday_exposition</th>\n",
       "      <th>month_exposition</th>\n",
       "      <th>year_exposition</th>\n",
       "      <th>cityCenters_nearest_km</th>\n",
       "      <th>floor_type</th>\n",
       "    </tr>\n",
       "  </thead>\n",
       "  <tbody>\n",
       "    <tr>\n",
       "      <th>0</th>\n",
       "      <td>20</td>\n",
       "      <td>13000000</td>\n",
       "      <td>108.0</td>\n",
       "      <td>2019-03-07</td>\n",
       "      <td>3</td>\n",
       "      <td>2.70</td>\n",
       "      <td>16</td>\n",
       "      <td>51.0</td>\n",
       "      <td>8</td>\n",
       "      <td>True</td>\n",
       "      <td>...</td>\n",
       "      <td>755.0</td>\n",
       "      <td>0</td>\n",
       "      <td>в городе</td>\n",
       "      <td>большая площадь</td>\n",
       "      <td>120370.370370</td>\n",
       "      <td>3</td>\n",
       "      <td>3</td>\n",
       "      <td>2019</td>\n",
       "      <td>16</td>\n",
       "      <td>другой</td>\n",
       "    </tr>\n",
       "    <tr>\n",
       "      <th>1</th>\n",
       "      <td>7</td>\n",
       "      <td>3350000</td>\n",
       "      <td>40.4</td>\n",
       "      <td>2018-12-04</td>\n",
       "      <td>1</td>\n",
       "      <td>2.60</td>\n",
       "      <td>11</td>\n",
       "      <td>18.6</td>\n",
       "      <td>1</td>\n",
       "      <td>True</td>\n",
       "      <td>...</td>\n",
       "      <td>NaN</td>\n",
       "      <td>81</td>\n",
       "      <td>в городе</td>\n",
       "      <td>средняя площадь</td>\n",
       "      <td>82920.792079</td>\n",
       "      <td>1</td>\n",
       "      <td>12</td>\n",
       "      <td>2018</td>\n",
       "      <td>18</td>\n",
       "      <td>первый</td>\n",
       "    </tr>\n",
       "    <tr>\n",
       "      <th>2</th>\n",
       "      <td>10</td>\n",
       "      <td>5196000</td>\n",
       "      <td>56.0</td>\n",
       "      <td>2015-08-20</td>\n",
       "      <td>2</td>\n",
       "      <td>2.60</td>\n",
       "      <td>5</td>\n",
       "      <td>34.3</td>\n",
       "      <td>4</td>\n",
       "      <td>True</td>\n",
       "      <td>...</td>\n",
       "      <td>574.0</td>\n",
       "      <td>558</td>\n",
       "      <td>в городе</td>\n",
       "      <td>большая площадь</td>\n",
       "      <td>92785.714286</td>\n",
       "      <td>3</td>\n",
       "      <td>8</td>\n",
       "      <td>2015</td>\n",
       "      <td>13</td>\n",
       "      <td>другой</td>\n",
       "    </tr>\n",
       "    <tr>\n",
       "      <th>3</th>\n",
       "      <td>0</td>\n",
       "      <td>64900000</td>\n",
       "      <td>159.0</td>\n",
       "      <td>2015-07-24</td>\n",
       "      <td>3</td>\n",
       "      <td>3.00</td>\n",
       "      <td>14</td>\n",
       "      <td>112.0</td>\n",
       "      <td>9</td>\n",
       "      <td>True</td>\n",
       "      <td>...</td>\n",
       "      <td>234.0</td>\n",
       "      <td>424</td>\n",
       "      <td>близко к центру</td>\n",
       "      <td>очень большая площадь</td>\n",
       "      <td>408176.100629</td>\n",
       "      <td>4</td>\n",
       "      <td>7</td>\n",
       "      <td>2015</td>\n",
       "      <td>6</td>\n",
       "      <td>другой</td>\n",
       "    </tr>\n",
       "    <tr>\n",
       "      <th>4</th>\n",
       "      <td>2</td>\n",
       "      <td>10000000</td>\n",
       "      <td>100.0</td>\n",
       "      <td>2018-06-19</td>\n",
       "      <td>2</td>\n",
       "      <td>3.03</td>\n",
       "      <td>14</td>\n",
       "      <td>32.0</td>\n",
       "      <td>13</td>\n",
       "      <td>True</td>\n",
       "      <td>...</td>\n",
       "      <td>48.0</td>\n",
       "      <td>121</td>\n",
       "      <td>близко к центру</td>\n",
       "      <td>большая площадь</td>\n",
       "      <td>100000.000000</td>\n",
       "      <td>1</td>\n",
       "      <td>6</td>\n",
       "      <td>2018</td>\n",
       "      <td>8</td>\n",
       "      <td>другой</td>\n",
       "    </tr>\n",
       "  </tbody>\n",
       "</table>\n",
       "<p>5 rows × 30 columns</p>\n",
       "</div>"
      ],
      "text/plain": [
       "   total_images  last_price  total_area first_day_exposition  rooms  \\\n",
       "0            20    13000000       108.0           2019-03-07      3   \n",
       "1             7     3350000        40.4           2018-12-04      1   \n",
       "2            10     5196000        56.0           2015-08-20      2   \n",
       "3             0    64900000       159.0           2015-07-24      3   \n",
       "4             2    10000000       100.0           2018-06-19      2   \n",
       "\n",
       "   ceiling_height  floors_total  living_area  floor  is_apartment  ...  \\\n",
       "0            2.70            16         51.0      8          True  ...   \n",
       "1            2.60            11         18.6      1          True  ...   \n",
       "2            2.60             5         34.3      4          True  ...   \n",
       "3            3.00            14        112.0      9          True  ...   \n",
       "4            3.03            14         32.0     13          True  ...   \n",
       "\n",
       "   ponds_nearest  days_exposition  cityCenters_category  \\\n",
       "0          755.0                0              в городе   \n",
       "1            NaN               81              в городе   \n",
       "2          574.0              558              в городе   \n",
       "3          234.0              424       близко к центру   \n",
       "4           48.0              121       близко к центру   \n",
       "\n",
       "      category_totalarea price_square_meter  weekday_exposition  \\\n",
       "0        большая площадь      120370.370370                   3   \n",
       "1        средняя площадь       82920.792079                   1   \n",
       "2        большая площадь       92785.714286                   3   \n",
       "3  очень большая площадь      408176.100629                   4   \n",
       "4        большая площадь      100000.000000                   1   \n",
       "\n",
       "   month_exposition  year_exposition  cityCenters_nearest_km  floor_type  \n",
       "0                 3             2019                      16      другой  \n",
       "1                12             2018                      18      первый  \n",
       "2                 8             2015                      13      другой  \n",
       "3                 7             2015                       6      другой  \n",
       "4                 6             2018                       8      другой  \n",
       "\n",
       "[5 rows x 30 columns]"
      ]
     },
     "execution_count": 89,
     "metadata": {},
     "output_type": "execute_result"
    }
   ],
   "source": [
    "#применим функцию к новому столбцу\n",
    "\n",
    "data['floor_type'] = data.apply(floor_category, axis=1)\n",
    "data.head()"
   ]
  },
  {
   "cell_type": "code",
   "execution_count": 90,
   "metadata": {},
   "outputs": [
    {
     "data": {
      "text/plain": [
       "другой       16719\n",
       "последний     3085\n",
       "первый        2751\n",
       "Name: floor_type, dtype: int64"
      ]
     },
     "execution_count": 90,
     "metadata": {},
     "output_type": "execute_result"
    }
   ],
   "source": [
    "data['floor_type'].value_counts()"
   ]
  },
  {
   "cell_type": "markdown",
   "metadata": {},
   "source": [
    "Новые столбцы добавлены в наш датасет."
   ]
  },
  {
   "cell_type": "markdown",
   "metadata": {},
   "source": [
    "### Проведите исследовательский анализ данных"
   ]
  },
  {
   "cell_type": "markdown",
   "metadata": {},
   "source": [
    "#### Изучение общих параметров"
   ]
  },
  {
   "cell_type": "code",
   "execution_count": 139,
   "metadata": {},
   "outputs": [
    {
     "data": {
      "image/png": "[encoded data removed]",
      "text/plain": [
       "<Figure size 432x288 with 1 Axes>"
      ]
     },
     "metadata": {
      "needs_background": "light"
     },
     "output_type": "display_data"
    }
   ],
   "source": [
    "#Рассмотрим общую площадь квартир\n",
    "\n",
    "data['total_area'].hist(bins=75, range=(10,150))\n",
    "plt.show()"
   ]
  },
  {
   "cell_type": "markdown",
   "metadata": {},
   "source": [
    "Большая часть квартир имеет площадь менее 100 кв.м. Больше всего распространены квартиры площадью примерно 40-45 кв.м. "
   ]
  },
  {
   "cell_type": "code",
   "execution_count": 92,
   "metadata": {},
   "outputs": [
    {
     "data": {
      "text/plain": [
       "count    22555.000000\n",
       "mean        57.451194\n",
       "std         25.479522\n",
       "min         12.000000\n",
       "25%         40.000000\n",
       "50%         51.100000\n",
       "75%         68.000000\n",
       "max        199.200000\n",
       "Name: total_area, dtype: float64"
      ]
     },
     "execution_count": 92,
     "metadata": {},
     "output_type": "execute_result"
    }
   ],
   "source": [
    "data['total_area'].describe()"
   ]
  },
  {
   "cell_type": "markdown",
   "metadata": {},
   "source": [
    "Средняя площадь квартир в данных составляет 57 кв.м., а медианное значение -  51 кв.м."
   ]
  },
  {
   "cell_type": "code",
   "execution_count": 93,
   "metadata": {},
   "outputs": [
    {
     "data": {
      "text/plain": [
       "<AxesSubplot:>"
      ]
     },
     "execution_count": 93,
     "metadata": {},
     "output_type": "execute_result"
    },
    {
     "data": {
      "image/png": "[encoded data removed]",
      "text/plain": [
       "<Figure size 432x288 with 1 Axes>"
      ]
     },
     "metadata": {
      "needs_background": "light"
     },
     "output_type": "display_data"
    }
   ],
   "source": [
    "data['living_area'].hist(bins=75, range = (10,80))"
   ]
  },
  {
   "cell_type": "markdown",
   "metadata": {},
   "source": [
    "Большинство квартир имеют жилую площадь от 15 до 50 кв.м. На графике наблюдаются три пика, вероятно, для однокомнатных квартир распространена площадь около 17-18 кв.м., тогда как для двухкомнатных ~ 29-30 кв.м., для трехкомнатных ~ 42-43 кв.м. Квартиры площадью более 80 кв.м. встречаются крайне редко."
   ]
  },
  {
   "cell_type": "code",
   "execution_count": 94,
   "metadata": {},
   "outputs": [
    {
     "data": {
      "text/plain": [
       "<AxesSubplot:>"
      ]
     },
     "execution_count": 94,
     "metadata": {},
     "output_type": "execute_result"
    },
    {
     "data": {
      "image/png": "[encoded data removed]",
      "text/plain": [
       "<Figure size 432x288 with 1 Axes>"
      ]
     },
     "metadata": {
      "needs_background": "light"
     },
     "output_type": "display_data"
    }
   ],
   "source": [
    "data['kitchen_area'].hist(bins=40, range=(5,30))"
   ]
  },
  {
   "cell_type": "markdown",
   "metadata": {},
   "source": [
    "Как видно из графика, квартиры с площадью кухни более 20 кв.м. встречаются крайне редко, а кухни площадью более 30 кв.м. - единичные случаи. Самые распространенные варианты квартир имеют кухни от 5 до 15 кв.м., при этом на гистограмме также видны два пика, вероятно, для квартир однокомнатных и двухкомнатных."
   ]
  },
  {
   "cell_type": "code",
   "execution_count": 95,
   "metadata": {},
   "outputs": [
    {
     "data": {
      "text/plain": [
       "<AxesSubplot:>"
      ]
     },
     "execution_count": 95,
     "metadata": {},
     "output_type": "execute_result"
    },
    {
     "data": {
      "image/png": "[encoded data removed]",
      "text/plain": [
       "<Figure size 432x288 with 1 Axes>"
      ]
     },
     "metadata": {
      "needs_background": "light"
     },
     "output_type": "display_data"
    }
   ],
   "source": [
    "data['last_price'].hist(range=(0,20000000))"
   ]
  },
  {
   "cell_type": "markdown",
   "metadata": {},
   "source": [
    "Большинство квартир имеют стоимость от 2 млн.руб. до 5-6 млн.руб. Свыше этой суммы уже намного меньше квартир выставлено на продажу."
   ]
  },
  {
   "cell_type": "code",
   "execution_count": 140,
   "metadata": {},
   "outputs": [
    {
     "data": {
      "text/plain": [
       "<AxesSubplot:>"
      ]
     },
     "execution_count": 140,
     "metadata": {},
     "output_type": "execute_result"
    },
    {
     "data": {
      "image/png": "[encoded data removed]",
      "text/plain": [
       "<Figure size 432x288 with 1 Axes>"
      ]
     },
     "metadata": {
      "needs_background": "light"
     },
     "output_type": "display_data"
    }
   ],
   "source": [
    "data['rooms'].hist(bins=6, range = (1,6))"
   ]
  },
  {
   "cell_type": "markdown",
   "metadata": {},
   "source": [
    "Более всего распространены квартиры с 1-2 комнатами, менее всего распространены квартиры с 5-6 комнатами."
   ]
  },
  {
   "cell_type": "code",
   "execution_count": 97,
   "metadata": {},
   "outputs": [
    {
     "data": {
      "text/plain": [
       "<AxesSubplot:>"
      ]
     },
     "execution_count": 97,
     "metadata": {},
     "output_type": "execute_result"
    },
    {
     "data": {
      "image/png": "[encoded data removed]",
      "text/plain": [
       "<Figure size 432x288 with 1 Axes>"
      ]
     },
     "metadata": {
      "needs_background": "light"
     },
     "output_type": "display_data"
    }
   ],
   "source": [
    "data['ceiling_height'].hist(bins=5)"
   ]
  },
  {
   "cell_type": "markdown",
   "metadata": {},
   "source": [
    "Наиболее распространенные варианты квартир имеют потолки 2,5 м. до 3,2 м. Свыше этого значения потолки кажутся подозрительно высокими, таких квартир встречается единицы."
   ]
  },
  {
   "cell_type": "code",
   "execution_count": 98,
   "metadata": {},
   "outputs": [
    {
     "data": {
      "text/plain": [
       "<AxesSubplot:>"
      ]
     },
     "execution_count": 98,
     "metadata": {},
     "output_type": "execute_result"
    },
    {
     "data": {
      "image/png": "[encoded data removed]",
      "text/plain": [
       "<Figure size 432x288 with 1 Axes>"
      ]
     },
     "metadata": {
      "needs_background": "light"
     },
     "output_type": "display_data"
    }
   ],
   "source": [
    "data['floor'].hist(bins=25, range = (1,25))"
   ]
  },
  {
   "cell_type": "markdown",
   "metadata": {},
   "source": [
    "Наиболее распространенные варианты квартир находятся с 1-15 этаж, меньше всего квартир находится с 20 по 25 этаж."
   ]
  },
  {
   "cell_type": "code",
   "execution_count": 99,
   "metadata": {},
   "outputs": [
    {
     "data": {
      "text/plain": [
       "<AxesSubplot:>"
      ]
     },
     "execution_count": 99,
     "metadata": {},
     "output_type": "execute_result"
    },
    {
     "data": {
      "image/png": "[encoded data removed]",
      "text/plain": [
       "<Figure size 432x288 with 1 Axes>"
      ]
     },
     "metadata": {
      "needs_background": "light"
     },
     "output_type": "display_data"
    }
   ],
   "source": [
    "data['floor_type'].hist(bins=3)"
   ]
  },
  {
   "cell_type": "markdown",
   "metadata": {},
   "source": [
    "Меньше квартир находится на первом этаже, чем на последнем. Большинство квартир находится на другом этаже."
   ]
  },
  {
   "cell_type": "code",
   "execution_count": 100,
   "metadata": {},
   "outputs": [
    {
     "data": {
      "text/plain": [
       "<AxesSubplot:>"
      ]
     },
     "execution_count": 100,
     "metadata": {},
     "output_type": "execute_result"
    },
    {
     "data": {
      "image/png": "[encoded data removed]",
      "text/plain": [
       "<Figure size 432x288 with 1 Axes>"
      ]
     },
     "metadata": {
      "needs_background": "light"
     },
     "output_type": "display_data"
    }
   ],
   "source": [
    "data['floors_total'].hist(bins=20, range = (0,30))"
   ]
  },
  {
   "cell_type": "markdown",
   "metadata": {},
   "source": [
    "Большинство квартир находятся в домах, этажность которых находится в пределах 5-25 этажей."
   ]
  },
  {
   "cell_type": "code",
   "execution_count": 101,
   "metadata": {},
   "outputs": [
    {
     "data": {
      "text/plain": [
       "<AxesSubplot:>"
      ]
     },
     "execution_count": 101,
     "metadata": {},
     "output_type": "execute_result"
    },
    {
     "data": {
      "image/png": "[encoded data removed]",
      "text/plain": [
       "<Figure size 432x288 with 1 Axes>"
      ]
     },
     "metadata": {
      "needs_background": "light"
     },
     "output_type": "display_data"
    }
   ],
   "source": [
    "data['cityCenters_nearest'].hist(bins=40, range=(0, 50000))"
   ]
  },
  {
   "cell_type": "markdown",
   "metadata": {},
   "source": [
    "Большинство квартир находятся в удаленности от центра до 20 км., дальше этого расстояния уже значительно меньше квартир. После 40 км. квартиры уже редко выставляются."
   ]
  },
  {
   "cell_type": "code",
   "execution_count": 102,
   "metadata": {},
   "outputs": [
    {
     "data": {
      "text/plain": [
       "<AxesSubplot:>"
      ]
     },
     "execution_count": 102,
     "metadata": {},
     "output_type": "execute_result"
    },
    {
     "data": {
      "image/png": "[encoded data removed]",
      "text/plain": [
       "<Figure size 432x288 with 1 Axes>"
      ]
     },
     "metadata": {
      "needs_background": "light"
     },
     "output_type": "display_data"
    }
   ],
   "source": [
    "data['airports_nearest'].hist(bins=55, range =(0, 60000))"
   ]
  },
  {
   "cell_type": "markdown",
   "metadata": {},
   "source": [
    "Большинство квартир находятся в 10-55 км. от аэропрота, то есть самое большое расстояние до аэропорта - это час езды на машине. Дальше, чем за 60 км. от аэропорта встречаются единичные случаи продажи квартир."
   ]
  },
  {
   "cell_type": "code",
   "execution_count": 103,
   "metadata": {},
   "outputs": [
    {
     "data": {
      "text/plain": [
       "<AxesSubplot:>"
      ]
     },
     "execution_count": 103,
     "metadata": {},
     "output_type": "execute_result"
    },
    {
     "data": {
      "image/png": "[encoded data removed]",
      "text/plain": [
       "<Figure size 432x288 with 1 Axes>"
      ]
     },
     "metadata": {
      "needs_background": "light"
     },
     "output_type": "display_data"
    }
   ],
   "source": [
    "data['parks_nearest'].hist(bins=50, range=(0, 2000))"
   ]
  },
  {
   "cell_type": "markdown",
   "metadata": {},
   "source": [
    "Большинство квартир находятся от 250-750 м. около парка, квартиры с удаленностью от парка свыше 1 км. встречаются реже."
   ]
  },
  {
   "cell_type": "code",
   "execution_count": 104,
   "metadata": {},
   "outputs": [
    {
     "data": {
      "text/plain": [
       "<AxesSubplot:>"
      ]
     },
     "execution_count": 104,
     "metadata": {},
     "output_type": "execute_result"
    },
    {
     "data": {
      "image/png": "[encoded data removed]",
      "text/plain": [
       "<Figure size 432x288 with 1 Axes>"
      ]
     },
     "metadata": {
      "needs_background": "light"
     },
     "output_type": "display_data"
    }
   ],
   "source": [
    "data['weekday_exposition'].hist(bins=6, range=(0,10))"
   ]
  },
  {
   "cell_type": "markdown",
   "metadata": {},
   "source": [
    "Большинство квартир были размещены в будни в первой половине недели, до пятницы. Меньше квартир было размещено в выходные."
   ]
  },
  {
   "cell_type": "code",
   "execution_count": 105,
   "metadata": {},
   "outputs": [
    {
     "data": {
      "text/plain": [
       "<AxesSubplot:>"
      ]
     },
     "execution_count": 105,
     "metadata": {},
     "output_type": "execute_result"
    },
    {
     "data": {
      "image/png": "[encoded data removed]",
      "text/plain": [
       "<Figure size 432x288 with 1 Axes>"
      ]
     },
     "metadata": {
      "needs_background": "light"
     },
     "output_type": "display_data"
    }
   ],
   "source": [
    "data['month_exposition'].hist()"
   ]
  },
  {
   "cell_type": "markdown",
   "metadata": {},
   "source": [
    "Можно заметить, что на продажи квартир влияет сезонный спрос, поскольку большинство квартир были размещены в начале года и в конце. \n",
    "\n",
    "Летом у многих людей отпуска, отдых и дачные заботы, поэтому в этот период мало кто занимается квартирным вопросом. При этом к осени люди начинают интересоваться переездом, продажей своей квартиры, поэтому спрос превышает предложение и можно продать квартиру по более выгодной цене. Поэтому осенью количество размещенных объявлений увеличивается вплоть до зимы. В с января по апрель также наблюдается большое количество объявлений, что тоже можно объяснить психологией людей, что в новом году хочется начать с изменения своей жизни, куда входит продажа квартиры, приобретение новой квартиры."
   ]
  },
  {
   "cell_type": "markdown",
   "metadata": {},
   "source": [
    "**Выводы**\n",
    "\n",
    "Среднестатистическая квартира, выставленная на продажу:\n",
    "* имеет площадь 40-45 кв.м.; \n",
    "* с 1-2 комнатами;\n",
    "* с потолком от 2,5 м до 3 м.; \n",
    "* стоимостью от 2 млн. руб.;\n",
    "* расположена до 20 км от центра города."
   ]
  },
  {
   "cell_type": "markdown",
   "metadata": {},
   "source": [
    "#### Продолжительность продажи квартир"
   ]
  },
  {
   "cell_type": "code",
   "execution_count": 106,
   "metadata": {},
   "outputs": [
    {
     "data": {
      "text/plain": [
       "count    22555.000000\n",
       "mean       143.902239\n",
       "std        182.434614\n",
       "min          0.000000\n",
       "25%         22.000000\n",
       "50%         71.000000\n",
       "75%        190.000000\n",
       "max        999.000000\n",
       "Name: days_exposition, dtype: float64"
      ]
     },
     "execution_count": 106,
     "metadata": {},
     "output_type": "execute_result"
    }
   ],
   "source": [
    "data['days_exposition'].describe()"
   ]
  },
  {
   "cell_type": "markdown",
   "metadata": {},
   "source": [
    "Среднее время продажи квартир - 143 дня, то есть примерно 5 месяцев. Медианное значение - 71 день, то есть чуть более 2 месяцев. Мы заполнили пропуски нулем, поэтому стоит исключить эти значения из гистограммы."
   ]
  },
  {
   "cell_type": "code",
   "execution_count": 107,
   "metadata": {},
   "outputs": [
    {
     "data": {
      "image/png": "[encoded data removed]",
      "text/plain": [
       "<Figure size 432x288 with 1 Axes>"
      ]
     },
     "metadata": {
      "needs_background": "light"
     },
     "output_type": "display_data"
    }
   ],
   "source": [
    "plt.hist(data.query('days_exposition != 0')['days_exposition'], bins=100, range=(0,250))\n",
    "plt.show()"
   ]
  },
  {
   "cell_type": "markdown",
   "metadata": {},
   "source": [
    "Большинство квартир продаются в срок до 150 дней. При этом заметим особенность, что есть несколько пиков по продаже квартир. Можно предположить, что платформа по размещению объявлений взимает деньги за размещение в какой-то период, поэтому продавцы закрывают в это время объявления. Возможно, что на почту продавцам приходит расслыка, которая предлагает либо закрыть объявление, либо оплатить следующий период размещения, поэтому возникают такие всплески продаж.\n",
    "\n",
    "Быстрой продажей можно назвать срок в 45 дней, длительная продажа - более 200 дней (полгода) и дольше."
   ]
  },
  {
   "cell_type": "markdown",
   "metadata": {},
   "source": [
    "#### Факторы, влияющие на общую (полную) стоимость объекта"
   ]
  },
  {
   "cell_type": "markdown",
   "metadata": {},
   "source": [
    "**total_area**\n",
    "\n",
    "Изучим зависимость стоимости квартиры от ее общей площади."
   ]
  },
  {
   "cell_type": "code",
   "execution_count": 108,
   "metadata": {},
   "outputs": [
    {
     "data": {
      "text/html": [
       "<div>\n",
       "<style scoped>\n",
       "    .dataframe tbody tr th:only-of-type {\n",
       "        vertical-align: middle;\n",
       "    }\n",
       "\n",
       "    .dataframe tbody tr th {\n",
       "        vertical-align: top;\n",
       "    }\n",
       "\n",
       "    .dataframe thead tr th {\n",
       "        text-align: left;\n",
       "    }\n",
       "\n",
       "    .dataframe thead tr:last-of-type th {\n",
       "        text-align: right;\n",
       "    }\n",
       "</style>\n",
       "<table border=\"1\" class=\"dataframe\">\n",
       "  <thead>\n",
       "    <tr>\n",
       "      <th></th>\n",
       "      <th>median</th>\n",
       "      <th>count</th>\n",
       "    </tr>\n",
       "    <tr>\n",
       "      <th></th>\n",
       "      <th>last_price</th>\n",
       "      <th>last_price</th>\n",
       "    </tr>\n",
       "    <tr>\n",
       "      <th>total_area</th>\n",
       "      <th></th>\n",
       "      <th></th>\n",
       "    </tr>\n",
       "  </thead>\n",
       "  <tbody>\n",
       "    <tr>\n",
       "      <th>12.0</th>\n",
       "      <td>2400000.0</td>\n",
       "      <td>1</td>\n",
       "    </tr>\n",
       "    <tr>\n",
       "      <th>13.0</th>\n",
       "      <td>1850000.0</td>\n",
       "      <td>3</td>\n",
       "    </tr>\n",
       "    <tr>\n",
       "      <th>13.2</th>\n",
       "      <td>1686000.0</td>\n",
       "      <td>1</td>\n",
       "    </tr>\n",
       "    <tr>\n",
       "      <th>14.0</th>\n",
       "      <td>1190000.0</td>\n",
       "      <td>1</td>\n",
       "    </tr>\n",
       "    <tr>\n",
       "      <th>15.0</th>\n",
       "      <td>1725000.0</td>\n",
       "      <td>2</td>\n",
       "    </tr>\n",
       "    <tr>\n",
       "      <th>...</th>\n",
       "      <td>...</td>\n",
       "      <td>...</td>\n",
       "    </tr>\n",
       "    <tr>\n",
       "      <th>197.9</th>\n",
       "      <td>32238780.0</td>\n",
       "      <td>1</td>\n",
       "    </tr>\n",
       "    <tr>\n",
       "      <th>198.0</th>\n",
       "      <td>30489500.0</td>\n",
       "      <td>2</td>\n",
       "    </tr>\n",
       "    <tr>\n",
       "      <th>198.1</th>\n",
       "      <td>20000000.0</td>\n",
       "      <td>1</td>\n",
       "    </tr>\n",
       "    <tr>\n",
       "      <th>198.9</th>\n",
       "      <td>30000000.0</td>\n",
       "      <td>1</td>\n",
       "    </tr>\n",
       "    <tr>\n",
       "      <th>199.2</th>\n",
       "      <td>18924000.0</td>\n",
       "      <td>1</td>\n",
       "    </tr>\n",
       "  </tbody>\n",
       "</table>\n",
       "<p>1933 rows × 2 columns</p>\n",
       "</div>"
      ],
      "text/plain": [
       "                median      count\n",
       "            last_price last_price\n",
       "total_area                       \n",
       "12.0         2400000.0          1\n",
       "13.0         1850000.0          3\n",
       "13.2         1686000.0          1\n",
       "14.0         1190000.0          1\n",
       "15.0         1725000.0          2\n",
       "...                ...        ...\n",
       "197.9       32238780.0          1\n",
       "198.0       30489500.0          2\n",
       "198.1       20000000.0          1\n",
       "198.9       30000000.0          1\n",
       "199.2       18924000.0          1\n",
       "\n",
       "[1933 rows x 2 columns]"
      ]
     },
     "execution_count": 108,
     "metadata": {},
     "output_type": "execute_result"
    }
   ],
   "source": [
    "pivot_total_area = data.pivot_table(index = 'total_area', values = 'last_price', aggfunc = ['median', 'count'])\n",
    "pivot_total_area"
   ]
  },
  {
   "cell_type": "code",
   "execution_count": 109,
   "metadata": {},
   "outputs": [],
   "source": [
    "#переименуем названия столбцов в таблице для удобства\n",
    "\n",
    "pivot_total_area.columns = ['median', 'count']"
   ]
  },
  {
   "cell_type": "code",
   "execution_count": 110,
   "metadata": {},
   "outputs": [
    {
     "data": {
      "text/plain": [
       "<AxesSubplot:xlabel='total_area'>"
      ]
     },
     "execution_count": 110,
     "metadata": {},
     "output_type": "execute_result"
    },
    {
     "data": {
      "image/png": "[encoded data removed]",
      "text/plain": [
       "<Figure size 432x288 with 1 Axes>"
      ]
     },
     "metadata": {
      "needs_background": "light"
     },
     "output_type": "display_data"
    }
   ],
   "source": [
    "#построим график\n",
    "\n",
    "pivot_total_area.plot(y = 'median', style = 'o')"
   ]
  },
  {
   "cell_type": "markdown",
   "metadata": {},
   "source": [
    "Исходя из графика, чем больше площадь квартиры, тем выше ее цена. Есть несколько выбросов с завышением цены квартир, но они не значительно влияют на общий тренд."
   ]
  },
  {
   "cell_type": "code",
   "execution_count": 111,
   "metadata": {},
   "outputs": [
    {
     "data": {
      "text/plain": [
       "0.7308043379936154"
      ]
     },
     "execution_count": 111,
     "metadata": {},
     "output_type": "execute_result"
    }
   ],
   "source": [
    "data['total_area'].corr(data['last_price'])"
   ]
  },
  {
   "cell_type": "markdown",
   "metadata": {},
   "source": [
    "Показатель корреляции близок к 1, что говорит о сильной положительной взаимосвязи между площадью квартиры и ее стоимостью."
   ]
  },
  {
   "cell_type": "markdown",
   "metadata": {},
   "source": [
    "**living_area**\n",
    "\n",
    "Изучим влияние жилой площади на стоимость квартиры."
   ]
  },
  {
   "cell_type": "code",
   "execution_count": 112,
   "metadata": {},
   "outputs": [
    {
     "data": {
      "text/html": [
       "<div>\n",
       "<style scoped>\n",
       "    .dataframe tbody tr th:only-of-type {\n",
       "        vertical-align: middle;\n",
       "    }\n",
       "\n",
       "    .dataframe tbody tr th {\n",
       "        vertical-align: top;\n",
       "    }\n",
       "\n",
       "    .dataframe thead th {\n",
       "        text-align: right;\n",
       "    }\n",
       "</style>\n",
       "<table border=\"1\" class=\"dataframe\">\n",
       "  <thead>\n",
       "    <tr style=\"text-align: right;\">\n",
       "      <th></th>\n",
       "      <th>median</th>\n",
       "      <th>count</th>\n",
       "    </tr>\n",
       "    <tr>\n",
       "      <th>total_area</th>\n",
       "      <th></th>\n",
       "      <th></th>\n",
       "    </tr>\n",
       "  </thead>\n",
       "  <tbody>\n",
       "    <tr>\n",
       "      <th>12.0</th>\n",
       "      <td>2400000.0</td>\n",
       "      <td>1</td>\n",
       "    </tr>\n",
       "    <tr>\n",
       "      <th>13.0</th>\n",
       "      <td>1850000.0</td>\n",
       "      <td>3</td>\n",
       "    </tr>\n",
       "    <tr>\n",
       "      <th>13.2</th>\n",
       "      <td>1686000.0</td>\n",
       "      <td>1</td>\n",
       "    </tr>\n",
       "    <tr>\n",
       "      <th>14.0</th>\n",
       "      <td>1190000.0</td>\n",
       "      <td>1</td>\n",
       "    </tr>\n",
       "    <tr>\n",
       "      <th>15.0</th>\n",
       "      <td>1725000.0</td>\n",
       "      <td>2</td>\n",
       "    </tr>\n",
       "    <tr>\n",
       "      <th>...</th>\n",
       "      <td>...</td>\n",
       "      <td>...</td>\n",
       "    </tr>\n",
       "    <tr>\n",
       "      <th>197.9</th>\n",
       "      <td>32238780.0</td>\n",
       "      <td>1</td>\n",
       "    </tr>\n",
       "    <tr>\n",
       "      <th>198.0</th>\n",
       "      <td>30489500.0</td>\n",
       "      <td>2</td>\n",
       "    </tr>\n",
       "    <tr>\n",
       "      <th>198.1</th>\n",
       "      <td>20000000.0</td>\n",
       "      <td>1</td>\n",
       "    </tr>\n",
       "    <tr>\n",
       "      <th>198.9</th>\n",
       "      <td>30000000.0</td>\n",
       "      <td>1</td>\n",
       "    </tr>\n",
       "    <tr>\n",
       "      <th>199.2</th>\n",
       "      <td>18924000.0</td>\n",
       "      <td>1</td>\n",
       "    </tr>\n",
       "  </tbody>\n",
       "</table>\n",
       "<p>1933 rows × 2 columns</p>\n",
       "</div>"
      ],
      "text/plain": [
       "                median  count\n",
       "total_area                   \n",
       "12.0         2400000.0      1\n",
       "13.0         1850000.0      3\n",
       "13.2         1686000.0      1\n",
       "14.0         1190000.0      1\n",
       "15.0         1725000.0      2\n",
       "...                ...    ...\n",
       "197.9       32238780.0      1\n",
       "198.0       30489500.0      2\n",
       "198.1       20000000.0      1\n",
       "198.9       30000000.0      1\n",
       "199.2       18924000.0      1\n",
       "\n",
       "[1933 rows x 2 columns]"
      ]
     },
     "execution_count": 112,
     "metadata": {},
     "output_type": "execute_result"
    }
   ],
   "source": [
    "pivot_living_area = data.pivot_table(index = 'living_area', values = 'last_price', aggfunc = ['median', 'count'])\n",
    "pivot_total_area"
   ]
  },
  {
   "cell_type": "code",
   "execution_count": 113,
   "metadata": {},
   "outputs": [],
   "source": [
    "#переименуем названия столбцов в таблице для удобства\n",
    "\n",
    "pivot_living_area.columns = ['median', 'count']"
   ]
  },
  {
   "cell_type": "code",
   "execution_count": 114,
   "metadata": {},
   "outputs": [
    {
     "data": {
      "text/plain": [
       "<AxesSubplot:xlabel='living_area'>"
      ]
     },
     "execution_count": 114,
     "metadata": {},
     "output_type": "execute_result"
    },
    {
     "data": {
      "image/png": "[encoded data removed]",
      "text/plain": [
       "<Figure size 432x288 with 1 Axes>"
      ]
     },
     "metadata": {
      "needs_background": "light"
     },
     "output_type": "display_data"
    }
   ],
   "source": [
    "#построим график\n",
    "\n",
    "pivot_living_area.plot(y = 'median', style = 'o')"
   ]
  },
  {
   "cell_type": "markdown",
   "metadata": {},
   "source": [
    "На графике также видна зависимость цены квартиры от жилой площади: чем больше жилая площадь, тем выше стоимость квартиры."
   ]
  },
  {
   "cell_type": "code",
   "execution_count": 115,
   "metadata": {},
   "outputs": [
    {
     "data": {
      "text/plain": [
       "0.6097743316306545"
      ]
     },
     "execution_count": 115,
     "metadata": {},
     "output_type": "execute_result"
    }
   ],
   "source": [
    "data['living_area'].corr(data['last_price'])"
   ]
  },
  {
   "cell_type": "markdown",
   "metadata": {},
   "source": [
    "Показатель корреляции также указывает на сильную взаимосвязь, однако данная связь уже немного ниже, чем в случае с общей площадью."
   ]
  },
  {
   "cell_type": "markdown",
   "metadata": {},
   "source": [
    "**kitchen_area**\n",
    "\n",
    "Изучим влияние площади кухни на стоимость квартиры."
   ]
  },
  {
   "cell_type": "code",
   "execution_count": 116,
   "metadata": {},
   "outputs": [
    {
     "data": {
      "text/html": [
       "<div>\n",
       "<style scoped>\n",
       "    .dataframe tbody tr th:only-of-type {\n",
       "        vertical-align: middle;\n",
       "    }\n",
       "\n",
       "    .dataframe tbody tr th {\n",
       "        vertical-align: top;\n",
       "    }\n",
       "\n",
       "    .dataframe thead tr th {\n",
       "        text-align: left;\n",
       "    }\n",
       "\n",
       "    .dataframe thead tr:last-of-type th {\n",
       "        text-align: right;\n",
       "    }\n",
       "</style>\n",
       "<table border=\"1\" class=\"dataframe\">\n",
       "  <thead>\n",
       "    <tr>\n",
       "      <th></th>\n",
       "      <th>median</th>\n",
       "      <th>count</th>\n",
       "    </tr>\n",
       "    <tr>\n",
       "      <th></th>\n",
       "      <th>last_price</th>\n",
       "      <th>last_price</th>\n",
       "    </tr>\n",
       "    <tr>\n",
       "      <th>kitchen_area</th>\n",
       "      <th></th>\n",
       "      <th></th>\n",
       "    </tr>\n",
       "  </thead>\n",
       "  <tbody>\n",
       "    <tr>\n",
       "      <th>1.30</th>\n",
       "      <td>4250000.0</td>\n",
       "      <td>1</td>\n",
       "    </tr>\n",
       "    <tr>\n",
       "      <th>2.00</th>\n",
       "      <td>2720000.0</td>\n",
       "      <td>7</td>\n",
       "    </tr>\n",
       "    <tr>\n",
       "      <th>2.30</th>\n",
       "      <td>2940000.0</td>\n",
       "      <td>1</td>\n",
       "    </tr>\n",
       "    <tr>\n",
       "      <th>2.40</th>\n",
       "      <td>2200000.0</td>\n",
       "      <td>1</td>\n",
       "    </tr>\n",
       "    <tr>\n",
       "      <th>2.89</th>\n",
       "      <td>5967734.0</td>\n",
       "      <td>1</td>\n",
       "    </tr>\n",
       "    <tr>\n",
       "      <th>...</th>\n",
       "      <td>...</td>\n",
       "      <td>...</td>\n",
       "    </tr>\n",
       "    <tr>\n",
       "      <th>63.00</th>\n",
       "      <td>40000000.0</td>\n",
       "      <td>1</td>\n",
       "    </tr>\n",
       "    <tr>\n",
       "      <th>64.00</th>\n",
       "      <td>10495000.0</td>\n",
       "      <td>2</td>\n",
       "    </tr>\n",
       "    <tr>\n",
       "      <th>65.00</th>\n",
       "      <td>23150000.0</td>\n",
       "      <td>2</td>\n",
       "    </tr>\n",
       "    <tr>\n",
       "      <th>87.20</th>\n",
       "      <td>56844500.0</td>\n",
       "      <td>1</td>\n",
       "    </tr>\n",
       "    <tr>\n",
       "      <th>93.00</th>\n",
       "      <td>65850000.0</td>\n",
       "      <td>1</td>\n",
       "    </tr>\n",
       "  </tbody>\n",
       "</table>\n",
       "<p>908 rows × 2 columns</p>\n",
       "</div>"
      ],
      "text/plain": [
       "                  median      count\n",
       "              last_price last_price\n",
       "kitchen_area                       \n",
       "1.30           4250000.0          1\n",
       "2.00           2720000.0          7\n",
       "2.30           2940000.0          1\n",
       "2.40           2200000.0          1\n",
       "2.89           5967734.0          1\n",
       "...                  ...        ...\n",
       "63.00         40000000.0          1\n",
       "64.00         10495000.0          2\n",
       "65.00         23150000.0          2\n",
       "87.20         56844500.0          1\n",
       "93.00         65850000.0          1\n",
       "\n",
       "[908 rows x 2 columns]"
      ]
     },
     "execution_count": 116,
     "metadata": {},
     "output_type": "execute_result"
    }
   ],
   "source": [
    "pivot_kitchen_area = data.pivot_table(index = 'kitchen_area', values = 'last_price', aggfunc = ['median', 'count'])\n",
    "pivot_kitchen_area"
   ]
  },
  {
   "cell_type": "code",
   "execution_count": 117,
   "metadata": {},
   "outputs": [],
   "source": [
    "#переименуем названия столбцов в таблице для удобства\n",
    "\n",
    "pivot_kitchen_area.columns = ['median', 'count']"
   ]
  },
  {
   "cell_type": "code",
   "execution_count": 118,
   "metadata": {},
   "outputs": [
    {
     "data": {
      "text/plain": [
       "<AxesSubplot:xlabel='kitchen_area'>"
      ]
     },
     "execution_count": 118,
     "metadata": {},
     "output_type": "execute_result"
    },
    {
     "data": {
      "image/png": "[encoded data removed]",
      "text/plain": [
       "<Figure size 432x288 with 1 Axes>"
      ]
     },
     "metadata": {
      "needs_background": "light"
     },
     "output_type": "display_data"
    }
   ],
   "source": [
    "#построим график\n",
    "\n",
    "pivot_kitchen_area.plot(y = 'median', style = 'o')"
   ]
  },
  {
   "cell_type": "markdown",
   "metadata": {},
   "source": [
    "На графике не наблюдается сильная линейная взаимосвязь, возможно, что площадь кухни уже меньше влияет на стоимость квартиры, чем жилая и общая площади квартиры."
   ]
  },
  {
   "cell_type": "code",
   "execution_count": 119,
   "metadata": {},
   "outputs": [
    {
     "data": {
      "text/plain": [
       "0.5487797756376946"
      ]
     },
     "execution_count": 119,
     "metadata": {},
     "output_type": "execute_result"
    }
   ],
   "source": [
    "data['kitchen_area'].corr(data['last_price'])"
   ]
  },
  {
   "cell_type": "markdown",
   "metadata": {},
   "source": [
    "Наши предположения подтвердились, корреляция действительно ниже. Это значит, что площадь кухни влияет на общую стоимость, но меньше, чем два других параметра."
   ]
  },
  {
   "cell_type": "markdown",
   "metadata": {},
   "source": [
    "**rooms**\n",
    "\n",
    "Изучим влияние количества комнат в квартире на ее общую стоимость."
   ]
  },
  {
   "cell_type": "code",
   "execution_count": 120,
   "metadata": {},
   "outputs": [
    {
     "data": {
      "text/html": [
       "<div>\n",
       "<style scoped>\n",
       "    .dataframe tbody tr th:only-of-type {\n",
       "        vertical-align: middle;\n",
       "    }\n",
       "\n",
       "    .dataframe tbody tr th {\n",
       "        vertical-align: top;\n",
       "    }\n",
       "\n",
       "    .dataframe thead tr th {\n",
       "        text-align: left;\n",
       "    }\n",
       "\n",
       "    .dataframe thead tr:last-of-type th {\n",
       "        text-align: right;\n",
       "    }\n",
       "</style>\n",
       "<table border=\"1\" class=\"dataframe\">\n",
       "  <thead>\n",
       "    <tr>\n",
       "      <th></th>\n",
       "      <th>median</th>\n",
       "      <th>count</th>\n",
       "    </tr>\n",
       "    <tr>\n",
       "      <th></th>\n",
       "      <th>last_price</th>\n",
       "      <th>last_price</th>\n",
       "    </tr>\n",
       "    <tr>\n",
       "      <th>rooms</th>\n",
       "      <th></th>\n",
       "      <th></th>\n",
       "    </tr>\n",
       "  </thead>\n",
       "  <tbody>\n",
       "    <tr>\n",
       "      <th>0</th>\n",
       "      <td>2700000</td>\n",
       "      <td>191</td>\n",
       "    </tr>\n",
       "    <tr>\n",
       "      <th>1</th>\n",
       "      <td>3600000</td>\n",
       "      <td>7815</td>\n",
       "    </tr>\n",
       "    <tr>\n",
       "      <th>2</th>\n",
       "      <td>4750000</td>\n",
       "      <td>7657</td>\n",
       "    </tr>\n",
       "    <tr>\n",
       "      <th>3</th>\n",
       "      <td>6110165</td>\n",
       "      <td>5568</td>\n",
       "    </tr>\n",
       "    <tr>\n",
       "      <th>4</th>\n",
       "      <td>8500000</td>\n",
       "      <td>1050</td>\n",
       "    </tr>\n",
       "    <tr>\n",
       "      <th>5</th>\n",
       "      <td>12475000</td>\n",
       "      <td>224</td>\n",
       "    </tr>\n",
       "    <tr>\n",
       "      <th>6</th>\n",
       "      <td>13675500</td>\n",
       "      <td>50</td>\n",
       "    </tr>\n",
       "  </tbody>\n",
       "</table>\n",
       "</div>"
      ],
      "text/plain": [
       "          median      count\n",
       "      last_price last_price\n",
       "rooms                      \n",
       "0        2700000        191\n",
       "1        3600000       7815\n",
       "2        4750000       7657\n",
       "3        6110165       5568\n",
       "4        8500000       1050\n",
       "5       12475000        224\n",
       "6       13675500         50"
      ]
     },
     "execution_count": 120,
     "metadata": {},
     "output_type": "execute_result"
    }
   ],
   "source": [
    "pivot_rooms = data.pivot_table(index = 'rooms', values = 'last_price', aggfunc = ['median', 'count'])\n",
    "pivot_rooms"
   ]
  },
  {
   "cell_type": "code",
   "execution_count": 121,
   "metadata": {},
   "outputs": [],
   "source": [
    "#переименуем названия столбцов в таблице для удобства\n",
    "\n",
    "pivot_rooms.columns = ['median', 'count']"
   ]
  },
  {
   "cell_type": "code",
   "execution_count": 122,
   "metadata": {},
   "outputs": [
    {
     "data": {
      "text/plain": [
       "<AxesSubplot:xlabel='rooms'>"
      ]
     },
     "execution_count": 122,
     "metadata": {},
     "output_type": "execute_result"
    },
    {
     "data": {
      "image/png": "[encoded data removed]",
      "text/plain": [
       "<Figure size 432x288 with 1 Axes>"
      ]
     },
     "metadata": {
      "needs_background": "light"
     },
     "output_type": "display_data"
    }
   ],
   "source": [
    "#построим график\n",
    "\n",
    "pivot_rooms.plot(y = 'median', style = 'o-')"
   ]
  },
  {
   "cell_type": "markdown",
   "metadata": {},
   "source": [
    "На графике видна линейная взаимосвязь, говорящая о том, что с увеличением числа комнат, стоимость квартиры также растет."
   ]
  },
  {
   "cell_type": "code",
   "execution_count": 123,
   "metadata": {},
   "outputs": [
    {
     "data": {
      "text/plain": [
       "0.42700497212541016"
      ]
     },
     "execution_count": 123,
     "metadata": {},
     "output_type": "execute_result"
    }
   ],
   "source": [
    "data['rooms'].corr(data['last_price'])"
   ]
  },
  {
   "cell_type": "markdown",
   "metadata": {},
   "source": [
    "Показатель корреляции свидетельствует о наличии положительной взаимосвязи, однако эта связь слабее, а значит меньше оказывает влияние на конечную стоимость квартиры."
   ]
  },
  {
   "cell_type": "markdown",
   "metadata": {},
   "source": [
    "**floor_type**\n",
    "\n",
    "Изучим влияние типов этажей, на которых расположены квартиры на их конечную стоимость."
   ]
  },
  {
   "cell_type": "code",
   "execution_count": 124,
   "metadata": {},
   "outputs": [
    {
     "data": {
      "text/html": [
       "<div>\n",
       "<style scoped>\n",
       "    .dataframe tbody tr th:only-of-type {\n",
       "        vertical-align: middle;\n",
       "    }\n",
       "\n",
       "    .dataframe tbody tr th {\n",
       "        vertical-align: top;\n",
       "    }\n",
       "\n",
       "    .dataframe thead th {\n",
       "        text-align: right;\n",
       "    }\n",
       "</style>\n",
       "<table border=\"1\" class=\"dataframe\">\n",
       "  <thead>\n",
       "    <tr style=\"text-align: right;\">\n",
       "      <th></th>\n",
       "      <th>median</th>\n",
       "      <th>count</th>\n",
       "    </tr>\n",
       "    <tr>\n",
       "      <th>rooms</th>\n",
       "      <th></th>\n",
       "      <th></th>\n",
       "    </tr>\n",
       "  </thead>\n",
       "  <tbody>\n",
       "    <tr>\n",
       "      <th>0</th>\n",
       "      <td>2700000</td>\n",
       "      <td>191</td>\n",
       "    </tr>\n",
       "    <tr>\n",
       "      <th>1</th>\n",
       "      <td>3600000</td>\n",
       "      <td>7815</td>\n",
       "    </tr>\n",
       "    <tr>\n",
       "      <th>2</th>\n",
       "      <td>4750000</td>\n",
       "      <td>7657</td>\n",
       "    </tr>\n",
       "    <tr>\n",
       "      <th>3</th>\n",
       "      <td>6110165</td>\n",
       "      <td>5568</td>\n",
       "    </tr>\n",
       "    <tr>\n",
       "      <th>4</th>\n",
       "      <td>8500000</td>\n",
       "      <td>1050</td>\n",
       "    </tr>\n",
       "    <tr>\n",
       "      <th>5</th>\n",
       "      <td>12475000</td>\n",
       "      <td>224</td>\n",
       "    </tr>\n",
       "    <tr>\n",
       "      <th>6</th>\n",
       "      <td>13675500</td>\n",
       "      <td>50</td>\n",
       "    </tr>\n",
       "  </tbody>\n",
       "</table>\n",
       "</div>"
      ],
      "text/plain": [
       "         median  count\n",
       "rooms                 \n",
       "0       2700000    191\n",
       "1       3600000   7815\n",
       "2       4750000   7657\n",
       "3       6110165   5568\n",
       "4       8500000   1050\n",
       "5      12475000    224\n",
       "6      13675500     50"
      ]
     },
     "execution_count": 124,
     "metadata": {},
     "output_type": "execute_result"
    }
   ],
   "source": [
    "pivot_floor_type = data.pivot_table(index = 'floor_type', values = 'last_price', aggfunc = ['median', 'count'])\n",
    "pivot_rooms"
   ]
  },
  {
   "cell_type": "code",
   "execution_count": 125,
   "metadata": {},
   "outputs": [],
   "source": [
    "#переименуем названия столбцов в таблице для удобства\n",
    "\n",
    "pivot_floor_type.columns = ['median', 'count']"
   ]
  },
  {
   "cell_type": "code",
   "execution_count": 126,
   "metadata": {},
   "outputs": [
    {
     "data": {
      "text/plain": [
       "<AxesSubplot:xlabel='floor_type'>"
      ]
     },
     "execution_count": 126,
     "metadata": {},
     "output_type": "execute_result"
    },
    {
     "data": {
      "image/png": "[encoded data removed]",
      "text/plain": [
       "<Figure size 432x288 with 1 Axes>"
      ]
     },
     "metadata": {
      "needs_background": "light"
     },
     "output_type": "display_data"
    }
   ],
   "source": [
    "#построим график\n",
    "pivot_floor_type.plot(y = 'median', style = 'o-')"
   ]
  },
  {
   "cell_type": "markdown",
   "metadata": {},
   "source": [
    "Из графика видно, что квартиры на первом этаже дешевле квартир на остальных этажах. Это может быть связано с тем, что на первом этаже квартиры легче обокрасть, влезая через окно. Также слышимость людей на улице выше, чем в других квартирах.\n",
    "\n",
    "Дороже квартиры на последнем этаже, однако самые дорогие квартиры продаются не на первом и не на последнем этаже. Таким образом, этаж квартиры является одним из факторов, формирующих стоимость квартиры."
   ]
  },
  {
   "cell_type": "markdown",
   "metadata": {},
   "source": [
    "**weekday_exposition, month_exposition, year_exposition**\n",
    "\n",
    "Изучим влияние дня, месяца и года размещения объявления на стоимость квартиры."
   ]
  },
  {
   "cell_type": "code",
   "execution_count": 127,
   "metadata": {},
   "outputs": [
    {
     "data": {
      "image/png": "[encoded data removed]",
      "text/plain": [
       "<Figure size 432x288 with 1 Axes>"
      ]
     },
     "metadata": {
      "needs_background": "light"
     },
     "output_type": "display_data"
    }
   ],
   "source": [
    "# Построим график на основе сводной таблицы по дням размещения объявлений, где 0 - это понедельник\n",
    "(\n",
    "    data.pivot_table(index='weekday_exposition', values='last_price', aggfunc = ['median'])\n",
    "    .plot(grid= True, style='o-')\n",
    ")\n",
    "plt.show()"
   ]
  },
  {
   "cell_type": "markdown",
   "metadata": {},
   "source": [
    "Исходя из графика, дороже всего продавались квартиры, выставленные во вторник-среду, дешевле всего - выставленные в пятницу-воскресенье. Возможно, что в будние дни люди больше мониторят объявления, находясь на работе или вечером дома,тем самым у будничных объявлений популярность и просмотров больше, что повышает вероятность продажи квартиры по более выгодной цене. Выставленная квартира в воскресенье имеет мало просмотров, ее обгоняют свежие объявления, выставленные в будни, тем самым квартира теряется в общей массе объявлений, поэтому ее продают по сниженной цене."
   ]
  },
  {
   "cell_type": "code",
   "execution_count": 128,
   "metadata": {},
   "outputs": [
    {
     "data": {
      "image/png": "[encoded data removed]",
      "text/plain": [
       "<Figure size 648x360 with 1 Axes>"
      ]
     },
     "metadata": {
      "needs_background": "light"
     },
     "output_type": "display_data"
    }
   ],
   "source": [
    "# Построим график на основе сводной таблицы по месяцам размещения объявлений\n",
    "(\n",
    "    data.pivot_table(index='month_exposition', values='last_price', aggfunc = ['median'])\n",
    "    .plot(grid= True, style='o-', figsize=(9,5))\n",
    ")\n",
    "plt.show()"
   ]
  },
  {
   "cell_type": "markdown",
   "metadata": {},
   "source": [
    "Дешевле всего продаются квартиры, размещенные в летние месяцы, так как в эти месяцы люди отдыхают и менее заинтересованы в покупках квартир, из-за чего спрос меньше и цена на квартиры падает. Самые выгодные месяцы для продажи квартиры - с февраля-апреля, а также с октября по ноябрь. Возможно, что люди предпочитают покупать квартиры в более теплые месяцы, а не зимой. Кроме того, зимой также много праздничных дней, поэтому люди также стараются отдыхать, избегая серьезных сделок."
   ]
  },
  {
   "cell_type": "code",
   "execution_count": 129,
   "metadata": {},
   "outputs": [
    {
     "data": {
      "image/png": "[encoded data removed]",
      "text/plain": [
       "<Figure size 432x288 with 1 Axes>"
      ]
     },
     "metadata": {
      "needs_background": "light"
     },
     "output_type": "display_data"
    }
   ],
   "source": [
    "# Построим график на основе сводной таблицы по годам размещения объявлений\n",
    "(\n",
    "    data.pivot_table(index='year_exposition', values='last_price', aggfunc = ['median'])\n",
    "    .plot(grid= True, style='o-')\n",
    ")\n",
    "plt.show()"
   ]
  },
  {
   "cell_type": "markdown",
   "metadata": {},
   "source": [
    "Известно, что в 2014-2015 гг. был кризис в стране, с чем скорее всего связано резкое падение цен на жилье. Однако к 2019 г. цены снова стали расти."
   ]
  },
  {
   "cell_type": "code",
   "execution_count": 130,
   "metadata": {},
   "outputs": [
    {
     "data": {
      "text/html": [
       "<div>\n",
       "<style scoped>\n",
       "    .dataframe tbody tr th:only-of-type {\n",
       "        vertical-align: middle;\n",
       "    }\n",
       "\n",
       "    .dataframe tbody tr th {\n",
       "        vertical-align: top;\n",
       "    }\n",
       "\n",
       "    .dataframe thead th {\n",
       "        text-align: right;\n",
       "    }\n",
       "</style>\n",
       "<table border=\"1\" class=\"dataframe\">\n",
       "  <thead>\n",
       "    <tr style=\"text-align: right;\">\n",
       "      <th></th>\n",
       "      <th>factor</th>\n",
       "      <th>correlation</th>\n",
       "    </tr>\n",
       "  </thead>\n",
       "  <tbody>\n",
       "    <tr>\n",
       "      <th>0</th>\n",
       "      <td>total_area</td>\n",
       "      <td>0.73</td>\n",
       "    </tr>\n",
       "    <tr>\n",
       "      <th>1</th>\n",
       "      <td>living_area</td>\n",
       "      <td>0.61</td>\n",
       "    </tr>\n",
       "    <tr>\n",
       "      <th>2</th>\n",
       "      <td>kitchen_area</td>\n",
       "      <td>0.55</td>\n",
       "    </tr>\n",
       "    <tr>\n",
       "      <th>3</th>\n",
       "      <td>rooms</td>\n",
       "      <td>0.43</td>\n",
       "    </tr>\n",
       "    <tr>\n",
       "      <th>4</th>\n",
       "      <td>weekday</td>\n",
       "      <td>-0.01</td>\n",
       "    </tr>\n",
       "    <tr>\n",
       "      <th>5</th>\n",
       "      <td>month</td>\n",
       "      <td>0.00</td>\n",
       "    </tr>\n",
       "    <tr>\n",
       "      <th>6</th>\n",
       "      <td>year</td>\n",
       "      <td>0.00</td>\n",
       "    </tr>\n",
       "  </tbody>\n",
       "</table>\n",
       "</div>"
      ],
      "text/plain": [
       "         factor  correlation\n",
       "0    total_area         0.73\n",
       "1   living_area         0.61\n",
       "2  kitchen_area         0.55\n",
       "3         rooms         0.43\n",
       "4       weekday        -0.01\n",
       "5         month         0.00\n",
       "6          year         0.00"
      ]
     },
     "execution_count": 130,
     "metadata": {},
     "output_type": "execute_result"
    }
   ],
   "source": [
    "#создадим таблицу с найденными корреляциями\n",
    "\n",
    "corr_last_price = pd.DataFrame({'factor': ['total_area', 'living_area', 'kitchen_area', 'rooms', 'weekday', 'month', 'year'], 'correlation': [0.73, 0.61, 0.55, 0.43, -0.01, 0, 0]})\n",
    "corr_last_price"
   ]
  },
  {
   "cell_type": "markdown",
   "metadata": {},
   "source": [
    "**Вывод**\n",
    "\n",
    "Самыми значимыми факторами, оказывающие сильное влияние на общую цену квартиры, являются общая площадь, жилая площадь и площадь кухни. Это вполне логично, поскольку цена квартиры рассчитывается от установившейся цены за квадратный метр на рынке недвижимости, а затем умножается на количество квадратных метров квартиры. Поэтому это самый важный фактор, влияющий на цену квартиры. \n",
    "\n",
    "Меньше всего на цену квартиры влияет дата размещения объявления (месяц, день, год). "
   ]
  },
  {
   "cell_type": "markdown",
   "metadata": {},
   "source": [
    "#### Сравнение средней стоимости квадратного метра в 10 населенных пунктах"
   ]
  },
  {
   "cell_type": "code",
   "execution_count": 131,
   "metadata": {},
   "outputs": [
    {
     "data": {
      "text/plain": [
       "Санкт-Петербург      14939\n",
       "поселок Мурино         547\n",
       "поселок Шушары         434\n",
       "Всеволожск             390\n",
       "Пушкин                 350\n",
       "Колпино                335\n",
       "поселок Парголово      325\n",
       "Гатчина                305\n",
       "деревня Кудрово        294\n",
       "Выборг                 224\n",
       "Name: locality_name, dtype: int64"
      ]
     },
     "execution_count": 131,
     "metadata": {},
     "output_type": "execute_result"
    }
   ],
   "source": [
    "#найдем 10 самых крупных населенных пунктов по числу объявлений\n",
    "\n",
    "top_10 = data['locality_name'].value_counts().head(10)\n",
    "top_10"
   ]
  },
  {
   "cell_type": "code",
   "execution_count": 132,
   "metadata": {},
   "outputs": [
    {
     "data": {
      "text/html": [
       "<div>\n",
       "<style scoped>\n",
       "    .dataframe tbody tr th:only-of-type {\n",
       "        vertical-align: middle;\n",
       "    }\n",
       "\n",
       "    .dataframe tbody tr th {\n",
       "        vertical-align: top;\n",
       "    }\n",
       "\n",
       "    .dataframe thead th {\n",
       "        text-align: right;\n",
       "    }\n",
       "</style>\n",
       "<table border=\"1\" class=\"dataframe\">\n",
       "  <thead>\n",
       "    <tr style=\"text-align: right;\">\n",
       "      <th></th>\n",
       "      <th>price_square_meter</th>\n",
       "    </tr>\n",
       "    <tr>\n",
       "      <th>locality_name</th>\n",
       "      <th></th>\n",
       "    </tr>\n",
       "  </thead>\n",
       "  <tbody>\n",
       "    <tr>\n",
       "      <th>Всеволожск</th>\n",
       "      <td>68654.390515</td>\n",
       "    </tr>\n",
       "    <tr>\n",
       "      <th>Выборг</th>\n",
       "      <td>58276.651211</td>\n",
       "    </tr>\n",
       "    <tr>\n",
       "      <th>Гатчина</th>\n",
       "      <td>68989.471043</td>\n",
       "    </tr>\n",
       "    <tr>\n",
       "      <th>Колпино</th>\n",
       "      <td>75279.711602</td>\n",
       "    </tr>\n",
       "    <tr>\n",
       "      <th>Пушкин</th>\n",
       "      <td>102652.332671</td>\n",
       "    </tr>\n",
       "    <tr>\n",
       "      <th>Санкт-Петербург</th>\n",
       "      <td>112430.805236</td>\n",
       "    </tr>\n",
       "    <tr>\n",
       "      <th>деревня Кудрово</th>\n",
       "      <td>92421.528671</td>\n",
       "    </tr>\n",
       "    <tr>\n",
       "      <th>поселок Мурино</th>\n",
       "      <td>85737.763211</td>\n",
       "    </tr>\n",
       "    <tr>\n",
       "      <th>поселок Парголово</th>\n",
       "      <td>90259.743484</td>\n",
       "    </tr>\n",
       "    <tr>\n",
       "      <th>поселок Шушары</th>\n",
       "      <td>78465.534749</td>\n",
       "    </tr>\n",
       "  </tbody>\n",
       "</table>\n",
       "</div>"
      ],
      "text/plain": [
       "                   price_square_meter\n",
       "locality_name                        \n",
       "Всеволожск               68654.390515\n",
       "Выборг                   58276.651211\n",
       "Гатчина                  68989.471043\n",
       "Колпино                  75279.711602\n",
       "Пушкин                  102652.332671\n",
       "Санкт-Петербург         112430.805236\n",
       "деревня Кудрово          92421.528671\n",
       "поселок Мурино           85737.763211\n",
       "поселок Парголово        90259.743484\n",
       "поселок Шушары           78465.534749"
      ]
     },
     "execution_count": 132,
     "metadata": {},
     "output_type": "execute_result"
    }
   ],
   "source": [
    "#создадим сводную таблицу, где посчитаем среднее значение (для этого возьмем внешнюю переменную)\n",
    "\n",
    "mean_price = data.query('locality_name in @top_10.index').pivot_table(index='locality_name', values='price_square_meter', aggfunc=['mean'])\n",
    "mean_price.columns = ['price_square_meter']\n",
    "mean_price"
   ]
  },
  {
   "cell_type": "code",
   "execution_count": 133,
   "metadata": {},
   "outputs": [
    {
     "data": {
      "text/plain": [
       "locality_name\n",
       "Санкт-Петербург      112430\n",
       "Пушкин               102652\n",
       "деревня Кудрово       92421\n",
       "поселок Парголово     90259\n",
       "поселок Мурино        85737\n",
       "поселок Шушары        78465\n",
       "Колпино               75279\n",
       "Гатчина               68989\n",
       "Всеволожск            68654\n",
       "Выборг                58276\n",
       "Name: price_square_meter, dtype: int64"
      ]
     },
     "execution_count": 133,
     "metadata": {},
     "output_type": "execute_result"
    }
   ],
   "source": [
    "#отсортируем таблицу по убыванию\n",
    "\n",
    "mean_price = mean_price.astype(int)\n",
    "mean_price['price_square_meter'].sort_values(ascending=False).head(10)"
   ]
  },
  {
   "cell_type": "markdown",
   "metadata": {},
   "source": [
    "**Вывод**\n",
    "\n",
    "Наибольшая стоимость квадратного метра наблюдается в Санкт-Петербурге. Кроме того, высокая стоимость за квадратный метр в Пушкине, возможно, потому что там красивая местность с дворцами, парками, и при этом не так далеко от города.\n",
    "\n",
    "Наименьшая стоимость квадртаного метра наблюдается в Гатчине, Всеволожске и Выборге, поскольку эти города расположены дальше всего от Санкт-Петербурга, что сказывается на стоимость."
   ]
  },
  {
   "cell_type": "markdown",
   "metadata": {},
   "source": [
    "#### Зависимость цены квартиры от удаленности от центра"
   ]
  },
  {
   "cell_type": "markdown",
   "metadata": {},
   "source": [
    "Для начала создадим свобдную таблицу, в которой отфильтруем только квартиры в Санкт-Петербурге. Также необходимо убрать ноль из столбца `cityCenters_nearest_km`, поскольку эти значения обозначают пропуски и могут повлиять на результаты. По умолчанию сводная таблица как раз считает среднее арифметическое, поэтому строки будут обозначать километры удаленности от центра, а значения - цена квартир."
   ]
  },
  {
   "cell_type": "code",
   "execution_count": 134,
   "metadata": {},
   "outputs": [
    {
     "data": {
      "text/html": [
       "<div>\n",
       "<style scoped>\n",
       "    .dataframe tbody tr th:only-of-type {\n",
       "        vertical-align: middle;\n",
       "    }\n",
       "\n",
       "    .dataframe tbody tr th {\n",
       "        vertical-align: top;\n",
       "    }\n",
       "\n",
       "    .dataframe thead th {\n",
       "        text-align: right;\n",
       "    }\n",
       "</style>\n",
       "<table border=\"1\" class=\"dataframe\">\n",
       "  <thead>\n",
       "    <tr style=\"text-align: right;\">\n",
       "      <th></th>\n",
       "      <th>last_price</th>\n",
       "    </tr>\n",
       "    <tr>\n",
       "      <th>cityCenters_nearest_km</th>\n",
       "      <th></th>\n",
       "    </tr>\n",
       "  </thead>\n",
       "  <tbody>\n",
       "    <tr>\n",
       "      <th>1</th>\n",
       "      <td>1.144347e+07</td>\n",
       "    </tr>\n",
       "    <tr>\n",
       "      <th>2</th>\n",
       "      <td>1.181356e+07</td>\n",
       "    </tr>\n",
       "    <tr>\n",
       "      <th>3</th>\n",
       "      <td>1.011644e+07</td>\n",
       "    </tr>\n",
       "    <tr>\n",
       "      <th>4</th>\n",
       "      <td>1.144936e+07</td>\n",
       "    </tr>\n",
       "    <tr>\n",
       "      <th>5</th>\n",
       "      <td>1.166058e+07</td>\n",
       "    </tr>\n",
       "    <tr>\n",
       "      <th>6</th>\n",
       "      <td>1.237915e+07</td>\n",
       "    </tr>\n",
       "    <tr>\n",
       "      <th>7</th>\n",
       "      <td>1.028505e+07</td>\n",
       "    </tr>\n",
       "    <tr>\n",
       "      <th>8</th>\n",
       "      <td>8.214702e+06</td>\n",
       "    </tr>\n",
       "    <tr>\n",
       "      <th>9</th>\n",
       "      <td>6.351572e+06</td>\n",
       "    </tr>\n",
       "    <tr>\n",
       "      <th>10</th>\n",
       "      <td>6.260512e+06</td>\n",
       "    </tr>\n",
       "    <tr>\n",
       "      <th>11</th>\n",
       "      <td>5.841412e+06</td>\n",
       "    </tr>\n",
       "    <tr>\n",
       "      <th>12</th>\n",
       "      <td>5.941228e+06</td>\n",
       "    </tr>\n",
       "    <tr>\n",
       "      <th>13</th>\n",
       "      <td>5.945635e+06</td>\n",
       "    </tr>\n",
       "    <tr>\n",
       "      <th>14</th>\n",
       "      <td>5.738648e+06</td>\n",
       "    </tr>\n",
       "    <tr>\n",
       "      <th>15</th>\n",
       "      <td>5.473050e+06</td>\n",
       "    </tr>\n",
       "    <tr>\n",
       "      <th>16</th>\n",
       "      <td>5.451702e+06</td>\n",
       "    </tr>\n",
       "    <tr>\n",
       "      <th>17</th>\n",
       "      <td>4.818680e+06</td>\n",
       "    </tr>\n",
       "    <tr>\n",
       "      <th>18</th>\n",
       "      <td>5.005551e+06</td>\n",
       "    </tr>\n",
       "    <tr>\n",
       "      <th>19</th>\n",
       "      <td>4.664925e+06</td>\n",
       "    </tr>\n",
       "    <tr>\n",
       "      <th>20</th>\n",
       "      <td>6.393164e+06</td>\n",
       "    </tr>\n",
       "    <tr>\n",
       "      <th>21</th>\n",
       "      <td>5.183529e+06</td>\n",
       "    </tr>\n",
       "    <tr>\n",
       "      <th>22</th>\n",
       "      <td>5.252893e+06</td>\n",
       "    </tr>\n",
       "    <tr>\n",
       "      <th>23</th>\n",
       "      <td>4.126867e+06</td>\n",
       "    </tr>\n",
       "    <tr>\n",
       "      <th>24</th>\n",
       "      <td>3.862235e+06</td>\n",
       "    </tr>\n",
       "    <tr>\n",
       "      <th>25</th>\n",
       "      <td>4.062706e+06</td>\n",
       "    </tr>\n",
       "    <tr>\n",
       "      <th>26</th>\n",
       "      <td>3.575000e+06</td>\n",
       "    </tr>\n",
       "    <tr>\n",
       "      <th>27</th>\n",
       "      <td>8.300000e+06</td>\n",
       "    </tr>\n",
       "    <tr>\n",
       "      <th>28</th>\n",
       "      <td>4.910500e+06</td>\n",
       "    </tr>\n",
       "    <tr>\n",
       "      <th>29</th>\n",
       "      <td>2.450000e+06</td>\n",
       "    </tr>\n",
       "  </tbody>\n",
       "</table>\n",
       "</div>"
      ],
      "text/plain": [
       "                          last_price\n",
       "cityCenters_nearest_km              \n",
       "1                       1.144347e+07\n",
       "2                       1.181356e+07\n",
       "3                       1.011644e+07\n",
       "4                       1.144936e+07\n",
       "5                       1.166058e+07\n",
       "6                       1.237915e+07\n",
       "7                       1.028505e+07\n",
       "8                       8.214702e+06\n",
       "9                       6.351572e+06\n",
       "10                      6.260512e+06\n",
       "11                      5.841412e+06\n",
       "12                      5.941228e+06\n",
       "13                      5.945635e+06\n",
       "14                      5.738648e+06\n",
       "15                      5.473050e+06\n",
       "16                      5.451702e+06\n",
       "17                      4.818680e+06\n",
       "18                      5.005551e+06\n",
       "19                      4.664925e+06\n",
       "20                      6.393164e+06\n",
       "21                      5.183529e+06\n",
       "22                      5.252893e+06\n",
       "23                      4.126867e+06\n",
       "24                      3.862235e+06\n",
       "25                      4.062706e+06\n",
       "26                      3.575000e+06\n",
       "27                      8.300000e+06\n",
       "28                      4.910500e+06\n",
       "29                      2.450000e+06"
      ]
     },
     "execution_count": 134,
     "metadata": {},
     "output_type": "execute_result"
    }
   ],
   "source": [
    "pivot_price_per_km = data.query('locality_name == \"Санкт-Петербург\" and cityCenters_nearest_km != 0')\\\n",
    ".pivot_table(index='cityCenters_nearest_km', values='last_price')\n",
    "pivot_price_per_km"
   ]
  },
  {
   "cell_type": "code",
   "execution_count": 135,
   "metadata": {},
   "outputs": [
    {
     "data": {
      "text/plain": [
       "<AxesSubplot:xlabel='cityCenters_nearest_km'>"
      ]
     },
     "execution_count": 135,
     "metadata": {},
     "output_type": "execute_result"
    },
    {
     "data": {
      "image/png": "[encoded data removed]",
      "text/plain": [
       "<Figure size 720x360 with 1 Axes>"
      ]
     },
     "metadata": {
      "needs_background": "light"
     },
     "output_type": "display_data"
    }
   ],
   "source": [
    "#для наглядности построим график на основе таблицы\n",
    "\n",
    "pivot_price_per_km.plot(grid=True, style='o-', figsize=(10, 5))"
   ]
  },
  {
   "cell_type": "markdown",
   "metadata": {},
   "source": [
    "Судя по графику, с увеличением расстояния до центра города стоимость квартир уменьшается. Самые дорогие квартиры расположены в районе 7 км. от центра. Далее идет резкое снижение цены в связи с удаленностью от центра Санкт-Петербурга. \n",
    "\n",
    "Неожиданный рост цен на квартиры наблюдается в значении ~ 27-28 км, возможно, там располагается Пушкин, где как мы уже заметили, стоимость квартир тоже дорогая. Возможно, это связано с тем, что там очень живописная местность и из-за этого хороший спрос на квартиры."
   ]
  },
  {
   "cell_type": "markdown",
   "metadata": {},
   "source": [
    "### Общий вывод"
   ]
  },
  {
   "cell_type": "markdown",
   "metadata": {},
   "source": [
    "<b>Цель проекта</b>: провести анализ рынка недвижимости Санкт-Петербурга и соседних населенных пунктов\n",
    "\n",
    "**Задачи:**\n",
    "* обзор полученных данных;\n",
    "* подготовка данных к анализу (исправление дубликатов и аномальных значений, заполнение пропусков);\n",
    "* изучить длительность продажи квартир;\n",
    "* выявить факторы,  которые больше всего влияют на стоимость квартир;\n",
    "* выявить 10 населенных пунктов с самой высокой стоимостью квадратного метра;\n",
    "* оценить влияние удаленности от центра на конечную стоимость квартиры;\n",
    "* составить выводы и рекомендации по полученным результатам.\n",
    "\n",
    "**Наиболее распространенный вариант квартиры**\n",
    "Среднестатистическая квартира, выставленная на продажу:\n",
    "* имеет площадь 40-50 кв.м.; \n",
    "* с 1-2 комнатами;\n",
    "* с потолком от 2,5 м до 3 м.; \n",
    "* стоимостью от 2-5 млн. руб.;\n",
    "* расположена до 20 км от центра города.\n",
    "\n",
    "**Длительность продажи квартир**\n",
    "- Большинство квартир продаются за срок до 150 дней\n",
    "- Наиболее распространенный срок продажи - 71 день, то есть чуть больше 2 месяцев.\n",
    "\n",
    "Рекомендация:\n",
    "Необходимо детальнее рассмотреть несколько пиков по продажам квартир (45 дней, 60 дней). Возможно, что эти закрытые объявления по продаже квартир связаны с правилами размещения объявлений на платформе. Если это так, то данные несколько искажают реальные сроки продажи квартир, поскольку владелец мог указать, что квартира продана, чтобы не платить за дальнейшее размещение на платформе.\n",
    "\n",
    "**Факторы, влияющие на стоимость квартир**\n",
    "- Самыми значимыми факторами являются общая площадь, жилая площадь и площадь кухни. Увеличение площадей напрямую влияет на увеличение стоимости квартиры.\n",
    "- Стоимость квартиры зависит от типа этажа, поскольку на первом этаже квартиры дешевле, чем на остальных этажах из-за повышенной опасности грабежа и слышимости улицы.\n",
    "- Продажа квартир связана с сезонностью, поскольку летом спроса на квартиры нет, из-за чего цена на квартиры падает. Тогда как осенью и весной идет повышение спроса на квартиры, поэтому в это время квартиры продаются по более высокой цене.\n",
    "\n",
    "**Населенные пункты с самой высокой и низкой стоимостью квадратного метра**\n",
    "- Самая дорогая цена за квадратный метр в Санкт-Петербурге (112430 руб.) и в г. Пушкин (102652 руб.)\n",
    "- Самая низкая цена за квадратный метр в д. Кудрово (68654 руб.) и Выборге (58276 руб.)\n",
    "\n",
    "**Влияние удаленности от центра на конечную стоимость квартиры**\n",
    "- Самые дорогие квартиры находятся в районе 7 км. от центра Санкт-Петербурга\n",
    "- Самые дешевые квартиры находятся за 20-25 км. от центра города\n",
    "\n",
    "Рекомендации:\n",
    "- В датасете нигде не указано все ли квартиры являются вторичными или же есть первичное жилье (например, объявление выставил маркетолог застройщика). Интересно было бы сравнить, как меняются продажи в зависимости от данного типа жилья. Возможно, что эти рынки надо сравнивать по отдельности, поскольку на эти типы жилья влияют и другие факторы.\n",
    "- Также интересно было бы сравнить влияние других факторов на стоимость квартиры, например, зависит ли цена от наличия капитального ремонта в квартире, типа квартиры (студия или нет, т.к. у нас было много пропусков, сложно сделать выводы).\n",
    "- Необходимо скорректировать данные и убрать поведение продавцов, связанное с правилами платформы, на которой были размещены объявления. Возможно, что платформа имела определенные условия, например, закрытие объявлений в определенный период (напоминание или взятие платы за размещение в определенный период). Из-за этого может быть искажение в данных, что приведет к неверным выводам."
   ]
  }
 ],
 "metadata": {
  "ExecuteTimeLog": [
   {
    "duration": 532,
    "start_time": "2022-09-03T11:42:04.389Z"
   },
   {
    "duration": 151,
    "start_time": "2022-09-03T11:43:38.206Z"
   },
   {
    "duration": 14,
    "start_time": "2022-09-03T12:40:15.096Z"
   },
   {
    "duration": 19,
    "start_time": "2022-09-03T12:40:43.237Z"
   },
   {
    "duration": 13,
    "start_time": "2022-09-03T12:41:46.216Z"
   },
   {
    "duration": 44,
    "start_time": "2022-09-04T08:26:49.723Z"
   },
   {
    "duration": 1153,
    "start_time": "2022-09-04T08:26:53.448Z"
   },
   {
    "duration": 20,
    "start_time": "2022-09-04T08:26:55.590Z"
   },
   {
    "duration": 99,
    "start_time": "2022-09-04T08:48:13.681Z"
   },
   {
    "duration": 32,
    "start_time": "2022-09-04T08:48:16.115Z"
   },
   {
    "duration": 13,
    "start_time": "2022-09-04T08:51:35.020Z"
   },
   {
    "duration": 24,
    "start_time": "2022-09-04T08:54:51.444Z"
   },
   {
    "duration": 25,
    "start_time": "2022-09-04T09:13:05.526Z"
   },
   {
    "duration": 89,
    "start_time": "2022-09-04T09:13:12.644Z"
   },
   {
    "duration": 7,
    "start_time": "2022-09-04T09:13:21.331Z"
   },
   {
    "duration": 6,
    "start_time": "2022-09-04T09:16:57.331Z"
   },
   {
    "duration": 4,
    "start_time": "2022-09-04T09:17:59.744Z"
   },
   {
    "duration": 3025,
    "start_time": "2022-09-04T09:38:34.955Z"
   },
   {
    "duration": 36,
    "start_time": "2022-09-04T11:08:29.198Z"
   },
   {
    "duration": 29,
    "start_time": "2022-09-04T11:08:39.688Z"
   },
   {
    "duration": 25,
    "start_time": "2022-09-04T12:17:02.154Z"
   },
   {
    "duration": 3,
    "start_time": "2022-09-04T12:18:25.800Z"
   },
   {
    "duration": 8,
    "start_time": "2022-09-04T12:21:05.049Z"
   },
   {
    "duration": 6,
    "start_time": "2022-09-04T12:30:58.525Z"
   },
   {
    "duration": 7,
    "start_time": "2022-09-04T12:31:18.657Z"
   },
   {
    "duration": 6,
    "start_time": "2022-09-04T12:31:27.062Z"
   },
   {
    "duration": 8,
    "start_time": "2022-09-04T12:31:37.217Z"
   },
   {
    "duration": 8,
    "start_time": "2022-09-04T12:42:39.080Z"
   },
   {
    "duration": 4,
    "start_time": "2022-09-04T12:48:47.606Z"
   },
   {
    "duration": 17,
    "start_time": "2022-09-04T12:49:12.927Z"
   },
   {
    "duration": 8,
    "start_time": "2022-09-04T12:53:29.665Z"
   },
   {
    "duration": 13,
    "start_time": "2022-09-04T12:54:03.079Z"
   },
   {
    "duration": 5,
    "start_time": "2022-09-04T12:59:49.549Z"
   },
   {
    "duration": 6,
    "start_time": "2022-09-04T13:01:48.244Z"
   },
   {
    "duration": 22,
    "start_time": "2022-09-04T16:17:25.312Z"
   },
   {
    "duration": 5,
    "start_time": "2022-09-04T16:31:55.849Z"
   },
   {
    "duration": 15,
    "start_time": "2022-09-04T16:32:01.822Z"
   },
   {
    "duration": 3,
    "start_time": "2022-09-04T16:32:11.168Z"
   },
   {
    "duration": 2,
    "start_time": "2022-09-04T16:42:59.563Z"
   },
   {
    "duration": 6,
    "start_time": "2022-09-04T16:43:55.841Z"
   },
   {
    "duration": 19,
    "start_time": "2022-09-04T16:56:36.320Z"
   },
   {
    "duration": 4,
    "start_time": "2022-09-04T16:56:47.534Z"
   },
   {
    "duration": 4,
    "start_time": "2022-09-04T17:19:22.964Z"
   },
   {
    "duration": 3,
    "start_time": "2022-09-04T17:24:26.334Z"
   },
   {
    "duration": 4,
    "start_time": "2022-09-04T17:32:22.006Z"
   },
   {
    "duration": 3,
    "start_time": "2022-09-04T17:36:20.769Z"
   },
   {
    "duration": 7,
    "start_time": "2022-09-04T19:04:26.581Z"
   },
   {
    "duration": 15,
    "start_time": "2022-09-04T19:30:13.983Z"
   },
   {
    "duration": 18,
    "start_time": "2022-09-04T19:32:54.479Z"
   },
   {
    "duration": 7,
    "start_time": "2022-09-04T19:59:43.702Z"
   },
   {
    "duration": 1173,
    "start_time": "2022-09-05T17:07:01.575Z"
   },
   {
    "duration": 36,
    "start_time": "2022-09-05T17:07:06.557Z"
   },
   {
    "duration": 3,
    "start_time": "2022-09-05T17:07:10.828Z"
   },
   {
    "duration": 16,
    "start_time": "2022-09-05T17:07:15.719Z"
   },
   {
    "duration": 2298,
    "start_time": "2022-09-05T17:07:22.868Z"
   },
   {
    "duration": 14,
    "start_time": "2022-09-05T17:07:30.123Z"
   },
   {
    "duration": 5,
    "start_time": "2022-09-05T17:07:33.424Z"
   },
   {
    "duration": 9,
    "start_time": "2022-09-05T17:07:37.421Z"
   },
   {
    "duration": 5,
    "start_time": "2022-09-05T17:07:41.573Z"
   },
   {
    "duration": 7,
    "start_time": "2022-09-05T17:07:45.549Z"
   },
   {
    "duration": 3,
    "start_time": "2022-09-05T17:07:48.100Z"
   },
   {
    "duration": 8,
    "start_time": "2022-09-05T17:07:50.897Z"
   },
   {
    "duration": 8,
    "start_time": "2022-09-05T17:07:56.490Z"
   },
   {
    "duration": 15,
    "start_time": "2022-09-05T17:07:59.819Z"
   },
   {
    "duration": 6,
    "start_time": "2022-09-05T17:08:04.124Z"
   },
   {
    "duration": 11,
    "start_time": "2022-09-05T17:50:03.289Z"
   },
   {
    "duration": 14,
    "start_time": "2022-09-05T17:50:14.957Z"
   },
   {
    "duration": 26,
    "start_time": "2022-09-05T18:11:01.906Z"
   },
   {
    "duration": 28,
    "start_time": "2022-09-05T18:18:20.451Z"
   },
   {
    "duration": 62,
    "start_time": "2022-09-05T18:26:34.191Z"
   },
   {
    "duration": 55,
    "start_time": "2022-09-05T18:45:20.648Z"
   },
   {
    "duration": 98,
    "start_time": "2022-09-05T18:48:28.808Z"
   },
   {
    "duration": 7,
    "start_time": "2022-09-05T19:08:29.691Z"
   },
   {
    "duration": 4,
    "start_time": "2022-09-05T19:24:30.733Z"
   },
   {
    "duration": 6,
    "start_time": "2022-09-05T19:24:39.977Z"
   },
   {
    "duration": 8,
    "start_time": "2022-09-05T19:25:55.114Z"
   },
   {
    "duration": 14,
    "start_time": "2022-09-05T19:28:27.873Z"
   },
   {
    "duration": 11,
    "start_time": "2022-09-05T19:28:52.182Z"
   },
   {
    "duration": 11,
    "start_time": "2022-09-05T19:29:08.973Z"
   },
   {
    "duration": 16,
    "start_time": "2022-09-05T19:31:31.113Z"
   },
   {
    "duration": 28,
    "start_time": "2022-09-05T19:36:59.144Z"
   },
   {
    "duration": 47,
    "start_time": "2022-09-05T19:38:47.366Z"
   },
   {
    "duration": 24,
    "start_time": "2022-09-05T19:39:09.982Z"
   },
   {
    "duration": 7,
    "start_time": "2022-09-05T19:45:05.932Z"
   },
   {
    "duration": 4,
    "start_time": "2022-09-05T19:46:06.470Z"
   },
   {
    "duration": 5,
    "start_time": "2022-09-05T19:48:51.510Z"
   },
   {
    "duration": 5,
    "start_time": "2022-09-05T19:49:28.116Z"
   },
   {
    "duration": 5,
    "start_time": "2022-09-05T19:50:26.714Z"
   },
   {
    "duration": 4,
    "start_time": "2022-09-05T19:51:01.978Z"
   },
   {
    "duration": 5,
    "start_time": "2022-09-05T19:51:43.219Z"
   },
   {
    "duration": 692,
    "start_time": "2022-09-06T16:16:54.896Z"
   },
   {
    "duration": 38,
    "start_time": "2022-09-06T16:16:58.977Z"
   },
   {
    "duration": 4,
    "start_time": "2022-09-06T16:17:04.632Z"
   },
   {
    "duration": 14,
    "start_time": "2022-09-06T16:17:06.752Z"
   },
   {
    "duration": 2246,
    "start_time": "2022-09-06T16:17:16.541Z"
   },
   {
    "duration": 10,
    "start_time": "2022-09-06T16:17:25.339Z"
   },
   {
    "duration": 5,
    "start_time": "2022-09-06T16:17:31.520Z"
   },
   {
    "duration": 5,
    "start_time": "2022-09-06T16:19:44.857Z"
   },
   {
    "duration": 5,
    "start_time": "2022-09-06T16:19:48.809Z"
   },
   {
    "duration": 8,
    "start_time": "2022-09-06T16:20:04.426Z"
   },
   {
    "duration": 2,
    "start_time": "2022-09-06T16:20:06.756Z"
   },
   {
    "duration": 7,
    "start_time": "2022-09-06T16:20:10.020Z"
   },
   {
    "duration": 7,
    "start_time": "2022-09-06T16:20:16.206Z"
   },
   {
    "duration": 23,
    "start_time": "2022-09-06T16:20:19.472Z"
   },
   {
    "duration": 6,
    "start_time": "2022-09-06T16:20:24.100Z"
   },
   {
    "duration": 14,
    "start_time": "2022-09-06T16:20:32.421Z"
   },
   {
    "duration": 68,
    "start_time": "2022-09-06T16:20:40.062Z"
   },
   {
    "duration": 8,
    "start_time": "2022-09-06T16:20:45.372Z"
   },
   {
    "duration": 13,
    "start_time": "2022-09-06T16:20:50.015Z"
   },
   {
    "duration": 37,
    "start_time": "2022-09-06T16:27:22.063Z"
   },
   {
    "duration": 6,
    "start_time": "2022-09-06T18:19:34.005Z"
   },
   {
    "duration": 8,
    "start_time": "2022-09-06T18:19:50.505Z"
   },
   {
    "duration": 5,
    "start_time": "2022-09-06T18:24:25.291Z"
   },
   {
    "duration": 4,
    "start_time": "2022-09-06T18:33:01.101Z"
   },
   {
    "duration": 5,
    "start_time": "2022-09-06T18:38:13.841Z"
   },
   {
    "duration": 7,
    "start_time": "2022-09-06T19:38:16.809Z"
   },
   {
    "duration": 934,
    "start_time": "2022-09-08T16:49:18.313Z"
   },
   {
    "duration": 51,
    "start_time": "2022-09-08T16:49:22.588Z"
   },
   {
    "duration": 4,
    "start_time": "2022-09-08T16:49:28.076Z"
   },
   {
    "duration": 19,
    "start_time": "2022-09-08T16:49:30.486Z"
   },
   {
    "duration": 2699,
    "start_time": "2022-09-08T16:49:35.492Z"
   },
   {
    "duration": 11,
    "start_time": "2022-09-08T16:49:39.961Z"
   },
   {
    "duration": 6,
    "start_time": "2022-09-08T16:49:43.750Z"
   },
   {
    "duration": 7,
    "start_time": "2022-09-08T16:49:46.410Z"
   },
   {
    "duration": 6,
    "start_time": "2022-09-08T16:49:50.479Z"
   },
   {
    "duration": 11,
    "start_time": "2022-09-08T16:49:55.980Z"
   },
   {
    "duration": 94,
    "start_time": "2022-09-08T16:50:22.243Z"
   },
   {
    "duration": 4,
    "start_time": "2022-09-08T16:56:22.154Z"
   },
   {
    "duration": 3,
    "start_time": "2022-09-08T16:56:24.737Z"
   },
   {
    "duration": 10,
    "start_time": "2022-09-08T16:56:29.838Z"
   },
   {
    "duration": 8,
    "start_time": "2022-09-08T16:56:31.906Z"
   },
   {
    "duration": 19,
    "start_time": "2022-09-08T16:56:36.922Z"
   },
   {
    "duration": 7,
    "start_time": "2022-09-08T16:56:40.696Z"
   },
   {
    "duration": 15,
    "start_time": "2022-09-08T16:56:45.697Z"
   },
   {
    "duration": 76,
    "start_time": "2022-09-08T16:56:49.720Z"
   },
   {
    "duration": 6,
    "start_time": "2022-09-08T16:56:54.038Z"
   },
   {
    "duration": 14,
    "start_time": "2022-09-08T16:56:57.781Z"
   },
   {
    "duration": 53,
    "start_time": "2022-09-08T16:57:04.034Z"
   },
   {
    "duration": 9,
    "start_time": "2022-09-08T16:57:07.753Z"
   },
   {
    "duration": 6,
    "start_time": "2022-09-08T16:57:13.293Z"
   },
   {
    "duration": 5,
    "start_time": "2022-09-08T16:57:15.387Z"
   },
   {
    "duration": 5,
    "start_time": "2022-09-08T16:57:17.377Z"
   },
   {
    "duration": 5,
    "start_time": "2022-09-08T16:57:19.384Z"
   },
   {
    "duration": 6,
    "start_time": "2022-09-08T16:57:22.921Z"
   },
   {
    "duration": 5,
    "start_time": "2022-09-08T16:57:25.063Z"
   },
   {
    "duration": 5,
    "start_time": "2022-09-08T16:57:29.941Z"
   },
   {
    "duration": 11,
    "start_time": "2022-09-08T16:57:33.682Z"
   },
   {
    "duration": 40,
    "start_time": "2022-09-08T17:56:53.951Z"
   },
   {
    "duration": 6,
    "start_time": "2022-09-08T19:32:28.642Z"
   },
   {
    "duration": 6,
    "start_time": "2022-09-08T19:33:00.181Z"
   },
   {
    "duration": 6,
    "start_time": "2022-09-08T19:33:30.900Z"
   },
   {
    "duration": 14,
    "start_time": "2022-09-08T19:34:01.703Z"
   },
   {
    "duration": 1302,
    "start_time": "2022-09-08T19:34:22.452Z"
   },
   {
    "duration": 7,
    "start_time": "2022-09-08T19:34:31.039Z"
   },
   {
    "duration": 6,
    "start_time": "2022-09-08T19:34:52.599Z"
   },
   {
    "duration": 40,
    "start_time": "2022-09-08T19:35:52.868Z"
   },
   {
    "duration": 6,
    "start_time": "2022-09-08T19:36:15.893Z"
   },
   {
    "duration": 6,
    "start_time": "2022-09-08T19:36:29.793Z"
   },
   {
    "duration": 45,
    "start_time": "2022-09-08T19:39:37.665Z"
   },
   {
    "duration": 580,
    "start_time": "2022-09-10T06:49:41.537Z"
   },
   {
    "duration": 38,
    "start_time": "2022-09-10T06:49:45.518Z"
   },
   {
    "duration": 4,
    "start_time": "2022-09-10T06:49:50.413Z"
   },
   {
    "duration": 15,
    "start_time": "2022-09-10T06:49:53.114Z"
   },
   {
    "duration": 15,
    "start_time": "2022-09-10T06:50:01.668Z"
   },
   {
    "duration": 2699,
    "start_time": "2022-09-10T06:50:08.480Z"
   },
   {
    "duration": 15,
    "start_time": "2022-09-10T06:50:15.612Z"
   },
   {
    "duration": 5,
    "start_time": "2022-09-10T06:50:19.620Z"
   },
   {
    "duration": 7,
    "start_time": "2022-09-10T06:50:21.893Z"
   },
   {
    "duration": 5,
    "start_time": "2022-09-10T06:50:24.050Z"
   },
   {
    "duration": 9,
    "start_time": "2022-09-10T06:50:28.730Z"
   },
   {
    "duration": 3,
    "start_time": "2022-09-10T06:50:31.603Z"
   },
   {
    "duration": 9,
    "start_time": "2022-09-10T06:50:34.454Z"
   },
   {
    "duration": 9,
    "start_time": "2022-09-10T06:50:37.793Z"
   },
   {
    "duration": 17,
    "start_time": "2022-09-10T06:50:40.309Z"
   },
   {
    "duration": 6,
    "start_time": "2022-09-10T06:50:45.296Z"
   },
   {
    "duration": 16,
    "start_time": "2022-09-10T06:51:17.452Z"
   },
   {
    "duration": 89,
    "start_time": "2022-09-10T06:51:30.032Z"
   },
   {
    "duration": 7,
    "start_time": "2022-09-10T06:51:34.154Z"
   },
   {
    "duration": 15,
    "start_time": "2022-09-10T06:51:38.106Z"
   },
   {
    "duration": 37,
    "start_time": "2022-09-10T06:52:07.040Z"
   },
   {
    "duration": 9,
    "start_time": "2022-09-10T06:52:18.440Z"
   },
   {
    "duration": 5,
    "start_time": "2022-09-10T06:52:54.577Z"
   },
   {
    "duration": 5,
    "start_time": "2022-09-10T06:53:00.759Z"
   },
   {
    "duration": 4,
    "start_time": "2022-09-10T06:53:15.968Z"
   },
   {
    "duration": 26,
    "start_time": "2022-09-10T06:53:52.699Z"
   },
   {
    "duration": 45,
    "start_time": "2022-09-10T07:50:17.552Z"
   },
   {
    "duration": 40,
    "start_time": "2022-09-10T07:59:24.794Z"
   },
   {
    "duration": 43,
    "start_time": "2022-09-10T08:00:59.910Z"
   },
   {
    "duration": 42,
    "start_time": "2022-09-10T08:42:31.218Z"
   },
   {
    "duration": 40,
    "start_time": "2022-09-10T09:56:23.601Z"
   },
   {
    "duration": 1135,
    "start_time": "2022-09-10T15:26:11.368Z"
   },
   {
    "duration": 33,
    "start_time": "2022-09-10T15:26:15.753Z"
   },
   {
    "duration": 4,
    "start_time": "2022-09-10T15:26:21.269Z"
   },
   {
    "duration": 13,
    "start_time": "2022-09-10T15:26:22.856Z"
   },
   {
    "duration": 2323,
    "start_time": "2022-09-10T15:26:27.957Z"
   },
   {
    "duration": 13,
    "start_time": "2022-09-10T15:26:34.586Z"
   },
   {
    "duration": 5,
    "start_time": "2022-09-10T15:26:39.276Z"
   },
   {
    "duration": 6,
    "start_time": "2022-09-10T15:26:43.841Z"
   },
   {
    "duration": 5,
    "start_time": "2022-09-10T15:26:47.741Z"
   },
   {
    "duration": 116,
    "start_time": "2022-09-10T16:06:11.107Z"
   },
   {
    "duration": 51,
    "start_time": "2022-09-10T16:06:16.002Z"
   },
   {
    "duration": 3,
    "start_time": "2022-09-10T16:06:19.651Z"
   },
   {
    "duration": 13,
    "start_time": "2022-09-10T16:06:22.683Z"
   },
   {
    "duration": 9,
    "start_time": "2022-09-10T16:06:32.051Z"
   },
   {
    "duration": 5,
    "start_time": "2022-09-10T16:06:36.765Z"
   },
   {
    "duration": 6,
    "start_time": "2022-09-10T16:06:39.196Z"
   },
   {
    "duration": 61,
    "start_time": "2022-09-10T16:43:52.603Z"
   },
   {
    "duration": 15,
    "start_time": "2022-09-10T17:19:41.911Z"
   },
   {
    "duration": 49,
    "start_time": "2022-09-10T17:21:11.839Z"
   },
   {
    "duration": 9,
    "start_time": "2022-09-10T17:21:32.569Z"
   },
   {
    "duration": 34,
    "start_time": "2022-09-10T17:21:38.349Z"
   },
   {
    "duration": 21,
    "start_time": "2022-09-10T17:21:57.769Z"
   },
   {
    "duration": 4,
    "start_time": "2022-09-10T17:24:03.354Z"
   },
   {
    "duration": 9,
    "start_time": "2022-09-10T17:24:05.795Z"
   },
   {
    "duration": 35,
    "start_time": "2022-09-10T17:24:08.292Z"
   },
   {
    "duration": 9,
    "start_time": "2022-09-10T17:46:28.044Z"
   },
   {
    "duration": 7,
    "start_time": "2022-09-10T17:46:47.786Z"
   },
   {
    "duration": 6,
    "start_time": "2022-09-10T17:46:53.688Z"
   },
   {
    "duration": 5,
    "start_time": "2022-09-10T17:47:27.257Z"
   },
   {
    "duration": 30,
    "start_time": "2022-09-10T18:10:40.536Z"
   },
   {
    "duration": 6,
    "start_time": "2022-09-10T18:10:42.921Z"
   },
   {
    "duration": 9,
    "start_time": "2022-09-10T18:19:01.248Z"
   },
   {
    "duration": 13,
    "start_time": "2022-09-10T18:25:47.175Z"
   },
   {
    "duration": 5,
    "start_time": "2022-09-10T18:25:57.202Z"
   },
   {
    "duration": 21,
    "start_time": "2022-09-10T18:26:04.346Z"
   },
   {
    "duration": 4,
    "start_time": "2022-09-10T18:26:07.401Z"
   },
   {
    "duration": 11,
    "start_time": "2022-09-10T18:27:02.147Z"
   },
   {
    "duration": 8,
    "start_time": "2022-09-10T18:27:04.543Z"
   },
   {
    "duration": 9,
    "start_time": "2022-09-10T18:29:48.021Z"
   },
   {
    "duration": 9,
    "start_time": "2022-09-10T18:29:54.336Z"
   },
   {
    "duration": 10,
    "start_time": "2022-09-10T18:29:57.240Z"
   },
   {
    "duration": 12,
    "start_time": "2022-09-10T18:30:06.721Z"
   },
   {
    "duration": 80,
    "start_time": "2022-09-10T18:30:33.242Z"
   },
   {
    "duration": 9,
    "start_time": "2022-09-10T18:30:40.478Z"
   },
   {
    "duration": 11,
    "start_time": "2022-09-10T18:30:58.893Z"
   },
   {
    "duration": 260,
    "start_time": "2022-09-10T18:31:50.459Z"
   },
   {
    "duration": 11,
    "start_time": "2022-09-10T18:35:51.173Z"
   },
   {
    "duration": 9,
    "start_time": "2022-09-10T18:36:01.364Z"
   },
   {
    "duration": 4,
    "start_time": "2022-09-10T18:36:07.839Z"
   },
   {
    "duration": 9,
    "start_time": "2022-09-10T18:37:00.399Z"
   },
   {
    "duration": 7,
    "start_time": "2022-09-10T18:37:17.994Z"
   },
   {
    "duration": 6,
    "start_time": "2022-09-10T18:37:22.048Z"
   },
   {
    "duration": 9,
    "start_time": "2022-09-10T18:37:28.643Z"
   },
   {
    "duration": 8,
    "start_time": "2022-09-10T18:37:41.984Z"
   },
   {
    "duration": 9,
    "start_time": "2022-09-10T18:37:46.449Z"
   },
   {
    "duration": 4,
    "start_time": "2022-09-10T18:43:30.694Z"
   },
   {
    "duration": 9,
    "start_time": "2022-09-10T18:43:34.248Z"
   },
   {
    "duration": 10,
    "start_time": "2022-09-10T18:44:05.261Z"
   },
   {
    "duration": 19,
    "start_time": "2022-09-10T18:44:11.104Z"
   },
   {
    "duration": 9,
    "start_time": "2022-09-10T18:44:13.398Z"
   },
   {
    "duration": 11,
    "start_time": "2022-09-10T18:44:16.548Z"
   },
   {
    "duration": 10,
    "start_time": "2022-09-10T18:44:24.818Z"
   },
   {
    "duration": 8,
    "start_time": "2022-09-10T18:44:27.077Z"
   },
   {
    "duration": 12,
    "start_time": "2022-09-10T18:44:29.206Z"
   },
   {
    "duration": 11,
    "start_time": "2022-09-10T18:47:17.849Z"
   },
   {
    "duration": 367,
    "start_time": "2022-09-10T18:47:21.283Z"
   },
   {
    "duration": 9,
    "start_time": "2022-09-10T18:47:43.665Z"
   },
   {
    "duration": 6,
    "start_time": "2022-09-10T18:47:47.784Z"
   },
   {
    "duration": 14,
    "start_time": "2022-09-10T18:47:50.021Z"
   },
   {
    "duration": 6,
    "start_time": "2022-09-10T20:40:13.875Z"
   },
   {
    "duration": 53,
    "start_time": "2022-09-10T20:40:28.585Z"
   },
   {
    "duration": 9,
    "start_time": "2022-09-10T20:43:59.581Z"
   },
   {
    "duration": 11,
    "start_time": "2022-09-10T20:44:07.277Z"
   },
   {
    "duration": 4,
    "start_time": "2022-09-10T20:44:18.044Z"
   },
   {
    "duration": 8,
    "start_time": "2022-09-10T20:46:00.432Z"
   },
   {
    "duration": 8,
    "start_time": "2022-09-10T20:46:13.153Z"
   },
   {
    "duration": 735,
    "start_time": "2022-09-11T08:50:46.255Z"
   },
   {
    "duration": 58,
    "start_time": "2022-09-11T08:50:51.723Z"
   },
   {
    "duration": 4,
    "start_time": "2022-09-11T08:50:59.686Z"
   },
   {
    "duration": 15,
    "start_time": "2022-09-11T08:51:02.260Z"
   },
   {
    "duration": 2254,
    "start_time": "2022-09-11T08:53:03.876Z"
   },
   {
    "duration": 9,
    "start_time": "2022-09-11T08:53:12.158Z"
   },
   {
    "duration": 5,
    "start_time": "2022-09-11T08:53:17.246Z"
   },
   {
    "duration": 6,
    "start_time": "2022-09-11T08:53:19.770Z"
   },
   {
    "duration": 6,
    "start_time": "2022-09-11T08:53:22.923Z"
   },
   {
    "duration": 3,
    "start_time": "2022-09-11T08:53:27.351Z"
   },
   {
    "duration": 12,
    "start_time": "2022-09-11T08:53:29.561Z"
   },
   {
    "duration": 25,
    "start_time": "2022-09-11T08:53:31.957Z"
   },
   {
    "duration": 5,
    "start_time": "2022-09-11T08:53:35.747Z"
   },
   {
    "duration": 10,
    "start_time": "2022-09-11T08:53:38.975Z"
   },
   {
    "duration": 8,
    "start_time": "2022-09-11T08:53:42.299Z"
   },
   {
    "duration": 11,
    "start_time": "2022-09-11T08:53:44.775Z"
   },
   {
    "duration": 12,
    "start_time": "2022-09-11T08:53:48.459Z"
   },
   {
    "duration": 8,
    "start_time": "2022-09-11T08:53:53.889Z"
   },
   {
    "duration": 3,
    "start_time": "2022-09-11T08:53:56.994Z"
   },
   {
    "duration": 9,
    "start_time": "2022-09-11T08:53:58.791Z"
   },
   {
    "duration": 8,
    "start_time": "2022-09-11T08:54:05.119Z"
   },
   {
    "duration": 23,
    "start_time": "2022-09-11T08:54:07.506Z"
   },
   {
    "duration": 9,
    "start_time": "2022-09-11T08:54:11.635Z"
   },
   {
    "duration": 17,
    "start_time": "2022-09-11T08:54:17.613Z"
   },
   {
    "duration": 78,
    "start_time": "2022-09-11T08:54:22.174Z"
   },
   {
    "duration": 10,
    "start_time": "2022-09-11T08:54:26.315Z"
   },
   {
    "duration": 11,
    "start_time": "2022-09-11T08:54:31.022Z"
   },
   {
    "duration": 30,
    "start_time": "2022-09-11T08:54:35.993Z"
   },
   {
    "duration": 9,
    "start_time": "2022-09-11T08:54:41.014Z"
   },
   {
    "duration": 5,
    "start_time": "2022-09-11T08:54:45.051Z"
   },
   {
    "duration": 4,
    "start_time": "2022-09-11T08:54:47.654Z"
   },
   {
    "duration": 5,
    "start_time": "2022-09-11T08:54:49.773Z"
   },
   {
    "duration": 6,
    "start_time": "2022-09-11T08:54:52.834Z"
   },
   {
    "duration": 6,
    "start_time": "2022-09-11T08:54:56.140Z"
   },
   {
    "duration": 5,
    "start_time": "2022-09-11T08:54:58.014Z"
   },
   {
    "duration": 8,
    "start_time": "2022-09-11T09:35:05.714Z"
   },
   {
    "duration": 8,
    "start_time": "2022-09-11T09:43:39.178Z"
   },
   {
    "duration": 70,
    "start_time": "2022-09-11T09:48:33.068Z"
   },
   {
    "duration": 7,
    "start_time": "2022-09-11T09:48:45.199Z"
   },
   {
    "duration": 8,
    "start_time": "2022-09-11T09:48:48.066Z"
   },
   {
    "duration": 8,
    "start_time": "2022-09-11T09:48:49.689Z"
   },
   {
    "duration": 466,
    "start_time": "2022-09-11T09:49:36.735Z"
   },
   {
    "duration": 8,
    "start_time": "2022-09-11T09:49:49.298Z"
   },
   {
    "duration": 99,
    "start_time": "2022-09-11T09:58:02.592Z"
   },
   {
    "duration": 37,
    "start_time": "2022-09-11T10:14:19.246Z"
   },
   {
    "duration": 24,
    "start_time": "2022-09-11T10:18:56.856Z"
   },
   {
    "duration": 26,
    "start_time": "2022-09-11T13:05:23.743Z"
   },
   {
    "duration": 36,
    "start_time": "2022-09-11T13:53:52.774Z"
   },
   {
    "duration": 31,
    "start_time": "2022-09-11T13:53:58.615Z"
   },
   {
    "duration": 28,
    "start_time": "2022-09-11T13:54:18.475Z"
   },
   {
    "duration": 75,
    "start_time": "2022-09-11T14:17:21.327Z"
   },
   {
    "duration": 6,
    "start_time": "2022-09-11T14:55:42.746Z"
   },
   {
    "duration": 5,
    "start_time": "2022-09-11T15:09:41.726Z"
   },
   {
    "duration": 4,
    "start_time": "2022-09-11T15:10:12.950Z"
   },
   {
    "duration": 5,
    "start_time": "2022-09-11T15:12:54.573Z"
   },
   {
    "duration": 6,
    "start_time": "2022-09-11T15:17:19.849Z"
   },
   {
    "duration": 7,
    "start_time": "2022-09-11T15:19:28.282Z"
   },
   {
    "duration": 5,
    "start_time": "2022-09-11T15:19:46.895Z"
   },
   {
    "duration": 6,
    "start_time": "2022-09-11T15:20:07.102Z"
   },
   {
    "duration": 46,
    "start_time": "2022-09-11T15:22:59.418Z"
   },
   {
    "duration": 468,
    "start_time": "2022-09-11T15:23:04.579Z"
   },
   {
    "duration": 35,
    "start_time": "2022-09-11T15:23:06.892Z"
   },
   {
    "duration": 4,
    "start_time": "2022-09-11T15:23:12.078Z"
   },
   {
    "duration": 80,
    "start_time": "2022-09-11T15:23:15.527Z"
   },
   {
    "duration": 16,
    "start_time": "2022-09-11T15:23:41.175Z"
   },
   {
    "duration": 2046,
    "start_time": "2022-09-11T15:23:53.804Z"
   },
   {
    "duration": 1928,
    "start_time": "2022-09-11T16:29:03.333Z"
   },
   {
    "duration": 46,
    "start_time": "2022-09-11T16:30:17.309Z"
   },
   {
    "duration": 478,
    "start_time": "2022-09-11T16:30:21.272Z"
   },
   {
    "duration": 35,
    "start_time": "2022-09-11T16:30:23.580Z"
   },
   {
    "duration": 4,
    "start_time": "2022-09-11T16:30:27.902Z"
   },
   {
    "duration": 73,
    "start_time": "2022-09-11T16:30:30.405Z"
   },
   {
    "duration": 19,
    "start_time": "2022-09-11T16:30:40.168Z"
   },
   {
    "duration": 10,
    "start_time": "2022-09-11T17:16:20.985Z"
   },
   {
    "duration": 4,
    "start_time": "2022-09-11T17:19:15.519Z"
   },
   {
    "duration": 7,
    "start_time": "2022-09-11T17:19:18.174Z"
   },
   {
    "duration": 5,
    "start_time": "2022-09-11T17:19:48.695Z"
   },
   {
    "duration": 47,
    "start_time": "2022-09-11T17:24:40.442Z"
   },
   {
    "duration": 77,
    "start_time": "2022-09-11T17:24:49.405Z"
   },
   {
    "duration": 5,
    "start_time": "2022-09-11T17:29:14.114Z"
   },
   {
    "duration": 6,
    "start_time": "2022-09-11T17:34:59.928Z"
   },
   {
    "duration": 5,
    "start_time": "2022-09-11T17:39:13.332Z"
   },
   {
    "duration": 8,
    "start_time": "2022-09-11T17:40:03.542Z"
   },
   {
    "duration": 6,
    "start_time": "2022-09-11T17:49:47.361Z"
   },
   {
    "duration": 8,
    "start_time": "2022-09-11T18:24:32.391Z"
   },
   {
    "duration": 29,
    "start_time": "2022-09-11T18:25:13.404Z"
   },
   {
    "duration": 66,
    "start_time": "2022-09-11T18:25:17.390Z"
   },
   {
    "duration": 5,
    "start_time": "2022-09-11T18:26:18.401Z"
   },
   {
    "duration": 5,
    "start_time": "2022-09-11T18:26:22.642Z"
   },
   {
    "duration": 16,
    "start_time": "2022-09-11T18:26:26.361Z"
   },
   {
    "duration": 32,
    "start_time": "2022-09-11T18:26:28.670Z"
   },
   {
    "duration": 31,
    "start_time": "2022-09-11T18:26:32.421Z"
   },
   {
    "duration": 6,
    "start_time": "2022-09-11T18:26:35.706Z"
   },
   {
    "duration": 72,
    "start_time": "2022-09-11T18:26:40.202Z"
   },
   {
    "duration": 8,
    "start_time": "2022-09-11T18:34:11.673Z"
   },
   {
    "duration": 69,
    "start_time": "2022-09-11T18:34:20.556Z"
   },
   {
    "duration": 5,
    "start_time": "2022-09-11T18:40:26.537Z"
   },
   {
    "duration": 6,
    "start_time": "2022-09-11T18:40:29.758Z"
   },
   {
    "duration": 51,
    "start_time": "2022-09-11T18:40:34.495Z"
   },
   {
    "duration": 268,
    "start_time": "2022-09-11T18:54:13.458Z"
   },
   {
    "duration": 6,
    "start_time": "2022-09-11T18:54:45.503Z"
   },
   {
    "duration": 10,
    "start_time": "2022-09-11T18:55:29.164Z"
   },
   {
    "duration": 10,
    "start_time": "2022-09-11T18:55:41.148Z"
   },
   {
    "duration": 7,
    "start_time": "2022-09-11T18:57:24.853Z"
   },
   {
    "duration": 48,
    "start_time": "2022-09-11T19:01:11.445Z"
   },
   {
    "duration": 527,
    "start_time": "2022-09-11T19:01:14.715Z"
   },
   {
    "duration": 36,
    "start_time": "2022-09-11T19:01:17.010Z"
   },
   {
    "duration": 3,
    "start_time": "2022-09-11T19:01:21.641Z"
   },
   {
    "duration": 78,
    "start_time": "2022-09-11T19:01:23.439Z"
   },
   {
    "duration": 7,
    "start_time": "2022-09-11T19:01:37.459Z"
   },
   {
    "duration": 4,
    "start_time": "2022-09-11T19:01:52.399Z"
   },
   {
    "duration": 16,
    "start_time": "2022-09-11T19:01:54.611Z"
   },
   {
    "duration": 45,
    "start_time": "2022-09-11T19:01:56.391Z"
   },
   {
    "duration": 33,
    "start_time": "2022-09-11T19:01:59.150Z"
   },
   {
    "duration": 6,
    "start_time": "2022-09-11T19:02:02.139Z"
   },
   {
    "duration": 7,
    "start_time": "2022-09-11T19:11:23.932Z"
   },
   {
    "duration": 7,
    "start_time": "2022-09-11T19:11:26.020Z"
   },
   {
    "duration": 486,
    "start_time": "2022-09-11T19:21:17.576Z"
   },
   {
    "duration": 34,
    "start_time": "2022-09-11T19:21:20.507Z"
   },
   {
    "duration": 6,
    "start_time": "2022-09-11T19:21:33.349Z"
   },
   {
    "duration": 5,
    "start_time": "2022-09-11T19:21:39.405Z"
   },
   {
    "duration": 11,
    "start_time": "2022-09-11T19:21:41.914Z"
   },
   {
    "duration": 25,
    "start_time": "2022-09-11T19:21:44.365Z"
   },
   {
    "duration": 21,
    "start_time": "2022-09-11T19:21:47.632Z"
   },
   {
    "duration": 4,
    "start_time": "2022-09-11T19:21:49.696Z"
   },
   {
    "duration": 9,
    "start_time": "2022-09-11T19:22:15.341Z"
   },
   {
    "duration": 52,
    "start_time": "2022-09-11T19:23:12.233Z"
   },
   {
    "duration": 8,
    "start_time": "2022-09-11T19:23:33.748Z"
   },
   {
    "duration": 7,
    "start_time": "2022-09-11T19:23:39.204Z"
   },
   {
    "duration": 14,
    "start_time": "2022-09-11T19:23:45.281Z"
   },
   {
    "duration": 5,
    "start_time": "2022-09-11T19:25:50.327Z"
   },
   {
    "duration": 9,
    "start_time": "2022-09-11T19:26:55.911Z"
   },
   {
    "duration": 7,
    "start_time": "2022-09-11T19:26:59.629Z"
   },
   {
    "duration": 10,
    "start_time": "2022-09-11T19:27:02.369Z"
   },
   {
    "duration": 8,
    "start_time": "2022-09-11T19:27:17.474Z"
   },
   {
    "duration": 7,
    "start_time": "2022-09-11T19:27:21.947Z"
   },
   {
    "duration": 11,
    "start_time": "2022-09-11T19:27:26.727Z"
   },
   {
    "duration": 4,
    "start_time": "2022-09-11T19:27:33.317Z"
   },
   {
    "duration": 16,
    "start_time": "2022-09-11T19:27:35.503Z"
   },
   {
    "duration": 30,
    "start_time": "2022-09-11T19:27:37.501Z"
   },
   {
    "duration": 31,
    "start_time": "2022-09-11T19:27:40.210Z"
   },
   {
    "duration": 5,
    "start_time": "2022-09-11T19:27:43.274Z"
   },
   {
    "duration": 6,
    "start_time": "2022-09-11T19:27:48.751Z"
   },
   {
    "duration": 7,
    "start_time": "2022-09-11T19:27:50.536Z"
   },
   {
    "duration": 12,
    "start_time": "2022-09-11T19:27:54.387Z"
   },
   {
    "duration": 7,
    "start_time": "2022-09-11T19:27:57.409Z"
   },
   {
    "duration": 11,
    "start_time": "2022-09-11T19:27:59.412Z"
   },
   {
    "duration": 11,
    "start_time": "2022-09-11T19:39:05.873Z"
   },
   {
    "duration": 74,
    "start_time": "2022-09-11T19:56:47.397Z"
   },
   {
    "duration": 9,
    "start_time": "2022-09-11T19:56:52.145Z"
   },
   {
    "duration": 354,
    "start_time": "2022-09-11T19:58:58.507Z"
   },
   {
    "duration": 9,
    "start_time": "2022-09-11T20:00:20.936Z"
   },
   {
    "duration": 8,
    "start_time": "2022-09-11T20:01:14.140Z"
   },
   {
    "duration": 10,
    "start_time": "2022-09-11T20:04:35.619Z"
   },
   {
    "duration": 5,
    "start_time": "2022-09-11T20:05:14.986Z"
   },
   {
    "duration": 10,
    "start_time": "2022-09-11T20:18:10.629Z"
   },
   {
    "duration": 6,
    "start_time": "2022-09-11T20:20:12.273Z"
   },
   {
    "duration": 11,
    "start_time": "2022-09-11T20:27:46.262Z"
   },
   {
    "duration": 4,
    "start_time": "2022-09-11T20:33:12.480Z"
   },
   {
    "duration": 3,
    "start_time": "2022-09-11T20:34:46.676Z"
   },
   {
    "duration": 9,
    "start_time": "2022-09-11T20:34:48.762Z"
   },
   {
    "duration": 24,
    "start_time": "2022-09-11T20:35:30.265Z"
   },
   {
    "duration": 685,
    "start_time": "2022-09-12T15:10:07.209Z"
   },
   {
    "duration": 37,
    "start_time": "2022-09-12T15:10:11.858Z"
   },
   {
    "duration": 4,
    "start_time": "2022-09-12T15:10:15.510Z"
   },
   {
    "duration": 78,
    "start_time": "2022-09-12T15:10:17.491Z"
   },
   {
    "duration": 12,
    "start_time": "2022-09-12T15:10:20.672Z"
   },
   {
    "duration": 2377,
    "start_time": "2022-09-12T15:10:23.755Z"
   },
   {
    "duration": 10,
    "start_time": "2022-09-12T15:10:29.053Z"
   },
   {
    "duration": 4,
    "start_time": "2022-09-12T15:10:34.454Z"
   },
   {
    "duration": 6,
    "start_time": "2022-09-12T15:10:36.476Z"
   },
   {
    "duration": 7,
    "start_time": "2022-09-12T15:10:40.460Z"
   },
   {
    "duration": 5,
    "start_time": "2022-09-12T15:10:44.134Z"
   },
   {
    "duration": 4,
    "start_time": "2022-09-12T15:10:47.832Z"
   },
   {
    "duration": 11,
    "start_time": "2022-09-12T15:10:49.761Z"
   },
   {
    "duration": 25,
    "start_time": "2022-09-12T15:10:52.061Z"
   },
   {
    "duration": 25,
    "start_time": "2022-09-12T15:10:55.399Z"
   },
   {
    "duration": 4,
    "start_time": "2022-09-12T15:10:58.481Z"
   },
   {
    "duration": 56,
    "start_time": "2022-09-12T15:11:01.045Z"
   },
   {
    "duration": 6,
    "start_time": "2022-09-12T15:11:07.850Z"
   },
   {
    "duration": 6,
    "start_time": "2022-09-12T15:11:09.742Z"
   },
   {
    "duration": 9,
    "start_time": "2022-09-12T15:11:18.689Z"
   },
   {
    "duration": 7,
    "start_time": "2022-09-12T15:11:22.272Z"
   },
   {
    "duration": 10,
    "start_time": "2022-09-12T15:11:24.085Z"
   },
   {
    "duration": 9,
    "start_time": "2022-09-12T15:11:26.824Z"
   },
   {
    "duration": 5,
    "start_time": "2022-09-12T18:08:52.636Z"
   },
   {
    "duration": 11,
    "start_time": "2022-09-12T18:12:21.553Z"
   },
   {
    "duration": 4,
    "start_time": "2022-09-12T18:12:25.623Z"
   },
   {
    "duration": 4,
    "start_time": "2022-09-12T18:13:53.839Z"
   },
   {
    "duration": 163,
    "start_time": "2022-09-12T18:34:22.699Z"
   },
   {
    "duration": 110,
    "start_time": "2022-09-12T18:34:45.522Z"
   },
   {
    "duration": 104,
    "start_time": "2022-09-12T18:34:58.278Z"
   },
   {
    "duration": 11,
    "start_time": "2022-09-12T18:35:06.679Z"
   },
   {
    "duration": 3,
    "start_time": "2022-09-12T18:53:20.211Z"
   },
   {
    "duration": 4,
    "start_time": "2022-09-12T18:53:38.925Z"
   },
   {
    "duration": 9,
    "start_time": "2022-09-12T19:23:47.348Z"
   },
   {
    "duration": 3,
    "start_time": "2022-09-12T19:26:36.046Z"
   },
   {
    "duration": 8,
    "start_time": "2022-09-12T19:26:38.550Z"
   },
   {
    "duration": 31,
    "start_time": "2022-09-12T19:26:40.485Z"
   },
   {
    "duration": 45,
    "start_time": "2022-09-12T19:38:13.197Z"
   },
   {
    "duration": 47,
    "start_time": "2022-09-12T19:38:31.144Z"
   },
   {
    "duration": 74,
    "start_time": "2022-09-12T19:39:11.105Z"
   },
   {
    "duration": 3,
    "start_time": "2022-09-12T19:39:18.442Z"
   },
   {
    "duration": 212,
    "start_time": "2022-09-12T19:39:28.687Z"
   },
   {
    "duration": 747,
    "start_time": "2022-09-12T19:41:20.407Z"
   },
   {
    "duration": 8,
    "start_time": "2022-09-12T19:42:36.491Z"
   },
   {
    "duration": 231,
    "start_time": "2022-09-12T19:43:26.941Z"
   },
   {
    "duration": 250,
    "start_time": "2022-09-12T19:43:57.409Z"
   },
   {
    "duration": 4,
    "start_time": "2022-09-12T19:49:29.717Z"
   },
   {
    "duration": 234,
    "start_time": "2022-09-12T19:49:32.286Z"
   },
   {
    "duration": 227,
    "start_time": "2022-09-12T19:49:49.572Z"
   },
   {
    "duration": 21,
    "start_time": "2022-09-12T20:23:11.484Z"
   },
   {
    "duration": 18,
    "start_time": "2022-09-12T20:27:52.254Z"
   },
   {
    "duration": 4,
    "start_time": "2022-09-12T20:28:14.216Z"
   },
   {
    "duration": 6,
    "start_time": "2022-09-12T20:28:53.912Z"
   },
   {
    "duration": 5,
    "start_time": "2022-09-12T20:29:31.492Z"
   },
   {
    "duration": 5,
    "start_time": "2022-09-12T20:29:36.098Z"
   },
   {
    "duration": 36,
    "start_time": "2022-09-12T20:31:00.414Z"
   },
   {
    "duration": 44,
    "start_time": "2022-09-12T20:31:38.734Z"
   },
   {
    "duration": 3,
    "start_time": "2022-09-12T20:38:31.943Z"
   },
   {
    "duration": 89,
    "start_time": "2022-09-12T20:38:39.310Z"
   },
   {
    "duration": 19,
    "start_time": "2022-09-12T20:38:43.748Z"
   },
   {
    "duration": 8,
    "start_time": "2022-09-12T20:38:58.393Z"
   },
   {
    "duration": 17,
    "start_time": "2022-09-12T20:39:00.379Z"
   },
   {
    "duration": 3,
    "start_time": "2022-09-12T20:40:16.806Z"
   },
   {
    "duration": 12,
    "start_time": "2022-09-12T20:40:18.601Z"
   },
   {
    "duration": 16,
    "start_time": "2022-09-12T20:40:20.395Z"
   },
   {
    "duration": 8,
    "start_time": "2022-09-12T20:41:12.662Z"
   },
   {
    "duration": 20,
    "start_time": "2022-09-12T20:41:14.356Z"
   },
   {
    "duration": 16,
    "start_time": "2022-09-12T20:41:24.438Z"
   },
   {
    "duration": 52,
    "start_time": "2022-09-12T20:41:28.842Z"
   },
   {
    "duration": 4,
    "start_time": "2022-09-12T20:41:55.997Z"
   },
   {
    "duration": 51,
    "start_time": "2022-09-12T20:42:19.690Z"
   },
   {
    "duration": 4,
    "start_time": "2022-09-12T20:43:12.574Z"
   },
   {
    "duration": 9,
    "start_time": "2022-09-12T20:43:14.588Z"
   },
   {
    "duration": 23,
    "start_time": "2022-09-12T20:43:17.137Z"
   },
   {
    "duration": 15,
    "start_time": "2022-09-12T20:43:46.208Z"
   },
   {
    "duration": 5,
    "start_time": "2022-09-12T20:43:48.573Z"
   },
   {
    "duration": 5,
    "start_time": "2022-09-12T20:50:25.127Z"
   },
   {
    "duration": 5,
    "start_time": "2022-09-12T20:53:08.502Z"
   },
   {
    "duration": 21,
    "start_time": "2022-09-12T20:55:14.004Z"
   },
   {
    "duration": 18,
    "start_time": "2022-09-12T20:55:59.784Z"
   },
   {
    "duration": 5,
    "start_time": "2022-09-12T20:56:22.886Z"
   },
   {
    "duration": 51,
    "start_time": "2022-09-13T18:38:01.774Z"
   },
   {
    "duration": 667,
    "start_time": "2022-09-13T18:38:12.552Z"
   },
   {
    "duration": 35,
    "start_time": "2022-09-13T18:38:13.221Z"
   },
   {
    "duration": 4,
    "start_time": "2022-09-13T18:38:13.260Z"
   },
   {
    "duration": 84,
    "start_time": "2022-09-13T18:38:13.265Z"
   },
   {
    "duration": 13,
    "start_time": "2022-09-13T18:38:13.351Z"
   },
   {
    "duration": 2166,
    "start_time": "2022-09-13T18:38:13.366Z"
   },
   {
    "duration": 9,
    "start_time": "2022-09-13T18:38:15.534Z"
   },
   {
    "duration": 4,
    "start_time": "2022-09-13T18:38:15.545Z"
   },
   {
    "duration": 4,
    "start_time": "2022-09-13T18:38:15.551Z"
   },
   {
    "duration": 6,
    "start_time": "2022-09-13T18:38:15.556Z"
   },
   {
    "duration": 5,
    "start_time": "2022-09-13T18:38:15.563Z"
   },
   {
    "duration": 13,
    "start_time": "2022-09-13T18:38:15.569Z"
   },
   {
    "duration": 9,
    "start_time": "2022-09-13T18:38:15.583Z"
   },
   {
    "duration": 16,
    "start_time": "2022-09-13T18:38:15.593Z"
   },
   {
    "duration": 3,
    "start_time": "2022-09-13T18:38:15.611Z"
   },
   {
    "duration": 13,
    "start_time": "2022-09-13T18:38:15.615Z"
   },
   {
    "duration": 25,
    "start_time": "2022-09-13T18:38:15.630Z"
   },
   {
    "duration": 18,
    "start_time": "2022-09-13T18:38:15.657Z"
   },
   {
    "duration": 3,
    "start_time": "2022-09-13T18:38:15.677Z"
   },
   {
    "duration": 28,
    "start_time": "2022-09-13T18:38:15.682Z"
   },
   {
    "duration": 47,
    "start_time": "2022-09-13T18:38:15.712Z"
   },
   {
    "duration": 5,
    "start_time": "2022-09-13T18:38:15.760Z"
   },
   {
    "duration": 7,
    "start_time": "2022-09-13T18:38:15.766Z"
   },
   {
    "duration": 10,
    "start_time": "2022-09-13T18:38:15.774Z"
   },
   {
    "duration": 27,
    "start_time": "2022-09-13T18:38:15.786Z"
   },
   {
    "duration": 11,
    "start_time": "2022-09-13T18:38:15.814Z"
   },
   {
    "duration": 7,
    "start_time": "2022-09-13T18:38:15.829Z"
   },
   {
    "duration": 107,
    "start_time": "2022-09-13T18:38:15.837Z"
   },
   {
    "duration": 4,
    "start_time": "2022-09-13T18:38:15.946Z"
   },
   {
    "duration": 5,
    "start_time": "2022-09-13T18:38:15.952Z"
   },
   {
    "duration": 11,
    "start_time": "2022-09-13T18:38:15.958Z"
   },
   {
    "duration": 39,
    "start_time": "2022-09-13T18:38:15.970Z"
   },
   {
    "duration": 17,
    "start_time": "2022-09-13T18:38:16.011Z"
   },
   {
    "duration": 4,
    "start_time": "2022-09-13T18:38:16.029Z"
   },
   {
    "duration": 5,
    "start_time": "2022-09-13T18:38:16.035Z"
   },
   {
    "duration": 21,
    "start_time": "2022-09-13T18:38:16.041Z"
   },
   {
    "duration": 46,
    "start_time": "2022-09-13T18:38:16.063Z"
   },
   {
    "duration": 4,
    "start_time": "2022-09-13T18:38:16.111Z"
   },
   {
    "duration": 42,
    "start_time": "2022-09-13T18:38:16.116Z"
   },
   {
    "duration": 8,
    "start_time": "2022-09-13T18:38:16.160Z"
   },
   {
    "duration": 4,
    "start_time": "2022-09-13T18:38:16.170Z"
   },
   {
    "duration": 37,
    "start_time": "2022-09-13T18:38:16.177Z"
   },
   {
    "duration": 9,
    "start_time": "2022-09-13T18:38:16.215Z"
   },
   {
    "duration": 3,
    "start_time": "2022-09-13T18:38:16.226Z"
   },
   {
    "duration": 10,
    "start_time": "2022-09-13T18:38:16.231Z"
   },
   {
    "duration": 6,
    "start_time": "2022-09-13T18:38:16.245Z"
   },
   {
    "duration": 12,
    "start_time": "2022-09-13T18:38:16.252Z"
   },
   {
    "duration": 9,
    "start_time": "2022-09-13T18:38:16.266Z"
   },
   {
    "duration": 33,
    "start_time": "2022-09-13T18:38:16.276Z"
   },
   {
    "duration": 6,
    "start_time": "2022-09-13T18:38:16.311Z"
   },
   {
    "duration": 15,
    "start_time": "2022-09-13T18:38:16.318Z"
   },
   {
    "duration": 79,
    "start_time": "2022-09-13T18:38:16.334Z"
   },
   {
    "duration": 4,
    "start_time": "2022-09-13T18:38:16.415Z"
   },
   {
    "duration": 10,
    "start_time": "2022-09-13T18:38:16.421Z"
   },
   {
    "duration": 29,
    "start_time": "2022-09-13T18:38:16.433Z"
   },
   {
    "duration": 9,
    "start_time": "2022-09-13T18:38:16.464Z"
   },
   {
    "duration": 36,
    "start_time": "2022-09-13T18:38:16.474Z"
   },
   {
    "duration": 4,
    "start_time": "2022-09-13T18:38:16.511Z"
   },
   {
    "duration": 6,
    "start_time": "2022-09-13T18:38:16.517Z"
   },
   {
    "duration": 5,
    "start_time": "2022-09-13T18:38:16.524Z"
   },
   {
    "duration": 8,
    "start_time": "2022-09-13T18:38:16.531Z"
   },
   {
    "duration": 7,
    "start_time": "2022-09-13T18:38:16.541Z"
   },
   {
    "duration": 16,
    "start_time": "2022-09-13T18:38:16.549Z"
   },
   {
    "duration": 16,
    "start_time": "2022-09-13T18:38:16.566Z"
   },
   {
    "duration": 3,
    "start_time": "2022-09-13T18:38:16.583Z"
   },
   {
    "duration": 7,
    "start_time": "2022-09-13T18:38:16.608Z"
   },
   {
    "duration": 4,
    "start_time": "2022-09-13T18:38:16.616Z"
   },
   {
    "duration": 11,
    "start_time": "2022-09-13T18:38:16.621Z"
   },
   {
    "duration": 5,
    "start_time": "2022-09-13T18:38:16.633Z"
   },
   {
    "duration": 9,
    "start_time": "2022-09-13T18:38:16.639Z"
   },
   {
    "duration": 27,
    "start_time": "2022-09-13T18:38:16.650Z"
   },
   {
    "duration": 30,
    "start_time": "2022-09-13T18:38:16.679Z"
   },
   {
    "duration": 4,
    "start_time": "2022-09-13T18:38:16.710Z"
   },
   {
    "duration": 40,
    "start_time": "2022-09-13T18:38:16.715Z"
   },
   {
    "duration": 35,
    "start_time": "2022-09-13T18:38:16.756Z"
   },
   {
    "duration": 49,
    "start_time": "2022-09-13T18:38:16.793Z"
   },
   {
    "duration": 36,
    "start_time": "2022-09-13T18:38:16.843Z"
   },
   {
    "duration": 52,
    "start_time": "2022-09-13T18:38:16.880Z"
   },
   {
    "duration": 55,
    "start_time": "2022-09-13T18:38:16.933Z"
   },
   {
    "duration": 4,
    "start_time": "2022-09-13T19:01:30.438Z"
   },
   {
    "duration": 11,
    "start_time": "2022-09-13T19:01:53.440Z"
   },
   {
    "duration": 5,
    "start_time": "2022-09-13T19:02:36.869Z"
   },
   {
    "duration": 52,
    "start_time": "2022-09-13T19:03:43.265Z"
   },
   {
    "duration": 502,
    "start_time": "2022-09-13T19:03:45.985Z"
   },
   {
    "duration": 32,
    "start_time": "2022-09-13T19:03:48.377Z"
   },
   {
    "duration": 4,
    "start_time": "2022-09-13T19:03:53.031Z"
   },
   {
    "duration": 74,
    "start_time": "2022-09-13T19:03:55.719Z"
   },
   {
    "duration": 8,
    "start_time": "2022-09-13T19:04:08.665Z"
   },
   {
    "duration": 5,
    "start_time": "2022-09-13T19:04:29.568Z"
   },
   {
    "duration": 5,
    "start_time": "2022-09-13T19:04:32.464Z"
   },
   {
    "duration": 5,
    "start_time": "2022-09-13T19:04:35.154Z"
   },
   {
    "duration": 5,
    "start_time": "2022-09-13T19:04:40.065Z"
   },
   {
    "duration": 4,
    "start_time": "2022-09-13T19:04:43.439Z"
   },
   {
    "duration": 3,
    "start_time": "2022-09-13T19:04:46.751Z"
   },
   {
    "duration": 10,
    "start_time": "2022-09-13T19:04:48.535Z"
   },
   {
    "duration": 21,
    "start_time": "2022-09-13T19:04:50.858Z"
   },
   {
    "duration": 19,
    "start_time": "2022-09-13T19:04:55.138Z"
   },
   {
    "duration": 4,
    "start_time": "2022-09-13T19:04:57.252Z"
   },
   {
    "duration": 5,
    "start_time": "2022-09-13T19:05:00.490Z"
   },
   {
    "duration": 48,
    "start_time": "2022-09-13T19:05:03.609Z"
   },
   {
    "duration": 7,
    "start_time": "2022-09-13T19:05:10.038Z"
   },
   {
    "duration": 6,
    "start_time": "2022-09-13T19:05:12.389Z"
   },
   {
    "duration": 10,
    "start_time": "2022-09-13T19:05:19.302Z"
   },
   {
    "duration": 7,
    "start_time": "2022-09-13T19:05:25.267Z"
   },
   {
    "duration": 4,
    "start_time": "2022-09-13T19:05:27.337Z"
   },
   {
    "duration": 8,
    "start_time": "2022-09-13T19:05:44.939Z"
   },
   {
    "duration": 5,
    "start_time": "2022-09-13T19:05:51.109Z"
   },
   {
    "duration": 3,
    "start_time": "2022-09-13T19:05:54.049Z"
   },
   {
    "duration": 8,
    "start_time": "2022-09-13T19:05:56.417Z"
   },
   {
    "duration": 20,
    "start_time": "2022-09-13T19:05:58.894Z"
   },
   {
    "duration": 17,
    "start_time": "2022-09-13T19:06:03.100Z"
   },
   {
    "duration": 5,
    "start_time": "2022-09-13T19:06:05.261Z"
   },
   {
    "duration": 5,
    "start_time": "2022-09-13T19:06:10.253Z"
   },
   {
    "duration": 20,
    "start_time": "2022-09-13T19:06:13.673Z"
   },
   {
    "duration": 16,
    "start_time": "2022-09-13T19:06:16.717Z"
   },
   {
    "duration": 4,
    "start_time": "2022-09-13T19:06:19.140Z"
   },
   {
    "duration": 8,
    "start_time": "2022-09-13T19:06:30.474Z"
   },
   {
    "duration": 5,
    "start_time": "2022-09-13T19:06:32.549Z"
   },
   {
    "duration": 4,
    "start_time": "2022-09-13T19:06:37.402Z"
   },
   {
    "duration": 3,
    "start_time": "2022-09-13T19:06:43.311Z"
   },
   {
    "duration": 14,
    "start_time": "2022-09-13T19:06:47.259Z"
   },
   {
    "duration": 28,
    "start_time": "2022-09-13T19:14:24.184Z"
   },
   {
    "duration": 8,
    "start_time": "2022-09-13T19:14:40.348Z"
   },
   {
    "duration": 4,
    "start_time": "2022-09-13T19:15:27.237Z"
   },
   {
    "duration": 8,
    "start_time": "2022-09-13T19:15:40.897Z"
   },
   {
    "duration": 8,
    "start_time": "2022-09-13T19:40:02.703Z"
   },
   {
    "duration": 3,
    "start_time": "2022-09-13T19:40:04.519Z"
   },
   {
    "duration": 8,
    "start_time": "2022-09-13T19:40:07.469Z"
   },
   {
    "duration": 8,
    "start_time": "2022-09-13T19:40:09.366Z"
   },
   {
    "duration": 19,
    "start_time": "2022-09-13T19:40:11.502Z"
   },
   {
    "duration": 25,
    "start_time": "2022-09-13T19:42:45.238Z"
   },
   {
    "duration": 49,
    "start_time": "2022-09-14T15:30:17.200Z"
   },
   {
    "duration": 675,
    "start_time": "2022-09-14T15:30:27.057Z"
   },
   {
    "duration": 36,
    "start_time": "2022-09-14T15:30:32.203Z"
   },
   {
    "duration": 4,
    "start_time": "2022-09-14T15:30:39.304Z"
   },
   {
    "duration": 7,
    "start_time": "2022-09-14T15:32:43.334Z"
   },
   {
    "duration": 4,
    "start_time": "2022-09-14T15:32:51.633Z"
   },
   {
    "duration": 11,
    "start_time": "2022-09-14T15:32:55.598Z"
   },
   {
    "duration": 23,
    "start_time": "2022-09-14T15:32:57.704Z"
   },
   {
    "duration": 21,
    "start_time": "2022-09-14T15:33:00.984Z"
   },
   {
    "duration": 5,
    "start_time": "2022-09-14T15:33:03.136Z"
   },
   {
    "duration": 62,
    "start_time": "2022-09-14T15:33:09.326Z"
   },
   {
    "duration": 6,
    "start_time": "2022-09-14T15:33:18.366Z"
   },
   {
    "duration": 5,
    "start_time": "2022-09-14T15:33:20.325Z"
   },
   {
    "duration": 9,
    "start_time": "2022-09-14T15:33:23.677Z"
   },
   {
    "duration": 8,
    "start_time": "2022-09-14T15:33:26.322Z"
   },
   {
    "duration": 5,
    "start_time": "2022-09-14T15:33:28.246Z"
   },
   {
    "duration": 10,
    "start_time": "2022-09-14T15:33:31.777Z"
   },
   {
    "duration": 645,
    "start_time": "2022-09-14T15:33:34.827Z"
   },
   {
    "duration": 7,
    "start_time": "2022-09-14T15:33:39.019Z"
   },
   {
    "duration": 3,
    "start_time": "2022-09-14T15:33:43.760Z"
   },
   {
    "duration": 11,
    "start_time": "2022-09-14T15:33:46.043Z"
   },
   {
    "duration": 27,
    "start_time": "2022-09-14T15:33:48.327Z"
   },
   {
    "duration": 18,
    "start_time": "2022-09-14T15:33:52.891Z"
   },
   {
    "duration": 6,
    "start_time": "2022-09-14T15:33:55.075Z"
   },
   {
    "duration": 24,
    "start_time": "2022-09-14T15:33:58.816Z"
   },
   {
    "duration": 18,
    "start_time": "2022-09-14T15:34:01.059Z"
   },
   {
    "duration": 5,
    "start_time": "2022-09-14T15:34:09.476Z"
   },
   {
    "duration": 10,
    "start_time": "2022-09-14T15:34:11.870Z"
   },
   {
    "duration": 6,
    "start_time": "2022-09-14T15:34:15.854Z"
   },
   {
    "duration": 4,
    "start_time": "2022-09-14T15:34:22.744Z"
   },
   {
    "duration": 10,
    "start_time": "2022-09-14T15:34:27.994Z"
   },
   {
    "duration": 9,
    "start_time": "2022-09-14T15:38:32.265Z"
   },
   {
    "duration": 7,
    "start_time": "2022-09-14T15:38:35.748Z"
   },
   {
    "duration": 5,
    "start_time": "2022-09-14T15:38:37.711Z"
   },
   {
    "duration": 7,
    "start_time": "2022-09-14T15:40:44.398Z"
   },
   {
    "duration": 5,
    "start_time": "2022-09-14T15:40:46.368Z"
   },
   {
    "duration": 10,
    "start_time": "2022-09-14T15:50:14.272Z"
   },
   {
    "duration": 6,
    "start_time": "2022-09-14T15:50:18.867Z"
   },
   {
    "duration": 42,
    "start_time": "2022-09-14T15:50:24.699Z"
   },
   {
    "duration": 11,
    "start_time": "2022-09-14T15:50:37.292Z"
   },
   {
    "duration": 10,
    "start_time": "2022-09-14T15:53:04.749Z"
   },
   {
    "duration": 10,
    "start_time": "2022-09-14T15:53:11.035Z"
   },
   {
    "duration": 6,
    "start_time": "2022-09-14T15:53:12.834Z"
   },
   {
    "duration": 4,
    "start_time": "2022-09-14T15:53:15.143Z"
   },
   {
    "duration": 14,
    "start_time": "2022-09-14T16:04:47.908Z"
   },
   {
    "duration": 53,
    "start_time": "2022-09-14T16:14:43.235Z"
   },
   {
    "duration": 465,
    "start_time": "2022-09-14T16:14:48.481Z"
   },
   {
    "duration": 13,
    "start_time": "2022-09-14T16:15:01.339Z"
   },
   {
    "duration": 3,
    "start_time": "2022-09-14T16:15:05.936Z"
   },
   {
    "duration": 12,
    "start_time": "2022-09-14T16:15:07.846Z"
   },
   {
    "duration": 27,
    "start_time": "2022-09-14T16:15:11.044Z"
   },
   {
    "duration": 23,
    "start_time": "2022-09-14T16:15:15.802Z"
   },
   {
    "duration": 5,
    "start_time": "2022-09-14T16:15:18.322Z"
   },
   {
    "duration": 6,
    "start_time": "2022-09-14T16:15:22.735Z"
   },
   {
    "duration": 56,
    "start_time": "2022-09-14T16:15:24.941Z"
   },
   {
    "duration": 6,
    "start_time": "2022-09-14T16:15:30.178Z"
   },
   {
    "duration": 5,
    "start_time": "2022-09-14T16:15:32.851Z"
   },
   {
    "duration": 287,
    "start_time": "2022-09-14T16:15:46.409Z"
   },
   {
    "duration": 5,
    "start_time": "2022-09-14T16:16:32.757Z"
   },
   {
    "duration": 11,
    "start_time": "2022-09-14T16:16:42.874Z"
   },
   {
    "duration": 8,
    "start_time": "2022-09-14T16:23:07.926Z"
   },
   {
    "duration": 5,
    "start_time": "2022-09-14T16:23:15.537Z"
   },
   {
    "duration": 6,
    "start_time": "2022-09-14T16:23:43.793Z"
   },
   {
    "duration": 9,
    "start_time": "2022-09-14T16:27:33.919Z"
   },
   {
    "duration": 10,
    "start_time": "2022-09-14T16:28:40.802Z"
   },
   {
    "duration": 14,
    "start_time": "2022-09-14T16:28:55.195Z"
   },
   {
    "duration": 17,
    "start_time": "2022-09-14T16:29:14.133Z"
   },
   {
    "duration": 6,
    "start_time": "2022-09-14T16:29:17.124Z"
   },
   {
    "duration": 3,
    "start_time": "2022-09-14T16:29:30.023Z"
   },
   {
    "duration": 13,
    "start_time": "2022-09-14T16:29:31.810Z"
   },
   {
    "duration": 22,
    "start_time": "2022-09-14T16:29:33.633Z"
   },
   {
    "duration": 25,
    "start_time": "2022-09-14T16:29:36.490Z"
   },
   {
    "duration": 6,
    "start_time": "2022-09-14T16:29:38.192Z"
   },
   {
    "duration": 9,
    "start_time": "2022-09-14T16:29:39.889Z"
   },
   {
    "duration": 5,
    "start_time": "2022-09-14T16:29:44.687Z"
   },
   {
    "duration": 6,
    "start_time": "2022-09-14T16:29:46.394Z"
   },
   {
    "duration": 8,
    "start_time": "2022-09-14T16:29:48.870Z"
   },
   {
    "duration": 16,
    "start_time": "2022-09-14T16:29:51.871Z"
   },
   {
    "duration": 6,
    "start_time": "2022-09-14T16:29:55.568Z"
   },
   {
    "duration": 7,
    "start_time": "2022-09-14T16:29:57.815Z"
   },
   {
    "duration": 9,
    "start_time": "2022-09-14T16:30:01.495Z"
   },
   {
    "duration": 3,
    "start_time": "2022-09-14T16:30:06.695Z"
   },
   {
    "duration": 10,
    "start_time": "2022-09-14T16:30:08.732Z"
   },
   {
    "duration": 24,
    "start_time": "2022-09-14T16:30:10.899Z"
   },
   {
    "duration": 22,
    "start_time": "2022-09-14T16:30:14.086Z"
   },
   {
    "duration": 6,
    "start_time": "2022-09-14T16:30:16.216Z"
   },
   {
    "duration": 6,
    "start_time": "2022-09-14T16:30:18.136Z"
   },
   {
    "duration": 23,
    "start_time": "2022-09-14T16:30:20.646Z"
   },
   {
    "duration": 18,
    "start_time": "2022-09-14T16:30:23.286Z"
   },
   {
    "duration": 5,
    "start_time": "2022-09-14T16:30:25.102Z"
   },
   {
    "duration": 10,
    "start_time": "2022-09-14T16:30:33.298Z"
   },
   {
    "duration": 5,
    "start_time": "2022-09-14T16:30:35.441Z"
   },
   {
    "duration": 4,
    "start_time": "2022-09-14T16:30:38.342Z"
   },
   {
    "duration": 4,
    "start_time": "2022-09-14T16:30:41.437Z"
   },
   {
    "duration": 10,
    "start_time": "2022-09-14T16:30:44.929Z"
   },
   {
    "duration": 8,
    "start_time": "2022-09-14T16:30:56.650Z"
   },
   {
    "duration": 2,
    "start_time": "2022-09-14T16:30:58.661Z"
   },
   {
    "duration": 8,
    "start_time": "2022-09-14T16:31:01.351Z"
   },
   {
    "duration": 9,
    "start_time": "2022-09-14T16:31:03.402Z"
   },
   {
    "duration": 16,
    "start_time": "2022-09-14T16:31:06.907Z"
   },
   {
    "duration": 25,
    "start_time": "2022-09-14T16:31:10.938Z"
   },
   {
    "duration": 7,
    "start_time": "2022-09-14T16:31:47.773Z"
   },
   {
    "duration": 6,
    "start_time": "2022-09-14T16:31:59.042Z"
   },
   {
    "duration": 7,
    "start_time": "2022-09-14T16:32:03.352Z"
   },
   {
    "duration": 14,
    "start_time": "2022-09-14T16:32:07.166Z"
   },
   {
    "duration": 72,
    "start_time": "2022-09-14T16:32:12.613Z"
   },
   {
    "duration": 6,
    "start_time": "2022-09-14T16:32:22.834Z"
   },
   {
    "duration": 7,
    "start_time": "2022-09-14T16:35:47.329Z"
   },
   {
    "duration": 14,
    "start_time": "2022-09-14T16:35:50.332Z"
   },
   {
    "duration": 66,
    "start_time": "2022-09-14T16:35:56.188Z"
   },
   {
    "duration": 24,
    "start_time": "2022-09-14T16:36:41.726Z"
   },
   {
    "duration": 22,
    "start_time": "2022-09-14T16:40:10.910Z"
   },
   {
    "duration": 22,
    "start_time": "2022-09-14T16:40:13.565Z"
   },
   {
    "duration": 22,
    "start_time": "2022-09-14T16:41:48.603Z"
   },
   {
    "duration": 5,
    "start_time": "2022-09-14T16:42:09.184Z"
   },
   {
    "duration": 33,
    "start_time": "2022-09-14T16:59:31.718Z"
   },
   {
    "duration": 70,
    "start_time": "2022-09-14T17:35:23.758Z"
   },
   {
    "duration": 17,
    "start_time": "2022-09-14T17:51:54.694Z"
   },
   {
    "duration": 21,
    "start_time": "2022-09-14T17:52:24.923Z"
   },
   {
    "duration": 54,
    "start_time": "2022-09-14T17:59:38.922Z"
   },
   {
    "duration": 36,
    "start_time": "2022-09-14T18:09:11.362Z"
   },
   {
    "duration": 32,
    "start_time": "2022-09-14T18:11:53.750Z"
   },
   {
    "duration": 36,
    "start_time": "2022-09-14T18:12:02.009Z"
   },
   {
    "duration": 38,
    "start_time": "2022-09-14T18:13:01.568Z"
   },
   {
    "duration": 45,
    "start_time": "2022-09-14T18:13:08.863Z"
   },
   {
    "duration": 33,
    "start_time": "2022-09-14T18:13:25.660Z"
   },
   {
    "duration": 33,
    "start_time": "2022-09-14T18:16:33.098Z"
   },
   {
    "duration": 54,
    "start_time": "2022-09-14T18:26:44.397Z"
   },
   {
    "duration": 149,
    "start_time": "2022-09-14T18:30:42.827Z"
   },
   {
    "duration": 11,
    "start_time": "2022-09-14T18:31:42.872Z"
   },
   {
    "duration": 72,
    "start_time": "2022-09-14T18:32:10.051Z"
   },
   {
    "duration": 12,
    "start_time": "2022-09-14T18:33:29.535Z"
   },
   {
    "duration": 9,
    "start_time": "2022-09-14T18:33:45.225Z"
   },
   {
    "duration": 7,
    "start_time": "2022-09-14T18:36:12.996Z"
   },
   {
    "duration": 8,
    "start_time": "2022-09-14T18:36:20.724Z"
   },
   {
    "duration": 89,
    "start_time": "2022-09-14T18:37:06.137Z"
   },
   {
    "duration": 6,
    "start_time": "2022-09-14T18:37:22.205Z"
   },
   {
    "duration": 69,
    "start_time": "2022-09-14T18:43:58.367Z"
   },
   {
    "duration": 7,
    "start_time": "2022-09-14T18:44:34.539Z"
   },
   {
    "duration": 28,
    "start_time": "2022-09-14T18:44:56.610Z"
   },
   {
    "duration": 42,
    "start_time": "2022-09-14T18:50:01.040Z"
   },
   {
    "duration": 526,
    "start_time": "2022-09-14T18:58:13.439Z"
   },
   {
    "duration": 50,
    "start_time": "2022-09-14T19:04:50.002Z"
   },
   {
    "duration": 8,
    "start_time": "2022-09-14T19:05:01.575Z"
   },
   {
    "duration": 4,
    "start_time": "2022-09-14T19:05:12.274Z"
   },
   {
    "duration": 19,
    "start_time": "2022-09-14T19:05:15.805Z"
   },
   {
    "duration": 39,
    "start_time": "2022-09-14T19:05:18.089Z"
   },
   {
    "duration": 28,
    "start_time": "2022-09-14T19:05:23.799Z"
   },
   {
    "duration": 5,
    "start_time": "2022-09-14T19:05:26.155Z"
   },
   {
    "duration": 11,
    "start_time": "2022-09-14T19:05:28.737Z"
   },
   {
    "duration": 5,
    "start_time": "2022-09-14T19:05:32.944Z"
   },
   {
    "duration": 5,
    "start_time": "2022-09-14T19:05:34.846Z"
   },
   {
    "duration": 6,
    "start_time": "2022-09-14T19:05:38.639Z"
   },
   {
    "duration": 73,
    "start_time": "2022-09-14T19:05:41.402Z"
   },
   {
    "duration": 6,
    "start_time": "2022-09-14T19:05:47.944Z"
   },
   {
    "duration": 7,
    "start_time": "2022-09-14T19:05:50.205Z"
   },
   {
    "duration": 5,
    "start_time": "2022-09-14T19:05:57.130Z"
   },
   {
    "duration": 14,
    "start_time": "2022-09-14T19:05:59.637Z"
   },
   {
    "duration": 26,
    "start_time": "2022-09-14T19:06:01.733Z"
   },
   {
    "duration": 20,
    "start_time": "2022-09-14T19:06:05.507Z"
   },
   {
    "duration": 5,
    "start_time": "2022-09-14T19:06:08.212Z"
   },
   {
    "duration": 34,
    "start_time": "2022-09-14T19:06:12.725Z"
   },
   {
    "duration": 20,
    "start_time": "2022-09-14T19:06:16.186Z"
   },
   {
    "duration": 5,
    "start_time": "2022-09-14T19:06:18.362Z"
   },
   {
    "duration": 9,
    "start_time": "2022-09-14T19:06:26.081Z"
   },
   {
    "duration": 6,
    "start_time": "2022-09-14T19:06:28.240Z"
   },
   {
    "duration": 4,
    "start_time": "2022-09-14T19:06:41.653Z"
   },
   {
    "duration": 9,
    "start_time": "2022-09-14T19:06:54.038Z"
   },
   {
    "duration": 3,
    "start_time": "2022-09-14T19:06:56.545Z"
   },
   {
    "duration": 10,
    "start_time": "2022-09-14T19:06:58.713Z"
   },
   {
    "duration": 9,
    "start_time": "2022-09-14T19:07:02.305Z"
   },
   {
    "duration": 17,
    "start_time": "2022-09-14T19:07:04.201Z"
   },
   {
    "duration": 25,
    "start_time": "2022-09-14T19:07:10.136Z"
   },
   {
    "duration": 6,
    "start_time": "2022-09-14T19:07:13.253Z"
   },
   {
    "duration": 16,
    "start_time": "2022-09-14T19:07:16.773Z"
   },
   {
    "duration": 88,
    "start_time": "2022-09-14T19:07:20.573Z"
   },
   {
    "duration": 119,
    "start_time": "2022-09-14T19:07:24.370Z"
   },
   {
    "duration": 17,
    "start_time": "2022-09-14T19:07:37.215Z"
   },
   {
    "duration": 6,
    "start_time": "2022-09-14T19:15:20.777Z"
   },
   {
    "duration": 77,
    "start_time": "2022-09-14T19:15:32.173Z"
   },
   {
    "duration": 4,
    "start_time": "2022-09-14T19:15:54.835Z"
   },
   {
    "duration": 87,
    "start_time": "2022-09-14T19:16:18.862Z"
   },
   {
    "duration": 6,
    "start_time": "2022-09-14T19:16:58.636Z"
   },
   {
    "duration": 3,
    "start_time": "2022-09-14T19:41:19.849Z"
   },
   {
    "duration": 3,
    "start_time": "2022-09-14T19:41:31.902Z"
   },
   {
    "duration": 3,
    "start_time": "2022-09-14T19:41:48.834Z"
   },
   {
    "duration": 4,
    "start_time": "2022-09-14T19:41:59.812Z"
   },
   {
    "duration": 4,
    "start_time": "2022-09-14T19:42:06.262Z"
   },
   {
    "duration": 9,
    "start_time": "2022-09-14T19:54:51.256Z"
   },
   {
    "duration": 7,
    "start_time": "2022-09-14T19:55:18.890Z"
   },
   {
    "duration": 5,
    "start_time": "2022-09-14T19:59:28.264Z"
   },
   {
    "duration": 6,
    "start_time": "2022-09-14T19:59:30.996Z"
   },
   {
    "duration": 4,
    "start_time": "2022-09-14T19:59:34.448Z"
   },
   {
    "duration": 6,
    "start_time": "2022-09-14T20:02:05.651Z"
   },
   {
    "duration": 4,
    "start_time": "2022-09-14T20:02:58.801Z"
   },
   {
    "duration": 9,
    "start_time": "2022-09-14T20:12:52.537Z"
   },
   {
    "duration": 6,
    "start_time": "2022-09-14T20:12:55.135Z"
   },
   {
    "duration": 5,
    "start_time": "2022-09-14T20:13:02.893Z"
   },
   {
    "duration": 5,
    "start_time": "2022-09-14T20:13:09.651Z"
   },
   {
    "duration": 33,
    "start_time": "2022-09-14T20:22:41.494Z"
   },
   {
    "duration": 6,
    "start_time": "2022-09-14T20:23:38.980Z"
   },
   {
    "duration": 38,
    "start_time": "2022-09-14T20:25:10.717Z"
   },
   {
    "duration": 445,
    "start_time": "2022-09-14T20:25:56.355Z"
   },
   {
    "duration": 117,
    "start_time": "2022-09-14T20:26:16.212Z"
   },
   {
    "duration": 40,
    "start_time": "2022-09-14T20:27:13.333Z"
   },
   {
    "duration": 29,
    "start_time": "2022-09-14T20:27:24.264Z"
   },
   {
    "duration": 7,
    "start_time": "2022-09-14T20:29:12.639Z"
   },
   {
    "duration": 106,
    "start_time": "2022-09-14T20:29:42.262Z"
   },
   {
    "duration": 61,
    "start_time": "2022-09-14T20:30:16.694Z"
   },
   {
    "duration": 8,
    "start_time": "2022-09-14T20:31:32.456Z"
   },
   {
    "duration": 103,
    "start_time": "2022-09-14T20:31:47.741Z"
   },
   {
    "duration": 181,
    "start_time": "2022-09-14T20:32:01.296Z"
   },
   {
    "duration": 5,
    "start_time": "2022-09-14T20:32:39.880Z"
   },
   {
    "duration": 37,
    "start_time": "2022-09-14T20:45:44.934Z"
   },
   {
    "duration": 8,
    "start_time": "2022-09-14T20:46:45.830Z"
   },
   {
    "duration": 102,
    "start_time": "2022-09-14T20:46:54.694Z"
   },
   {
    "duration": 72,
    "start_time": "2022-09-14T20:52:13.505Z"
   },
   {
    "duration": 5,
    "start_time": "2022-09-14T20:52:56.576Z"
   },
   {
    "duration": 108,
    "start_time": "2022-09-14T20:53:48.045Z"
   },
   {
    "duration": 5,
    "start_time": "2022-09-14T20:54:17.937Z"
   },
   {
    "duration": 35,
    "start_time": "2022-09-14T20:56:22.521Z"
   },
   {
    "duration": 60,
    "start_time": "2022-09-14T20:56:40.767Z"
   },
   {
    "duration": 26,
    "start_time": "2022-09-14T20:57:01.281Z"
   },
   {
    "duration": 7,
    "start_time": "2022-09-14T21:15:14.977Z"
   },
   {
    "duration": 84,
    "start_time": "2022-09-14T21:15:37.578Z"
   },
   {
    "duration": 573,
    "start_time": "2022-09-15T15:32:11.574Z"
   },
   {
    "duration": 7,
    "start_time": "2022-09-15T15:32:23.894Z"
   },
   {
    "duration": 83,
    "start_time": "2022-09-15T15:32:25.755Z"
   },
   {
    "duration": 7,
    "start_time": "2022-09-15T15:32:37.244Z"
   },
   {
    "duration": 3,
    "start_time": "2022-09-15T15:32:48.798Z"
   },
   {
    "duration": 9,
    "start_time": "2022-09-15T15:32:53.038Z"
   },
   {
    "duration": 27,
    "start_time": "2022-09-15T15:32:55.477Z"
   },
   {
    "duration": 19,
    "start_time": "2022-09-15T15:32:59.724Z"
   },
   {
    "duration": 4,
    "start_time": "2022-09-15T15:33:02.550Z"
   },
   {
    "duration": 4,
    "start_time": "2022-09-15T15:33:08.128Z"
   },
   {
    "duration": 4,
    "start_time": "2022-09-15T15:33:09.930Z"
   },
   {
    "duration": 6,
    "start_time": "2022-09-15T15:33:19.104Z"
   },
   {
    "duration": 5,
    "start_time": "2022-09-15T15:33:20.846Z"
   },
   {
    "duration": 3,
    "start_time": "2022-09-15T15:33:29.224Z"
   },
   {
    "duration": 9,
    "start_time": "2022-09-15T15:33:32.027Z"
   },
   {
    "duration": 23,
    "start_time": "2022-09-15T15:33:36.803Z"
   },
   {
    "duration": 28,
    "start_time": "2022-09-15T15:33:45.770Z"
   },
   {
    "duration": 16,
    "start_time": "2022-09-15T15:33:50.429Z"
   },
   {
    "duration": 4,
    "start_time": "2022-09-15T15:33:53.142Z"
   },
   {
    "duration": 8,
    "start_time": "2022-09-15T15:34:01.605Z"
   },
   {
    "duration": 5,
    "start_time": "2022-09-15T15:34:05.194Z"
   },
   {
    "duration": 3,
    "start_time": "2022-09-15T15:34:12.855Z"
   },
   {
    "duration": 7,
    "start_time": "2022-09-15T15:34:35.727Z"
   },
   {
    "duration": 2,
    "start_time": "2022-09-15T15:34:43.769Z"
   },
   {
    "duration": 7,
    "start_time": "2022-09-15T15:34:47.042Z"
   },
   {
    "duration": 8,
    "start_time": "2022-09-15T15:34:51.548Z"
   },
   {
    "duration": 14,
    "start_time": "2022-09-15T15:35:33.026Z"
   },
   {
    "duration": 56,
    "start_time": "2022-09-15T15:35:37.898Z"
   },
   {
    "duration": 3,
    "start_time": "2022-09-15T15:35:48.088Z"
   },
   {
    "duration": 8,
    "start_time": "2022-09-15T15:35:50.416Z"
   },
   {
    "duration": 6,
    "start_time": "2022-09-15T15:35:52.987Z"
   },
   {
    "duration": 37,
    "start_time": "2022-09-15T15:36:00.062Z"
   },
   {
    "duration": 7,
    "start_time": "2022-09-15T15:36:08.066Z"
   },
   {
    "duration": 6,
    "start_time": "2022-09-15T15:36:11.998Z"
   },
   {
    "duration": 7,
    "start_time": "2022-09-15T15:36:44.765Z"
   },
   {
    "duration": 6,
    "start_time": "2022-09-15T15:36:50.494Z"
   },
   {
    "duration": 32,
    "start_time": "2022-09-15T15:36:59.560Z"
   },
   {
    "duration": 7,
    "start_time": "2022-09-15T15:37:04.138Z"
   },
   {
    "duration": 62,
    "start_time": "2022-09-15T15:37:29.871Z"
   },
   {
    "duration": 2,
    "start_time": "2022-09-15T15:39:36.503Z"
   },
   {
    "duration": 8,
    "start_time": "2022-09-15T15:39:39.205Z"
   },
   {
    "duration": 6,
    "start_time": "2022-09-15T15:39:48.141Z"
   },
   {
    "duration": 61,
    "start_time": "2022-09-15T15:39:54.953Z"
   },
   {
    "duration": 5,
    "start_time": "2022-09-15T15:40:24.495Z"
   },
   {
    "duration": 5,
    "start_time": "2022-09-15T15:40:28.216Z"
   },
   {
    "duration": 82,
    "start_time": "2022-09-15T15:40:35.850Z"
   },
   {
    "duration": 5,
    "start_time": "2022-09-15T15:40:59.594Z"
   },
   {
    "duration": 10,
    "start_time": "2022-09-15T15:41:01.672Z"
   },
   {
    "duration": 611,
    "start_time": "2022-09-15T15:41:25.438Z"
   },
   {
    "duration": 110,
    "start_time": "2022-09-15T15:41:33.780Z"
   },
   {
    "duration": 102,
    "start_time": "2022-09-15T15:41:50.402Z"
   },
   {
    "duration": 7,
    "start_time": "2022-09-15T15:42:33.710Z"
   },
   {
    "duration": 93,
    "start_time": "2022-09-15T15:42:38.458Z"
   },
   {
    "duration": 4,
    "start_time": "2022-09-15T15:42:54.411Z"
   },
   {
    "duration": 4,
    "start_time": "2022-09-15T15:42:57.350Z"
   },
   {
    "duration": 4,
    "start_time": "2022-09-15T15:54:44.397Z"
   },
   {
    "duration": 3,
    "start_time": "2022-09-15T15:54:46.527Z"
   },
   {
    "duration": 473,
    "start_time": "2022-09-15T15:55:24.394Z"
   },
   {
    "duration": 7,
    "start_time": "2022-09-15T15:55:28.747Z"
   },
   {
    "duration": 6,
    "start_time": "2022-09-15T15:55:38.495Z"
   },
   {
    "duration": 3,
    "start_time": "2022-09-15T15:55:46.566Z"
   },
   {
    "duration": 9,
    "start_time": "2022-09-15T15:55:50.394Z"
   },
   {
    "duration": 22,
    "start_time": "2022-09-15T15:55:53.300Z"
   },
   {
    "duration": 20,
    "start_time": "2022-09-15T15:55:57.331Z"
   },
   {
    "duration": 5,
    "start_time": "2022-09-15T15:55:59.948Z"
   },
   {
    "duration": 6,
    "start_time": "2022-09-15T15:56:05.372Z"
   },
   {
    "duration": 5,
    "start_time": "2022-09-15T15:56:07.796Z"
   },
   {
    "duration": 5,
    "start_time": "2022-09-15T15:56:12.567Z"
   },
   {
    "duration": 5,
    "start_time": "2022-09-15T15:56:15.449Z"
   },
   {
    "duration": 4,
    "start_time": "2022-09-15T15:56:28.488Z"
   },
   {
    "duration": 9,
    "start_time": "2022-09-15T15:56:32.996Z"
   },
   {
    "duration": 31,
    "start_time": "2022-09-15T15:56:35.661Z"
   },
   {
    "duration": 15,
    "start_time": "2022-09-15T15:56:40.557Z"
   },
   {
    "duration": 4,
    "start_time": "2022-09-15T15:56:44.644Z"
   },
   {
    "duration": 22,
    "start_time": "2022-09-15T15:56:49.394Z"
   },
   {
    "duration": 15,
    "start_time": "2022-09-15T15:56:54.432Z"
   },
   {
    "duration": 6,
    "start_time": "2022-09-15T15:56:57.976Z"
   },
   {
    "duration": 8,
    "start_time": "2022-09-15T15:57:04.769Z"
   },
   {
    "duration": 5,
    "start_time": "2022-09-15T15:57:06.889Z"
   },
   {
    "duration": 4,
    "start_time": "2022-09-15T15:57:14.329Z"
   },
   {
    "duration": 7,
    "start_time": "2022-09-15T15:57:25.638Z"
   },
   {
    "duration": 2,
    "start_time": "2022-09-15T15:57:27.854Z"
   },
   {
    "duration": 7,
    "start_time": "2022-09-15T15:57:32.060Z"
   },
   {
    "duration": 8,
    "start_time": "2022-09-15T15:57:35.495Z"
   },
   {
    "duration": 18,
    "start_time": "2022-09-15T15:57:37.865Z"
   },
   {
    "duration": 29,
    "start_time": "2022-09-15T15:57:43.167Z"
   },
   {
    "duration": 13,
    "start_time": "2022-09-15T15:57:50.394Z"
   },
   {
    "duration": 58,
    "start_time": "2022-09-15T15:57:54.995Z"
   },
   {
    "duration": 77,
    "start_time": "2022-09-15T15:58:01.247Z"
   },
   {
    "duration": 2,
    "start_time": "2022-09-15T15:58:05.373Z"
   },
   {
    "duration": 8,
    "start_time": "2022-09-15T15:58:10.611Z"
   },
   {
    "duration": 8,
    "start_time": "2022-09-15T15:58:13.794Z"
   },
   {
    "duration": 30,
    "start_time": "2022-09-15T15:58:19.610Z"
   },
   {
    "duration": 6,
    "start_time": "2022-09-15T15:58:41.630Z"
   },
   {
    "duration": 8,
    "start_time": "2022-09-15T15:58:51.075Z"
   },
   {
    "duration": 4,
    "start_time": "2022-09-15T15:58:55.528Z"
   },
   {
    "duration": 6,
    "start_time": "2022-09-15T15:59:09.201Z"
   },
   {
    "duration": 7,
    "start_time": "2022-09-15T15:59:13.550Z"
   },
   {
    "duration": 6,
    "start_time": "2022-09-15T15:59:19.517Z"
   },
   {
    "duration": 60,
    "start_time": "2022-09-15T15:59:39.401Z"
   },
   {
    "duration": 424,
    "start_time": "2022-09-15T16:04:10.262Z"
   },
   {
    "duration": 95,
    "start_time": "2022-09-15T16:05:24.617Z"
   },
   {
    "duration": 102,
    "start_time": "2022-09-15T16:06:26.045Z"
   },
   {
    "duration": 69,
    "start_time": "2022-09-15T16:07:02.337Z"
   },
   {
    "duration": 831,
    "start_time": "2022-09-15T16:09:25.273Z"
   },
   {
    "duration": 33,
    "start_time": "2022-09-15T16:09:26.107Z"
   },
   {
    "duration": 4,
    "start_time": "2022-09-15T16:09:26.142Z"
   },
   {
    "duration": 83,
    "start_time": "2022-09-15T16:09:26.149Z"
   },
   {
    "duration": 14,
    "start_time": "2022-09-15T16:09:26.235Z"
   },
   {
    "duration": 1936,
    "start_time": "2022-09-15T16:09:26.251Z"
   },
   {
    "duration": 8,
    "start_time": "2022-09-15T16:09:28.189Z"
   },
   {
    "duration": 15,
    "start_time": "2022-09-15T16:09:28.198Z"
   },
   {
    "duration": 11,
    "start_time": "2022-09-15T16:09:28.214Z"
   },
   {
    "duration": 26,
    "start_time": "2022-09-15T16:09:28.227Z"
   },
   {
    "duration": 8,
    "start_time": "2022-09-15T16:09:28.255Z"
   },
   {
    "duration": 29,
    "start_time": "2022-09-15T16:09:28.265Z"
   },
   {
    "duration": 7,
    "start_time": "2022-09-15T16:09:28.295Z"
   },
   {
    "duration": 19,
    "start_time": "2022-09-15T16:09:28.303Z"
   },
   {
    "duration": 8,
    "start_time": "2022-09-15T16:09:28.324Z"
   },
   {
    "duration": 22,
    "start_time": "2022-09-15T16:09:28.334Z"
   },
   {
    "duration": 42,
    "start_time": "2022-09-15T16:09:28.358Z"
   },
   {
    "duration": 19,
    "start_time": "2022-09-15T16:09:28.402Z"
   },
   {
    "duration": 9,
    "start_time": "2022-09-15T16:09:28.422Z"
   },
   {
    "duration": 26,
    "start_time": "2022-09-15T16:09:28.432Z"
   },
   {
    "duration": 9,
    "start_time": "2022-09-15T16:09:28.459Z"
   },
   {
    "duration": 17,
    "start_time": "2022-09-15T16:09:28.470Z"
   },
   {
    "duration": 25,
    "start_time": "2022-09-15T16:09:28.488Z"
   },
   {
    "duration": 62,
    "start_time": "2022-09-15T16:09:28.514Z"
   },
   {
    "duration": 22,
    "start_time": "2022-09-15T16:09:28.578Z"
   },
   {
    "duration": 17,
    "start_time": "2022-09-15T16:09:28.602Z"
   },
   {
    "duration": 21,
    "start_time": "2022-09-15T16:09:28.621Z"
   },
   {
    "duration": 97,
    "start_time": "2022-09-15T16:09:28.646Z"
   },
   {
    "duration": 5,
    "start_time": "2022-09-15T16:09:28.744Z"
   },
   {
    "duration": 9,
    "start_time": "2022-09-15T16:09:28.751Z"
   },
   {
    "duration": 16,
    "start_time": "2022-09-15T16:09:28.761Z"
   },
   {
    "duration": 31,
    "start_time": "2022-09-15T16:09:28.778Z"
   },
   {
    "duration": 15,
    "start_time": "2022-09-15T16:09:28.810Z"
   },
   {
    "duration": 6,
    "start_time": "2022-09-15T16:09:28.826Z"
   },
   {
    "duration": 14,
    "start_time": "2022-09-15T16:09:28.833Z"
   },
   {
    "duration": 30,
    "start_time": "2022-09-15T16:09:28.848Z"
   },
   {
    "duration": 18,
    "start_time": "2022-09-15T16:09:28.880Z"
   },
   {
    "duration": 15,
    "start_time": "2022-09-15T16:09:28.899Z"
   },
   {
    "duration": 17,
    "start_time": "2022-09-15T16:09:28.915Z"
   },
   {
    "duration": 15,
    "start_time": "2022-09-15T16:09:28.933Z"
   },
   {
    "duration": 8,
    "start_time": "2022-09-15T16:09:28.949Z"
   },
   {
    "duration": 24,
    "start_time": "2022-09-15T16:09:28.958Z"
   },
   {
    "duration": 8,
    "start_time": "2022-09-15T16:09:28.983Z"
   },
   {
    "duration": 19,
    "start_time": "2022-09-15T16:09:28.992Z"
   },
   {
    "duration": 16,
    "start_time": "2022-09-15T16:09:29.013Z"
   },
   {
    "duration": 3,
    "start_time": "2022-09-15T16:09:29.031Z"
   },
   {
    "duration": 8,
    "start_time": "2022-09-15T16:09:29.036Z"
   },
   {
    "duration": 10,
    "start_time": "2022-09-15T16:09:29.046Z"
   },
   {
    "duration": 17,
    "start_time": "2022-09-15T16:09:29.057Z"
   },
   {
    "duration": 20,
    "start_time": "2022-09-15T16:09:29.077Z"
   },
   {
    "duration": 6,
    "start_time": "2022-09-15T16:09:29.098Z"
   },
   {
    "duration": 15,
    "start_time": "2022-09-15T16:09:29.106Z"
   },
   {
    "duration": 90,
    "start_time": "2022-09-15T16:09:29.123Z"
   },
   {
    "duration": 71,
    "start_time": "2022-09-15T16:09:29.215Z"
   },
   {
    "duration": 5,
    "start_time": "2022-09-15T16:09:29.287Z"
   },
   {
    "duration": 5,
    "start_time": "2022-09-15T16:09:29.293Z"
   },
   {
    "duration": 13,
    "start_time": "2022-09-15T16:09:29.299Z"
   },
   {
    "duration": 6,
    "start_time": "2022-09-15T16:09:29.314Z"
   },
   {
    "duration": 28,
    "start_time": "2022-09-15T16:09:29.321Z"
   },
   {
    "duration": 6,
    "start_time": "2022-09-15T16:09:29.376Z"
   },
   {
    "duration": 8,
    "start_time": "2022-09-15T16:09:29.384Z"
   },
   {
    "duration": 3,
    "start_time": "2022-09-15T16:09:29.394Z"
   },
   {
    "duration": 6,
    "start_time": "2022-09-15T16:09:29.399Z"
   },
   {
    "duration": 4,
    "start_time": "2022-09-15T16:09:29.406Z"
   },
   {
    "duration": 97,
    "start_time": "2022-09-15T16:09:29.411Z"
   },
   {
    "duration": 35,
    "start_time": "2022-09-15T16:09:29.510Z"
   },
   {
    "duration": 5,
    "start_time": "2022-09-15T16:09:29.547Z"
   },
   {
    "duration": 4,
    "start_time": "2022-09-15T16:09:29.553Z"
   },
   {
    "duration": 82,
    "start_time": "2022-09-15T16:09:29.577Z"
   },
   {
    "duration": 19,
    "start_time": "2022-09-15T16:09:29.661Z"
   },
   {
    "duration": 6,
    "start_time": "2022-09-15T16:09:29.681Z"
   },
   {
    "duration": 24,
    "start_time": "2022-09-15T16:09:29.688Z"
   },
   {
    "duration": 6,
    "start_time": "2022-09-15T16:09:29.714Z"
   },
   {
    "duration": 132,
    "start_time": "2022-09-15T16:09:29.721Z"
   },
   {
    "duration": 6,
    "start_time": "2022-09-15T16:09:29.855Z"
   },
   {
    "duration": 14,
    "start_time": "2022-09-15T16:09:29.863Z"
   },
   {
    "duration": 4,
    "start_time": "2022-09-15T16:09:29.879Z"
   },
   {
    "duration": 5,
    "start_time": "2022-09-15T16:09:29.885Z"
   },
   {
    "duration": 10,
    "start_time": "2022-09-15T16:09:29.891Z"
   },
   {
    "duration": 4,
    "start_time": "2022-09-15T16:09:29.902Z"
   },
   {
    "duration": 7,
    "start_time": "2022-09-15T16:09:29.908Z"
   },
   {
    "duration": 9,
    "start_time": "2022-09-15T16:09:29.920Z"
   },
   {
    "duration": 4,
    "start_time": "2022-09-15T16:09:29.931Z"
   },
   {
    "duration": 6,
    "start_time": "2022-09-15T16:09:29.936Z"
   },
   {
    "duration": 45,
    "start_time": "2022-09-15T16:09:29.979Z"
   },
   {
    "duration": 59,
    "start_time": "2022-09-15T16:09:30.025Z"
   },
   {
    "duration": 45,
    "start_time": "2022-09-15T16:09:30.086Z"
   },
   {
    "duration": 61,
    "start_time": "2022-09-15T16:09:30.133Z"
   },
   {
    "duration": 52,
    "start_time": "2022-09-15T16:09:30.196Z"
   },
   {
    "duration": 76,
    "start_time": "2022-09-15T16:09:30.250Z"
   },
   {
    "duration": 47,
    "start_time": "2022-09-15T16:12:52.612Z"
   },
   {
    "duration": 33,
    "start_time": "2022-09-15T16:13:40.321Z"
   },
   {
    "duration": 33,
    "start_time": "2022-09-15T16:14:14.439Z"
   },
   {
    "duration": 31,
    "start_time": "2022-09-15T16:14:20.710Z"
   },
   {
    "duration": 49,
    "start_time": "2022-09-15T16:14:37.812Z"
   },
   {
    "duration": 6,
    "start_time": "2022-09-15T16:31:00.129Z"
   },
   {
    "duration": 77,
    "start_time": "2022-09-15T16:31:19.346Z"
   },
   {
    "duration": 84,
    "start_time": "2022-09-15T16:47:34.727Z"
   },
   {
    "duration": 5,
    "start_time": "2022-09-15T16:48:10.536Z"
   },
   {
    "duration": 173,
    "start_time": "2022-09-15T16:51:05.448Z"
   },
   {
    "duration": 77,
    "start_time": "2022-09-15T16:51:18.517Z"
   },
   {
    "duration": 90,
    "start_time": "2022-09-15T16:51:49.034Z"
   },
   {
    "duration": 5,
    "start_time": "2022-09-15T16:52:02.637Z"
   },
   {
    "duration": 4,
    "start_time": "2022-09-15T16:52:18.015Z"
   },
   {
    "duration": 29,
    "start_time": "2022-09-15T16:54:29.579Z"
   },
   {
    "duration": 41,
    "start_time": "2022-09-15T16:55:37.385Z"
   },
   {
    "duration": 33,
    "start_time": "2022-09-15T17:05:36.910Z"
   },
   {
    "duration": 35,
    "start_time": "2022-09-15T17:07:05.960Z"
   },
   {
    "duration": 35,
    "start_time": "2022-09-15T17:29:20.160Z"
   },
   {
    "duration": 40,
    "start_time": "2022-09-15T17:29:46.514Z"
   },
   {
    "duration": 33,
    "start_time": "2022-09-15T17:30:20.495Z"
   },
   {
    "duration": 31,
    "start_time": "2022-09-15T17:37:02.147Z"
   },
   {
    "duration": 9,
    "start_time": "2022-09-15T17:38:13.154Z"
   },
   {
    "duration": 85,
    "start_time": "2022-09-15T17:38:39.099Z"
   },
   {
    "duration": 84,
    "start_time": "2022-09-15T17:38:51.970Z"
   },
   {
    "duration": 75,
    "start_time": "2022-09-15T17:41:23.542Z"
   },
   {
    "duration": 8,
    "start_time": "2022-09-15T17:42:42.160Z"
   },
   {
    "duration": 4,
    "start_time": "2022-09-15T17:42:47.039Z"
   },
   {
    "duration": 4,
    "start_time": "2022-09-15T17:42:49.598Z"
   },
   {
    "duration": 15,
    "start_time": "2022-09-15T17:44:12.300Z"
   },
   {
    "duration": 76,
    "start_time": "2022-09-15T17:44:23.487Z"
   },
   {
    "duration": 37,
    "start_time": "2022-09-15T18:02:23.155Z"
   },
   {
    "duration": 76,
    "start_time": "2022-09-15T18:06:21.368Z"
   },
   {
    "duration": 80,
    "start_time": "2022-09-15T18:19:41.385Z"
   },
   {
    "duration": 3,
    "start_time": "2022-09-15T18:20:47.573Z"
   },
   {
    "duration": 310,
    "start_time": "2022-09-15T18:26:15.440Z"
   },
   {
    "duration": 289,
    "start_time": "2022-09-15T18:26:59.133Z"
   },
   {
    "duration": 8,
    "start_time": "2022-09-15T18:27:27.585Z"
   },
   {
    "duration": 66,
    "start_time": "2022-09-15T18:52:48.408Z"
   },
   {
    "duration": 8,
    "start_time": "2022-09-15T18:59:25.951Z"
   },
   {
    "duration": 134,
    "start_time": "2022-09-15T19:13:59.377Z"
   },
   {
    "duration": 215,
    "start_time": "2022-09-15T19:14:30.263Z"
   },
   {
    "duration": 11,
    "start_time": "2022-09-15T19:16:30.200Z"
   },
   {
    "duration": 3,
    "start_time": "2022-09-15T19:20:50.186Z"
   },
   {
    "duration": 3,
    "start_time": "2022-09-15T19:21:07.234Z"
   },
   {
    "duration": 167,
    "start_time": "2022-09-15T19:27:01.123Z"
   },
   {
    "duration": 20,
    "start_time": "2022-09-15T19:27:31.388Z"
   },
   {
    "duration": 172,
    "start_time": "2022-09-15T19:27:40.109Z"
   },
   {
    "duration": 155,
    "start_time": "2022-09-15T19:40:05.328Z"
   },
   {
    "duration": 140,
    "start_time": "2022-09-15T19:40:55.962Z"
   },
   {
    "duration": 139,
    "start_time": "2022-09-15T19:49:40.905Z"
   },
   {
    "duration": 147,
    "start_time": "2022-09-15T19:53:15.310Z"
   },
   {
    "duration": 8,
    "start_time": "2022-09-15T20:15:49.594Z"
   },
   {
    "duration": 8,
    "start_time": "2022-09-15T20:15:54.922Z"
   },
   {
    "duration": 7,
    "start_time": "2022-09-15T20:16:06.060Z"
   },
   {
    "duration": 8,
    "start_time": "2022-09-15T20:17:30.351Z"
   },
   {
    "duration": 7,
    "start_time": "2022-09-15T20:18:14.061Z"
   },
   {
    "duration": 8,
    "start_time": "2022-09-15T20:20:13.014Z"
   },
   {
    "duration": 9,
    "start_time": "2022-09-15T20:22:30.157Z"
   },
   {
    "duration": 147,
    "start_time": "2022-09-15T20:26:28.268Z"
   },
   {
    "duration": 167,
    "start_time": "2022-09-15T20:26:41.012Z"
   },
   {
    "duration": 376,
    "start_time": "2022-09-15T20:26:47.568Z"
   },
   {
    "duration": 190,
    "start_time": "2022-09-15T20:27:08.958Z"
   },
   {
    "duration": 186,
    "start_time": "2022-09-15T20:27:19.029Z"
   },
   {
    "duration": 196,
    "start_time": "2022-09-15T20:27:49.405Z"
   },
   {
    "duration": 193,
    "start_time": "2022-09-15T20:31:38.338Z"
   },
   {
    "duration": 295,
    "start_time": "2022-09-15T20:32:08.605Z"
   },
   {
    "duration": 180,
    "start_time": "2022-09-15T20:32:18.280Z"
   },
   {
    "duration": 180,
    "start_time": "2022-09-15T20:32:30.686Z"
   },
   {
    "duration": 201,
    "start_time": "2022-09-15T20:34:50.614Z"
   },
   {
    "duration": 189,
    "start_time": "2022-09-15T20:40:32.676Z"
   },
   {
    "duration": 152,
    "start_time": "2022-09-15T20:40:38.261Z"
   },
   {
    "duration": 166,
    "start_time": "2022-09-15T20:40:43.136Z"
   },
   {
    "duration": 276,
    "start_time": "2022-09-15T20:40:48.438Z"
   },
   {
    "duration": 193,
    "start_time": "2022-09-15T20:41:06.594Z"
   },
   {
    "duration": 186,
    "start_time": "2022-09-15T20:41:13.082Z"
   },
   {
    "duration": 199,
    "start_time": "2022-09-15T20:41:20.728Z"
   },
   {
    "duration": 170,
    "start_time": "2022-09-15T20:41:31.362Z"
   },
   {
    "duration": 74,
    "start_time": "2022-09-15T20:46:48.352Z"
   },
   {
    "duration": 141,
    "start_time": "2022-09-15T20:47:09.657Z"
   },
   {
    "duration": 145,
    "start_time": "2022-09-15T20:47:28.624Z"
   },
   {
    "duration": 131,
    "start_time": "2022-09-15T20:50:38.910Z"
   },
   {
    "duration": 268,
    "start_time": "2022-09-15T20:50:47.190Z"
   },
   {
    "duration": 196,
    "start_time": "2022-09-15T20:50:51.070Z"
   },
   {
    "duration": 194,
    "start_time": "2022-09-15T20:50:56.113Z"
   },
   {
    "duration": 127,
    "start_time": "2022-09-15T20:51:01.201Z"
   },
   {
    "duration": 188,
    "start_time": "2022-09-15T20:51:08.728Z"
   },
   {
    "duration": 123,
    "start_time": "2022-09-15T20:53:14.904Z"
   },
   {
    "duration": 116,
    "start_time": "2022-09-15T20:58:36.516Z"
   },
   {
    "duration": 125,
    "start_time": "2022-09-15T20:58:41.974Z"
   },
   {
    "duration": 121,
    "start_time": "2022-09-15T20:58:47.413Z"
   },
   {
    "duration": 116,
    "start_time": "2022-09-15T20:59:05.437Z"
   },
   {
    "duration": 118,
    "start_time": "2022-09-15T21:05:39.941Z"
   },
   {
    "duration": 114,
    "start_time": "2022-09-15T21:05:45.532Z"
   },
   {
    "duration": 121,
    "start_time": "2022-09-15T21:06:05.407Z"
   },
   {
    "duration": 142,
    "start_time": "2022-09-15T21:09:01.192Z"
   },
   {
    "duration": 297,
    "start_time": "2022-09-15T21:09:07.773Z"
   },
   {
    "duration": 130,
    "start_time": "2022-09-15T21:10:09.999Z"
   },
   {
    "duration": 131,
    "start_time": "2022-09-15T21:10:14.951Z"
   },
   {
    "duration": 132,
    "start_time": "2022-09-15T21:10:23.864Z"
   },
   {
    "duration": 102,
    "start_time": "2022-09-15T21:11:27.589Z"
   },
   {
    "duration": 1813,
    "start_time": "2022-09-15T21:17:12.552Z"
   },
   {
    "duration": 104,
    "start_time": "2022-09-15T21:17:44.987Z"
   },
   {
    "duration": 103,
    "start_time": "2022-09-15T21:17:55.712Z"
   },
   {
    "duration": 104,
    "start_time": "2022-09-15T21:18:05.839Z"
   },
   {
    "duration": 167,
    "start_time": "2022-09-15T21:20:05.629Z"
   },
   {
    "duration": 2479,
    "start_time": "2022-09-15T21:20:40.754Z"
   },
   {
    "duration": 2100,
    "start_time": "2022-09-15T21:20:43.574Z"
   },
   {
    "duration": 131,
    "start_time": "2022-09-15T21:20:48.865Z"
   },
   {
    "duration": 150,
    "start_time": "2022-09-15T21:21:05.020Z"
   },
   {
    "duration": 151,
    "start_time": "2022-09-15T21:21:12.511Z"
   },
   {
    "duration": 149,
    "start_time": "2022-09-15T21:21:30.067Z"
   },
   {
    "duration": 120,
    "start_time": "2022-09-15T21:25:00.709Z"
   },
   {
    "duration": 1448,
    "start_time": "2022-09-16T05:09:56.385Z"
   },
   {
    "duration": 36,
    "start_time": "2022-09-16T05:09:57.835Z"
   },
   {
    "duration": 3,
    "start_time": "2022-09-16T05:09:57.873Z"
   },
   {
    "duration": 78,
    "start_time": "2022-09-16T05:09:57.881Z"
   },
   {
    "duration": 13,
    "start_time": "2022-09-16T05:09:57.965Z"
   },
   {
    "duration": 1914,
    "start_time": "2022-09-16T05:09:57.980Z"
   },
   {
    "duration": 9,
    "start_time": "2022-09-16T05:09:59.896Z"
   },
   {
    "duration": 10,
    "start_time": "2022-09-16T05:09:59.906Z"
   },
   {
    "duration": 15,
    "start_time": "2022-09-16T05:09:59.918Z"
   },
   {
    "duration": 7,
    "start_time": "2022-09-16T05:09:59.936Z"
   },
   {
    "duration": 27,
    "start_time": "2022-09-16T05:09:59.944Z"
   },
   {
    "duration": 11,
    "start_time": "2022-09-16T05:09:59.975Z"
   },
   {
    "duration": 8,
    "start_time": "2022-09-16T05:09:59.988Z"
   },
   {
    "duration": 9,
    "start_time": "2022-09-16T05:09:59.997Z"
   },
   {
    "duration": 21,
    "start_time": "2022-09-16T05:10:00.007Z"
   },
   {
    "duration": 32,
    "start_time": "2022-09-16T05:10:00.029Z"
   },
   {
    "duration": 35,
    "start_time": "2022-09-16T05:10:00.062Z"
   },
   {
    "duration": 20,
    "start_time": "2022-09-16T05:10:00.098Z"
   },
   {
    "duration": 4,
    "start_time": "2022-09-16T05:10:00.119Z"
   },
   {
    "duration": 26,
    "start_time": "2022-09-16T05:10:00.124Z"
   },
   {
    "duration": 4,
    "start_time": "2022-09-16T05:10:00.152Z"
   },
   {
    "duration": 14,
    "start_time": "2022-09-16T05:10:00.158Z"
   },
   {
    "duration": 34,
    "start_time": "2022-09-16T05:10:00.173Z"
   },
   {
    "duration": 81,
    "start_time": "2022-09-16T05:10:00.209Z"
   },
   {
    "duration": 5,
    "start_time": "2022-09-16T05:10:00.292Z"
   },
   {
    "duration": 31,
    "start_time": "2022-09-16T05:10:00.299Z"
   },
   {
    "duration": 26,
    "start_time": "2022-09-16T05:10:00.331Z"
   },
   {
    "duration": 125,
    "start_time": "2022-09-16T05:10:00.362Z"
   },
   {
    "duration": 5,
    "start_time": "2022-09-16T05:10:00.489Z"
   },
   {
    "duration": 8,
    "start_time": "2022-09-16T05:10:00.495Z"
   },
   {
    "duration": 26,
    "start_time": "2022-09-16T05:10:00.504Z"
   },
   {
    "duration": 56,
    "start_time": "2022-09-16T05:10:00.531Z"
   },
   {
    "duration": 16,
    "start_time": "2022-09-16T05:10:00.588Z"
   },
   {
    "duration": 22,
    "start_time": "2022-09-16T05:10:00.605Z"
   },
   {
    "duration": 60,
    "start_time": "2022-09-16T05:10:00.628Z"
   },
   {
    "duration": 45,
    "start_time": "2022-09-16T05:10:00.690Z"
   },
   {
    "duration": 30,
    "start_time": "2022-09-16T05:10:00.736Z"
   },
   {
    "duration": 9,
    "start_time": "2022-09-16T05:10:00.768Z"
   },
   {
    "duration": 15,
    "start_time": "2022-09-16T05:10:00.778Z"
   },
   {
    "duration": 16,
    "start_time": "2022-09-16T05:10:00.794Z"
   },
   {
    "duration": 15,
    "start_time": "2022-09-16T05:10:00.811Z"
   },
   {
    "duration": 30,
    "start_time": "2022-09-16T05:10:00.828Z"
   },
   {
    "duration": 11,
    "start_time": "2022-09-16T05:10:00.860Z"
   },
   {
    "duration": 23,
    "start_time": "2022-09-16T05:10:00.873Z"
   },
   {
    "duration": 19,
    "start_time": "2022-09-16T05:10:00.899Z"
   },
   {
    "duration": 8,
    "start_time": "2022-09-16T05:10:00.920Z"
   },
   {
    "duration": 27,
    "start_time": "2022-09-16T05:10:00.930Z"
   },
   {
    "duration": 22,
    "start_time": "2022-09-16T05:10:00.959Z"
   },
   {
    "duration": 36,
    "start_time": "2022-09-16T05:10:00.982Z"
   },
   {
    "duration": 34,
    "start_time": "2022-09-16T05:10:01.020Z"
   },
   {
    "duration": 16,
    "start_time": "2022-09-16T05:10:01.056Z"
   },
   {
    "duration": 37,
    "start_time": "2022-09-16T05:10:01.074Z"
   },
   {
    "duration": 85,
    "start_time": "2022-09-16T05:10:01.113Z"
   },
   {
    "duration": 77,
    "start_time": "2022-09-16T05:10:01.199Z"
   },
   {
    "duration": 6,
    "start_time": "2022-09-16T05:10:01.278Z"
   },
   {
    "duration": 9,
    "start_time": "2022-09-16T05:10:01.285Z"
   },
   {
    "duration": 28,
    "start_time": "2022-09-16T05:10:01.296Z"
   },
   {
    "duration": 24,
    "start_time": "2022-09-16T05:10:01.326Z"
   },
   {
    "duration": 55,
    "start_time": "2022-09-16T05:10:01.352Z"
   },
   {
    "duration": 6,
    "start_time": "2022-09-16T05:10:01.409Z"
   },
   {
    "duration": 20,
    "start_time": "2022-09-16T05:10:01.417Z"
   },
   {
    "duration": 22,
    "start_time": "2022-09-16T05:10:01.438Z"
   },
   {
    "duration": 34,
    "start_time": "2022-09-16T05:10:01.463Z"
   },
   {
    "duration": 18,
    "start_time": "2022-09-16T05:10:01.499Z"
   },
   {
    "duration": 99,
    "start_time": "2022-09-16T05:10:01.519Z"
   },
   {
    "duration": 44,
    "start_time": "2022-09-16T05:10:01.619Z"
   },
   {
    "duration": 6,
    "start_time": "2022-09-16T05:10:01.665Z"
   },
   {
    "duration": 28,
    "start_time": "2022-09-16T05:10:01.675Z"
   },
   {
    "duration": 103,
    "start_time": "2022-09-16T05:10:01.705Z"
   },
   {
    "duration": 6,
    "start_time": "2022-09-16T05:10:01.809Z"
   },
   {
    "duration": 13,
    "start_time": "2022-09-16T05:10:01.816Z"
   },
   {
    "duration": 46,
    "start_time": "2022-09-16T05:10:01.830Z"
   },
   {
    "duration": 40,
    "start_time": "2022-09-16T05:10:01.879Z"
   },
   {
    "duration": 30,
    "start_time": "2022-09-16T05:10:01.921Z"
   },
   {
    "duration": 121,
    "start_time": "2022-09-16T05:10:01.953Z"
   },
   {
    "duration": 42,
    "start_time": "2022-09-16T05:10:02.076Z"
   },
   {
    "duration": 28,
    "start_time": "2022-09-16T05:10:02.121Z"
   },
   {
    "duration": 4,
    "start_time": "2022-09-16T05:10:02.152Z"
   },
   {
    "duration": 117,
    "start_time": "2022-09-16T05:10:02.158Z"
   },
   {
    "duration": 80,
    "start_time": "2022-09-16T05:10:02.278Z"
   },
   {
    "duration": 43,
    "start_time": "2022-09-16T05:10:02.360Z"
   },
   {
    "duration": 75,
    "start_time": "2022-09-16T05:10:02.410Z"
   },
   {
    "duration": 42,
    "start_time": "2022-09-16T05:10:02.486Z"
   },
   {
    "duration": 50,
    "start_time": "2022-09-16T05:10:02.530Z"
   },
   {
    "duration": 41,
    "start_time": "2022-09-16T05:10:02.582Z"
   },
   {
    "duration": 28,
    "start_time": "2022-09-16T05:10:02.625Z"
   },
   {
    "duration": 457,
    "start_time": "2022-09-16T05:10:02.654Z"
   },
   {
    "duration": 9,
    "start_time": "2022-09-16T05:10:03.113Z"
   },
   {
    "duration": 331,
    "start_time": "2022-09-16T05:10:03.123Z"
   },
   {
    "duration": 12,
    "start_time": "2022-09-16T05:10:03.456Z"
   },
   {
    "duration": 228,
    "start_time": "2022-09-16T05:10:03.470Z"
   },
   {
    "duration": 177,
    "start_time": "2022-09-16T05:10:03.699Z"
   },
   {
    "duration": 152,
    "start_time": "2022-09-16T05:10:03.878Z"
   },
   {
    "duration": 146,
    "start_time": "2022-09-16T05:10:04.032Z"
   },
   {
    "duration": 158,
    "start_time": "2022-09-16T05:10:04.179Z"
   },
   {
    "duration": 154,
    "start_time": "2022-09-16T05:10:04.339Z"
   },
   {
    "duration": 206,
    "start_time": "2022-09-16T05:10:04.495Z"
   },
   {
    "duration": 152,
    "start_time": "2022-09-16T05:10:04.703Z"
   },
   {
    "duration": 11,
    "start_time": "2022-09-16T05:10:04.857Z"
   },
   {
    "duration": 218,
    "start_time": "2022-09-16T05:10:04.871Z"
   },
   {
    "duration": 119,
    "start_time": "2022-09-16T05:10:05.091Z"
   },
   {
    "duration": 162,
    "start_time": "2022-09-16T05:11:47.049Z"
   },
   {
    "duration": 165,
    "start_time": "2022-09-16T05:14:39.494Z"
   },
   {
    "duration": 165,
    "start_time": "2022-09-16T05:22:16.130Z"
   },
   {
    "duration": 170,
    "start_time": "2022-09-16T05:22:48.183Z"
   },
   {
    "duration": 166,
    "start_time": "2022-09-16T05:22:51.863Z"
   },
   {
    "duration": 169,
    "start_time": "2022-09-16T05:22:57.766Z"
   },
   {
    "duration": 191,
    "start_time": "2022-09-16T05:23:02.503Z"
   },
   {
    "duration": 308,
    "start_time": "2022-09-16T05:23:07.969Z"
   },
   {
    "duration": 160,
    "start_time": "2022-09-16T05:23:14.179Z"
   },
   {
    "duration": 186,
    "start_time": "2022-09-16T05:23:18.203Z"
   },
   {
    "duration": 173,
    "start_time": "2022-09-16T05:24:38.435Z"
   },
   {
    "duration": 136,
    "start_time": "2022-09-16T05:29:03.382Z"
   },
   {
    "duration": 139,
    "start_time": "2022-09-16T05:29:52.926Z"
   },
   {
    "duration": 167,
    "start_time": "2022-09-16T05:30:07.871Z"
   },
   {
    "duration": 179,
    "start_time": "2022-09-16T05:50:02.878Z"
   },
   {
    "duration": 181,
    "start_time": "2022-09-16T06:00:16.258Z"
   },
   {
    "duration": 134,
    "start_time": "2022-09-16T06:01:17.806Z"
   },
   {
    "duration": 137,
    "start_time": "2022-09-16T06:01:24.904Z"
   },
   {
    "duration": 129,
    "start_time": "2022-09-16T06:01:29.164Z"
   },
   {
    "duration": 251,
    "start_time": "2022-09-16T06:01:40.171Z"
   },
   {
    "duration": 153,
    "start_time": "2022-09-16T06:01:59.449Z"
   },
   {
    "duration": 152,
    "start_time": "2022-09-16T06:02:02.161Z"
   },
   {
    "duration": 4,
    "start_time": "2022-09-16T06:02:21.236Z"
   },
   {
    "duration": 155,
    "start_time": "2022-09-16T06:14:41.249Z"
   },
   {
    "duration": 131,
    "start_time": "2022-09-16T06:15:01.761Z"
   },
   {
    "duration": 153,
    "start_time": "2022-09-16T06:15:10.564Z"
   },
   {
    "duration": 165,
    "start_time": "2022-09-16T06:15:18.298Z"
   },
   {
    "duration": 173,
    "start_time": "2022-09-16T06:17:15.225Z"
   },
   {
    "duration": 128,
    "start_time": "2022-09-16T06:19:39.818Z"
   },
   {
    "duration": 141,
    "start_time": "2022-09-16T06:19:45.500Z"
   },
   {
    "duration": 153,
    "start_time": "2022-09-16T06:39:50.190Z"
   },
   {
    "duration": 160,
    "start_time": "2022-09-16T06:39:54.161Z"
   },
   {
    "duration": 194,
    "start_time": "2022-09-16T06:40:02.335Z"
   },
   {
    "duration": 140,
    "start_time": "2022-09-16T06:40:05.694Z"
   },
   {
    "duration": 148,
    "start_time": "2022-09-16T06:40:07.859Z"
   },
   {
    "duration": 184,
    "start_time": "2022-09-16T06:40:08.742Z"
   },
   {
    "duration": 154,
    "start_time": "2022-09-16T06:40:09.324Z"
   },
   {
    "duration": 140,
    "start_time": "2022-09-16T06:40:16.964Z"
   },
   {
    "duration": 812,
    "start_time": "2022-09-16T06:41:02.697Z"
   },
   {
    "duration": 126,
    "start_time": "2022-09-16T06:41:32.864Z"
   },
   {
    "duration": 163,
    "start_time": "2022-09-16T06:42:47.598Z"
   },
   {
    "duration": 163,
    "start_time": "2022-09-16T06:43:40.509Z"
   },
   {
    "duration": 165,
    "start_time": "2022-09-16T06:43:47.905Z"
   },
   {
    "duration": 265,
    "start_time": "2022-09-16T06:49:47.743Z"
   },
   {
    "duration": 772,
    "start_time": "2022-09-16T06:54:10.985Z"
   },
   {
    "duration": 15,
    "start_time": "2022-09-16T06:54:57.389Z"
   },
   {
    "duration": 8,
    "start_time": "2022-09-16T06:55:19.877Z"
   },
   {
    "duration": 5,
    "start_time": "2022-09-16T06:55:27.305Z"
   },
   {
    "duration": 905,
    "start_time": "2022-09-16T06:56:05.178Z"
   },
   {
    "duration": 33,
    "start_time": "2022-09-16T06:56:06.084Z"
   },
   {
    "duration": 4,
    "start_time": "2022-09-16T06:56:06.119Z"
   },
   {
    "duration": 105,
    "start_time": "2022-09-16T06:56:06.125Z"
   },
   {
    "duration": 33,
    "start_time": "2022-09-16T06:56:06.232Z"
   },
   {
    "duration": 2148,
    "start_time": "2022-09-16T06:56:06.266Z"
   },
   {
    "duration": 9,
    "start_time": "2022-09-16T06:56:08.416Z"
   },
   {
    "duration": 6,
    "start_time": "2022-09-16T06:56:08.426Z"
   },
   {
    "duration": 5,
    "start_time": "2022-09-16T06:56:08.433Z"
   },
   {
    "duration": 8,
    "start_time": "2022-09-16T06:56:08.441Z"
   },
   {
    "duration": 11,
    "start_time": "2022-09-16T06:56:08.450Z"
   },
   {
    "duration": 13,
    "start_time": "2022-09-16T06:56:08.463Z"
   },
   {
    "duration": 9,
    "start_time": "2022-09-16T06:56:08.480Z"
   },
   {
    "duration": 15,
    "start_time": "2022-09-16T06:56:08.491Z"
   },
   {
    "duration": 9,
    "start_time": "2022-09-16T06:56:08.507Z"
   },
   {
    "duration": 16,
    "start_time": "2022-09-16T06:56:08.517Z"
   },
   {
    "duration": 25,
    "start_time": "2022-09-16T06:56:08.535Z"
   },
   {
    "duration": 24,
    "start_time": "2022-09-16T06:56:08.562Z"
   },
   {
    "duration": 7,
    "start_time": "2022-09-16T06:56:08.588Z"
   },
   {
    "duration": 16,
    "start_time": "2022-09-16T06:56:08.596Z"
   },
   {
    "duration": 11,
    "start_time": "2022-09-16T06:56:08.613Z"
   },
   {
    "duration": 12,
    "start_time": "2022-09-16T06:56:08.625Z"
   },
   {
    "duration": 16,
    "start_time": "2022-09-16T06:56:08.639Z"
   },
   {
    "duration": 63,
    "start_time": "2022-09-16T06:56:08.658Z"
   },
   {
    "duration": 6,
    "start_time": "2022-09-16T06:56:08.722Z"
   },
   {
    "duration": 19,
    "start_time": "2022-09-16T06:56:08.729Z"
   },
   {
    "duration": 14,
    "start_time": "2022-09-16T06:56:08.750Z"
   },
   {
    "duration": 125,
    "start_time": "2022-09-16T06:56:08.768Z"
   },
   {
    "duration": 7,
    "start_time": "2022-09-16T06:56:08.895Z"
   },
   {
    "duration": 5,
    "start_time": "2022-09-16T06:56:08.904Z"
   },
   {
    "duration": 25,
    "start_time": "2022-09-16T06:56:08.911Z"
   },
   {
    "duration": 38,
    "start_time": "2022-09-16T06:56:08.938Z"
   },
   {
    "duration": 20,
    "start_time": "2022-09-16T06:56:08.978Z"
   },
   {
    "duration": 4,
    "start_time": "2022-09-16T06:56:08.999Z"
   },
   {
    "duration": 8,
    "start_time": "2022-09-16T06:56:09.005Z"
   },
   {
    "duration": 44,
    "start_time": "2022-09-16T06:56:09.014Z"
   },
   {
    "duration": 23,
    "start_time": "2022-09-16T06:56:09.061Z"
   },
   {
    "duration": 5,
    "start_time": "2022-09-16T06:56:09.086Z"
   },
   {
    "duration": 13,
    "start_time": "2022-09-16T06:56:09.092Z"
   },
   {
    "duration": 4,
    "start_time": "2022-09-16T06:56:09.107Z"
   },
   {
    "duration": 16,
    "start_time": "2022-09-16T06:56:09.113Z"
   },
   {
    "duration": 20,
    "start_time": "2022-09-16T06:56:09.147Z"
   },
   {
    "duration": 12,
    "start_time": "2022-09-16T06:56:09.169Z"
   },
   {
    "duration": 18,
    "start_time": "2022-09-16T06:56:09.182Z"
   },
   {
    "duration": 9,
    "start_time": "2022-09-16T06:56:09.201Z"
   },
   {
    "duration": 2,
    "start_time": "2022-09-16T06:56:09.212Z"
   },
   {
    "duration": 14,
    "start_time": "2022-09-16T06:56:09.216Z"
   },
   {
    "duration": 22,
    "start_time": "2022-09-16T06:56:09.232Z"
   },
   {
    "duration": 38,
    "start_time": "2022-09-16T06:56:09.256Z"
   },
   {
    "duration": 22,
    "start_time": "2022-09-16T06:56:09.296Z"
   },
   {
    "duration": 6,
    "start_time": "2022-09-16T06:56:09.319Z"
   },
   {
    "duration": 17,
    "start_time": "2022-09-16T06:56:09.326Z"
   },
   {
    "duration": 78,
    "start_time": "2022-09-16T06:56:09.347Z"
   },
   {
    "duration": 86,
    "start_time": "2022-09-16T06:56:09.426Z"
   },
   {
    "duration": 6,
    "start_time": "2022-09-16T06:56:09.514Z"
   },
   {
    "duration": 8,
    "start_time": "2022-09-16T06:56:09.521Z"
   },
   {
    "duration": 25,
    "start_time": "2022-09-16T06:56:09.530Z"
   },
   {
    "duration": 14,
    "start_time": "2022-09-16T06:56:09.557Z"
   },
   {
    "duration": 32,
    "start_time": "2022-09-16T06:56:09.573Z"
   },
   {
    "duration": 8,
    "start_time": "2022-09-16T06:56:09.607Z"
   },
   {
    "duration": 10,
    "start_time": "2022-09-16T06:56:09.616Z"
   },
   {
    "duration": 6,
    "start_time": "2022-09-16T06:56:09.647Z"
   },
   {
    "duration": 11,
    "start_time": "2022-09-16T06:56:09.655Z"
   },
   {
    "duration": 17,
    "start_time": "2022-09-16T06:56:09.668Z"
   },
   {
    "duration": 92,
    "start_time": "2022-09-16T06:56:09.687Z"
   },
   {
    "duration": 38,
    "start_time": "2022-09-16T06:56:09.780Z"
   },
   {
    "duration": 5,
    "start_time": "2022-09-16T06:56:09.820Z"
   },
   {
    "duration": 5,
    "start_time": "2022-09-16T06:56:09.847Z"
   },
   {
    "duration": 96,
    "start_time": "2022-09-16T06:56:09.853Z"
   },
   {
    "duration": 6,
    "start_time": "2022-09-16T06:56:09.951Z"
   },
   {
    "duration": 25,
    "start_time": "2022-09-16T06:56:09.959Z"
   },
   {
    "duration": 47,
    "start_time": "2022-09-16T06:56:09.985Z"
   },
   {
    "duration": 43,
    "start_time": "2022-09-16T06:56:10.034Z"
   },
   {
    "duration": 7,
    "start_time": "2022-09-16T06:56:10.079Z"
   },
   {
    "duration": 119,
    "start_time": "2022-09-16T06:56:10.087Z"
   },
   {
    "duration": 49,
    "start_time": "2022-09-16T06:56:10.208Z"
   },
   {
    "duration": 7,
    "start_time": "2022-09-16T06:56:10.258Z"
   },
   {
    "duration": 8,
    "start_time": "2022-09-16T06:56:10.267Z"
   },
   {
    "duration": 109,
    "start_time": "2022-09-16T06:56:10.277Z"
   },
   {
    "duration": 75,
    "start_time": "2022-09-16T06:56:10.388Z"
   },
   {
    "duration": 43,
    "start_time": "2022-09-16T06:56:10.466Z"
   },
   {
    "duration": 74,
    "start_time": "2022-09-16T06:56:10.514Z"
   },
   {
    "duration": 41,
    "start_time": "2022-09-16T06:56:10.589Z"
   },
   {
    "duration": 72,
    "start_time": "2022-09-16T06:56:10.631Z"
   },
   {
    "duration": 55,
    "start_time": "2022-09-16T06:56:10.704Z"
   },
   {
    "duration": 5,
    "start_time": "2022-09-16T06:56:10.761Z"
   },
   {
    "duration": 401,
    "start_time": "2022-09-16T06:56:10.769Z"
   },
   {
    "duration": 7,
    "start_time": "2022-09-16T06:56:11.173Z"
   },
   {
    "duration": 218,
    "start_time": "2022-09-16T06:56:11.181Z"
   },
   {
    "duration": 9,
    "start_time": "2022-09-16T06:56:11.401Z"
   },
   {
    "duration": 231,
    "start_time": "2022-09-16T06:56:11.411Z"
   },
   {
    "duration": 193,
    "start_time": "2022-09-16T06:56:11.648Z"
   },
   {
    "duration": 167,
    "start_time": "2022-09-16T06:56:11.848Z"
   },
   {
    "duration": 148,
    "start_time": "2022-09-16T06:56:12.017Z"
   },
   {
    "duration": 150,
    "start_time": "2022-09-16T06:56:12.167Z"
   },
   {
    "duration": 150,
    "start_time": "2022-09-16T06:56:12.318Z"
   },
   {
    "duration": 216,
    "start_time": "2022-09-16T06:56:12.470Z"
   },
   {
    "duration": 152,
    "start_time": "2022-09-16T06:56:12.687Z"
   },
   {
    "duration": 186,
    "start_time": "2022-09-16T06:56:12.841Z"
   },
   {
    "duration": 238,
    "start_time": "2022-09-16T06:56:13.028Z"
   },
   {
    "duration": 205,
    "start_time": "2022-09-16T06:56:13.268Z"
   },
   {
    "duration": 137,
    "start_time": "2022-09-16T06:56:13.475Z"
   },
   {
    "duration": 165,
    "start_time": "2022-09-16T06:56:13.614Z"
   },
   {
    "duration": 10,
    "start_time": "2022-09-16T06:56:13.782Z"
   },
   {
    "duration": 16,
    "start_time": "2022-09-16T06:56:13.794Z"
   },
   {
    "duration": 120,
    "start_time": "2022-09-16T06:56:13.811Z"
   },
   {
    "duration": 226,
    "start_time": "2022-09-16T07:10:31.747Z"
   },
   {
    "duration": 49,
    "start_time": "2022-09-16T07:14:40.658Z"
   },
   {
    "duration": 311,
    "start_time": "2022-09-16T07:14:55.300Z"
   },
   {
    "duration": 228,
    "start_time": "2022-09-16T07:15:39.419Z"
   },
   {
    "duration": 219,
    "start_time": "2022-09-16T07:16:19.723Z"
   },
   {
    "duration": 287,
    "start_time": "2022-09-16T07:16:26.842Z"
   },
   {
    "duration": 291,
    "start_time": "2022-09-16T07:16:38.762Z"
   },
   {
    "duration": 335,
    "start_time": "2022-09-16T07:16:44.318Z"
   },
   {
    "duration": 319,
    "start_time": "2022-09-16T07:17:02.795Z"
   },
   {
    "duration": 334,
    "start_time": "2022-09-16T07:17:07.535Z"
   },
   {
    "duration": 180,
    "start_time": "2022-09-16T07:17:14.242Z"
   },
   {
    "duration": 216,
    "start_time": "2022-09-16T07:17:21.253Z"
   },
   {
    "duration": 333,
    "start_time": "2022-09-16T07:18:59.774Z"
   },
   {
    "duration": 29,
    "start_time": "2022-09-16T07:42:16.307Z"
   },
   {
    "duration": 7,
    "start_time": "2022-09-16T07:43:04.395Z"
   },
   {
    "duration": 4,
    "start_time": "2022-09-16T07:43:11.939Z"
   },
   {
    "duration": 11,
    "start_time": "2022-09-16T07:46:20.419Z"
   },
   {
    "duration": 1382,
    "start_time": "2022-09-16T07:47:00.414Z"
   },
   {
    "duration": 12,
    "start_time": "2022-09-16T07:47:17.332Z"
   },
   {
    "duration": 3,
    "start_time": "2022-09-16T07:48:21.669Z"
   },
   {
    "duration": 1616,
    "start_time": "2022-09-16T07:48:31.557Z"
   },
   {
    "duration": 157,
    "start_time": "2022-09-16T07:49:28.625Z"
   },
   {
    "duration": 8,
    "start_time": "2022-09-16T07:50:04.957Z"
   },
   {
    "duration": 22,
    "start_time": "2022-09-16T08:04:59.475Z"
   },
   {
    "duration": 3,
    "start_time": "2022-09-16T08:05:57.111Z"
   },
   {
    "duration": 190,
    "start_time": "2022-09-16T08:06:26.236Z"
   },
   {
    "duration": 7,
    "start_time": "2022-09-16T08:06:56.756Z"
   },
   {
    "duration": 30,
    "start_time": "2022-09-16T08:13:56.402Z"
   },
   {
    "duration": 5,
    "start_time": "2022-09-16T08:14:34.325Z"
   },
   {
    "duration": 125,
    "start_time": "2022-09-16T08:14:35.966Z"
   },
   {
    "duration": 6,
    "start_time": "2022-09-16T08:14:59.244Z"
   },
   {
    "duration": 19,
    "start_time": "2022-09-16T08:21:33.710Z"
   },
   {
    "duration": 4,
    "start_time": "2022-09-16T08:21:36.416Z"
   },
   {
    "duration": 143,
    "start_time": "2022-09-16T08:21:38.269Z"
   },
   {
    "duration": 138,
    "start_time": "2022-09-16T08:23:59.594Z"
   },
   {
    "duration": 141,
    "start_time": "2022-09-16T08:24:13.802Z"
   },
   {
    "duration": 133,
    "start_time": "2022-09-16T08:24:18.207Z"
   },
   {
    "duration": 5,
    "start_time": "2022-09-16T08:24:59.492Z"
   },
   {
    "duration": 122,
    "start_time": "2022-09-16T08:25:47.087Z"
   },
   {
    "duration": 21,
    "start_time": "2022-09-16T08:31:49.116Z"
   },
   {
    "duration": 3,
    "start_time": "2022-09-16T08:32:08.001Z"
   },
   {
    "duration": 146,
    "start_time": "2022-09-16T08:32:09.948Z"
   },
   {
    "duration": 284,
    "start_time": "2022-09-16T08:32:51.169Z"
   },
   {
    "duration": 359,
    "start_time": "2022-09-16T08:33:04.926Z"
   },
   {
    "duration": 15,
    "start_time": "2022-09-16T08:41:40.755Z"
   },
   {
    "duration": 134,
    "start_time": "2022-09-16T08:41:56.087Z"
   },
   {
    "duration": 121,
    "start_time": "2022-09-16T08:42:43.461Z"
   },
   {
    "duration": 129,
    "start_time": "2022-09-16T08:43:18.997Z"
   },
   {
    "duration": 6,
    "start_time": "2022-09-16T08:44:46.719Z"
   },
   {
    "duration": 144,
    "start_time": "2022-09-16T08:51:35.373Z"
   },
   {
    "duration": 138,
    "start_time": "2022-09-16T08:53:31.718Z"
   },
   {
    "duration": 188,
    "start_time": "2022-09-16T08:53:35.918Z"
   },
   {
    "duration": 149,
    "start_time": "2022-09-16T08:53:43.102Z"
   },
   {
    "duration": 150,
    "start_time": "2022-09-16T08:54:45.839Z"
   },
   {
    "duration": 159,
    "start_time": "2022-09-16T08:54:51.930Z"
   },
   {
    "duration": 272,
    "start_time": "2022-09-16T08:55:50.057Z"
   },
   {
    "duration": 7,
    "start_time": "2022-09-16T08:57:25.857Z"
   },
   {
    "duration": 11,
    "start_time": "2022-09-16T08:58:39.109Z"
   },
   {
    "duration": 7,
    "start_time": "2022-09-16T08:58:58.542Z"
   },
   {
    "duration": 176,
    "start_time": "2022-09-16T08:59:36.171Z"
   },
   {
    "duration": 21,
    "start_time": "2022-09-16T09:02:10.451Z"
   },
   {
    "duration": 150,
    "start_time": "2022-09-16T09:02:25.903Z"
   },
   {
    "duration": 207,
    "start_time": "2022-09-16T09:03:10.006Z"
   },
   {
    "duration": 190,
    "start_time": "2022-09-16T09:03:30.108Z"
   },
   {
    "duration": 177,
    "start_time": "2022-09-16T09:05:15.960Z"
   },
   {
    "duration": 173,
    "start_time": "2022-09-16T09:07:20.946Z"
   },
   {
    "duration": 245,
    "start_time": "2022-09-16T09:07:46.336Z"
   },
   {
    "duration": 170,
    "start_time": "2022-09-16T09:12:31.974Z"
   },
   {
    "duration": 170,
    "start_time": "2022-09-16T09:12:43.830Z"
   },
   {
    "duration": 83,
    "start_time": "2022-09-16T09:18:01.813Z"
   },
   {
    "duration": 5,
    "start_time": "2022-09-16T09:21:07.505Z"
   },
   {
    "duration": 5,
    "start_time": "2022-09-16T09:24:01.311Z"
   },
   {
    "duration": 6,
    "start_time": "2022-09-16T09:24:27.487Z"
   },
   {
    "duration": 5,
    "start_time": "2022-09-16T09:24:35.034Z"
   },
   {
    "duration": 6,
    "start_time": "2022-09-16T09:24:42.372Z"
   },
   {
    "duration": 5,
    "start_time": "2022-09-16T09:24:54.968Z"
   },
   {
    "duration": 467,
    "start_time": "2022-09-16T09:25:09.268Z"
   },
   {
    "duration": 5,
    "start_time": "2022-09-16T09:25:25.596Z"
   },
   {
    "duration": 4,
    "start_time": "2022-09-16T09:27:58.082Z"
   },
   {
    "duration": 11,
    "start_time": "2022-09-16T09:28:16.646Z"
   },
   {
    "duration": 12,
    "start_time": "2022-09-16T09:28:45.065Z"
   },
   {
    "duration": 17,
    "start_time": "2022-09-16T09:38:23.252Z"
   },
   {
    "duration": 24,
    "start_time": "2022-09-16T09:39:03.299Z"
   },
   {
    "duration": 23,
    "start_time": "2022-09-16T09:39:12.479Z"
   },
   {
    "duration": 8,
    "start_time": "2022-09-16T09:40:05.112Z"
   },
   {
    "duration": 17,
    "start_time": "2022-09-16T09:41:21.772Z"
   },
   {
    "duration": 18,
    "start_time": "2022-09-16T09:42:04.909Z"
   },
   {
    "duration": 1560,
    "start_time": "2022-09-16T09:43:47.477Z"
   },
   {
    "duration": 16,
    "start_time": "2022-09-16T09:44:33.304Z"
   },
   {
    "duration": 7,
    "start_time": "2022-09-16T09:44:36.043Z"
   },
   {
    "duration": 5,
    "start_time": "2022-09-16T09:46:33.612Z"
   },
   {
    "duration": 8,
    "start_time": "2022-09-16T09:46:43.767Z"
   },
   {
    "duration": 19,
    "start_time": "2022-09-16T09:51:29.196Z"
   },
   {
    "duration": 5,
    "start_time": "2022-09-16T09:54:29.139Z"
   },
   {
    "duration": 8,
    "start_time": "2022-09-16T09:57:43.456Z"
   },
   {
    "duration": 14,
    "start_time": "2022-09-16T10:13:43.345Z"
   },
   {
    "duration": 57,
    "start_time": "2022-09-16T10:15:38.266Z"
   },
   {
    "duration": 22,
    "start_time": "2022-09-16T10:29:42.505Z"
   },
   {
    "duration": 23,
    "start_time": "2022-09-16T10:30:34.355Z"
   },
   {
    "duration": 161,
    "start_time": "2022-09-16T10:33:43.040Z"
   },
   {
    "duration": 153,
    "start_time": "2022-09-16T10:33:51.563Z"
   },
   {
    "duration": 20,
    "start_time": "2022-09-16T10:38:14.371Z"
   },
   {
    "duration": 147,
    "start_time": "2022-09-16T10:40:47.064Z"
   },
   {
    "duration": 162,
    "start_time": "2022-09-16T10:40:58.295Z"
   },
   {
    "duration": 10,
    "start_time": "2022-09-16T10:57:57.556Z"
   },
   {
    "duration": 12,
    "start_time": "2022-09-16T11:13:05.864Z"
   },
   {
    "duration": 92,
    "start_time": "2022-09-16T11:59:23.106Z"
   },
   {
    "duration": 845,
    "start_time": "2022-09-16T12:05:39.551Z"
   },
   {
    "duration": 30,
    "start_time": "2022-09-16T12:05:40.397Z"
   },
   {
    "duration": 22,
    "start_time": "2022-09-16T12:05:40.428Z"
   },
   {
    "duration": 85,
    "start_time": "2022-09-16T12:05:40.453Z"
   },
   {
    "duration": 23,
    "start_time": "2022-09-16T12:05:40.546Z"
   },
   {
    "duration": 2135,
    "start_time": "2022-09-16T12:05:40.571Z"
   },
   {
    "duration": 9,
    "start_time": "2022-09-16T12:05:42.708Z"
   },
   {
    "duration": 38,
    "start_time": "2022-09-16T12:05:42.718Z"
   },
   {
    "duration": 20,
    "start_time": "2022-09-16T12:05:42.758Z"
   },
   {
    "duration": 10,
    "start_time": "2022-09-16T12:05:42.781Z"
   },
   {
    "duration": 7,
    "start_time": "2022-09-16T12:05:42.793Z"
   },
   {
    "duration": 10,
    "start_time": "2022-09-16T12:05:42.801Z"
   },
   {
    "duration": 9,
    "start_time": "2022-09-16T12:05:42.813Z"
   },
   {
    "duration": 26,
    "start_time": "2022-09-16T12:05:42.824Z"
   },
   {
    "duration": 18,
    "start_time": "2022-09-16T12:05:42.852Z"
   },
   {
    "duration": 32,
    "start_time": "2022-09-16T12:05:42.873Z"
   },
   {
    "duration": 72,
    "start_time": "2022-09-16T12:05:42.906Z"
   },
   {
    "duration": 19,
    "start_time": "2022-09-16T12:05:42.980Z"
   },
   {
    "duration": 62,
    "start_time": "2022-09-16T12:05:43.001Z"
   },
   {
    "duration": 16,
    "start_time": "2022-09-16T12:05:43.066Z"
   },
   {
    "duration": 5,
    "start_time": "2022-09-16T12:05:43.084Z"
   },
   {
    "duration": 25,
    "start_time": "2022-09-16T12:05:43.090Z"
   },
   {
    "duration": 8,
    "start_time": "2022-09-16T12:05:43.117Z"
   },
   {
    "duration": 58,
    "start_time": "2022-09-16T12:05:43.126Z"
   },
   {
    "duration": 7,
    "start_time": "2022-09-16T12:05:43.185Z"
   },
   {
    "duration": 14,
    "start_time": "2022-09-16T12:05:43.193Z"
   },
   {
    "duration": 12,
    "start_time": "2022-09-16T12:05:43.208Z"
   },
   {
    "duration": 119,
    "start_time": "2022-09-16T12:05:43.223Z"
   },
   {
    "duration": 7,
    "start_time": "2022-09-16T12:05:43.346Z"
   },
   {
    "duration": 42,
    "start_time": "2022-09-16T12:05:43.354Z"
   },
   {
    "duration": 18,
    "start_time": "2022-09-16T12:05:43.399Z"
   },
   {
    "duration": 30,
    "start_time": "2022-09-16T12:05:43.420Z"
   },
   {
    "duration": 25,
    "start_time": "2022-09-16T12:05:43.454Z"
   },
   {
    "duration": 7,
    "start_time": "2022-09-16T12:05:43.481Z"
   },
   {
    "duration": 14,
    "start_time": "2022-09-16T12:05:43.490Z"
   },
   {
    "duration": 23,
    "start_time": "2022-09-16T12:05:43.506Z"
   },
   {
    "duration": 37,
    "start_time": "2022-09-16T12:05:43.531Z"
   },
   {
    "duration": 6,
    "start_time": "2022-09-16T12:05:43.570Z"
   },
   {
    "duration": 13,
    "start_time": "2022-09-16T12:05:43.577Z"
   },
   {
    "duration": 28,
    "start_time": "2022-09-16T12:05:43.592Z"
   },
   {
    "duration": 47,
    "start_time": "2022-09-16T12:05:43.621Z"
   },
   {
    "duration": 23,
    "start_time": "2022-09-16T12:05:43.669Z"
   },
   {
    "duration": 7,
    "start_time": "2022-09-16T12:05:43.693Z"
   },
   {
    "duration": 14,
    "start_time": "2022-09-16T12:05:43.702Z"
   },
   {
    "duration": 7,
    "start_time": "2022-09-16T12:05:43.717Z"
   },
   {
    "duration": 4,
    "start_time": "2022-09-16T12:05:43.725Z"
   },
   {
    "duration": 9,
    "start_time": "2022-09-16T12:05:43.730Z"
   },
   {
    "duration": 19,
    "start_time": "2022-09-16T12:05:43.740Z"
   },
   {
    "duration": 23,
    "start_time": "2022-09-16T12:05:43.761Z"
   },
   {
    "duration": 23,
    "start_time": "2022-09-16T12:05:43.786Z"
   },
   {
    "duration": 7,
    "start_time": "2022-09-16T12:05:43.811Z"
   },
   {
    "duration": 33,
    "start_time": "2022-09-16T12:05:43.820Z"
   },
   {
    "duration": 67,
    "start_time": "2022-09-16T12:05:43.861Z"
   },
   {
    "duration": 97,
    "start_time": "2022-09-16T12:05:43.930Z"
   },
   {
    "duration": 19,
    "start_time": "2022-09-16T12:05:44.029Z"
   },
   {
    "duration": 9,
    "start_time": "2022-09-16T12:05:44.051Z"
   },
   {
    "duration": 21,
    "start_time": "2022-09-16T12:05:44.062Z"
   },
   {
    "duration": 8,
    "start_time": "2022-09-16T12:05:44.085Z"
   },
   {
    "duration": 33,
    "start_time": "2022-09-16T12:05:44.095Z"
   },
   {
    "duration": 17,
    "start_time": "2022-09-16T12:05:44.130Z"
   },
   {
    "duration": 8,
    "start_time": "2022-09-16T12:05:44.150Z"
   },
   {
    "duration": 26,
    "start_time": "2022-09-16T12:05:44.160Z"
   },
   {
    "duration": 14,
    "start_time": "2022-09-16T12:05:44.188Z"
   },
   {
    "duration": 97,
    "start_time": "2022-09-16T12:05:44.203Z"
   },
   {
    "duration": 46,
    "start_time": "2022-09-16T12:05:44.301Z"
   },
   {
    "duration": 12,
    "start_time": "2022-09-16T12:05:44.349Z"
   },
   {
    "duration": 17,
    "start_time": "2022-09-16T12:05:44.363Z"
   },
   {
    "duration": 100,
    "start_time": "2022-09-16T12:05:44.382Z"
   },
   {
    "duration": 6,
    "start_time": "2022-09-16T12:05:44.484Z"
   },
   {
    "duration": 17,
    "start_time": "2022-09-16T12:05:44.491Z"
   },
   {
    "duration": 35,
    "start_time": "2022-09-16T12:05:44.509Z"
   },
   {
    "duration": 11,
    "start_time": "2022-09-16T12:05:44.548Z"
   },
   {
    "duration": 123,
    "start_time": "2022-09-16T12:05:44.562Z"
   },
   {
    "duration": 39,
    "start_time": "2022-09-16T12:05:44.686Z"
   },
   {
    "duration": 27,
    "start_time": "2022-09-16T12:05:44.727Z"
   },
   {
    "duration": 74,
    "start_time": "2022-09-16T12:05:44.757Z"
   },
   {
    "duration": 56,
    "start_time": "2022-09-16T12:05:44.833Z"
   },
   {
    "duration": 57,
    "start_time": "2022-09-16T12:05:44.891Z"
   },
   {
    "duration": 71,
    "start_time": "2022-09-16T12:05:44.950Z"
   },
   {
    "duration": 61,
    "start_time": "2022-09-16T12:05:45.023Z"
   },
   {
    "duration": 38,
    "start_time": "2022-09-16T12:05:45.086Z"
   },
   {
    "duration": 5,
    "start_time": "2022-09-16T12:05:45.148Z"
   },
   {
    "duration": 434,
    "start_time": "2022-09-16T12:05:45.157Z"
   },
   {
    "duration": 7,
    "start_time": "2022-09-16T12:05:45.593Z"
   },
   {
    "duration": 215,
    "start_time": "2022-09-16T12:05:45.601Z"
   },
   {
    "duration": 12,
    "start_time": "2022-09-16T12:05:45.817Z"
   },
   {
    "duration": 264,
    "start_time": "2022-09-16T12:05:45.832Z"
   },
   {
    "duration": 198,
    "start_time": "2022-09-16T12:05:46.098Z"
   },
   {
    "duration": 246,
    "start_time": "2022-09-16T12:05:46.298Z"
   },
   {
    "duration": 168,
    "start_time": "2022-09-16T12:05:46.546Z"
   },
   {
    "duration": 163,
    "start_time": "2022-09-16T12:05:46.715Z"
   },
   {
    "duration": 156,
    "start_time": "2022-09-16T12:05:46.880Z"
   },
   {
    "duration": 159,
    "start_time": "2022-09-16T12:05:47.037Z"
   },
   {
    "duration": 253,
    "start_time": "2022-09-16T12:05:47.198Z"
   },
   {
    "duration": 188,
    "start_time": "2022-09-16T12:05:47.453Z"
   },
   {
    "duration": 207,
    "start_time": "2022-09-16T12:05:47.642Z"
   },
   {
    "duration": 258,
    "start_time": "2022-09-16T12:05:47.851Z"
   },
   {
    "duration": 165,
    "start_time": "2022-09-16T12:05:48.111Z"
   },
   {
    "duration": 157,
    "start_time": "2022-09-16T12:05:48.279Z"
   },
   {
    "duration": 14,
    "start_time": "2022-09-16T12:05:48.438Z"
   },
   {
    "duration": 309,
    "start_time": "2022-09-16T12:05:48.458Z"
   },
   {
    "duration": 29,
    "start_time": "2022-09-16T12:05:48.769Z"
   },
   {
    "duration": 2,
    "start_time": "2022-09-16T12:05:48.800Z"
   },
   {
    "duration": 181,
    "start_time": "2022-09-16T12:05:48.804Z"
   },
   {
    "duration": 5,
    "start_time": "2022-09-16T12:05:48.987Z"
   },
   {
    "duration": 29,
    "start_time": "2022-09-16T12:05:48.993Z"
   },
   {
    "duration": 2,
    "start_time": "2022-09-16T12:05:49.024Z"
   },
   {
    "duration": 203,
    "start_time": "2022-09-16T12:05:49.028Z"
   },
   {
    "duration": 4,
    "start_time": "2022-09-16T12:05:49.233Z"
   },
   {
    "duration": 37,
    "start_time": "2022-09-16T12:05:49.239Z"
   },
   {
    "duration": 4,
    "start_time": "2022-09-16T12:05:49.278Z"
   },
   {
    "duration": 246,
    "start_time": "2022-09-16T12:05:49.284Z"
   },
   {
    "duration": 17,
    "start_time": "2022-09-16T12:05:49.532Z"
   },
   {
    "duration": 28,
    "start_time": "2022-09-16T12:05:49.551Z"
   },
   {
    "duration": 3,
    "start_time": "2022-09-16T12:05:49.581Z"
   },
   {
    "duration": 148,
    "start_time": "2022-09-16T12:05:49.586Z"
   },
   {
    "duration": 14,
    "start_time": "2022-09-16T12:05:49.736Z"
   },
   {
    "duration": 122,
    "start_time": "2022-09-16T12:05:49.751Z"
   },
   {
    "duration": 3,
    "start_time": "2022-09-16T12:05:49.875Z"
   },
   {
    "duration": 143,
    "start_time": "2022-09-16T12:05:49.879Z"
   },
   {
    "duration": 175,
    "start_time": "2022-09-16T12:05:50.024Z"
   },
   {
    "duration": 183,
    "start_time": "2022-09-16T12:05:50.201Z"
   },
   {
    "duration": 153,
    "start_time": "2022-09-16T12:05:50.387Z"
   },
   {
    "duration": 13,
    "start_time": "2022-09-16T12:05:50.547Z"
   },
   {
    "duration": 32,
    "start_time": "2022-09-16T12:05:50.561Z"
   },
   {
    "duration": 37,
    "start_time": "2022-09-16T12:05:50.594Z"
   },
   {
    "duration": 5,
    "start_time": "2022-09-16T12:05:50.632Z"
   },
   {
    "duration": 50,
    "start_time": "2022-09-16T12:05:50.638Z"
   },
   {
    "duration": 153,
    "start_time": "2022-09-16T12:05:50.689Z"
   },
   {
    "duration": 44,
    "start_time": "2022-09-17T08:44:38.572Z"
   },
   {
    "duration": 967,
    "start_time": "2022-09-17T08:45:08.357Z"
   },
   {
    "duration": 8,
    "start_time": "2022-09-17T08:45:20.714Z"
   },
   {
    "duration": 4,
    "start_time": "2022-09-17T08:45:34.372Z"
   },
   {
    "duration": 14,
    "start_time": "2022-09-17T08:45:38.466Z"
   },
   {
    "duration": 24,
    "start_time": "2022-09-17T08:45:41.005Z"
   },
   {
    "duration": 20,
    "start_time": "2022-09-17T08:45:45.662Z"
   },
   {
    "duration": 5,
    "start_time": "2022-09-17T08:45:48.128Z"
   },
   {
    "duration": 5,
    "start_time": "2022-09-17T08:45:55.228Z"
   },
   {
    "duration": 6,
    "start_time": "2022-09-17T08:46:05.021Z"
   },
   {
    "duration": 5,
    "start_time": "2022-09-17T08:46:06.804Z"
   },
   {
    "duration": 4,
    "start_time": "2022-09-17T08:46:14.115Z"
   },
   {
    "duration": 8,
    "start_time": "2022-09-17T08:46:16.206Z"
   },
   {
    "duration": 24,
    "start_time": "2022-09-17T08:46:17.954Z"
   },
   {
    "duration": 18,
    "start_time": "2022-09-17T08:46:26.909Z"
   },
   {
    "duration": 5,
    "start_time": "2022-09-17T08:46:28.846Z"
   },
   {
    "duration": 22,
    "start_time": "2022-09-17T08:46:36.106Z"
   },
   {
    "duration": 15,
    "start_time": "2022-09-17T08:46:38.524Z"
   },
   {
    "duration": 10,
    "start_time": "2022-09-17T08:46:46.902Z"
   },
   {
    "duration": 4,
    "start_time": "2022-09-17T08:46:52.020Z"
   },
   {
    "duration": 14,
    "start_time": "2022-09-17T08:46:57.109Z"
   },
   {
    "duration": 5,
    "start_time": "2022-09-17T08:47:13.835Z"
   },
   {
    "duration": 64,
    "start_time": "2022-09-17T08:49:01.375Z"
   },
   {
    "duration": 5,
    "start_time": "2022-09-17T08:49:05.556Z"
   },
   {
    "duration": 4,
    "start_time": "2022-09-17T08:50:37.768Z"
   },
   {
    "duration": 3,
    "start_time": "2022-09-17T08:51:56.722Z"
   },
   {
    "duration": 8,
    "start_time": "2022-09-17T08:52:02.354Z"
   },
   {
    "duration": 7,
    "start_time": "2022-09-17T08:52:04.841Z"
   },
   {
    "duration": 51,
    "start_time": "2022-09-17T08:52:08.066Z"
   },
   {
    "duration": 7,
    "start_time": "2022-09-17T08:52:14.009Z"
   },
   {
    "duration": 7,
    "start_time": "2022-09-17T08:52:23.601Z"
   },
   {
    "duration": 6,
    "start_time": "2022-09-17T08:52:27.707Z"
   },
   {
    "duration": 7,
    "start_time": "2022-09-17T08:52:32.324Z"
   },
   {
    "duration": 6,
    "start_time": "2022-09-17T08:52:37.810Z"
   },
   {
    "duration": 5,
    "start_time": "2022-09-17T08:52:42.672Z"
   },
   {
    "duration": 9,
    "start_time": "2022-09-17T08:59:14.820Z"
   },
   {
    "duration": 6,
    "start_time": "2022-09-17T09:03:03.330Z"
   },
   {
    "duration": 92,
    "start_time": "2022-09-17T09:03:15.513Z"
   },
   {
    "duration": 7,
    "start_time": "2022-09-17T09:03:20.942Z"
   },
   {
    "duration": 636,
    "start_time": "2022-09-17T09:07:50.454Z"
   },
   {
    "duration": 8,
    "start_time": "2022-09-17T09:07:59.869Z"
   },
   {
    "duration": 53,
    "start_time": "2022-09-17T09:08:35.209Z"
   },
   {
    "duration": 9,
    "start_time": "2022-09-17T09:09:01.807Z"
   },
   {
    "duration": 56,
    "start_time": "2022-09-17T09:09:04.624Z"
   },
   {
    "duration": 5,
    "start_time": "2022-09-17T09:09:24.714Z"
   },
   {
    "duration": 66,
    "start_time": "2022-09-17T09:09:40.756Z"
   },
   {
    "duration": 48,
    "start_time": "2022-09-17T09:10:23.019Z"
   },
   {
    "duration": 11,
    "start_time": "2022-09-17T09:10:39.518Z"
   },
   {
    "duration": 44,
    "start_time": "2022-09-17T09:11:03.949Z"
   },
   {
    "duration": 8,
    "start_time": "2022-09-17T09:11:10.822Z"
   },
   {
    "duration": 2,
    "start_time": "2022-09-17T09:29:04.832Z"
   },
   {
    "duration": 72,
    "start_time": "2022-09-17T09:30:25.857Z"
   },
   {
    "duration": 52,
    "start_time": "2022-09-17T09:30:45.639Z"
   },
   {
    "duration": 664,
    "start_time": "2022-09-17T09:30:49.440Z"
   },
   {
    "duration": 79,
    "start_time": "2022-09-17T09:30:53.201Z"
   },
   {
    "duration": 28,
    "start_time": "2022-09-17T09:38:09.539Z"
   },
   {
    "duration": 13,
    "start_time": "2022-09-17T09:41:52.126Z"
   },
   {
    "duration": 9,
    "start_time": "2022-09-17T09:41:59.557Z"
   },
   {
    "duration": 34,
    "start_time": "2022-09-17T09:42:38.089Z"
   },
   {
    "duration": 3,
    "start_time": "2022-09-17T09:42:42.835Z"
   },
   {
    "duration": 4,
    "start_time": "2022-09-17T09:42:46.785Z"
   },
   {
    "duration": 13,
    "start_time": "2022-09-17T09:42:50.860Z"
   },
   {
    "duration": 99,
    "start_time": "2022-09-17T09:43:52.385Z"
   },
   {
    "duration": 30,
    "start_time": "2022-09-17T09:44:12.354Z"
   },
   {
    "duration": 40,
    "start_time": "2022-09-17T09:44:18.744Z"
   },
   {
    "duration": 9,
    "start_time": "2022-09-17T09:44:35.191Z"
   },
   {
    "duration": 8,
    "start_time": "2022-09-17T09:44:39.887Z"
   },
   {
    "duration": 3,
    "start_time": "2022-09-17T09:44:55.610Z"
   },
   {
    "duration": 13,
    "start_time": "2022-09-17T09:45:01.508Z"
   },
   {
    "duration": 663,
    "start_time": "2022-09-17T09:48:47.768Z"
   },
   {
    "duration": 29,
    "start_time": "2022-09-17T09:48:48.433Z"
   },
   {
    "duration": 4,
    "start_time": "2022-09-17T09:48:48.463Z"
   },
   {
    "duration": 82,
    "start_time": "2022-09-17T09:48:48.468Z"
   },
   {
    "duration": 11,
    "start_time": "2022-09-17T09:48:48.552Z"
   },
   {
    "duration": 1823,
    "start_time": "2022-09-17T09:48:48.564Z"
   },
   {
    "duration": 9,
    "start_time": "2022-09-17T09:48:50.390Z"
   },
   {
    "duration": 4,
    "start_time": "2022-09-17T09:48:50.401Z"
   },
   {
    "duration": 6,
    "start_time": "2022-09-17T09:48:50.407Z"
   },
   {
    "duration": 7,
    "start_time": "2022-09-17T09:48:50.415Z"
   },
   {
    "duration": 6,
    "start_time": "2022-09-17T09:48:50.424Z"
   },
   {
    "duration": 13,
    "start_time": "2022-09-17T09:48:50.431Z"
   },
   {
    "duration": 6,
    "start_time": "2022-09-17T09:48:50.446Z"
   },
   {
    "duration": 5,
    "start_time": "2022-09-17T09:48:50.453Z"
   },
   {
    "duration": 7,
    "start_time": "2022-09-17T09:48:50.460Z"
   },
   {
    "duration": 17,
    "start_time": "2022-09-17T09:48:50.469Z"
   },
   {
    "duration": 32,
    "start_time": "2022-09-17T09:48:50.487Z"
   },
   {
    "duration": 19,
    "start_time": "2022-09-17T09:48:50.521Z"
   },
   {
    "duration": 4,
    "start_time": "2022-09-17T09:48:50.541Z"
   },
   {
    "duration": 11,
    "start_time": "2022-09-17T09:48:50.546Z"
   },
   {
    "duration": 3,
    "start_time": "2022-09-17T09:48:50.558Z"
   },
   {
    "duration": 5,
    "start_time": "2022-09-17T09:48:50.563Z"
   },
   {
    "duration": 5,
    "start_time": "2022-09-17T09:48:50.569Z"
   },
   {
    "duration": 70,
    "start_time": "2022-09-17T09:48:50.575Z"
   },
   {
    "duration": 5,
    "start_time": "2022-09-17T09:48:50.647Z"
   },
   {
    "duration": 7,
    "start_time": "2022-09-17T09:48:50.653Z"
   },
   {
    "duration": 9,
    "start_time": "2022-09-17T09:48:50.662Z"
   },
   {
    "duration": 120,
    "start_time": "2022-09-17T09:48:50.675Z"
   },
   {
    "duration": 12,
    "start_time": "2022-09-17T09:48:50.796Z"
   },
   {
    "duration": 5,
    "start_time": "2022-09-17T09:48:50.810Z"
   },
   {
    "duration": 11,
    "start_time": "2022-09-17T09:48:50.817Z"
   },
   {
    "duration": 23,
    "start_time": "2022-09-17T09:48:50.829Z"
   },
   {
    "duration": 2,
    "start_time": "2022-09-17T09:48:50.853Z"
   },
   {
    "duration": 20,
    "start_time": "2022-09-17T09:48:50.857Z"
   },
   {
    "duration": 5,
    "start_time": "2022-09-17T09:48:50.878Z"
   },
   {
    "duration": 5,
    "start_time": "2022-09-17T09:48:50.905Z"
   },
   {
    "duration": 21,
    "start_time": "2022-09-17T09:48:50.912Z"
   },
   {
    "duration": 15,
    "start_time": "2022-09-17T09:48:50.934Z"
   },
   {
    "duration": 4,
    "start_time": "2022-09-17T09:48:50.951Z"
   },
   {
    "duration": 9,
    "start_time": "2022-09-17T09:48:50.956Z"
   },
   {
    "duration": 74,
    "start_time": "2022-09-17T09:48:50.966Z"
   },
   {
    "duration": 4,
    "start_time": "2022-09-17T09:48:51.042Z"
   },
   {
    "duration": 9,
    "start_time": "2022-09-17T09:48:51.047Z"
   },
   {
    "duration": 9,
    "start_time": "2022-09-17T09:48:51.057Z"
   },
   {
    "duration": 3,
    "start_time": "2022-09-17T09:48:51.068Z"
   },
   {
    "duration": 36,
    "start_time": "2022-09-17T09:48:51.072Z"
   },
   {
    "duration": 6,
    "start_time": "2022-09-17T09:48:51.110Z"
   },
   {
    "duration": 2,
    "start_time": "2022-09-17T09:48:51.118Z"
   },
   {
    "duration": 10,
    "start_time": "2022-09-17T09:48:51.122Z"
   },
   {
    "duration": 8,
    "start_time": "2022-09-17T09:48:51.133Z"
   },
   {
    "duration": 15,
    "start_time": "2022-09-17T09:48:51.143Z"
   },
   {
    "duration": 3,
    "start_time": "2022-09-17T09:48:51.159Z"
   },
   {
    "duration": 49,
    "start_time": "2022-09-17T09:48:51.164Z"
   },
   {
    "duration": 6,
    "start_time": "2022-09-17T09:48:51.214Z"
   },
   {
    "duration": 15,
    "start_time": "2022-09-17T09:48:51.221Z"
   },
   {
    "duration": 70,
    "start_time": "2022-09-17T09:48:51.237Z"
   },
   {
    "duration": 3,
    "start_time": "2022-09-17T09:48:51.309Z"
   },
   {
    "duration": 65,
    "start_time": "2022-09-17T09:48:51.314Z"
   },
   {
    "duration": 27,
    "start_time": "2022-09-17T09:48:51.381Z"
   },
   {
    "duration": 4,
    "start_time": "2022-09-17T09:48:51.410Z"
   },
   {
    "duration": 22,
    "start_time": "2022-09-17T09:48:51.415Z"
   },
   {
    "duration": 9,
    "start_time": "2022-09-17T09:48:51.438Z"
   },
   {
    "duration": 29,
    "start_time": "2022-09-17T09:48:51.448Z"
   },
   {
    "duration": 5,
    "start_time": "2022-09-17T09:48:51.479Z"
   },
   {
    "duration": 20,
    "start_time": "2022-09-17T09:48:51.486Z"
   },
   {
    "duration": 5,
    "start_time": "2022-09-17T09:48:51.508Z"
   },
   {
    "duration": 5,
    "start_time": "2022-09-17T09:48:51.515Z"
   },
   {
    "duration": 100,
    "start_time": "2022-09-17T09:48:51.522Z"
   },
   {
    "duration": 35,
    "start_time": "2022-09-17T09:48:51.624Z"
   },
   {
    "duration": 6,
    "start_time": "2022-09-17T09:48:51.661Z"
   },
   {
    "duration": 5,
    "start_time": "2022-09-17T09:48:51.668Z"
   },
   {
    "duration": 104,
    "start_time": "2022-09-17T09:48:51.674Z"
   },
   {
    "duration": 6,
    "start_time": "2022-09-17T09:48:51.780Z"
   },
   {
    "duration": 21,
    "start_time": "2022-09-17T09:48:51.787Z"
   },
   {
    "duration": 45,
    "start_time": "2022-09-17T09:48:51.809Z"
   },
   {
    "duration": 7,
    "start_time": "2022-09-17T09:48:51.855Z"
   },
   {
    "duration": 102,
    "start_time": "2022-09-17T09:48:51.863Z"
   },
   {
    "duration": 46,
    "start_time": "2022-09-17T09:48:51.966Z"
   },
   {
    "duration": 5,
    "start_time": "2022-09-17T09:48:52.014Z"
   },
   {
    "duration": 66,
    "start_time": "2022-09-17T09:48:52.021Z"
   },
   {
    "duration": 4,
    "start_time": "2022-09-17T09:48:52.088Z"
   },
   {
    "duration": 6,
    "start_time": "2022-09-17T09:48:52.109Z"
   },
   {
    "duration": 38,
    "start_time": "2022-09-17T09:48:52.117Z"
   },
   {
    "duration": 52,
    "start_time": "2022-09-17T09:48:52.156Z"
   },
   {
    "duration": 39,
    "start_time": "2022-09-17T09:48:52.210Z"
   },
   {
    "duration": 34,
    "start_time": "2022-09-17T09:48:52.251Z"
   },
   {
    "duration": 55,
    "start_time": "2022-09-17T09:48:52.287Z"
   },
   {
    "duration": 3,
    "start_time": "2022-09-17T09:48:52.343Z"
   },
   {
    "duration": 369,
    "start_time": "2022-09-17T09:48:52.347Z"
   },
   {
    "duration": 7,
    "start_time": "2022-09-17T09:48:52.718Z"
   },
   {
    "duration": 211,
    "start_time": "2022-09-17T09:48:52.726Z"
   },
   {
    "duration": 8,
    "start_time": "2022-09-17T09:48:52.938Z"
   },
   {
    "duration": 207,
    "start_time": "2022-09-17T09:48:52.947Z"
   },
   {
    "duration": 149,
    "start_time": "2022-09-17T09:48:53.156Z"
   },
   {
    "duration": 139,
    "start_time": "2022-09-17T09:48:53.307Z"
   },
   {
    "duration": 120,
    "start_time": "2022-09-17T09:48:53.447Z"
   },
   {
    "duration": 131,
    "start_time": "2022-09-17T09:48:53.568Z"
   },
   {
    "duration": 139,
    "start_time": "2022-09-17T09:48:53.700Z"
   },
   {
    "duration": 112,
    "start_time": "2022-09-17T09:48:53.840Z"
   },
   {
    "duration": 211,
    "start_time": "2022-09-17T09:48:53.953Z"
   },
   {
    "duration": 161,
    "start_time": "2022-09-17T09:48:54.165Z"
   },
   {
    "duration": 164,
    "start_time": "2022-09-17T09:48:54.328Z"
   },
   {
    "duration": 164,
    "start_time": "2022-09-17T09:48:54.493Z"
   },
   {
    "duration": 129,
    "start_time": "2022-09-17T09:48:54.659Z"
   },
   {
    "duration": 137,
    "start_time": "2022-09-17T09:48:54.790Z"
   },
   {
    "duration": 8,
    "start_time": "2022-09-17T09:48:54.928Z"
   },
   {
    "duration": 206,
    "start_time": "2022-09-17T09:48:54.938Z"
   },
   {
    "duration": 24,
    "start_time": "2022-09-17T09:48:55.146Z"
   },
   {
    "duration": 2,
    "start_time": "2022-09-17T09:48:55.172Z"
   },
   {
    "duration": 146,
    "start_time": "2022-09-17T09:48:55.175Z"
   },
   {
    "duration": 5,
    "start_time": "2022-09-17T09:48:55.322Z"
   },
   {
    "duration": 23,
    "start_time": "2022-09-17T09:48:55.328Z"
   },
   {
    "duration": 2,
    "start_time": "2022-09-17T09:48:55.353Z"
   },
   {
    "duration": 150,
    "start_time": "2022-09-17T09:48:55.357Z"
   },
   {
    "duration": 5,
    "start_time": "2022-09-17T09:48:55.509Z"
   },
   {
    "duration": 24,
    "start_time": "2022-09-17T09:48:55.515Z"
   },
   {
    "duration": 3,
    "start_time": "2022-09-17T09:48:55.540Z"
   },
   {
    "duration": 222,
    "start_time": "2022-09-17T09:48:55.544Z"
   },
   {
    "duration": 5,
    "start_time": "2022-09-17T09:48:55.768Z"
   },
   {
    "duration": 31,
    "start_time": "2022-09-17T09:48:55.774Z"
   },
   {
    "duration": 2,
    "start_time": "2022-09-17T09:48:55.807Z"
   },
   {
    "duration": 134,
    "start_time": "2022-09-17T09:48:55.810Z"
   },
   {
    "duration": 5,
    "start_time": "2022-09-17T09:48:55.946Z"
   },
   {
    "duration": 21,
    "start_time": "2022-09-17T09:48:55.953Z"
   },
   {
    "duration": 3,
    "start_time": "2022-09-17T09:48:55.976Z"
   },
   {
    "duration": 137,
    "start_time": "2022-09-17T09:48:55.980Z"
   },
   {
    "duration": 154,
    "start_time": "2022-09-17T09:48:56.118Z"
   },
   {
    "duration": 153,
    "start_time": "2022-09-17T09:48:56.274Z"
   },
   {
    "duration": 137,
    "start_time": "2022-09-17T09:48:56.429Z"
   },
   {
    "duration": 10,
    "start_time": "2022-09-17T09:48:56.568Z"
   },
   {
    "duration": 8,
    "start_time": "2022-09-17T09:48:56.579Z"
   },
   {
    "duration": 35,
    "start_time": "2022-09-17T09:48:56.589Z"
   },
   {
    "duration": 5,
    "start_time": "2022-09-17T09:48:56.625Z"
   },
   {
    "duration": 19,
    "start_time": "2022-09-17T09:48:56.632Z"
   },
   {
    "duration": 161,
    "start_time": "2022-09-17T09:48:56.652Z"
   },
   {
    "duration": 180,
    "start_time": "2022-09-17T10:01:11.064Z"
   },
   {
    "duration": 199,
    "start_time": "2022-09-17T10:01:17.827Z"
   },
   {
    "duration": 184,
    "start_time": "2022-09-17T10:01:23.722Z"
   },
   {
    "duration": 287,
    "start_time": "2022-09-17T10:01:35.086Z"
   },
   {
    "duration": 124,
    "start_time": "2022-09-17T10:09:19.985Z"
   }
  ],
  "kernelspec": {
   "display_name": "Python 3 (ipykernel)",
   "language": "python",
   "name": "python3"
  },
  "language_info": {
   "codemirror_mode": {
    "name": "ipython",
    "version": 3
   },
   "file_extension": ".py",
   "mimetype": "text/x-python",
   "name": "python",
   "nbconvert_exporter": "python",
   "pygments_lexer": "ipython3",
   "version": "3.9.13"
  },
  "toc": {
   "base_numbering": 1,
   "nav_menu": {},
   "number_sections": true,
   "sideBar": true,
   "skip_h1_title": true,
   "title_cell": "Table of Contents",
   "title_sidebar": "Contents",
   "toc_cell": false,
   "toc_position": {},
   "toc_section_display": true,
   "toc_window_display": true
  }
 },
 "nbformat": 4,
 "nbformat_minor": 2
}
