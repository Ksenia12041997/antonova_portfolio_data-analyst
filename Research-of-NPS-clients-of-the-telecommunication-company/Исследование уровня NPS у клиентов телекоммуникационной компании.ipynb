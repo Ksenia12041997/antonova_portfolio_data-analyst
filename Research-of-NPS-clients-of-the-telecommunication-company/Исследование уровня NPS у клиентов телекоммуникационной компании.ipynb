{
 "cells": [
  {
   "cell_type": "markdown",
   "id": "1453cce6",
   "metadata": {},
   "source": [
    "# Исследование уровня NPS у клиентов телекоммуникационной компании"
   ]
  },
  {
   "cell_type": "markdown",
   "id": "bff9a1ed",
   "metadata": {},
   "source": [
    "Заказчик исследования — большая телекоммуникационная компания, которая оказывает услуги на территории всего СНГ.\n",
    "\n",
    "Цель - определить текущий уровень потребительской лояльности (NPS) среди клиентов из России и оформить результаты в виде дашборда Tableau."
   ]
  },
  {
   "cell_type": "markdown",
   "id": "3d31706d",
   "metadata": {},
   "source": [
    "### Подключение к базе"
   ]
  },
  {
   "cell_type": "code",
   "execution_count": 1,
   "id": "b6b5521d",
   "metadata": {
    "tags": [
     "aa81075c-062f-4de0-b5fe-14c73dc7468e"
    ]
   },
   "outputs": [],
   "source": [
    "import pandas as pd\n",
    "import numpy as np\n",
    "\n",
    "from sqlalchemy import create_engine"
   ]
  },
  {
   "cell_type": "code",
   "execution_count": 2,
   "id": "82c91778",
   "metadata": {},
   "outputs": [],
   "source": [
    "path_to_db = '/datasets/telecomm_csi.db'"
   ]
  },
  {
   "cell_type": "code",
   "execution_count": 3,
   "id": "7a242a52",
   "metadata": {},
   "outputs": [],
   "source": [
    "query = \"\"\"\n",
    "SELECT * FROM location;\n",
    "\"\"\""
   ]
  },
  {
   "cell_type": "code",
   "execution_count": 4,
   "id": "683e8334",
   "metadata": {
    "scrolled": true
   },
   "outputs": [
    {
     "data": {
      "text/html": [
       "<div>\n",
       "<style scoped>\n",
       "    .dataframe tbody tr th:only-of-type {\n",
       "        vertical-align: middle;\n",
       "    }\n",
       "\n",
       "    .dataframe tbody tr th {\n",
       "        vertical-align: top;\n",
       "    }\n",
       "\n",
       "    .dataframe thead th {\n",
       "        text-align: right;\n",
       "    }\n",
       "</style>\n",
       "<table border=\"1\" class=\"dataframe\">\n",
       "  <thead>\n",
       "    <tr style=\"text-align: right;\">\n",
       "      <th></th>\n",
       "      <th>location_id</th>\n",
       "      <th>city</th>\n",
       "      <th>country</th>\n",
       "    </tr>\n",
       "  </thead>\n",
       "  <tbody>\n",
       "    <tr>\n",
       "      <th>0</th>\n",
       "      <td>1</td>\n",
       "      <td>Архангельск</td>\n",
       "      <td>Россия</td>\n",
       "    </tr>\n",
       "    <tr>\n",
       "      <th>1</th>\n",
       "      <td>2</td>\n",
       "      <td>Астрахань</td>\n",
       "      <td>Россия</td>\n",
       "    </tr>\n",
       "    <tr>\n",
       "      <th>2</th>\n",
       "      <td>3</td>\n",
       "      <td>Балашиха</td>\n",
       "      <td>Россия</td>\n",
       "    </tr>\n",
       "  </tbody>\n",
       "</table>\n",
       "</div>"
      ],
      "text/plain": [
       "   location_id         city country\n",
       "0            1  Архангельск  Россия\n",
       "1            2    Астрахань  Россия\n",
       "2            3     Балашиха  Россия"
      ]
     },
     "execution_count": 4,
     "metadata": {},
     "output_type": "execute_result"
    }
   ],
   "source": [
    "location = pd.read_sql(query, engine)\n",
    "location.head(3)"
   ]
  },
  {
   "cell_type": "code",
   "execution_count": 5,
   "id": "3336a25b",
   "metadata": {},
   "outputs": [],
   "source": [
    "location.to_csv('location.csv', index=False)"
   ]
  },
  {
   "cell_type": "code",
   "execution_count": 6,
   "id": "04633399",
   "metadata": {},
   "outputs": [],
   "source": [
    "location = pd.read_csv('location.csv')"
   ]
  },
  {
   "cell_type": "markdown",
   "id": "99694e23",
   "metadata": {},
   "source": [
    "Проверили, что данные выгружаются правильно. Приступаем к выгрузке нужных данных для анализа."
   ]
  },
  {
   "cell_type": "markdown",
   "id": "0044ef8b",
   "metadata": {},
   "source": [
    "### Выгрузка данных"
   ]
  },
  {
   "cell_type": "code",
   "execution_count": 7,
   "id": "6730a845",
   "metadata": {},
   "outputs": [],
   "source": [
    "query = '''\n",
    "        SELECT\n",
    "        u.user_id,\n",
    "        u.lt_day,\n",
    "        CASE\n",
    "            WHEN u.lt_day < 365 THEN 'новый'\n",
    "            ELSE 'опытный'\n",
    "        END AS 'is_new',\n",
    "        u.age,\n",
    "        CASE \n",
    "            WHEN u.gender_segment = 1 THEN 'женщина'\n",
    "            WHEN u.gender_segment = 0 THEN 'мужчина'\n",
    "        END AS 'gender_segment',\n",
    "        u.os_name,\n",
    "        u.cpe_type_name,\n",
    "        l.country,\n",
    "        l.city,\n",
    "        SUBSTR(ag.title, 3) as age_segment,\n",
    "        SUBSTR(tr.title, 3) as traffic_segment,\n",
    "        SUBSTR(lf.title, 3) as lifetime_segment,\n",
    "        u.nps_score,\n",
    "        CASE \n",
    "            WHEN u.nps_score <= 6 THEN 'критик'\n",
    "            WHEN u.nps_score >= 9 THEN 'сторонник'\n",
    "            ELSE 'нейтрал'\n",
    "        END AS nps_group\n",
    "        FROM user AS u\n",
    "        JOIN location AS l ON u.location_id = l.location_id\n",
    "        JOIN age_segment AS ag ON u.age_gr_id = ag.age_gr_id\n",
    "        JOIN traffic_segment AS tr ON u.tr_gr_id = tr.tr_gr_id\n",
    "        JOIN lifetime_segment AS lf ON u.lt_gr_id = lf.lt_gr_id\n",
    "        WHERE age NOT NULL\n",
    "        \n",
    "        '''"
   ]
  },
  {
   "cell_type": "code",
   "execution_count": 8,
   "id": "cafe40a9",
   "metadata": {},
   "outputs": [],
   "source": [
    "data = pd.read_sql(query, engine) "
   ]
  },
  {
   "cell_type": "code",
   "execution_count": 9,
   "id": "5f21f378",
   "metadata": {},
   "outputs": [
    {
     "data": {
      "text/html": [
       "<div>\n",
       "<style scoped>\n",
       "    .dataframe tbody tr th:only-of-type {\n",
       "        vertical-align: middle;\n",
       "    }\n",
       "\n",
       "    .dataframe tbody tr th {\n",
       "        vertical-align: top;\n",
       "    }\n",
       "\n",
       "    .dataframe thead th {\n",
       "        text-align: right;\n",
       "    }\n",
       "</style>\n",
       "<table border=\"1\" class=\"dataframe\">\n",
       "  <thead>\n",
       "    <tr style=\"text-align: right;\">\n",
       "      <th></th>\n",
       "      <th>user_id</th>\n",
       "      <th>lt_day</th>\n",
       "      <th>is_new</th>\n",
       "      <th>age</th>\n",
       "      <th>gender_segment</th>\n",
       "      <th>os_name</th>\n",
       "      <th>cpe_type_name</th>\n",
       "      <th>country</th>\n",
       "      <th>city</th>\n",
       "      <th>age_segment</th>\n",
       "      <th>traffic_segment</th>\n",
       "      <th>lifetime_segment</th>\n",
       "      <th>nps_score</th>\n",
       "      <th>nps_group</th>\n",
       "    </tr>\n",
       "  </thead>\n",
       "  <tbody>\n",
       "    <tr>\n",
       "      <th>0</th>\n",
       "      <td>A001A2</td>\n",
       "      <td>2320</td>\n",
       "      <td>опытный</td>\n",
       "      <td>45.0</td>\n",
       "      <td>женщина</td>\n",
       "      <td>ANDROID</td>\n",
       "      <td>SMARTPHONE</td>\n",
       "      <td>Россия</td>\n",
       "      <td>Уфа</td>\n",
       "      <td>45-54</td>\n",
       "      <td>1-5</td>\n",
       "      <td>36+</td>\n",
       "      <td>10</td>\n",
       "      <td>сторонник</td>\n",
       "    </tr>\n",
       "    <tr>\n",
       "      <th>1</th>\n",
       "      <td>A001WF</td>\n",
       "      <td>2344</td>\n",
       "      <td>опытный</td>\n",
       "      <td>53.0</td>\n",
       "      <td>мужчина</td>\n",
       "      <td>ANDROID</td>\n",
       "      <td>SMARTPHONE</td>\n",
       "      <td>Россия</td>\n",
       "      <td>Киров</td>\n",
       "      <td>45-54</td>\n",
       "      <td>1-5</td>\n",
       "      <td>36+</td>\n",
       "      <td>10</td>\n",
       "      <td>сторонник</td>\n",
       "    </tr>\n",
       "    <tr>\n",
       "      <th>2</th>\n",
       "      <td>A003Q7</td>\n",
       "      <td>467</td>\n",
       "      <td>опытный</td>\n",
       "      <td>57.0</td>\n",
       "      <td>мужчина</td>\n",
       "      <td>ANDROID</td>\n",
       "      <td>SMARTPHONE</td>\n",
       "      <td>Россия</td>\n",
       "      <td>Москва</td>\n",
       "      <td>55-64</td>\n",
       "      <td>20-25</td>\n",
       "      <td>13-24</td>\n",
       "      <td>10</td>\n",
       "      <td>сторонник</td>\n",
       "    </tr>\n",
       "    <tr>\n",
       "      <th>3</th>\n",
       "      <td>A004TB</td>\n",
       "      <td>4190</td>\n",
       "      <td>опытный</td>\n",
       "      <td>44.0</td>\n",
       "      <td>женщина</td>\n",
       "      <td>IOS</td>\n",
       "      <td>SMARTPHONE</td>\n",
       "      <td>Россия</td>\n",
       "      <td>РостовнаДону</td>\n",
       "      <td>35-44</td>\n",
       "      <td>0.1-1</td>\n",
       "      <td>36+</td>\n",
       "      <td>10</td>\n",
       "      <td>сторонник</td>\n",
       "    </tr>\n",
       "    <tr>\n",
       "      <th>4</th>\n",
       "      <td>A004XT</td>\n",
       "      <td>1163</td>\n",
       "      <td>опытный</td>\n",
       "      <td>24.0</td>\n",
       "      <td>мужчина</td>\n",
       "      <td>ANDROID</td>\n",
       "      <td>SMARTPHONE</td>\n",
       "      <td>Россия</td>\n",
       "      <td>Рязань</td>\n",
       "      <td>16-24</td>\n",
       "      <td>5-10</td>\n",
       "      <td>36+</td>\n",
       "      <td>10</td>\n",
       "      <td>сторонник</td>\n",
       "    </tr>\n",
       "  </tbody>\n",
       "</table>\n",
       "</div>"
      ],
      "text/plain": [
       "  user_id  lt_day   is_new   age gender_segment  os_name cpe_type_name  \\\n",
       "0  A001A2    2320  опытный  45.0        женщина  ANDROID    SMARTPHONE   \n",
       "1  A001WF    2344  опытный  53.0        мужчина  ANDROID    SMARTPHONE   \n",
       "2  A003Q7     467  опытный  57.0        мужчина  ANDROID    SMARTPHONE   \n",
       "3  A004TB    4190  опытный  44.0        женщина      IOS    SMARTPHONE   \n",
       "4  A004XT    1163  опытный  24.0        мужчина  ANDROID    SMARTPHONE   \n",
       "\n",
       "  country          city age_segment traffic_segment lifetime_segment  \\\n",
       "0  Россия           Уфа       45-54             1-5              36+   \n",
       "1  Россия         Киров       45-54             1-5              36+   \n",
       "2  Россия        Москва       55-64           20-25            13-24   \n",
       "3  Россия  РостовнаДону       35-44           0.1-1              36+   \n",
       "4  Россия        Рязань       16-24            5-10              36+   \n",
       "\n",
       "   nps_score  nps_group  \n",
       "0         10  сторонник  \n",
       "1         10  сторонник  \n",
       "2         10  сторонник  \n",
       "3         10  сторонник  \n",
       "4         10  сторонник  "
      ]
     },
     "execution_count": 9,
     "metadata": {},
     "output_type": "execute_result"
    }
   ],
   "source": [
    "data.head()"
   ]
  },
  {
   "cell_type": "code",
   "execution_count": 10,
   "id": "1cfbe968",
   "metadata": {},
   "outputs": [],
   "source": [
    "data.to_csv('data.csv', index=False)"
   ]
  },
  {
   "cell_type": "code",
   "execution_count": 11,
   "id": "e9d41c88",
   "metadata": {},
   "outputs": [],
   "source": [
    "data = pd.read_csv('data.csv')"
   ]
  },
  {
   "cell_type": "markdown",
   "id": "83a48c9d",
   "metadata": {},
   "source": [
    "### Ссылка на дашборд на сайте Tableau Public:"
   ]
  },
  {
   "cell_type": "markdown",
   "id": "3f8b4944",
   "metadata": {},
   "source": [
    "https://public.tableau.com/app/profile/ksenia.antonova/viz/Telecomm_NPS/Dashboard1"
   ]
  },
  {
   "cell_type": "markdown",
   "id": "e4efb65c",
   "metadata": {},
   "source": [
    "### Ссылка на файл с презентацией:"
   ]
  },
  {
   "cell_type": "markdown",
   "id": "d7625375",
   "metadata": {},
   "source": [
    "https://docs.google.com/presentation/d/1XmiRD6JKuA1PMU0sPC51mProz1qPcxNx38fp8GrbK5c/edit#slide=id.p1"
   ]
  }
 ],
 "metadata": {
  "ExecuteTimeLog": [
   {
    "duration": 752,
    "start_time": "2021-10-03T17:40:52.731Z"
   },
   {
    "duration": 20,
    "start_time": "2021-10-03T17:40:53.486Z"
   },
   {
    "duration": 4,
    "start_time": "2021-10-03T17:41:04.638Z"
   },
   {
    "duration": 461,
    "start_time": "2021-10-03T17:41:04.912Z"
   },
   {
    "duration": 284,
    "start_time": "2021-10-03T17:41:05.376Z"
   },
   {
    "duration": 574,
    "start_time": "2021-10-06T07:55:05.029Z"
   },
   {
    "duration": 6,
    "start_time": "2021-10-06T07:55:05.605Z"
   },
   {
    "duration": 3,
    "start_time": "2021-10-06T07:55:14.685Z"
   },
   {
    "duration": 406,
    "start_time": "2021-10-06T07:55:15.522Z"
   },
   {
    "duration": 67,
    "start_time": "2021-10-06T07:55:15.929Z"
   },
   {
    "duration": 840,
    "start_time": "2021-10-07T07:54:04.647Z"
   },
   {
    "duration": 10,
    "start_time": "2021-10-07T07:54:05.490Z"
   },
   {
    "duration": 4,
    "start_time": "2021-10-07T07:54:05.544Z"
   },
   {
    "duration": 391,
    "start_time": "2021-10-07T07:54:06.237Z"
   },
   {
    "duration": 293,
    "start_time": "2021-10-07T07:54:06.654Z"
   },
   {
    "duration": 529,
    "start_time": "2022-12-20T16:23:43.726Z"
   },
   {
    "duration": 20,
    "start_time": "2022-12-20T16:41:06.391Z"
   },
   {
    "duration": 3,
    "start_time": "2022-12-20T16:51:02.972Z"
   },
   {
    "duration": 808,
    "start_time": "2022-12-20T16:51:05.254Z"
   },
   {
    "duration": 590,
    "start_time": "2022-12-20T16:51:28.292Z"
   },
   {
    "duration": 121,
    "start_time": "2022-12-20T16:51:35.821Z"
   },
   {
    "duration": 113,
    "start_time": "2022-12-20T16:57:42.613Z"
   },
   {
    "duration": 3,
    "start_time": "2022-12-20T16:57:49.947Z"
   },
   {
    "duration": 3,
    "start_time": "2022-12-20T16:57:52.765Z"
   },
   {
    "duration": 2,
    "start_time": "2022-12-20T16:57:55.099Z"
   },
   {
    "duration": 572,
    "start_time": "2022-12-20T16:57:56.802Z"
   },
   {
    "duration": 48,
    "start_time": "2022-12-20T16:57:59.728Z"
   },
   {
    "duration": 45,
    "start_time": "2022-12-20T16:58:01.606Z"
   },
   {
    "duration": 127,
    "start_time": "2022-12-20T16:58:55.769Z"
   },
   {
    "duration": 35,
    "start_time": "2022-12-20T16:58:59.135Z"
   },
   {
    "duration": 494,
    "start_time": "2022-12-22T20:35:01.866Z"
   },
   {
    "duration": 12,
    "start_time": "2022-12-22T20:35:04.632Z"
   },
   {
    "duration": 2,
    "start_time": "2022-12-22T20:35:06.587Z"
   },
   {
    "duration": 640,
    "start_time": "2022-12-22T20:35:08.297Z"
   },
   {
    "duration": 537,
    "start_time": "2022-12-25T11:48:14.762Z"
   },
   {
    "duration": 10,
    "start_time": "2022-12-25T11:48:16.998Z"
   },
   {
    "duration": 4,
    "start_time": "2022-12-25T11:48:26.739Z"
   },
   {
    "duration": 5894,
    "start_time": "2022-12-25T11:48:32.486Z"
   },
   {
    "duration": 27,
    "start_time": "2022-12-25T11:48:38.382Z"
   },
   {
    "duration": 4439,
    "start_time": "2022-12-25T12:05:43.116Z"
   },
   {
    "duration": 1365,
    "start_time": "2022-12-25T12:05:51.373Z"
   },
   {
    "duration": 491,
    "start_time": "2022-12-26T06:48:59.152Z"
   },
   {
    "duration": 29,
    "start_time": "2022-12-26T06:48:59.645Z"
   },
   {
    "duration": 3,
    "start_time": "2022-12-26T06:48:59.675Z"
   },
   {
    "duration": 548,
    "start_time": "2022-12-26T06:48:59.679Z"
   },
   {
    "duration": 59,
    "start_time": "2022-12-26T06:49:00.228Z"
   },
   {
    "duration": 38,
    "start_time": "2022-12-26T06:49:00.289Z"
   },
   {
    "duration": 3,
    "start_time": "2022-12-26T06:49:00.329Z"
   },
   {
    "duration": 5740,
    "start_time": "2022-12-26T06:49:00.334Z"
   },
   {
    "duration": 13,
    "start_time": "2022-12-26T06:49:06.076Z"
   },
   {
    "duration": 4111,
    "start_time": "2022-12-26T06:49:06.090Z"
   },
   {
    "duration": 2286,
    "start_time": "2022-12-26T06:49:10.203Z"
   },
   {
    "duration": 157,
    "start_time": "2022-12-26T06:49:25.368Z"
   }
  ],
  "kernelspec": {
   "display_name": "Python 3 (ipykernel)",
   "language": "python",
   "name": "python3"
  },
  "language_info": {
   "codemirror_mode": {
    "name": "ipython",
    "version": 3
   },
   "file_extension": ".py",
   "mimetype": "text/x-python",
   "name": "python",
   "nbconvert_exporter": "python",
   "pygments_lexer": "ipython3",
   "version": "3.9.13"
  },
  "toc": {
   "base_numbering": 1,
   "nav_menu": {},
   "number_sections": true,
   "sideBar": true,
   "skip_h1_title": true,
   "title_cell": "Table of Contents",
   "title_sidebar": "Contents",
   "toc_cell": false,
   "toc_position": {},
   "toc_section_display": true,
   "toc_window_display": false
  }
 },
 "nbformat": 4,
 "nbformat_minor": 5
}
