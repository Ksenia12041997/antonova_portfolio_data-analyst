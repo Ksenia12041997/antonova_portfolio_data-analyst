{
 "cells": [
  {
   "cell_type": "markdown",
   "metadata": {},
   "source": [
    "# SQL. Анализ БД StackOverflow"
   ]
  },
  {
   "cell_type": "markdown",
   "metadata": {},
   "source": [
    "## Описание проекта"
   ]
  },
  {
   "cell_type": "markdown",
   "metadata": {},
   "source": [
    "В проекте работа ведется с БД StackOverflow — сервис вопросов и ответов о программировании. \n",
    "\n",
    "Данные ограничены постами за 2008 год, но в таблицах может быть информация о более поздних оценках, которые эти посты получили."
   ]
  },
  {
   "cell_type": "code",
   "execution_count": 1,
   "metadata": {
    "scrolled": true
   },
   "outputs": [
    {
     "name": "stdout",
     "output_type": "stream",
     "text": [
      "Requirement already satisfied: kaleido in c:\\users\\kseniya\\anaconda3\\lib\\site-packages (0.2.1)\n",
      "Note: you may need to restart the kernel to use updated packages.\n"
     ]
    }
   ],
   "source": [
    "pip install kaleido"
   ]
  },
  {
   "cell_type": "code",
   "execution_count": 2,
   "metadata": {
    "id": "nlZBlglMDWKe"
   },
   "outputs": [],
   "source": [
    "import pandas as pd\n",
    "import matplotlib.pyplot as plt\n",
    "import seaborn as sns\n",
    "import plotly.express as px\n",
    "from sqlalchemy import create_engine \n",
    "import plotly.io as pio\n",
    "pio.renderers.default = \"svg\"\n",
    "svg_renderer = pio.renderers[\"svg\"]\n",
    "svg_renderer.scale = 1.2"
   ]
  },
  {
   "cell_type": "markdown",
   "metadata": {
    "id": "gnBMXkDBDWKm"
   },
   "source": [
    "### Задание 1"
   ]
  },
  {
   "cell_type": "markdown",
   "metadata": {
    "id": "vHsfOrrNDWKn"
   },
   "source": [
    "Выведите общую сумму просмотров постов за каждый месяц 2008 года. Если данных за какой-либо месяц в базе нет, такой месяц можно пропустить. Результат отсортируйте по убыванию общего количества просмотров."
   ]
  },
  {
   "cell_type": "markdown",
   "metadata": {
    "id": "N5rTgGNmDWKn"
   },
   "source": [
    "| month_date  | total_views |\n",
    "| ------------- | ------------- |\n",
    "| 2008-09-01  | 452928568  |\n",
    "| 2008-10-01  | 365400138  |\n",
    "| ...         | ... |"
   ]
  },
  {
   "cell_type": "code",
   "execution_count": 7,
   "metadata": {
    "id": "eWvykcXTDWKo"
   },
   "outputs": [],
   "source": [
    "# напишите запрос\n",
    "query = '''\n",
    "SELECT DATE_TRUNC('month', creation_date)::date AS month_date,\n",
    "       SUM(views_count) AS total_views\n",
    "FROM stackoverflow.posts\n",
    "GROUP BY DATE_TRUNC('month', creation_date)\n",
    "HAVING SUM(views_count) > 0\n",
    "ORDER BY SUM(views_count) DESC;\n",
    "'''\n",
    "\n",
    "# выполните запрос\n",
    "sum_total_views = pd.read_sql_query(query, con = engine) "
   ]
  },
  {
   "cell_type": "code",
   "execution_count": 8,
   "metadata": {
    "scrolled": true
   },
   "outputs": [
    {
     "name": "stdout",
     "output_type": "stream",
     "text": [
      "   month_date  total_views\n",
      "0  2008-09-01    452928568\n",
      "1  2008-10-01    365400138\n",
      "2  2008-11-01    221759651\n",
      "3  2008-12-01    197792841\n",
      "4  2008-08-01    131367083\n",
      "5  2008-07-01       669895\n"
     ]
    }
   ],
   "source": [
    "print(sum_total_views)"
   ]
  },
  {
   "cell_type": "markdown",
   "metadata": {
    "id": "luxSj17oDWKq"
   },
   "source": [
    "**Вывод**\n",
    "\n",
    "Больше всего просмотров постов наблюдается в сентябре и октябре, что может быть связано с началом учебного года в университетах и колледжах, поэтому студенты начинают просматривать посты. А меньше всего просмотров - в июле, что может быть связано с отпусками у работающих людей и с каникулами в университетах."
   ]
  },
  {
   "cell_type": "markdown",
   "metadata": {
    "id": "FziIXkn5DWKr"
   },
   "source": [
    "### Задание 2"
   ]
  },
  {
   "cell_type": "markdown",
   "metadata": {
    "id": "fTGESZvYDWKr"
   },
   "source": [
    "Выведите имена самых активных пользователей, которые в первый месяц после регистрации (включая день регистрации) дали больше 100 ответов. Вопросы, которые задавали пользователи, не учитывайте. Для каждого имени пользователя выведите количество уникальных значений `user_id`. Отсортируйте результат по полю с именами в лексикографическом порядке."
   ]
  },
  {
   "cell_type": "markdown",
   "metadata": {
    "id": "W5-tv6Y3DWKs"
   },
   "source": [
    "| display_name | count |\n",
    "| ------------ | ----- |\n",
    "| 1800 INFORMATION | 1 |\n",
    "| Adam Bellaire | 1 |\n",
    "| Adam Davis | 1 |\n",
    "| ... | ... |"
   ]
  },
  {
   "cell_type": "code",
   "execution_count": 9,
   "metadata": {
    "id": "fIO-y-YjDWKt"
   },
   "outputs": [],
   "source": [
    "# напишите запрос\n",
    "query = '''\n",
    "SELECT u.display_name,\n",
    "       COUNT(DISTINCT p.user_id)\n",
    "FROM stackoverflow.users AS u\n",
    "JOIN stackoverflow.posts AS p ON u.id = p.user_id\n",
    "JOIN stackoverflow.post_types AS pt ON p.post_type_id = pt.id\n",
    "WHERE DATE_TRUNC('day', p.creation_date) >= DATE_TRUNC('day', u.creation_date)\n",
    "  AND DATE_TRUNC('day', p.creation_date) <= DATE_TRUNC('day', u.creation_date) + INTERVAL '1 month'\n",
    "  AND pt.type LIKE 'Answer'\n",
    "GROUP BY u.display_name\n",
    "HAVING COUNT(*) > 100\n",
    "ORDER BY u.display_name;\n",
    "'''\n",
    "\n",
    "# выполните запрос\n",
    "count_answers = pd.read_sql_query(query, con = engine) "
   ]
  },
  {
   "cell_type": "code",
   "execution_count": 10,
   "metadata": {},
   "outputs": [
    {
     "name": "stdout",
     "output_type": "stream",
     "text": [
      "                 display_name  count\n",
      "0            1800 INFORMATION      1\n",
      "1               Adam Bellaire      1\n",
      "2                  Adam Davis      1\n",
      "3                   Adam Liss      1\n",
      "4                        Alan      8\n",
      "5                       Amy B      1\n",
      "6               Ben Hoffstein      1\n",
      "7                       Brian     15\n",
      "8                   Cade Roux      1\n",
      "9                      CesarB      1\n",
      "10                      Chris     29\n",
      "11  ConcernedOfTunbridgeWells      1\n",
      "12                      Craig     10\n",
      "13                 Dale Ragan      1\n",
      "14                        Dan     21\n",
      "15               Eric Z Beard      1\n",
      "16                       Espo      1\n",
      "17                    FlySwat      1\n",
      "18               Franci Penov      1\n",
      "19                    GEOCHET      1\n",
      "20                 GateKiller      1\n",
      "21                       Greg     12\n",
      "22               Gulzar Nazim      1\n",
      "23              Ilya Kochetov      1\n",
      "24               James Curran      1\n"
     ]
    }
   ],
   "source": [
    "print(count_answers.head(25))"
   ]
  },
  {
   "cell_type": "markdown",
   "metadata": {
    "id": "CEIGGQ6ODWKy"
   },
   "source": [
    "**Вывод**\n",
    "\n",
    "Самые активные пользователи, которые давали больше всего ответов, имеют сокращенные имена: Chris, Dan, Greg. Возможно, что эти сокращенные имена относятся к разным полным именам (например, Кристофер или Кристиан). Поэтому данные сокращения довольно распространены и могут относиться к нескольким пользователям."
   ]
  },
  {
   "cell_type": "markdown",
   "metadata": {
    "id": "JhM2xXj5DWKu"
   },
   "source": [
    "### Задание 3"
   ]
  },
  {
   "cell_type": "markdown",
   "metadata": {
    "id": "IS6xPqyyDWKu"
   },
   "source": [
    "Выведите количество постов за 2008 год по месяцам. Отберите посты от пользователей, которые зарегистрировались в сентябре 2008 года и сделали хотя бы один пост в декабре того же года. Отсортируйте таблицу по значению месяца по убыванию."
   ]
  },
  {
   "cell_type": "markdown",
   "metadata": {
    "id": "WmjhjV2xDWKv"
   },
   "source": [
    "| month | count |\n",
    "| ------|------ |\n",
    "| 2008-12-01 | 17641 |\n",
    "| 2008-11-01 | 18294 |\n",
    "| ... | ... |"
   ]
  },
  {
   "cell_type": "code",
   "execution_count": 11,
   "metadata": {
    "id": "kVu0FB8WDWKv"
   },
   "outputs": [],
   "source": [
    "# напишите запрос\n",
    "query = '''\n",
    "SELECT DATE_TRUNC('month', creation_date)::date AS month,\n",
    "       COUNT(*)\n",
    "FROM stackoverflow.posts\n",
    "WHERE user_id IN\n",
    "    (SELECT DISTINCT u.id\n",
    "     FROM stackoverflow.users u\n",
    "     JOIN stackoverflow.posts p ON u.id = p.user_id\n",
    "     WHERE DATE_TRUNC('month', u.creation_date) = '2008-09-01'\n",
    "       AND DATE_TRUNC('month', p.creation_date) = '2008-12-01')\n",
    "GROUP BY month\n",
    "ORDER BY month DESC;\n",
    "'''\n",
    "\n",
    "# выполните запрос\n",
    "sum_posts = pd.read_sql_query(query, con = engine) "
   ]
  },
  {
   "cell_type": "code",
   "execution_count": 12,
   "metadata": {},
   "outputs": [
    {
     "name": "stdout",
     "output_type": "stream",
     "text": [
      "        month  count\n",
      "0  2008-12-01  17641\n",
      "1  2008-11-01  18294\n",
      "2  2008-10-01  27171\n",
      "3  2008-09-01  24870\n",
      "4  2008-08-01     32\n"
     ]
    }
   ],
   "source": [
    "print(sum_posts)"
   ]
  },
  {
   "cell_type": "markdown",
   "metadata": {
    "id": "MMVIz4yMlKpN"
   },
   "source": [
    "**Вывод**\n",
    "\n",
    "В августе 2008 года наблюдается рекордно низкое количество постов. Возможно, что платформа только появилась в августе 2008 г. и набрала мало популярности. \n",
    "Также возможно, что не была предусмотрена обязательная регистрация на платформе и поэтому часть постов не учитывалась."
   ]
  },
  {
   "cell_type": "markdown",
   "metadata": {
    "id": "5Pcizm0DDWKz"
   },
   "source": [
    "### Задание 4"
   ]
  },
  {
   "cell_type": "markdown",
   "metadata": {
    "id": "KUZPF6vHDWKz"
   },
   "source": [
    "Используя данные о постах, выведите несколько полей:\n",
    "\n",
    "- идентификатор пользователя, который написал пост;\n",
    "- дата создания поста;\n",
    "- количество просмотров у текущего поста;\n",
    "- сумму просмотров постов автора с накоплением.\n",
    "\n",
    "Данные в таблице должны быть отсортированы по возрастанию идентификаторов пользователей, а данные об одном и том же пользователе — по возрастанию даты создания поста."
   ]
  },
  {
   "cell_type": "markdown",
   "metadata": {
    "id": "ZpsTUVDYDWK0"
   },
   "source": [
    "| user_id | creation_date | views_count | cumulative_count |\n",
    "| ------ | -------------- | ----------- | ---------------- |\n",
    "| 1 | 2008-07-31 23:41:00  | 480476   | 480476  |\n",
    "| 1 | 2008-07-31 23:55:38  | 136033 | 616509  | \n",
    "| 1 | 2008-07-31 23:56:41  | 0 |  616509  |\n",
    "| ... | ... | ... | ... |\n",
    "| 2 | 2008-07-31 23:56:41 | 79087  | 79087 |\n",
    "| 2 | 2008-08-01 05:09:56 | 65443 | 144530 |\n",
    "| ... | ...  | ...  | ...  |"
   ]
  },
  {
   "cell_type": "code",
   "execution_count": 13,
   "metadata": {
    "id": "hDoJhMzfDWK0"
   },
   "outputs": [],
   "source": [
    "# напишите запрос\n",
    "query = '''\n",
    "SELECT user_id,\n",
    "       creation_date,\n",
    "       views_count,\n",
    "       SUM(views_count) OVER(PARTITION BY user_id ORDER BY creation_date) AS cumulative_count\n",
    "FROM stackoverflow.posts\n",
    "ORDER BY user_id;\n",
    "'''\n",
    "\n",
    "# выполните запрос\n",
    "posts = pd.read_sql_query(query, con = engine) "
   ]
  },
  {
   "cell_type": "code",
   "execution_count": 14,
   "metadata": {},
   "outputs": [
    {
     "name": "stdout",
     "output_type": "stream",
     "text": [
      "   user_id       creation_date  views_count  cumulative_count\n",
      "0        1 2008-07-31 23:41:00       480476            480476\n",
      "1        1 2008-07-31 23:55:38       136033            616509\n",
      "2        1 2008-07-31 23:56:41            0            616509\n",
      "3        1 2008-08-04 02:45:08            0            616509\n",
      "4        1 2008-08-04 04:31:03            0            616509\n",
      "5        1 2008-08-04 08:04:42            0            616509\n",
      "6        1 2008-08-10 08:28:52            0            616509\n",
      "7        1 2008-08-11 19:23:47            0            616509\n",
      "8        1 2008-08-12 00:30:43            0            616509\n",
      "9        1 2008-08-12 04:59:35        72431            688940\n"
     ]
    }
   ],
   "source": [
    "print(posts.head(10))"
   ]
  },
  {
   "cell_type": "markdown",
   "metadata": {
    "id": "N0kHRHvIDWK2"
   },
   "source": [
    "### Задание 5"
   ]
  },
  {
   "cell_type": "markdown",
   "metadata": {
    "id": "gBgvmPtODWK2"
   },
   "source": [
    "Найдите среднее количество постов пользователей в день за август 2008 года. Отберите данные о пользователях, которые опубликовали больше 120 постов за август. Дни без публикаций не учитывайте. \n",
    "\n",
    "Отсортируйте результат по возрастанию среднего количества постов. Значения можно не округлять."
   ]
  },
  {
   "cell_type": "markdown",
   "metadata": {
    "id": "nfzR08BODWK3"
   },
   "source": [
    "| user_id | avg_daily |\n",
    "| ------- | --------- |\n",
    "| 116     | 4.777778  |\n",
    "| 234     | 5.208333  |\n",
    "| ...     | ... |"
   ]
  },
  {
   "cell_type": "code",
   "execution_count": 15,
   "metadata": {
    "id": "YFyPNz5GDWK3"
   },
   "outputs": [],
   "source": [
    "# напишите запрос\n",
    "query = '''\n",
    "WITH pt AS\n",
    "       (SELECT user_id,\n",
    "               DATE_TRUNC('day', creation_date) AS day,\n",
    "               COUNT(DATE_TRUNC('day', creation_date)) AS posts_count\n",
    "        FROM stackoverflow.posts\n",
    "        WHERE DATE_TRUNC('day', creation_date) >= '2008-08-01'\n",
    "        AND DATE_TRUNC('day', creation_date) <= '2008-08-31'\n",
    "        AND user_id IN\n",
    "                       (SELECT user_id\n",
    "                       FROM stackoverflow.posts\n",
    "                       WHERE DATE_TRUNC('day', creation_date) >= '2008-08-01'\n",
    "                       AND DATE_TRUNC('day', creation_date) <= '2008-08-31'\n",
    "                       GROUP BY user_id\n",
    "                       HAVING COUNT(user_id) > 120)\n",
    "                       GROUP BY user_id, day)\n",
    "         \n",
    "SELECT user_id,\n",
    "       AVG(posts_count) AS avg_daily\n",
    "FROM pt\n",
    "GROUP BY user_id\n",
    "ORDER BY avg_daily;\n",
    "'''\n",
    "\n",
    "# выполните запрос\n",
    "pt_result = pd.read_sql_query(query, con = engine) "
   ]
  },
  {
   "cell_type": "code",
   "execution_count": 16,
   "metadata": {},
   "outputs": [
    {
     "name": "stdout",
     "output_type": "stream",
     "text": [
      "   user_id  avg_daily\n",
      "0      116   4.777778\n",
      "1      234   5.208333\n",
      "2       91   5.681818\n",
      "3      905   7.000000\n",
      "4      383   7.277778\n"
     ]
    }
   ],
   "source": [
    "print(pt_result)"
   ]
  },
  {
   "cell_type": "markdown",
   "metadata": {
    "id": "EQ0dcFH4DWK5"
   },
   "source": [
    "### Задание 6"
   ]
  },
  {
   "cell_type": "markdown",
   "metadata": {
    "id": "c7flfg_hDWK5"
   },
   "source": [
    "Сколько в среднем дней в период с 1 по 7 декабря 2008 года пользователи взаимодействовали с платформой? Для каждого пользователя отберите дни, в которые он или она опубликовали хотя бы один пост. Нужно получить одно целое число — не забудьте округлить результат. "
   ]
  },
  {
   "cell_type": "markdown",
   "metadata": {
    "id": "RC1Ibzm9DWK6"
   },
   "source": [
    "| result |\n",
    "| -----  |\n",
    "| <целое число> |"
   ]
  },
  {
   "cell_type": "code",
   "execution_count": 17,
   "metadata": {
    "id": "kZ7LXTr6DWK6"
   },
   "outputs": [],
   "source": [
    "# напишите запрос\n",
    "query = '''\n",
    "WITH p AS (SELECT user_id,\n",
    "                   COUNT(DISTINCT creation_date::date)  AS date\n",
    "            FROM stackoverflow.posts\n",
    "            WHERE creation_date::date BETWEEN '2008-12-01' AND '2008-12-07' \n",
    "            GROUP BY user_id)\n",
    "\n",
    "SELECT ROUND(AVG(p.date)) AS result\n",
    "FROM p;\n",
    "'''\n",
    "\n",
    "# выполните запрос\n",
    "avg_result = pd.read_sql_query(query, con = engine) "
   ]
  },
  {
   "cell_type": "code",
   "execution_count": 18,
   "metadata": {},
   "outputs": [
    {
     "name": "stdout",
     "output_type": "stream",
     "text": [
      "   result\n",
      "0     2.0\n"
     ]
    }
   ],
   "source": [
    "print(avg_result)"
   ]
  },
  {
   "cell_type": "markdown",
   "metadata": {
    "id": "LfUuYz-1DWK8"
   },
   "source": [
    "**Вывод**\n",
    "\n",
    "В среднем пользователи взаимодействуют с платформой в течение 2 дней. Скорее всего, это связано с выходными, когда пользователи сидят на платформе более активно. Или же это может быть связано с тем, что пользователи публикуют вопрос или ответ и в течение следующего дня захдоят и проверяют обновления."
   ]
  },
  {
   "cell_type": "markdown",
   "metadata": {
    "id": "wfOmqmfLDWK8"
   },
   "source": [
    "### Задание 7"
   ]
  },
  {
   "cell_type": "markdown",
   "metadata": {
    "id": "X4ARQimADWK9"
   },
   "source": [
    "Выведите историю активности каждого пользователя в таком виде: идентификатор пользователя, дата публикации поста. Отсортируйте вывод по возрастанию идентификаторов пользователей, а для каждого пользователя — по возрастанию даты публикации.\n",
    "\n",
    "Добавьте в таблицу новое поле: для каждого поста в нём будет указано название месяца предпоследней публикации пользователя относительно текущей. Если такой публикации нет, укажите `NULL`.  Python автоматически поменяет `NULL` на `None`, но дополнительно преобразовывать значения `None` вам не нужно.\n",
    "\n",
    "Посмотрите внимательно на образец таблицы: для первых двух постов предпоследней публикации нет, но, начиная с третьего поста, в новое поле входит нужный месяц. Для следующего пользователя в первые две записи поля `second_last_month` тоже войдёт `NULL`."
   ]
  },
  {
   "cell_type": "markdown",
   "metadata": {
    "id": "IGPjRP01DWK9"
   },
   "source": [
    "| user_id | creation_date | second_last_month |\n",
    "| ------- | ------------- | ----------------- |\n",
    "| 1       | 2008-07-31 23:41:00 | None |\n",
    "| 1       | 2008-07-31 23:55:38 | None |\n",
    "| 1       | 2008-07-31 23:56:41 | July |\n",
    "| 1       | 2008-08-04 02:45:08 | July |\n",
    "| 1       | 2008-08-04 04:31:03 | July |\n",
    "| 1       | 2008-08-04 08:04:42 | August |\n",
    "| ... | ... | ... |"
   ]
  },
  {
   "cell_type": "code",
   "execution_count": 19,
   "metadata": {
    "id": "HzI1vhaMDWK-"
   },
   "outputs": [],
   "source": [
    "# напишите запрос\n",
    "query = '''\n",
    "SELECT user_id,\n",
    "       creation_date,\n",
    "       CASE EXTRACT('month' FROM LAG(creation_date, 2) OVER (PARTITION BY user_id ORDER BY creation_date))\n",
    "            WHEN 1 THEN 'January'\n",
    "            WHEN 2 THEN 'February'\n",
    "            WHEN 3 THEN 'March'\n",
    "            WHEN 4 THEN 'April'\n",
    "            WHEN 5 THEN 'May'\n",
    "            WHEN 6 THEN 'June'\n",
    "            WHEN 7 THEN 'July'\n",
    "            WHEN 8 THEN 'August'\n",
    "            WHEN 9 THEN 'September'\n",
    "            WHEN 10 THEN 'October'\n",
    "            WHEN 11 THEN 'November'\n",
    "            WHEN 12 THEN 'December'\n",
    "      END AS second_last_month\n",
    "FROM stackoverflow.posts\n",
    "ORDER BY user_id, creation_date;\n",
    "'''\n",
    "\n",
    "# выполните запрос\n",
    "activity_result = pd.read_sql_query(query, con = engine) "
   ]
  },
  {
   "cell_type": "code",
   "execution_count": 20,
   "metadata": {
    "scrolled": true
   },
   "outputs": [
    {
     "name": "stdout",
     "output_type": "stream",
     "text": [
      "        user_id       creation_date second_last_month\n",
      "0             1 2008-07-31 23:41:00              None\n",
      "1             1 2008-07-31 23:55:38              None\n",
      "2             1 2008-07-31 23:56:41              July\n",
      "3             1 2008-08-04 02:45:08              July\n",
      "4             1 2008-08-04 04:31:03              July\n",
      "...         ...                 ...               ...\n",
      "243791  5696608 2008-12-23 16:00:37          December\n",
      "243792  5696608 2008-12-23 17:35:09          December\n",
      "243793  5696608 2008-12-24 01:02:48          December\n",
      "243794  5696608 2008-12-30 14:34:45          December\n",
      "243795  5696608 2008-12-30 16:32:12          December\n",
      "\n",
      "[243796 rows x 3 columns]\n"
     ]
    }
   ],
   "source": [
    "print(activity_result)"
   ]
  },
  {
   "cell_type": "markdown",
   "metadata": {
    "id": "tf9qq2yzDWK_"
   },
   "source": [
    "### Задание 8"
   ]
  },
  {
   "cell_type": "markdown",
   "metadata": {
    "id": "gfwLVXBYDWLA"
   },
   "source": [
    "Рассчитайте аналог Retention Rate по месяцам для пользователей StackOverflow. Объедините пользователей в когорты по месяцу их первого поста. Возвращение определяйте по наличию поста в текущем месяце. "
   ]
  },
  {
   "cell_type": "markdown",
   "metadata": {
    "id": "kN2ic39WlKpl"
   },
   "source": [
    "| cohort_dt | session_date | users_cnt | cohort_users_cnt | retention_rate |\n",
    "| --- | --- | --- | --- | --- |\n",
    "| 2008-07-01 00:00:00 | 2008-07-01 00:00:00 | 3 | 3 | 100 |\n",
    "| 2008-07-01 00:00:00 | 2008-08-01 00:00:00 | 2 | 3 | 66,67 |\n",
    "| 2008-07-01 00:00:00 | 2008-09-01 00:00:00 | 1 | 3 | 33,33 |\n",
    "| 2008-07-01 00:00:00 | 2008-10-01 00:00:00 | 2 | 3 | 66,67 |\n",
    "| 2008-07-01 00:00:00 | 2008-11-01 00:00:00 | 1 | 3 | 33,33 |\n",
    "| 2008-07-01 00:00:00 | 2008-12-01 00:00:00 | 2 | 3 | 66,67 |\n",
    "| 2008-08-01 00:00:00 | 2008-08-01 00:00:00 | 2151 | 2151 | 100 |\n",
    "| ... | ... | ... | ... | ... |"
   ]
  },
  {
   "cell_type": "code",
   "execution_count": 21,
   "metadata": {
    "id": "LUgFmwmTDWLB"
   },
   "outputs": [],
   "source": [
    "# напишите запрос\n",
    "query = '''\n",
    "WITH profile AS\n",
    "  (SELECT user_id,\n",
    "          DATE_TRUNC('month', MIN(creation_date))::date AS cohort_dt,\n",
    "          COUNT(*) OVER (PARTITION BY DATE_TRUNC('month', MIN(creation_date))::date) AS cohort_users_cnt\n",
    "FROM stackoverflow.posts\n",
    "GROUP BY user_id),\n",
    "\n",
    "sessions AS\n",
    "   (SELECT user_id,\n",
    "           DATE_TRUNC('month', creation_date)::date AS session_date\n",
    "    FROM stackoverflow.posts\n",
    "    GROUP BY user_id,\n",
    "             session_date)\n",
    "\n",
    "SELECT p.cohort_dt,\n",
    "       s.session_date,\n",
    "       COUNT(p.user_id) AS users_cnt,\n",
    "       cohort_users_cnt,\n",
    "       ROUND(COUNT(p.user_id) * 100.0 / cohort_users_cnt, 2) AS retention_rate\n",
    "FROM profile p\n",
    "JOIN sessions s ON p.user_id = s.user_id\n",
    "GROUP BY 1,\n",
    "         2,\n",
    "         4; \n",
    "'''\n",
    "\n",
    "# выполните запрос\n",
    "retention_rate = pd.read_sql_query(query, con = engine) "
   ]
  },
  {
   "cell_type": "code",
   "execution_count": 22,
   "metadata": {
    "scrolled": true
   },
   "outputs": [
    {
     "name": "stdout",
     "output_type": "stream",
     "text": [
      "    cohort_dt session_date  users_cnt  cohort_users_cnt  retention_rate\n",
      "0  2008-08-01   2008-09-01       1571              2151           73.04\n",
      "1  2008-07-01   2008-07-01          3                 3          100.00\n",
      "2  2008-11-01   2008-11-01       2852              2852          100.00\n",
      "3  2008-08-01   2008-12-01        894              2151           41.56\n",
      "4  2008-09-01   2008-12-01       2500              7678           32.56\n",
      "5  2008-07-01   2008-12-01          2                 3           66.67\n",
      "6  2008-07-01   2008-11-01          1                 3           33.33\n",
      "7  2008-09-01   2008-10-01       4132              7678           53.82\n",
      "8  2008-09-01   2008-09-01       7678              7678          100.00\n",
      "9  2008-07-01   2008-08-01          2                 3           66.67\n"
     ]
    }
   ],
   "source": [
    "print(retention_rate.head(10))"
   ]
  },
  {
   "cell_type": "markdown",
   "metadata": {
    "id": "_msBtnb2DWLC"
   },
   "source": [
    "Постройте тепловую карту Retention Rate. Какие аномалии или другие необычные явления удалось выявить? Сформулируйте гипотезы о возможных причинах."
   ]
  },
  {
   "cell_type": "code",
   "execution_count": 23,
   "metadata": {
    "id": "qAEJc8H1DWLC"
   },
   "outputs": [
    {
     "data": {
      "image/png": "[encoded data removed]",
      "text/plain": [
       "<Figure size 1000x1000 with 2 Axes>"
      ]
     },
     "metadata": {},
     "output_type": "display_data"
    }
   ],
   "source": [
    "# создаём сводную таблицу с результатами\n",
    "retention = retention_rate.pivot('cohort_dt', 'session_date', 'retention_rate')\n",
    "retention.index = [str(x)[0:10] for x in retention.index]\n",
    "retention.columns = [str(x)[0:10] for x in retention.columns]\n",
    "\n",
    "# строим хитмэп\n",
    "plt.figure(figsize=(10, 10)) # задаём размер графика\n",
    "sns.heatmap(retention, # датафрейм с данными\n",
    "            annot=True, # добавляем подписи\n",
    "            fmt='') # задаём исходный формат\n",
    "plt.title('Тепловая карта') # название графика\n",
    "plt.show()"
   ]
  },
  {
   "cell_type": "markdown",
   "metadata": {},
   "source": [
    "**Вывод**\n",
    "\n",
    "- В когорте пользователей, пришедших в ноябре 2008 г., наблюдается самое низкое значение Retention Rate за первый месяц.\n",
    "- Среди пользователей когорты 1 июля 2008 г. коэффициент удержания первого месяца больше 60%, второго месяца - 33%, третьего месяца - больше 60% и т.д. Поскольку официальная дата запуска платформы указана в августе, то, возможно, в июле платформу запускали в качестве тестовой версии, где случались сбои с постами.\n",
    "- Среди пользователей когорты 1 августе 2008 г. наблюдается самый высокий уровень удержания на протяжении всего периода. Поскольку платформа стартовала и получила широкую известность в августе 2008 г., то многие программисты стали ей регулярно пользоваться, поскольку бесплатных аналогов данной платформы не было. Платформа закрыла потребительскую боль в поиске информации, поэтому, возможно, что из-за этого уровень удержания был высокий. "
   ]
  },
  {
   "cell_type": "markdown",
   "metadata": {
    "id": "1k7oPWt5DWLK"
   },
   "source": [
    "### Задание 9\n"
   ]
  },
  {
   "cell_type": "markdown",
   "metadata": {
    "id": "ALsYVSyRDWLM"
   },
   "source": [
    "На сколько процентов менялось количество постов ежемесячно с 1 сентября по 31 декабря 2008 года? Отобразите таблицу со следующими полями:\n",
    "\n",
    "- номер месяца;\n",
    "- количество постов за месяц;\n",
    "- процент, который показывает, насколько изменилось количество постов в текущем месяце по сравнению с предыдущим.\n",
    "\n",
    "Если постов стало меньше, значение процента должно быть отрицательным, если больше — положительным. Округлите значение процента до двух знаков после запятой.\n",
    "\n",
    "Напомним, что при делении одного целого числа на другое в PostgreSQL в результате получится целое число, округлённое до ближайшего целого вниз. Чтобы этого избежать, переведите делимое в тип `numeric`."
   ]
  },
  {
   "cell_type": "markdown",
   "metadata": {
    "id": "u4E2zF8DDWLM"
   },
   "source": [
    "| creation_month | posts_count | percentage |\n",
    "| -------------- | ----------- | ---------- |\n",
    "| 9 | 70731 | Nan |\n",
    "| 10 | 63102 | -10.33 |\n",
    "| ... | ... | ... |"
   ]
  },
  {
   "cell_type": "code",
   "execution_count": 24,
   "metadata": {
    "id": "Mb5pShStDWLN"
   },
   "outputs": [],
   "source": [
    "# напишите запрос\n",
    "query = '''\n",
    "WITH mp AS (SELECT EXTRACT(MONTH FROM creation_date::date) AS creation_month,\n",
    "                    COUNT(DISTINCT id) AS posts_count    \n",
    "                    FROM stackoverflow.posts\n",
    "                    WHERE creation_date::date BETWEEN '2008-09-01' AND '2008-12-31'\n",
    "                    GROUP BY creation_month)\n",
    "\n",
    "SELECT *,\n",
    "       ROUND(((posts_count::numeric / LAG(posts_count) OVER (ORDER BY creation_month)) - 1) * 100, 2) AS percentage\n",
    "FROM mp;\n",
    "'''\n",
    "\n",
    "# выполните запрос\n",
    "mp = pd.read_sql_query(query, con = engine) "
   ]
  },
  {
   "cell_type": "code",
   "execution_count": 25,
   "metadata": {},
   "outputs": [
    {
     "name": "stdout",
     "output_type": "stream",
     "text": [
      "   creation_month  posts_count  percentage\n",
      "0             9.0        70371         NaN\n",
      "1            10.0        63102      -10.33\n",
      "2            11.0        46975      -25.56\n",
      "3            12.0        44592       -5.07\n"
     ]
    }
   ],
   "source": [
    "print(mp)"
   ]
  },
  {
   "cell_type": "markdown",
   "metadata": {
    "id": "9NQE2y_MDWLP"
   },
   "source": [
    "Постройте круговую диаграмму с количеством постов по месяцам."
   ]
  },
  {
   "cell_type": "code",
   "execution_count": 26,
   "metadata": {},
   "outputs": [
    {
     "data": {
      "image/svg+xml": [
       "<svg class=\"main-svg\" xmlns=\"http://www.w3.org/2000/svg\" xmlns:xlink=\"http://www.w3.org/1999/xlink\" width=\"840\" height=\"600\" style=\"\" viewBox=\"0 0 700 500\"><rect x=\"0\" y=\"0\" width=\"700\" height=\"500\" style=\"fill: rgb(255, 255, 255); fill-opacity: 1;\"/><defs id=\"defs-9d8495\"><g class=\"clips\"/><g class=\"gradients\"/><g class=\"patterns\"/></defs><g class=\"bglayer\"/><g class=\"layer-below\"><g class=\"imagelayer\"/><g class=\"shapelayer\"/></g><g class=\"cartesianlayer\"/><g class=\"polarlayer\"/><g class=\"smithlayer\"/><g class=\"ternarylayer\"/><g class=\"geolayer\"/><g class=\"funnelarealayer\"/><g class=\"pielayer\"><g class=\"trace\" stroke-linejoin=\"round\" style=\"opacity: 1;\"><g class=\"slice\"><path class=\"surface\" d=\"M348,260l0,-160a160,160 0 0 1 147.74196437211924,221.41914981068567Z\" style=\"pointer-events: all; stroke-width: 0; fill: rgb(103, 0, 31); fill-opacity: 1; stroke: rgb(68, 68, 68); stroke-opacity: 1;\"/><g class=\"slicetext\"><text data-notex=\"1\" class=\"slicetext\" transform=\"translate(420.6164071335299,216.02062585727384)\" text-anchor=\"middle\" x=\"0\" y=\"0\" style=\"font-family: 'Open Sans', verdana, arial, sans-serif; font-size: 12px; fill: rgb(255, 255, 255); fill-opacity: 1; white-space: pre;\">31.3%</text></g></g><g class=\"slice\"><path class=\"surface\" d=\"M348,260l-157.08944837383217,30.379354989945444a160,160 0 0 1 157.08944837383217,-190.37935498994545Z\" style=\"pointer-events: all; stroke-width: 0; fill: rgb(178, 24, 43); fill-opacity: 1; stroke: rgb(68, 68, 68); stroke-opacity: 1;\"/><g class=\"slicetext\"><text data-notex=\"1\" class=\"slicetext\" transform=\"translate(278.2890232469277,207.01097983947844)\" text-anchor=\"middle\" x=\"0\" y=\"0\" style=\"font-family: 'Open Sans', verdana, arial, sans-serif; font-size: 12px; fill: rgb(255, 255, 255); fill-opacity: 1; white-space: pre;\">28%</text></g></g><g class=\"slice\"><path class=\"surface\" d=\"M348,260l-10.905028043422295,159.62794355429182a160,160 0 0 1 -146.18442033040986,-129.24858856434636Z\" style=\"pointer-events: all; stroke-width: 0; fill: rgb(214, 96, 77); fill-opacity: 1; stroke: rgb(68, 68, 68); stroke-opacity: 1;\"/><g class=\"slicetext\"><text data-notex=\"1\" class=\"slicetext\" transform=\"translate(282.1254778572456,338.9620781701673)\" text-anchor=\"middle\" x=\"0\" y=\"0\" style=\"font-family: 'Open Sans', verdana, arial, sans-serif; font-size: 12px; fill: rgb(68, 68, 68); fill-opacity: 1; white-space: pre;\">20.9%</text></g></g><g class=\"slice\"><path class=\"surface\" d=\"M348,260l147.7419643721192,61.41914981068573a160,160 0 0 1 -158.64699241554152,98.2087937436061Z\" style=\"pointer-events: all; stroke-width: 0; fill: rgb(244, 165, 130); fill-opacity: 1; stroke: rgb(68, 68, 68); stroke-opacity: 1;\"/><g class=\"slicetext\"><text data-notex=\"1\" class=\"slicetext\" transform=\"translate(401.15857765229094,350.435742534407)\" text-anchor=\"middle\" x=\"0\" y=\"0\" style=\"font-family: 'Open Sans', verdana, arial, sans-serif; font-size: 12px; fill: rgb(68, 68, 68); fill-opacity: 1; white-space: pre;\">19.8%</text></g></g></g></g><g class=\"iciclelayer\"/><g class=\"treemaplayer\"/><g class=\"sunburstlayer\"/><g class=\"glimages\"/><defs id=\"topdefs-9d8495\"><g class=\"clips\"/><clipPath id=\"legend9d8495\"><rect width=\"61\" height=\"86\" x=\"0\" y=\"0\"/></clipPath></defs><g class=\"layer-above\"><g class=\"imagelayer\"/><g class=\"shapelayer\"/></g><g class=\"infolayer\"><g class=\"legend\" pointer-events=\"all\" transform=\"translate(626.72,100)\"><rect class=\"bg\" shape-rendering=\"crispEdges\" style=\"stroke: rgb(68, 68, 68); stroke-opacity: 1; fill: rgb(255, 255, 255); fill-opacity: 1; stroke-width: 0px;\" width=\"61\" height=\"86\" x=\"0\" y=\"0\"/><g class=\"scrollbox\" transform=\"\" clip-path=\"url(#legend9d8495)\"><g class=\"groups\"><g class=\"traces\" transform=\"translate(0,14.5)\" style=\"opacity: 1;\"><text class=\"legendtext\" text-anchor=\"start\" x=\"40\" y=\"4.680000000000001\" style=\"font-family: 'Open Sans', verdana, arial, sans-serif; font-size: 12px; fill: rgb(42, 63, 95); fill-opacity: 1; white-space: pre;\">9</text><g class=\"layers\" style=\"opacity: 1;\"><g class=\"legendfill\"/><g class=\"legendlines\"/><g class=\"legendsymbols\"><g class=\"legendpoints\"><path class=\"legendpie\" d=\"M6,6H-6V-6H6Z\" transform=\"translate(20,0)\" style=\"stroke-width: 0; fill: rgb(103, 0, 31); fill-opacity: 1; stroke: rgb(68, 68, 68); stroke-opacity: 1;\"/></g></g></g><rect class=\"legendtoggle\" x=\"0\" y=\"-9.5\" width=\"55.640625\" height=\"19\" style=\"fill: rgb(0, 0, 0); fill-opacity: 0;\"/></g><g class=\"traces\" transform=\"translate(0,33.5)\" style=\"opacity: 1;\"><text class=\"legendtext\" text-anchor=\"start\" x=\"40\" y=\"4.680000000000001\" style=\"font-family: 'Open Sans', verdana, arial, sans-serif; font-size: 12px; fill: rgb(42, 63, 95); fill-opacity: 1; white-space: pre;\">10</text><g class=\"layers\" style=\"opacity: 1;\"><g class=\"legendfill\"/><g class=\"legendlines\"/><g class=\"legendsymbols\"><g class=\"legendpoints\"><path class=\"legendpie\" d=\"M6,6H-6V-6H6Z\" transform=\"translate(20,0)\" style=\"stroke-width: 0; fill: rgb(178, 24, 43); fill-opacity: 1; stroke: rgb(68, 68, 68); stroke-opacity: 1;\"/></g></g></g><rect class=\"legendtoggle\" x=\"0\" y=\"-9.5\" width=\"55.640625\" height=\"19\" style=\"fill: rgb(0, 0, 0); fill-opacity: 0;\"/></g><g class=\"traces\" transform=\"translate(0,52.5)\" style=\"opacity: 1;\"><text class=\"legendtext\" text-anchor=\"start\" x=\"40\" y=\"4.680000000000001\" style=\"font-family: 'Open Sans', verdana, arial, sans-serif; font-size: 12px; fill: rgb(42, 63, 95); fill-opacity: 1; white-space: pre;\">11</text><g class=\"layers\" style=\"opacity: 1;\"><g class=\"legendfill\"/><g class=\"legendlines\"/><g class=\"legendsymbols\"><g class=\"legendpoints\"><path class=\"legendpie\" d=\"M6,6H-6V-6H6Z\" transform=\"translate(20,0)\" style=\"stroke-width: 0; fill: rgb(214, 96, 77); fill-opacity: 1; stroke: rgb(68, 68, 68); stroke-opacity: 1;\"/></g></g></g><rect class=\"legendtoggle\" x=\"0\" y=\"-9.5\" width=\"55.640625\" height=\"19\" style=\"fill: rgb(0, 0, 0); fill-opacity: 0;\"/></g><g class=\"traces\" transform=\"translate(0,71.5)\" style=\"opacity: 1;\"><text class=\"legendtext\" text-anchor=\"start\" x=\"40\" y=\"4.680000000000001\" style=\"font-family: 'Open Sans', verdana, arial, sans-serif; font-size: 12px; fill: rgb(42, 63, 95); fill-opacity: 1; white-space: pre;\">12</text><g class=\"layers\" style=\"opacity: 1;\"><g class=\"legendfill\"/><g class=\"legendlines\"/><g class=\"legendsymbols\"><g class=\"legendpoints\"><path class=\"legendpie\" d=\"M6,6H-6V-6H6Z\" transform=\"translate(20,0)\" style=\"stroke-width: 0; fill: rgb(244, 165, 130); fill-opacity: 1; stroke: rgb(68, 68, 68); stroke-opacity: 1;\"/></g></g></g><rect class=\"legendtoggle\" x=\"0\" y=\"-9.5\" width=\"55.640625\" height=\"19\" style=\"fill: rgb(0, 0, 0); fill-opacity: 0;\"/></g></g></g><rect class=\"scrollbar\" rx=\"20\" ry=\"3\" width=\"0\" height=\"0\" style=\"fill: rgb(128, 139, 164); fill-opacity: 1;\" x=\"0\" y=\"0\"/></g><g class=\"g-gtitle\"><text class=\"gtitle\" x=\"35\" y=\"50\" text-anchor=\"start\" dy=\"0em\" style=\"font-family: 'Open Sans', verdana, arial, sans-serif; font-size: 17px; fill: rgb(42, 63, 95); opacity: 1; font-weight: normal; white-space: pre;\">Количество постов по месяцам</text></g></g></svg>"
      ]
     },
     "metadata": {},
     "output_type": "display_data"
    }
   ],
   "source": [
    "# постройте круговую диаграмму с количеством постов по месяцам\n",
    "\n",
    "fig = px.pie(mp, values=mp['posts_count'], names=mp['creation_month'], \\\n",
    "             color_discrete_sequence=px.colors.sequential.RdBu, title = 'Количество постов по месяцам')\n",
    "fig.show()"
   ]
  },
  {
   "cell_type": "markdown",
   "metadata": {},
   "source": [
    "**Вывод**\n",
    "\n",
    "Больше всего постов было опубликовано в сентябре 2008 г., а меньше всего - в декабре. \n",
    "Скорее всего, большое количество постов в сентябре обусловлено тем, что многие студенты начинают учиться и тем самым задают больше вопросов на платформе."
   ]
  },
  {
   "cell_type": "markdown",
   "metadata": {
    "id": "uw7qMtafDWLP"
   },
   "source": [
    "### Задание 10"
   ]
  },
  {
   "cell_type": "markdown",
   "metadata": {
    "id": "oRBpWKx3DWLQ"
   },
   "source": [
    "Выгрузите данные активности пользователя, который опубликовал больше всего постов за всё время. Выведите данные за октябрь 2008 года в таком виде:\n",
    "\n",
    "- номер недели;\n",
    "- дата и время последнего поста, опубликованного на этой неделе."
   ]
  },
  {
   "cell_type": "markdown",
   "metadata": {
    "id": "XjAWSn_3DWLQ"
   },
   "source": [
    "| week_creation | creation_date |\n",
    "| ------------- | ------------- |\n",
    "| 40 | 2008-10-05 09:00:58 |\n",
    "| 41 | 2008-10-12 21:22:23 |\n",
    "| ... | ... |"
   ]
  },
  {
   "cell_type": "code",
   "execution_count": 27,
   "metadata": {
    "id": "r5F5fSkwDWLQ"
   },
   "outputs": [],
   "source": [
    "# напишите запрос\n",
    "query = '''\n",
    "WITH pt AS (SELECT DISTINCT user_id,\n",
    "                   COUNT(id) AS sum_post\n",
    "            FROM stackoverflow.posts\n",
    "            GROUP BY user_id\n",
    "            ORDER BY sum_post DESC\n",
    "            LIMIT 1),\n",
    "       \n",
    "dt AS (SELECT p.user_id,\n",
    "              p.creation_date,\n",
    "              EXTRACT('week' FROM p.creation_date::date) AS week_creation\n",
    "       FROM stackoverflow.posts AS p\n",
    "       JOIN pt ON pt.user_id = p.user_id\n",
    "       WHERE DATE_TRUNC('month', p.creation_date::date) = '2008-10-01')\n",
    "\n",
    "SELECT DISTINCT dt.week_creation,\n",
    "       MAX(creation_date) OVER (PARTITION BY week_creation) AS creation_date\n",
    "FROM dt\n",
    "ORDER BY creation_date;\n",
    "'''\n",
    "\n",
    "# выполните запрос\n",
    "result = pd.read_sql_query(query, con = engine) "
   ]
  },
  {
   "cell_type": "code",
   "execution_count": 28,
   "metadata": {
    "scrolled": false
   },
   "outputs": [
    {
     "name": "stdout",
     "output_type": "stream",
     "text": [
      "   week_creation       creation_date\n",
      "0           40.0 2008-10-05 09:00:58\n",
      "1           41.0 2008-10-12 21:22:23\n",
      "2           42.0 2008-10-19 06:49:30\n",
      "3           43.0 2008-10-26 21:44:36\n",
      "4           44.0 2008-10-31 22:16:01\n"
     ]
    }
   ],
   "source": [
    "print(result)"
   ]
  },
  {
   "cell_type": "markdown",
   "metadata": {},
   "source": [
    "## Вывод"
   ]
  },
  {
   "cell_type": "markdown",
   "metadata": {},
   "source": [
    "Данные: База данных StackOverflow за 2008 г.\n",
    "\n",
    "Выводы:\n",
    "\n",
    "- Большое количество постов было опубликовано в сентябре, а наибольшее количество просмотров постов также наблюдалось в сентябре и октябре. Такие результаты могут быть связаны с началом учебного года в колледжах и университетах, поэтому студенты чаще начинают задавать вопросы. Наименьшее количество просмотров постов - в июле, что также может быть связано с каникулами в учебных заведениях и с отпусками специалистов.\n",
    "- Самые активные пользователи, которые давали больше всего ответов, имеют сокращенные имена: Chris, Dan, Greg.\n",
    "- В базе данных наблюдаются аномалии с рекордно низким количеством постов в августе, что может быть связано с необязательной регистрацией на платформе или сбоями в формировании даты создания постов.\n",
    "- Наблюдаются аномалии в показателе удержания пользователей в июле 2008 г., что также может быть связано с некорректным учетом постов."
   ]
  }
 ],
 "metadata": {
  "ExecuteTimeLog": [
   {
    "duration": 1633,
    "start_time": "2023-02-19T13:09:43.575Z"
   },
   {
    "duration": 3,
    "start_time": "2023-02-19T13:19:51.712Z"
   },
   {
    "duration": 11286,
    "start_time": "2023-02-19T13:19:55.282Z"
   },
   {
    "duration": 260,
    "start_time": "2023-02-19T13:20:06.575Z"
   },
   {
    "duration": 18,
    "start_time": "2023-02-19T13:20:06.837Z"
   },
   {
    "duration": 3,
    "start_time": "2023-02-19T13:35:52.940Z"
   },
   {
    "duration": 4,
    "start_time": "2023-02-19T13:36:12.479Z"
   },
   {
    "duration": 3,
    "start_time": "2023-02-19T13:37:29.843Z"
   },
   {
    "duration": 4,
    "start_time": "2023-02-19T13:37:37.390Z"
   },
   {
    "duration": 6,
    "start_time": "2023-02-19T13:38:06.087Z"
   },
   {
    "duration": 5,
    "start_time": "2023-02-19T13:38:08.678Z"
   },
   {
    "duration": 172,
    "start_time": "2023-02-19T13:39:05.331Z"
   },
   {
    "duration": 21,
    "start_time": "2023-02-19T13:39:29.460Z"
   },
   {
    "duration": 5,
    "start_time": "2023-02-19T13:41:31.420Z"
   },
   {
    "duration": 253,
    "start_time": "2023-02-19T13:42:05.493Z"
   },
   {
    "duration": 150,
    "start_time": "2023-02-19T13:42:24.444Z"
   },
   {
    "duration": 160,
    "start_time": "2023-02-19T13:42:37.886Z"
   },
   {
    "duration": 178,
    "start_time": "2023-02-19T13:42:50.907Z"
   },
   {
    "duration": 152,
    "start_time": "2023-02-19T13:43:33.079Z"
   },
   {
    "duration": 5,
    "start_time": "2023-02-19T13:43:36.931Z"
   },
   {
    "duration": 165,
    "start_time": "2023-02-19T13:53:03.147Z"
   },
   {
    "duration": 7,
    "start_time": "2023-02-19T13:53:04.892Z"
   },
   {
    "duration": 1593,
    "start_time": "2023-02-19T16:18:47.600Z"
   },
   {
    "duration": 4,
    "start_time": "2023-02-19T16:18:53.155Z"
   },
   {
    "duration": 10008,
    "start_time": "2023-02-19T16:19:05.453Z"
   },
   {
    "duration": 357,
    "start_time": "2023-02-19T16:19:31.643Z"
   },
   {
    "duration": 7,
    "start_time": "2023-02-19T16:19:33.772Z"
   },
   {
    "duration": 218,
    "start_time": "2023-02-19T16:43:16.047Z"
   },
   {
    "duration": 133,
    "start_time": "2023-02-19T16:43:37.255Z"
   },
   {
    "duration": 156,
    "start_time": "2023-02-19T16:44:53.368Z"
   },
   {
    "duration": 151,
    "start_time": "2023-02-19T16:59:23.547Z"
   },
   {
    "duration": 4,
    "start_time": "2023-02-19T16:59:26.110Z"
   },
   {
    "duration": 136,
    "start_time": "2023-02-19T17:54:26.747Z"
   },
   {
    "duration": 129,
    "start_time": "2023-02-19T18:04:10.010Z"
   },
   {
    "duration": 166,
    "start_time": "2023-02-19T18:04:32.821Z"
   },
   {
    "duration": 6,
    "start_time": "2023-02-19T18:04:59.682Z"
   },
   {
    "duration": 166,
    "start_time": "2023-02-19T18:16:32.727Z"
   },
   {
    "duration": 7,
    "start_time": "2023-02-19T18:16:35.302Z"
   },
   {
    "duration": 4,
    "start_time": "2023-02-19T18:17:47.962Z"
   },
   {
    "duration": 5,
    "start_time": "2023-02-19T18:17:52.567Z"
   },
   {
    "duration": 7,
    "start_time": "2023-02-19T18:23:26.410Z"
   },
   {
    "duration": 5,
    "start_time": "2023-02-19T18:39:13.798Z"
   },
   {
    "duration": 137,
    "start_time": "2023-02-19T18:51:38.665Z"
   },
   {
    "duration": 4,
    "start_time": "2023-02-19T18:52:07.259Z"
   },
   {
    "duration": 3,
    "start_time": "2023-02-19T19:25:06.247Z"
   },
   {
    "duration": 9,
    "start_time": "2023-02-19T19:25:47.069Z"
   },
   {
    "duration": 1309,
    "start_time": "2023-02-19T19:25:49.690Z"
   },
   {
    "duration": 8,
    "start_time": "2023-02-19T19:26:02.329Z"
   },
   {
    "duration": 1158,
    "start_time": "2023-02-19T19:27:07.178Z"
   },
   {
    "duration": 6,
    "start_time": "2023-02-19T19:27:09.561Z"
   },
   {
    "duration": 60,
    "start_time": "2023-02-19T20:53:56.126Z"
   },
   {
    "duration": 5,
    "start_time": "2023-02-19T20:53:58.298Z"
   },
   {
    "duration": 1367,
    "start_time": "2023-02-20T13:53:06.230Z"
   },
   {
    "duration": 4,
    "start_time": "2023-02-20T13:53:11.058Z"
   },
   {
    "duration": 11366,
    "start_time": "2023-02-20T13:53:13.358Z"
   },
   {
    "duration": 168,
    "start_time": "2023-02-20T13:53:24.726Z"
   },
   {
    "duration": 8,
    "start_time": "2023-02-20T13:53:26.423Z"
   },
   {
    "duration": 29,
    "start_time": "2023-02-20T13:53:52.714Z"
   },
   {
    "duration": 5,
    "start_time": "2023-02-20T13:53:54.611Z"
   },
   {
    "duration": 121,
    "start_time": "2023-02-20T14:07:23.659Z"
   },
   {
    "duration": 663,
    "start_time": "2023-02-20T14:07:25.587Z"
   },
   {
    "duration": 5,
    "start_time": "2023-02-20T14:07:27.680Z"
   },
   {
    "duration": 768,
    "start_time": "2023-02-20T14:07:45.253Z"
   },
   {
    "duration": 5,
    "start_time": "2023-02-20T14:07:49.162Z"
   },
   {
    "duration": 204,
    "start_time": "2023-02-20T14:09:28.687Z"
   },
   {
    "duration": 5,
    "start_time": "2023-02-20T14:09:30.996Z"
   },
   {
    "duration": 137,
    "start_time": "2023-02-20T14:09:46.303Z"
   },
   {
    "duration": 124,
    "start_time": "2023-02-20T14:10:00.749Z"
   },
   {
    "duration": 461,
    "start_time": "2023-02-20T14:10:47.709Z"
   },
   {
    "duration": 10,
    "start_time": "2023-02-20T14:10:50.344Z"
   },
   {
    "duration": 206,
    "start_time": "2023-02-20T14:11:07.452Z"
   },
   {
    "duration": 5,
    "start_time": "2023-02-20T14:11:09.794Z"
   },
   {
    "duration": 316,
    "start_time": "2023-02-20T14:11:57.614Z"
   },
   {
    "duration": 6,
    "start_time": "2023-02-20T14:11:59.898Z"
   },
   {
    "duration": 122,
    "start_time": "2023-02-20T14:12:26.162Z"
   },
   {
    "duration": 219,
    "start_time": "2023-02-20T14:13:01.754Z"
   },
   {
    "duration": 3,
    "start_time": "2023-02-20T14:13:04.390Z"
   },
   {
    "duration": 135,
    "start_time": "2023-02-20T14:23:06.990Z"
   },
   {
    "duration": 155,
    "start_time": "2023-02-20T14:25:47.328Z"
   },
   {
    "duration": 5,
    "start_time": "2023-02-20T14:25:49.525Z"
   },
   {
    "duration": 447,
    "start_time": "2023-02-20T14:33:40.687Z"
   },
   {
    "duration": 7,
    "start_time": "2023-02-20T14:33:43.074Z"
   },
   {
    "duration": 251,
    "start_time": "2023-02-20T14:35:37.500Z"
   },
   {
    "duration": 5,
    "start_time": "2023-02-20T14:35:39.581Z"
   },
   {
    "duration": 245,
    "start_time": "2023-02-20T14:35:57.756Z"
   },
   {
    "duration": 7,
    "start_time": "2023-02-20T14:36:00.197Z"
   },
   {
    "duration": 249,
    "start_time": "2023-02-20T14:36:47.935Z"
   },
   {
    "duration": 5,
    "start_time": "2023-02-20T14:36:49.998Z"
   },
   {
    "duration": 260,
    "start_time": "2023-02-20T14:37:15.905Z"
   },
   {
    "duration": 5,
    "start_time": "2023-02-20T14:37:18.859Z"
   },
   {
    "duration": 245,
    "start_time": "2023-02-20T14:37:36.436Z"
   },
   {
    "duration": 5,
    "start_time": "2023-02-20T14:37:39.062Z"
   },
   {
    "duration": 245,
    "start_time": "2023-02-20T14:38:27.939Z"
   },
   {
    "duration": 6,
    "start_time": "2023-02-20T14:38:30.094Z"
   },
   {
    "duration": 400,
    "start_time": "2023-02-20T14:42:00.154Z"
   },
   {
    "duration": 9,
    "start_time": "2023-02-20T14:42:02.011Z"
   },
   {
    "duration": 464,
    "start_time": "2023-02-20T14:43:41.957Z"
   },
   {
    "duration": 6,
    "start_time": "2023-02-20T14:43:44.586Z"
   },
   {
    "duration": 404,
    "start_time": "2023-02-20T14:45:08.194Z"
   },
   {
    "duration": 6,
    "start_time": "2023-02-20T14:45:09.936Z"
   },
   {
    "duration": 556,
    "start_time": "2023-02-20T14:45:23.721Z"
   },
   {
    "duration": 383,
    "start_time": "2023-02-20T14:45:43.582Z"
   },
   {
    "duration": 426,
    "start_time": "2023-02-20T14:46:01.901Z"
   },
   {
    "duration": 9,
    "start_time": "2023-02-20T14:46:04.363Z"
   },
   {
    "duration": 195,
    "start_time": "2023-02-20T14:46:16.423Z"
   },
   {
    "duration": 5,
    "start_time": "2023-02-20T14:46:18.451Z"
   },
   {
    "duration": 205,
    "start_time": "2023-02-20T14:46:31.197Z"
   },
   {
    "duration": 5,
    "start_time": "2023-02-20T14:46:34.166Z"
   },
   {
    "duration": 497,
    "start_time": "2023-02-20T14:47:05.982Z"
   },
   {
    "duration": 7,
    "start_time": "2023-02-20T14:47:09.702Z"
   },
   {
    "duration": 119,
    "start_time": "2023-02-20T14:47:40.236Z"
   },
   {
    "duration": 187,
    "start_time": "2023-02-20T14:48:00.352Z"
   },
   {
    "duration": 197,
    "start_time": "2023-02-20T14:48:11.593Z"
   },
   {
    "duration": 6,
    "start_time": "2023-02-20T14:48:14.263Z"
   },
   {
    "duration": 194,
    "start_time": "2023-02-20T14:48:35.843Z"
   },
   {
    "duration": 5,
    "start_time": "2023-02-20T14:48:38.218Z"
   },
   {
    "duration": 198,
    "start_time": "2023-02-20T14:50:50.494Z"
   },
   {
    "duration": 5,
    "start_time": "2023-02-20T14:50:52.149Z"
   },
   {
    "duration": 192,
    "start_time": "2023-02-20T14:51:06.261Z"
   },
   {
    "duration": 5,
    "start_time": "2023-02-20T14:51:08.069Z"
   },
   {
    "duration": 1136,
    "start_time": "2023-02-20T14:53:06.741Z"
   },
   {
    "duration": 7,
    "start_time": "2023-02-20T14:53:08.468Z"
   },
   {
    "duration": 298,
    "start_time": "2023-02-20T14:53:30.851Z"
   },
   {
    "duration": 6,
    "start_time": "2023-02-20T14:53:32.698Z"
   },
   {
    "duration": 193,
    "start_time": "2023-02-20T14:53:40.036Z"
   },
   {
    "duration": 5,
    "start_time": "2023-02-20T14:53:41.583Z"
   },
   {
    "duration": 192,
    "start_time": "2023-02-20T14:53:50.816Z"
   },
   {
    "duration": 6,
    "start_time": "2023-02-20T14:53:53.292Z"
   },
   {
    "duration": 478,
    "start_time": "2023-02-20T14:58:48.904Z"
   },
   {
    "duration": 6,
    "start_time": "2023-02-20T14:58:51.554Z"
   },
   {
    "duration": 168,
    "start_time": "2023-02-20T15:07:10.129Z"
   },
   {
    "duration": 6,
    "start_time": "2023-02-20T15:07:12.181Z"
   },
   {
    "duration": 119,
    "start_time": "2023-02-20T15:08:25.192Z"
   },
   {
    "duration": 6,
    "start_time": "2023-02-20T15:08:26.889Z"
   },
   {
    "duration": 120,
    "start_time": "2023-02-20T15:09:55.336Z"
   },
   {
    "duration": 5,
    "start_time": "2023-02-20T15:09:57.347Z"
   },
   {
    "duration": 120,
    "start_time": "2023-02-20T16:35:33.849Z"
   },
   {
    "duration": 131,
    "start_time": "2023-02-20T16:35:38.224Z"
   },
   {
    "duration": 122,
    "start_time": "2023-02-20T16:36:09.413Z"
   },
   {
    "duration": 1061,
    "start_time": "2023-02-20T16:36:33.227Z"
   },
   {
    "duration": 6,
    "start_time": "2023-02-20T16:36:42.183Z"
   },
   {
    "duration": 3,
    "start_time": "2023-02-20T17:34:43.947Z"
   },
   {
    "duration": 505,
    "start_time": "2023-02-20T17:35:07.616Z"
   },
   {
    "duration": 123,
    "start_time": "2023-02-20T17:35:43.785Z"
   },
   {
    "duration": 135,
    "start_time": "2023-02-20T17:36:18.618Z"
   },
   {
    "duration": 230,
    "start_time": "2023-02-20T17:40:14.539Z"
   },
   {
    "duration": 242,
    "start_time": "2023-02-20T17:40:39.523Z"
   },
   {
    "duration": 5,
    "start_time": "2023-02-20T17:40:53.616Z"
   },
   {
    "duration": 6,
    "start_time": "2023-02-20T17:41:24.702Z"
   },
   {
    "duration": 495,
    "start_time": "2023-02-20T17:54:43.515Z"
   },
   {
    "duration": 371,
    "start_time": "2023-02-20T17:54:55.825Z"
   },
   {
    "duration": 372,
    "start_time": "2023-02-20T17:59:54.027Z"
   },
   {
    "duration": 381,
    "start_time": "2023-02-20T18:00:10.484Z"
   },
   {
    "duration": 358,
    "start_time": "2023-02-20T18:00:25.244Z"
   },
   {
    "duration": 118,
    "start_time": "2023-02-20T18:35:26.624Z"
   },
   {
    "duration": 5,
    "start_time": "2023-02-20T18:35:43.856Z"
   },
   {
    "duration": 128,
    "start_time": "2023-02-20T18:37:24.176Z"
   },
   {
    "duration": 119,
    "start_time": "2023-02-20T18:37:36.798Z"
   },
   {
    "duration": 5,
    "start_time": "2023-02-20T18:37:38.857Z"
   },
   {
    "duration": 9,
    "start_time": "2023-02-20T18:49:39.431Z"
   },
   {
    "duration": 74,
    "start_time": "2023-02-20T18:49:56.818Z"
   },
   {
    "duration": 342,
    "start_time": "2023-02-20T18:50:02.480Z"
   },
   {
    "duration": 33,
    "start_time": "2023-02-20T18:52:00.724Z"
   },
   {
    "duration": 183,
    "start_time": "2023-02-20T19:10:35.710Z"
   },
   {
    "duration": 137,
    "start_time": "2023-02-20T19:10:56.355Z"
   },
   {
    "duration": 251,
    "start_time": "2023-02-20T19:11:43.636Z"
   },
   {
    "duration": 6,
    "start_time": "2023-02-20T19:12:33.036Z"
   },
   {
    "duration": 3,
    "start_time": "2023-02-20T19:43:17.707Z"
   },
   {
    "duration": 1391,
    "start_time": "2023-02-20T19:47:51.316Z"
   },
   {
    "duration": 4,
    "start_time": "2023-02-20T19:47:52.709Z"
   },
   {
    "duration": 11029,
    "start_time": "2023-02-20T19:47:52.714Z"
   },
   {
    "duration": 39,
    "start_time": "2023-02-20T19:48:03.744Z"
   },
   {
    "duration": 13,
    "start_time": "2023-02-20T19:48:03.784Z"
   },
   {
    "duration": 116,
    "start_time": "2023-02-20T19:48:03.799Z"
   },
   {
    "duration": 4,
    "start_time": "2023-02-20T19:48:03.917Z"
   },
   {
    "duration": 134,
    "start_time": "2023-02-20T19:48:03.923Z"
   },
   {
    "duration": 4,
    "start_time": "2023-02-20T19:48:04.059Z"
   },
   {
    "duration": 112,
    "start_time": "2023-02-20T19:48:04.065Z"
   },
   {
    "duration": 5,
    "start_time": "2023-02-20T19:48:04.178Z"
   },
   {
    "duration": 1190,
    "start_time": "2023-02-20T19:48:04.184Z"
   },
   {
    "duration": 5,
    "start_time": "2023-02-20T19:48:05.375Z"
   },
   {
    "duration": 67,
    "start_time": "2023-02-20T19:48:05.381Z"
   },
   {
    "duration": 5,
    "start_time": "2023-02-20T19:48:05.449Z"
   },
   {
    "duration": 30,
    "start_time": "2023-02-20T19:48:05.455Z"
   },
   {
    "duration": 5,
    "start_time": "2023-02-20T19:48:05.486Z"
   },
   {
    "duration": 931,
    "start_time": "2023-02-20T19:48:05.492Z"
   },
   {
    "duration": 6,
    "start_time": "2023-02-20T19:48:06.425Z"
   },
   {
    "duration": 259,
    "start_time": "2023-02-20T19:48:06.432Z"
   },
   {
    "duration": 5,
    "start_time": "2023-02-20T19:48:06.693Z"
   },
   {
    "duration": 426,
    "start_time": "2023-02-20T19:48:06.700Z"
   },
   {
    "duration": 2,
    "start_time": "2023-02-20T19:48:07.128Z"
   },
   {
    "duration": 120,
    "start_time": "2023-02-20T19:48:07.137Z"
   },
   {
    "duration": 5,
    "start_time": "2023-02-20T19:48:07.258Z"
   },
   {
    "duration": 312,
    "start_time": "2023-02-20T19:48:07.264Z"
   },
   {
    "duration": 111,
    "start_time": "2023-02-20T19:48:07.578Z"
   },
   {
    "duration": 5,
    "start_time": "2023-02-20T19:48:07.692Z"
   },
   {
    "duration": 1279,
    "start_time": "2023-02-20T19:50:30.874Z"
   },
   {
    "duration": 5,
    "start_time": "2023-02-20T19:50:32.935Z"
   },
   {
    "duration": 28,
    "start_time": "2023-02-20T19:54:19.436Z"
   },
   {
    "duration": 4,
    "start_time": "2023-02-20T19:54:21.343Z"
   },
   {
    "duration": 1314,
    "start_time": "2023-02-20T20:00:01.589Z"
   },
   {
    "duration": 3,
    "start_time": "2023-02-20T20:00:02.905Z"
   },
   {
    "duration": 11254,
    "start_time": "2023-02-20T20:00:02.910Z"
   },
   {
    "duration": 32,
    "start_time": "2023-02-20T20:00:14.167Z"
   },
   {
    "duration": 14,
    "start_time": "2023-02-20T20:00:14.201Z"
   },
   {
    "duration": 113,
    "start_time": "2023-02-20T20:00:14.217Z"
   },
   {
    "duration": 5,
    "start_time": "2023-02-20T20:00:14.332Z"
   },
   {
    "duration": 136,
    "start_time": "2023-02-20T20:00:14.339Z"
   },
   {
    "duration": 5,
    "start_time": "2023-02-20T20:00:14.476Z"
   },
   {
    "duration": 110,
    "start_time": "2023-02-20T20:00:14.484Z"
   },
   {
    "duration": 5,
    "start_time": "2023-02-20T20:00:14.595Z"
   },
   {
    "duration": 1247,
    "start_time": "2023-02-20T20:00:14.601Z"
   },
   {
    "duration": 6,
    "start_time": "2023-02-20T20:00:15.850Z"
   },
   {
    "duration": 67,
    "start_time": "2023-02-20T20:00:15.857Z"
   },
   {
    "duration": 5,
    "start_time": "2023-02-20T20:00:15.925Z"
   },
   {
    "duration": 32,
    "start_time": "2023-02-20T20:00:15.932Z"
   },
   {
    "duration": 4,
    "start_time": "2023-02-20T20:00:15.966Z"
   },
   {
    "duration": 908,
    "start_time": "2023-02-20T20:00:15.972Z"
   },
   {
    "duration": 7,
    "start_time": "2023-02-20T20:00:16.882Z"
   },
   {
    "duration": 281,
    "start_time": "2023-02-20T20:00:16.890Z"
   },
   {
    "duration": 5,
    "start_time": "2023-02-20T20:00:17.173Z"
   },
   {
    "duration": 433,
    "start_time": "2023-02-20T20:00:17.180Z"
   },
   {
    "duration": 2,
    "start_time": "2023-02-20T20:00:17.615Z"
   },
   {
    "duration": 124,
    "start_time": "2023-02-20T20:00:17.619Z"
   },
   {
    "duration": 6,
    "start_time": "2023-02-20T20:00:17.744Z"
   },
   {
    "duration": 316,
    "start_time": "2023-02-20T20:00:17.751Z"
   },
   {
    "duration": 121,
    "start_time": "2023-02-20T20:00:18.069Z"
   },
   {
    "duration": 7,
    "start_time": "2023-02-20T20:00:18.192Z"
   },
   {
    "duration": 1324,
    "start_time": "2023-02-20T20:01:15.222Z"
   },
   {
    "duration": 3,
    "start_time": "2023-02-20T20:01:16.547Z"
   },
   {
    "duration": 11260,
    "start_time": "2023-02-20T20:01:16.551Z"
   },
   {
    "duration": 35,
    "start_time": "2023-02-20T20:01:27.813Z"
   },
   {
    "duration": 12,
    "start_time": "2023-02-20T20:01:27.850Z"
   },
   {
    "duration": 111,
    "start_time": "2023-02-20T20:01:27.864Z"
   },
   {
    "duration": 4,
    "start_time": "2023-02-20T20:01:27.977Z"
   },
   {
    "duration": 139,
    "start_time": "2023-02-20T20:01:27.983Z"
   },
   {
    "duration": 5,
    "start_time": "2023-02-20T20:01:28.123Z"
   },
   {
    "duration": 103,
    "start_time": "2023-02-20T20:01:28.131Z"
   },
   {
    "duration": 4,
    "start_time": "2023-02-20T20:01:28.236Z"
   },
   {
    "duration": 1146,
    "start_time": "2023-02-20T20:01:28.242Z"
   },
   {
    "duration": 5,
    "start_time": "2023-02-20T20:01:29.390Z"
   },
   {
    "duration": 77,
    "start_time": "2023-02-20T20:01:29.396Z"
   },
   {
    "duration": 5,
    "start_time": "2023-02-20T20:01:29.474Z"
   },
   {
    "duration": 30,
    "start_time": "2023-02-20T20:01:29.480Z"
   },
   {
    "duration": 4,
    "start_time": "2023-02-20T20:01:29.512Z"
   },
   {
    "duration": 903,
    "start_time": "2023-02-20T20:01:29.517Z"
   },
   {
    "duration": 7,
    "start_time": "2023-02-20T20:01:30.421Z"
   },
   {
    "duration": 289,
    "start_time": "2023-02-20T20:01:30.430Z"
   },
   {
    "duration": 5,
    "start_time": "2023-02-20T20:01:30.720Z"
   },
   {
    "duration": 475,
    "start_time": "2023-02-20T20:01:30.727Z"
   },
   {
    "duration": 2,
    "start_time": "2023-02-20T20:01:31.204Z"
   },
   {
    "duration": 136,
    "start_time": "2023-02-20T20:01:31.208Z"
   },
   {
    "duration": 6,
    "start_time": "2023-02-20T20:01:31.345Z"
   },
   {
    "duration": 331,
    "start_time": "2023-02-20T20:01:31.353Z"
   },
   {
    "duration": 119,
    "start_time": "2023-02-20T20:01:31.686Z"
   },
   {
    "duration": 6,
    "start_time": "2023-02-20T20:01:31.809Z"
   },
   {
    "duration": 1461,
    "start_time": "2023-02-21T14:57:34.807Z"
   },
   {
    "duration": 3,
    "start_time": "2023-02-21T14:57:36.270Z"
   },
   {
    "duration": 5503,
    "start_time": "2023-02-21T14:57:36.274Z"
   },
   {
    "duration": 218,
    "start_time": "2023-02-21T14:57:41.779Z"
   },
   {
    "duration": 15,
    "start_time": "2023-02-21T14:57:41.999Z"
   },
   {
    "duration": 160,
    "start_time": "2023-02-21T14:57:42.016Z"
   },
   {
    "duration": 6,
    "start_time": "2023-02-21T14:57:42.178Z"
   },
   {
    "duration": 178,
    "start_time": "2023-02-21T14:57:42.185Z"
   },
   {
    "duration": 6,
    "start_time": "2023-02-21T14:57:42.365Z"
   },
   {
    "duration": 146,
    "start_time": "2023-02-21T14:57:42.374Z"
   },
   {
    "duration": 6,
    "start_time": "2023-02-21T14:57:42.523Z"
   },
   {
    "duration": 1347,
    "start_time": "2023-02-21T14:57:42.531Z"
   },
   {
    "duration": 5,
    "start_time": "2023-02-21T14:57:43.880Z"
   },
   {
    "duration": 116,
    "start_time": "2023-02-21T14:57:43.887Z"
   },
   {
    "duration": 5,
    "start_time": "2023-02-21T14:57:44.005Z"
   },
   {
    "duration": 92,
    "start_time": "2023-02-21T14:57:44.012Z"
   },
   {
    "duration": 4,
    "start_time": "2023-02-21T14:57:44.106Z"
   },
   {
    "duration": 1011,
    "start_time": "2023-02-21T14:57:44.112Z"
   },
   {
    "duration": 7,
    "start_time": "2023-02-21T14:57:45.125Z"
   },
   {
    "duration": 325,
    "start_time": "2023-02-21T14:57:45.138Z"
   },
   {
    "duration": 6,
    "start_time": "2023-02-21T14:57:45.465Z"
   },
   {
    "duration": 482,
    "start_time": "2023-02-21T14:57:45.472Z"
   },
   {
    "duration": 3,
    "start_time": "2023-02-21T14:57:45.956Z"
   },
   {
    "duration": 163,
    "start_time": "2023-02-21T14:57:45.960Z"
   },
   {
    "duration": 5,
    "start_time": "2023-02-21T14:57:46.125Z"
   },
   {
    "duration": 446,
    "start_time": "2023-02-21T14:57:46.131Z"
   },
   {
    "duration": 142,
    "start_time": "2023-02-21T14:57:46.579Z"
   },
   {
    "duration": 6,
    "start_time": "2023-02-21T14:57:46.724Z"
   },
   {
    "duration": 7,
    "start_time": "2023-02-21T15:09:31.865Z"
   }
  ],
  "colab": {
   "name": "AdvansedSQLProjectTemplate.ipynb",
   "provenance": []
  },
  "kernelspec": {
   "display_name": "Python 3 (ipykernel)",
   "language": "python",
   "name": "python3"
  },
  "language_info": {
   "codemirror_mode": {
    "name": "ipython",
    "version": 3
   },
   "file_extension": ".py",
   "mimetype": "text/x-python",
   "name": "python",
   "nbconvert_exporter": "python",
   "pygments_lexer": "ipython3",
   "version": "3.9.13"
  },
  "toc": {
   "base_numbering": 1,
   "nav_menu": {},
   "number_sections": true,
   "sideBar": true,
   "skip_h1_title": true,
   "title_cell": "Table of Contents",
   "title_sidebar": "Contents",
   "toc_cell": false,
   "toc_position": {},
   "toc_section_display": true,
   "toc_window_display": true
  }
 },
 "nbformat": 4,
 "nbformat_minor": 1
}
