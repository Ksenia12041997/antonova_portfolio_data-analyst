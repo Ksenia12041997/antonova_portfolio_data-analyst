{
 "cells": [
  {
   "cell_type": "markdown",
   "metadata": {},
   "source": [
    "# Анализ базы данных сервиса для чтения книг по подписке"
   ]
  },
  {
   "cell_type": "markdown",
   "metadata": {},
   "source": [
    "**Вводная информация**\n",
    "\n",
    "Наша компания решила быть на волне тенденций и купила крупный сервис для чтения книг по подписке. \n",
    "\n",
    "Цель — проанализировать базу данных. В ней — информация о книгах, издательствах, авторах, а также пользовательские обзоры книг. Эти данные помогут сформулировать ценностное предложение для нового продукта.\n",
    "\n",
    "Задачи исследования:\n",
    "- исследовать таблицы;\n",
    "- выполнить задания;\n",
    "- сформулировать выводы."
   ]
  },
  {
   "cell_type": "code",
   "execution_count": 1,
   "metadata": {},
   "outputs": [],
   "source": [
    "# импортируем библиотеки\n",
    "import pandas as pd\n",
    "from sqlalchemy import text, create_engine "
   ]
  },
  {
   "cell_type": "markdown",
   "metadata": {},
   "source": [
    "## Исследование данных"
   ]
  },
  {
   "cell_type": "markdown",
   "metadata": {},
   "source": [
    "**books**"
   ]
  },
  {
   "cell_type": "code",
   "execution_count": 5,
   "metadata": {},
   "outputs": [],
   "source": [
    "# получаем сырые данные\n",
    "\n",
    "query = '''\n",
    "            SELECT * FROM books\n",
    "        '''\n",
    "books = pd.io.sql.read_sql(query, con = engine)"
   ]
  },
  {
   "cell_type": "code",
   "execution_count": 6,
   "metadata": {},
   "outputs": [
    {
     "data": {
      "text/html": [
       "<div>\n",
       "<style scoped>\n",
       "    .dataframe tbody tr th:only-of-type {\n",
       "        vertical-align: middle;\n",
       "    }\n",
       "\n",
       "    .dataframe tbody tr th {\n",
       "        vertical-align: top;\n",
       "    }\n",
       "\n",
       "    .dataframe thead th {\n",
       "        text-align: right;\n",
       "    }\n",
       "</style>\n",
       "<table border=\"1\" class=\"dataframe\">\n",
       "  <thead>\n",
       "    <tr style=\"text-align: right;\">\n",
       "      <th></th>\n",
       "      <th>book_id</th>\n",
       "      <th>author_id</th>\n",
       "      <th>title</th>\n",
       "      <th>num_pages</th>\n",
       "      <th>publication_date</th>\n",
       "      <th>publisher_id</th>\n",
       "    </tr>\n",
       "  </thead>\n",
       "  <tbody>\n",
       "    <tr>\n",
       "      <th>0</th>\n",
       "      <td>1</td>\n",
       "      <td>546</td>\n",
       "      <td>'Salem's Lot</td>\n",
       "      <td>594</td>\n",
       "      <td>2005-11-01</td>\n",
       "      <td>93</td>\n",
       "    </tr>\n",
       "    <tr>\n",
       "      <th>1</th>\n",
       "      <td>2</td>\n",
       "      <td>465</td>\n",
       "      <td>1 000 Places to See Before You Die</td>\n",
       "      <td>992</td>\n",
       "      <td>2003-05-22</td>\n",
       "      <td>336</td>\n",
       "    </tr>\n",
       "    <tr>\n",
       "      <th>2</th>\n",
       "      <td>3</td>\n",
       "      <td>407</td>\n",
       "      <td>13 Little Blue Envelopes (Little Blue Envelope...</td>\n",
       "      <td>322</td>\n",
       "      <td>2010-12-21</td>\n",
       "      <td>135</td>\n",
       "    </tr>\n",
       "    <tr>\n",
       "      <th>3</th>\n",
       "      <td>4</td>\n",
       "      <td>82</td>\n",
       "      <td>1491: New Revelations of the Americas Before C...</td>\n",
       "      <td>541</td>\n",
       "      <td>2006-10-10</td>\n",
       "      <td>309</td>\n",
       "    </tr>\n",
       "    <tr>\n",
       "      <th>4</th>\n",
       "      <td>5</td>\n",
       "      <td>125</td>\n",
       "      <td>1776</td>\n",
       "      <td>386</td>\n",
       "      <td>2006-07-04</td>\n",
       "      <td>268</td>\n",
       "    </tr>\n",
       "  </tbody>\n",
       "</table>\n",
       "</div>"
      ],
      "text/plain": [
       "   book_id  author_id                                              title  \\\n",
       "0        1        546                                       'Salem's Lot   \n",
       "1        2        465                 1 000 Places to See Before You Die   \n",
       "2        3        407  13 Little Blue Envelopes (Little Blue Envelope...   \n",
       "3        4         82  1491: New Revelations of the Americas Before C...   \n",
       "4        5        125                                               1776   \n",
       "\n",
       "   num_pages publication_date  publisher_id  \n",
       "0        594       2005-11-01            93  \n",
       "1        992       2003-05-22           336  \n",
       "2        322       2010-12-21           135  \n",
       "3        541       2006-10-10           309  \n",
       "4        386       2006-07-04           268  "
      ]
     },
     "execution_count": 6,
     "metadata": {},
     "output_type": "execute_result"
    }
   ],
   "source": [
    "books.head()"
   ]
  },
  {
   "cell_type": "code",
   "execution_count": 7,
   "metadata": {
    "scrolled": true
   },
   "outputs": [
    {
     "name": "stdout",
     "output_type": "stream",
     "text": [
      "<class 'pandas.core.frame.DataFrame'>\n",
      "RangeIndex: 1000 entries, 0 to 999\n",
      "Data columns (total 6 columns):\n",
      " #   Column            Non-Null Count  Dtype \n",
      "---  ------            --------------  ----- \n",
      " 0   book_id           1000 non-null   int64 \n",
      " 1   author_id         1000 non-null   int64 \n",
      " 2   title             1000 non-null   object\n",
      " 3   num_pages         1000 non-null   int64 \n",
      " 4   publication_date  1000 non-null   object\n",
      " 5   publisher_id      1000 non-null   int64 \n",
      "dtypes: int64(4), object(2)\n",
      "memory usage: 47.0+ KB\n"
     ]
    }
   ],
   "source": [
    "books.info()"
   ]
  },
  {
   "cell_type": "markdown",
   "metadata": {},
   "source": [
    "В таблице 1000 строк, пропусков не обнаружено."
   ]
  },
  {
   "cell_type": "markdown",
   "metadata": {},
   "source": [
    "**authors**"
   ]
  },
  {
   "cell_type": "code",
   "execution_count": 8,
   "metadata": {},
   "outputs": [],
   "source": [
    "# получаем сырые данные\n",
    "\n",
    "query = '''\n",
    "            SELECT * FROM authors\n",
    "        '''\n",
    "authors = pd.io.sql.read_sql(query, con = engine)"
   ]
  },
  {
   "cell_type": "code",
   "execution_count": 9,
   "metadata": {
    "scrolled": true
   },
   "outputs": [
    {
     "data": {
      "text/html": [
       "<div>\n",
       "<style scoped>\n",
       "    .dataframe tbody tr th:only-of-type {\n",
       "        vertical-align: middle;\n",
       "    }\n",
       "\n",
       "    .dataframe tbody tr th {\n",
       "        vertical-align: top;\n",
       "    }\n",
       "\n",
       "    .dataframe thead th {\n",
       "        text-align: right;\n",
       "    }\n",
       "</style>\n",
       "<table border=\"1\" class=\"dataframe\">\n",
       "  <thead>\n",
       "    <tr style=\"text-align: right;\">\n",
       "      <th></th>\n",
       "      <th>author_id</th>\n",
       "      <th>author</th>\n",
       "    </tr>\n",
       "  </thead>\n",
       "  <tbody>\n",
       "    <tr>\n",
       "      <th>0</th>\n",
       "      <td>1</td>\n",
       "      <td>A.S. Byatt</td>\n",
       "    </tr>\n",
       "    <tr>\n",
       "      <th>1</th>\n",
       "      <td>2</td>\n",
       "      <td>Aesop/Laura Harris/Laura Gibbs</td>\n",
       "    </tr>\n",
       "    <tr>\n",
       "      <th>2</th>\n",
       "      <td>3</td>\n",
       "      <td>Agatha Christie</td>\n",
       "    </tr>\n",
       "    <tr>\n",
       "      <th>3</th>\n",
       "      <td>4</td>\n",
       "      <td>Alan Brennert</td>\n",
       "    </tr>\n",
       "    <tr>\n",
       "      <th>4</th>\n",
       "      <td>5</td>\n",
       "      <td>Alan Moore/David   Lloyd</td>\n",
       "    </tr>\n",
       "  </tbody>\n",
       "</table>\n",
       "</div>"
      ],
      "text/plain": [
       "   author_id                          author\n",
       "0          1                      A.S. Byatt\n",
       "1          2  Aesop/Laura Harris/Laura Gibbs\n",
       "2          3                 Agatha Christie\n",
       "3          4                   Alan Brennert\n",
       "4          5        Alan Moore/David   Lloyd"
      ]
     },
     "execution_count": 9,
     "metadata": {},
     "output_type": "execute_result"
    }
   ],
   "source": [
    "authors.head()"
   ]
  },
  {
   "cell_type": "code",
   "execution_count": 10,
   "metadata": {},
   "outputs": [
    {
     "name": "stdout",
     "output_type": "stream",
     "text": [
      "<class 'pandas.core.frame.DataFrame'>\n",
      "RangeIndex: 636 entries, 0 to 635\n",
      "Data columns (total 2 columns):\n",
      " #   Column     Non-Null Count  Dtype \n",
      "---  ------     --------------  ----- \n",
      " 0   author_id  636 non-null    int64 \n",
      " 1   author     636 non-null    object\n",
      "dtypes: int64(1), object(1)\n",
      "memory usage: 10.1+ KB\n"
     ]
    }
   ],
   "source": [
    "authors.info()"
   ]
  },
  {
   "cell_type": "markdown",
   "metadata": {},
   "source": [
    "В таблице 636 строк, пропусков не обнаружено."
   ]
  },
  {
   "cell_type": "markdown",
   "metadata": {},
   "source": [
    "**publishers**"
   ]
  },
  {
   "cell_type": "code",
   "execution_count": 11,
   "metadata": {},
   "outputs": [],
   "source": [
    "# получаем сырые данные\n",
    "\n",
    "query = '''\n",
    "            SELECT * FROM publishers\n",
    "        '''\n",
    "publishers = pd.io.sql.read_sql(query, con = engine)"
   ]
  },
  {
   "cell_type": "code",
   "execution_count": 12,
   "metadata": {},
   "outputs": [
    {
     "data": {
      "text/html": [
       "<div>\n",
       "<style scoped>\n",
       "    .dataframe tbody tr th:only-of-type {\n",
       "        vertical-align: middle;\n",
       "    }\n",
       "\n",
       "    .dataframe tbody tr th {\n",
       "        vertical-align: top;\n",
       "    }\n",
       "\n",
       "    .dataframe thead th {\n",
       "        text-align: right;\n",
       "    }\n",
       "</style>\n",
       "<table border=\"1\" class=\"dataframe\">\n",
       "  <thead>\n",
       "    <tr style=\"text-align: right;\">\n",
       "      <th></th>\n",
       "      <th>publisher_id</th>\n",
       "      <th>publisher</th>\n",
       "    </tr>\n",
       "  </thead>\n",
       "  <tbody>\n",
       "    <tr>\n",
       "      <th>0</th>\n",
       "      <td>1</td>\n",
       "      <td>Ace</td>\n",
       "    </tr>\n",
       "    <tr>\n",
       "      <th>1</th>\n",
       "      <td>2</td>\n",
       "      <td>Ace Book</td>\n",
       "    </tr>\n",
       "    <tr>\n",
       "      <th>2</th>\n",
       "      <td>3</td>\n",
       "      <td>Ace Books</td>\n",
       "    </tr>\n",
       "    <tr>\n",
       "      <th>3</th>\n",
       "      <td>4</td>\n",
       "      <td>Ace Hardcover</td>\n",
       "    </tr>\n",
       "    <tr>\n",
       "      <th>4</th>\n",
       "      <td>5</td>\n",
       "      <td>Addison Wesley Publishing Company</td>\n",
       "    </tr>\n",
       "  </tbody>\n",
       "</table>\n",
       "</div>"
      ],
      "text/plain": [
       "   publisher_id                          publisher\n",
       "0             1                                Ace\n",
       "1             2                           Ace Book\n",
       "2             3                          Ace Books\n",
       "3             4                      Ace Hardcover\n",
       "4             5  Addison Wesley Publishing Company"
      ]
     },
     "execution_count": 12,
     "metadata": {},
     "output_type": "execute_result"
    }
   ],
   "source": [
    "publishers.head()"
   ]
  },
  {
   "cell_type": "code",
   "execution_count": 13,
   "metadata": {
    "scrolled": true
   },
   "outputs": [
    {
     "name": "stdout",
     "output_type": "stream",
     "text": [
      "<class 'pandas.core.frame.DataFrame'>\n",
      "RangeIndex: 340 entries, 0 to 339\n",
      "Data columns (total 2 columns):\n",
      " #   Column        Non-Null Count  Dtype \n",
      "---  ------        --------------  ----- \n",
      " 0   publisher_id  340 non-null    int64 \n",
      " 1   publisher     340 non-null    object\n",
      "dtypes: int64(1), object(1)\n",
      "memory usage: 5.4+ KB\n"
     ]
    }
   ],
   "source": [
    "publishers.info()"
   ]
  },
  {
   "cell_type": "markdown",
   "metadata": {},
   "source": [
    "В таблице 340 строк, пропусков не обнаружено."
   ]
  },
  {
   "cell_type": "markdown",
   "metadata": {},
   "source": [
    "**ratings**"
   ]
  },
  {
   "cell_type": "code",
   "execution_count": 14,
   "metadata": {},
   "outputs": [],
   "source": [
    "# получаем сырые данные\n",
    "\n",
    "query = '''\n",
    "            SELECT * FROM ratings\n",
    "        '''\n",
    "ratings = pd.io.sql.read_sql(query, con = engine)"
   ]
  },
  {
   "cell_type": "code",
   "execution_count": 15,
   "metadata": {
    "scrolled": true
   },
   "outputs": [
    {
     "data": {
      "text/html": [
       "<div>\n",
       "<style scoped>\n",
       "    .dataframe tbody tr th:only-of-type {\n",
       "        vertical-align: middle;\n",
       "    }\n",
       "\n",
       "    .dataframe tbody tr th {\n",
       "        vertical-align: top;\n",
       "    }\n",
       "\n",
       "    .dataframe thead th {\n",
       "        text-align: right;\n",
       "    }\n",
       "</style>\n",
       "<table border=\"1\" class=\"dataframe\">\n",
       "  <thead>\n",
       "    <tr style=\"text-align: right;\">\n",
       "      <th></th>\n",
       "      <th>rating_id</th>\n",
       "      <th>book_id</th>\n",
       "      <th>username</th>\n",
       "      <th>rating</th>\n",
       "    </tr>\n",
       "  </thead>\n",
       "  <tbody>\n",
       "    <tr>\n",
       "      <th>0</th>\n",
       "      <td>1</td>\n",
       "      <td>1</td>\n",
       "      <td>ryanfranco</td>\n",
       "      <td>4</td>\n",
       "    </tr>\n",
       "    <tr>\n",
       "      <th>1</th>\n",
       "      <td>2</td>\n",
       "      <td>1</td>\n",
       "      <td>grantpatricia</td>\n",
       "      <td>2</td>\n",
       "    </tr>\n",
       "    <tr>\n",
       "      <th>2</th>\n",
       "      <td>3</td>\n",
       "      <td>1</td>\n",
       "      <td>brandtandrea</td>\n",
       "      <td>5</td>\n",
       "    </tr>\n",
       "    <tr>\n",
       "      <th>3</th>\n",
       "      <td>4</td>\n",
       "      <td>2</td>\n",
       "      <td>lorichen</td>\n",
       "      <td>3</td>\n",
       "    </tr>\n",
       "    <tr>\n",
       "      <th>4</th>\n",
       "      <td>5</td>\n",
       "      <td>2</td>\n",
       "      <td>mariokeller</td>\n",
       "      <td>2</td>\n",
       "    </tr>\n",
       "  </tbody>\n",
       "</table>\n",
       "</div>"
      ],
      "text/plain": [
       "   rating_id  book_id       username  rating\n",
       "0          1        1     ryanfranco       4\n",
       "1          2        1  grantpatricia       2\n",
       "2          3        1   brandtandrea       5\n",
       "3          4        2       lorichen       3\n",
       "4          5        2    mariokeller       2"
      ]
     },
     "execution_count": 15,
     "metadata": {},
     "output_type": "execute_result"
    }
   ],
   "source": [
    "ratings.head()"
   ]
  },
  {
   "cell_type": "code",
   "execution_count": 16,
   "metadata": {
    "scrolled": true
   },
   "outputs": [
    {
     "name": "stdout",
     "output_type": "stream",
     "text": [
      "<class 'pandas.core.frame.DataFrame'>\n",
      "RangeIndex: 6456 entries, 0 to 6455\n",
      "Data columns (total 4 columns):\n",
      " #   Column     Non-Null Count  Dtype \n",
      "---  ------     --------------  ----- \n",
      " 0   rating_id  6456 non-null   int64 \n",
      " 1   book_id    6456 non-null   int64 \n",
      " 2   username   6456 non-null   object\n",
      " 3   rating     6456 non-null   int64 \n",
      "dtypes: int64(3), object(1)\n",
      "memory usage: 201.9+ KB\n"
     ]
    }
   ],
   "source": [
    "ratings.info()"
   ]
  },
  {
   "cell_type": "markdown",
   "metadata": {},
   "source": [
    "В таблице 6456 строк, пропусков не обнаружено."
   ]
  },
  {
   "cell_type": "markdown",
   "metadata": {},
   "source": [
    "**reviews**"
   ]
  },
  {
   "cell_type": "code",
   "execution_count": 17,
   "metadata": {},
   "outputs": [],
   "source": [
    "# получаем сырые данные\n",
    "\n",
    "query = '''\n",
    "            SELECT * FROM reviews\n",
    "        '''\n",
    "reviews = pd.io.sql.read_sql(query, con = engine)"
   ]
  },
  {
   "cell_type": "code",
   "execution_count": 18,
   "metadata": {},
   "outputs": [
    {
     "data": {
      "text/html": [
       "<div>\n",
       "<style scoped>\n",
       "    .dataframe tbody tr th:only-of-type {\n",
       "        vertical-align: middle;\n",
       "    }\n",
       "\n",
       "    .dataframe tbody tr th {\n",
       "        vertical-align: top;\n",
       "    }\n",
       "\n",
       "    .dataframe thead th {\n",
       "        text-align: right;\n",
       "    }\n",
       "</style>\n",
       "<table border=\"1\" class=\"dataframe\">\n",
       "  <thead>\n",
       "    <tr style=\"text-align: right;\">\n",
       "      <th></th>\n",
       "      <th>review_id</th>\n",
       "      <th>book_id</th>\n",
       "      <th>username</th>\n",
       "      <th>text</th>\n",
       "    </tr>\n",
       "  </thead>\n",
       "  <tbody>\n",
       "    <tr>\n",
       "      <th>0</th>\n",
       "      <td>1</td>\n",
       "      <td>1</td>\n",
       "      <td>brandtandrea</td>\n",
       "      <td>Mention society tell send professor analysis. ...</td>\n",
       "    </tr>\n",
       "    <tr>\n",
       "      <th>1</th>\n",
       "      <td>2</td>\n",
       "      <td>1</td>\n",
       "      <td>ryanfranco</td>\n",
       "      <td>Foot glass pretty audience hit themselves. Amo...</td>\n",
       "    </tr>\n",
       "    <tr>\n",
       "      <th>2</th>\n",
       "      <td>3</td>\n",
       "      <td>2</td>\n",
       "      <td>lorichen</td>\n",
       "      <td>Listen treat keep worry. Miss husband tax but ...</td>\n",
       "    </tr>\n",
       "    <tr>\n",
       "      <th>3</th>\n",
       "      <td>4</td>\n",
       "      <td>3</td>\n",
       "      <td>johnsonamanda</td>\n",
       "      <td>Finally month interesting blue could nature cu...</td>\n",
       "    </tr>\n",
       "    <tr>\n",
       "      <th>4</th>\n",
       "      <td>5</td>\n",
       "      <td>3</td>\n",
       "      <td>scotttamara</td>\n",
       "      <td>Nation purpose heavy give wait song will. List...</td>\n",
       "    </tr>\n",
       "  </tbody>\n",
       "</table>\n",
       "</div>"
      ],
      "text/plain": [
       "   review_id  book_id       username  \\\n",
       "0          1        1   brandtandrea   \n",
       "1          2        1     ryanfranco   \n",
       "2          3        2       lorichen   \n",
       "3          4        3  johnsonamanda   \n",
       "4          5        3    scotttamara   \n",
       "\n",
       "                                                text  \n",
       "0  Mention society tell send professor analysis. ...  \n",
       "1  Foot glass pretty audience hit themselves. Amo...  \n",
       "2  Listen treat keep worry. Miss husband tax but ...  \n",
       "3  Finally month interesting blue could nature cu...  \n",
       "4  Nation purpose heavy give wait song will. List...  "
      ]
     },
     "execution_count": 18,
     "metadata": {},
     "output_type": "execute_result"
    }
   ],
   "source": [
    "reviews.head()"
   ]
  },
  {
   "cell_type": "code",
   "execution_count": 19,
   "metadata": {
    "scrolled": true
   },
   "outputs": [
    {
     "name": "stdout",
     "output_type": "stream",
     "text": [
      "<class 'pandas.core.frame.DataFrame'>\n",
      "RangeIndex: 2793 entries, 0 to 2792\n",
      "Data columns (total 4 columns):\n",
      " #   Column     Non-Null Count  Dtype \n",
      "---  ------     --------------  ----- \n",
      " 0   review_id  2793 non-null   int64 \n",
      " 1   book_id    2793 non-null   int64 \n",
      " 2   username   2793 non-null   object\n",
      " 3   text       2793 non-null   object\n",
      "dtypes: int64(2), object(2)\n",
      "memory usage: 87.4+ KB\n"
     ]
    }
   ],
   "source": [
    "reviews.info()"
   ]
  },
  {
   "cell_type": "markdown",
   "metadata": {},
   "source": [
    "В таблице 2793 строк, пропусков не обнаружено."
   ]
  },
  {
   "cell_type": "markdown",
   "metadata": {},
   "source": [
    "### Задание 1"
   ]
  },
  {
   "cell_type": "markdown",
   "metadata": {},
   "source": [
    "**Посчитаем, сколько книг вышло после 1 января 2000 года.**"
   ]
  },
  {
   "cell_type": "code",
   "execution_count": 20,
   "metadata": {},
   "outputs": [
    {
     "data": {
      "text/html": [
       "<div>\n",
       "<style scoped>\n",
       "    .dataframe tbody tr th:only-of-type {\n",
       "        vertical-align: middle;\n",
       "    }\n",
       "\n",
       "    .dataframe tbody tr th {\n",
       "        vertical-align: top;\n",
       "    }\n",
       "\n",
       "    .dataframe thead th {\n",
       "        text-align: right;\n",
       "    }\n",
       "</style>\n",
       "<table border=\"1\" class=\"dataframe\">\n",
       "  <thead>\n",
       "    <tr style=\"text-align: right;\">\n",
       "      <th></th>\n",
       "      <th>count</th>\n",
       "    </tr>\n",
       "  </thead>\n",
       "  <tbody>\n",
       "    <tr>\n",
       "      <th>0</th>\n",
       "      <td>821</td>\n",
       "    </tr>\n",
       "  </tbody>\n",
       "</table>\n",
       "</div>"
      ],
      "text/plain": [
       "   count\n",
       "0    821"
      ]
     },
     "execution_count": 20,
     "metadata": {},
     "output_type": "execute_result"
    }
   ],
   "source": [
    "query = '''\n",
    "\n",
    "SELECT COUNT(book_id)\n",
    "FROM books\n",
    "WHERE publication_date >= '2000-01-01';\n",
    "'''\n",
    "\n",
    "books_count = pd.read_sql(query, con = engine)\n",
    "books_count"
   ]
  },
  {
   "cell_type": "markdown",
   "metadata": {},
   "source": [
    "**Вывод**\n",
    "\n",
    "После 1 января 2000 года вышла 821 книга."
   ]
  },
  {
   "cell_type": "markdown",
   "metadata": {},
   "source": [
    "### Задание 2"
   ]
  },
  {
   "cell_type": "markdown",
   "metadata": {},
   "source": [
    "**Для каждой книги посчитаем количество обзоров и среднюю оценку.**"
   ]
  },
  {
   "cell_type": "code",
   "execution_count": 21,
   "metadata": {},
   "outputs": [
    {
     "data": {
      "text/html": [
       "<div>\n",
       "<style scoped>\n",
       "    .dataframe tbody tr th:only-of-type {\n",
       "        vertical-align: middle;\n",
       "    }\n",
       "\n",
       "    .dataframe tbody tr th {\n",
       "        vertical-align: top;\n",
       "    }\n",
       "\n",
       "    .dataframe thead th {\n",
       "        text-align: right;\n",
       "    }\n",
       "</style>\n",
       "<table border=\"1\" class=\"dataframe\">\n",
       "  <thead>\n",
       "    <tr style=\"text-align: right;\">\n",
       "      <th></th>\n",
       "      <th>title</th>\n",
       "      <th>count_review</th>\n",
       "      <th>avg_rating</th>\n",
       "    </tr>\n",
       "  </thead>\n",
       "  <tbody>\n",
       "    <tr>\n",
       "      <th>0</th>\n",
       "      <td>Twilight (Twilight  #1)</td>\n",
       "      <td>7</td>\n",
       "      <td>3.662500</td>\n",
       "    </tr>\n",
       "    <tr>\n",
       "      <th>1</th>\n",
       "      <td>Water for Elephants</td>\n",
       "      <td>6</td>\n",
       "      <td>3.977273</td>\n",
       "    </tr>\n",
       "    <tr>\n",
       "      <th>2</th>\n",
       "      <td>The Glass Castle</td>\n",
       "      <td>6</td>\n",
       "      <td>4.206897</td>\n",
       "    </tr>\n",
       "    <tr>\n",
       "      <th>3</th>\n",
       "      <td>Harry Potter and the Prisoner of Azkaban (Harr...</td>\n",
       "      <td>6</td>\n",
       "      <td>4.414634</td>\n",
       "    </tr>\n",
       "    <tr>\n",
       "      <th>4</th>\n",
       "      <td>The Curious Incident of the Dog in the Night-Time</td>\n",
       "      <td>6</td>\n",
       "      <td>4.081081</td>\n",
       "    </tr>\n",
       "    <tr>\n",
       "      <th>...</th>\n",
       "      <td>...</td>\n",
       "      <td>...</td>\n",
       "      <td>...</td>\n",
       "    </tr>\n",
       "    <tr>\n",
       "      <th>995</th>\n",
       "      <td>Anne Rice's The Vampire Lestat: A Graphic Novel</td>\n",
       "      <td>0</td>\n",
       "      <td>3.666667</td>\n",
       "    </tr>\n",
       "    <tr>\n",
       "      <th>996</th>\n",
       "      <td>The Natural Way to Draw</td>\n",
       "      <td>0</td>\n",
       "      <td>3.000000</td>\n",
       "    </tr>\n",
       "    <tr>\n",
       "      <th>997</th>\n",
       "      <td>The Cat in the Hat and Other Dr. Seuss Favorites</td>\n",
       "      <td>0</td>\n",
       "      <td>5.000000</td>\n",
       "    </tr>\n",
       "    <tr>\n",
       "      <th>998</th>\n",
       "      <td>Essential Tales and Poems</td>\n",
       "      <td>0</td>\n",
       "      <td>4.000000</td>\n",
       "    </tr>\n",
       "    <tr>\n",
       "      <th>999</th>\n",
       "      <td>Disney's Beauty and the Beast (A Little Golden...</td>\n",
       "      <td>0</td>\n",
       "      <td>4.000000</td>\n",
       "    </tr>\n",
       "  </tbody>\n",
       "</table>\n",
       "<p>1000 rows × 3 columns</p>\n",
       "</div>"
      ],
      "text/plain": [
       "                                                 title  count_review  \\\n",
       "0                              Twilight (Twilight  #1)             7   \n",
       "1                                  Water for Elephants             6   \n",
       "2                                     The Glass Castle             6   \n",
       "3    Harry Potter and the Prisoner of Azkaban (Harr...             6   \n",
       "4    The Curious Incident of the Dog in the Night-Time             6   \n",
       "..                                                 ...           ...   \n",
       "995    Anne Rice's The Vampire Lestat: A Graphic Novel             0   \n",
       "996                            The Natural Way to Draw             0   \n",
       "997   The Cat in the Hat and Other Dr. Seuss Favorites             0   \n",
       "998                          Essential Tales and Poems             0   \n",
       "999  Disney's Beauty and the Beast (A Little Golden...             0   \n",
       "\n",
       "     avg_rating  \n",
       "0      3.662500  \n",
       "1      3.977273  \n",
       "2      4.206897  \n",
       "3      4.414634  \n",
       "4      4.081081  \n",
       "..          ...  \n",
       "995    3.666667  \n",
       "996    3.000000  \n",
       "997    5.000000  \n",
       "998    4.000000  \n",
       "999    4.000000  \n",
       "\n",
       "[1000 rows x 3 columns]"
      ]
     },
     "execution_count": 21,
     "metadata": {},
     "output_type": "execute_result"
    }
   ],
   "source": [
    "query = '''\n",
    "SELECT b.title,\n",
    "       COUNT(DISTINCT r.review_id) AS count_review, \n",
    "       AVG(rt.rating) AS avg_rating\n",
    "FROM BOOKS AS b \n",
    "LEFT JOIN ratings AS rt ON rt.book_id = b.book_id \n",
    "LEFT JOIN reviews AS r ON r.book_id = rt.book_id\n",
    "GROUP BY b.book_id\n",
    "ORDER BY count_review DESC;\n",
    "'''\n",
    "\n",
    "rev_rat_count = pd.read_sql(query, con = engine)\n",
    "rev_rat_count"
   ]
  },
  {
   "cell_type": "markdown",
   "metadata": {},
   "source": [
    "**Вывод**\n",
    "\n",
    "Лидер среди книг по количеству обзоров - Twilight. У книги - 7 обзоров."
   ]
  },
  {
   "cell_type": "markdown",
   "metadata": {},
   "source": [
    "### Задание 3"
   ]
  },
  {
   "cell_type": "markdown",
   "metadata": {},
   "source": [
    "**Определим издательство, которое выпустило наибольшее число книг толще 50 страниц — так мы исключим из анализа брошюры.**"
   ]
  },
  {
   "cell_type": "code",
   "execution_count": 22,
   "metadata": {},
   "outputs": [
    {
     "data": {
      "text/html": [
       "<div>\n",
       "<style scoped>\n",
       "    .dataframe tbody tr th:only-of-type {\n",
       "        vertical-align: middle;\n",
       "    }\n",
       "\n",
       "    .dataframe tbody tr th {\n",
       "        vertical-align: top;\n",
       "    }\n",
       "\n",
       "    .dataframe thead th {\n",
       "        text-align: right;\n",
       "    }\n",
       "</style>\n",
       "<table border=\"1\" class=\"dataframe\">\n",
       "  <thead>\n",
       "    <tr style=\"text-align: right;\">\n",
       "      <th></th>\n",
       "      <th>publisher</th>\n",
       "      <th>count_book</th>\n",
       "    </tr>\n",
       "  </thead>\n",
       "  <tbody>\n",
       "    <tr>\n",
       "      <th>0</th>\n",
       "      <td>Penguin Books</td>\n",
       "      <td>42</td>\n",
       "    </tr>\n",
       "  </tbody>\n",
       "</table>\n",
       "</div>"
      ],
      "text/plain": [
       "       publisher  count_book\n",
       "0  Penguin Books          42"
      ]
     },
     "execution_count": 22,
     "metadata": {},
     "output_type": "execute_result"
    }
   ],
   "source": [
    "query = '''\n",
    "SELECT p.publisher,\n",
    "       COUNT(b.book_id) AS count_book\n",
    "FROM publishers AS p\n",
    "INNER JOIN books AS b ON p.publisher_id = b.publisher_id\n",
    "WHERE b.num_pages > 50\n",
    "GROUP BY p.publisher_id\n",
    "ORDER BY count_book DESC\n",
    "LIMIT 1;\n",
    "'''\n",
    "\n",
    "name_publisher = pd.io.sql.read_sql(query, con = engine)\n",
    "name_publisher"
   ]
  },
  {
   "cell_type": "markdown",
   "metadata": {},
   "source": [
    "**Вывод**\n",
    "\n",
    "Больше всего книг выпустило издательство Penguin Books (42 книги)."
   ]
  },
  {
   "cell_type": "markdown",
   "metadata": {},
   "source": [
    "### Задание 4"
   ]
  },
  {
   "cell_type": "markdown",
   "metadata": {},
   "source": [
    "**Определим автора с самой высокой средней оценкой книг — учитываем только книги с 50 и более оценками.**"
   ]
  },
  {
   "cell_type": "code",
   "execution_count": 23,
   "metadata": {},
   "outputs": [
    {
     "data": {
      "text/html": [
       "<div>\n",
       "<style scoped>\n",
       "    .dataframe tbody tr th:only-of-type {\n",
       "        vertical-align: middle;\n",
       "    }\n",
       "\n",
       "    .dataframe tbody tr th {\n",
       "        vertical-align: top;\n",
       "    }\n",
       "\n",
       "    .dataframe thead th {\n",
       "        text-align: right;\n",
       "    }\n",
       "</style>\n",
       "<table border=\"1\" class=\"dataframe\">\n",
       "  <thead>\n",
       "    <tr style=\"text-align: right;\">\n",
       "      <th></th>\n",
       "      <th>author</th>\n",
       "      <th>avg_rating</th>\n",
       "    </tr>\n",
       "  </thead>\n",
       "  <tbody>\n",
       "    <tr>\n",
       "      <th>0</th>\n",
       "      <td>J.K. Rowling/Mary GrandPré</td>\n",
       "      <td>4.287097</td>\n",
       "    </tr>\n",
       "  </tbody>\n",
       "</table>\n",
       "</div>"
      ],
      "text/plain": [
       "                       author  avg_rating\n",
       "0  J.K. Rowling/Mary GrandPré    4.287097"
      ]
     },
     "execution_count": 23,
     "metadata": {},
     "output_type": "execute_result"
    }
   ],
   "source": [
    "query = '''\n",
    "SELECT a.author,\n",
    "       AVG(rt.rating) AS avg_rating\n",
    "FROM authors AS a\n",
    "INNER JOIN books AS b ON a.author_id = b.author_id\n",
    "INNER JOIN ratings AS rt ON b.book_id = rt.book_id\n",
    "WHERE b.book_id IN\n",
    "    (SELECT b.book_id\n",
    "     FROM books AS b\n",
    "     JOIN ratings AS rt ON b.book_id = rt.book_id\n",
    "     GROUP BY b.book_id\n",
    "     HAVING COUNT(rt.rating_id) >= 50)\n",
    "GROUP BY a.author\n",
    "ORDER BY avg_rating DESC\n",
    "LIMIT 1;\n",
    "'''\n",
    "\n",
    "author_high = pd.io.sql.read_sql(query, con = engine)\n",
    "author_high"
   ]
  },
  {
   "cell_type": "markdown",
   "metadata": {},
   "source": [
    "**Вывод**\n",
    "\n",
    "Автор с самой высокой средней оценкой книг - J.K.Rowling/Mary GrandPre."
   ]
  },
  {
   "cell_type": "markdown",
   "metadata": {},
   "source": [
    "### Задание 5"
   ]
  },
  {
   "cell_type": "markdown",
   "metadata": {},
   "source": [
    "**Посчитаем среднее количество обзоров от пользователей, которые поставили больше 48 оценок.**"
   ]
  },
  {
   "cell_type": "code",
   "execution_count": 24,
   "metadata": {},
   "outputs": [
    {
     "data": {
      "text/html": [
       "<div>\n",
       "<style scoped>\n",
       "    .dataframe tbody tr th:only-of-type {\n",
       "        vertical-align: middle;\n",
       "    }\n",
       "\n",
       "    .dataframe tbody tr th {\n",
       "        vertical-align: top;\n",
       "    }\n",
       "\n",
       "    .dataframe thead th {\n",
       "        text-align: right;\n",
       "    }\n",
       "</style>\n",
       "<table border=\"1\" class=\"dataframe\">\n",
       "  <thead>\n",
       "    <tr style=\"text-align: right;\">\n",
       "      <th></th>\n",
       "      <th>avg_review</th>\n",
       "    </tr>\n",
       "  </thead>\n",
       "  <tbody>\n",
       "    <tr>\n",
       "      <th>0</th>\n",
       "      <td>24.0</td>\n",
       "    </tr>\n",
       "  </tbody>\n",
       "</table>\n",
       "</div>"
      ],
      "text/plain": [
       "   avg_review\n",
       "0        24.0"
      ]
     },
     "execution_count": 24,
     "metadata": {},
     "output_type": "execute_result"
    }
   ],
   "source": [
    "query = '''  \n",
    "SELECT AVG(r.count_review) AS avg_review\n",
    "FROM \n",
    "    (SELECT COUNT(review_id) AS count_review\n",
    "     FROM reviews\n",
    "     WHERE username IN \n",
    "                   (SELECT username\n",
    "                    FROM ratings\n",
    "                    GROUP BY username\n",
    "                    HAVING COUNT(rating_id) > 48)\n",
    "     GROUP BY username) AS r;\n",
    "'''\n",
    "avg_count_rev = pd.io.sql.read_sql(query, con = engine)\n",
    "avg_count_rev"
   ]
  },
  {
   "cell_type": "markdown",
   "metadata": {},
   "source": [
    "**Вывод**\n",
    "\n",
    "Пользователи, оставившие более 48 оценок, в среднем написали - 24 обзора."
   ]
  },
  {
   "cell_type": "markdown",
   "metadata": {},
   "source": [
    "## Общий вывод"
   ]
  },
  {
   "cell_type": "markdown",
   "metadata": {},
   "source": [
    "Цель — проанализировать базу данных. В ней — информация о книгах, издательствах, авторах, а также пользовательские обзоры книг. Эти данные помогут сформулировать ценностное предложение для нового продукта.\n",
    "\n",
    "Выполненные задачи:\n",
    "- исследовать таблицы;\n",
    "- выполнить задания;\n",
    "- сформулировать выводы.\n",
    "\n",
    "Было выявлено:\n",
    "- После 1 января 2000 года вышла 821 книга.\n",
    "- Лидер среди книг по количеству обзоров - Twilight. У книги - 7 обзоров.\n",
    "- Больше всего книг выпустило издательство Penguin Books (42 книги).\n",
    "- Автор с самой высокой средней оценкой книг - J.K.Rowling/Mary GrandPre.\n",
    "- Самые активные пользователи (оставившие более 48 оценок) в среднем написали - 24 обзора.\n",
    "\n",
    "**Рекомендации:**\n",
    "- Стоит вкладываться в книги, которые лидируют по количеству обзоров, то есть анализировать тенденции и обсуждения на форумах любителей книг и выбирать для сервиса наиболее обсуждаемые книги. Например, книги серии \"Сумерки\" - если настолько обсуждаема первая книга, то остальные книги также станут обсуждаемыми.\n",
    "- Стоит обратить внимание на издательство Penguin Books, поскольку оно лидирует по выпуску книг.\n",
    "- Стоит обратить внимание на автора J.K.Rowling и следить за выпуском новых книг, поскольку данный автор имеет высокую среднюю оценку, а значит остальные книги читатели будут также стремиться оценить."
   ]
  }
 ],
 "metadata": {
  "ExecuteTimeLog": [
   {
    "duration": 509,
    "start_time": "2023-07-23T11:36:02.911Z"
   },
   {
    "duration": 3,
    "start_time": "2023-07-23T11:47:10.102Z"
   },
   {
    "duration": 34085,
    "start_time": "2023-07-23T11:47:13.025Z"
   },
   {
    "duration": 303,
    "start_time": "2023-07-23T11:48:13.137Z"
   },
   {
    "duration": 217,
    "start_time": "2023-07-23T11:48:19.134Z"
   },
   {
    "duration": 16,
    "start_time": "2023-07-23T11:48:21.651Z"
   },
   {
    "duration": 109,
    "start_time": "2023-07-23T11:48:24.518Z"
   },
   {
    "duration": 10,
    "start_time": "2023-07-23T11:48:26.606Z"
   },
   {
    "duration": 91,
    "start_time": "2023-07-23T11:48:45.602Z"
   },
   {
    "duration": 11,
    "start_time": "2023-07-23T11:48:47.749Z"
   },
   {
    "duration": 143,
    "start_time": "2023-07-23T11:48:50.690Z"
   },
   {
    "duration": 7,
    "start_time": "2023-07-23T11:48:53.510Z"
   },
   {
    "duration": 136,
    "start_time": "2023-07-23T11:48:59.235Z"
   },
   {
    "duration": 10,
    "start_time": "2023-07-23T11:49:01.479Z"
   },
   {
    "duration": 20,
    "start_time": "2023-07-23T12:31:33.068Z"
   },
   {
    "duration": 12,
    "start_time": "2023-07-23T12:39:30.511Z"
   },
   {
    "duration": 10,
    "start_time": "2023-07-23T12:41:39.714Z"
   },
   {
    "duration": 19,
    "start_time": "2023-07-23T12:44:30.974Z"
   },
   {
    "duration": 19,
    "start_time": "2023-07-23T12:45:55.845Z"
   },
   {
    "duration": 21,
    "start_time": "2023-07-23T12:45:59.649Z"
   },
   {
    "duration": 13,
    "start_time": "2023-07-23T12:47:00.978Z"
   },
   {
    "duration": 101,
    "start_time": "2023-07-23T13:04:15.443Z"
   },
   {
    "duration": 90,
    "start_time": "2023-07-23T13:04:34.042Z"
   },
   {
    "duration": 81,
    "start_time": "2023-07-23T13:04:47.976Z"
   },
   {
    "duration": 87,
    "start_time": "2023-07-23T13:08:16.456Z"
   },
   {
    "duration": 94,
    "start_time": "2023-07-23T13:08:19.121Z"
   },
   {
    "duration": 73,
    "start_time": "2023-07-23T13:11:56.376Z"
   },
   {
    "duration": 130,
    "start_time": "2023-07-23T13:25:04.001Z"
   },
   {
    "duration": 161,
    "start_time": "2023-07-23T13:29:06.754Z"
   },
   {
    "duration": 122,
    "start_time": "2023-07-23T13:32:11.900Z"
   },
   {
    "duration": 136,
    "start_time": "2023-07-23T13:32:46.197Z"
   },
   {
    "duration": 90,
    "start_time": "2023-07-23T13:42:31.274Z"
   },
   {
    "duration": 113,
    "start_time": "2023-07-23T13:44:03.444Z"
   },
   {
    "duration": 104,
    "start_time": "2023-07-23T13:47:47.936Z"
   },
   {
    "duration": 109,
    "start_time": "2023-07-23T13:47:51.440Z"
   },
   {
    "duration": 108,
    "start_time": "2023-07-23T13:54:33.658Z"
   },
   {
    "duration": 136,
    "start_time": "2023-07-23T13:58:10.854Z"
   },
   {
    "duration": 124,
    "start_time": "2023-07-23T13:58:25.721Z"
   },
   {
    "duration": 119,
    "start_time": "2023-07-23T14:07:27.212Z"
   },
   {
    "duration": 564,
    "start_time": "2023-07-23T14:07:33.017Z"
   },
   {
    "duration": 111,
    "start_time": "2023-07-23T14:08:37.023Z"
   },
   {
    "duration": 134,
    "start_time": "2023-07-23T14:13:48.762Z"
   },
   {
    "duration": 540,
    "start_time": "2023-07-23T14:27:16.482Z"
   },
   {
    "duration": 3,
    "start_time": "2023-07-23T14:27:17.024Z"
   },
   {
    "duration": 17491,
    "start_time": "2023-07-23T14:27:17.029Z"
   },
   {
    "duration": 313,
    "start_time": "2023-07-23T14:27:34.522Z"
   },
   {
    "duration": 219,
    "start_time": "2023-07-23T14:27:34.838Z"
   },
   {
    "duration": 18,
    "start_time": "2023-07-23T14:27:35.059Z"
   },
   {
    "duration": 32,
    "start_time": "2023-07-23T14:27:35.078Z"
   },
   {
    "duration": 99,
    "start_time": "2023-07-23T14:27:35.111Z"
   },
   {
    "duration": 9,
    "start_time": "2023-07-23T14:27:35.212Z"
   },
   {
    "duration": 15,
    "start_time": "2023-07-23T14:27:35.223Z"
   },
   {
    "duration": 91,
    "start_time": "2023-07-23T14:27:35.240Z"
   },
   {
    "duration": 8,
    "start_time": "2023-07-23T14:27:35.333Z"
   },
   {
    "duration": 65,
    "start_time": "2023-07-23T14:27:35.343Z"
   },
   {
    "duration": 133,
    "start_time": "2023-07-23T14:27:35.412Z"
   },
   {
    "duration": 10,
    "start_time": "2023-07-23T14:27:35.547Z"
   },
   {
    "duration": 49,
    "start_time": "2023-07-23T14:27:35.563Z"
   },
   {
    "duration": 115,
    "start_time": "2023-07-23T14:27:35.614Z"
   },
   {
    "duration": 11,
    "start_time": "2023-07-23T14:27:35.731Z"
   },
   {
    "duration": 18,
    "start_time": "2023-07-23T14:27:35.744Z"
   },
   {
    "duration": 125,
    "start_time": "2023-07-23T14:27:35.767Z"
   },
   {
    "duration": 114,
    "start_time": "2023-07-23T14:27:35.894Z"
   },
   {
    "duration": 96,
    "start_time": "2023-07-23T14:27:36.009Z"
   },
   {
    "duration": 91,
    "start_time": "2023-07-23T14:27:36.107Z"
   },
   {
    "duration": 98,
    "start_time": "2023-07-23T14:27:36.200Z"
   },
   {
    "duration": 96,
    "start_time": "2023-07-23T14:27:36.300Z"
   },
   {
    "duration": 95,
    "start_time": "2023-07-23T14:28:49.996Z"
   },
   {
    "duration": 99,
    "start_time": "2023-07-23T14:29:17.234Z"
   },
   {
    "duration": 102,
    "start_time": "2023-07-23T14:29:23.585Z"
   },
   {
    "duration": 99,
    "start_time": "2023-07-23T14:29:46.036Z"
   },
   {
    "duration": 112,
    "start_time": "2023-07-23T14:29:58.526Z"
   },
   {
    "duration": 110,
    "start_time": "2023-07-23T14:30:49.518Z"
   },
   {
    "duration": 91,
    "start_time": "2023-07-23T14:33:22.148Z"
   },
   {
    "duration": 532,
    "start_time": "2023-07-23T14:33:35.580Z"
   },
   {
    "duration": 3,
    "start_time": "2023-07-23T14:33:36.114Z"
   },
   {
    "duration": 16166,
    "start_time": "2023-07-23T14:33:36.119Z"
   },
   {
    "duration": 329,
    "start_time": "2023-07-23T14:33:52.287Z"
   },
   {
    "duration": 220,
    "start_time": "2023-07-23T14:33:52.619Z"
   },
   {
    "duration": 11,
    "start_time": "2023-07-23T14:33:52.841Z"
   },
   {
    "duration": 47,
    "start_time": "2023-07-23T14:33:52.854Z"
   },
   {
    "duration": 124,
    "start_time": "2023-07-23T14:33:52.903Z"
   },
   {
    "duration": 7,
    "start_time": "2023-07-23T14:33:53.029Z"
   },
   {
    "duration": 26,
    "start_time": "2023-07-23T14:33:53.037Z"
   },
   {
    "duration": 121,
    "start_time": "2023-07-23T14:33:53.068Z"
   },
   {
    "duration": 7,
    "start_time": "2023-07-23T14:33:53.191Z"
   },
   {
    "duration": 27,
    "start_time": "2023-07-23T14:33:53.199Z"
   },
   {
    "duration": 137,
    "start_time": "2023-07-23T14:33:53.230Z"
   },
   {
    "duration": 10,
    "start_time": "2023-07-23T14:33:53.369Z"
   },
   {
    "duration": 20,
    "start_time": "2023-07-23T14:33:53.383Z"
   },
   {
    "duration": 115,
    "start_time": "2023-07-23T14:33:53.405Z"
   },
   {
    "duration": 8,
    "start_time": "2023-07-23T14:33:53.522Z"
   },
   {
    "duration": 16,
    "start_time": "2023-07-23T14:33:53.532Z"
   },
   {
    "duration": 128,
    "start_time": "2023-07-23T14:33:53.550Z"
   },
   {
    "duration": 108,
    "start_time": "2023-07-23T14:33:53.681Z"
   },
   {
    "duration": 87,
    "start_time": "2023-07-23T14:33:53.791Z"
   },
   {
    "duration": 104,
    "start_time": "2023-07-23T14:33:53.879Z"
   },
   {
    "duration": 85,
    "start_time": "2023-07-23T14:33:53.985Z"
   },
   {
    "duration": 84,
    "start_time": "2023-07-23T14:36:12.675Z"
   },
   {
    "duration": 93,
    "start_time": "2023-07-23T14:36:38.026Z"
   },
   {
    "duration": 136,
    "start_time": "2023-07-23T14:36:59.691Z"
   },
   {
    "duration": 108,
    "start_time": "2023-07-23T14:37:04.236Z"
   },
   {
    "duration": 98,
    "start_time": "2023-07-23T14:37:07.721Z"
   },
   {
    "duration": 87,
    "start_time": "2023-07-23T14:37:12.877Z"
   },
   {
    "duration": 104,
    "start_time": "2023-07-23T14:38:01.494Z"
   },
   {
    "duration": 98,
    "start_time": "2023-07-23T14:39:24.251Z"
   },
   {
    "duration": 97,
    "start_time": "2023-07-23T14:39:30.746Z"
   },
   {
    "duration": 101,
    "start_time": "2023-07-23T14:39:36.090Z"
   },
   {
    "duration": 103,
    "start_time": "2023-07-23T14:39:44.524Z"
   },
   {
    "duration": 421,
    "start_time": "2023-07-23T19:21:21.749Z"
   },
   {
    "duration": 3,
    "start_time": "2023-07-23T19:21:22.171Z"
   },
   {
    "duration": 10067,
    "start_time": "2023-07-23T19:21:22.176Z"
   },
   {
    "duration": 241,
    "start_time": "2023-07-23T19:21:32.244Z"
   },
   {
    "duration": 190,
    "start_time": "2023-07-23T19:21:32.487Z"
   },
   {
    "duration": 7,
    "start_time": "2023-07-23T19:21:32.679Z"
   },
   {
    "duration": 21,
    "start_time": "2023-07-23T19:21:32.688Z"
   },
   {
    "duration": 86,
    "start_time": "2023-07-23T19:21:32.710Z"
   },
   {
    "duration": 8,
    "start_time": "2023-07-23T19:21:32.797Z"
   },
   {
    "duration": 14,
    "start_time": "2023-07-23T19:21:32.808Z"
   },
   {
    "duration": 74,
    "start_time": "2023-07-23T19:21:32.823Z"
   },
   {
    "duration": 6,
    "start_time": "2023-07-23T19:21:32.898Z"
   },
   {
    "duration": 28,
    "start_time": "2023-07-23T19:21:32.905Z"
   },
   {
    "duration": 109,
    "start_time": "2023-07-23T19:21:32.934Z"
   },
   {
    "duration": 8,
    "start_time": "2023-07-23T19:21:33.045Z"
   },
   {
    "duration": 16,
    "start_time": "2023-07-23T19:21:33.054Z"
   },
   {
    "duration": 87,
    "start_time": "2023-07-23T19:21:33.072Z"
   },
   {
    "duration": 6,
    "start_time": "2023-07-23T19:21:33.161Z"
   },
   {
    "duration": 18,
    "start_time": "2023-07-23T19:21:33.168Z"
   },
   {
    "duration": 75,
    "start_time": "2023-07-23T19:21:33.188Z"
   },
   {
    "duration": 96,
    "start_time": "2023-07-23T19:21:33.265Z"
   },
   {
    "duration": 74,
    "start_time": "2023-07-23T19:21:33.363Z"
   },
   {
    "duration": 82,
    "start_time": "2023-07-23T19:21:33.439Z"
   },
   {
    "duration": 76,
    "start_time": "2023-07-23T19:21:33.522Z"
   },
   {
    "duration": 567,
    "start_time": "2023-07-24T16:23:23.994Z"
   },
   {
    "duration": 5,
    "start_time": "2023-07-24T16:23:24.563Z"
   },
   {
    "duration": 13971,
    "start_time": "2023-07-24T16:23:24.574Z"
   },
   {
    "duration": 132,
    "start_time": "2023-07-24T16:23:38.547Z"
   },
   {
    "duration": 68,
    "start_time": "2023-07-24T16:23:38.682Z"
   },
   {
    "duration": 8,
    "start_time": "2023-07-24T16:23:38.752Z"
   },
   {
    "duration": 21,
    "start_time": "2023-07-24T16:23:38.762Z"
   },
   {
    "duration": 15,
    "start_time": "2023-07-24T16:23:38.785Z"
   },
   {
    "duration": 7,
    "start_time": "2023-07-24T16:23:38.802Z"
   },
   {
    "duration": 22,
    "start_time": "2023-07-24T16:23:38.810Z"
   },
   {
    "duration": 13,
    "start_time": "2023-07-24T16:23:38.834Z"
   },
   {
    "duration": 8,
    "start_time": "2023-07-24T16:23:38.849Z"
   },
   {
    "duration": 27,
    "start_time": "2023-07-24T16:23:38.858Z"
   },
   {
    "duration": 40,
    "start_time": "2023-07-24T16:23:38.889Z"
   },
   {
    "duration": 8,
    "start_time": "2023-07-24T16:23:38.931Z"
   },
   {
    "duration": 20,
    "start_time": "2023-07-24T16:23:38.941Z"
   },
   {
    "duration": 43,
    "start_time": "2023-07-24T16:23:38.963Z"
   },
   {
    "duration": 9,
    "start_time": "2023-07-24T16:23:39.008Z"
   },
   {
    "duration": 17,
    "start_time": "2023-07-24T16:23:39.018Z"
   },
   {
    "duration": 27,
    "start_time": "2023-07-24T16:23:39.036Z"
   },
   {
    "duration": 44,
    "start_time": "2023-07-24T16:23:39.065Z"
   },
   {
    "duration": 12,
    "start_time": "2023-07-24T16:23:39.111Z"
   },
   {
    "duration": 17,
    "start_time": "2023-07-24T16:23:39.125Z"
   },
   {
    "duration": 15,
    "start_time": "2023-07-24T16:23:39.144Z"
   }
  ],
  "kernelspec": {
   "display_name": "Python 3 (ipykernel)",
   "language": "python",
   "name": "python3"
  },
  "language_info": {
   "codemirror_mode": {
    "name": "ipython",
    "version": 3
   },
   "file_extension": ".py",
   "mimetype": "text/x-python",
   "name": "python",
   "nbconvert_exporter": "python",
   "pygments_lexer": "ipython3",
   "version": "3.9.13"
  },
  "toc": {
   "base_numbering": 1,
   "nav_menu": {},
   "number_sections": true,
   "sideBar": true,
   "skip_h1_title": true,
   "title_cell": "Table of Contents",
   "title_sidebar": "Contents",
   "toc_cell": false,
   "toc_position": {},
   "toc_section_display": true,
   "toc_window_display": true
  }
 },
 "nbformat": 4,
 "nbformat_minor": 2
}
